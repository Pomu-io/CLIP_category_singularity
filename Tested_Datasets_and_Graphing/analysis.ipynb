{
 "cells": [
  {
   "cell_type": "code",
   "execution_count": 1,
   "metadata": {},
   "outputs": [],
   "source": [
    "# !pip install pandas\n",
    "# !pip install matplotlib"
   ]
  },
  {
   "cell_type": "code",
   "execution_count": 2,
   "metadata": {},
   "outputs": [],
   "source": [
    "import pandas as pd\n",
    "import matplotlib.pyplot as plt\n",
    "import matplotlib.patches as mpatches"
   ]
  },
  {
   "cell_type": "code",
   "execution_count": 3,
   "metadata": {},
   "outputs": [],
   "source": [
    "def dict_size(dict):\n",
    "    total_count = sum(len(values) for values in dict.values())\n",
    "    print(total_count)"
   ]
  },
  {
   "cell_type": "markdown",
   "metadata": {},
   "source": [
    "# Accuracy Functions"
   ]
  },
  {
   "cell_type": "code",
   "execution_count": 4,
   "metadata": {},
   "outputs": [],
   "source": [
    "def CDcheck_accuracy(csv_path, dictionary):\n",
    "\n",
    "    normalized_dict = {key.lower(): [value.lower() for value in values] for key, values in dictionary.items()}\n",
    "\n",
    "    # Create a reverse lookup dictionary\n",
    "    reverse_dict = {}\n",
    "    for key, values in normalized_dict.items():\n",
    "        for value in values:\n",
    "            reverse_dict[value] = key  # Map all variations to the primary key\n",
    "\n",
    "    data = pd.read_csv(csv_path, header=None, names=['file_path', 'label'])\n",
    "\n",
    "    data['label'] = data['label'].str.strip().str.lower()\n",
    "\n",
    "    count = 0\n",
    "    total = 0\n",
    "\n",
    "    for index, row in data.iterrows():\n",
    "\n",
    "        path_parts = row['file_path'].split('/')\n",
    "        if len(path_parts) > 2:\n",
    "            if any(char.isupper() for char in path_parts[-1]):\n",
    "                name = 'cat'\n",
    "            else:\n",
    "                name = 'dog'\n",
    "\n",
    "            # Find the primary key for the label using the reverse lookup dictionary\n",
    "            primary_key = reverse_dict.get(row['label'], None)\n",
    "\n",
    "            if primary_key and name in normalized_dict[primary_key]:\n",
    "                count += 1\n",
    "        total += 1\n",
    "\n",
    "    accuracy = count / total if total > 0 else 0\n",
    "    return round(accuracy * 100, 2)"
   ]
  },
  {
   "cell_type": "code",
   "execution_count": 5,
   "metadata": {},
   "outputs": [],
   "source": [
    "def aObase_accuracy(csv_path):\n",
    "\n",
    "    data = pd.read_csv(csv_path, header=None, names=['file_path', 'label'])\n",
    "\n",
    "    # Strip and convert labels to lowercase\n",
    "    data['label'] = data['label'].str.strip().str.lower()\n",
    "\n",
    "    count = 0\n",
    "    total = 0\n",
    "\n",
    "    for index, row in data.iterrows():\n",
    "\n",
    "        path_parts = row['file_path'].split('/')\n",
    "        if len(path_parts) > 2:\n",
    "            vehicle_name = path_parts[-2].strip().lower()  \n",
    "\n",
    "            # Check if the label and vehicle name match in the dictionary\n",
    "            if row['label'] == vehicle_name:\n",
    "                count += 1\n",
    "        total += 1\n",
    "\n",
    "    accuracy = count / total if total > 0 else 0\n",
    "    return round(accuracy * 100, 2)"
   ]
  },
  {
   "cell_type": "code",
   "execution_count": 6,
   "metadata": {},
   "outputs": [],
   "source": [
    "def card_accuracy(csv_path, acc_dict):\n",
    "    data = pd.read_csv(csv_path, header=None, names=['file_path', 'label'])\n",
    "\n",
    "    # Normalize labels\n",
    "    data['label'] = data['label'].str.strip().str.lower()\n",
    "\n",
    "    # Normalize the dictionary keys and values\n",
    "    normalized_dict = {key.lower(): [v.lower() for v in values] for key, values in acc_dict.items()}\n",
    "\n",
    "    count = 0\n",
    "    total = 0\n",
    "\n",
    "    for index, row in data.iterrows():\n",
    "        path_parts = row['file_path'].split('/')\n",
    "\n",
    "        if len(path_parts) > 2:\n",
    "            vehicle_key = path_parts[-2].strip().lower()  # Extract key from [-2]\n",
    "            label = row['label']\n",
    "\n",
    "            # Find a matching key in the dictionary\n",
    "            matched_key = next((key for key in normalized_dict if key in vehicle_key), None)\n",
    "\n",
    "            if matched_key:\n",
    "                # Check if the label matches any of the values for the matched key\n",
    "                if any(value in label for value in normalized_dict[matched_key]):\n",
    "                    count += 1\n",
    "        total += 1\n",
    "\n",
    "    accuracy = count / total if total > 0 else 0\n",
    "    return round(accuracy * 100, 2)\n"
   ]
  },
  {
   "cell_type": "code",
   "execution_count": 7,
   "metadata": {},
   "outputs": [],
   "source": [
    "def aOcheck_accuracy(csv_path, dictionary):\n",
    "\n",
    "    normalized_dict = {key.lower(): [value.lower() for value in values] for key, values in dictionary.items()}\n",
    "\n",
    "    # Create a reverse lookup dictionary\n",
    "    reverse_dict = {}\n",
    "    for key, values in normalized_dict.items():\n",
    "        for value in values:\n",
    "            reverse_dict[value] = key  # Map all variations to the primary key\n",
    "\n",
    "    data = pd.read_csv(csv_path, header=None, names=['file_path', 'label'])\n",
    "\n",
    "    data['label'] = data['label'].str.strip().str.lower()\n",
    "\n",
    "    count = 0\n",
    "    total = 0\n",
    "\n",
    "    for index, row in data.iterrows():\n",
    "\n",
    "        path_parts = row['file_path'].split('/')\n",
    "        if len(path_parts) > 2:\n",
    "            name = path_parts[-2].strip().lower()  # Normalize name\n",
    "\n",
    "            # Find the primary key for the label using the reverse lookup dictionary\n",
    "            primary_key = reverse_dict.get(row['label'], None)\n",
    "\n",
    "            if primary_key and name in normalized_dict[primary_key]:\n",
    "                count += 1\n",
    "        total += 1\n",
    "\n",
    "    accuracy = count / total if total > 0 else 0\n",
    "\n",
    "    print(round(accuracy * 100, 2))\n",
    "    return round(accuracy * 100, 2)"
   ]
  },
  {
   "cell_type": "code",
   "execution_count": 8,
   "metadata": {},
   "outputs": [],
   "source": [
    "def flowers_accuracy(csv_path, flowers_dict):\n",
    "    # Reverse the dictionary to have flower names as keys\n",
    "    reversed_dict = {}\n",
    "    for key, values in flowers_dict.items():\n",
    "        for value in values:\n",
    "            reversed_dict[value.strip().lower()] = key  # Ensure the key is normalized\n",
    "\n",
    "    # Read the CSV file (pandas is used for ease of handling CSV data)\n",
    "    data = pd.read_csv(csv_path, header=None, names=['file_path', 'label'])\n",
    "\n",
    "    # Clean the labels to be lowercase and strip any whitespace\n",
    "    data['label'] = data['label'].str.strip().str.lower()\n",
    "\n",
    "    count = 0\n",
    "    total = 0\n",
    "\n",
    "    # Loop through each row in the data\n",
    "    for index, row in data.iterrows():\n",
    "        # Extract the flower name from the file path\n",
    "        path_parts = row['file_path'].split('/')\n",
    "        if len(path_parts) > 2:\n",
    "            name = path_parts[-1][:-10].strip().lower()  # Normalize name\n",
    "\n",
    "\n",
    "            # Find the primary key for the label using the reverse lookup dictionary\n",
    "            primary_key = reversed_dict.get(row['label'], None)\n",
    "\n",
    "            if primary_key and name == primary_key:  # Check if the normalized names match\n",
    "                count += 1\n",
    "            \n",
    "        total += 1\n",
    "\n",
    "    accuracy = count / total if total > 0 else 0\n",
    "\n",
    "    print(round(accuracy * 100, 2))\n",
    "    return round(accuracy * 100, 2)\n"
   ]
  },
  {
   "cell_type": "markdown",
   "metadata": {},
   "source": [
    "# Dictionaries"
   ]
  },
  {
   "cell_type": "markdown",
   "metadata": {},
   "source": [
    "## Animal 80"
   ]
  },
  {
   "cell_type": "code",
   "execution_count": 9,
   "metadata": {},
   "outputs": [],
   "source": [
    "a80 = {\n",
    "    \"Bear\": [\"Bear\"],\n",
    "    \"Brown Bear\": [\"Brown Bear\"],\n",
    "    \"Bull\": [\"Bull\"],\n",
    "    \"Butterfly\": [\"Butterfly\"],\n",
    "    \"Camel\": [\"Camel\"],\n",
    "    \"Canary\": [\"Canary\"],\n",
    "    \"Caterpillar\": [\"Caterpillar\"],\n",
    "    \"Cattle\": [\"Cattle\"],\n",
    "    \"Centipede\": [\"Centipede\"],\n",
    "    \"Cheetah\": [\"Cheetah\"],\n",
    "    \"Chicken\": [\"Chicken\"],\n",
    "    \"Crab\": [\"Crab\"],\n",
    "    \"Crocodile\": [\"Crocodile\"],\n",
    "    \"Deer\": [\"Deer\"],\n",
    "    \"Duck\": [\"Duck\"],\n",
    "    \"Eagle\": [\"Eagle\"],\n",
    "    \"Elephant\": [\"Elephant\"],\n",
    "    \"Fish\": [\"Fish\"],\n",
    "    \"Fox\": [\"Fox\"],\n",
    "    \"Frog\": [\"Frog\"],\n",
    "    \"Giraffe\": [\"Giraffe\"],\n",
    "    \"Goat\": [\"Goat\"],\n",
    "    \"Goldfish\": [\"Goldfish\"],\n",
    "    \"Goose\": [\"Goose\"],\n",
    "    \"Hamster\": [\"Hamster\"],\n",
    "    \"Harbor Seal\": [\"Harbor Seal\"],\n",
    "    \"Hedgehog\": [\"Hedgehog\"],\n",
    "    \"Hippopotamus\": [\"Hippopotamus\"],\n",
    "    \"Horse\": [\"Horse\"],\n",
    "    \"Jaguar\": [\"Jaguar\"],\n",
    "    \"Jellyfish\": [\"Jellyfish\"],\n",
    "    \"Kangaroo\": [\"Kangaroo\"],\n",
    "    \"Koala\": [\"Koala\"],\n",
    "    \"Ladybug\": [\"Ladybug\"],\n",
    "    \"Leopard\": [\"Leopard\"],\n",
    "    \"Lion\": [\"Lion\"],\n",
    "    \"Lizard\": [\"Lizard\"],\n",
    "    \"Lynx\": [\"Lynx\"],\n",
    "    \"Magpie\": [\"Magpie\"],\n",
    "    \"Monkey\": [\"Monkey\"],\n",
    "    \"Moths and butterflies\": [\"Moths and butterflies\"],\n",
    "    \"Mouse\": [\"Mouse\"],\n",
    "    \"Mule\": [\"Mule\"],\n",
    "    \"Ostrich\": [\"Ostrich\"],\n",
    "    \"Otter\": [\"Otter\"],\n",
    "    \"Owl\": [\"Owl\"],\n",
    "    \"Panda\": [\"Panda\"],\n",
    "    \"Parrot\": [\"Parrot\"],\n",
    "    \"Penguin\": [\"Penguin\"],\n",
    "    \"Pig\": [\"Pig\"],\n",
    "    \"Polar Bear\": [\"Polar Bear\"],\n",
    "    \"Rabbit\": [\"Rabbit\"],\n",
    "    \"Raccoon\": [\"Raccoon\"],\n",
    "    \"Raven\": [\"Raven\"],\n",
    "    \"Red panda\": [\"Red panda\"],\n",
    "    \"Rhinoceros\": [\"Rhinoceros\"],\n",
    "    \"Scorpion\": [\"Scorpion\"],\n",
    "    \"Seahorse\": [\"Seahorse\"],\n",
    "    \"Sea Lion\": [\"Sea Lion\"],\n",
    "    \"Sea Turtle\": [\"Sea Turtle\"],\n",
    "    \"Shark\": [\"Shark\"],\n",
    "    \"Sheep\": [\"Sheep\"],\n",
    "    \"Shrimp\": [\"Shrimp\"],\n",
    "    \"Snail\": [\"Snail\"],\n",
    "    \"Snake\": [\"Snake\"],\n",
    "    \"Sparrow\": [\"Sparrow\"],\n",
    "    \"Spider\": [\"Spider\"],\n",
    "    \"Squid\": [\"Squid\"],\n",
    "    \"Squirrel\": [\"Squirrel\"],\n",
    "    \"Starfish\": [\"Starfish\"],\n",
    "    \"Swan\": [\"Swan\"],\n",
    "    \"Tick\": [\"Tick\"],\n",
    "    \"Tiger\": [\"Tiger\"],\n",
    "    \"Tortoise\": [\"Tortoise\"],\n",
    "    \"Turkey\": [\"Turkey\"],\n",
    "    \"Turtle\": [\"Turtle\"],\n",
    "    \"Whale\": [\"Whale\"],\n",
    "    \"Woodpecker\": [\"Woodpecker\"],\n",
    "    \"Worm\": [\"Worm\"],\n",
    "    \"Zebra\": [\"Zebra\"]\n",
    "}\n",
    "\n",
    "\n",
    "# Bear, Brown Bear, Bull, Butterfly, Camel, Canary, Caterpillar, Cattle, Centipede, Cheetah, Chicken, Crab, Crocodile, Deer, Duck, Eagle, Elephant, Fish, Fox, Frog, Giraffe, Goat, Goldfish, Goose, Hamster, Harbor Seal, Hedgehog, Hippopotamus, Horse, Jaguar, Jellyfish, Kangaroo, Koala, Ladybug, Leopard, Lion, Lizard, Lynx, Magpie, Monkey, Moths and butterflies, Mouse, Mule, Ostrich, Otter, Owl, Panda, Parrot, Penguin, Pig, Polar Bear, Rabbit, Raccoon, Raven, Red panda, Rhinoceros, Scorpion, Seahorse, Sea Lion, Sea Turtle, Shark, Sheep, Shrimp, Snail, Snake, Sparrow, Spider, Squid, Squirrel, Starfish, Swan, Tick, Tiger, Tortoise, Turkey, Turtle, Whale, Woodpecker, Worm, Zebra\n",
    "\n",
    "\n",
    "\n",
    "# dict_size(a80)\n",
    "# print(aOcheck_accuracy('animal80/a80.csv', a80))"
   ]
  },
  {
   "cell_type": "code",
   "execution_count": 10,
   "metadata": {},
   "outputs": [],
   "source": [
    "a160 = {\n",
    "    \"Bear\": [\"Bear\", \"Image of Bear\"],\n",
    "    \"Brown Bear\": [\"Brown Bear\", \"Image of Brown Bear\"],\n",
    "    \"Bull\": [\"Bull\", \"Image of Bull\"],\n",
    "    \"Butterfly\": [\"Butterfly\", \"Image of Butterfly\"],\n",
    "    \"Camel\": [\"Camel\", \"Image of Camel\"],\n",
    "    \"Canary\": [\"Canary\", \"Image of Canary\"],\n",
    "    \"Caterpillar\": [\"Caterpillar\", \"Image of Caterpillar\"],\n",
    "    \"Cattle\": [\"Cattle\", \"Image of Cattle\"],\n",
    "    \"Centipede\": [\"Centipede\", \"Image of Centipede\"],\n",
    "    \"Cheetah\": [\"Cheetah\", \"Image of Cheetah\"],\n",
    "    \"Chicken\": [\"Chicken\", \"Image of Chicken\"],\n",
    "    \"Crab\": [\"Crab\", \"Image of Crab\"],\n",
    "    \"Crocodile\": [\"Crocodile\", \"Image of Crocodile\"],\n",
    "    \"Deer\": [\"Deer\", \"Image of Deer\"],\n",
    "    \"Duck\": [\"Duck\", \"Image of Duck\"],\n",
    "    \"Eagle\": [\"Eagle\", \"Image of Eagle\"],\n",
    "    \"Elephant\": [\"Elephant\", \"Image of Elephant\"],\n",
    "    \"Fish\": [\"Fish\", \"Image of Fish\"],\n",
    "    \"Fox\": [\"Fox\", \"Image of Fox\"],\n",
    "    \"Frog\": [\"Frog\", \"Image of Frog\"],\n",
    "    \"Giraffe\": [\"Giraffe\", \"Image of Giraffe\"],\n",
    "    \"Goat\": [\"Goat\", \"Image of Goat\"],\n",
    "    \"Goldfish\": [\"Goldfish\", \"Image of Goldfish\"],\n",
    "    \"Goose\": [\"Goose\", \"Image of Goose\"],\n",
    "    \"Hamster\": [\"Hamster\", \"Image of Hamster\"],\n",
    "    \"Harbor Seal\": [\"Harbor Seal\", \"Image of Harbor Seal\"],\n",
    "    \"Hedgehog\": [\"Hedgehog\", \"Image of Hedgehog\"],\n",
    "    \"Hippopotamus\": [\"Hippopotamus\", \"Image of Hippopotamus\"],\n",
    "    \"Horse\": [\"Horse\", \"Image of Horse\"],\n",
    "    \"Jaguar\": [\"Jaguar\", \"Image of Jaguar\"],\n",
    "    \"Jellyfish\": [\"Jellyfish\", \"Image of Jellyfish\"],\n",
    "    \"Kangaroo\": [\"Kangaroo\", \"Image of Kangaroo\"],\n",
    "    \"Koala\": [\"Koala\", \"Image of Koala\"],\n",
    "    \"Ladybug\": [\"Ladybug\", \"Image of Ladybug\"],\n",
    "    \"Leopard\": [\"Leopard\", \"Image of Leopard\"],\n",
    "    \"Lion\": [\"Lion\", \"Image of Lion\"],\n",
    "    \"Lizard\": [\"Lizard\", \"Image of Lizard\"],\n",
    "    \"Lynx\": [\"Lynx\", \"Image of Lynx\"],\n",
    "    \"Magpie\": [\"Magpie\", \"Image of Magpie\"],\n",
    "    \"Monkey\": [\"Monkey\", \"Image of Monkey\"],\n",
    "    \"Moths and butterflies\": [\"Moths and butterflies\", \"Image of Moths and butterflies\"],\n",
    "    \"Mouse\": [\"Mouse\", \"Image of Mouse\"],\n",
    "    \"Mule\": [\"Mule\", \"Image of Mule\"],\n",
    "    \"Ostrich\": [\"Ostrich\", \"Image of Ostrich\"],\n",
    "    \"Otter\": [\"Otter\", \"Image of Otter\"],\n",
    "    \"Owl\": [\"Owl\", \"Image of Owl\"],\n",
    "    \"Panda\": [\"Panda\", \"Image of Panda\"],\n",
    "    \"Parrot\": [\"Parrot\", \"Image of Parrot\"],\n",
    "    \"Penguin\": [\"Penguin\", \"Image of Penguin\"],\n",
    "    \"Pig\": [\"Pig\", \"Image of Pig\"],\n",
    "    \"Polar Bear\": [\"Polar Bear\", \"Image of Polar Bear\"],\n",
    "    \"Rabbit\": [\"Rabbit\", \"Image of Rabbit\"],\n",
    "    \"Raccoon\": [\"Raccoon\", \"Image of Raccoon\"],\n",
    "    \"Raven\": [\"Raven\", \"Image of Raven\"],\n",
    "    \"Red panda\": [\"Red panda\", \"Image of Red panda\"],\n",
    "    \"Rhinoceros\": [\"Rhinoceros\", \"Image of Rhinoceros\"],\n",
    "    \"Scorpion\": [\"Scorpion\", \"Image of Scorpion\"],\n",
    "    \"Seahorse\": [\"Seahorse\", \"Image of Seahorse\"],\n",
    "    \"Sea Lion\": [\"Sea Lion\", \"Image of Sea Lion\"],\n",
    "    \"Sea Turtle\": [\"Sea Turtle\", \"Image of Sea Turtle\"],\n",
    "    \"Shark\": [\"Shark\", \"Image of Shark\"],\n",
    "    \"Sheep\": [\"Sheep\", \"Image of Sheep\"],\n",
    "    \"Shrimp\": [\"Shrimp\", \"Image of Shrimp\"],\n",
    "    \"Snail\": [\"Snail\", \"Image of Snail\"],\n",
    "    \"Snake\": [\"Snake\", \"Image of Snake\"],\n",
    "    \"Sparrow\": [\"Sparrow\", \"Image of Sparrow\"],\n",
    "    \"Spider\": [\"Spider\", \"Image of Spider\"],\n",
    "    \"Squid\": [\"Squid\", \"Image of Squid\"],\n",
    "    \"Squirrel\": [\"Squirrel\", \"Image of Squirrel\"],\n",
    "    \"Starfish\": [\"Starfish\", \"Image of Starfish\"],\n",
    "    \"Swan\": [\"Swan\", \"Image of Swan\"],\n",
    "    \"Tick\": [\"Tick\", \"Image of Tick\"],\n",
    "    \"Tiger\": [\"Tiger\", \"Image of Tiger\"],\n",
    "    \"Tortoise\": [\"Tortoise\", \"Image of Tortoise\"],\n",
    "    \"Turkey\": [\"Turkey\", \"Image of Turkey\"],\n",
    "    \"Turtle\": [\"Turtle\", \"Image of Turtle\"],\n",
    "    \"Whale\": [\"Whale\", \"Image of Whale\"],\n",
    "    \"Woodpecker\": [\"Woodpecker\", \"Image of Woodpecker\"],\n",
    "    \"Worm\": [\"Worm\", \"Image of Worm\"],\n",
    "    \"Zebra\": [\"Zebra\", \"Image of Zebra\"]\n",
    "}\n",
    "\n",
    "# Bear, Image of Bear, Brown Bear, Image of Brown Bear, Bull, Image of Bull, Butterfly, Image of Butterfly, Camel, Image of Camel, Canary, Image of Canary, Caterpillar, Image of Caterpillar, Cattle, Image of Cattle, Centipede, Image of Centipede, Cheetah, Image of Cheetah, Chicken, Image of Chicken, Crab, Image of Crab, Crocodile, Image of Crocodile, Deer, Image of Deer, Duck, Image of Duck, Eagle, Image of Eagle, Elephant, Image of Elephant, Fish, Image of Fish, Fox, Image of Fox, Frog, Image of Frog, Giraffe, Image of Giraffe, Goat, Image of Goat, Goldfish, Image of Goldfish, Goose, Image of Goose, Hamster, Image of Hamster, Harbor Seal, Image of Harbor Seal, Hedgehog, Image of Hedgehog, Hippopotamus, Image of Hippopotamus, Horse, Image of Horse, Jaguar, Image of Jaguar, Jellyfish, Image of Jellyfish, Kangaroo, Image of Kangaroo, Koala, Image of Koala, Ladybug, Image of Ladybug, Leopard, Image of Leopard, Lion, Image of Lion, Lizard, Image of Lizard, Lynx, Image of Lynx, Magpie, Image of Magpie, Monkey, Image of Monkey, Moths and butterflies, Image of Moths and butterflies, Mouse, Image of Mouse, Mule, Image of Mule, Ostrich, Image of Ostrich, Otter, Image of Otter, Owl, Image of Owl, Panda, Image of Panda, Parrot, Image of Parrot, Penguin, Image of Penguin, Pig, Image of Pig, Polar Bear, Image of Polar Bear, Rabbit, Image of Rabbit, Raccoon, Image of Raccoon, Raven, Image of Raven, Red panda, Image of Red panda, Rhinoceros, Image of Rhinoceros, Scorpion, Image of Scorpion, Seahorse, Image of Seahorse, Sea Lion, Image of Sea Lion, Sea Turtle, Image of Sea Turtle, Shark, Image of Shark, Sheep, Image of Sheep, Shrimp, Image of Shrimp, Snail, Image of Snail, Snake, Image of Snake, Sparrow, Image of Sparrow, Spider, Image of Spider, Squid, Image of Squid, Squirrel, Image of Squirrel, Starfish, Image of Starfish, Swan, Image of Swan, Tick, Image of Tick, Tiger, Image of Tiger, Tortoise, Image of Tortoise, Turkey, Image of Turkey, Turtle, Image of Turtle, Whale, Image of Whale, Woodpecker, Image of Woodpecker, Worm, Image of Worm, Zebra, Image of Zebra\n",
    "\n",
    "# dict_size(a80)\n",
    "# print(aOcheck_accuracy('animal80/a160.csv', a160))\n"
   ]
  },
  {
   "cell_type": "code",
   "execution_count": 11,
   "metadata": {},
   "outputs": [],
   "source": [
    "a240 = {\n",
    "    \"Bear\": [\"Bear\", \"Image of Bear\", \"Picture of Bear\"],\n",
    "    \"Brown Bear\": [\"Brown Bear\", \"Image of Brown Bear\", \"Picture of Brown Bear\"],\n",
    "    \"Bull\": [\"Bull\", \"Image of Bull\", \"Picture of Bull\"],\n",
    "    \"Butterfly\": [\"Butterfly\", \"Image of Butterfly\", \"Picture of Butterfly\"],\n",
    "    \"Camel\": [\"Camel\", \"Image of Camel\", \"Picture of Camel\"],\n",
    "    \"Canary\": [\"Canary\", \"Image of Canary\", \"Picture of Canary\"],\n",
    "    \"Caterpillar\": [\"Caterpillar\", \"Image of Caterpillar\", \"Picture of Caterpillar\"],\n",
    "    \"Cattle\": [\"Cattle\", \"Image of Cattle\", \"Picture of Cattle\"],\n",
    "    \"Centipede\": [\"Centipede\", \"Image of Centipede\", \"Picture of Centipede\"],\n",
    "    \"Cheetah\": [\"Cheetah\", \"Image of Cheetah\", \"Picture of Cheetah\"],\n",
    "    \"Chicken\": [\"Chicken\", \"Image of Chicken\", \"Picture of Chicken\"],\n",
    "    \"Crab\": [\"Crab\", \"Image of Crab\", \"Picture of Crab\"],\n",
    "    \"Crocodile\": [\"Crocodile\", \"Image of Crocodile\", \"Picture of Crocodile\"],\n",
    "    \"Deer\": [\"Deer\", \"Image of Deer\", \"Picture of Deer\"],\n",
    "    \"Duck\": [\"Duck\", \"Image of Duck\", \"Picture of Duck\"],\n",
    "    \"Eagle\": [\"Eagle\", \"Image of Eagle\", \"Picture of Eagle\"],\n",
    "    \"Elephant\": [\"Elephant\", \"Image of Elephant\", \"Picture of Elephant\"],\n",
    "    \"Fish\": [\"Fish\", \"Image of Fish\", \"Picture of Fish\"],\n",
    "    \"Fox\": [\"Fox\", \"Image of Fox\", \"Picture of Fox\"],\n",
    "    \"Frog\": [\"Frog\", \"Image of Frog\", \"Picture of Frog\"],\n",
    "    \"Giraffe\": [\"Giraffe\", \"Image of Giraffe\", \"Picture of Giraffe\"],\n",
    "    \"Goat\": [\"Goat\", \"Image of Goat\", \"Picture of Goat\"],\n",
    "    \"Goldfish\": [\"Goldfish\", \"Image of Goldfish\", \"Picture of Goldfish\"],\n",
    "    \"Goose\": [\"Goose\", \"Image of Goose\", \"Picture of Goose\"],\n",
    "    \"Hamster\": [\"Hamster\", \"Image of Hamster\", \"Picture of Hamster\"],\n",
    "    \"Harbor Seal\": [\"Harbor Seal\", \"Image of Harbor Seal\", \"Picture of Harbor Seal\"],\n",
    "    \"Hedgehog\": [\"Hedgehog\", \"Image of Hedgehog\", \"Picture of Hedgehog\"],\n",
    "    \"Hippopotamus\": [\"Hippopotamus\", \"Image of Hippopotamus\", \"Picture of Hippopotamus\"],\n",
    "    \"Horse\": [\"Horse\", \"Image of Horse\", \"Picture of Horse\"],\n",
    "    \"Jaguar\": [\"Jaguar\", \"Image of Jaguar\", \"Picture of Jaguar\"],\n",
    "    \"Jellyfish\": [\"Jellyfish\", \"Image of Jellyfish\", \"Picture of Jellyfish\"],\n",
    "    \"Kangaroo\": [\"Kangaroo\", \"Image of Kangaroo\", \"Picture of Kangaroo\"],\n",
    "    \"Koala\": [\"Koala\", \"Image of Koala\", \"Picture of Koala\"],\n",
    "    \"Ladybug\": [\"Ladybug\", \"Image of Ladybug\", \"Picture of Ladybug\"],\n",
    "    \"Leopard\": [\"Leopard\", \"Image of Leopard\", \"Picture of Leopard\"],\n",
    "    \"Lion\": [\"Lion\", \"Image of Lion\", \"Picture of Lion\"],\n",
    "    \"Lizard\": [\"Lizard\", \"Image of Lizard\", \"Picture of Lizard\"],\n",
    "    \"Lynx\": [\"Lynx\", \"Image of Lynx\", \"Picture of Lynx\"],\n",
    "    \"Magpie\": [\"Magpie\", \"Image of Magpie\", \"Picture of Magpie\"],\n",
    "    \"Monkey\": [\"Monkey\", \"Image of Monkey\", \"Picture of Monkey\"],\n",
    "    \"Moths and butterflies\": [\"Moths and butterflies\", \"Image of Moths and butterflies\", \"Picture of Moths and butterflies\"],\n",
    "    \"Mouse\": [\"Mouse\", \"Image of Mouse\", \"Picture of Mouse\"],\n",
    "    \"Mule\": [\"Mule\", \"Image of Mule\", \"Picture of Mule\"],\n",
    "    \"Ostrich\": [\"Ostrich\", \"Image of Ostrich\", \"Picture of Ostrich\"],\n",
    "    \"Otter\": [\"Otter\", \"Image of Otter\", \"Picture of Otter\"],\n",
    "    \"Owl\": [\"Owl\", \"Image of Owl\", \"Picture of Owl\"],\n",
    "    \"Panda\": [\"Panda\", \"Image of Panda\", \"Picture of Panda\"],\n",
    "    \"Parrot\": [\"Parrot\", \"Image of Parrot\", \"Picture of Parrot\"],\n",
    "    \"Penguin\": [\"Penguin\", \"Image of Penguin\", \"Picture of Penguin\"],\n",
    "    \"Pig\": [\"Pig\", \"Image of Pig\", \"Picture of Pig\"],\n",
    "    \"Polar Bear\": [\"Polar Bear\", \"Image of Polar Bear\", \"Picture of Polar Bear\"],\n",
    "    \"Rabbit\": [\"Rabbit\", \"Image of Rabbit\", \"Picture of Rabbit\"],\n",
    "    \"Raccoon\": [\"Raccoon\", \"Image of Raccoon\", \"Picture of Raccoon\"],\n",
    "    \"Raven\": [\"Raven\", \"Image of Raven\", \"Picture of Raven\"],\n",
    "    \"Red panda\": [\"Red panda\", \"Image of Red panda\", \"Picture of Red panda\"],\n",
    "    \"Rhinoceros\": [\"Rhinoceros\", \"Image of Rhinoceros\", \"Picture of Rhinoceros\"],\n",
    "    \"Scorpion\": [\"Scorpion\", \"Image of Scorpion\", \"Picture of Scorpion\"],\n",
    "    \"Seahorse\": [\"Seahorse\", \"Image of Seahorse\", \"Picture of Seahorse\"],\n",
    "    \"Sea Lion\": [\"Sea Lion\", \"Image of Sea Lion\", \"Picture of Sea Lion\"],\n",
    "    \"Sea Turtle\": [\"Sea Turtle\", \"Image of Sea Turtle\", \"Picture of Sea Turtle\"],\n",
    "    \"Shark\": [\"Shark\", \"Image of Shark\", \"Picture of Shark\"],\n",
    "    \"Sheep\": [\"Sheep\", \"Image of Sheep\", \"Picture of Sheep\"],\n",
    "    \"Shrimp\": [\"Shrimp\", \"Image of Shrimp\", \"Picture of Shrimp\"],\n",
    "    \"Snail\": [\"Snail\", \"Image of Snail\", \"Picture of Snail\"],\n",
    "    \"Snake\": [\"Snake\", \"Image of Snake\", \"Picture of Snake\"],\n",
    "    \"Sparrow\": [\"Sparrow\", \"Image of Sparrow\", \"Picture of Sparrow\"],\n",
    "    \"Spider\": [\"Spider\", \"Image of Spider\", \"Picture of Spider\"],\n",
    "    \"Squid\": [\"Squid\", \"Image of Squid\", \"Picture of Squid\"],\n",
    "    \"Squirrel\": [\"Squirrel\", \"Image of Squirrel\", \"Picture of Squirrel\"],\n",
    "    \"Starfish\": [\"Starfish\", \"Image of Starfish\", \"Picture of Starfish\"],\n",
    "    \"Swan\": [\"Swan\", \"Image of Swan\", \"Picture of Swan\"],\n",
    "    \"Tick\": [\"Tick\", \"Image of Tick\", \"Picture of Tick\"],\n",
    "    \"Tiger\": [\"Tiger\", \"Image of Tiger\", \"Picture of Tiger\"],\n",
    "    \"Tortoise\": [\"Tortoise\", \"Image of Tortoise\", \"Picture of Tortoise\"],\n",
    "    \"Turkey\": [\"Turkey\", \"Image of Turkey\", \"Picture of Turkey\"],\n",
    "    \"Turtle\": [\"Turtle\", \"Image of Turtle\", \"Picture of Turtle\"],\n",
    "    \"Whale\": [\"Whale\", \"Image of Whale\", \"Picture of Whale\"],\n",
    "    \"Woodpecker\": [\"Woodpecker\", \"Image of Woodpecker\", \"Picture of Woodpecker\"],\n",
    "    \"Worm\": [\"Worm\", \"Image of Worm\", \"Picture of Worm\"],\n",
    "    \"Zebra\": [\"Zebra\", \"Image of Zebra\", \"Picture of Zebra\"]\n",
    "}\n",
    "\n",
    "#Bear, Image of Bear, Picture of Bear, Brown Bear, Image of Brown Bear, Picture of Brown Bear, Bull, Image of Bull, Picture of Bull, Butterfly, Image of Butterfly, Picture of Butterfly, Camel, Image of Camel, Picture of Camel, Canary, Image of Canary, Picture of Canary, Caterpillar, Image of Caterpillar, Picture of Caterpillar, Cattle, Image of Cattle, Picture of Cattle, Centipede, Image of Centipede, Picture of Centipede, Cheetah, Image of Cheetah, Picture of Cheetah, Chicken, Image of Chicken, Picture of Chicken, Crab, Image of Crab, Picture of Crab, Crocodile, Image of Crocodile, Picture of Crocodile, Deer, Image of Deer, Picture of Deer, Duck, Image of Duck, Picture of Duck, Eagle, Image of Eagle, Picture of Eagle, Elephant, Image of Elephant, Picture of Elephant, Fish, Image of Fish, Picture of Fish, Fox, Image of Fox, Picture of Fox, Frog, Image of Frog, Picture of Frog, Giraffe, Image of Giraffe, Picture of Giraffe, Goat, Image of Goat, Picture of Goat, Goldfish, Image of Goldfish, Picture of Goldfish, Goose, Image of Goose, Picture of Goose, Hamster, Image of Hamster, Picture of Hamster, Harbor Seal, Image of Harbor Seal, Picture of Harbor Seal, Hedgehog, Image of Hedgehog, Picture of Hedgehog, Hippopotamus, Image of Hippopotamus, Picture of Hippopotamus, Horse, Image of Horse, Picture of Horse, Jaguar, Image of Jaguar, Picture of Jaguar, Jellyfish, Image of Jellyfish, Picture of Jellyfish, Kangaroo, Image of Kangaroo, Picture of Kangaroo, Koala, Image of Koala, Picture of Koala, Ladybug, Image of Ladybug, Picture of Ladybug, Leopard, Image of Leopard, Picture of Leopard, Lion, Image of Lion, Picture of Lion, Lizard, Image of Lizard, Picture of Lizard, Lynx, Image of Lynx, Picture of Lynx, Magpie, Image of Magpie, Picture of Magpie, Monkey, Image of Monkey, Picture of Monkey, Moths and butterflies, Image of Moths and butterflies, Picture of Moths and butterflies, Mouse, Image of Mouse, Picture of Mouse, Mule, Image of Mule, Picture of Mule, Ostrich, Image of Ostrich, Picture of Ostrich, Otter, Image of Otter, Picture of Otter, Owl, Image of Owl, Picture of Owl, Panda, Image of Panda, Picture of Panda, Parrot, Image of Parrot, Picture of Parrot, Penguin, Image of Penguin, Picture of Penguin, Pig, Image of Pig, Picture of Pig, Polar Bear, Image of Polar Bear, Picture of Polar Bear, Rabbit, Image of Rabbit, Picture of Rabbit, Raccoon, Image of Raccoon, Picture of Raccoon, Raven, Image of Raven, Picture of Raven, Red panda, Image of Red panda, Picture of Red panda, Rhinoceros, Image of Rhinoceros, Picture of Rhinoceros, Scorpion, Image of Scorpion, Picture of Scorpion, Seahorse, Image of Seahorse, Picture of Seahorse, Sea Lion, Image of Sea Lion, Picture of Sea Lion, Sea Turtle, Image of Sea Turtle, Picture of Sea Turtle, Shark, Image of Shark, Picture of Shark, Sheep, Image of Sheep, Picture of Sheep, Shrimp, Image of Shrimp, Picture of Shrimp, Snail, Image of Snail, Picture of Snail, Snake, Image of Snake, Picture of Snake, Sparrow, Image of Sparrow, Picture of Sparrow, Spider, Image of Spider, Picture of Spider, Squid, Image of Squid, Picture of Squid, Squirrel, Image of Squirrel, Picture of Squirrel, Starfish, Image of Starfish, Picture of Starfish, Swan, Image of Swan, Picture of Swan, Tick, Image of Tick, Picture of Tick, Tiger, Image of Tiger, Picture of Tiger, Tortoise, Image of Tortoise, Picture of Tortoise, Turkey, Image of Turkey, Picture of Turkey, Turtle, Image of Turtle, Picture of Turtle, Whale, Image of Whale, Picture of Whale, Woodpecker, Image of Woodpecker, Picture of Woodpecker, Worm, Image of Worm, Picture of Worm, Zebra, Image of Zebra, Picture of Zebra\n",
    "\n",
    "# dict_size(a240)\n",
    "# print(aOcheck_accuracy('animal80/a240csv', a240))\n"
   ]
  },
  {
   "cell_type": "code",
   "execution_count": 12,
   "metadata": {},
   "outputs": [],
   "source": [
    "a320 = {\n",
    "    \"Bear\": [\"Bear\", \"Image of Bear\", \"Picture of Bear\", \"Bears\"],\n",
    "    \"Brown Bear\": [\"Brown Bear\", \"Image of Brown Bear\", \"Picture of Brown Bear\", \"Brown Bears\"],\n",
    "    \"Bull\": [\"Bull\", \"Image of Bull\", \"Picture of Bull\", \"Bulls\"],\n",
    "    \"Butterfly\": [\"Butterfly\", \"Image of Butterfly\", \"Picture of Butterfly\", \"Butterflies\"],\n",
    "    \"Camel\": [\"Camel\", \"Image of Camel\", \"Picture of Camel\", \"Camels\"],\n",
    "    \"Canary\": [\"Canary\", \"Image of Canary\", \"Picture of Canary\", \"Canaries\"],\n",
    "    \"Caterpillar\": [\"Caterpillar\", \"Image of Caterpillar\", \"Picture of Caterpillar\", \"Caterpillars\"],\n",
    "    \"Cattle\": [\"Cattle\", \"Image of Cattle\", \"Picture of Cattle\", \"Cattle\"],\n",
    "    \"Centipede\": [\"Centipede\", \"Image of Centipede\", \"Picture of Centipede\", \"Centipedes\"],\n",
    "    \"Cheetah\": [\"Cheetah\", \"Image of Cheetah\", \"Picture of Cheetah\", \"Cheetahs\"],\n",
    "    \"Chicken\": [\"Chicken\", \"Image of Chicken\", \"Picture of Chicken\", \"Chickens\"],\n",
    "    \"Crab\": [\"Crab\", \"Image of Crab\", \"Picture of Crab\", \"Crabs\"],\n",
    "    \"Crocodile\": [\"Crocodile\", \"Image of Crocodile\", \"Picture of Crocodile\", \"Crocodiles\"],\n",
    "    \"Deer\": [\"Deer\", \"Image of Deer\", \"Picture of Deer\", \"Deer\"],\n",
    "    \"Duck\": [\"Duck\", \"Image of Duck\", \"Picture of Duck\", \"Ducks\"],\n",
    "    \"Eagle\": [\"Eagle\", \"Image of Eagle\", \"Picture of Eagle\", \"Eagles\"],\n",
    "    \"Elephant\": [\"Elephant\", \"Image of Elephant\", \"Picture of Elephant\", \"Elephants\"],\n",
    "    \"Fish\": [\"Fish\", \"Image of Fish\", \"Picture of Fish\", \"Fish\"],\n",
    "    \"Fox\": [\"Fox\", \"Image of Fox\", \"Picture of Fox\", \"Foxes\"],\n",
    "    \"Frog\": [\"Frog\", \"Image of Frog\", \"Picture of Frog\", \"Frogs\"],\n",
    "    \"Giraffe\": [\"Giraffe\", \"Image of Giraffe\", \"Picture of Giraffe\", \"Giraffes\"],\n",
    "    \"Goat\": [\"Goat\", \"Image of Goat\", \"Picture of Goat\", \"Goats\"],\n",
    "    \"Goldfish\": [\"Goldfish\", \"Image of Goldfish\", \"Picture of Goldfish\", \"Goldfish\"],\n",
    "    \"Goose\": [\"Goose\", \"Image of Goose\", \"Picture of Goose\", \"Geese\"],\n",
    "    \"Hamster\": [\"Hamster\", \"Image of Hamster\", \"Picture of Hamster\", \"Hamsters\"],\n",
    "    \"Harbor Seal\": [\"Harbor Seal\", \"Image of Harbor Seal\", \"Picture of Harbor Seal\", \"Harbor Seals\"],\n",
    "    \"Hedgehog\": [\"Hedgehog\", \"Image of Hedgehog\", \"Picture of Hedgehog\", \"Hedgehogs\"],\n",
    "    \"Hippopotamus\": [\"Hippopotamus\", \"Image of Hippopotamus\", \"Picture of Hippopotamus\", \"Hippopotamuses\"],\n",
    "    \"Horse\": [\"Horse\", \"Image of Horse\", \"Picture of Horse\", \"Horses\"],\n",
    "    \"Jaguar\": [\"Jaguar\", \"Image of Jaguar\", \"Picture of Jaguar\", \"Jaguars\"],\n",
    "    \"Jellyfish\": [\"Jellyfish\", \"Image of Jellyfish\", \"Picture of Jellyfish\", \"Jellyfish\"],\n",
    "    \"Kangaroo\": [\"Kangaroo\", \"Image of Kangaroo\", \"Picture of Kangaroo\", \"Kangaroos\"],\n",
    "    \"Koala\": [\"Koala\", \"Image of Koala\", \"Picture of Koala\", \"Koalas\"],\n",
    "    \"Ladybug\": [\"Ladybug\", \"Image of Ladybug\", \"Picture of Ladybug\", \"Ladybugs\"],\n",
    "    \"Leopard\": [\"Leopard\", \"Image of Leopard\", \"Picture of Leopard\", \"Leopards\"],\n",
    "    \"Lion\": [\"Lion\", \"Image of Lion\", \"Picture of Lion\", \"Lions\"],\n",
    "    \"Lizard\": [\"Lizard\", \"Image of Lizard\", \"Picture of Lizard\", \"Lizards\"],\n",
    "    \"Lynx\": [\"Lynx\", \"Image of Lynx\", \"Picture of Lynx\", \"Lynxes\"],\n",
    "    \"Magpie\": [\"Magpie\", \"Image of Magpie\", \"Picture of Magpie\", \"Magpies\"],\n",
    "    \"Monkey\": [\"Monkey\", \"Image of Monkey\", \"Picture of Monkey\", \"Monkeys\"],\n",
    "    \"Moths and Butterflies\": [\"Moths and Butterflies\", \"Image of Moths and Butterflies\", \"Picture of Moths and Butterflies\", \"Moths and Butterflies\"],\n",
    "    \"Mouse\": [\"Mouse\", \"Image of Mouse\", \"Picture of Mouse\", \"Mice\"],\n",
    "    \"Mule\": [\"Mule\", \"Image of Mule\", \"Picture of Mule\", \"Mules\"],\n",
    "    \"Ostrich\": [\"Ostrich\", \"Image of Ostrich\", \"Picture of Ostrich\", \"Ostriches\"],\n",
    "    \"Otter\": [\"Otter\", \"Image of Otter\", \"Picture of Otter\", \"Otters\"],\n",
    "    \"Owl\": [\"Owl\", \"Image of Owl\", \"Picture of Owl\", \"Owls\"],\n",
    "    \"Panda\": [\"Panda\", \"Image of Panda\", \"Picture of Panda\", \"Pandas\"],\n",
    "    \"Parrot\": [\"Parrot\", \"Image of Parrot\", \"Picture of Parrot\", \"Parrots\"],\n",
    "    \"Penguin\": [\"Penguin\", \"Image of Penguin\", \"Picture of Penguin\", \"Penguins\"],\n",
    "    \"Pig\": [\"Pig\", \"Image of Pig\", \"Picture of Pig\", \"Pigs\"],\n",
    "    \"Polar Bear\": [\"Polar Bear\", \"Image of Polar Bear\", \"Picture of Polar Bear\", \"Polar Bears\"],\n",
    "    \"Rabbit\": [\"Rabbit\", \"Image of Rabbit\", \"Picture of Rabbit\", \"Rabbits\"],\n",
    "    \"Raccoon\": [\"Raccoon\", \"Image of Raccoon\", \"Picture of Raccoon\", \"Raccoons\"],\n",
    "    \"Raven\": [\"Raven\", \"Image of Raven\", \"Picture of Raven\", \"Ravens\"],\n",
    "    \"Red Panda\": [\"Red Panda\", \"Image of Red Panda\", \"Picture of Red Panda\", \"Red Pandas\"],\n",
    "    \"Rhinoceros\": [\"Rhinoceros\", \"Image of Rhinoceros\", \"Picture of Rhinoceros\", \"Rhinoceroses\"],\n",
    "    \"Scorpion\": [\"Scorpion\", \"Image of Scorpion\", \"Picture of Scorpion\", \"Scorpions\"],\n",
    "    \"Seahorse\": [\"Seahorse\", \"Image of Seahorse\", \"Picture of Seahorse\", \"Seahorses\"],\n",
    "    \"Sea Lion\": [\"Sea Lion\", \"Image of Sea Lion\", \"Picture of Sea Lion\", \"Sea Lions\"],\n",
    "    \"Sea Turtle\": [\"Sea Turtle\", \"Image of Sea Turtle\", \"Picture of Sea Turtle\", \"Sea Turtles\"],\n",
    "    \"Shark\": [\"Shark\", \"Image of Shark\", \"Picture of Shark\", \"Sharks\"],\n",
    "    \"Sheep\": [\"Sheep\", \"Image of Sheep\", \"Picture of Sheep\", \"Sheep\"],\n",
    "    \"Shrimp\": [\"Shrimp\", \"Image of Shrimp\", \"Picture of Shrimp\", \"Shrimp\"],\n",
    "    \"Snail\": [\"Snail\", \"Image of Snail\", \"Picture of Snail\", \"Snails\"],\n",
    "    \"Snake\": [\"Snake\", \"Image of Snake\", \"Picture of Snake\", \"Snakes\"],\n",
    "    \"Sparrow\": [\"Sparrow\", \"Image of Sparrow\", \"Picture of Sparrow\", \"Sparrows\"],\n",
    "    \"Spider\": [\"Spider\", \"Image of Spider\", \"Picture of Spider\", \"Spiders\"],\n",
    "    \"Squid\": [\"Squid\", \"Image of Squid\", \"Picture of Squid\", \"Squid\"],\n",
    "    \"Squirrel\": [\"Squirrel\", \"Image of Squirrel\", \"Picture of Squirrel\", \"Squirrels\"],\n",
    "    \"Starfish\": [\"Starfish\", \"Image of Starfish\", \"Picture of Starfish\", \"Starfish\"],\n",
    "    \"Swan\": [\"Swan\", \"Image of Swan\", \"Picture of Swan\", \"Swans\"],\n",
    "    \"Tick\": [\"Tick\", \"Image of Tick\", \"Picture of Tick\", \"Ticks\"],\n",
    "    \"Tiger\": [\"Tiger\", \"Image of Tiger\", \"Picture of Tiger\", \"Tigers\"],\n",
    "    \"Tortoise\": [\"Tortoise\", \"Image of Tortoise\", \"Picture of Tortoise\", \"Tortoises\"],\n",
    "    \"Turkey\": [\"Turkey\", \"Image of Turkey\", \"Picture of Turkey\", \"Turkeys\"],\n",
    "    \"Turtle\": [\"Turtle\", \"Image of Turtle\", \"Picture of Turtle\", \"Turtles\"],\n",
    "    \"Whale\": [\"Whale\", \"Image of Whale\", \"Picture of Whale\", \"Whales\"],\n",
    "    \"Woodpecker\": [\"Woodpecker\", \"Image of Woodpecker\", \"Picture of Woodpecker\", \"Woodpeckers\"],\n",
    "    \"Worm\": [\"Worm\", \"Image of Worm\", \"Picture of Worm\", \"Worms\"],\n",
    "    \"Zebra\": [\"Zebra\", \"Image of Zebra\", \"Picture of Zebra\", \"Zebras\"]\n",
    "}\n",
    "\n",
    "#Bear, Image of Bear, Picture of Bear, Bears, Brown Bear, Image of Brown Bear, Picture of Brown Bear, Brown Bears, Bull, Image of Bull, Picture of Bull, Bulls, Butterfly, Image of Butterfly, Picture of Butterfly, Butterflies, Camel, Image of Camel, Picture of Camel, Camels, Canary, Image of Canary, Picture of Canary, Canaries, Caterpillar, Image of Caterpillar, Picture of Caterpillar, Caterpillars, Cattle, Image of Cattle, Picture of Cattle, Cattle, Centipede, Image of Centipede, Picture of Centipede, Centipedes, Cheetah, Image of Cheetah, Picture of Cheetah, Cheetahs, Chicken, Image of Chicken, Picture of Chicken, Chickens, Crab, Image of Crab, Picture of Crab, Crabs, Crocodile, Image of Crocodile, Picture of Crocodile, Crocodiles, Deer, Image of Deer, Picture of Deer, Deer, Duck, Image of Duck, Picture of Duck, Ducks, Eagle, Image of Eagle, Picture of Eagle, Eagles, Elephant, Image of Elephant, Picture of Elephant, Elephants, Fish, Image of Fish, Picture of Fish, Fish, Fox, Image of Fox, Picture of Fox, Foxes, Frog, Image of Frog, Picture of Frog, Frogs, Giraffe, Image of Giraffe, Picture of Giraffe, Giraffes, Goat, Image of Goat, Picture of Goat, Goats, Goldfish, Image of Goldfish, Picture of Goldfish, Goldfish, Goose, Image of Goose, Picture of Goose, Geese, Hamster, Image of Hamster, Picture of Hamster, Hamsters, Harbor Seal, Image of Harbor Seal, Picture of Harbor Seal, Harbor Seals, Hedgehog, Image of Hedgehog, Picture of Hedgehog, Hedgehogs, Hippopotamus, Image of Hippopotamus, Picture of Hippopotamus, Hippopotamuses, Horse, Image of Horse, Picture of Horse, Horses, Jaguar, Image of Jaguar, Picture of Jaguar, Jaguars, Jellyfish, Image of Jellyfish, Picture of Jellyfish, Jellyfish, Kangaroo, Image of Kangaroo, Picture of Kangaroo, Kangaroos, Koala, Image of Koala, Picture of Koala, Koalas, Ladybug, Image of Ladybug, Picture of Ladybug, Ladybugs, Leopard, Image of Leopard, Picture of Leopard, Leopards, Lion, Image of Lion, Picture of Lion, Lions, Lizard, Image of Lizard, Picture of Lizard, Lizards, Lynx, Image of Lynx, Picture of Lynx, Lynxes, Magpie, Image of Magpie, Picture of Magpie, Magpies, Monkey, Image of Monkey, Picture of Monkey, Monkeys, Moths and Butterflies, Image of Moths and Butterflies, Picture of Moths and Butterflies, Moths and Butterflies, Mouse, Image of Mouse, Picture of Mouse, Mice, Mule, Image of Mule, Picture of Mule, Mules, Ostrich, Image of Ostrich, Picture of Ostrich, Ostriches, Otter, Image of Otter, Picture of Otter, Otters, Owl, Image of Owl, Picture of Owl, Owls, Panda, Image of Panda, Picture of Panda, Pandas, Parrot, Image of Parrot, Picture of Parrot, Parrots, Penguin, Image of Penguin, Picture of Penguin, Penguins, Pig, Image of Pig, Picture of Pig, Pigs, Polar Bear, Image of Polar Bear, Picture of Polar Bear, Polar Bears, Rabbit, Image of Rabbit, Picture of Rabbit, Rabbits, Raccoon, Image of Raccoon, Picture of Raccoon, Raccoons, Raven, Image of Raven, Picture of Raven, Ravens, Red Panda, Image of Red Panda, Picture of Red Panda, Red Pandas, Rhinoceros, Image of Rhinoceros, Picture of Rhinoceros, Rhinoceroses, Scorpion, Image of Scorpion, Picture of Scorpion, Scorpions, Seahorse, Image of Seahorse, Picture of Seahorse, Seahorses, Sea Lion, Image of Sea Lion, Picture of Sea Lion, Sea Lions, Sea Turtle, Image of Sea Turtle, Picture of Sea Turtle, Sea Turtles, Shark, Image of Shark, Picture of Shark, Sharks, Sheep, Image of Sheep, Picture of Sheep, Sheep, Shrimp, Image of Shrimp, Picture of Shrimp, Shrimp, Snail, Image of Snail, Picture of Snail, Snails, Snake, Image of Snake, Picture of Snake, Snakes, Sparrow, Image of Sparrow, Picture of Sparrow, Sparrows, Spider, Image of Spider, Picture of Spider, Spiders, Squid, Image of Squid, Picture of Squid, Squid, Squirrel, Image of Squirrel, Picture of Squirrel, Squirrels, Starfish, Image of Starfish, Picture of Starfish, Starfish, Swan, Image of Swan, Picture of Swan, Swans, Tick, Image of Tick, Picture of Tick, Ticks, Tiger, Image of Tiger, Picture of Tiger, Tigers, Tortoise, Image of Tortoise, Picture of Tortoise, Tortoises, Turkey, Image of Turkey, Picture of Turkey, Turkeys, Turtle, Image of Turtle, Picture of Turtle, Turtles, Whale, Image of Whale, Picture of Whale, Whales, Woodpecker, Image of Woodpecker, Picture of Woodpecker, Woodpeckers, Worm, Image of Worm, Picture of Worm, Worms, Zebra, Image of Zebra, Picture of Zebra, Zebras\n",
    "\n",
    "# dict_size(a320)\n",
    "# # print(a320.values())\n",
    "# print(aOcheck_accuracy('animal80/a320.csv', a320))\n"
   ]
  },
  {
   "cell_type": "code",
   "execution_count": 13,
   "metadata": {},
   "outputs": [],
   "source": [
    "a400 = {\n",
    "    \"Bear\": [\"Bear\", \"Image of Bear\", \"Picture of Bear\", \"Bears\", \"Bear in the Wild\"],\n",
    "    \"Brown Bear\": [\"Brown Bear\", \"Image of Brown Bear\", \"Picture of Brown Bear\", \"Brown Bears\", \"Brown Bear in the Wild\"],\n",
    "    \"Bull\": [\"Bull\", \"Image of Bull\", \"Picture of Bull\", \"Bulls\", \"Bull in the Wild\"],\n",
    "    \"Butterfly\": [\"Butterfly\", \"Image of Butterfly\", \"Picture of Butterfly\", \"Butterflies\", \"Butterfly in the Wild\"],\n",
    "    \"Camel\": [\"Camel\", \"Image of Camel\", \"Picture of Camel\", \"Camels\", \"Camel in the Wild\"],\n",
    "    \"Canary\": [\"Canary\", \"Image of Canary\", \"Picture of Canary\", \"Canaries\", \"Canary in the Wild\"],\n",
    "    \"Caterpillar\": [\"Caterpillar\", \"Image of Caterpillar\", \"Picture of Caterpillar\", \"Caterpillars\", \"Caterpillar in the Wild\"],\n",
    "    \"Cattle\": [\"Cattle\", \"Image of Cattle\", \"Picture of Cattle\", \"Cattle\", \"Cattle in the Wild\"],\n",
    "    \"Centipede\": [\"Centipede\", \"Image of Centipede\", \"Picture of Centipede\", \"Centipedes\", \"Centipede in the Wild\"],\n",
    "    \"Cheetah\": [\"Cheetah\", \"Image of Cheetah\", \"Picture of Cheetah\", \"Cheetahs\", \"Cheetah in the Wild\"],\n",
    "    \"Chicken\": [\"Chicken\", \"Image of Chicken\", \"Picture of Chicken\", \"Chickens\", \"Chicken in the Wild\"],\n",
    "    \"Crab\": [\"Crab\", \"Image of Crab\", \"Picture of Crab\", \"Crabs\", \"Crab in the Wild\"],\n",
    "    \"Crocodile\": [\"Crocodile\", \"Image of Crocodile\", \"Picture of Crocodile\", \"Crocodiles\", \"Crocodile in the Wild\"],\n",
    "    \"Deer\": [\"Deer\", \"Image of Deer\", \"Picture of Deer\", \"Deer\", \"Deer in the Wild\"],\n",
    "    \"Duck\": [\"Duck\", \"Image of Duck\", \"Picture of Duck\", \"Ducks\", \"Duck in the Wild\"],\n",
    "    \"Eagle\": [\"Eagle\", \"Image of Eagle\", \"Picture of Eagle\", \"Eagles\", \"Eagle in the Wild\"],\n",
    "    \"Elephant\": [\"Elephant\", \"Image of Elephant\", \"Picture of Elephant\", \"Elephants\", \"Elephant in the Wild\"],\n",
    "    \"Fish\": [\"Fish\", \"Image of Fish\", \"Picture of Fish\", \"Fish\", \"Fish in the Wild\"],\n",
    "    \"Fox\": [\"Fox\", \"Image of Fox\", \"Picture of Fox\", \"Foxes\", \"Fox in the Wild\"],\n",
    "    \"Frog\": [\"Frog\", \"Image of Frog\", \"Picture of Frog\", \"Frogs\", \"Frog in the Wild\"],\n",
    "    \"Giraffe\": [\"Giraffe\", \"Image of Giraffe\", \"Picture of Giraffe\", \"Giraffes\", \"Giraffe in the Wild\"],\n",
    "    \"Goat\": [\"Goat\", \"Image of Goat\", \"Picture of Goat\", \"Goats\", \"Goat in the Wild\"],\n",
    "    \"Goldfish\": [\"Goldfish\", \"Image of Goldfish\", \"Picture of Goldfish\", \"Goldfish\", \"Goldfish in the Wild\"],\n",
    "    \"Goose\": [\"Goose\", \"Image of Goose\", \"Picture of Goose\", \"Geese\", \"Goose in the Wild\"],\n",
    "    \"Hamster\": [\"Hamster\", \"Image of Hamster\", \"Picture of Hamster\", \"Hamsters\", \"Hamster in the Wild\"],\n",
    "    \"Harbor Seal\": [\"Harbor Seal\", \"Image of Harbor Seal\", \"Picture of Harbor Seal\", \"Harbor Seals\", \"Harbor Seal in the Wild\"],\n",
    "    \"Hedgehog\": [\"Hedgehog\", \"Image of Hedgehog\", \"Picture of Hedgehog\", \"Hedgehogs\", \"Hedgehog in the Wild\"],\n",
    "    \"Hippopotamus\": [\"Hippopotamus\", \"Image of Hippopotamus\", \"Picture of Hippopotamus\", \"Hippopotamuses\", \"Hippopotamus in the Wild\"],\n",
    "    \"Horse\": [\"Horse\", \"Image of Horse\", \"Picture of Horse\", \"Horses\", \"Horse in the Wild\"],\n",
    "    \"Jaguar\": [\"Jaguar\", \"Image of Jaguar\", \"Picture of Jaguar\", \"Jaguars\", \"Jaguar in the Wild\"],\n",
    "    \"Jellyfish\": [\"Jellyfish\", \"Image of Jellyfish\", \"Picture of Jellyfish\", \"Jellyfish\", \"Jellyfish in the Wild\"],\n",
    "    \"Kangaroo\": [\"Kangaroo\", \"Image of Kangaroo\", \"Picture of Kangaroo\", \"Kangaroos\", \"Kangaroo in the Wild\"],\n",
    "    \"Koala\": [\"Koala\", \"Image of Koala\", \"Picture of Koala\", \"Koalas\", \"Koala in the Wild\"],\n",
    "    \"Ladybug\": [\"Ladybug\", \"Image of Ladybug\", \"Picture of Ladybug\", \"Ladybugs\", \"Ladybug in the Wild\"],\n",
    "    \"Leopard\": [\"Leopard\", \"Image of Leopard\", \"Picture of Leopard\", \"Leopards\", \"Leopard in the Wild\"],\n",
    "    \"Lion\": [\"Lion\", \"Image of Lion\", \"Picture of Lion\", \"Lions\", \"Lion in the Wild\"],\n",
    "    \"Lizard\": [\"Lizard\", \"Image of Lizard\", \"Picture of Lizard\", \"Lizards\", \"Lizard in the Wild\"],\n",
    "    \"Lynx\": [\"Lynx\", \"Image of Lynx\", \"Picture of Lynx\", \"Lynxes\", \"Lynx in the Wild\"],\n",
    "    \"Magpie\": [\"Magpie\", \"Image of Magpie\", \"Picture of Magpie\", \"Magpies\", \"Magpie in the Wild\"],\n",
    "    \"Monkey\": [\"Monkey\", \"Image of Monkey\", \"Picture of Monkey\", \"Monkeys\", \"Monkey in the Wild\"],\n",
    "    \"Moths and Butterflies\": [\"Moths and Butterflies\", \"Image of Moths and Butterflies\", \"Picture of Moths and Butterflies\", \"Moths and Butterflies\", \"Moths and Butterflies in the Wild\"],\n",
    "    \"Mouse\": [\"Mouse\", \"Image of Mouse\", \"Picture of Mouse\", \"Mice\", \"Mouse in the Wild\"],\n",
    "    \"Mule\": [\"Mule\", \"Image of Mule\", \"Picture of Mule\", \"Mules\", \"Mule in the Wild\"],\n",
    "    \"Ostrich\": [\"Ostrich\", \"Image of Ostrich\", \"Picture of Ostrich\", \"Ostriches\", \"Ostrich in the Wild\"],\n",
    "    \"Otter\": [\"Otter\", \"Image of Otter\", \"Picture of Otter\", \"Otters\", \"Otter in the Wild\"],\n",
    "    \"Owl\": [\"Owl\", \"Image of Owl\", \"Picture of Owl\", \"Owls\", \"Owl in the Wild\"],\n",
    "    \"Panda\": [\"Panda\", \"Image of Panda\", \"Picture of Panda\", \"Pandas\", \"Panda in the Wild\"],\n",
    "    \"Parrot\": [\"Parrot\", \"Image of Parrot\", \"Picture of Parrot\", \"Parrots\", \"Parrot in the Wild\"],\n",
    "    \"Penguin\": [\"Penguin\", \"Image of Penguin\", \"Picture of Penguin\", \"Penguins\", \"Penguin in the Wild\"],\n",
    "    \"Pig\": [\"Pig\", \"Image of Pig\", \"Picture of Pig\", \"Pigs\", \"Pig in the Wild\"],\n",
    "    \"Polar Bear\": [\"Polar Bear\", \"Image of Polar Bear\", \"Picture of Polar Bear\", \"Polar Bears\", \"Polar Bear in the Wild\"],\n",
    "    \"Rabbit\": [\"Rabbit\", \"Image of Rabbit\", \"Picture of Rabbit\", \"Rabbits\", \"Rabbit in the Wild\"],\n",
    "    \"Raccoon\": [\"Raccoon\", \"Image of Raccoon\", \"Picture of Raccoon\", \"Raccoons\", \"Raccoon in the Wild\"],\n",
    "    \"Raven\": [\"Raven\", \"Image of Raven\", \"Picture of Raven\", \"Ravens\", \"Raven in the Wild\"],\n",
    "    \"Red Panda\": [\"Red Panda\", \"Image of Red Panda\", \"Picture of Red Panda\", \"Red Pandas\", \"Red Panda in the Wild\"],\n",
    "    \"Rhinoceros\": [\"Rhinoceros\", \"Image of Rhinoceros\", \"Picture of Rhinoceros\", \"Rhinoceroses\", \"Rhinoceros in the Wild\"],\n",
    "    \"Scorpion\": [\"Scorpion\", \"Image of Scorpion\", \"Picture of Scorpion\", \"Scorpions\", \"Scorpion in the Wild\"],\n",
    "    \"Seahorse\": [\"Seahorse\", \"Image of Seahorse\", \"Picture of Seahorse\", \"Seahorses\", \"Seahorse in the Wild\"],\n",
    "    \"Sea Lion\": [\"Sea Lion\", \"Image of Sea Lion\", \"Picture of Sea Lion\", \"Sea Lions\", \"Sea Lion in the Wild\"],\n",
    "    \"Sea Turtle\": [\"Sea Turtle\", \"Image of Sea Turtle\", \"Picture of Sea Turtle\", \"Sea Turtles\", \"Sea Turtle in the Wild\"],\n",
    "    \"Shark\": [\"Shark\", \"Image of Shark\", \"Picture of Shark\", \"Sharks\", \"Shark in the Wild\"],\n",
    "    \"Sheep\": [\"Sheep\", \"Image of Sheep\", \"Picture of Sheep\", \"Sheep\", \"Sheep in the Wild\"],\n",
    "    \"Shrimp\": [\"Shrimp\", \"Image of Shrimp\", \"Picture of Shrimp\", \"Shrimp\", \"Shrimp in the Wild\"],\n",
    "    \"Snail\": [\"Snail\", \"Image of Snail\", \"Picture of Snail\", \"Snails\", \"Snail in the Wild\"],\n",
    "    \"Snake\": [\"Snake\", \"Image of Snake\", \"Picture of Snake\", \"Snakes\", \"Snake in the Wild\"],\n",
    "    \"Sparrow\": [\"Sparrow\", \"Image of Sparrow\", \"Picture of Sparrow\", \"Sparrows\", \"Sparrow in the Wild\"],\n",
    "    \"Spider\": [\"Spider\", \"Image of Spider\", \"Picture of Spider\", \"Spiders\", \"Spider in the Wild\"],\n",
    "    \"Squid\": [\"Squid\", \"Image of Squid\", \"Picture of Squid\", \"Squid\", \"Squid in the Wild\"],\n",
    "    \"Squirrel\": [\"Squirrel\", \"Image of Squirrel\", \"Picture of Squirrel\", \"Squirrels\", \"Squirrel in the Wild\"],\n",
    "    \"Starfish\": [\"Starfish\", \"Image of Starfish\", \"Picture of Starfish\", \"Starfish\", \"Starfish in the Wild\"],\n",
    "    \"Swan\": [\"Swan\", \"Image of Swan\", \"Picture of Swan\", \"Swans\", \"Swan in the Wild\"],\n",
    "    \"Tick\": [\"Tick\", \"Image of Tick\", \"Picture of Tick\", \"Ticks\", \"Tick in the Wild\"],\n",
    "    \"Tiger\": [\"Tiger\", \"Image of Tiger\", \"Picture of Tiger\", \"Tigers\", \"Tiger in the Wild\"],\n",
    "    \"Tortoise\": [\"Tortoise\", \"Image of Tortoise\", \"Picture of Tortoise\", \"Tortoises\", \"Tortoise in the Wild\"],\n",
    "    \"Turkey\": [\"Turkey\", \"Image of Turkey\", \"Picture of Turkey\", \"Turkeys\", \"Turkey in the Wild\"],\n",
    "    \"Turtle\": [\"Turtle\", \"Image of Turtle\", \"Picture of Turtle\", \"Turtles\", \"Turtle in the Wild\"],\n",
    "    \"Whale\": [\"Whale\", \"Image of Whale\", \"Picture of Whale\", \"Whales\", \"Whale in the Wild\"],\n",
    "    \"Woodpecker\": [\"Woodpecker\", \"Image of Woodpecker\", \"Picture of Woodpecker\", \"Woodpeckers\", \"Woodpecker in the Wild\"],\n",
    "    \"Worm\": [\"Worm\", \"Image of Worm\", \"Picture of Worm\", \"Worms\", \"Worm in the Wild\"],\n",
    "    \"Zebra\": [\"Zebra\", \"Image of Zebra\", \"Picture of Zebra\", \"Zebras\", \"Zebra in the Wild\"]\n",
    "}\n",
    "\n",
    "\n",
    "# Bear, Image of Bear, Picture of Bear, Bears, Bear in the Wild, Brown Bear, Image of Brown Bear, Picture of Brown Bear, Brown Bears, Brown Bear in the Wild, Bull, Image of Bull, Picture of Bull, Bulls, Bull in the Wild, Butterfly, Image of Butterfly, Picture of Butterfly, Butterflies, Butterfly in the Wild, Camel, Image of Camel, Picture of Camel, Camels, Camel in the Wild, Canary, Image of Canary, Picture of Canary, Canaries, Canary in the Wild, Caterpillar, Image of Caterpillar, Picture of Caterpillar, Caterpillars, Caterpillar in the Wild, Cattle, Image of Cattle, Picture of Cattle, Cattle, Cattle in the Wild, Centipede, Image of Centipede, Picture of Centipede, Centipedes, Centipede in the Wild, Cheetah, Image of Cheetah, Picture of Cheetah, Cheetahs, Cheetah in the Wild, Chicken, Image of Chicken, Picture of Chicken, Chickens, Chicken in the Wild, Crab, Image of Crab, Picture of Crab, Crabs, Crab in the Wild, Crocodile, Image of Crocodile, Picture of Crocodile, Crocodiles, Crocodile in the Wild, Deer, Image of Deer, Picture of Deer, Deer, Deer in the Wild, Duck, Image of Duck, Picture of Duck, Ducks, Duck in the Wild, Eagle, Image of Eagle, Picture of Eagle, Eagles, Eagle in the Wild, Elephant, Image of Elephant, Picture of Elephant, Elephants, Elephant in the Wild, Fish, Image of Fish, Picture of Fish, Fish, Fish in the Wild, Fox, Image of Fox, Picture of Fox, Foxes, Fox in the Wild, Frog, Image of Frog, Picture of Frog, Frogs, Frog in the Wild, Giraffe, Image of Giraffe, Picture of Giraffe, Giraffes, Giraffe in the Wild, Goat, Image of Goat, Picture of Goat, Goats, Goat in the Wild, Goldfish, Image of Goldfish, Picture of Goldfish, Goldfish, Goldfish in the Wild, Goose, Image of Goose, Picture of Goose, Geese, Goose in the Wild, Hamster, Image of Hamster, Picture of Hamster, Hamsters, Hamster in the Wild, Harbor Seal, Image of Harbor Seal, Picture of Harbor Seal, Harbor Seals, Harbor Seal in the Wild, Hedgehog, Image of Hedgehog, Picture of Hedgehog, Hedgehogs, Hedgehog in the Wild, Hippopotamus, Image of Hippopotamus, Picture of Hippopotamus, Hippopotamuses, Hippopotamus in the Wild, Horse, Image of Horse, Picture of Horse, Horses, Horse in the Wild, Jaguar, Image of Jaguar, Picture of Jaguar, Jaguars, Jaguar in the Wild, Jellyfish, Image of Jellyfish, Picture of Jellyfish, Jellyfish, Jellyfish in the Wild, Kangaroo, Image of Kangaroo, Picture of Kangaroo, Kangaroos, Kangaroo in the Wild, Koala, Image of Koala, Picture of Koala, Koalas, Koala in the Wild, Ladybug, Image of Ladybug, Picture of Ladybug, Ladybugs, Ladybug in the Wild, Leopard, Image of Leopard, Picture of Leopard, Leopards, Leopard in the Wild, Lion, Image of Lion, Picture of Lion, Lions, Lion in the Wild, Lizard, Image of Lizard, Picture of Lizard, Lizards, Lizard in the Wild, Lynx, Image of Lynx, Picture of Lynx, Lynxes, Lynx in the Wild, Magpie, Image of Magpie, Picture of Magpie, Magpies, Magpie in the Wild, Monkey, Image of Monkey, Picture of Monkey, Monkeys, Monkey in the Wild, Moths and Butterflies, Image of Moths and Butterflies, Picture of Moths and Butterflies, Moths and Butterflies, Moths and Butterflies in the Wild, Mouse, Image of Mouse, Picture of Mouse, Mice, Mouse in the Wild, Mule, Image of Mule, Picture of Mule, Mules, Mule in the Wild, Ostrich, Image of Ostrich, Picture of Ostrich, Ostriches, Ostrich in the Wild, Otter, Image of Otter, Picture of Otter, Otters, Otter in the Wild, Owl, Image of Owl, Picture of Owl, Owls, Owl in the Wild, Panda, Image of Panda, Picture of Panda, Pandas, Panda in the Wild, Parrot, Image of Parrot, Picture of Parrot, Parrots, Parrot in the Wild, Penguin, Image of Penguin, Picture of Penguin, Penguins, Penguin in the Wild, Pig, Image of Pig, Picture of Pig, Pigs, Pig in the Wild, Polar Bear, Image of Polar Bear, Picture of Polar Bear, Polar Bears, Polar Bear in the Wild, Rabbit, Image of Rabbit, Picture of Rabbit, Rabbits, Rabbit in the Wild, Raccoon, Image of Raccoon, Picture of Raccoon, Raccoons, Raccoon in the Wild, Raven, Image of Raven, Picture of Raven, Ravens, Raven in the Wild, Red Panda, Image of Red Panda, Picture of Red Panda, Red Pandas, Red Panda in the Wild, Rhinoceros, Image of Rhinoceros, Picture of Rhinoceros, Rhinoceroses, Rhinoceros in the Wild, Scorpion, Image of Scorpion, Picture of Scorpion, Scorpions, Scorpion in the Wild, Seahorse, Image of Seahorse, Picture of Seahorse, Seahorses, Seahorse in the Wild, Sea Lion, Image of Sea Lion, Picture of Sea Lion, Sea Lions, Sea Lion in the Wild, Sea Turtle, Image of Sea Turtle, Picture of Sea Turtle, Sea Turtles, Sea Turtle in the Wild, Shark, Image of Shark, Picture of Shark, Sharks, Shark in the Wild, Sheep, Image of Sheep, Picture of Sheep, Sheep, Sheep in the Wild, Shrimp, Image of Shrimp, Picture of Shrimp, Shrimp, Shrimp in the Wild, Snail, Image of Snail, Picture of Snail, Snails, Snail in the Wild, Snake, Image of Snake, Picture of Snake, Snakes, Snake in the Wild, Sparrow, Image of Sparrow, Picture of Sparrow, Sparrows, Sparrow in the Wild, Spider, Image of Spider, Picture of Spider, Spiders, Spider in the Wild, Squid, Image of Squid, Picture of Squid, Squid, Squid in the Wild, Squirrel, Image of Squirrel, Picture of Squirrel, Squirrels, Squirrel in the Wild, Starfish, Image of Starfish, Picture of Starfish, Starfish, Starfish in the Wild, Swan, Image of Swan, Picture of Swan, Swans, Swan in the Wild, Tick, Image of Tick, Picture of Tick, Ticks, Tick in the Wild, Tiger, Image of Tiger, Picture of Tiger, Tigers, Tiger in the Wild, Tortoise, Image of Tortoise, Picture of Tortoise, Tortoises, Tortoise in the Wild, Turkey, Image of Turkey, Picture of Turkey, Turkeys, Turkey in the Wild, Turtle, Image of Turtle, Picture of Turtle, Turtles, Turtle in the Wild, Whale, Image of Whale, Picture of Whale, Whales, Whale in the Wild, Woodpecker, Image of Woodpecker, Picture of Woodpecker, Woodpeckers, Woodpecker in the Wild, Worm, Image of Worm, Picture of Worm, Worms, Worm in the Wild, Zebra, Image of Zebra, Picture of Zebra, Zebras, Zebra in the Wild\n",
    "\n",
    "# dict_size(a400)\n",
    "# print(a400.values())\n",
    "# print(aOcheck_accuracy('animal80/a400.csv', a400))\n"
   ]
  },
  {
   "cell_type": "markdown",
   "metadata": {},
   "source": [
    "## Animal 4"
   ]
  },
  {
   "cell_type": "code",
   "execution_count": 14,
   "metadata": {},
   "outputs": [],
   "source": [
    "dict_8 = {\n",
    "    \"Buffalo\": [\"Buffalo\", \"Buffaloes\"],\n",
    "    \"Elephant\": [\"Elephant\", \"Elephants\"],\n",
    "    \"Rhino\": [\"Rhino\", \"Rhinoceros\"],\n",
    "    \"Zebra\": [\"Zebra\", \"Zebras\"],\n",
    "}\n",
    "\n",
    "#Buffalo,Buffaloes,Elephant,Elephants,Rhino,Rhinoceros,Zebra,Zebras\n",
    "\n",
    "# dict_size(dict_8)\n",
    "# print(aOcheck_accuracy(\"animal4/AO8.csv\", dict_8))"
   ]
  },
  {
   "cell_type": "code",
   "execution_count": 15,
   "metadata": {},
   "outputs": [],
   "source": [
    "dict_12 = {\n",
    "    \"Buffalo\": [\"Buffalo\", \"Buffaloes\", \"Picture of Buffalo\"],\n",
    "    \"Elephant\": [\"Elephant\", \"Elephants\", \"Picture of Elephant\"],\n",
    "    \"Rhino\": [\"Rhino\", \"Rhinoceros\", \"Picture of Rhino\"],\n",
    "    \"Zebra\": [\"Zebra\", \"Zebras\", \"Picture of Zebra\"],\n",
    "}\n",
    "\n",
    "# Buffalo, Buffaloes, Picture of Buffalo, Elephant, Elephants, Picture of Elephant, Rhino, Rhinoceros, Picture of Rhino, Zebra, Zebras, Picture of Zebra\n",
    "\n",
    "# dict_size(dict_12)\n",
    "# print(aOcheck_accuracy(\"animal4/AO12.csv\", dict_12))\n"
   ]
  },
  {
   "cell_type": "code",
   "execution_count": 16,
   "metadata": {},
   "outputs": [],
   "source": [
    "dict_16 = {\n",
    "    \"Buffalo\": [\"Buffalo\", \"Buffaloes\", \"Picture of Buffalo\", \"Image of Buffalo\"],\n",
    "    \"Elephant\": [\"Elephant\", \"Elephants\", \"Picture of Elephant\", \"Image of Elephant\"],\n",
    "    \"Rhino\": [\"Rhino\", \"Rhinoceros\", \"Picture of Rhino\", \"Image of Rhino\"],\n",
    "    \"Zebra\": [\"Zebra\", \"Zebras\", \"Picture of Zebra\", \"Image of Zebra\"],\n",
    "}\n",
    "\n",
    "# Buffalo, Buffaloes, Picture of Buffalo, Image of Buffalo, Elephant, Elephants, Picture of Elephant, Image of Elephant, Rhino, Rhinoceros, Picture of Rhino, Image of Rhino, Zebra, Zebras, Picture of Zebra, Image of Zebra\n",
    "\n",
    "# dict_size(dict_16)\n",
    "# print(aOcheck_accuracy(\"animal4/AO16.csv\", dict_16))\n"
   ]
  },
  {
   "cell_type": "code",
   "execution_count": 17,
   "metadata": {},
   "outputs": [],
   "source": [
    "dict_20 = {\n",
    "    \"Buffalo\": [\"Buffalo\", \"Buffaloes\", \"Picture of Buffalo\", \"Image of Buffalo\", \"Wild Buffalo\"],\n",
    "    \"Elephant\": [\"Elephant\", \"Elephants\", \"Picture of Elephant\", \"Image of Elephant\", \"Wild Elephant\"],\n",
    "    \"Rhino\": [\"Rhino\", \"Rhinoceros\", \"Picture of Rhino\", \"Image of Rhino\", \"Wild Rhino\"],\n",
    "    \"Zebra\": [\"Zebra\", \"Zebras\", \"Picture of Zebra\", \"Image of Zebra\", \"Wild Zebra\"],\n",
    "}\n",
    "\n",
    "# Buffalo, Buffaloes, Picture of Buffalo, Image of Buffalo, Wild Buffalo, Elephant, Elephants, Picture of Elephant, Image of Elephant, Wild Elephant, Rhino, Rhinoceros, Picture of Rhino, Image of Rhino, Wild Rhino, Zebra, Zebras, Picture of Zebra, Image of Zebra, Wild Zebra\n",
    "\n",
    "# dict_size(dict_20)\n",
    "# print(aOcheck_accuracy(\"animal4/AO20.csv\", dict_20))\n"
   ]
  },
  {
   "cell_type": "code",
   "execution_count": 18,
   "metadata": {},
   "outputs": [],
   "source": [
    "dict_24 = {\n",
    "    \"Buffalo\": [\"Buffalo\", \"Buffaloes\", \"Picture of Buffalo\", \"Image of Buffalo\", \"Wild Buffalo\", \"Buffalo Herd\"],\n",
    "    \"Elephant\": [\"Elephant\", \"Elephants\", \"Picture of Elephant\", \"Image of Elephant\", \"Wild Elephant\", \"Elephant Herd\"],\n",
    "    \"Rhino\": [\"Rhino\", \"Rhinoceros\", \"Picture of Rhino\", \"Image of Rhino\", \"Wild Rhino\", \"Rhino Herd\"],\n",
    "    \"Zebra\": [\"Zebra\", \"Zebras\", \"Picture of Zebra\", \"Image of Zebra\", \"Wild Zebra\", \"Zebra Herd\"],\n",
    "}\n",
    "\n",
    "# Buffalo, Buffaloes, Picture of Buffalo, Image of Buffalo, Wild Buffalo, Buffalo Herd, Elephant, Elephants, Picture of Elephant, Image of Elephant, Wild Elephant, Elephant Herd, Rhino, Rhinoceros, Picture of Rhino, Image of Rhino, Wild Rhino, Rhino Herd, Zebra, Zebras, Picture of Zebra, Image of Zebra, Wild Zebra, Zebra Herd\n",
    "\n",
    "# dict_size(dict_24)\n",
    "# print(aOcheck_accuracy(\"animal4/AO24.csv\", dict_24))\n"
   ]
  },
  {
   "cell_type": "code",
   "execution_count": 19,
   "metadata": {},
   "outputs": [],
   "source": [
    "dict_32 = {\n",
    "    \"Buffalo\": [\"Buffalo\", \"Buffaloes\", \"Picture of Buffalo\", \"Image of Buffalo\", \"Wild Buffalo\", \"Buffalo Herd\", \"African Buffalo\", \"Buffalo in the Wild\"],\n",
    "    \"Elephant\": [\"Elephant\", \"Elephants\", \"Picture of Elephant\", \"Image of Elephant\", \"Wild Elephant\", \"Elephant Herd\", \"African Elephant\", \"Elephant in the Wild\"],\n",
    "    \"Rhino\": [\"Rhino\", \"Rhinoceros\", \"Picture of Rhino\", \"Image of Rhino\", \"Wild Rhino\", \"Rhino Herd\", \"African Rhino\", \"Rhino in the Wild\"],\n",
    "    \"Zebra\": [\"Zebra\", \"Zebras\", \"Picture of Zebra\", \"Image of Zebra\", \"Wild Zebra\", \"Zebra Herd\", \"African Zebra\", \"Zebra in the Wild\"],\n",
    "}\n",
    "\n",
    "# Buffalo, Buffaloes, Picture of Buffalo, Image of Buffalo, Wild Buffalo, Buffalo Herd, African Buffalo, Buffalo in the Wild, Elephant, Elephants, Picture of Elephant, Image of Elephant, Wild Elephant, Elephant Herd, African Elephant, Elephant in the Wild, Rhino, Rhinoceros, Picture of Rhino, Image of Rhino, Wild Rhino, Rhino Herd, African Rhino, Rhino in the Wild, Zebra, Zebras, Picture of Zebra, Image of Zebra, Wild Zebra, Zebra Herd, African Zebra, Zebra in the Wild\n",
    "\n",
    "# dict_size(dict_32)\n",
    "# print(aOcheck_accuracy(\"animal4/AO32.csv\", dict_32))\n"
   ]
  },
  {
   "cell_type": "code",
   "execution_count": 20,
   "metadata": {},
   "outputs": [],
   "source": [
    "dict_36 = {\n",
    "    \"Buffalo\": [\"Buffalo\", \"Buffaloes\", \"Picture of Buffalo\", \"Image of Buffalo\", \"Wild Buffalo\", \"Buffalo Herd\", \"African Buffalo\", \"Buffalo in the Wild\", \"Large Buffalo\"],\n",
    "    \"Elephant\": [\"Elephant\", \"Elephants\", \"Picture of Elephant\", \"Image of Elephant\", \"Wild Elephant\", \"Elephant Herd\", \"African Elephant\", \"Elephant in the Wild\", \"Large Elephant\"],\n",
    "    \"Rhino\": [\"Rhino\", \"Rhinoceros\", \"Picture of Rhino\", \"Image of Rhino\", \"Wild Rhino\", \"Rhino Herd\", \"African Rhino\", \"Rhino in the Wild\", \"Large Rhino\"],\n",
    "    \"Zebra\": [\"Zebra\", \"Zebras\", \"Picture of Zebra\", \"Image of Zebra\", \"Wild Zebra\", \"Zebra Herd\", \"African Zebra\", \"Zebra in the Wild\", \"Large Zebra\"],\n",
    "}\n",
    "\n",
    "# Buffalo, Buffaloes, Picture of Buffalo, Image of Buffalo, Wild Buffalo, Buffalo Herd, African Buffalo, Buffalo in the Wild, Large Buffalo, Elephant, Elephants, Picture of Elephant, Image of Elephant, Wild Elephant, Elephant Herd, African Elephant, Elephant in the Wild, Large Elephant, Rhino, Rhinoceros, Picture of Rhino, Image of Rhino, Wild Rhino, Rhino Herd, African Rhino, Rhino in the Wild, Large Rhino, Zebra, Zebras, Picture of Zebra, Image of Zebra, Wild Zebra, Zebra Herd, African Zebra, Zebra in the Wild, Large Zebra\n",
    "\n",
    "# dict_size(dict_36)\n",
    "# print(aOcheck_accuracy(\"animal4/AO36.csv\", dict_36))\n"
   ]
  },
  {
   "cell_type": "code",
   "execution_count": 21,
   "metadata": {},
   "outputs": [],
   "source": [
    "dict_40 = {\n",
    "    \"Buffalo\": [\"Buffalo\", \"Buffaloes\", \"Picture of Buffalo\", \"Image of Buffalo\", \"Wild Buffalo\", \"Buffalo Herd\", \"African Buffalo\", \"Buffalo in the Wild\", \"Large Buffalo\", \"Buffalo Plains\"],\n",
    "    \"Elephant\": [\"Elephant\", \"Elephants\", \"Picture of Elephant\", \"Image of Elephant\", \"Wild Elephant\", \"Elephant Herd\", \"African Elephant\", \"Elephant in the Wild\", \"Large Elephant\", \"Elephant Plains\"],\n",
    "    \"Rhino\": [\"Rhino\", \"Rhinoceros\", \"Picture of Rhino\", \"Image of Rhino\", \"Wild Rhino\", \"Rhino Herd\", \"African Rhino\", \"Rhino in the Wild\", \"Large Rhino\", \"Rhino Plains\"],\n",
    "    \"Zebra\": [\"Zebra\", \"Zebras\", \"Picture of Zebra\", \"Image of Zebra\", \"Wild Zebra\", \"Zebra Herd\", \"African Zebra\", \"Zebra in the Wild\", \"Large Zebra\", \"Zebra Plains\"],\n",
    "}\n",
    "\n",
    "# Buffalo, Buffaloes, Picture of Buffalo, Image of Buffalo, Wild Buffalo, Buffalo Herd, African Buffalo, Buffalo in the Wild, Large Buffalo, Buffalo Plains, Elephant, Elephants, Picture of Elephant, Image of Elephant, Wild Elephant, Elephant Herd, African Elephant, Elephant in the Wild, Large Elephant, Elephant Plains, Rhino, Rhinoceros, Picture of Rhino, Image of Rhino, Wild Rhino, Rhino Herd, African Rhino, Rhino in the Wild, Large Rhino, Rhino Plains, Zebra, Zebras, Picture of Zebra, Image of Zebra, Wild Zebra, Zebra Herd, African Zebra, Zebra in the Wild, Large Zebra, Zebra Plains\n",
    "\n",
    "# dict_size(dict_40)\n",
    "# print(aOcheck_accuracy(\"animal4/AO40.csv\", dict_40))\n"
   ]
  },
  {
   "cell_type": "code",
   "execution_count": 22,
   "metadata": {},
   "outputs": [],
   "source": [
    "dict_44 = {#problem\n",
    "    \"Buffalo\": [\"Buffalo\", \"Buffaloes\", \"Picture of Buffalo\", \"Image of Buffalo\", \"Wild Buffalo\", \"Buffalo Herd\", \"African Buffalo\", \"Buffalo in the Wild\", \"Large Buffalo\", \"Buffalo Plains\", \"Moving Buffalo\"],\n",
    "    \"Elephant\": [\"Elephant\", \"Elephants\", \"Picture of Elephant\", \"Image of Elephant\", \"Wild Elephant\", \"Elephant Herd\", \"African Elephant\", \"Elephant in the Wild\", \"Large Elephant\", \"Elephant Plains\", \"Moving Elephant\"],\n",
    "    \"Rhino\": [\"Rhino\", \"Rhinoceros\", \"Picture of Rhino\", \"Image of Rhino\", \"Wild Rhino\", \"Rhino Herd\", \"African Rhino\", \"Rhino in the Wild\", \"Large Rhino\", \"Rhino Plains\", \"Moving Rhino\"],\n",
    "    \"Zebra\": [\"Zebra\", \"Zebras\", \"Picture of Zebra\", \"Image of Zebra\", \"Wild Zebra\", \"Zebra Herd\", \"African Zebra\", \"Zebra in the Wild\", \"Large Zebra\", \"Zebra Plains\", \"Moving Zebra\"],\n",
    "}\n",
    "\n",
    "# Buffalo, Buffaloes, Picture of Buffalo, Image of Buffalo, Wild Buffalo, Buffalo Herd, African Buffalo, Buffalo in the Wild, Large Buffalo, Buffalo Plains, Moving Buffalo, Elephant, Elephants, Picture of Elephant, Image of Elephant, Wild Elephant, Elephant Herd, African Elephant, Elephant in the Wild, Large Elephant, Elephant Plains, Moving Elephant, Rhino, Rhinoceros, Picture of Rhino, Image of Rhino, Wild Rhino, Rhino Herd, African Rhino, Rhino in the Wild, Large Rhino, Rhino Plains, Moving Rhino, Zebra, Zebras, Picture of Zebra, Image of Zebra, Wild Zebra, Zebra Herd, African Zebra, Zebra in the Wild, Large Zebra, Zebra Plains, Moving Zebra\n",
    "\n",
    "# dict_size(dict_44)\n",
    "# print(aOcheck_accuracy(\"animal4/AO44.csv\", dict_44))\n"
   ]
  },
  {
   "cell_type": "code",
   "execution_count": 23,
   "metadata": {},
   "outputs": [],
   "source": [
    "dict_48 = {\n",
    "    \"Buffalo\": [\"Buffalo\", \"Buffaloes\", \"Picture of Buffalo\", \"Image of Buffalo\", \"Wild Buffalo\", \"Buffalo Herd\", \"African Buffalo\", \"Buffalo in the Wild\", \"Large Buffalo\", \"Buffalo Plains\", \"Moving Buffalo\", \"American Buffalo\"],\n",
    "    \"Elephant\": [\"Elephant\", \"Elephants\", \"Picture of Elephant\", \"Image of Elephant\", \"Wild Elephant\", \"Elephant Herd\", \"African Elephant\", \"Elephant in the Wild\", \"Large Elephant\", \"Elephant Plains\", \"Moving Elephant\", \"Asian Elephant\"],\n",
    "    \"Rhino\": [\"Rhino\", \"Rhinoceros\", \"Picture of Rhino\", \"Image of Rhino\", \"Wild Rhino\", \"Rhino Herd\", \"African Rhino\", \"Rhino in the Wild\", \"Large Rhino\", \"Rhino Plains\", \"Moving Rhino\", \"Black Rhino\"],\n",
    "    \"Zebra\": [\"Zebra\", \"Zebras\", \"Picture of Zebra\", \"Image of Zebra\", \"Wild Zebra\", \"Zebra Herd\", \"African Zebra\", \"Zebra in the Wild\", \"Large Zebra\", \"Zebra Plains\", \"Moving Zebra\", \"Wild Plains Zebra\"],\n",
    "}\n",
    "\n",
    "# Buffalo, Buffaloes, Picture of Buffalo, Image of Buffalo, Wild Buffalo, Buffalo Herd, African Buffalo, Buffalo in the Wild, Large Buffalo, Buffalo Plains, Moving Buffalo, American Buffalo, Elephant, Elephants, Picture of Elephant, Image of Elephant, Wild Elephant, Elephant Herd, African Elephant, Elephant in the Wild, Large Elephant, Elephant Plains, Moving Elephant, Asian Elephant, Rhino, Rhinoceros, Picture of Rhino, Image of Rhino, Wild Rhino, Rhino Herd, African Rhino, Rhino in the Wild, Large Rhino, Rhino Plains, Moving Rhino, Black Rhino, Zebra, Zebras, Picture of Zebra, Image of Zebra, Wild Zebra, Zebra Herd, African Zebra, Zebra in the Wild, Large Zebra, Zebra Plains, Moving Zebra, Wild Plains Zebra\n",
    "\n",
    "# dict_size(dict_48)\n",
    "# print(aOcheck_accuracy(\"animal4/AO48.csv\", dict_48))\n"
   ]
  },
  {
   "cell_type": "code",
   "execution_count": 24,
   "metadata": {},
   "outputs": [],
   "source": [
    "dict_52 = {\n",
    "    \"Buffalo\": [\"Buffalo\", \"Buffaloes\", \"Picture of Buffalo\", \"Image of Buffalo\", \"Wild Buffalo\", \"Buffalo Herd\", \"African Buffalo\", \"Buffalo in the Wild\", \"Large Buffalo\", \"Buffalo Plains\", \"Moving Buffalo\", \"American Buffalo\", \"Buffalo in Herds\"],\n",
    "    \"Elephant\": [\"Elephant\", \"Elephants\", \"Picture of Elephant\", \"Image of Elephant\", \"Wild Elephant\", \"Elephant Herd\", \"African Elephant\", \"Elephant in the Wild\", \"Large Elephant\", \"Elephant Plains\", \"Moving Elephant\", \"Asian Elephant\", \"Elephant in Herds\"],\n",
    "    \"Rhino\": [\"Rhino\", \"Rhinoceros\", \"Picture of Rhino\", \"Image of Rhino\", \"Wild Rhino\", \"Rhino Herd\", \"African Rhino\", \"Rhino in the Wild\", \"Large Rhino\", \"Rhino Plains\", \"Moving Rhino\", \"Black Rhino\", \"Rhino in Herds\"],\n",
    "    \"Zebra\": [\"Zebra\", \"Zebras\", \"Picture of Zebra\", \"Image of Zebra\", \"Wild Zebra\", \"Zebra Herd\", \"African Zebra\", \"Zebra in the Wild\", \"Large Zebra\", \"Zebra Plains\", \"Moving Zebra\", \"Wild Plains Zebra\", \"Zebra in Herds\"],\n",
    "}\n",
    "\n",
    "# Buffalo, Buffaloes, Picture of Buffalo, Image of Buffalo, Wild Buffalo, Buffalo Herd, African Buffalo, Buffalo in the Wild, Large Buffalo, Buffalo Plains, Moving Buffalo, American Buffalo, Buffalo in Herds, Elephant, Elephants, Picture of Elephant, Image of Elephant, Wild Elephant, Elephant Herd, African Elephant, Elephant in the Wild, Large Elephant, Elephant Plains, Moving Elephant, Asian Elephant, Elephant in Herds, Rhino, Rhinoceros, Picture of Rhino, Image of Rhino, Wild Rhino, Rhino Herd, African Rhino, Rhino in the Wild, Large Rhino, Rhino Plains, Moving Rhino, Black Rhino, Rhino in Herds, Zebra, Zebras, Picture of Zebra, Image of Zebra, Wild Zebra, Zebra Herd, African Zebra, Zebra in the Wild, Large Zebra, Zebra Plains, Moving Zebra, Wild Plains Zebra, Zebra in Herds\n",
    "\n",
    "# dict_size(dict_52)\n",
    "# print(aOcheck_accuracy(\"animal4/AO52.csv\", dict_52))\n"
   ]
  },
  {
   "cell_type": "code",
   "execution_count": 25,
   "metadata": {},
   "outputs": [],
   "source": [
    "dict_56 = {\n",
    "    \"Buffalo\": [\n",
    "        \"Buffalo\", \"Buffaloes\", \"Picture of Buffalo\", \"Image of Buffalo\", \"Wild Buffalo\", \"Buffalo Herd\",\n",
    "        \"African Buffalo\", \"Buffalo in the Wild\", \"Large Buffalo\", \"Buffalo Plains\", \"Moving Buffalo\",\n",
    "        \"American Buffalo\", \"Buffalo in Herds\", \"Savannah Buffalo\"\n",
    "    ],\n",
    "    \"Elephant\": [\n",
    "        \"Elephant\", \"Elephants\", \"Picture of Elephant\", \"Image of Elephant\", \"Wild Elephant\", \"Elephant Herd\",\n",
    "        \"African Elephant\", \"Elephant in the Wild\", \"Large Elephant\", \"Elephant Plains\", \"Moving Elephant\",\n",
    "        \"Asian Elephant\", \"Elephant in Herds\", \"Savannah Elephant\"\n",
    "    ],\n",
    "    \"Rhino\": [\n",
    "        \"Rhino\", \"Rhinoceros\", \"Picture of Rhino\", \"Image of Rhino\", \"Wild Rhino\", \"Rhino Herd\",\n",
    "        \"African Rhino\", \"Rhino in the Wild\", \"Large Rhino\", \"Rhino Plains\", \"Moving Rhino\",\n",
    "        \"Black Rhino\", \"Rhino in Herds\", \"Savannah Rhino\"\n",
    "    ],\n",
    "    \"Zebra\": [\n",
    "        \"Zebra\", \"Zebras\", \"Picture of Zebra\", \"Image of Zebra\", \"Wild Zebra\", \"Zebra Herd\",\n",
    "        \"African Zebra\", \"Zebra in the Wild\", \"Large Zebra\", \"Zebra Plains\", \"Moving Zebra\",\n",
    "        \"Wild Plains Zebra\", \"Zebra in Herds\", \"Savannah Zebra\"\n",
    "    ],\n",
    "}\n",
    "\n",
    "# Buffalo, Buffaloes, Picture of Buffalo, Image of Buffalo, Wild Buffalo, Buffalo Herd, African Buffalo, Buffalo in the Wild, Large Buffalo, Buffalo Plains, Moving Buffalo, American Buffalo, Buffalo in Herds, Savannah Buffalo, Elephant, Elephants, Picture of Elephant, Image of Elephant, Wild Elephant, Elephant Herd, African Elephant, Elephant in the Wild, Large Elephant, Elephant Plains, Moving Elephant, Asian Elephant, Elephant in Herds, Savannah Elephant, Rhino, Rhinoceros, Picture of Rhino, Image of Rhino, Wild Rhino, Rhino Herd, African Rhino, Rhino in the Wild, Large Rhino, Rhino Plains, Moving Rhino, Black Rhino, Rhino in Herds, Savannah Rhino, Zebra, Zebras, Picture of Zebra, Image of Zebra, Wild Zebra, Zebra Herd, African Zebra, Zebra in the Wild, Large Zebra, Zebra Plains, Moving Zebra, Wild Plains Zebra, Zebra in Herds, Savannah Zebra\n",
    "\n",
    "# dict_size(dict_56)\n",
    "# print(aOcheck_accuracy(\"animal4/AO56.csv\", dict_56))\n"
   ]
  },
  {
   "cell_type": "code",
   "execution_count": 26,
   "metadata": {},
   "outputs": [],
   "source": [
    "dict_60 = {\n",
    "    \"Buffalo\": [\n",
    "        \"Buffalo\", \"Buffaloes\", \"Picture of Buffalo\", \"Image of Buffalo\", \"Wild Buffalo\", \"Buffalo Herd\",\n",
    "        \"African Buffalo\", \"Buffalo in the Wild\", \"Large Buffalo\", \"Buffalo Plains\", \"Moving Buffalo\",\n",
    "        \"American Buffalo\", \"Buffalo in Herds\", \"Savannah Buffalo\", \"Horned Buffalo\"\n",
    "    ],\n",
    "    \"Elephant\": [\n",
    "        \"Elephant\", \"Elephants\", \"Picture of Elephant\", \"Image of Elephant\", \"Wild Elephant\", \"Elephant Herd\",\n",
    "        \"African Elephant\", \"Elephant in the Wild\", \"Large Elephant\", \"Elephant Plains\", \"Moving Elephant\",\n",
    "        \"Asian Elephant\", \"Elephant in Herds\", \"Savannah Elephant\", \"Tusker Elephant\"\n",
    "    ],\n",
    "    \"Rhino\": [\n",
    "        \"Rhino\", \"Rhinoceros\", \"Picture of Rhino\", \"Image of Rhino\", \"Wild Rhino\", \"Rhino Herd\",\n",
    "        \"African Rhino\", \"Rhino in the Wild\", \"Large Rhino\", \"Rhino Plains\", \"Moving Rhino\",\n",
    "        \"Black Rhino\", \"Rhino in Herds\", \"Savannah Rhino\", \"Horned Rhino\"\n",
    "    ],\n",
    "    \"Zebra\": [\n",
    "        \"Zebra\", \"Zebras\", \"Picture of Zebra\", \"Image of Zebra\", \"Wild Zebra\", \"Zebra Herd\",\n",
    "        \"African Zebra\", \"Zebra in the Wild\", \"Large Zebra\", \"Zebra Plains\", \"Moving Zebra\",\n",
    "        \"Wild Plains Zebra\", \"Zebra in Herds\", \"Savannah Zebra\", \"Mountain Zebra\"\n",
    "    ],\n",
    "}\n",
    "\n",
    "# Buffalo, Buffaloes, Picture of Buffalo, Image of Buffalo, Wild Buffalo, Buffalo Herd, African Buffalo, Buffalo in the Wild, Large Buffalo, Buffalo Plains, Moving Buffalo, American Buffalo, Buffalo in Herds, Savannah Buffalo, Horned Buffalo, Elephant, Elephants, Picture of Elephant, Image of Elephant, Wild Elephant, Elephant Herd, African Elephant, Elephant in the Wild, Large Elephant, Elephant Plains, Moving Elephant, Asian Elephant, Elephant in Herds, Savannah Elephant, Tusker Elephant, Rhino, Rhinoceros, Picture of Rhino, Image of Rhino, Wild Rhino, Rhino Herd, African Rhino, Rhino in the Wild, Large Rhino, Rhino Plains, Moving Rhino, Black Rhino, Rhino in Herds, Savannah Rhino, Horned Rhino, Zebra, Zebras, Picture of Zebra, Image of Zebra, Wild Zebra, Zebra Herd, African Zebra, Zebra in the Wild, Large Zebra, Zebra Plains, Moving Zebra, Wild Plains Zebra, Zebra in Herds, Savannah Zebra, Mountain Zebra\n",
    "\n",
    "# dict_size(dict_60)\n",
    "# print(aOcheck_accuracy(\"animal4/AO60.csv\", dict_60))\n"
   ]
  },
  {
   "cell_type": "markdown",
   "metadata": {},
   "source": [
    "## CatDog"
   ]
  },
  {
   "cell_type": "code",
   "execution_count": 27,
   "metadata": {},
   "outputs": [],
   "source": [
    "CDdict2 = {\n",
    "        'cat': ['cat'],\n",
    "        'dog': ['dog']\n",
    "    }\n"
   ]
  },
  {
   "cell_type": "code",
   "execution_count": 28,
   "metadata": {},
   "outputs": [],
   "source": [
    "CDdict4 = { \n",
    "    'cat': ['cat', 'picture of cat'],\n",
    "    'dog': ['dog', 'picture of dog']\n",
    "}"
   ]
  },
  {
   "cell_type": "code",
   "execution_count": 29,
   "metadata": {},
   "outputs": [],
   "source": [
    "CDdict6 = { \n",
    "    'cat': ['cat', 'picture of cat', 'cats'],\n",
    "    'dog': ['dog', 'picture of dog', 'dogs']\n",
    "}\n"
   ]
  },
  {
   "cell_type": "code",
   "execution_count": 30,
   "metadata": {},
   "outputs": [],
   "source": [
    "CDdict8 = { \n",
    "    'cat': ['cat', 'picture of cat', 'cats', 'image of cats'],\n",
    "    'dog': ['dog', 'picture of dog', 'dogs', 'image of dogs']\n",
    "}\n"
   ]
  },
  {
   "cell_type": "code",
   "execution_count": 31,
   "metadata": {},
   "outputs": [],
   "source": [
    "CDdict10 = { \n",
    "    'cat': ['cat', 'picture of cat', 'cats', 'image of cats', 'moving cat'],\n",
    "    'dog': ['dog', 'picture of dog', 'dogs', 'image of dogs', 'moving dog']\n",
    "}"
   ]
  },
  {
   "cell_type": "code",
   "execution_count": 32,
   "metadata": {},
   "outputs": [],
   "source": [
    "CDdict12 = { \n",
    "    'cat': ['cat', 'picture of cat', 'cats', 'image of cats', 'moving cat', 'cat picture'],\n",
    "    'dog': ['dog', 'picture of dog', 'dogs', 'image of dogs', 'moving dog', 'dog picture']\n",
    "}"
   ]
  },
  {
   "cell_type": "code",
   "execution_count": 33,
   "metadata": {},
   "outputs": [],
   "source": [
    "CDdict14 = { \n",
    "    'cat': ['cat', 'picture of cat', 'cats', 'image of cats', 'moving cat', 'cat picture', 'cat image'],\n",
    "    'dog': ['dog', 'picture of dog', 'dogs', 'image of dogs', 'moving dog', 'dog picture', 'dog image']\n",
    "}\n"
   ]
  },
  {
   "cell_type": "code",
   "execution_count": 34,
   "metadata": {},
   "outputs": [],
   "source": [
    "CDdict16 = { \n",
    "    'cat': ['cat', 'picture of cat', 'cats', 'image of cats', 'moving cat', 'cat picture', 'cat image', 'cool cat'],\n",
    "    'dog': ['dog', 'picture of dog', 'dogs', 'image of dogs', 'moving dog', 'dog picture', 'dog image', 'cool dog']\n",
    "}\n"
   ]
  },
  {
   "cell_type": "code",
   "execution_count": 35,
   "metadata": {},
   "outputs": [],
   "source": [
    "CDdict18 = { \n",
    "    'cat': ['cat', 'picture of cat', 'cats', 'image of cats', 'moving cat', 'cat picture', 'cat image', 'cool cat', 'sitting cat'],\n",
    "    'dog': ['dog', 'picture of dog', 'dogs', 'image of dogs', 'moving dog', 'dog picture', 'dog image', 'cool dog', 'sitting dog']\n",
    "}\n"
   ]
  },
  {
   "cell_type": "code",
   "execution_count": 36,
   "metadata": {},
   "outputs": [],
   "source": [
    "CDdict20 = { \n",
    "    'cat': ['cat', 'picture of cat', 'cats', 'image of cats', 'moving cat', 'cat picture', 'cat image', 'cool cat', 'sitting cat', 'nice cat'],\n",
    "    'dog': ['dog', 'picture of dog', 'dogs', 'image of dogs', 'moving dog', 'dog picture', 'dog image', 'cool dog', 'sitting dog', 'nice dog']\n",
    "}"
   ]
  },
  {
   "cell_type": "code",
   "execution_count": 37,
   "metadata": {},
   "outputs": [],
   "source": [
    "CDdict22 = { \n",
    "    'cat': ['cat', 'picture of cat', 'cats', 'image of cats', 'moving cat', 'cat picture', 'cat image', 'cool cat', 'sitting cat', 'nice cat', 'image of nice cat'],\n",
    "    'dog': ['dog', 'picture of dog', 'dogs', 'image of dogs', 'moving dog', 'dog picture', 'dog image', 'cool dog', 'sitting dog', 'nice dog', 'image of nice dog']\n",
    "}"
   ]
  },
  {
   "cell_type": "code",
   "execution_count": 38,
   "metadata": {},
   "outputs": [],
   "source": [
    "CDdict24 = { \n",
    "    'cat': ['cat', 'picture of cat', 'cats', 'image of cats', 'moving cat', 'cat picture', 'cat image', 'cool cat', 'sitting cat', 'nice cat', 'image of nice cat', 'image of cool cat'],\n",
    "    'dog': ['dog', 'picture of dog', 'dogs', 'image of dogs', 'moving dog', 'dog picture', 'dog image', 'cool dog', 'sitting dog', 'nice dog', 'image of nice dog', 'image of cool dog']\n",
    "}\n"
   ]
  },
  {
   "cell_type": "code",
   "execution_count": 39,
   "metadata": {},
   "outputs": [],
   "source": [
    "CDdict26 = { \n",
    "    'cat': [\n",
    "        'cat', 'picture of cat', 'cats', 'image of cats', 'moving cat', 'cat picture', 'cat image',\n",
    "        'cool cat', 'sitting cat', 'nice cat', 'image of nice cat', 'image of cool cat', 'image of cat'\n",
    "    ],\n",
    "    'dog': [\n",
    "        'dog', 'picture of dog', 'dogs', 'image of dogs', 'moving dog', 'dog picture', 'dog image',\n",
    "        'cool dog', 'sitting dog', 'nice dog', 'image of nice dog', 'image of cool dog', 'image of dog'\n",
    "    ]\n",
    "}"
   ]
  },
  {
   "cell_type": "code",
   "execution_count": 40,
   "metadata": {},
   "outputs": [],
   "source": [
    "CDdict28 = { \n",
    "    'cat': [\n",
    "        'cat', 'picture of cat', 'cats', 'image of cats', 'moving cat', 'cat picture', 'cat image',\n",
    "        'cool cat', 'sitting cat', 'nice cat', 'image of nice cat', 'image of cool cat', 'image of cat', 'picture of cats'\n",
    "    ],\n",
    "    'dog': [\n",
    "        'dog', 'picture of dog', 'dogs', 'image of dogs', 'moving dog', 'dog picture', 'dog image',\n",
    "        'cool dog', 'sitting dog', 'nice dog', 'image of nice dog', 'image of cool dog', 'image of dog', 'picture of dogs'\n",
    "    ]\n",
    "}"
   ]
  },
  {
   "cell_type": "code",
   "execution_count": 41,
   "metadata": {},
   "outputs": [],
   "source": [
    "CDdict30 = { \n",
    "    'cat': [\n",
    "        'cat', 'picture of cat', 'cats', 'image of cats', 'moving cat', 'cat picture', 'cat image',\n",
    "        'cool cat', 'sitting cat', 'nice cat', 'image of nice cat', 'image of cool cat', 'image of cat',\n",
    "        'picture of cats', 'moving picture of cat'\n",
    "    ],\n",
    "    'dog': [\n",
    "        'dog', 'picture of dog', 'dogs', 'image of dogs', 'moving dog', 'dog picture', 'dog image',\n",
    "        'cool dog', 'sitting dog', 'nice dog', 'image of nice dog', 'image of cool dog', 'image of dog',\n",
    "        'picture of dogs', 'moving picture of dog'\n",
    "    ]\n",
    "}\n"
   ]
  },
  {
   "cell_type": "code",
   "execution_count": 42,
   "metadata": {},
   "outputs": [],
   "source": [
    "CDdict32 = { \n",
    "    'cat': [\n",
    "        'cat', 'picture of cat', 'cats', 'image of cats', 'moving cat', 'cat picture', 'cat image',\n",
    "        'cool cat', 'sitting cat', 'nice cat', 'image of nice cat', 'image of cool cat', 'image of cat',\n",
    "        'picture of cats', 'moving picture of cat', 'cool picture of cat'\n",
    "    ],\n",
    "    'dog': [\n",
    "        'dog', 'picture of dog', 'dogs', 'image of dogs', 'moving dog', 'dog picture', 'dog image',\n",
    "        'cool dog', 'sitting dog', 'nice dog', 'image of nice dog', 'image of cool dog', 'image of dog',\n",
    "        'picture of dogs', 'moving picture of dog', 'cool picture of dog'\n",
    "    ]\n",
    "}\n"
   ]
  },
  {
   "cell_type": "code",
   "execution_count": 43,
   "metadata": {},
   "outputs": [],
   "source": [
    "CDdict36 = { \n",
    "    'cat': [\n",
    "        'cat', 'picture of cat', 'cats', 'image of cats', 'moving cat', 'cat picture', 'cat image',\n",
    "        'cool cat', 'sitting cat', 'nice cat', 'image of nice cat', 'image of cool cat', 'image of cat',\n",
    "        'picture of cats', 'moving picture of cat', 'cool picture of cat',\n",
    "        'funny cat', 'funny image of cat'\n",
    "    ],\n",
    "    'dog': [\n",
    "        'dog', 'picture of dog', 'dogs', 'image of dogs', 'moving dog', 'dog picture', 'dog image',\n",
    "        'cool dog', 'sitting dog', 'nice dog', 'image of nice dog', 'image of cool dog', 'image of dog',\n",
    "        'picture of dogs', 'moving picture of dog', 'cool picture of dog',\n",
    "        'funny dog', 'funny image of dog'\n",
    "    ]\n",
    "}"
   ]
  },
  {
   "cell_type": "code",
   "execution_count": 44,
   "metadata": {},
   "outputs": [],
   "source": [
    "CDdict38 = { \n",
    "    'cat': [\n",
    "        'cat', 'picture of cat', 'cats', 'image of cats', 'moving cat', 'cat picture', 'cat image',\n",
    "        'cool cat', 'sitting cat', 'nice cat', 'image of nice cat', 'image of cool cat', 'image of cat',\n",
    "        'picture of cats', 'moving picture of cat', 'cool picture of cat',\n",
    "        'funny cat', 'funny image of cat', 'funny picture of cat'\n",
    "    ],\n",
    "    'dog': [\n",
    "        'dog', 'picture of dog', 'dogs', 'image of dogs', 'moving dog', 'dog picture', 'dog image',\n",
    "        'cool dog', 'sitting dog', 'nice dog', 'image of nice dog', 'image of cool dog', 'image of dog',\n",
    "        'picture of dogs', 'moving picture of dog', 'cool picture of dog',\n",
    "        'funny dog', 'funny image of dog', 'funny picture of dog'\n",
    "    ]\n",
    "}"
   ]
  },
  {
   "cell_type": "code",
   "execution_count": 45,
   "metadata": {},
   "outputs": [],
   "source": [
    "CDdict42 = { \n",
    "    'cat': [\n",
    "        'cat', 'picture of cat', 'cats', 'image of cats', 'moving cat', 'cat picture', 'cat image',\n",
    "        'cool cat', 'sitting cat', 'nice cat', 'image of nice cat', 'image of cool cat', 'image of cat',\n",
    "        'picture of cats', 'moving picture of cat', 'cool picture of cat',\n",
    "        'funny cat', 'funny image of cat', 'funny picture of cat',\n",
    "        'cute cat', 'cute image of cat'\n",
    "    ],\n",
    "    'dog': [\n",
    "        'dog', 'picture of dog', 'dogs', 'image of dogs', 'moving dog', 'dog picture', 'dog image',\n",
    "        'cool dog', 'sitting dog', 'nice dog', 'image of nice dog', 'image of cool dog', 'image of dog',\n",
    "        'picture of dogs', 'moving picture of dog', 'cool picture of dog',\n",
    "        'funny dog', 'funny image of dog', 'funny picture of dog',\n",
    "        'cute dog', 'cute image of dog'\n",
    "    ]\n",
    "}\n"
   ]
  },
  {
   "cell_type": "code",
   "execution_count": 46,
   "metadata": {},
   "outputs": [],
   "source": [
    "CDdict44 = { \n",
    "    'cat': [\n",
    "        'cat', 'picture of cat', 'cats', 'image of cats', 'moving cat', 'cat picture', 'cat image',\n",
    "        'cool cat', 'sitting cat', 'nice cat', 'image of nice cat', 'image of cool cat', 'image of cat',\n",
    "        'picture of cats', 'moving picture of cat', 'cool picture of cat',\n",
    "        'funny cat', 'funny image of cat', 'funny picture of cat',\n",
    "        'cute cat', 'cute image of cat', 'cute picture of cat'\n",
    "    ],\n",
    "    'dog': [\n",
    "        'dog', 'picture of dog', 'dogs', 'image of dogs', 'moving dog', 'dog picture', 'dog image',\n",
    "        'cool dog', 'sitting dog', 'nice dog', 'image of nice dog', 'image of cool dog', 'image of dog',\n",
    "        'picture of dogs', 'moving picture of dog', 'cool picture of dog',\n",
    "        'funny dog', 'funny image of dog', 'funny picture of dog',\n",
    "        'cute dog', 'cute image of dog', 'cute picture of dog'\n",
    "    ]\n",
    "}"
   ]
  },
  {
   "cell_type": "code",
   "execution_count": 47,
   "metadata": {},
   "outputs": [],
   "source": [
    "CDdict48 = { \n",
    "    'cat': [\n",
    "        'cat', 'picture of cat', 'cats', 'image of cats', 'moving cat', 'cat picture', 'cat image',\n",
    "        'cool cat', 'sitting cat', 'nice cat', 'image of nice cat', 'image of cool cat', 'image of cat',\n",
    "        'picture of cats', 'moving picture of cat', 'cool picture of cat',\n",
    "        'funny cat', 'funny image of cat', 'funny picture of cat',\n",
    "        'cute cat', 'cute image of cat', 'cute picture of cat',\n",
    "        'amazing cat', 'amazing image of cat'\n",
    "    ],\n",
    "    'dog': [\n",
    "        'dog', 'picture of dog', 'dogs', 'image of dogs', 'moving dog', 'dog picture', 'dog image',\n",
    "        'cool dog', 'sitting dog', 'nice dog', 'image of nice dog', 'image of cool dog', 'image of dog',\n",
    "        'picture of dogs', 'moving picture of dog', 'cool picture of dog',\n",
    "        'funny dog', 'funny image of dog', 'funny picture of dog',\n",
    "        'cute dog', 'cute image of dog', 'cute picture of dog',\n",
    "        'amazing dog', 'amazing image of dog'\n",
    "    ]\n",
    "}"
   ]
  },
  {
   "cell_type": "code",
   "execution_count": 48,
   "metadata": {},
   "outputs": [],
   "source": [
    "CDdict50 = { \n",
    "    'cat': [\n",
    "        'cat', 'picture of cat', 'cats', 'image of cats', 'moving cat', 'cat picture', 'cat image',\n",
    "        'cool cat', 'sitting cat', 'nice cat', 'image of nice cat', 'image of cool cat', 'image of cat',\n",
    "        'picture of cats', 'moving picture of cat', 'cool picture of cat',\n",
    "        'funny cat', 'funny image of cat', 'funny picture of cat',\n",
    "        'cute cat', 'cute image of cat', 'cute picture of cat',\n",
    "        'amazing cat', 'amazing image of cat', 'amazing picture of cat'\n",
    "    ],\n",
    "    'dog': [\n",
    "        'dog', 'picture of dog', 'dogs', 'image of dogs', 'moving dog', 'dog picture', 'dog image',\n",
    "        'cool dog', 'sitting dog', 'nice dog', 'image of nice dog', 'image of cool dog', 'image of dog',\n",
    "        'picture of dogs', 'moving picture of dog', 'cool picture of dog',\n",
    "        'funny dog', 'funny image of dog', 'funny picture of dog',\n",
    "        'cute dog', 'cute image of dog', 'cute picture of dog',\n",
    "        'amazing dog', 'amazing image of dog', 'amazing picture of dog'\n",
    "    ]\n",
    "}"
   ]
  },
  {
   "cell_type": "code",
   "execution_count": 49,
   "metadata": {},
   "outputs": [],
   "source": [
    "CDdict52 = { \n",
    "    'cat': [\n",
    "        'cat', 'picture of cat', 'cats', 'image of cats', 'moving cat', 'cat picture', 'cat image',\n",
    "        'cool cat', 'sitting cat', 'nice cat', 'image of nice cat', 'image of cool cat', 'image of cat',\n",
    "        'picture of cats', 'moving picture of cat', 'cool picture of cat',\n",
    "        'funny cat', 'funny image of cat', 'funny picture of cat',\n",
    "        'cute cat', 'cute image of cat', 'cute picture of cat',\n",
    "        'amazing cat', 'amazing image of cat', 'amazing picture of cat',\n",
    "        'adorable cat'\n",
    "    ],\n",
    "    'dog': [\n",
    "        'dog', 'picture of dog', 'dogs', 'image of dogs', 'moving dog', 'dog picture', 'dog image',\n",
    "        'cool dog', 'sitting dog', 'nice dog', 'image of nice dog', 'image of cool dog', 'image of dog',\n",
    "        'picture of dogs', 'moving picture of dog', 'cool picture of dog',\n",
    "        'funny dog', 'funny image of dog', 'funny picture of dog',\n",
    "        'cute dog', 'cute image of dog', 'cute picture of dog',\n",
    "        'amazing dog', 'amazing image of dog', 'amazing picture of dog',\n",
    "        'adorable dog'\n",
    "    ]\n",
    "}"
   ]
  },
  {
   "cell_type": "code",
   "execution_count": 50,
   "metadata": {},
   "outputs": [],
   "source": [
    "CDdict54 = { \n",
    "    'cat': [\n",
    "        'cat', 'picture of cat', 'cats', 'image of cats', 'moving cat', 'cat picture', 'cat image',\n",
    "        'cool cat', 'sitting cat', 'nice cat', 'image of nice cat', 'image of cool cat', 'image of cat',\n",
    "        'picture of cats', 'moving picture of cat', 'cool picture of cat',\n",
    "        'funny cat', 'funny image of cat', 'funny picture of cat',\n",
    "        'cute cat', 'cute image of cat', 'cute picture of cat',\n",
    "        'amazing cat', 'amazing image of cat', 'amazing picture of cat',\n",
    "        'adorable cat', 'adorable image of cat'\n",
    "    ],\n",
    "    'dog': [\n",
    "        'dog', 'picture of dog', 'dogs', 'image of dogs', 'moving dog', 'dog picture', 'dog image',\n",
    "        'cool dog', 'sitting dog', 'nice dog', 'image of nice dog', 'image of cool dog', 'image of dog',\n",
    "        'picture of dogs', 'moving picture of dog', 'cool picture of dog',\n",
    "        'funny dog', 'funny image of dog', 'funny picture of dog',\n",
    "        'cute dog', 'cute image of dog', 'cute picture of dog',\n",
    "        'amazing dog', 'amazing image of dog', 'amazing picture of dog',\n",
    "        'adorable dog', 'adorable image of dog'\n",
    "    ]\n",
    "}\n"
   ]
  },
  {
   "cell_type": "code",
   "execution_count": 51,
   "metadata": {},
   "outputs": [],
   "source": [
    "CDdict56 = { \n",
    "    'cat': [\n",
    "        'cat', 'picture of cat', 'cats', 'image of cats', 'moving cat', 'cat picture', 'cat image',\n",
    "        'cool cat', 'sitting cat', 'nice cat', 'image of nice cat', 'image of cool cat', 'image of cat',\n",
    "        'picture of cats', 'moving picture of cat', 'cool picture of cat',\n",
    "        'funny cat', 'funny image of cat', 'funny picture of cat',\n",
    "        'cute cat', 'cute image of cat', 'cute picture of cat',\n",
    "        'amazing cat', 'amazing image of cat', 'amazing picture of cat',\n",
    "        'adorable cat', 'adorable image of cat', 'adorable picture of cat'\n",
    "    ],\n",
    "    'dog': [\n",
    "        'dog', 'picture of dog', 'dogs', 'image of dogs', 'moving dog', 'dog picture', 'dog image',\n",
    "        'cool dog', 'sitting dog', 'nice dog', 'image of nice dog', 'image of cool dog', 'image of dog',\n",
    "        'picture of dogs', 'moving picture of dog', 'cool picture of dog',\n",
    "        'funny dog', 'funny image of dog', 'funny picture of dog',\n",
    "        'cute dog', 'cute image of dog', 'cute picture of dog',\n",
    "        'amazing dog', 'amazing image of dog', 'amazing picture of dog',\n",
    "        'adorable dog', 'adorable image of dog', 'adorable picture of dog'\n",
    "    ]\n",
    "}"
   ]
  },
  {
   "cell_type": "markdown",
   "metadata": {},
   "source": []
  },
  {
   "cell_type": "markdown",
   "metadata": {},
   "source": [
    "## Vegetables"
   ]
  },
  {
   "cell_type": "code",
   "execution_count": 52,
   "metadata": {},
   "outputs": [
    {
     "name": "stdout",
     "output_type": "stream",
     "text": [
      "53.6\n",
      "53.6\n"
     ]
    }
   ],
   "source": [
    "veg15 = {\"Bean\" : [\"Bean\"],\n",
    "         \"Bitter Gourd\" : [\"Bitter Gourd\"],\n",
    "         \"Bottle Gourd\" : [\"Bottle Gourd\"],\n",
    "         \"Brinjal\" : [\"Brinjal\"],\n",
    "         \"Cabbage\" : [\"Cabbage\"],\n",
    "         \"Broccoli\" : [\"Broccoli\"],\n",
    "         \"Capsicum\" : [\"Capsicum\"],\n",
    "         \"Carrot\" : [\"Carrot\"],\n",
    "         \"Cauliflower\" : [\"Cauliflower\"],\n",
    "         \"Cucumber\" : [\"Cucumber\"],\n",
    "         \"Papaya\" : [\"Papaya\"],\n",
    "         \"Potato\" : [\"Potato\"],\n",
    "         \"Pumpkin\" : [\"Pumpkin\"],\n",
    "         \"Radish\" : [\"Radish\"],\n",
    "         \"Tomato\" : [\"Tomato\"]}\n",
    "\n",
    "# Bean, Bitter Gourd, Bottle Gourd, Brinjal, Cabbage, Broccoli, Capsicum, Carrot, Cauliflower, Cucumber, Papaya, Potato, Pumpkin, Radish, Tomato\n",
    "\n",
    "# dict_size(veg15)\n",
    "print(aOcheck_accuracy(\"Vegetable15/veg15.csv\", veg15))"
   ]
  },
  {
   "cell_type": "code",
   "execution_count": 53,
   "metadata": {},
   "outputs": [
    {
     "name": "stdout",
     "output_type": "stream",
     "text": [
      "53.6\n",
      "53.6\n"
     ]
    }
   ],
   "source": [
    "veg30 = {\n",
    "    \"Bean\": [\"Bean\", \"Image of Bean\"],\n",
    "    \"Bitter Gourd\": [\"Bitter Gourd\", \"Image of Bitter Gourd\"],\n",
    "    \"Bottle Gourd\": [\"Bottle Gourd\", \"Image of Bottle Gourd\"],\n",
    "    \"Brinjal\": [\"Brinjal\", \"Image of Brinjal\"],\n",
    "    \"Cabbage\": [\"Cabbage\", \"Image of Cabbage\"],\n",
    "    \"Broccoli\": [\"Broccoli\", \"Image of Broccoli\"],\n",
    "    \"Capsicum\": [\"Capsicum\", \"Image of Capsicum\"],\n",
    "    \"Carrot\": [\"Carrot\", \"Image of Carrot\"],\n",
    "    \"Cauliflower\": [\"Cauliflower\", \"Image of Cauliflower\"],\n",
    "    \"Cucumber\": [\"Cucumber\", \"Image of Cucumber\"],\n",
    "    \"Papaya\": [\"Papaya\", \"Image of Papaya\"],\n",
    "    \"Potato\": [\"Potato\", \"Image of Potato\"],\n",
    "    \"Pumpkin\": [\"Pumpkin\", \"Image of Pumpkin\"],\n",
    "    \"Radish\": [\"Radish\", \"Image of Radish\"],\n",
    "    \"Tomato\": [\"Tomato\", \"Image of Tomato\"]\n",
    "}\n",
    "\n",
    "# Bean, Image of Bean, Bitter Gourd, Image of Bitter Gourd, Bottle Gourd, Image of Bottle Gourd, Brinjal, Image of Brinjal, Cabbage, Image of Cabbage, Broccoli, Image of Broccoli, Capsicum, Image of Capsicum, Carrot, Image of Carrot, Cauliflower, Image of Cauliflower, Cucumber, Image of Cucumber, Papaya, Image of Papaya, Potato, Image of Potato, Pumpkin, Image of Pumpkin, Radish, Image of Radish, Tomato, Image of Tomato\n",
    "\n",
    "# dict_size(veg30)  # Assuming dict_size is defined elsewhere\n",
    "print(aOcheck_accuracy(\"Vegetable15/veg15.csv\", veg30))\n"
   ]
  },
  {
   "cell_type": "code",
   "execution_count": 54,
   "metadata": {},
   "outputs": [
    {
     "name": "stdout",
     "output_type": "stream",
     "text": [
      "55.81\n",
      "55.81\n"
     ]
    }
   ],
   "source": [
    "veg45 = {\n",
    "    \"Bean\": [\"Bean\", \"Image of Bean\", \"Picture of Bean\"],\n",
    "    \"Bitter Gourd\": [\"Bitter Gourd\", \"Image of Bitter Gourd\", \"Picture of Bitter Gourd\"],\n",
    "    \"Bottle Gourd\": [\"Bottle Gourd\", \"Image of Bottle Gourd\", \"Picture of Bottle Gourd\"],\n",
    "    \"Brinjal\": [\"Brinjal\", \"Image of Brinjal\", \"Picture of Brinjal\"],\n",
    "    \"Cabbage\": [\"Cabbage\", \"Image of Cabbage\", \"Picture of Cabbage\"],\n",
    "    \"Broccoli\": [\"Broccoli\", \"Image of Broccoli\", \"Picture of Broccoli\"],\n",
    "    \"Capsicum\": [\"Capsicum\", \"Image of Capsicum\", \"Picture of Capsicum\"],\n",
    "    \"Carrot\": [\"Carrot\", \"Image of Carrot\", \"Picture of Carrot\"],\n",
    "    \"Cauliflower\": [\"Cauliflower\", \"Image of Cauliflower\", \"Picture of Cauliflower\"],\n",
    "    \"Cucumber\": [\"Cucumber\", \"Image of Cucumber\", \"Picture of Cucumber\"],\n",
    "    \"Papaya\": [\"Papaya\", \"Image of Papaya\", \"Picture of Papaya\"],\n",
    "    \"Potato\": [\"Potato\", \"Image of Potato\", \"Picture of Potato\"],\n",
    "    \"Pumpkin\": [\"Pumpkin\", \"Image of Pumpkin\", \"Picture of Pumpkin\"],\n",
    "    \"Radish\": [\"Radish\", \"Image of Radish\", \"Picture of Radish\"],\n",
    "    \"Tomato\": [\"Tomato\", \"Image of Tomato\", \"Picture of Tomato\"]\n",
    "}\n",
    "\n",
    "# Bean, Image of Bean, Picture of Bean, Bitter Gourd, Image of Bitter Gourd, Picture of Bitter Gourd, Bottle Gourd, Image of Bottle Gourd, Picture of Bottle Gourd, Brinjal, Image of Brinjal, Picture of Brinjal, Cabbage, Image of Cabbage, Picture of Cabbage, Broccoli, Image of Broccoli, Picture of Broccoli, Capsicum, Image of Capsicum, Picture of Capsicum, Carrot, Image of Carrot, Picture of Carrot, Cauliflower, Image of Cauliflower, Picture of Cauliflower, Cucumber, Image of Cucumber, Picture of Cucumber, Papaya, Image of Papaya, Picture of Papaya, Potato, Image of Potato, Picture of Potato, Pumpkin, Image of Pumpkin, Picture of Pumpkin, Radish, Image of Radish, Picture of Radish, Tomato, Image of Tomato, Picture of Tomato\n",
    "\n",
    "# dict_size(veg45)  # Assuming dict_size is defined elsewhere\n",
    "print(aOcheck_accuracy(\"Vegetable15/veg45.csv\", veg45))\n",
    "\n"
   ]
  },
  {
   "cell_type": "code",
   "execution_count": 55,
   "metadata": {},
   "outputs": [
    {
     "name": "stdout",
     "output_type": "stream",
     "text": [
      "57.77\n",
      "57.77\n"
     ]
    }
   ],
   "source": [
    "veg60 = {\n",
    "    \"Bean\": [\"Bean\", \"Image of Bean\", \"Picture of Bean\", \"Beans\"],\n",
    "    \"Bitter Gourd\": [\"Bitter Gourd\", \"Image of Bitter Gourd\", \"Picture of Bitter Gourd\", \"Bitter Gourds\"],\n",
    "    \"Bottle Gourd\": [\"Bottle Gourd\", \"Image of Bottle Gourd\", \"Picture of Bottle Gourd\", \"Bottle Gourds\"],\n",
    "    \"Brinjal\": [\"Brinjal\", \"Image of Brinjal\", \"Picture of Brinjal\", \"Brinjals\"],\n",
    "    \"Cabbage\": [\"Cabbage\", \"Image of Cabbage\", \"Picture of Cabbage\", \"Cabbages\"],\n",
    "    \"Broccoli\": [\"Broccoli\", \"Image of Broccoli\", \"Picture of Broccoli\", \"Broccolis\"],\n",
    "    \"Capsicum\": [\"Capsicum\", \"Image of Capsicum\", \"Picture of Capsicum\", \"Capsicums\"],\n",
    "    \"Carrot\": [\"Carrot\", \"Image of Carrot\", \"Picture of Carrot\", \"Carrots\"],\n",
    "    \"Cauliflower\": [\"Cauliflower\", \"Image of Cauliflower\", \"Picture of Cauliflower\", \"Cauliflowers\"],\n",
    "    \"Cucumber\": [\"Cucumber\", \"Image of Cucumber\", \"Picture of Cucumber\", \"Cucumbers\"],\n",
    "    \"Papaya\": [\"Papaya\", \"Image of Papaya\", \"Picture of Papaya\", \"Papayas\"],\n",
    "    \"Potato\": [\"Potato\", \"Image of Potato\", \"Picture of Potato\", \"Potatoes\"],\n",
    "    \"Pumpkin\": [\"Pumpkin\", \"Image of Pumpkin\", \"Picture of Pumpkin\", \"Pumpkins\"],\n",
    "    \"Radish\": [\"Radish\", \"Image of Radish\", \"Picture of Radish\", \"Radishes\"],\n",
    "    \"Tomato\": [\"Tomato\", \"Image of Tomato\", \"Picture of Tomato\", \"Tomatoes\"]\n",
    "}\n",
    "\n",
    "# Bean, Image of Bean, Picture of Bean, Beans, Bitter Gourd, Image of Bitter Gourd, Picture of Bitter Gourd, Bitter Gourds, Bottle Gourd, Image of Bottle Gourd, Picture of Bottle Gourd, Bottle Gourds, Brinjal, Image of Brinjal, Picture of Brinjal, Brinjals, Cabbage, Image of Cabbage, Picture of Cabbage, Cabbages, Broccoli, Image of Broccoli, Picture of Broccoli, Broccolis, Capsicum, Image of Capsicum, Picture of Capsicum, Capsicums, Carrot, Image of Carrot, Picture of Carrot, Carrots, Cauliflower, Image of Cauliflower, Picture of Cauliflower, Cauliflowers, Cucumber, Image of Cucumber, Picture of Cucumber, Cucumbers, Papaya, Image of Papaya, Picture of Papaya, Papayas, Potato, Image of Potato, Picture of Potato, Potatoes, Pumpkin, Image of Pumpkin, Picture of Pumpkin, Pumpkins, Radish, Image of Radish, Picture of Radish, Radishes, Tomato, Image of Tomato, Picture of Tomato, Tomatoes\n",
    "\n",
    "# dict_size(veg60)  # Assuming dict_size is defined elsewhere\n",
    "print(aOcheck_accuracy(\"Vegetable15/veg60.csv\", veg60))"
   ]
  },
  {
   "cell_type": "code",
   "execution_count": 56,
   "metadata": {},
   "outputs": [
    {
     "name": "stdout",
     "output_type": "stream",
     "text": [
      "61.59\n",
      "61.59\n"
     ]
    }
   ],
   "source": [
    "veg75 = {\n",
    "    \"Bean\": [\"Bean\", \"Image of Bean\", \"Picture of Bean\", \"Beans\", \"Vegetable Bean\"],\n",
    "    \"Bitter Gourd\": [\"Bitter Gourd\", \"Image of Bitter Gourd\", \"Picture of Bitter Gourd\", \"Bitter Gourds\", \"Vegetable Bitter Gourd\"],\n",
    "    \"Bottle Gourd\": [\"Bottle Gourd\", \"Image of Bottle Gourd\", \"Picture of Bottle Gourd\", \"Bottle Gourds\", \"Vegetable Bottle Gourd\"],\n",
    "    \"Brinjal\": [\"Brinjal\", \"Image of Brinjal\", \"Picture of Brinjal\", \"Brinjals\", \"Vegetable Brinjal\"],\n",
    "    \"Cabbage\": [\"Cabbage\", \"Image of Cabbage\", \"Picture of Cabbage\", \"Cabbages\", \"Vegetable Cabbage\"],\n",
    "    \"Broccoli\": [\"Broccoli\", \"Image of Broccoli\", \"Picture of Broccoli\", \"Broccolis\", \"Vegetable Broccoli\"],\n",
    "    \"Capsicum\": [\"Capsicum\", \"Image of Capsicum\", \"Picture of Capsicum\", \"Capsicums\", \"Vegetable Capsicum\"],\n",
    "    \"Carrot\": [\"Carrot\", \"Image of Carrot\", \"Picture of Carrot\", \"Carrots\", \"Vegetable Carrot\"],\n",
    "    \"Cauliflower\": [\"Cauliflower\", \"Image of Cauliflower\", \"Picture of Cauliflower\", \"Cauliflowers\", \"Vegetable Cauliflower\"],\n",
    "    \"Cucumber\": [\"Cucumber\", \"Image of Cucumber\", \"Picture of Cucumber\", \"Cucumbers\", \"Vegetable Cucumber\"],\n",
    "    \"Papaya\": [\"Papaya\", \"Image of Papaya\", \"Picture of Papaya\", \"Papayas\", \"Vegetable Papaya\"],\n",
    "    \"Potato\": [\"Potato\", \"Image of Potato\", \"Picture of Potato\", \"Potatoes\", \"Vegetable Potato\"],\n",
    "    \"Pumpkin\": [\"Pumpkin\", \"Image of Pumpkin\", \"Picture of Pumpkin\", \"Pumpkins\", \"Vegetable Pumpkin\"],\n",
    "    \"Radish\": [\"Radish\", \"Image of Radish\", \"Picture of Radish\", \"Radishes\", \"Vegetable Radish\"],\n",
    "    \"Tomato\": [\"Tomato\", \"Image of Tomato\", \"Picture of Tomato\", \"Tomatoes\", \"Vegetable Tomato\"]\n",
    "}\n",
    "\n",
    "# Bean, Image of Bean, Picture of Bean, Beans, Vegetable Bean, Bitter Gourd, Image of Bitter Gourd, Picture of Bitter Gourd, Bitter Gourds, Vegetable Bitter Gourd, Bottle Gourd, Image of Bottle Gourd, Picture of Bottle Gourd, Bottle Gourds, Vegetable Bottle Gourd, Brinjal, Image of Brinjal, Picture of Brinjal, Brinjals, Vegetable Brinjal, Cabbage, Image of Cabbage, Picture of Cabbage, Cabbages, Vegetable Cabbage, Broccoli, Image of Broccoli, Picture of Broccoli, Broccolis, Vegetable Broccoli, Capsicum, Image of Capsicum, Picture of Capsicum, Capsicums, Vegetable Capsicum, Carrot, Image of Carrot, Picture of Carrot, Carrots, Vegetable Carrot, Cauliflower, Image of Cauliflower, Picture of Cauliflower, Cauliflowers, Vegetable Cauliflower, Cucumber, Image of Cucumber, Picture of Cucumber, Cucumbers, Vegetable Cucumber, Papaya, Image of Papaya, Picture of Papaya, Papayas, Vegetable Papaya, Potato, Image of Potato, Picture of Potato, Potatoes, Vegetable Potato, Pumpkin, Image of Pumpkin, Picture of Pumpkin, Pumpkins, Vegetable Pumpkin, Radish, Image of Radish, Picture of Radish, Radishes, Vegetable Radish, Tomato, Image of Tomato, Picture of Tomato, Tomatoes, Vegetable Tomato\n",
    "\n",
    "# dict_size(veg75)  # Assuming dict\n",
    "print(aOcheck_accuracy(\"Vegetable15/veg75.csv\", veg75))"
   ]
  },
  {
   "cell_type": "code",
   "execution_count": 57,
   "metadata": {},
   "outputs": [
    {
     "name": "stdout",
     "output_type": "stream",
     "text": [
      "57.77\n",
      "57.77\n"
     ]
    }
   ],
   "source": [
    "veg90 = {\n",
    "    \"Bean\": [\"Bean\", \"Image of Bean\", \"Picture of Bean\", \"Beans\", \"Vegetable Bean\", \"Fresh Bean\"],\n",
    "    \"Bitter Gourd\": [\"Bitter Gourd\", \"Image of Bitter Gourd\", \"Picture of Bitter Gourd\", \"Bitter Gourds\", \"Vegetable Bitter Gourd\", \"Fresh Bitter Gourd\"],\n",
    "    \"Bottle Gourd\": [\"Bottle Gourd\", \"Image of Bottle Gourd\", \"Picture of Bottle Gourd\", \"Bottle Gourds\", \"Vegetable Bottle Gourd\", \"Fresh Bottle Gourd\"],\n",
    "    \"Brinjal\": [\"Brinjal\", \"Image of Brinjal\", \"Picture of Brinjal\", \"Brinjals\", \"Vegetable Brinjal\", \"Fresh Brinjal\"],\n",
    "    \"Cabbage\": [\"Cabbage\", \"Image of Cabbage\", \"Picture of Cabbage\", \"Cabbages\", \"Vegetable Cabbage\", \"Fresh Cabbage\"],\n",
    "    \"Broccoli\": [\"Broccoli\", \"Image of Broccoli\", \"Picture of Broccoli\", \"Broccolis\", \"Vegetable Broccoli\", \"Fresh Broccoli\"],\n",
    "    \"Capsicum\": [\"Capsicum\", \"Image of Capsicum\", \"Picture of Capsicum\", \"Capsicums\", \"Vegetable Capsicum\", \"Fresh Capsicum\"],\n",
    "    \"Carrot\": [\"Carrot\", \"Image of Carrot\", \"Picture of Carrot\", \"Carrots\", \"Vegetable Carrot\", \"Fresh Carrot\"],\n",
    "    \"Cauliflower\": [\"Cauliflower\", \"Image of Cauliflower\", \"Picture of Cauliflower\", \"Cauliflowers\", \"Vegetable Cauliflower\", \"Fresh Cauliflower\"],\n",
    "    \"Cucumber\": [\"Cucumber\", \"Image of Cucumber\", \"Picture of Cucumber\", \"Cucumbers\", \"Vegetable Cucumber\", \"Fresh Cucumber\"],\n",
    "    \"Papaya\": [\"Papaya\", \"Image of Papaya\", \"Picture of Papaya\", \"Papayas\", \"Vegetable Papaya\", \"Fresh Papaya\"],\n",
    "    \"Potato\": [\"Potato\", \"Image of Potato\", \"Picture of Potato\", \"Potatoes\", \"Vegetable Potato\", \"Fresh Potato\"],\n",
    "    \"Pumpkin\": [\"Pumpkin\", \"Image of Pumpkin\", \"Picture of Pumpkin\", \"Pumpkins\", \"Vegetable Pumpkin\", \"Fresh Pumpkin\"],\n",
    "    \"Radish\": [\"Radish\", \"Image of Radish\", \"Picture of Radish\", \"Radishes\", \"Vegetable Radish\", \"Fresh Radish\"],\n",
    "    \"Tomato\": [\"Tomato\", \"Image of Tomato\", \"Picture of Tomato\", \"Tomatoes\", \"Vegetable Tomato\", \"Fresh Tomato\"]\n",
    "}\n",
    "\n",
    "# Bean, Image of Bean, Picture of Bean, Beans, Vegetable Bean, Fresh Bean, Bitter Gourd, Image of Bitter Gourd, Picture of Bitter Gourd, Bitter Gourds, Vegetable Bitter Gourd, Fresh Bitter Gourd, Bottle Gourd, Image of Bottle Gourd, Picture of Bottle Gourd, Bottle Gourds, Vegetable Bottle Gourd, Fresh Bottle Gourd, Brinjal, Image of Brinjal, Picture of Brinjal, Brinjals, Vegetable Brinjal, Fresh Brinjal, Cabbage, Image of Cabbage, Picture of Cabbage, Cabbages, Vegetable Cabbage, Fresh Cabbage, Broccoli, Image of Broccoli, Picture of Broccoli, Broccolis, Vegetable Broccoli, Fresh Broccoli, Capsicum, Image of Capsicum, Picture of Capsicum, Capsicums, Vegetable Capsicum, Fresh Capsicum, Carrot, Image of Carrot, Picture of Carrot, Carrots, Vegetable Carrot, Fresh Carrot, Cauliflower, Image of Cauliflower, Picture of Cauliflower, Cauliflowers, Vegetable Cauliflower, Fresh Cauliflower, Cucumber, Image of Cucumber, Picture of Cucumber, Cucumbers, Vegetable Cucumber, Fresh Cucumber, Papaya, Image of Papaya, Picture of Papaya, Papayas, Vegetable Papaya, Fresh Papaya, Potato, Image of Potato, Picture of Potato, Potatoes, Vegetable Potato, Fresh Potato, Pumpkin, Image of Pumpkin, Picture of Pumpkin, Pumpkins, Vegetable Pumpkin, Fresh Pumpkin, Radish, Image of Radish, Picture of Radish, Radishes, Vegetable Radish, Fresh Radish, Tomato, Image of Tomato, Picture of Tomato, Tomatoes, Vegetable Tomato, Fresh Tomato\n",
    "\n",
    "# dict_size(veg90)\n",
    "print(aOcheck_accuracy(\"Vegetable15/veg90.csv\", veg90))\n"
   ]
  },
  {
   "cell_type": "code",
   "execution_count": 58,
   "metadata": {},
   "outputs": [
    {
     "name": "stdout",
     "output_type": "stream",
     "text": [
      "61.59\n",
      "61.59\n"
     ]
    }
   ],
   "source": [
    "veg105 = {\n",
    "    \"Bean\": [\"Bean\", \"Image of Bean\", \"Picture of Bean\", \"Beans\", \"Vegetable Bean\", \"Fresh Bean\", \"Organic Bean\"],\n",
    "    \"Bitter Gourd\": [\"Bitter Gourd\", \"Image of Bitter Gourd\", \"Picture of Bitter Gourd\", \"Bitter Gourds\", \"Vegetable Bitter Gourd\", \"Fresh Bitter Gourd\", \"Organic Bitter Gourd\"],\n",
    "    \"Bottle Gourd\": [\"Bottle Gourd\", \"Image of Bottle Gourd\", \"Picture of Bottle Gourd\", \"Bottle Gourds\", \"Vegetable Bottle Gourd\", \"Fresh Bottle Gourd\", \"Organic Bottle Gourd\"],\n",
    "    \"Brinjal\": [\"Brinjal\", \"Image of Brinjal\", \"Picture of Brinjal\", \"Brinjals\", \"Vegetable Brinjal\", \"Fresh Brinjal\", \"Organic Brinjal\"],\n",
    "    \"Cabbage\": [\"Cabbage\", \"Image of Cabbage\", \"Picture of Cabbage\", \"Cabbages\", \"Vegetable Cabbage\", \"Fresh Cabbage\", \"Organic Cabbage\"],\n",
    "    \"Broccoli\": [\"Broccoli\", \"Image of Broccoli\", \"Picture of Broccoli\", \"Broccolis\", \"Vegetable Broccoli\", \"Fresh Broccoli\", \"Organic Broccoli\"],\n",
    "    \"Capsicum\": [\"Capsicum\", \"Image of Capsicum\", \"Picture of Capsicum\", \"Capsicums\", \"Vegetable Capsicum\", \"Fresh Capsicum\", \"Organic Capsicum\"],\n",
    "    \"Carrot\": [\"Carrot\", \"Image of Carrot\", \"Picture of Carrot\", \"Carrots\", \"Vegetable Carrot\", \"Fresh Carrot\", \"Organic Carrot\"],\n",
    "    \"Cauliflower\": [\"Cauliflower\", \"Image of Cauliflower\", \"Picture of Cauliflower\", \"Cauliflowers\", \"Vegetable Cauliflower\", \"Fresh Cauliflower\", \"Organic Cauliflower\"],\n",
    "    \"Cucumber\": [\"Cucumber\", \"Image of Cucumber\", \"Picture of Cucumber\", \"Cucumbers\", \"Vegetable Cucumber\", \"Fresh Cucumber\", \"Organic Cucumber\"],\n",
    "    \"Papaya\": [\"Papaya\", \"Image of Papaya\", \"Picture of Papaya\", \"Papayas\", \"Vegetable Papaya\", \"Fresh Papaya\", \"Organic Papaya\"],\n",
    "    \"Potato\": [\"Potato\", \"Image of Potato\", \"Picture of Potato\", \"Potatoes\", \"Vegetable Potato\", \"Fresh Potato\", \"Organic Potato\"],\n",
    "    \"Pumpkin\": [\"Pumpkin\", \"Image of Pumpkin\", \"Picture of Pumpkin\", \"Pumpkins\", \"Vegetable Pumpkin\", \"Fresh Pumpkin\", \"Organic Pumpkin\"],\n",
    "    \"Radish\": [\"Radish\", \"Image of Radish\", \"Picture of Radish\", \"Radishes\", \"Vegetable Radish\", \"Fresh Radish\", \"Organic Radish\"],\n",
    "    \"Tomato\": [\"Tomato\", \"Image of Tomato\", \"Picture of Tomato\", \"Tomatoes\", \"Vegetable Tomato\", \"Fresh Tomato\", \"Organic Tomato\"]\n",
    "}\n",
    "\n",
    "# Bean, Image of Bean, Picture of Bean, Beans, Vegetable Bean, Fresh Bean, Organic Bean, Bitter Gourd, Image of Bitter Gourd, Picture of Bitter Gourd, Bitter Gourds, Vegetable Bitter Gourd, Fresh Bitter Gourd, Organic Bitter Gourd, Bottle Gourd, Image of Bottle Gourd, Picture of Bottle Gourd, Bottle Gourds, Vegetable Bottle Gourd, Fresh Bottle Gourd, Organic Bottle Gourd, Brinjal, Image of Brinjal, Picture of Brinjal, Brinjals, Vegetable Brinjal, Fresh Brinjal, Organic Brinjal, Cabbage, Image of Cabbage, Picture of Cabbage, Cabbages, Vegetable Cabbage, Fresh Cabbage, Organic Cabbage, Broccoli, Image of Broccoli, Picture of Broccoli, Broccolis, Vegetable Broccoli, Fresh Broccoli, Organic Broccoli, Capsicum, Image of Capsicum, Picture of Capsicum, Capsicums, Vegetable Capsicum, Fresh Capsicum, Organic Capsicum, Carrot, Image of Carrot, Picture of Carrot, Carrots, Vegetable Carrot, Fresh Carrot, Organic Carrot, Cauliflower, Image of Cauliflower, Picture of Cauliflower, Cauliflowers, Vegetable Cauliflower, Fresh Cauliflower, Organic Cauliflower, Cucumber, Image of Cucumber, Picture of Cucumber, Cucumbers, Vegetable Cucumber, Fresh Cucumber, Organic Cucumber, Papaya, Image of Papaya, Picture of Papaya, Papayas, Vegetable Papaya, Fresh Papaya, Organic Papaya, Potato, Image of Potato, Picture of Potato, Potatoes, Vegetable Potato, Fresh Potato, Organic Potato, Pumpkin, Image of Pumpkin, Picture of Pumpkin, Pumpkins, Vegetable Pumpkin, Fresh Pumpkin, Organic Pumpkin, Radish, Image of Radish, Picture of Radish, Radishes, Vegetable Radish, Fresh Radish, Organic Radish, Tomato, Image of Tomato, Picture of Tomato, Tomatoes, Vegetable Tomato, Fresh Tomato, Organic Tomato\n",
    "\n",
    "# dict_size(veg105)\n",
    "print(aOcheck_accuracy(\"Vegetable15/veg105.csv\", veg105))"
   ]
  },
  {
   "cell_type": "code",
   "execution_count": 59,
   "metadata": {},
   "outputs": [
    {
     "name": "stdout",
     "output_type": "stream",
     "text": [
      "62.79\n",
      "62.79\n"
     ]
    }
   ],
   "source": [
    "veg120 = {\n",
    "    \"Bean\": [\"Bean\", \"Image of Bean\", \"Picture of Bean\", \"Beans\", \"Vegetable Bean\", \"Fresh Bean\", \"Organic Bean\", \"Large Bean\"],\n",
    "    \"Bitter Gourd\": [\"Bitter Gourd\", \"Image of Bitter Gourd\", \"Picture of Bitter Gourd\", \"Bitter Gourds\", \"Vegetable Bitter Gourd\", \"Fresh Bitter Gourd\", \"Organic Bitter Gourd\", \"Large Bitter Gourd\"],\n",
    "    \"Bottle Gourd\": [\"Bottle Gourd\", \"Image of Bottle Gourd\", \"Picture of Bottle Gourd\", \"Bottle Gourds\", \"Vegetable Bottle Gourd\", \"Fresh Bottle Gourd\", \"Organic Bottle Gourd\", \"Large Bottle Gourd\"],\n",
    "    \"Brinjal\": [\"Brinjal\", \"Image of Brinjal\", \"Picture of Brinjal\", \"Brinjals\", \"Vegetable Brinjal\", \"Fresh Brinjal\", \"Organic Brinjal\", \"Large Brinjal\"],\n",
    "    \"Cabbage\": [\"Cabbage\", \"Image of Cabbage\", \"Picture of Cabbage\", \"Cabbages\", \"Vegetable Cabbage\", \"Fresh Cabbage\", \"Organic Cabbage\", \"Large Cabbage\"],\n",
    "    \"Broccoli\": [\"Broccoli\", \"Image of Broccoli\", \"Picture of Broccoli\", \"Broccolis\", \"Vegetable Broccoli\", \"Fresh Broccoli\", \"Organic Broccoli\", \"Large Broccoli\"],\n",
    "    \"Capsicum\": [\"Capsicum\", \"Image of Capsicum\", \"Picture of Capsicum\", \"Capsicums\", \"Vegetable Capsicum\", \"Fresh Capsicum\", \"Organic Capsicum\", \"Large Capsicum\"],\n",
    "    \"Carrot\": [\"Carrot\", \"Image of Carrot\", \"Picture of Carrot\", \"Carrots\", \"Vegetable Carrot\", \"Fresh Carrot\", \"Organic Carrot\", \"Large Carrot\"],\n",
    "    \"Cauliflower\": [\"Cauliflower\", \"Image of Cauliflower\", \"Picture of Cauliflower\", \"Cauliflowers\", \"Vegetable Cauliflower\", \"Fresh Cauliflower\", \"Organic Cauliflower\", \"Large Cauliflower\"],\n",
    "    \"Cucumber\": [\"Cucumber\", \"Image of Cucumber\", \"Picture of Cucumber\", \"Cucumbers\", \"Vegetable Cucumber\", \"Fresh Cucumber\", \"Organic Cucumber\", \"Large Cucumber\"],\n",
    "    \"Papaya\": [\"Papaya\", \"Image of Papaya\", \"Picture of Papaya\", \"Papayas\", \"Vegetable Papaya\", \"Fresh Papaya\", \"Organic Papaya\", \"Large Papaya\"],\n",
    "    \"Potato\": [\"Potato\", \"Image of Potato\", \"Picture of Potato\", \"Potatoes\", \"Vegetable Potato\", \"Fresh Potato\", \"Organic Potato\", \"Large Potato\"],\n",
    "    \"Pumpkin\": [\"Pumpkin\", \"Image of Pumpkin\", \"Picture of Pumpkin\", \"Pumpkins\", \"Vegetable Pumpkin\", \"Fresh Pumpkin\", \"Organic Pumpkin\", \"Large Pumpkin\"],\n",
    "    \"Radish\": [\"Radish\", \"Image of Radish\", \"Picture of Radish\", \"Radishes\", \"Vegetable Radish\", \"Fresh Radish\", \"Organic Radish\", \"Large Radish\"],\n",
    "    \"Tomato\": [\"Tomato\", \"Image of Tomato\", \"Picture of Tomato\", \"Tomatoes\", \"Vegetable Tomato\", \"Fresh Tomato\", \"Organic Tomato\", \"Large Tomato\"]\n",
    "}\n",
    "\n",
    "# Bean, Image of Bean, Picture of Bean, Beans, Vegetable Bean, Fresh Bean, Organic Bean, Large Bean, Bitter Gourd, Image of Bitter Gourd, Picture of Bitter Gourd, Bitter Gourds, Vegetable Bitter Gourd, Fresh Bitter Gourd, Organic Bitter Gourd, Large Bitter Gourd, Bottle Gourd, Image of Bottle Gourd, Picture of Bottle Gourd, Bottle Gourds, Vegetable Bottle Gourd, Fresh Bottle Gourd, Organic Bottle Gourd, Large Bottle Gourd, Brinjal, Image of Brinjal, Picture of Brinjal, Brinjals, Vegetable Brinjal, Fresh Brinjal, Organic Brinjal, Large Brinjal, Cabbage, Image of Cabbage, Picture of Cabbage, Cabbages, Vegetable Cabbage, Fresh Cabbage, Organic Cabbage, Large Cabbage, Broccoli, Image of Broccoli, Picture of Broccoli, Broccolis, Vegetable Broccoli, Fresh Broccoli, Organic Broccoli, Large Broccoli, Capsicum, Image of Capsicum, Picture of Capsicum, Capsicums, Vegetable Capsicum, Fresh Capsicum, Organic Capsicum, Large Capsicum, Carrot, Image of Carrot, Picture of Carrot, Carrots, Vegetable Carrot, Fresh Carrot, Organic Carrot, Large Carrot, Cauliflower, Image of Cauliflower, Picture of Cauliflower, Cauliflowers, Vegetable Cauliflower, Fresh Cauliflower, Organic Cauliflower, Large Cauliflower, Cucumber, Image of Cucumber, Picture of Cucumber, Cucumbers, Vegetable Cucumber, Fresh Cucumber, Organic Cucumber, Large Cucumber, Papaya, Image of Papaya, Picture of Papaya, Papayas, Vegetable Papaya, Fresh Papaya, Organic Papaya, Large Papaya, Potato, Image of Potato, Picture of Potato, Potatoes, Vegetable Potato, Fresh Potato, Organic Potato, Large Potato, Pumpkin, Image of Pumpkin, Picture of Pumpkin, Pumpkins, Vegetable Pumpkin, Fresh Pumpkin, Organic Pumpkin, Large Pumpkin, Radish, Image of Radish, Picture of Radish, Radishes, Vegetable Radish, Fresh Radish, Organic Radish, Large Radish, Tomato, Image of Tomato, Picture of Tomato, Tomatoes, Vegetable Tomato, Fresh Tomato, Organic Tomato, Large Tomato\n",
    "\n",
    "# dict_size(veg120)\n",
    "print(aOcheck_accuracy(\"Vegetable15/veg120.csv\", veg120))\n"
   ]
  },
  {
   "cell_type": "code",
   "execution_count": 60,
   "metadata": {},
   "outputs": [
    {
     "name": "stdout",
     "output_type": "stream",
     "text": [
      "61.84\n",
      "61.84\n"
     ]
    }
   ],
   "source": [
    "veg135 = {\n",
    "    \"Bean\": [\"Bean\", \"Image of Bean\", \"Picture of Bean\", \"Beans\", \"Vegetable Bean\", \"Fresh Bean\", \"Organic Bean\", \"Large Bean\", \"Large Beans\"],\n",
    "    \"Bitter Gourd\": [\"Bitter Gourd\", \"Image of Bitter Gourd\", \"Picture of Bitter Gourd\", \"Bitter Gourds\", \"Vegetable Bitter Gourd\", \"Fresh Bitter Gourd\", \"Organic Bitter Gourd\", \"Large Bitter Gourd\", \"Large Bitter Gourds\"],\n",
    "    \"Bottle Gourd\": [\"Bottle Gourd\", \"Image of Bottle Gourd\", \"Picture of Bottle Gourd\", \"Bottle Gourds\", \"Vegetable Bottle Gourd\", \"Fresh Bottle Gourd\", \"Organic Bottle Gourd\", \"Large Bottle Gourd\", \"Large Bottle Gourds\"],\n",
    "    \"Brinjal\": [\"Brinjal\", \"Image of Brinjal\", \"Picture of Brinjal\", \"Brinjals\", \"Vegetable Brinjal\", \"Fresh Brinjal\", \"Organic Brinjal\", \"Large Brinjal\", \"Large Brinjals\"],\n",
    "    \"Cabbage\": [\"Cabbage\", \"Image of Cabbage\", \"Picture of Cabbage\", \"Cabbages\", \"Vegetable Cabbage\", \"Fresh Cabbage\", \"Organic Cabbage\", \"Large Cabbage\", \"Large Cabbages\"],\n",
    "    \"Broccoli\": [\"Broccoli\", \"Image of Broccoli\", \"Picture of Broccoli\", \"Broccolis\", \"Vegetable Broccoli\", \"Fresh Broccoli\", \"Organic Broccoli\", \"Large Broccoli\", \"Large Broccolis\"],\n",
    "    \"Capsicum\": [\"Capsicum\", \"Image of Capsicum\", \"Picture of Capsicum\", \"Capsicums\", \"Vegetable Capsicum\", \"Fresh Capsicum\", \"Organic Capsicum\", \"Large Capsicum\", \"Large Capsicums\"],\n",
    "    \"Carrot\": [\"Carrot\", \"Image of Carrot\", \"Picture of Carrot\", \"Carrots\", \"Vegetable Carrot\", \"Fresh Carrot\", \"Organic Carrot\", \"Large Carrot\", \"Large Carrots\"],\n",
    "    \"Cauliflower\": [\"Cauliflower\", \"Image of Cauliflower\", \"Picture of Cauliflower\", \"Cauliflowers\", \"Vegetable Cauliflower\", \"Fresh Cauliflower\", \"Organic Cauliflower\", \"Large Cauliflower\", \"Large Cauliflowers\"],\n",
    "    \"Cucumber\": [\"Cucumber\", \"Image of Cucumber\", \"Picture of Cucumber\", \"Cucumbers\", \"Vegetable Cucumber\", \"Fresh Cucumber\", \"Organic Cucumber\", \"Large Cucumber\", \"Large Cucumbers\"],\n",
    "    \"Papaya\": [\"Papaya\", \"Image of Papaya\", \"Picture of Papaya\", \"Papayas\", \"Vegetable Papaya\", \"Fresh Papaya\", \"Organic Papaya\", \"Large Papaya\", \"Large Papayas\"],\n",
    "    \"Potato\": [\"Potato\", \"Image of Potato\", \"Picture of Potato\", \"Potatoes\", \"Vegetable Potato\", \"Fresh Potato\", \"Organic Potato\", \"Large Potato\", \"Large Potatoes\"],\n",
    "    \"Pumpkin\": [\"Pumpkin\", \"Image of Pumpkin\", \"Picture of Pumpkin\", \"Pumpkins\", \"Vegetable Pumpkin\", \"Fresh Pumpkin\", \"Organic Pumpkin\", \"Large Pumpkin\", \"Large Pumpkins\"],\n",
    "    \"Radish\": [\"Radish\", \"Image of Radish\", \"Picture of Radish\", \"Radishes\", \"Vegetable Radish\", \"Fresh Radish\", \"Organic Radish\", \"Large Radish\", \"Large Radishes\"],\n",
    "    \"Tomato\": [\"Tomato\", \"Image of Tomato\", \"Picture of Tomato\", \"Tomatoes\", \"Vegetable Tomato\", \"Fresh Tomato\", \"Organic Tomato\", \"Large Tomato\", \"Large Tomatoes\"]\n",
    "}\n",
    "\n",
    "# Bean, Image of Bean, Picture of Bean, Beans, Vegetable Bean, Fresh Bean, Organic Bean, Large Bean, Large Beans, Bitter Gourd, Image of Bitter Gourd, Picture of Bitter Gourd, Bitter Gourds, Vegetable Bitter Gourd, Fresh Bitter Gourd, Organic Bitter Gourd, Large Bitter Gourd, Large Bitter Gourds, Bottle Gourd, Image of Bottle Gourd, Picture of Bottle Gourd, Bottle Gourds, Vegetable Bottle Gourd, Fresh Bottle Gourd, Organic Bottle Gourd, Large Bottle Gourd, Large Bottle Gourds, Brinjal, Image of Brinjal, Picture of Brinjal, Brinjals, Vegetable Brinjal, Fresh Brinjal, Organic Brinjal, Large Brinjal, Large Brinjals, Cabbage, Image of Cabbage, Picture of Cabbage, Cabbages, Vegetable Cabbage, Fresh Cabbage, Organic Cabbage, Large Cabbage, Large Cabbages, Broccoli, Image of Broccoli, Picture of Broccoli, Broccolis, Vegetable Broccoli, Fresh Broccoli, Organic Broccoli, Large Broccoli, Large Broccolis, Capsicum, Image of Capsicum, Picture of Capsicum, Capsicums, Vegetable Capsicum, Fresh Capsicum, Organic Capsicum, Large Capsicum, Large Capsicums, Carrot, Image of Carrot, Picture of Carrot, Carrots, Vegetable Carrot, Fresh Carrot, Organic Carrot, Large Carrot, Large Carrots, Cauliflower, Image of Cauliflower, Picture of Cauliflower, Cauliflowers, Vegetable Cauliflower, Fresh Cauliflower, Organic Cauliflower, Large Cauliflower, Large Cauliflowers, Cucumber, Image of Cucumber, Picture of Cucumber, Cucumbers, Vegetable Cucumber, Fresh Cucumber, Organic Cucumber, Large Cucumber, Large Cucumbers, Papaya, Image of Papaya, Picture of Papaya, Papayas, Vegetable Papaya, Fresh Papaya, Organic Papaya, Large Papaya, Large Papayas, Potato, Image of Potato, Picture of Potato, Potatoes, Vegetable Potato, Fresh Potato, Organic Potato, Large Potato, Large Potatoes, Pumpkin, Image of Pumpkin, Picture of Pumpkin, Pumpkins, Vegetable Pumpkin, Fresh Pumpkin, Organic Pumpkin, Large Pumpkin, Large Pumpkins, Radish, Image of Radish, Picture of Radish, Radishes, Vegetable Radish, Fresh Radish, Organic Radish, Large Radish, Large Radishes, Tomato, Image of Tomato, Picture of Tomato, Tomatoes, Vegetable Tomato, Fresh Tomato, Organic Tomato, Large Tomato, Large Tomatoes\n",
    "\n",
    "# dict_size(veg135)\n",
    "print(aOcheck_accuracy(\"Vegetable15/veg135.csv\", veg135))\n"
   ]
  },
  {
   "cell_type": "code",
   "execution_count": 61,
   "metadata": {},
   "outputs": [
    {
     "name": "stdout",
     "output_type": "stream",
     "text": [
      "61.82\n",
      "61.82\n"
     ]
    }
   ],
   "source": [
    "veg150 = {\n",
    "    \"Bean\": [\"Bean\", \"Image of Bean\", \"Picture of Bean\", \"Beans\", \"Vegetable Bean\", \"Fresh Bean\", \"Organic Bean\", \"Large Bean\", \"Large Beans\", \"Small Bean\"],\n",
    "    \"Bitter Gourd\": [\"Bitter Gourd\", \"Image of Bitter Gourd\", \"Picture of Bitter Gourd\", \"Bitter Gourds\", \"Vegetable Bitter Gourd\", \"Fresh Bitter Gourd\", \"Organic Bitter Gourd\", \"Large Bitter Gourd\", \"Large Bitter Gourds\", \"Small Bitter Gourd\"],\n",
    "    \"Bottle Gourd\": [\"Bottle Gourd\", \"Image of Bottle Gourd\", \"Picture of Bottle Gourd\", \"Bottle Gourds\", \"Vegetable Bottle Gourd\", \"Fresh Bottle Gourd\", \"Organic Bottle Gourd\", \"Large Bottle Gourd\", \"Large Bottle Gourds\", \"Small Bottle Gourd\"],\n",
    "    \"Brinjal\": [\"Brinjal\", \"Image of Brinjal\", \"Picture of Brinjal\", \"Brinjals\", \"Vegetable Brinjal\", \"Fresh Brinjal\", \"Organic Brinjal\", \"Large Brinjal\", \"Large Brinjals\", \"Small Brinjal\"],\n",
    "    \"Cabbage\": [\"Cabbage\", \"Image of Cabbage\", \"Picture of Cabbage\", \"Cabbages\", \"Vegetable Cabbage\", \"Fresh Cabbage\", \"Organic Cabbage\", \"Large Cabbage\", \"Large Cabbages\", \"Small Cabbage\"],\n",
    "    \"Broccoli\": [\"Broccoli\", \"Image of Broccoli\", \"Picture of Broccoli\", \"Broccolis\", \"Vegetable Broccoli\", \"Fresh Broccoli\", \"Organic Broccoli\", \"Large Broccoli\", \"Large Broccolis\", \"Small Broccoli\"],\n",
    "    \"Capsicum\": [\"Capsicum\", \"Image of Capsicum\", \"Picture of Capsicum\", \"Capsicums\", \"Vegetable Capsicum\", \"Fresh Capsicum\", \"Organic Capsicum\", \"Large Capsicum\", \"Large Capsicums\", \"Small Capsicum\"],\n",
    "    \"Carrot\": [\"Carrot\", \"Image of Carrot\", \"Picture of Carrot\", \"Carrots\", \"Vegetable Carrot\", \"Fresh Carrot\", \"Organic Carrot\", \"Large Carrot\", \"Large Carrots\", \"Small Carrot\"],\n",
    "    \"Cauliflower\": [\"Cauliflower\", \"Image of Cauliflower\", \"Picture of Cauliflower\", \"Cauliflowers\", \"Vegetable Cauliflower\", \"Fresh Cauliflower\", \"Organic Cauliflower\", \"Large Cauliflower\", \"Large Cauliflowers\", \"Small Cauliflower\"],\n",
    "    \"Cucumber\": [\"Cucumber\", \"Image of Cucumber\", \"Picture of Cucumber\", \"Cucumbers\", \"Vegetable Cucumber\", \"Fresh Cucumber\", \"Organic Cucumber\", \"Large Cucumber\", \"Large Cucumbers\", \"Small Cucumber\"],\n",
    "    \"Papaya\": [\"Papaya\", \"Image of Papaya\", \"Picture of Papaya\", \"Papayas\", \"Vegetable Papaya\", \"Fresh Papaya\", \"Organic Papaya\", \"Large Papaya\", \"Large Papayas\", \"Small Papaya\"],\n",
    "    \"Potato\": [\"Potato\", \"Image of Potato\", \"Picture of Potato\", \"Potatoes\", \"Vegetable Potato\", \"Fresh Potato\", \"Organic Potato\", \"Large Potato\", \"Large Potatoes\", \"Small Potato\"],\n",
    "    \"Pumpkin\": [\"Pumpkin\", \"Image of Pumpkin\", \"Picture of Pumpkin\", \"Pumpkins\", \"Vegetable Pumpkin\", \"Fresh Pumpkin\", \"Organic Pumpkin\", \"Large Pumpkin\", \"Large Pumpkins\", \"Small Pumpkin\"],\n",
    "    \"Radish\": [\"Radish\", \"Image of Radish\", \"Picture of Radish\", \"Radishes\", \"Vegetable Radish\", \"Fresh Radish\", \"Organic Radish\", \"Large Radish\", \"Large Radishes\", \"Small Radish\"],\n",
    "    \"Tomato\": [\"Tomato\", \"Image of Tomato\", \"Picture of Tomato\", \"Tomatoes\", \"Vegetable Tomato\", \"Fresh Tomato\", \"Organic Tomato\", \"Large Tomato\", \"Large Tomatoes\", \"Small Tomato\"]\n",
    "}\n",
    "\n",
    "# Bean, Image of Bean, Picture of Bean, Beans, Vegetable Bean, Fresh Bean, Organic Bean, Large Bean, Large Beans, Small Bean, Bitter Gourd, Image of Bitter Gourd, Picture of Bitter Gourd, Bitter Gourds, Vegetable Bitter Gourd, Fresh Bitter Gourd, Organic Bitter Gourd, Large Bitter Gourd, Large Bitter Gourds, Small Bitter Gourd, Bottle Gourd, Image of Bottle Gourd, Picture of Bottle Gourd, Bottle Gourds, Vegetable Bottle Gourd, Fresh Bottle Gourd, Organic Bottle Gourd, Large Bottle Gourd, Large Bottle Gourds, Small Bottle Gourd, Brinjal, Image of Brinjal, Picture of Brinjal, Brinjals, Vegetable Brinjal, Fresh Brinjal, Organic Brinjal, Large Brinjal, Large Brinjals, Small Brinjal, Cabbage, Image of Cabbage, Picture of Cabbage, Cabbages, Vegetable Cabbage, Fresh Cabbage, Organic Cabbage, Large Cabbage, Large Cabbages, Small Cabbage, Broccoli, Image of Broccoli, Picture of Broccoli, Broccolis, Vegetable Broccoli, Fresh Broccoli, Organic Broccoli, Large Broccoli, Large Broccolis, Small Broccoli, Capsicum, Image of Capsicum, Picture of Capsicum, Capsicums, Vegetable Capsicum, Fresh Capsicum, Organic Capsicum, Large Capsicum, Large Capsicums, Small Capsicum, Carrot, Image of Carrot, Picture of Carrot, Carrots, Vegetable Carrot, Fresh Carrot, Organic Carrot, Large Carrot, Large Carrots, Small Carrot, Cauliflower, Image of Cauliflower, Picture of Cauliflower, Cauliflowers, Vegetable Cauliflower, Fresh Cauliflower, Organic Cauliflower, Large Cauliflower, Large Cauliflowers, Small Cauliflower, Cucumber, Image of Cucumber, Picture of Cucumber, Cucumbers, Vegetable Cucumber, Fresh Cucumber, Organic Cucumber, Large Cucumber, Large Cucumbers, Small Cucumber, Papaya, Image of Papaya, Picture of Papaya, Papayas, Vegetable Papaya, Fresh Papaya, Organic Papaya, Large Papaya, Large Papayas, Small Papaya, Potato, Image of Potato, Picture of Potato, Potatoes, Vegetable Potato, Fresh Potato, Organic Potato, Large Potato, Large Potatoes, Small Potato, Pumpkin, Image of Pumpkin, Picture of Pumpkin, Pumpkins, Vegetable Pumpkin, Fresh Pumpkin, Organic Pumpkin, Large Pumpkin, Large Pumpkins, Small Pumpkin, Radish, Image of Radish, Picture of Radish, Radishes, Vegetable Radish, Fresh Radish, Organic Radish, Large Radish, Large Radishes, Small Radish, Tomato, Image of Tomato, Picture of Tomato, Tomatoes, Vegetable Tomato, Fresh Tomato, Organic Tomato, Large Tomato, Large Tomatoes, Small Tomato\n",
    "\n",
    "# dict_size(veg150)\n",
    "print(aOcheck_accuracy(\"Vegetable15/veg150.csv\", veg150))"
   ]
  },
  {
   "cell_type": "code",
   "execution_count": 62,
   "metadata": {},
   "outputs": [
    {
     "name": "stdout",
     "output_type": "stream",
     "text": [
      "61.85\n",
      "61.85\n"
     ]
    }
   ],
   "source": [
    "veg165 = {\n",
    "    \"Bean\": [\"Bean\", \"Image of Bean\", \"Picture of Bean\", \"Beans\", \"Vegetable Bean\", \"Fresh Bean\", \"Organic Bean\", \"Large Bean\", \"Large Beans\", \"Small Bean\", \"Small Beans\"],\n",
    "    \"Bitter Gourd\": [\"Bitter Gourd\", \"Image of Bitter Gourd\", \"Picture of Bitter Gourd\", \"Bitter Gourds\", \"Vegetable Bitter Gourd\", \"Fresh Bitter Gourd\", \"Organic Bitter Gourd\", \"Large Bitter Gourd\", \"Large Bitter Gourds\", \"Small Bitter Gourd\", \"Small Bitter Gourds\"],\n",
    "    \"Bottle Gourd\": [\"Bottle Gourd\", \"Image of Bottle Gourd\", \"Picture of Bottle Gourd\", \"Bottle Gourds\", \"Vegetable Bottle Gourd\", \"Fresh Bottle Gourd\", \"Organic Bottle Gourd\", \"Large Bottle Gourd\", \"Large Bottle Gourds\", \"Small Bottle Gourd\", \"Small Bottle Gourds\"],\n",
    "    \"Brinjal\": [\"Brinjal\", \"Image of Brinjal\", \"Picture of Brinjal\", \"Brinjals\", \"Vegetable Brinjal\", \"Fresh Brinjal\", \"Organic Brinjal\", \"Large Brinjal\", \"Large Brinjals\", \"Small Brinjal\", \"Small Brinjals\"],\n",
    "    \"Cabbage\": [\"Cabbage\", \"Image of Cabbage\", \"Picture of Cabbage\", \"Cabbages\", \"Vegetable Cabbage\", \"Fresh Cabbage\", \"Organic Cabbage\", \"Large Cabbage\", \"Large Cabbages\", \"Small Cabbage\", \"Small Cabbages\"],\n",
    "    \"Broccoli\": [\"Broccoli\", \"Image of Broccoli\", \"Picture of Broccoli\", \"Broccolis\", \"Vegetable Broccoli\", \"Fresh Broccoli\", \"Organic Broccoli\", \"Large Broccoli\", \"Large Broccolis\", \"Small Broccoli\", \"Small Broccolis\"],\n",
    "    \"Capsicum\": [\"Capsicum\", \"Image of Capsicum\", \"Picture of Capsicum\", \"Capsicums\", \"Vegetable Capsicum\", \"Fresh Capsicum\", \"Organic Capsicum\", \"Large Capsicum\", \"Large Capsicums\", \"Small Capsicum\", \"Small Capsicums\"],\n",
    "    \"Carrot\": [\"Carrot\", \"Image of Carrot\", \"Picture of Carrot\", \"Carrots\", \"Vegetable Carrot\", \"Fresh Carrot\", \"Organic Carrot\", \"Large Carrot\", \"Large Carrots\", \"Small Carrot\", \"Small Carrots\"],\n",
    "    \"Cauliflower\": [\"Cauliflower\", \"Image of Cauliflower\", \"Picture of Cauliflower\", \"Cauliflowers\", \"Vegetable Cauliflower\", \"Fresh Cauliflower\", \"Organic Cauliflower\", \"Large Cauliflower\", \"Large Cauliflowers\", \"Small Cauliflower\", \"Small Cauliflowers\"],\n",
    "    \"Cucumber\": [\"Cucumber\", \"Image of Cucumber\", \"Picture of Cucumber\", \"Cucumbers\", \"Vegetable Cucumber\", \"Fresh Cucumber\", \"Organic Cucumber\", \"Large Cucumber\", \"Large Cucumbers\", \"Small Cucumber\", \"Small Cucumbers\"],\n",
    "    \"Papaya\": [\"Papaya\", \"Image of Papaya\", \"Picture of Papaya\", \"Papayas\", \"Vegetable Papaya\", \"Fresh Papaya\", \"Organic Papaya\", \"Large Papaya\", \"Large Papayas\", \"Small Papaya\", \"Small Papayas\"],\n",
    "    \"Potato\": [\"Potato\", \"Image of Potato\", \"Picture of Potato\", \"Potatoes\", \"Vegetable Potato\", \"Fresh Potato\", \"Organic Potato\", \"Large Potato\", \"Large Potatoes\", \"Small Potato\", \"Small Potatoes\"],\n",
    "    \"Pumpkin\": [\"Pumpkin\", \"Image of Pumpkin\", \"Picture of Pumpkin\", \"Pumpkins\", \"Vegetable Pumpkin\", \"Fresh Pumpkin\", \"Organic Pumpkin\", \"Large Pumpkin\", \"Large Pumpkins\", \"Small Pumpkin\", \"Small Pumpkins\"],\n",
    "    \"Radish\": [\"Radish\", \"Image of Radish\", \"Picture of Radish\", \"Radishes\", \"Vegetable Radish\", \"Fresh Radish\", \"Organic Radish\", \"Large Radish\", \"Large Radishes\", \"Small Radish\", \"Small Radishes\"],\n",
    "    \"Tomato\": [\"Tomato\", \"Image of Tomato\", \"Picture of Tomato\", \"Tomatoes\", \"Vegetable Tomato\", \"Fresh Tomato\", \"Organic Tomato\", \"Large Tomato\", \"Large Tomatoes\", \"Small Tomato\", \"Small Tomatoes\"]\n",
    "}\n",
    "\n",
    "# Bean, Image of Bean, Picture of Bean, Beans, Vegetable Bean, Fresh Bean, Organic Bean, Large Bean, Large Beans, Small Bean, Small Beans, Bitter Gourd, Image of Bitter Gourd, Picture of Bitter Gourd, Bitter Gourds, Vegetable Bitter Gourd, Fresh Bitter Gourd, Organic Bitter Gourd, Large Bitter Gourd, Large Bitter Gourds, Small Bitter Gourd, Small Bitter Gourds, Bottle Gourd, Image of Bottle Gourd, Picture of Bottle Gourd, Bottle Gourds, Vegetable Bottle Gourd, Fresh Bottle Gourd, Organic Bottle Gourd, Large Bottle Gourd, Large Bottle Gourds, Small Bottle Gourd, Small Bottle Gourds, Brinjal, Image of Brinjal, Picture of Brinjal, Brinjals, Vegetable Brinjal, Fresh Brinjal, Organic Brinjal, Large Brinjal, Large Brinjals, Small Brinjal, Small Brinjals, Cabbage, Image of Cabbage, Picture of Cabbage, Cabbages, Vegetable Cabbage, Fresh Cabbage, Organic Cabbage, Large Cabbage, Large Cabbages, Small Cabbage, Small Cabbages, Broccoli, Image of Broccoli, Picture of Broccoli, Broccolis, Vegetable Broccoli, Fresh Broccoli, Organic Broccoli, Large Broccoli, Large Broccolis, Small Broccoli, Small Broccolis, Capsicum, Image of Capsicum, Picture of Capsicum, Capsicums, Vegetable Capsicum, Fresh Capsicum, Organic Capsicum, Large Capsicum, Large Capsicums, Small Capsicum, Small Capsicums, Carrot, Image of Carrot, Picture of Carrot, Carrots, Vegetable Carrot, Fresh Carrot, Organic Carrot, Large Carrot, Large Carrots, Small Carrot, Small Carrots, Cauliflower, Image of Cauliflower, Picture of Cauliflower, Cauliflowers, Vegetable Cauliflower, Fresh Cauliflower, Organic Cauliflower, Large Cauliflower, Large Cauliflowers, Small Cauliflower, Small Cauliflowers, Cucumber, Image of Cucumber, Picture of Cucumber, Cucumbers, Vegetable Cucumber, Fresh Cucumber, Organic Cucumber, Large Cucumber, Large Cucumbers, Small Cucumber, Small Cucumbers, Papaya, Image of Papaya, Picture of Papaya, Papayas, Vegetable Papaya, Fresh Papaya, Organic Papaya, Large Papaya, Large Papayas, Small Papaya, Small Papayas, Potato, Image of Potato, Picture of Potato, Potatoes, Vegetable Potato, Fresh Potato, Organic Potato, Large Potato, Large Potatoes, Small Potato, Small Potatoes, Pumpkin, Image of Pumpkin, Picture of Pumpkin, Pumpkins, Vegetable Pumpkin, Fresh Pumpkin, Organic Pumpkin, Large Pumpkin, Large Pumpkins, Small Pumpkin, Small Pumpkins, Radish, Image of Radish, Picture of Radish, Radishes, Vegetable Radish, Fresh Radish, Organic Radish, Large Radish, Large Radishes, Small Radish, Small Radishes, Tomato, Image of Tomato, Picture of Tomato, Tomatoes, Vegetable Tomato, Fresh Tomato, Organic Tomato, Large Tomato, Large Tomatoes, Small Tomato, Small Tomatoes\n",
    "\n",
    "# dict_size(veg165)\n",
    "print(aOcheck_accuracy(\"Vegetable15/veg165.csv\", veg165))\n"
   ]
  },
  {
   "cell_type": "markdown",
   "metadata": {},
   "source": [
    "## Deck of Cards"
   ]
  },
  {
   "cell_type": "code",
   "execution_count": 63,
   "metadata": {},
   "outputs": [],
   "source": [
    "cards4 = {\n",
    "    \"Clubs\" : [\"Card of Clubs\"],\n",
    "    \"Diamonds\" : [\"Card of Diamonds\"],\n",
    "    \"Hearts\" : [\"Card of Hearts\"],\n",
    "    \"Spades\" : [\"Card of Spades\"]\n",
    "}\n",
    "\n",
    "# Card of Clubs, Card of Diamonds, Card of Hearts, Card of Spades\n",
    "\n",
    "# dict_size(cards4) \n",
    "# print(card_accuracy(\"Card15/cards4.csv\", cards4))"
   ]
  },
  {
   "cell_type": "code",
   "execution_count": 64,
   "metadata": {},
   "outputs": [],
   "source": [
    "cards8 = {\n",
    "    \"Clubs\": [\"Card of Clubs\", \"Image of Card of Clubs\"],\n",
    "    \"Diamonds\": [\"Card of Diamonds\", \"Image of Card of Diamonds\"],\n",
    "    \"Hearts\": [\"Card of Hearts\", \"Image of Card of Hearts\"],\n",
    "    \"Spades\": [\"Card of Spades\", \"Image of Card of Spades\"]\n",
    "}\n",
    "\n",
    "# # Card of Clubs, Image of Card of Clubs, Card of Diamonds, Image of Card of Diamonds, Card of Hearts, Image of Card of Hearts, Card of Spades, Image of Card of Spades\n",
    "\n",
    "# dict_size(cards8)\n",
    "# print(card_accuracy(\"Card15/cards8.csv\", cards8))\n"
   ]
  },
  {
   "cell_type": "code",
   "execution_count": 65,
   "metadata": {},
   "outputs": [],
   "source": [
    "cards12 = {\n",
    "    \"Clubs\": [\"Card of Clubs\", \"Image of Card of Clubs\", \"Picture of Card of Clubs\"],\n",
    "    \"Diamonds\": [\"Card of Diamonds\", \"Image of Card of Diamonds\", \"Picture of Card of Diamonds\"],\n",
    "    \"Hearts\": [\"Card of Hearts\", \"Image of Card of Hearts\", \"Picture of Card of Hearts\"],\n",
    "    \"Spades\": [\"Card of Spades\", \"Image of Card of Spades\", \"Picture of Card of Spades\"]\n",
    "}\n",
    "\n",
    "# Card of Clubs, Image of Card of Clubs, Picture of Card of Clubs, Card of Diamonds, Image of Card of Diamonds, Picture of Card of Diamonds, Card of Hearts, Image of Card of Hearts, Picture of Card of Hearts, Card of Spades, Image of Card of Spades, Picture of Card of Spades\n",
    "\n",
    "# dict_size(cards12)\n",
    "# print(card_accuracy(\"Card15/cards12.csv\", cards12))\n"
   ]
  },
  {
   "cell_type": "code",
   "execution_count": 66,
   "metadata": {},
   "outputs": [],
   "source": [
    "cards16 = {\n",
    "    \"Clubs\": [\"Card of Clubs\", \"Image of Card of Clubs\", \"Picture of Card of Clubs\", \"Poker Card of Clubs\"],\n",
    "    \"Diamonds\": [\"Card of Diamonds\", \"Image of Card of Diamonds\", \"Picture of Card of Diamonds\", \"Poker Card of Diamonds\"],\n",
    "    \"Hearts\": [\"Card of Hearts\", \"Image of Card of Hearts\", \"Picture of Card of Hearts\", \"Poker Card of Hearts\"],\n",
    "    \"Spades\": [\"Card of Spades\", \"Image of Card of Spades\", \"Picture of Card of Spades\", \"Poker Card of Spades\"]\n",
    "}\n",
    "\n",
    "# Card of Clubs, Image of Card of Clubs, Picture of Card of Clubs, Poker Card of Clubs, Card of Diamonds, Image of Card of Diamonds, Picture of Card of Diamonds, Poker Card of Diamonds, Card of Hearts, Image of Card of Hearts, Picture of Card of Hearts, Poker Card of Hearts, Card of Spades, Image of Card of Spades, Picture of Card of Spades, Poker Card of Spades\n",
    "\n",
    "# dict_size(cards16)\n",
    "# print(card_accuracy(\"Card15/cards16.csv\", cards16))\n"
   ]
  },
  {
   "cell_type": "code",
   "execution_count": 67,
   "metadata": {},
   "outputs": [],
   "source": [
    "cards20 = {\n",
    "    \"Clubs\": [\"Card of Clubs\", \"Image of Card of Clubs\", \"Picture of Card of Clubs\", \"Poker Card of Clubs\", \"Classic Card of Clubs\"],\n",
    "    \"Diamonds\": [\"Card of Diamonds\", \"Image of Card of Diamonds\", \"Picture of Card of Diamonds\", \"Poker Card of Diamonds\", \"Classic Card of Diamonds\"],\n",
    "    \"Hearts\": [\"Card of Hearts\", \"Image of Card of Hearts\", \"Picture of Card of Hearts\", \"Poker Card of Hearts\", \"Classic Card of Hearts\"],\n",
    "    \"Spades\": [\"Card of Spades\", \"Image of Card of Spades\", \"Picture of Card of Spades\", \"Poker Card of Spades\", \"Classic Card of Spades\"]\n",
    "}\n",
    "\n",
    "# Card of Clubs, Image of Card of Clubs, Picture of Card of Clubs, Poker Card of Clubs, Classic Card of Clubs, Card of Diamonds, Image of Card of Diamonds, Picture of Card of Diamonds, Poker Card of Diamonds, Classic Card of Diamonds, Card of Hearts, Image of Card of Hearts, Picture of Card of Hearts, Poker Card of Hearts, Classic Card of Hearts, Card of Spades, Image of Card of Spades, Picture of Card of Spades, Poker Card of Spades, Classic Card of Spades\n",
    "\n",
    "# dict_size(cards20)\n",
    "# print(card_accuracy(\"Card15/cards20.csv\", cards20))\n"
   ]
  },
  {
   "cell_type": "code",
   "execution_count": 68,
   "metadata": {},
   "outputs": [],
   "source": [
    "cards24 = {\n",
    "    \"Clubs\": [\"Card of Clubs\", \"Image of Card of Clubs\", \"Picture of Card of Clubs\", \"Poker Card of Clubs\", \"Classic Card of Clubs\", \"Vintage Card of Clubs\"],\n",
    "    \"Diamonds\": [\"Card of Diamonds\", \"Image of Card of Diamonds\", \"Picture of Card of Diamonds\", \"Poker Card of Diamonds\", \"Classic Card of Diamonds\", \"Vintage Card of Diamonds\"],\n",
    "    \"Hearts\": [\"Card of Hearts\", \"Image of Card of Hearts\", \"Picture of Card of Hearts\", \"Poker Card of Hearts\", \"Classic Card of Hearts\", \"Vintage Card of Hearts\"],\n",
    "    \"Spades\": [\"Card of Spades\", \"Image of Card of Spades\", \"Picture of Card of Spades\", \"Poker Card of Spades\", \"Classic Card of Spades\", \"Vintage Card of Spades\"]\n",
    "}\n",
    "\n",
    "# Card of Clubs, Image of Card of Clubs, Picture of Card of Clubs, Poker Card of Clubs, Classic Card of Clubs, Vintage Card of Clubs, Card of Diamonds, Image of Card of Diamonds, Picture of Card of Diamonds, Poker Card of Diamonds, Classic Card of Diamonds, Vintage Card of Diamonds, Card of Hearts, Image of Card of Hearts, Picture of Card of Hearts, Poker Card of Hearts, Classic Card of Hearts, Vintage Card of Hearts, Card of Spades, Image of Card of Spades, Picture of Card of Spades, Poker Card of Spades, Classic Card of Spades, Vintage Card of Spades\n",
    "\n",
    "# dict_size(cards24)\n",
    "# print(card_accuracy(\"Card15/cards24.csv\", cards24))\n"
   ]
  },
  {
   "cell_type": "code",
   "execution_count": 69,
   "metadata": {},
   "outputs": [],
   "source": [
    "cards28 = {\n",
    "    \"Clubs\": [\"Card of Clubs\", \"Image of Card of Clubs\", \"Picture of Card of Clubs\", \"Poker Card of Clubs\", \"Classic Card of Clubs\", \"Vintage Card of Clubs\", \"Royal Card of Clubs\"],\n",
    "    \"Diamonds\": [\"Card of Diamonds\", \"Image of Card of Diamonds\", \"Picture of Card of Diamonds\", \"Poker Card of Diamonds\", \"Classic Card of Diamonds\", \"Vintage Card of Diamonds\", \"Royal Card of Diamonds\"],\n",
    "    \"Hearts\": [\"Card of Hearts\", \"Image of Card of Hearts\", \"Picture of Card of Hearts\", \"Poker Card of Hearts\", \"Classic Card of Hearts\", \"Vintage Card of Hearts\", \"Royal Card of Hearts\"],\n",
    "    \"Spades\": [\"Card of Spades\", \"Image of Card of Spades\", \"Picture of Card of Spades\", \"Poker Card of Spades\", \"Classic Card of Spades\", \"Vintage Card of Spades\", \"Royal Card of Spades\"]\n",
    "}\n",
    "\n",
    "# Card of Clubs, Image of Card of Clubs, Picture of Card of Clubs, Poker Card of Clubs, Classic Card of Clubs, Vintage Card of Clubs, Royal Card of Clubs, Card of Diamonds, Image of Card of Diamonds, Picture of Card of Diamonds, Poker Card of Diamonds, Classic Card of Diamonds, Vintage Card of Diamonds, Royal Card of Diamonds, Card of Hearts, Image of Card of Hearts, Picture of Card of Hearts, Poker Card of Hearts, Classic Card of Hearts, Vintage Card of Hearts, Royal Card of Hearts, Card of Spades, Image of Card of Spades, Picture of Card of Spades, Poker Card of Spades, Classic Card of Spades, Vintage Card of Spades, Royal Card of Spades\n",
    "\n",
    "# dict_size(cards28)\n",
    "# print(card_accuracy(\"Card15/cards28.csv\", cards28))\n"
   ]
  },
  {
   "cell_type": "code",
   "execution_count": 70,
   "metadata": {},
   "outputs": [],
   "source": [
    "cards32 = {\n",
    "    \"Clubs\": [\"Card of Clubs\", \"Image of Card of Clubs\", \"Picture of Card of Clubs\", \"Poker Card of Clubs\", \"Classic Card of Clubs\", \"Vintage Card of Clubs\", \"Royal Card of Clubs\", \"Deluxe Card of Clubs\"],\n",
    "    \"Diamonds\": [\"Card of Diamonds\", \"Image of Card of Diamonds\", \"Picture of Card of Diamonds\", \"Poker Card of Diamonds\", \"Classic Card of Diamonds\", \"Vintage Card of Diamonds\", \"Royal Card of Diamonds\", \"Deluxe Card of Diamonds\"],\n",
    "    \"Hearts\": [\"Card of Hearts\", \"Image of Card of Hearts\", \"Picture of Card of Hearts\", \"Poker Card of Hearts\", \"Classic Card of Hearts\", \"Vintage Card of Hearts\", \"Royal Card of Hearts\", \"Deluxe Card of Hearts\"],\n",
    "    \"Spades\": [\"Card of Spades\", \"Image of Card of Spades\", \"Picture of Card of Spades\", \"Poker Card of Spades\", \"Classic Card of Spades\", \"Vintage Card of Spades\", \"Royal Card of Spades\", \"Deluxe Card of Spades\"]\n",
    "}\n",
    "\n",
    "# Card of Clubs, Image of Card of Clubs, Picture of Card of Clubs, Poker Card of Clubs, Classic Card of Clubs, Vintage Card of Clubs, Royal Card of Clubs, Deluxe Card of Clubs, Card of Diamonds, Image of Card of Diamonds, Picture of Card of Diamonds, Poker Card of Diamonds, Classic Card of Diamonds, Vintage Card of Diamonds, Royal Card of Diamonds, Deluxe Card of Diamonds, Card of Hearts, Image of Card of Hearts, Picture of Card of Hearts, Poker Card of Hearts, Classic Card of Hearts, Vintage Card of Hearts, Royal Card of Hearts, Deluxe Card of Hearts, Card of Spades, Image of Card of Spades, Picture of Card of Spades, Poker Card of Spades, Classic Card of Spades, Vintage Card of Spades, Royal Card of Spades, Deluxe Card of Spades\n",
    "\n",
    "# dict_size(cards32)\n",
    "# print(card_accuracy(\"Card15/cards32.csv\", cards32))\n"
   ]
  },
  {
   "cell_type": "code",
   "execution_count": 71,
   "metadata": {},
   "outputs": [],
   "source": [
    "cards36 = {\n",
    "    \"Clubs\": [\"Card of Clubs\", \"Image of Card of Clubs\", \"Picture of Card of Clubs\", \"Poker Card of Clubs\", \"Classic Card of Clubs\", \"Vintage Card of Clubs\", \"Royal Card of Clubs\", \"Deluxe Card of Clubs\", \"Exclusive Card of Clubs\"],\n",
    "    \"Diamonds\": [\"Card of Diamonds\", \"Image of Card of Diamonds\", \"Picture of Card of Diamonds\", \"Poker Card of Diamonds\", \"Classic Card of Diamonds\", \"Vintage Card of Diamonds\", \"Royal Card of Diamonds\", \"Deluxe Card of Diamonds\", \"Exclusive Card of Diamonds\"],\n",
    "    \"Hearts\": [\"Card of Hearts\", \"Image of Card of Hearts\", \"Picture of Card of Hearts\", \"Poker Card of Hearts\", \"Classic Card of Hearts\", \"Vintage Card of Hearts\", \"Royal Card of Hearts\", \"Deluxe Card of Hearts\", \"Exclusive Card of Hearts\"],\n",
    "    \"Spades\": [\"Card of Spades\", \"Image of Card of Spades\", \"Picture of Card of Spades\", \"Poker Card of Spades\", \"Classic Card of Spades\", \"Vintage Card of Spades\", \"Royal Card of Spades\", \"Deluxe Card of Spades\", \"Exclusive Card of Spades\"]\n",
    "}\n",
    "\n",
    "# Card of Clubs, Image of Card of Clubs, Picture of Card of Clubs, Poker Card of Clubs, Classic Card of Clubs, Vintage Card of Clubs, Royal Card of Clubs, Deluxe Card of Clubs, Exclusive Card of Clubs, Card of Diamonds, Image of Card of Diamonds, Picture of Card of Diamonds, Poker Card of Diamonds, Classic Card of Diamonds, Vintage Card of Diamonds, Royal Card of Diamonds, Deluxe Card of Diamonds, Exclusive Card of Diamonds, Card of Hearts, Image of Card of Hearts, Picture of Card of Hearts, Poker Card of Hearts, Classic Card of Hearts, Vintage Card of Hearts, Royal Card of Hearts, Deluxe Card of Hearts, Exclusive Card of Hearts, Card of Spades, Image of Card of Spades, Picture of Card of Spades, Poker Card of Spades, Classic Card of Spades, Vintage Card of Spades, Royal Card of Spades, Deluxe Card of Spades, Exclusive Card of Spades\n",
    "\n",
    "# dict_size(cards36)\n",
    "# print(card_accuracy(\"Card15/cards36.csv\", cards36))\n"
   ]
  },
  {
   "cell_type": "code",
   "execution_count": 72,
   "metadata": {},
   "outputs": [],
   "source": [
    "cards40 = {\n",
    "    \"Clubs\": [\"Card of Clubs\", \"Image of Card of Clubs\", \"Picture of Card of Clubs\", \"Poker Card of Clubs\", \"Classic Card of Clubs\", \"Vintage Card of Clubs\", \"Royal Card of Clubs\", \"Deluxe Card of Clubs\", \"Exclusive Card of Clubs\", \"Premium Card of Clubs\"],\n",
    "    \"Diamonds\": [\"Card of Diamonds\", \"Image of Card of Diamonds\", \"Picture of Card of Diamonds\", \"Poker Card of Diamonds\", \"Classic Card of Diamonds\", \"Vintage Card of Diamonds\", \"Royal Card of Diamonds\", \"Deluxe Card of Diamonds\", \"Exclusive Card of Diamonds\", \"Premium Card of Diamonds\"],\n",
    "    \"Hearts\": [\"Card of Hearts\", \"Image of Card of Hearts\", \"Picture of Card of Hearts\", \"Poker Card of Hearts\", \"Classic Card of Hearts\", \"Vintage Card of Hearts\", \"Royal Card of Hearts\", \"Deluxe Card of Hearts\", \"Exclusive Card of Hearts\", \"Premium Card of Hearts\"],\n",
    "    \"Spades\": [\"Card of Spades\", \"Image of Card of Spades\", \"Picture of Card of Spades\", \"Poker Card of Spades\", \"Classic Card of Spades\", \"Vintage Card of Spades\", \"Royal Card of Spades\", \"Deluxe Card of Spades\", \"Exclusive Card of Spades\", \"Premium Card of Spades\"]\n",
    "}\n",
    "\n",
    "# Card of Clubs, Image of Card of Clubs, Picture of Card of Clubs, Poker Card of Clubs, Classic Card of Clubs, Vintage Card of Clubs, Royal Card of Clubs, Deluxe Card of Clubs, Exclusive Card of Clubs, Premium Card of Clubs, Card of Diamonds, Image of Card of Diamonds, Picture of Card of Diamonds, Poker Card of Diamonds, Classic Card of Diamonds, Vintage Card of Diamonds, Royal Card of Diamonds, Deluxe Card of Diamonds, Exclusive Card of Diamonds, Premium Card of Diamonds, Card of Hearts, Image of Card of Hearts, Picture of Card of Hearts, Poker Card of Hearts, Classic Card of Hearts, Vintage Card of Hearts, Royal Card of Hearts, Deluxe Card of Hearts, Exclusive Card of Hearts, Premium Card of Hearts, Card of Spades, Image of Card of Spades, Picture of Card of Spades, Poker Card of Spades, Classic Card of Spades, Vintage Card of Spades, Royal Card of Spades, Deluxe Card of Spades, Exclusive Card of Spades, Premium Card of Spades\n",
    "\n",
    "# dict_size(cards40)\n",
    "# print(card_accuracy(\"Card15/cards40.csv\", cards40))\n"
   ]
  },
  {
   "cell_type": "code",
   "execution_count": 73,
   "metadata": {},
   "outputs": [],
   "source": [
    "cards44 = {\n",
    "    \"Clubs\": [\"Card of Clubs\", \"Image of Card of Clubs\", \"Picture of Card of Clubs\", \"Poker Card of Clubs\", \"Classic Card of Clubs\", \"Vintage Card of Clubs\", \"Royal Card of Clubs\", \"Deluxe Card of Clubs\", \"Exclusive Card of Clubs\", \"Premium Card of Clubs\", \"Elegant Card of Clubs\"],\n",
    "    \"Diamonds\": [\"Card of Diamonds\", \"Image of Card of Diamonds\", \"Picture of Card of Diamonds\", \"Poker Card of Diamonds\", \"Classic Card of Diamonds\", \"Vintage Card of Diamonds\", \"Royal Card of Diamonds\", \"Deluxe Card of Diamonds\", \"Exclusive Card of Diamonds\", \"Premium Card of Diamonds\", \"Elegant Card of Diamonds\"],\n",
    "    \"Hearts\": [\"Card of Hearts\", \"Image of Card of Hearts\", \"Picture of Card of Hearts\", \"Poker Card of Hearts\", \"Classic Card of Hearts\", \"Vintage Card of Hearts\", \"Royal Card of Hearts\", \"Deluxe Card of Hearts\", \"Exclusive Card of Hearts\", \"Premium Card of Hearts\", \"Elegant Card of Hearts\"],\n",
    "    \"Spades\": [\"Card of Spades\", \"Image of Card of Spades\", \"Picture of Card of Spades\", \"Poker Card of Spades\", \"Classic Card of Spades\", \"Vintage Card of Spades\", \"Royal Card of Spades\", \"Deluxe Card of Spades\", \"Exclusive Card of Spades\", \"Premium Card of Spades\", \"Elegant Card of Spades\"]\n",
    "}\n",
    "\n",
    "# Card of Clubs, Image of Card of Clubs, Picture of Card of Clubs, Poker Card of Clubs, Classic Card of Clubs, Vintage Card of Clubs, Royal Card of Clubs, Deluxe Card of Clubs, Exclusive Card of Clubs, Premium Card of Clubs, Elegant Card of Clubs, Card of Diamonds, Image of Card of Diamonds, Picture of Card of Diamonds, Poker Card of Diamonds, Classic Card of Diamonds, Vintage Card of Diamonds, Royal Card of Diamonds, Deluxe Card of Diamonds, Exclusive Card of Diamonds, Premium Card of Diamonds, Elegant Card of Diamonds, Card of Hearts, Image of Card of Hearts, Picture of Card of Hearts, Poker Card of Hearts, Classic Card of Hearts, Vintage Card of Hearts, Royal Card of Hearts, Deluxe Card of Hearts, Exclusive Card of Hearts, Premium Card of Hearts, Elegant Card of Hearts, Card of Spades, Image of Card of Spades, Picture of Card of Spades, Poker Card of Spades, Classic Card of Spades, Vintage Card of Spades, Royal Card of Spades, Deluxe Card of Spades, Exclusive Card of Spades, Premium Card of Spades, Elegant Card of Spades\n",
    "\n",
    "# dict_size(cards44)\n",
    "# print(card_accuracy(\"Card15/cards44.csv\", cards44))\n"
   ]
  },
  {
   "cell_type": "code",
   "execution_count": 74,
   "metadata": {},
   "outputs": [],
   "source": [
    "cards48 = {\n",
    "    \"Clubs\": [\"Card of Clubs\", \"Image of Card of Clubs\", \"Picture of Card of Clubs\", \"Poker Card of Clubs\", \"Classic Card of Clubs\", \"Vintage Card of Clubs\", \"Royal Card of Clubs\", \"Deluxe Card of Clubs\", \"Exclusive Card of Clubs\", \"Premium Card of Clubs\", \"Elegant Card of Clubs\", \"Prestige Card of Clubs\"],\n",
    "    \"Diamonds\": [\"Card of Diamonds\", \"Image of Card of Diamonds\", \"Picture of Card of Diamonds\", \"Poker Card of Diamonds\", \"Classic Card of Diamonds\", \"Vintage Card of Diamonds\", \"Royal Card of Diamonds\", \"Deluxe Card of Diamonds\", \"Exclusive Card of Diamonds\", \"Premium Card of Diamonds\", \"Elegant Card of Diamonds\", \"Prestige Card of Diamonds\"],\n",
    "    \"Hearts\": [\"Card of Hearts\", \"Image of Card of Hearts\", \"Picture of Card of Hearts\", \"Poker Card of Hearts\", \"Classic Card of Hearts\", \"Vintage Card of Hearts\", \"Royal Card of Hearts\", \"Deluxe Card of Hearts\", \"Exclusive Card of Hearts\", \"Premium Card of Hearts\", \"Elegant Card of Hearts\", \"Prestige Card of Hearts\"],\n",
    "    \"Spades\": [\"Card of Spades\", \"Image of Card of Spades\", \"Picture of Card of Spades\", \"Poker Card of Spades\", \"Classic Card of Spades\", \"Vintage Card of Spades\", \"Royal Card of Spades\", \"Deluxe Card of Spades\", \"Exclusive Card of Spades\", \"Premium Card of Spades\", \"Elegant Card of Spades\", \"Prestige Card of Spades\"]\n",
    "}\n",
    "\n",
    "# Card of Clubs, Image of Card of Clubs, Picture of Card of Clubs, Poker Card of Clubs, Classic Card of Clubs, Vintage Card of Clubs, Royal Card of Clubs, Deluxe Card of Clubs, Exclusive Card of Clubs, Premium Card of Clubs, Elegant Card of Clubs, Prestige Card of Clubs, Card of Diamonds, Image of Card of Diamonds, Picture of Card of Diamonds, Poker Card of Diamonds, Classic Card of Diamonds, Vintage Card of Diamonds, Royal Card of Diamonds, Deluxe Card of Diamonds, Exclusive Card of Diamonds, Premium Card of Diamonds, Elegant Card of Diamonds, Prestige Card of Diamonds, Card of Hearts, Image of Card of Hearts, Picture of Card of Hearts, Poker Card of Hearts, Classic Card of Hearts, Vintage Card of Hearts, Royal Card of Hearts, Deluxe Card of Hearts, Exclusive Card of Hearts, Premium Card of Hearts, Elegant Card of Hearts, Prestige Card of Hearts, Card of Spades, Image of Card of Spades, Picture of Card of Spades, Poker Card of Spades, Classic Card of Spades, Vintage Card of Spades, Royal Card of Spades, Deluxe Card of Spades, Exclusive Card of Spades, Premium Card of Spades, Elegant Card of Spades, Prestige Card of Spades\n",
    "\n",
    "# dict_size(cards48)\n",
    "# print(card_accuracy(\"Card15/cards48.csv\", cards48))\n"
   ]
  },
  {
   "cell_type": "markdown",
   "metadata": {},
   "source": [
    "## Food 10"
   ]
  },
  {
   "cell_type": "code",
   "execution_count": 75,
   "metadata": {},
   "outputs": [],
   "source": [
    "f10 = { \"Baked Potato\" : [\"Baked Potato\"],\n",
    "       \"Burger\" : [\"Burger\"],\n",
    "       \"Crispy Chicken\" : [\"Crispy Chicken\"],\n",
    "       \"Donut\" : [\"Donut\"],\n",
    "       \"Fries\" : [\"Fries\"],\n",
    "       \"Hot Dog\" : [\"Hot Dog\"],\n",
    "       \"Pizza\" : [\"Pizza\"],\n",
    "       \"Sandwich\" : [\"Sandwich\"],\n",
    "       \"Taco\" : [\"Taco\"],\n",
    "       \"Taquito\" : [\"Taquito\"]}\n",
    "\n",
    "# Baked Potato, Burger, Crispy Chicken, Donut, Fries, Hot Dog, Pizza, Sandwich, Taco, Taquito\n",
    "\n",
    "# dict_size(f10)\n",
    "# print(aOcheck_accuracy(\"food10/f10.csv\", f10))"
   ]
  },
  {
   "cell_type": "code",
   "execution_count": 76,
   "metadata": {},
   "outputs": [],
   "source": [
    "f20 = {\n",
    "    \"Baked Potato\": [\"Baked Potato\", \"Image of Baked Potato\"],\n",
    "    \"Burger\": [\"Burger\", \"Image of Burger\"],\n",
    "    \"Crispy Chicken\": [\"Crispy Chicken\", \"Image of Crispy Chicken\"],\n",
    "    \"Donut\": [\"Donut\", \"Image of Donut\"],\n",
    "    \"Fries\": [\"Fries\", \"Image of Fries\"],\n",
    "    \"Hot Dog\": [\"Hot Dog\", \"Image of Hot Dog\"],\n",
    "    \"Pizza\": [\"Pizza\", \"Image of Pizza\"],\n",
    "    \"Sandwich\": [\"Sandwich\", \"Image of Sandwich\"],\n",
    "    \"Taco\": [\"Taco\", \"Image of Taco\"],\n",
    "    \"Taquito\": [\"Taquito\", \"Image of Taquito\"]\n",
    "}\n",
    "\n",
    "# Baked Potato, Image of Baked Potato, Burger, Image of Burger, Crispy Chicken, Image of Crispy Chicken, Donut, Image of Donut, Fries, Image of Fries, Hot Dog, Image of Hot Dog, Pizza, Image of Pizza, Sandwich, Image of Sandwich, Taco, Image of Taco, Taquito, Image of Taquito\n",
    "\n",
    "# dict_size(f20)\n",
    "# print(aOcheck_accuracy(\"food10/f20.csv\", f20))\n",
    "\n"
   ]
  },
  {
   "cell_type": "code",
   "execution_count": 77,
   "metadata": {},
   "outputs": [
    {
     "name": "stdout",
     "output_type": "stream",
     "text": [
      "90.4\n",
      "90.4\n"
     ]
    }
   ],
   "source": [
    "f30 = {\n",
    "    \"Baked Potato\": [\"Baked Potato\", \"Image of Baked Potato\", \"Picture of Baked Potato\"],\n",
    "    \"Burger\": [\"Burger\", \"Image of Burger\", \"Picture of Burger\"],\n",
    "    \"Crispy Chicken\": [\"Crispy Chicken\", \"Image of Crispy Chicken\", \"Picture of Crispy Chicken\"],\n",
    "    \"Donut\": [\"Donut\", \"Image of Donut\", \"Picture of Donut\"],\n",
    "    \"Fries\": [\"Fries\", \"Image of Fries\", \"Picture of Fries\"],\n",
    "    \"Hot Dog\": [\"Hot Dog\", \"Image of Hot Dog\", \"Picture of Hot Dog\"],\n",
    "    \"Pizza\": [\"Pizza\", \"Image of Pizza\", \"Picture of Pizza\"],\n",
    "    \"Sandwich\": [\"Sandwich\", \"Image of Sandwich\", \"Picture of Sandwich\"],\n",
    "    \"Taco\": [\"Taco\", \"Image of Taco\", \"Picture of Taco\"],\n",
    "    \"Taquito\": [\"Taquito\", \"Image of Taquito\", \"Picture of Taquito\"]\n",
    "}\n",
    "\n",
    "# Baked Potato, Image of Baked Potato, Picture of Baked Potato, Burger, Image of Burger, Picture of Burger, Crispy Chicken, Image of Crispy Chicken, Picture of Crispy Chicken, Donut, Image of Donut, Picture of Donut, Fries, Image of Fries, Picture of Fries, Hot Dog, Image of Hot Dog, Picture of Hot Dog, Pizza, Image of Pizza, Picture of Pizza, Sandwich, Image of Sandwich, Picture of Sandwich, Taco, Image of Taco, Picture of Taco, Taquito, Image of Taquito, Picture of Taquito\n",
    "\n",
    "# dict_size(f30)\n",
    "print(aOcheck_accuracy(\"food10/f30.csv\", f30))\n"
   ]
  },
  {
   "cell_type": "code",
   "execution_count": 78,
   "metadata": {},
   "outputs": [
    {
     "name": "stdout",
     "output_type": "stream",
     "text": [
      "90.99\n",
      "90.99\n"
     ]
    }
   ],
   "source": [
    "f40 = {\n",
    "    \"Baked Potato\": [\"Baked Potato\", \"Image of Baked Potato\", \"Picture of Baked Potato\", \"Baked Potatoes\"],\n",
    "    \"Burger\": [\"Burger\", \"Image of Burger\", \"Picture of Burger\", \"Burgers\"],\n",
    "    \"Crispy Chicken\": [\"Crispy Chicken\", \"Image of Crispy Chicken\", \"Picture of Crispy Chicken\", \"Crispy Chickens\"],\n",
    "    \"Donut\": [\"Donut\", \"Image of Donut\", \"Picture of Donut\", \"Donuts\"],\n",
    "    \"Fries\": [\"Fries\", \"Image of Fries\", \"Picture of Fries\", \"French Fries\"],\n",
    "    \"Hot Dog\": [\"Hot Dog\", \"Image of Hot Dog\", \"Picture of Hot Dog\", \"Hot Dogs\"],\n",
    "    \"Pizza\": [\"Pizza\", \"Image of Pizza\", \"Picture of Pizza\", \"Pizzas\"],\n",
    "    \"Sandwich\": [\"Sandwich\", \"Image of Sandwich\", \"Picture of Sandwich\", \"Sandwiches\"],\n",
    "    \"Taco\": [\"Taco\", \"Image of Taco\", \"Picture of Taco\", \"Tacos\"],\n",
    "    \"Taquito\": [\"Taquito\", \"Image of Taquito\", \"Picture of Taquito\", \"Taquitos\"]\n",
    "}\n",
    "\n",
    "# Baked Potato, Image of Baked Potato, Picture of Baked Potato, Baked Potatoes, Burger, Image of Burger, Picture of Burger, Burgers, Crispy Chicken, Image of Crispy Chicken, Picture of Crispy Chicken, Crispy Chickens, Donut, Image of Donut, Picture of Donut, Donuts, Fries, Image of Fries, Picture of Fries, French Fries, Hot Dog, Image of Hot Dog, Picture of Hot Dog, Hot Dogs, Pizza, Image of Pizza, Picture of Pizza, Pizzas, Sandwich, Image of Sandwich, Picture of Sandwich, Sandwiches, Taco, Image of Taco, Picture of Taco, Tacos, Taquito, Image of Taquito, Picture of Taquito, Taquitos\n",
    "\n",
    "# dict_size(f40)\n",
    "print(aOcheck_accuracy(\"food10/f40.csv\", f40))\n"
   ]
  },
  {
   "cell_type": "code",
   "execution_count": 79,
   "metadata": {},
   "outputs": [
    {
     "name": "stdout",
     "output_type": "stream",
     "text": [
      "91.28\n",
      "91.28\n"
     ]
    }
   ],
   "source": [
    "f50 = {\n",
    "    \"Baked Potato\": [\"Baked Potato\", \"Image of Baked Potato\", \"Picture of Baked Potato\", \"Baked Potatoes\", \"Appetizing Baked Potato\"],\n",
    "    \"Burger\": [\"Burger\", \"Image of Burger\", \"Picture of Burger\", \"Burgers\", \"Appetizing Burger\"],\n",
    "    \"Crispy Chicken\": [\"Crispy Chicken\", \"Image of Crispy Chicken\", \"Picture of Crispy Chicken\", \"Crispy Chickens\", \"Appetizing Crispy Chicken\"],\n",
    "    \"Donut\": [\"Donut\", \"Image of Donut\", \"Picture of Donut\", \"Donuts\", \"Appetizing Donut\"],\n",
    "    \"Fries\": [\"Fries\", \"Image of Fries\", \"Picture of Fries\", \"French Fries\", \"Appetizing Fries\"],\n",
    "    \"Hot Dog\": [\"Hot Dog\", \"Image of Hot Dog\", \"Picture of Hot Dog\", \"Hot Dogs\", \"Appetizing Hot Dog\"],\n",
    "    \"Pizza\": [\"Pizza\", \"Image of Pizza\", \"Picture of Pizza\", \"Pizzas\", \"Appetizing Pizza\"],\n",
    "    \"Sandwich\": [\"Sandwich\", \"Image of Sandwich\", \"Picture of Sandwich\", \"Sandwiches\", \"Appetizing Sandwich\"],\n",
    "    \"Taco\": [\"Taco\", \"Image of Taco\", \"Picture of Taco\", \"Tacos\", \"Appetizing Taco\"],\n",
    "    \"Taquito\": [\"Taquito\", \"Image of Taquito\", \"Picture of Taquito\", \"Taquitos\", \"Appetizing Taquito\"]\n",
    "}\n",
    "\n",
    "# Baked Potato, Image of Baked Potato, Picture of Baked Potato, Baked Potatoes, Appetizing Baked Potato, Burger, Image of Burger, Picture of Burger, Burgers, Appetizing Burger, Crispy Chicken, Image of Crispy Chicken, Picture of Crispy Chicken, Crispy Chickens, Appetizing Crispy Chicken, Donut, Image of Donut, Picture of Donut, Donuts, Appetizing Donut, Fries, Image of Fries, Picture of Fries, French Fries, Appetizing Fries, Hot Dog, Image of Hot Dog, Picture of Hot Dog, Hot Dogs, Appetizing Hot Dog, Pizza, Image of Pizza, Picture of Pizza, Pizzas, Appetizing Pizza, Sandwich, Image of Sandwich, Picture of Sandwich, Sandwiches, Appetizing Sandwich, Taco, Image of Taco, Picture of Taco, Tacos, Appetizing Taco, Taquito, Image of Taquito, Picture of Taquito, Taquitos, Appetizing Taquito\n",
    "\n",
    "# dict_size(f50)\n",
    "print(aOcheck_accuracy(\"food10/f50.csv\", f50))\n"
   ]
  },
  {
   "cell_type": "code",
   "execution_count": 80,
   "metadata": {},
   "outputs": [
    {
     "name": "stdout",
     "output_type": "stream",
     "text": [
      "91.28\n",
      "91.28\n"
     ]
    }
   ],
   "source": [
    "f60 = {\n",
    "    \"Baked Potato\": [\"Baked Potato\", \"Image of Baked Potato\", \"Picture of Baked Potato\", \"Baked Potatoes\", \"Appetizing Baked Potato\", \"Cool Baked Potato\"],\n",
    "    \"Burger\": [\"Burger\", \"Image of Burger\", \"Picture of Burger\", \"Burgers\", \"Appetizing Burger\", \"Cool Burger\"],\n",
    "    \"Crispy Chicken\": [\"Crispy Chicken\", \"Image of Crispy Chicken\", \"Picture of Crispy Chicken\", \"Crispy Chickens\", \"Appetizing Crispy Chicken\", \"Cool Crispy Chicken\"],\n",
    "    \"Donut\": [\"Donut\", \"Image of Donut\", \"Picture of Donut\", \"Donuts\", \"Appetizing Donut\", \"Cool Donut\"],\n",
    "    \"Fries\": [\"Fries\", \"Image of Fries\", \"Picture of Fries\", \"French Fries\", \"Appetizing Fries\", \"Cool Fries\"],\n",
    "    \"Hot Dog\": [\"Hot Dog\", \"Image of Hot Dog\", \"Picture of Hot Dog\", \"Hot Dogs\", \"Appetizing Hot Dog\", \"Cool Hot Dog\"],\n",
    "    \"Pizza\": [\"Pizza\", \"Image of Pizza\", \"Picture of Pizza\", \"Pizzas\", \"Appetizing Pizza\", \"Cool Pizza\"],\n",
    "    \"Sandwich\": [\"Sandwich\", \"Image of Sandwich\", \"Picture of Sandwich\", \"Sandwiches\", \"Appetizing Sandwich\", \"Cool Sandwich\"],\n",
    "    \"Taco\": [\"Taco\", \"Image of Taco\", \"Picture of Taco\", \"Tacos\", \"Appetizing Taco\", \"Cool Taco\"],\n",
    "    \"Taquito\": [\"Taquito\", \"Image of Taquito\", \"Picture of Taquito\", \"Taquitos\", \"Appetizing Taquito\", \"Cool Taquito\"]\n",
    "}\n",
    "\n",
    "# Baked Potato, Image of Baked Potato, Picture of Baked Potato, Baked Potatoes, Appetizing Baked Potato, Cool Baked Potato, Burger, Image of Burger, Picture of Burger, Burgers, Appetizing Burger, Cool Burger, Crispy Chicken, Image of Crispy Chicken, Picture of Crispy Chicken, Crispy Chickens, Appetizing Crispy Chicken, Cool Crispy Chicken, Donut, Image of Donut, Picture of Donut, Donuts, Appetizing Donut, Cool Donut, Fries, Image of Fries, Picture of Fries, French Fries, Appetizing Fries, Cool Fries, Hot Dog, Image of Hot Dog, Picture of Hot Dog, Hot Dogs, Appetizing Hot Dog, Cool Hot Dog, Pizza, Image of Pizza, Picture of Pizza, Pizzas, Appetizing Pizza, Cool Pizza, Sandwich, Image of Sandwich, Picture of Sandwich, Sandwiches, Appetizing Sandwich, Cool Sandwich, Taco, Image of Taco, Picture of Taco, Tacos, Appetizing Taco, Cool Taco, Taquito, Image of Taquito, Picture of Taquito, Taquitos, Appetizing Taquito, Cool Taquito\n",
    "\n",
    "# dict_size(f60)\n",
    "print(aOcheck_accuracy(\"food10/f60.csv\", f60))"
   ]
  },
  {
   "cell_type": "code",
   "execution_count": 81,
   "metadata": {},
   "outputs": [
    {
     "name": "stdout",
     "output_type": "stream",
     "text": [
      "91.69\n",
      "91.69\n"
     ]
    }
   ],
   "source": [
    "f70 = {\n",
    "    \"Baked Potato\": [\"Baked Potato\", \"Image of Baked Potato\", \"Picture of Baked Potato\", \"Baked Potatoes\", \"Appetizing Baked Potato\", \"Cool Baked Potato\", \"Food Baked Potato\"],\n",
    "    \"Burger\": [\"Burger\", \"Image of Burger\", \"Picture of Burger\", \"Burgers\", \"Appetizing Burger\", \"Cool Burger\", \"Food Burger\"],\n",
    "    \"Crispy Chicken\": [\"Crispy Chicken\", \"Image of Crispy Chicken\", \"Picture of Crispy Chicken\", \"Crispy Chickens\", \"Appetizing Crispy Chicken\", \"Cool Crispy Chicken\", \"Food Crispy Chicken\"],\n",
    "    \"Donut\": [\"Donut\", \"Image of Donut\", \"Picture of Donut\", \"Donuts\", \"Appetizing Donut\", \"Cool Donut\", \"Food Donut\"],\n",
    "    \"Fries\": [\"Fries\", \"Image of Fries\", \"Picture of Fries\", \"French Fries\", \"Appetizing Fries\", \"Cool Fries\", \"Food Fries\"],\n",
    "    \"Hot Dog\": [\"Hot Dog\", \"Image of Hot Dog\", \"Picture of Hot Dog\", \"Hot Dogs\", \"Appetizing Hot Dog\", \"Cool Hot Dog\", \"Food Hot Dog\"],\n",
    "    \"Pizza\": [\"Pizza\", \"Image of Pizza\", \"Picture of Pizza\", \"Pizzas\", \"Appetizing Pizza\", \"Cool Pizza\", \"Food Pizza\"],\n",
    "    \"Sandwich\": [\"Sandwich\", \"Image of Sandwich\", \"Picture of Sandwich\", \"Sandwiches\", \"Appetizing Sandwich\", \"Cool Sandwich\", \"Food Sandwich\"],\n",
    "    \"Taco\": [\"Taco\", \"Image of Taco\", \"Picture of Taco\", \"Tacos\", \"Appetizing Taco\", \"Cool Taco\", \"Food Taco\"],\n",
    "    \"Taquito\": [\"Taquito\", \"Image of Taquito\", \"Picture of Taquito\", \"Taquitos\", \"Appetizing Taquito\", \"Cool Taquito\", \"Food Taquito\"]\n",
    "}\n",
    "\n",
    "# Baked Potato, Image of Baked Potato, Picture of Baked Potato, Baked Potatoes, Appetizing Baked Potato, Cool Baked Potato, Food Baked Potato, Burger, Image of Burger, Picture of Burger, Burgers, Appetizing Burger, Cool Burger, Food Burger, Crispy Chicken, Image of Crispy Chicken, Picture of Crispy Chicken, Crispy Chickens, Appetizing Crispy Chicken, Cool Crispy Chicken, Food Crispy Chicken, Donut, Image of Donut, Picture of Donut, Donuts, Appetizing Donut, Cool Donut, Food Donut, Fries, Image of Fries, Picture of Fries, French Fries, Appetizing Fries, Cool Fries, Food Fries, Hot Dog, Image of Hot Dog, Picture of Hot Dog, Hot Dogs, Appetizing Hot Dog, Cool Hot Dog, Food Hot Dog, Pizza, Image of Pizza, Picture of Pizza, Pizzas, Appetizing Pizza, Cool Pizza, Food Pizza, Sandwich, Image of Sandwich, Picture of Sandwich, Sandwiches, Appetizing Sandwich, Cool Sandwich, Food Sandwich, Taco, Image of Taco, Picture of Taco, Tacos, Appetizing Taco, Cool Taco, Food Taco, Taquito, Image of Taquito, Picture of Taquito, Taquitos, Appetizing Taquito, Cool Taquito, Food Taquito\n",
    "\n",
    "# dict_size(f70)\n",
    "print(aOcheck_accuracy(\"food10/f70.csv\", f70))\n"
   ]
  },
  {
   "cell_type": "code",
   "execution_count": 82,
   "metadata": {},
   "outputs": [
    {
     "name": "stdout",
     "output_type": "stream",
     "text": [
      "91.69\n",
      "91.69\n"
     ]
    }
   ],
   "source": [
    "f80 = {\n",
    "    \"Baked Potato\": [\"Baked Potato\", \"Image of Baked Potato\", \"Picture of Baked Potato\", \"Baked Potatoes\", \"Appetizing Baked Potato\", \"Cool Baked Potato\", \"Food Baked Potato\", \"Fresh Baked Potato\"],\n",
    "    \"Burger\": [\"Burger\", \"Image of Burger\", \"Picture of Burger\", \"Burgers\", \"Appetizing Burger\", \"Cool Burger\", \"Food Burger\", \"Fresh Burger\"],\n",
    "    \"Crispy Chicken\": [\"Crispy Chicken\", \"Image of Crispy Chicken\", \"Picture of Crispy Chicken\", \"Crispy Chickens\", \"Appetizing Crispy Chicken\", \"Cool Crispy Chicken\", \"Food Crispy Chicken\", \"Fresh Crispy Chicken\"],\n",
    "    \"Donut\": [\"Donut\", \"Image of Donut\", \"Picture of Donut\", \"Donuts\", \"Appetizing Donut\", \"Cool Donut\", \"Food Donut\", \"Fresh Donut\"],\n",
    "    \"Fries\": [\"Fries\", \"Image of Fries\", \"Picture of Fries\", \"French Fries\", \"Appetizing Fries\", \"Cool Fries\", \"Food Fries\", \"Fresh Fries\"],\n",
    "    \"Hot Dog\": [\"Hot Dog\", \"Image of Hot Dog\", \"Picture of Hot Dog\", \"Hot Dogs\", \"Appetizing Hot Dog\", \"Cool Hot Dog\", \"Food Hot Dog\", \"Fresh Hot Dog\"],\n",
    "    \"Pizza\": [\"Pizza\", \"Image of Pizza\", \"Picture of Pizza\", \"Pizzas\", \"Appetizing Pizza\", \"Cool Pizza\", \"Food Pizza\", \"Fresh Pizza\"],\n",
    "    \"Sandwich\": [\"Sandwich\", \"Image of Sandwich\", \"Picture of Sandwich\", \"Sandwiches\", \"Appetizing Sandwich\", \"Cool Sandwich\", \"Food Sandwich\", \"Fresh Sandwich\"],\n",
    "    \"Taco\": [\"Taco\", \"Image of Taco\", \"Picture of Taco\", \"Tacos\", \"Appetizing Taco\", \"Cool Taco\", \"Food Taco\", \"Fresh Taco\"],\n",
    "    \"Taquito\": [\"Taquito\", \"Image of Taquito\", \"Picture of Taquito\", \"Taquitos\", \"Appetizing Taquito\", \"Cool Taquito\", \"Food Taquito\", \"Fresh Taquito\"]\n",
    "}\n",
    "\n",
    "# Baked Potato, Image of Baked Potato, Picture of Baked Potato, Baked Potatoes, Appetizing Baked Potato, Cool Baked Potato, Food Baked Potato, Fresh Baked Potato, Burger, Image of Burger, Picture of Burger, Burgers, Appetizing Burger, Cool Burger, Food Burger, Fresh Burger, Crispy Chicken, Image of Crispy Chicken, Picture of Crispy Chicken, Crispy Chickens, Appetizing Crispy Chicken, Cool Crispy Chicken, Food Crispy Chicken, Fresh Crispy Chicken, Donut, Image of Donut, Picture of Donut, Donuts, Appetizing Donut, Cool Donut, Food Donut, Fresh Donut, Fries, Image of Fries, Picture of Fries, French Fries, Appetizing Fries, Cool Fries, Food Fries, Fresh Fries, Hot Dog, Image of Hot Dog, Picture of Hot Dog, Hot Dogs, Appetizing Hot Dog, Cool Hot Dog, Food Hot Dog, Fresh Hot Dog, Pizza, Image of Pizza, Picture of Pizza, Pizzas, Appetizing Pizza, Cool Pizza, Food Pizza, Fresh Pizza, Sandwich, Image of Sandwich, Picture of Sandwich, Sandwiches, Appetizing Sandwich, Cool Sandwich, Food Sandwich, Fresh Sandwich, Taco, Image of Taco, Picture of Taco, Tacos, Appetizing Taco, Cool Taco, Food Taco, Fresh Taco, Taquito, Image of Taquito, Picture of Taquito, Taquitos, Appetizing Taquito, Cool Taquito, Food Taquito, Fresh Taquito\n",
    "\n",
    "# dict_size(f80)\n",
    "print(aOcheck_accuracy(\"food10/f80.csv\", f80))\n"
   ]
  },
  {
   "cell_type": "code",
   "execution_count": 83,
   "metadata": {},
   "outputs": [],
   "source": [
    "f90 = {\n",
    "    \"Baked Potato\": [\"Baked Potato\", \"Image of Baked Potato\", \"Picture of Baked Potato\", \"Baked Potatoes\", \"Appetizing Baked Potato\", \"Cool Baked Potato\", \"Food Baked Potato\", \"Fresh Baked Potato\", \"Picture of Baked Potatoes\"],\n",
    "    \"Burger\": [\"Burger\", \"Image of Burger\", \"Picture of Burger\", \"Burgers\", \"Appetizing Burger\", \"Cool Burger\", \"Food Burger\", \"Fresh Burger\", \"Picture of Burgers\"],\n",
    "    \"Crispy Chicken\": [\"Crispy Chicken\", \"Image of Crispy Chicken\", \"Picture of Crispy Chicken\", \"Crispy Chickens\", \"Appetizing Crispy Chicken\", \"Cool Crispy Chicken\", \"Food Crispy Chicken\", \"Fresh Crispy Chicken\", \"Picture of Crispy Chickens\"],\n",
    "    \"Donut\": [\"Donut\", \"Image of Donut\", \"Picture of Donut\", \"Donuts\", \"Appetizing Donut\", \"Cool Donut\", \"Food Donut\", \"Fresh Donut\", \"Picture of Donuts\"],\n",
    "    \"Fries\": [\"Fries\", \"Image of Fries\", \"Picture of Fries\", \"French Fries\", \"Appetizing Fries\", \"Cool Fries\", \"Food Fries\", \"Fresh Fries\", \"Picture of Fries\"],\n",
    "    \"Hot Dog\": [\"Hot Dog\", \"Image of Hot Dog\", \"Picture of Hot Dog\", \"Hot Dogs\", \"Appetizing Hot Dog\", \"Cool Hot Dog\", \"Food Hot Dog\", \"Fresh Hot Dog\", \"Picture of Hot Dogs\"],\n",
    "    \"Pizza\": [\"Pizza\", \"Image of Pizza\", \"Picture of Pizza\", \"Pizzas\", \"Appetizing Pizza\", \"Cool Pizza\", \"Food Pizza\", \"Fresh Pizza\", \"Picture of Pizzas\"],\n",
    "    \"Sandwich\": [\"Sandwich\", \"Image of Sandwich\", \"Picture of Sandwich\", \"Sandwiches\", \"Appetizing Sandwich\", \"Cool Sandwich\", \"Food Sandwich\", \"Fresh Sandwich\", \"Picture of Sandwiches\"],\n",
    "    \"Taco\": [\"Taco\", \"Image of Taco\", \"Picture of Taco\", \"Tacos\", \"Appetizing Taco\", \"Cool Taco\", \"Food Taco\", \"Fresh Taco\", \"Picture of Tacos\"],\n",
    "    \"Taquito\": [\"Taquito\", \"Image of Taquito\", \"Picture of Taquito\", \"Taquitos\", \"Appetizing Taquito\", \"Cool Taquito\", \"Food Taquito\", \"Fresh Taquito\", \"Picture of Taquitos\"]\n",
    "}\n",
    "\n",
    "# Baked Potato, Image of Baked Potato, Picture of Baked Potato, Baked Potatoes, Appetizing Baked Potato, Cool Baked Potato, Food Baked Potato, Fresh Baked Potato, Picture of Baked Potatoes, Burger, Image of Burger, Picture of Burger, Burgers, Appetizing Burger, Cool Burger, Food Burger, Fresh Burger, Picture of Burgers, Crispy Chicken, Image of Crispy Chicken, Picture of Crispy Chicken, Crispy Chickens, Appetizing Crispy Chicken, Cool Crispy Chicken, Food Crispy Chicken, Fresh Crispy Chicken, Picture of Crispy Chickens, Donut, Image of Donut, Picture of Donut, Donuts, Appetizing Donut, Cool Donut, Food Donut, Fresh Donut, Picture of Donuts, Fries, Image of Fries, Picture of Fries, French Fries, Appetizing Fries, Cool Fries, Food Fries, Fresh Fries, Picture of Fries, Hot Dog, Image of Hot Dog, Picture of Hot Dog, Hot Dogs, Appetizing Hot Dog, Cool Hot Dog, Food Hot Dog, Fresh Hot Dog, Picture of Hot Dogs, Pizza, Image of Pizza, Picture of Pizza, Pizzas, Appetizing Pizza, Cool Pizza, Food Pizza, Fresh Pizza, Picture of Pizzas, Sandwich, Image of Sandwich, Picture of Sandwich, Sandwiches, Appetizing Sandwich, Cool Sandwich, Food Sandwich, Fresh Sandwich, Picture of Sandwiches, Taco, Image of Taco, Picture of Taco, Tacos, Appetizing Taco, Cool Taco, Food Taco, Fresh Taco, Picture of Tacos, Taquito, Image of Taquito, Picture of Taquito, Taquitos, Appetizing Taquito, Cool Taquito, Food Taquito, Fresh Taquito, Picture of Taquitos\n",
    "\n",
    "# dict_size(f90)\n",
    "# print(aOcheck_accuracy(\"food10/f90.csv\", f90))"
   ]
  },
  {
   "cell_type": "code",
   "execution_count": 84,
   "metadata": {},
   "outputs": [],
   "source": [
    "f100 = {\n",
    "    \"Baked Potato\": [\"Baked Potato\", \"Image of Baked Potato\", \"Picture of Baked Potato\", \"Baked Potatoes\", \"Appetizing Baked Potato\", \"Cool Baked Potato\", \"Food Baked Potato\", \"Fresh Baked Potato\", \"Picture of Baked Potatoes\", \"Delicious Baked Potato\"],\n",
    "    \"Burger\": [\"Burger\", \"Image of Burger\", \"Picture of Burger\", \"Burgers\", \"Appetizing Burger\", \"Cool Burger\", \"Food Burger\", \"Fresh Burger\", \"Picture of Burgers\", \"Delicious Burger\"],\n",
    "    \"Crispy Chicken\": [\"Crispy Chicken\", \"Image of Crispy Chicken\", \"Picture of Crispy Chicken\", \"Crispy Chickens\", \"Appetizing Crispy Chicken\", \"Cool Crispy Chicken\", \"Food Crispy Chicken\", \"Fresh Crispy Chicken\", \"Picture of Crispy Chickens\", \"Delicious Crispy Chicken\"],\n",
    "    \"Donut\": [\"Donut\", \"Image of Donut\", \"Picture of Donut\", \"Donuts\", \"Appetizing Donut\", \"Cool Donut\", \"Food Donut\", \"Fresh Donut\", \"Picture of Donuts\", \"Delicious Donut\"],\n",
    "    \"Fries\": [\"Fries\", \"Image of Fries\", \"Picture of Fries\", \"French Fries\", \"Appetizing Fries\", \"Cool Fries\", \"Food Fries\", \"Fresh Fries\", \"Picture of Fries\", \"Delicious Fries\"],\n",
    "    \"Hot Dog\": [\"Hot Dog\", \"Image of Hot Dog\", \"Picture of Hot Dog\", \"Hot Dogs\", \"Appetizing Hot Dog\", \"Cool Hot Dog\", \"Food Hot Dog\", \"Fresh Hot Dog\", \"Picture of Hot Dogs\", \"Delicious Hot Dog\"],\n",
    "    \"Pizza\": [\"Pizza\", \"Image of Pizza\", \"Picture of Pizza\", \"Pizzas\", \"Appetizing Pizza\", \"Cool Pizza\", \"Food Pizza\", \"Fresh Pizza\", \"Picture of Pizzas\", \"Delicious Pizza\"],\n",
    "    \"Sandwich\": [\"Sandwich\", \"Image of Sandwich\", \"Picture of Sandwich\", \"Sandwiches\", \"Appetizing Sandwich\", \"Cool Sandwich\", \"Food Sandwich\", \"Fresh Sandwich\", \"Picture of Sandwiches\", \"Delicious Sandwich\"],\n",
    "    \"Taco\": [\"Taco\", \"Image of Taco\", \"Picture of Taco\", \"Tacos\", \"Appetizing Taco\", \"Cool Taco\", \"Food Taco\", \"Fresh Taco\", \"Picture of Tacos\", \"Delicious Taco\"],\n",
    "    \"Taquito\": [\"Taquito\", \"Image of Taquito\", \"Picture of Taquito\", \"Taquitos\", \"Appetizing Taquito\", \"Cool Taquito\", \"Food Taquito\", \"Fresh Taquito\", \"Picture of Taquitos\", \"Delicious Taquito\"]\n",
    "}\n",
    "\n",
    "# Baked Potato, Image of Baked Potato, Picture of Baked Potato, Baked Potatoes, Appetizing Baked Potato, Cool Baked Potato, Food Baked Potato, Fresh Baked Potato, Picture of Baked Potatoes, Delicious Baked Potato, Burger, Image of Burger, Picture of Burger, Burgers, Appetizing Burger, Cool Burger, Food Burger, Fresh Burger, Picture of Burgers, Delicious Burger, Crispy Chicken, Image of Crispy Chicken, Picture of Crispy Chicken, Crispy Chickens, Appetizing Crispy Chicken, Cool Crispy Chicken, Food Crispy Chicken, Fresh Crispy Chicken, Picture of Crispy Chickens, Delicious Crispy Chicken, Donut, Image of Donut, Picture of Donut, Donuts, Appetizing Donut, Cool Donut, Food Donut, Fresh Donut, Picture of Donuts, Delicious Donut, Fries, Image of Fries, Picture of Fries, French Fries, Appetizing Fries, Cool Fries, Food Fries, Fresh Fries, Picture of Fries, Delicious Fries, Hot Dog, Image of Hot Dog, Picture of Hot Dog, Hot Dogs, Appetizing Hot Dog, Cool Hot Dog, Food Hot Dog, Fresh Hot Dog, Picture of Hot Dogs, Delicious Hot Dog, Pizza, Image of Pizza, Picture of Pizza, Pizzas, Appetizing Pizza, Cool Pizza, Food Pizza, Fresh Pizza, Picture of Pizzas, Delicious Pizza, Sandwich, Image of Sandwich, Picture of Sandwich, Sandwiches, Appetizing Sandwich, Cool Sandwich, Food Sandwich, Fresh Sandwich, Picture of Sandwiches, Delicious Sandwich, Taco, Image of Taco, Picture of Taco, Tacos, Appetizing Taco, Cool Taco, Food Taco, Fresh Taco, Picture of Tacos, Delicious Taco, Taquito, Image of Taquito, Picture of Taquito, Taquitos, Appetizing Taquito, Cool Taquito, Food Taquito, Fresh Taquito, Picture of Taquitos, Delicious Taquito\n",
    "\n",
    "# dict_size(f100)\n",
    "# print(aOcheck_accuracy(\"food10/f100.csv\", f100))"
   ]
  },
  {
   "cell_type": "markdown",
   "metadata": {},
   "source": [
    "## Vehicles 20"
   ]
  },
  {
   "cell_type": "code",
   "execution_count": 85,
   "metadata": {},
   "outputs": [],
   "source": [
    "v20 = {\n",
    "    \"car\": [\"car\"],\n",
    "    \"motorcycle\": [\"motorcycle\"],\n",
    "    \"bicycle\": [\"bicycle\"],\n",
    "    \"truck\": [\"truck\"],\n",
    "    \"bus\": [\"bus\"],\n",
    "    \"van\": [\"van\"],\n",
    "    \"rickshaw\": [\"rickshaw\"],\n",
    "    \"scooter\": [\"scooter\"],\n",
    "    \"skateboard\": [\"skateboard\"],\n",
    "    \"ambulance\": [\"ambulance\"],\n",
    "    \"fire truck\": [\"fire truck\"],\n",
    "    \"tractor\": [\"tractor\"],\n",
    "    \"segway\": [\"segway\"],\n",
    "    \"unicycle\": [\"unicycle\"],\n",
    "    \"jet ski\": [\"jet ski\"],\n",
    "    \"helicopter\": [\"helicopter\"],\n",
    "    \"airplane\": [\"airplane\"],\n",
    "    \"boat\": [\"boat\"],\n",
    "    \"kayak\": [\"kayak\"],\n",
    "    \"hovercraft\" : [\"hovercraft\"]\n",
    "}\n",
    "\n",
    "# car,motorcycle, bicycle,truck,bus,van,rickshaw,scooter,skateboard,ambulance,fire truck,tractor,segway,unicycle,jet ski,helicopter,airplane,boat,kayak, hovercraft\n",
    "\n",
    "# dict_size(v20)\n",
    "# print(aOcheck_accuracy(\"vehicle20/v20.csv\", v20))"
   ]
  },
  {
   "cell_type": "code",
   "execution_count": 86,
   "metadata": {},
   "outputs": [],
   "source": [
    "v40 = {\n",
    "    \"car\": [\"car\", \"image of car\"],\n",
    "    \"motorcycle\": [\"motorcycle\", \"image of motorcycle\"],\n",
    "    \"bicycle\": [\"bicycle\", \"image of bicycle\"],\n",
    "    \"truck\": [\"truck\", \"image of truck\"],\n",
    "    \"bus\": [\"bus\", \"image of bus\"],\n",
    "    \"van\": [\"van\", \"image of van\"],\n",
    "    \"rickshaw\": [\"rickshaw\", \"image of rickshaw\"],\n",
    "    \"scooter\": [\"scooter\", \"image of scooter\"],\n",
    "    \"skateboard\": [\"skateboard\", \"image of skateboard\"],\n",
    "    \"ambulance\": [\"ambulance\", \"image of ambulance\"],\n",
    "    \"fire truck\": [\"fire truck\", \"image of fire truck\"],\n",
    "    \"tractor\": [\"tractor\", \"image of tractor\"],\n",
    "    \"segway\": [\"segway\", \"image of segway\"],\n",
    "    \"unicycle\": [\"unicycle\", \"image of unicycle\"],\n",
    "    \"jet ski\": [\"jet ski\", \"image of jet ski\"],\n",
    "    \"helicopter\": [\"helicopter\", \"image of helicopter\"],\n",
    "    \"airplane\": [\"airplane\", \"image of airplane\"],\n",
    "    \"boat\": [\"boat\", \"image of boat\"],\n",
    "    \"kayak\": [\"kayak\", \"image of kayak\"],\n",
    "    \"hovercraft\": [\"hovercraft\", \"image of hovercraft\"]\n",
    "}\n",
    "\n",
    "# car, image of car, motorcycle, image of motorcycle, bicycle, image of bicycle, truck, image of truck, bus, image of bus, van, image of van, rickshaw, image of rickshaw, scooter, image of scooter, skateboard, image of skateboard, ambulance, image of ambulance, fire truck, image of fire truck, tractor, image of tractor, segway, image of segway, unicycle, image of unicycle, jet ski, image of jet ski, helicopter, image of helicopter, airplane, image of airplane, boat, image of boat, kayak, image of kayak, hovercraft, image of hovercraft\n",
    "\n",
    "# dict_size(v40)\n",
    "# print(aOcheck_accuracy(\"vehicle20/v40.csv\", v40))\n"
   ]
  },
  {
   "cell_type": "code",
   "execution_count": 87,
   "metadata": {},
   "outputs": [],
   "source": [
    "v60 = {\n",
    "    \"car\": [\"car\", \"image of car\", \"picture of car\"],\n",
    "    \"motorcycle\": [\"motorcycle\", \"image of motorcycle\", \"picture of motorcycle\"],\n",
    "    \"bicycle\": [\"bicycle\", \"image of bicycle\", \"picture of bicycle\"],\n",
    "    \"truck\": [\"truck\", \"image of truck\", \"picture of truck\"],\n",
    "    \"bus\": [\"bus\", \"image of bus\", \"picture of bus\"],\n",
    "    \"van\": [\"van\", \"image of van\", \"picture of van\"],\n",
    "    \"rickshaw\": [\"rickshaw\", \"image of rickshaw\", \"picture of rickshaw\"],\n",
    "    \"scooter\": [\"scooter\", \"image of scooter\", \"picture of scooter\"],\n",
    "    \"skateboard\": [\"skateboard\", \"image of skateboard\", \"picture of skateboard\"],\n",
    "    \"ambulance\": [\"ambulance\", \"image of ambulance\", \"picture of ambulance\"],\n",
    "    \"fire truck\": [\"fire truck\", \"image of fire truck\", \"picture of fire truck\"],\n",
    "    \"tractor\": [\"tractor\", \"image of tractor\", \"picture of tractor\"],\n",
    "    \"segway\": [\"segway\", \"image of segway\", \"picture of segway\"],\n",
    "    \"unicycle\": [\"unicycle\", \"image of unicycle\", \"picture of unicycle\"],\n",
    "    \"jet ski\": [\"jet ski\", \"image of jet ski\", \"picture of jet ski\"],\n",
    "    \"helicopter\": [\"helicopter\", \"image of helicopter\", \"picture of helicopter\"],\n",
    "    \"airplane\": [\"airplane\", \"image of airplane\", \"picture of airplane\"],\n",
    "    \"boat\": [\"boat\", \"image of boat\", \"picture of boat\"],\n",
    "    \"kayak\": [\"kayak\", \"image of kayak\", \"picture of kayak\"],\n",
    "    \"hovercraft\": [\"hovercraft\", \"image of hovercraft\", \"picture of hovercraft\"]\n",
    "}\n",
    "\n",
    "# car, image of car, picture of car, motorcycle, image of motorcycle, picture of motorcycle, bicycle, image of bicycle, picture of bicycle, truck, image of truck, picture of truck, bus, image of bus, picture of bus, van, image of van, picture of van, rickshaw, image of rickshaw, picture of rickshaw, scooter, image of scooter, picture of scooter, skateboard, image of skateboard, picture of skateboard, ambulance, image of ambulance, picture of ambulance, fire truck, image of fire truck, picture of fire truck, tractor, image of tractor, picture of tractor, segway, image of segway, picture of segway, unicycle, image of unicycle, picture of unicycle, jet ski, image of jet ski, picture of jet ski, helicopter, image of helicopter, picture of helicopter, airplane, image of airplane, picture of airplane, boat, image of boat, picture of boat, kayak, image of kayak, picture of kayak, hovercraft, image of hovercraft, picture of hovercraft\n",
    "\n",
    "# dict_size(v60)\n",
    "# print(aOcheck_accuracy(\"vehicle20/v60.csv\", v60))\n"
   ]
  },
  {
   "cell_type": "code",
   "execution_count": 88,
   "metadata": {},
   "outputs": [
    {
     "name": "stdout",
     "output_type": "stream",
     "text": [
      "80\n",
      "77.23\n",
      "77.23\n"
     ]
    }
   ],
   "source": [
    "v80 = {\n",
    "    \"car\": [\"car\", \"image of car\", \"picture of car\", \"cars\"],\n",
    "    \"motorcycle\": [\"motorcycle\", \"image of motorcycle\", \"picture of motorcycle\", \"motorcycles\"],\n",
    "    \"bicycle\": [\"bicycle\", \"image of bicycle\", \"picture of bicycle\", \"bicycles\"],\n",
    "    \"truck\": [\"truck\", \"image of truck\", \"picture of truck\", \"trucks\"],\n",
    "    \"bus\": [\"bus\", \"image of bus\", \"picture of bus\", \"buses\"],\n",
    "    \"van\": [\"van\", \"image of van\", \"picture of van\", \"vans\"],\n",
    "    \"rickshaw\": [\"rickshaw\", \"image of rickshaw\", \"picture of rickshaw\", \"rickshaws\"],\n",
    "    \"scooter\": [\"scooter\", \"image of scooter\", \"picture of scooter\", \"scooters\"],\n",
    "    \"skateboard\": [\"skateboard\", \"image of skateboard\", \"picture of skateboard\", \"skateboards\"],\n",
    "    \"ambulance\": [\"ambulance\", \"image of ambulance\", \"picture of ambulance\", \"ambulances\"],\n",
    "    \"fire truck\": [\"fire truck\", \"image of fire truck\", \"picture of fire truck\", \"fire trucks\"],\n",
    "    \"tractor\": [\"tractor\", \"image of tractor\", \"picture of tractor\", \"tractors\"],\n",
    "    \"segway\": [\"segway\", \"image of segway\", \"picture of segway\", \"segways\"],\n",
    "    \"unicycle\": [\"unicycle\", \"image of unicycle\", \"picture of unicycle\", \"unicycles\"],\n",
    "    \"jet ski\": [\"jet ski\", \"image of jet ski\", \"picture of jet ski\", \"jet skis\"],\n",
    "    \"helicopter\": [\"helicopter\", \"image of helicopter\", \"picture of helicopter\", \"helicopters\"],\n",
    "    \"airplane\": [\"airplane\", \"image of airplane\", \"picture of airplane\", \"airplanes\"],\n",
    "    \"boat\": [\"boat\", \"image of boat\", \"picture of boat\", \"boats\"],\n",
    "    \"kayak\": [\"kayak\", \"image of kayak\", \"picture of kayak\", \"kayaks\"],\n",
    "    \"hovercraft\": [\"hovercraft\", \"image of hovercraft\", \"picture of hovercraft\", \"hovercrafts\"]\n",
    "}\n",
    "\n",
    "# car, image of car, picture of car, cars, motorcycle, image of motorcycle, picture of motorcycle, motorcycles, bicycle, image of bicycle, picture of bicycle, bicycles, truck, image of truck, picture of truck, trucks, bus, image of bus, picture of bus, buses, van, image of van, picture of van, vans, rickshaw, image of rickshaw, picture of rickshaw, rickshaws, scooter, image of scooter, picture of scooter, scooters, skateboard, image of skateboard, picture of skateboard, skateboards, ambulance, image of ambulance, picture of ambulance, ambulances, fire truck, image of fire truck, picture of fire truck, fire trucks, tractor, image of tractor, picture of tractor, tractors, segway, image of segway, picture of segway, segways, unicycle, image of unicycle, picture of unicycle, unicycles, jet ski, image of jet ski, picture of jet ski, jet skis, helicopter, image of helicopter, picture of helicopter, helicopters, airplane, image of airplane, picture of airplane, airplanes, boat, image of boat, picture of boat, boats, kayak, image of kayak, picture of kayak, kayaks, hovercraft, image of hovercraft, picture of hovercraft, hovercrafts\n",
    "\n",
    "dict_size(v80)\n",
    "print(aOcheck_accuracy(\"vehicle20/v80.csv\", v80))"
   ]
  },
  {
   "cell_type": "code",
   "execution_count": 89,
   "metadata": {},
   "outputs": [],
   "source": [
    "v100 = {\n",
    "    \"car\": [\"car\", \"image of car\", \"picture of car\", \"cars\", \"cool car\"],\n",
    "    \"motorcycle\": [\"motorcycle\", \"image of motorcycle\", \"picture of motorcycle\", \"motorcycles\", \"cool motorcycle\"],\n",
    "    \"bicycle\": [\"bicycle\", \"image of bicycle\", \"picture of bicycle\", \"bicycles\", \"cool bicycle\"],\n",
    "    \"truck\": [\"truck\", \"image of truck\", \"picture of truck\", \"trucks\", \"cool truck\"],\n",
    "    \"bus\": [\"bus\", \"image of bus\", \"picture of bus\", \"buses\", \"cool bus\"],\n",
    "    \"van\": [\"van\", \"image of van\", \"picture of van\", \"vans\", \"cool van\"],\n",
    "    \"rickshaw\": [\"rickshaw\", \"image of rickshaw\", \"picture of rickshaw\", \"rickshaws\", \"cool rickshaw\"],\n",
    "    \"scooter\": [\"scooter\", \"image of scooter\", \"picture of scooter\", \"scooters\", \"cool scooter\"],\n",
    "    \"skateboard\": [\"skateboard\", \"image of skateboard\", \"picture of skateboard\", \"skateboards\", \"cool skateboard\"],\n",
    "    \"ambulance\": [\"ambulance\", \"image of ambulance\", \"picture of ambulance\", \"ambulances\", \"cool ambulance\"],\n",
    "    \"fire truck\": [\"fire truck\", \"image of fire truck\", \"picture of fire truck\", \"fire trucks\", \"cool fire truck\"],\n",
    "    \"tractor\": [\"tractor\", \"image of tractor\", \"picture of tractor\", \"tractors\", \"cool tractor\"],\n",
    "    \"segway\": [\"segway\", \"image of segway\", \"picture of segway\", \"segways\", \"cool segway\"],\n",
    "    \"unicycle\": [\"unicycle\", \"image of unicycle\", \"picture of unicycle\", \"unicycles\", \"cool unicycle\"],\n",
    "    \"jet ski\": [\"jet ski\", \"image of jet ski\", \"picture of jet ski\", \"jet skis\", \"cool jet ski\"],\n",
    "    \"helicopter\": [\"helicopter\", \"image of helicopter\", \"picture of helicopter\", \"helicopters\", \"cool helicopter\"],\n",
    "    \"airplane\": [\"airplane\", \"image of airplane\", \"picture of airplane\", \"airplanes\", \"cool airplane\"],\n",
    "    \"boat\": [\"boat\", \"image of boat\", \"picture of boat\", \"boats\", \"cool boat\"],\n",
    "    \"kayak\": [\"kayak\", \"image of kayak\", \"picture of kayak\", \"kayaks\", \"cool kayak\"],\n",
    "    \"hovercraft\": [\"hovercraft\", \"image of hovercraft\", \"picture of hovercraft\", \"hovercrafts\", \"cool hovercraft\"]\n",
    "}\n",
    "\n",
    "# car, image of car, picture of car, cars, cool car, motorcycle, image of motorcycle, picture of motorcycle, motorcycles, cool motorcycle, bicycle, image of bicycle, picture of bicycle, bicycles, cool bicycle, truck, image of truck, picture of truck, trucks, cool truck, bus, image of bus, picture of bus, buses, cool bus, van, image of van, picture of van, vans, cool van, rickshaw, image of rickshaw, picture of rickshaw, rickshaws, cool rickshaw, scooter, image of scooter, picture of scooter, scooters, cool scooter, skateboard, image of skateboard, picture of skateboard, skateboards, cool skateboard, ambulance, image of ambulance, picture of ambulance, ambulances, cool ambulance, fire truck, image of fire truck, picture of fire truck, fire trucks, cool fire truck, tractor, image of tractor, picture of tractor, tractors, cool tractor, segway, image of segway, picture of segway, segways, cool segway, unicycle, image of unicycle, picture of unicycle, unicycles, cool unicycle, jet ski, image of jet ski, picture of jet ski, jet skis, cool jet ski, helicopter, image of helicopter, picture of helicopter, helicopters, cool helicopter, airplane, image of airplane, picture of airplane, airplanes, cool airplane, boat, image of boat, picture of boat, boats, cool boat, kayak, image of kayak, picture of kayak, kayaks, cool kayak, hovercraft, image of hovercraft, picture of hovercraft, hovercrafts, cool hovercraft\n",
    "\n",
    "# dict_size(v100)\n",
    "# print(aOcheck_accuracy(\"vehicle20/v100.csv\", v100))\n"
   ]
  },
  {
   "cell_type": "code",
   "execution_count": 90,
   "metadata": {},
   "outputs": [],
   "source": [
    "v120 = {\n",
    "    \"car\": [\"car\", \"image of car\", \"picture of car\", \"cars\", \"cool car\", \"classic car\"],\n",
    "    \"motorcycle\": [\"motorcycle\", \"image of motorcycle\", \"picture of motorcycle\", \"motorcycles\", \"cool motorcycle\", \"classic motorcycle\"],\n",
    "    \"bicycle\": [\"bicycle\", \"image of bicycle\", \"picture of bicycle\", \"bicycles\", \"cool bicycle\", \"classic bicycle\"],\n",
    "    \"truck\": [\"truck\", \"image of truck\", \"picture of truck\", \"trucks\", \"cool truck\", \"classic truck\"],\n",
    "    \"bus\": [\"bus\", \"image of bus\", \"picture of bus\", \"buses\", \"cool bus\", \"classic bus\"],\n",
    "    \"van\": [\"van\", \"image of van\", \"picture of van\", \"vans\", \"cool van\", \"classic van\"],\n",
    "    \"rickshaw\": [\"rickshaw\", \"image of rickshaw\", \"picture of rickshaw\", \"rickshaws\", \"cool rickshaw\", \"classic rickshaw\"],\n",
    "    \"scooter\": [\"scooter\", \"image of scooter\", \"picture of scooter\", \"scooters\", \"cool scooter\", \"classic scooter\"],\n",
    "    \"skateboard\": [\"skateboard\", \"image of skateboard\", \"picture of skateboard\", \"skateboards\", \"cool skateboard\", \"classic skateboard\"],\n",
    "    \"ambulance\": [\"ambulance\", \"image of ambulance\", \"picture of ambulance\", \"ambulances\", \"cool ambulance\", \"classic ambulance\"],\n",
    "    \"fire truck\": [\"fire truck\", \"image of fire truck\", \"picture of fire truck\", \"fire trucks\", \"cool fire truck\", \"classic fire truck\"],\n",
    "    \"tractor\": [\"tractor\", \"image of tractor\", \"picture of tractor\", \"tractors\", \"cool tractor\", \"classic tractor\"],\n",
    "    \"segway\": [\"segway\", \"image of segway\", \"picture of segway\", \"segways\", \"cool segway\", \"classic segway\"],\n",
    "    \"unicycle\": [\"unicycle\", \"image of unicycle\", \"picture of unicycle\", \"unicycles\", \"cool unicycle\", \"classic unicycle\"],\n",
    "    \"jet ski\": [\"jet ski\", \"image of jet ski\", \"picture of jet ski\", \"jet skis\", \"cool jet ski\", \"classic jet ski\"],\n",
    "    \"helicopter\": [\"helicopter\", \"image of helicopter\", \"picture of helicopter\", \"helicopters\", \"cool helicopter\", \"classic helicopter\"],\n",
    "    \"airplane\": [\"airplane\", \"image of airplane\", \"picture of airplane\", \"airplanes\", \"cool airplane\", \"classic airplane\"],\n",
    "    \"boat\": [\"boat\", \"image of boat\", \"picture of boat\", \"boats\", \"cool boat\", \"classic boat\"],\n",
    "    \"kayak\": [\"kayak\", \"image of kayak\", \"picture of kayak\", \"kayaks\", \"cool kayak\", \"classic kayak\"],\n",
    "    \"hovercraft\": [\"hovercraft\", \"image of hovercraft\", \"picture of hovercraft\", \"hovercrafts\", \"cool hovercraft\", \"classic hovercraft\"]\n",
    "}\n",
    "\n",
    "# car, image of car, picture of car, cars, cool car, classic car, motorcycle, image of motorcycle, picture of motorcycle, motorcycles, cool motorcycle, classic motorcycle, bicycle, image of bicycle, picture of bicycle, bicycles, cool bicycle, classic bicycle, truck, image of truck, picture of truck, trucks, cool truck, classic truck, bus, image of bus, picture of bus, buses, cool bus, classic bus, van, image of van, picture of van, vans, cool van, classic van, rickshaw, image of rickshaw, picture of rickshaw, rickshaws, cool rickshaw, classic rickshaw, scooter, image of scooter, picture of scooter, scooters, cool scooter, classic scooter, skateboard, image of skateboard, picture of skateboard, skateboards, cool skateboard, classic skateboard, ambulance, image of ambulance, picture of ambulance, ambulances, cool ambulance, classic ambulance, fire truck, image of fire truck, picture of fire truck, fire trucks, cool fire truck, classic fire truck, tractor, image of tractor, picture of tractor, tractors, cool tractor, classic tractor, segway, image of segway, picture of segway, segways, cool segway, classic segway, unicycle, image of unicycle, picture of unicycle, unicycles, cool unicycle, classic unicycle, jet ski, image of jet ski, picture of jet ski, jet skis, cool jet ski, classic jet ski, helicopter, image of helicopter, picture of helicopter, helicopters, cool helicopter, classic helicopter, airplane, image of airplane, picture of airplane, airplanes, cool airplane, classic airplane, boat, image of boat, picture of boat, boats, cool boat, classic boat, kayak, image of kayak, picture of kayak, kayaks, cool kayak, classic kayak, hovercraft, image of hovercraft, picture of hovercraft, hovercrafts, cool hovercraft, classic hovercraft\n",
    "\n",
    "# dict_size(v120)\n",
    "# print(aOcheck_accuracy(\"vehicle20/v120.csv\", v120))\n"
   ]
  },
  {
   "cell_type": "code",
   "execution_count": 91,
   "metadata": {},
   "outputs": [],
   "source": [
    "v140 = {\n",
    "    \"car\": [\"car\", \"image of car\", \"picture of car\", \"cars\", \"cool car\", \"classic car\", \"detailed car\"],\n",
    "    \"motorcycle\": [\"motorcycle\", \"image of motorcycle\", \"picture of motorcycle\", \"motorcycles\", \"cool motorcycle\", \"classic motorcycle\", \"detailed motorcycle\"],\n",
    "    \"bicycle\": [\"bicycle\", \"image of bicycle\", \"picture of bicycle\", \"bicycles\", \"cool bicycle\", \"classic bicycle\", \"detailed bicycle\"],\n",
    "    \"truck\": [\"truck\", \"image of truck\", \"picture of truck\", \"trucks\", \"cool truck\", \"classic truck\", \"detailed truck\"],\n",
    "    \"bus\": [\"bus\", \"image of bus\", \"picture of bus\", \"buses\", \"cool bus\", \"classic bus\", \"detailed bus\"],\n",
    "    \"van\": [\"van\", \"image of van\", \"picture of van\", \"vans\", \"cool van\", \"classic van\", \"detailed van\"],\n",
    "    \"rickshaw\": [\"rickshaw\", \"image of rickshaw\", \"picture of rickshaw\", \"rickshaws\", \"cool rickshaw\", \"classic rickshaw\", \"detailed rickshaw\"],\n",
    "    \"scooter\": [\"scooter\", \"image of scooter\", \"picture of scooter\", \"scooters\", \"cool scooter\", \"classic scooter\", \"detailed scooter\"],\n",
    "    \"skateboard\": [\"skateboard\", \"image of skateboard\", \"picture of skateboard\", \"skateboards\", \"cool skateboard\", \"classic skateboard\", \"detailed skateboard\"],\n",
    "    \"ambulance\": [\"ambulance\", \"image of ambulance\", \"picture of ambulance\", \"ambulances\", \"cool ambulance\", \"classic ambulance\", \"detailed ambulance\"],\n",
    "    \"fire truck\": [\"fire truck\", \"image of fire truck\", \"picture of fire truck\", \"fire trucks\", \"cool fire truck\", \"classic fire truck\", \"detailed fire truck\"],\n",
    "    \"tractor\": [\"tractor\", \"image of tractor\", \"picture of tractor\", \"tractors\", \"cool tractor\", \"classic tractor\", \"detailed tractor\"],\n",
    "    \"segway\": [\"segway\", \"image of segway\", \"picture of segway\", \"segways\", \"cool segway\", \"classic segway\", \"detailed segway\"],\n",
    "    \"unicycle\": [\"unicycle\", \"image of unicycle\", \"picture of unicycle\", \"unicycles\", \"cool unicycle\", \"classic unicycle\", \"detailed unicycle\"],\n",
    "    \"jet ski\": [\"jet ski\", \"image of jet ski\", \"picture of jet ski\", \"jet skis\", \"cool jet ski\", \"classic jet ski\", \"detailed jet ski\"],\n",
    "    \"helicopter\": [\"helicopter\", \"image of helicopter\", \"picture of helicopter\", \"helicopters\", \"cool helicopter\", \"classic helicopter\", \"detailed helicopter\"],\n",
    "    \"airplane\": [\"airplane\", \"image of airplane\", \"picture of airplane\", \"airplanes\", \"cool airplane\", \"classic airplane\", \"detailed airplane\"],\n",
    "    \"boat\": [\"boat\", \"image of boat\", \"picture of boat\", \"boats\", \"cool boat\", \"classic boat\", \"detailed boat\"],\n",
    "    \"kayak\": [\"kayak\", \"image of kayak\", \"picture of kayak\", \"kayaks\", \"cool kayak\", \"classic kayak\", \"detailed kayak\"],\n",
    "    \"hovercraft\": [\"hovercraft\", \"image of hovercraft\", \"picture of hovercraft\", \"hovercrafts\", \"cool hovercraft\", \"classic hovercraft\", \"detailed hovercraft\"]\n",
    "}\n",
    "\n",
    "# car, image of car, picture of car, cars, cool car, classic car, detailed car, motorcycle, image of motorcycle, picture of motorcycle, motorcycles, cool motorcycle, classic motorcycle, detailed motorcycle, bicycle, image of bicycle, picture of bicycle, bicycles, cool bicycle, classic bicycle, detailed bicycle, truck, image of truck, picture of truck, trucks, cool truck, classic truck, detailed truck, bus, image of bus, picture of bus, buses, cool bus, classic bus, detailed bus, van, image of van, picture of van, vans, cool van, classic van, detailed van, rickshaw, image of rickshaw, picture of rickshaw, rickshaws, cool rickshaw, classic rickshaw, detailed rickshaw, scooter, image of scooter, picture of scooter, scooters, cool scooter, classic scooter, detailed scooter, skateboard, image of skateboard, picture of skateboard, skateboards, cool skateboard, classic skateboard, detailed skateboard, ambulance, image of ambulance, picture of ambulance, ambulances, cool ambulance, classic ambulance, detailed ambulance, fire truck, image of fire truck, picture of fire truck, fire trucks, cool fire truck, classic fire truck, detailed fire truck, tractor, image of tractor, picture of tractor, tractors, cool tractor, classic tractor, detailed tractor, segway, image of segway, picture of segway, segways, cool segway, classic segway, detailed segway, unicycle, image of unicycle, picture of unicycle, unicycles, cool unicycle, classic unicycle, detailed unicycle, jet ski, image of jet ski, picture of jet ski, jet skis, cool jet ski, classic jet ski, detailed jet ski, helicopter, image of helicopter, picture of helicopter, helicopters, cool helicopter, classic helicopter, detailed helicopter, airplane, image of airplane, picture of airplane, airplanes, cool airplane, classic airplane, detailed airplane, boat, image of boat, picture of boat, boats, cool boat, classic boat, detailed boat, kayak, image of kayak, picture of kayak, kayaks, cool kayak, classic kayak, detailed kayak, hovercraft, image of hovercraft, picture of hovercraft, hovercrafts, cool hovercraft, classic hovercraft, detailed hovercraft\n",
    "\n",
    "# dict_size(v140)\n",
    "# print(aOcheck_accuracy(\"vehicle20/v140.csv\", v140))\n"
   ]
  },
  {
   "cell_type": "code",
   "execution_count": 92,
   "metadata": {},
   "outputs": [],
   "source": [
    "v160 = {\n",
    "    \"car\": [\"car\", \"image of car\", \"picture of car\", \"cars\", \"cool car\", \"classic car\", \"detailed car\", \"reliable car\"],\n",
    "    \"motorcycle\": [\"motorcycle\", \"image of motorcycle\", \"picture of motorcycle\", \"motorcycles\", \"cool motorcycle\", \"classic motorcycle\", \"detailed motorcycle\", \"reliable motorcycle\"],\n",
    "    \"bicycle\": [\"bicycle\", \"image of bicycle\", \"picture of bicycle\", \"bicycles\", \"cool bicycle\", \"classic bicycle\", \"detailed bicycle\", \"reliable bicycle\"],\n",
    "    \"truck\": [\"truck\", \"image of truck\", \"picture of truck\", \"trucks\", \"cool truck\", \"classic truck\", \"detailed truck\", \"reliable truck\"],\n",
    "    \"bus\": [\"bus\", \"image of bus\", \"picture of bus\", \"buses\", \"cool bus\", \"classic bus\", \"detailed bus\", \"reliable bus\"],\n",
    "    \"van\": [\"van\", \"image of van\", \"picture of van\", \"vans\", \"cool van\", \"classic van\", \"detailed van\", \"reliable van\"],\n",
    "    \"rickshaw\": [\"rickshaw\", \"image of rickshaw\", \"picture of rickshaw\", \"rickshaws\", \"cool rickshaw\", \"classic rickshaw\", \"detailed rickshaw\", \"reliable rickshaw\"],\n",
    "    \"scooter\": [\"scooter\", \"image of scooter\", \"picture of scooter\", \"scooters\", \"cool scooter\", \"classic scooter\", \"detailed scooter\", \"reliable scooter\"],\n",
    "    \"skateboard\": [\"skateboard\", \"image of skateboard\", \"picture of skateboard\", \"skateboards\", \"cool skateboard\", \"classic skateboard\", \"detailed skateboard\", \"reliable skateboard\"],\n",
    "    \"ambulance\": [\"ambulance\", \"image of ambulance\", \"picture of ambulance\", \"ambulances\", \"cool ambulance\", \"classic ambulance\", \"detailed ambulance\", \"reliable ambulance\"],\n",
    "    \"fire truck\": [\"fire truck\", \"image of fire truck\", \"picture of fire truck\", \"fire trucks\", \"cool fire truck\", \"classic fire truck\", \"detailed fire truck\", \"reliable fire truck\"],\n",
    "    \"tractor\": [\"tractor\", \"image of tractor\", \"picture of tractor\", \"tractors\", \"cool tractor\", \"classic tractor\", \"detailed tractor\", \"reliable tractor\"],\n",
    "    \"segway\": [\"segway\", \"image of segway\", \"picture of segway\", \"segways\", \"cool segway\", \"classic segway\", \"detailed segway\", \"reliable segway\"],\n",
    "    \"unicycle\": [\"unicycle\", \"image of unicycle\", \"picture of unicycle\", \"unicycles\", \"cool unicycle\", \"classic unicycle\", \"detailed unicycle\", \"reliable unicycle\"],\n",
    "    \"jet ski\": [\"jet ski\", \"image of jet ski\", \"picture of jet ski\", \"jet skis\", \"cool jet ski\", \"classic jet ski\", \"detailed jet ski\", \"reliable jet ski\"],\n",
    "    \"helicopter\": [\"helicopter\", \"image of helicopter\", \"picture of helicopter\", \"helicopters\", \"cool helicopter\", \"classic helicopter\", \"detailed helicopter\", \"reliable helicopter\"],\n",
    "    \"airplane\": [\"airplane\", \"image of airplane\", \"picture of airplane\", \"airplanes\", \"cool airplane\", \"classic airplane\", \"detailed airplane\", \"reliable airplane\"],\n",
    "    \"boat\": [\"boat\", \"image of boat\", \"picture of boat\", \"boats\", \"cool boat\", \"classic boat\", \"detailed boat\", \"reliable boat\"],\n",
    "    \"kayak\": [\"kayak\", \"image of kayak\", \"picture of kayak\", \"kayaks\", \"cool kayak\", \"classic kayak\", \"detailed kayak\", \"reliable kayak\"],\n",
    "    \"hovercraft\": [\"hovercraft\", \"image of hovercraft\", \"picture of hovercraft\", \"hovercrafts\", \"cool hovercraft\", \"classic hovercraft\", \"detailed hovercraft\", \"reliable hovercraft\"]\n",
    "}\n",
    "\n",
    "# car, image of car, picture of car, cars, cool car, classic car, detailed car, reliable car, motorcycle, image of motorcycle, picture of motorcycle, motorcycles, cool motorcycle, classic motorcycle, detailed motorcycle, reliable motorcycle, bicycle, image of bicycle, picture of bicycle, bicycles, cool bicycle, classic bicycle, detailed bicycle, reliable bicycle, truck, image of truck, picture of truck, trucks, cool truck, classic truck, detailed truck, reliable truck, bus, image of bus, picture of bus, buses, cool bus, classic bus, detailed bus, reliable bus, van, image of van, picture of van, vans, cool van, classic van, detailed van, reliable van, rickshaw, image of rickshaw, picture of rickshaw, rickshaws, cool rickshaw, classic rickshaw, detailed rickshaw, reliable rickshaw, scooter, image of scooter, picture of scooter, scooters, cool scooter, classic scooter, detailed scooter, reliable scooter, skateboard, image of skateboard, picture of skateboard, skateboards, cool skateboard, classic skateboard, detailed skateboard, reliable skateboard, ambulance, image of ambulance, picture of ambulance, ambulances, cool ambulance, classic ambulance, detailed ambulance, reliable ambulance, fire truck, image of fire truck, picture of fire truck, fire trucks, cool fire truck, classic fire truck, detailed fire truck, reliable fire truck, tractor, image of tractor, picture of tractor, tractors, cool tractor, classic tractor, detailed tractor, reliable tractor, segway, image of segway, picture of segway, segways, cool segway, classic segway, detailed segway, reliable segway, unicycle, image of unicycle, picture of unicycle, unicycles, cool unicycle, classic unicycle, detailed unicycle, reliable unicycle, jet ski, image of jet ski, picture of jet ski, jet skis, cool jet ski, classic jet ski, detailed jet ski, reliable jet ski, helicopter, image of helicopter, picture of helicopter, helicopters, cool helicopter, classic helicopter, detailed helicopter, reliable helicopter, airplane, image of airplane, picture of airplane, airplanes, cool airplane, classic airplane, detailed airplane, reliable airplane, boat, image of boat, picture of boat, boats, cool boat, classic boat, detailed boat, reliable boat, kayak, image of kayak, picture of kayak, kayaks, cool kayak, classic kayak, detailed kayak, reliable kayak, hovercraft, image of hovercraft, picture of hovercraft, hovercrafts, cool hovercraft, classic hovercraft, detailed hovercraft, reliable hovercraft\n",
    "\n",
    "# dict_size(v160)\n",
    "# print(aOcheck_accuracy(\"vehicle20/v160.csv\", v160))\n"
   ]
  },
  {
   "cell_type": "code",
   "execution_count": 93,
   "metadata": {},
   "outputs": [],
   "source": [
    "v180 = {\n",
    "    \"car\": [\"car\", \"image of car\", \"picture of car\", \"cars\", \"cool car\", \"classic car\", \"detailed car\", \"reliable car\", \"moving car\"],\n",
    "    \"motorcycle\": [\"motorcycle\", \"image of motorcycle\", \"picture of motorcycle\", \"motorcycles\", \"cool motorcycle\", \"classic motorcycle\", \"detailed motorcycle\", \"reliable motorcycle\", \"moving motorcycle\"],\n",
    "    \"bicycle\": [\"bicycle\", \"image of bicycle\", \"picture of bicycle\", \"bicycles\", \"cool bicycle\", \"classic bicycle\", \"detailed bicycle\", \"reliable bicycle\", \"moving bicycle\"],\n",
    "    \"truck\": [\"truck\", \"image of truck\", \"picture of truck\", \"trucks\", \"cool truck\", \"classic truck\", \"detailed truck\", \"reliable truck\", \"moving truck\"],\n",
    "    \"bus\": [\"bus\", \"image of bus\", \"picture of bus\", \"buses\", \"cool bus\", \"classic bus\", \"detailed bus\", \"reliable bus\", \"moving bus\"],\n",
    "    \"van\": [\"van\", \"image of van\", \"picture of van\", \"vans\", \"cool van\", \"classic van\", \"detailed van\", \"reliable van\", \"moving van\"],\n",
    "    \"rickshaw\": [\"rickshaw\", \"image of rickshaw\", \"picture of rickshaw\", \"rickshaws\", \"cool rickshaw\", \"classic rickshaw\", \"detailed rickshaw\", \"reliable rickshaw\", \"moving rickshaw\"],\n",
    "    \"scooter\": [\"scooter\", \"image of scooter\", \"picture of scooter\", \"scooters\", \"cool scooter\", \"classic scooter\", \"detailed scooter\", \"reliable scooter\", \"moving scooter\"],\n",
    "    \"skateboard\": [\"skateboard\", \"image of skateboard\", \"picture of skateboard\", \"skateboards\", \"cool skateboard\", \"classic skateboard\", \"detailed skateboard\", \"reliable skateboard\", \"moving skateboard\"],\n",
    "    \"ambulance\": [\"ambulance\", \"image of ambulance\", \"picture of ambulance\", \"ambulances\", \"cool ambulance\", \"classic ambulance\", \"detailed ambulance\", \"reliable ambulance\", \"moving ambulance\"],\n",
    "    \"fire truck\": [\"fire truck\", \"image of fire truck\", \"picture of fire truck\", \"fire trucks\", \"cool fire truck\", \"classic fire truck\", \"detailed fire truck\", \"reliable fire truck\", \"moving fire truck\"],\n",
    "    \"tractor\": [\"tractor\", \"image of tractor\", \"picture of tractor\", \"tractors\", \"cool tractor\", \"classic tractor\", \"detailed tractor\", \"reliable tractor\", \"moving tractor\"],\n",
    "    \"segway\": [\"segway\", \"image of segway\", \"picture of segway\", \"segways\", \"cool segway\", \"classic segway\", \"detailed segway\", \"reliable segway\", \"moving segway\"],\n",
    "    \"unicycle\": [\"unicycle\", \"image of unicycle\", \"picture of unicycle\", \"unicycles\", \"cool unicycle\", \"classic unicycle\", \"detailed unicycle\", \"reliable unicycle\", \"moving unicycle\"],\n",
    "    \"jet ski\": [\"jet ski\", \"image of jet ski\", \"picture of jet ski\", \"jet skis\", \"cool jet ski\", \"classic jet ski\", \"detailed jet ski\", \"reliable jet ski\", \"moving jet ski\"],\n",
    "    \"helicopter\": [\"helicopter\", \"image of helicopter\", \"picture of helicopter\", \"helicopters\", \"cool helicopter\", \"classic helicopter\", \"detailed helicopter\", \"reliable helicopter\", \"moving helicopter\"],\n",
    "    \"airplane\": [\"airplane\", \"image of airplane\", \"picture of airplane\", \"airplanes\", \"cool airplane\", \"classic airplane\", \"detailed airplane\", \"reliable airplane\", \"moving airplane\"],\n",
    "    \"boat\": [\"boat\", \"image of boat\", \"picture of boat\", \"boats\", \"cool boat\", \"classic boat\", \"detailed boat\", \"reliable boat\", \"moving boat\"],\n",
    "    \"kayak\": [\"kayak\", \"image of kayak\", \"picture of kayak\", \"kayaks\", \"cool kayak\", \"classic kayak\", \"detailed kayak\", \"reliable kayak\", \"moving kayak\"],\n",
    "    \"hovercraft\": [\"hovercraft\", \"image of hovercraft\", \"picture of hovercraft\", \"hovercrafts\", \"cool hovercraft\", \"classic hovercraft\", \"detailed hovercraft\", \"reliable hovercraft\", \"moving hovercraft\"]\n",
    "}\n",
    "\n",
    "# car, image of car, picture of car, cars, cool car, classic car, detailed car, reliable car, moving car, motorcycle, image of motorcycle, picture of motorcycle, motorcycles, cool motorcycle, classic motorcycle, detailed motorcycle, reliable motorcycle, moving motorcycle, bicycle, image of bicycle, picture of bicycle, bicycles, cool bicycle, classic bicycle, detailed bicycle, reliable bicycle, moving bicycle, truck, image of truck, picture of truck, trucks, cool truck, classic truck, detailed truck, reliable truck, moving truck, bus, image of bus, picture of bus, buses, cool bus, classic bus, detailed bus, reliable bus, moving bus, van, image of van, picture of van, vans, cool van, classic van, detailed van, reliable van, moving van, rickshaw, image of rickshaw, picture of rickshaw, rickshaws, cool rickshaw, classic rickshaw, detailed rickshaw, reliable rickshaw, moving rickshaw, scooter, image of scooter, picture of scooter, scooters, cool scooter, classic scooter, detailed scooter, reliable scooter, moving scooter, skateboard, image of skateboard, picture of skateboard, skateboards, cool skateboard, classic skateboard, detailed skateboard, reliable skateboard, moving skateboard, ambulance, image of ambulance, picture of ambulance, ambulances, cool ambulance, classic ambulance, detailed ambulance, reliable ambulance, moving ambulance, fire truck, image of fire truck, picture of fire truck, fire trucks, cool fire truck, classic fire truck, detailed fire truck, reliable fire truck, moving fire truck, tractor, image of tractor, picture of tractor, tractors, cool tractor, classic tractor, detailed tractor, reliable tractor, moving tractor, segway, image of segway, picture of segway, segways, cool segway, classic segway, detailed segway, reliable segway, moving segway, unicycle, image of unicycle, picture of unicycle, unicycles, cool unicycle, classic unicycle, detailed unicycle, reliable unicycle, moving unicycle, jet ski, image of jet ski, picture of jet ski, jet skis, cool jet ski, classic jet ski, detailed jet ski, reliable jet ski, moving jet ski, helicopter, image of helicopter, picture of helicopter, helicopters, cool helicopter, classic helicopter, detailed helicopter, reliable helicopter, moving helicopter, airplane, image of airplane, picture of airplane, airplanes, cool airplane, classic airplane, detailed airplane, reliable airplane, moving airplane, boat, image of boat, picture of boat, boats, cool boat, classic boat, detailed boat, reliable boat, moving boat, kayak, image of kayak, picture of kayak, kayaks, cool kayak, classic kayak, detailed kayak, reliable kayak, moving kayak, hovercraft, image of hovercraft, picture of hovercraft, hovercrafts, cool hovercraft, classic hovercraft, detailed hovercraft, reliable hovercraft, moving hovercraft\n",
    "\n",
    "# dict_size(v180)\n",
    "# print(aOcheck_accuracy(\"vehicle20/v180.csv\", v180))\n"
   ]
  },
  {
   "cell_type": "code",
   "execution_count": 94,
   "metadata": {},
   "outputs": [],
   "source": [
    "v200 = {\n",
    "    \"car\": [\"car\", \"image of car\", \"picture of car\", \"cars\", \"cool car\", \"classic car\", \"detailed car\", \"reliable car\", \"moving car\", \"functional car\"],\n",
    "    \"motorcycle\": [\"motorcycle\", \"image of motorcycle\", \"picture of motorcycle\", \"motorcycles\", \"cool motorcycle\", \"classic motorcycle\", \"detailed motorcycle\", \"reliable motorcycle\", \"moving motorcycle\", \"functional motorcycle\"],\n",
    "    \"bicycle\": [\"bicycle\", \"image of bicycle\", \"picture of bicycle\", \"bicycles\", \"cool bicycle\", \"classic bicycle\", \"detailed bicycle\", \"reliable bicycle\", \"moving bicycle\", \"functional bicycle\"],\n",
    "    \"truck\": [\"truck\", \"image of truck\", \"picture of truck\", \"trucks\", \"cool truck\", \"classic truck\", \"detailed truck\", \"reliable truck\", \"moving truck\", \"functional truck\"],\n",
    "    \"bus\": [\"bus\", \"image of bus\", \"picture of bus\", \"buses\", \"cool bus\", \"classic bus\", \"detailed bus\", \"reliable bus\", \"moving bus\", \"functional bus\"],\n",
    "    \"van\": [\"van\", \"image of van\", \"picture of van\", \"vans\", \"cool van\", \"classic van\", \"detailed van\", \"reliable van\", \"moving van\", \"functional van\"],\n",
    "    \"rickshaw\": [\"rickshaw\", \"image of rickshaw\", \"picture of rickshaw\", \"rickshaws\", \"cool rickshaw\", \"classic rickshaw\", \"detailed rickshaw\", \"reliable rickshaw\", \"moving rickshaw\", \"functional rickshaw\"],\n",
    "    \"scooter\": [\"scooter\", \"image of scooter\", \"picture of scooter\", \"scooters\", \"cool scooter\", \"classic scooter\", \"detailed scooter\", \"reliable scooter\", \"moving scooter\", \"functional scooter\"],\n",
    "    \"skateboard\": [\"skateboard\", \"image of skateboard\", \"picture of skateboard\", \"skateboards\", \"cool skateboard\", \"classic skateboard\", \"detailed skateboard\", \"reliable skateboard\", \"moving skateboard\", \"functional skateboard\"],\n",
    "    \"ambulance\": [\"ambulance\", \"image of ambulance\", \"picture of ambulance\", \"ambulances\", \"cool ambulance\", \"classic ambulance\", \"detailed ambulance\", \"reliable ambulance\", \"moving ambulance\", \"functional ambulance\"],\n",
    "    \"fire truck\": [\"fire truck\", \"image of fire truck\", \"picture of fire truck\", \"fire trucks\", \"cool fire truck\", \"classic fire truck\", \"detailed fire truck\", \"reliable fire truck\", \"moving fire truck\", \"functional fire truck\"],\n",
    "    \"tractor\": [\"tractor\", \"image of tractor\", \"picture of tractor\", \"tractors\", \"cool tractor\", \"classic tractor\", \"detailed tractor\", \"reliable tractor\", \"moving tractor\", \"functional tractor\"],\n",
    "    \"segway\": [\"segway\", \"image of segway\", \"picture of segway\", \"segways\", \"cool segway\", \"classic segway\", \"detailed segway\", \"reliable segway\", \"moving segway\", \"functional segway\"],\n",
    "    \"unicycle\": [\"unicycle\", \"image of unicycle\", \"picture of unicycle\", \"unicycles\", \"cool unicycle\", \"classic unicycle\", \"detailed unicycle\", \"reliable unicycle\", \"moving unicycle\", \"functional unicycle\"],\n",
    "    \"jet ski\": [\"jet ski\", \"image of jet ski\", \"picture of jet ski\", \"jet skis\", \"cool jet ski\", \"classic jet ski\", \"detailed jet ski\", \"reliable jet ski\", \"moving jet ski\", \"functional jet ski\"],\n",
    "    \"helicopter\": [\"helicopter\", \"image of helicopter\", \"picture of helicopter\", \"helicopters\", \"cool helicopter\", \"classic helicopter\", \"detailed helicopter\", \"reliable helicopter\", \"moving helicopter\", \"functional helicopter\"],\n",
    "    \"airplane\": [\"airplane\", \"image of airplane\", \"picture of airplane\", \"airplanes\", \"cool airplane\", \"classic airplane\", \"detailed airplane\", \"reliable airplane\", \"moving airplane\", \"functional airplane\"],\n",
    "    \"boat\": [\"boat\", \"image of boat\", \"picture of boat\", \"boats\", \"cool boat\", \"classic boat\", \"detailed boat\", \"reliable boat\", \"moving boat\", \"functional boat\"],\n",
    "    \"kayak\": [\"kayak\", \"image of kayak\", \"picture of kayak\", \"kayaks\", \"cool kayak\", \"classic kayak\", \"detailed kayak\", \"reliable kayak\", \"moving kayak\", \"functional kayak\"],\n",
    "    \"hovercraft\": [\"hovercraft\", \"image of hovercraft\", \"picture of hovercraft\", \"hovercrafts\", \"cool hovercraft\", \"classic hovercraft\", \"detailed hovercraft\", \"reliable hovercraft\", \"moving hovercraft\", \"functional hovercraft\"]\n",
    "}\n",
    "\n",
    "# car, image of car, picture of car, cars, cool car, classic car, detailed car, reliable car, moving car, functional car, motorcycle, image of motorcycle, picture of motorcycle, motorcycles, cool motorcycle, classic motorcycle, detailed motorcycle, reliable motorcycle, moving motorcycle, functional motorcycle, bicycle, image of bicycle, picture of bicycle, bicycles, cool bicycle, classic bicycle, detailed bicycle, reliable bicycle, moving bicycle, functional bicycle, truck, image of truck, picture of truck, trucks, cool truck, classic truck, detailed truck, reliable truck, moving truck, functional truck, bus, image of bus, picture of bus, buses, cool bus, classic bus, detailed bus, reliable bus, moving bus, functional bus, van, image of van, picture of van, vans, cool van, classic van, detailed van, reliable van, moving van, functional van, rickshaw, image of rickshaw, picture of rickshaw, rickshaws, cool rickshaw, classic rickshaw, detailed rickshaw, reliable rickshaw, moving rickshaw, functional rickshaw, scooter, image of scooter, picture of scooter, scooters, cool scooter, classic scooter, detailed scooter, reliable scooter, moving scooter, functional scooter, skateboard, image of skateboard, picture of skateboard, skateboards, cool skateboard, classic skateboard, detailed skateboard, reliable skateboard, moving skateboard, functional skateboard, ambulance, image of ambulance, picture of ambulance, ambulances, cool ambulance, classic ambulance, detailed ambulance, reliable ambulance, moving ambulance, functional ambulance, fire truck, image of fire truck, picture of fire truck, fire trucks, cool fire truck, classic fire truck, detailed fire truck, reliable fire truck, moving fire truck, functional fire truck, tractor, image of tractor, picture of tractor, tractors, cool tractor, classic tractor, detailed tractor, reliable tractor, moving tractor, functional tractor, segway, image of segway, picture of segway, segways, cool segway, classic segway, detailed segway, reliable segway, moving segway, functional segway, unicycle, image of unicycle, picture of unicycle, unicycles, cool unicycle, classic unicycle, detailed unicycle, reliable unicycle, moving unicycle, functional unicycle, jet ski, image of jet ski, picture of jet ski, jet skis, cool jet ski, classic jet ski, detailed jet ski, reliable jet ski, moving jet ski, functional jet ski, helicopter, image of helicopter, picture of helicopter, helicopters, cool helicopter, classic helicopter, detailed helicopter, reliable helicopter, moving helicopter, functional helicopter, airplane, image of airplane, picture of airplane, airplanes, cool airplane, classic airplane, detailed airplane, reliable airplane, moving airplane, functional airplane, boat, image of boat, picture of boat, boats, cool boat, classic boat, detailed boat, reliable boat, moving boat, functional boat, kayak, image of kayak, picture of kayak, kayaks, cool kayak, classic kayak, detailed kayak, reliable kayak, moving kayak, functional kayak, hovercraft, image of hovercraft, picture of hovercraft, hovercrafts, cool hovercraft, classic hovercraft, detailed hovercraft, reliable hovercraft, moving hovercraft, functional hovercraft\n",
    "\n",
    "# dict_size(v200)\n",
    "# print(aOcheck_accuracy(\"vehicle20/v200.csv\", v200))\n"
   ]
  },
  {
   "cell_type": "markdown",
   "metadata": {},
   "source": [
    "## Flowers 10"
   ]
  },
  {
   "cell_type": "code",
   "execution_count": 95,
   "metadata": {},
   "outputs": [
    {
     "name": "stdout",
     "output_type": "stream",
     "text": [
      "10\n",
      "87.19\n",
      "87.19\n"
     ]
    }
   ],
   "source": [
    "f10 = { \"bougainvillea\" : [\"bougainvillea\"],\n",
    "       \"daisies\" : [\"daisies\"],\n",
    "       \"garden_roses\" : [\"garden roses\"],\n",
    "       \"gardenias\" : [\"gardenias\"],\n",
    "       \"hibiscus\" : [\"hibiscus\"],\n",
    "         \"hydrangeas\" : [\"hydrangeas\"],\n",
    "            \"lilies\" : [\"lilies\"],\n",
    "            \"orchids\" : [\"orchids\"],\n",
    "            \"peonies\" : [\"peonies\"],\n",
    "            \"tulip\" : [\"tulip\"]\n",
    "       }\n",
    "\n",
    "# bougainvillea, daisies, garden_roses, gardenias, hibiscus, hydrangeas, lilies, orchids, peonies, tulip\n",
    "\n",
    "dict_size(f10)\n",
    "print(flowers_accuracy(\"flowers10/f10.csv\", f10))"
   ]
  },
  {
   "cell_type": "code",
   "execution_count": 96,
   "metadata": {},
   "outputs": [
    {
     "name": "stdout",
     "output_type": "stream",
     "text": [
      "20\n",
      "88.28\n",
      "88.28\n"
     ]
    }
   ],
   "source": [
    "f20 = {\n",
    "    \"bougainvillea\": [\"bougainvillea\", \"Image of bougainvillea\"],\n",
    "    \"daisies\": [\"daisies\", \"Image of daisies\"],\n",
    "    \"garden_roses\": [\"garden roses\", \"Image of garden roses\"],\n",
    "    \"gardenias\": [\"gardenias\", \"Image of gardenias\"],\n",
    "    \"hibiscus\": [\"hibiscus\", \"Image of hibiscus\"],\n",
    "    \"hydrangeas\": [\"hydrangeas\", \"Image of hydrangeas\"],\n",
    "    \"lilies\": [\"lilies\", \"Image of lilies\"],\n",
    "    \"orchids\": [\"orchids\", \"Image of orchids\"],\n",
    "    \"peonies\": [\"peonies\", \"Image of peonies\"],\n",
    "    \"tulip\": [\"tulip\", \"Image of tulip\"]\n",
    "}\n",
    "\n",
    "# bougainvillea, Image of bougainvillea, daisies, Image of daisies, garden_roses, Image of garden_roses, gardenias, Image of gardenias, hibiscus, Image of hibiscus, hydrangeas, Image of hydrangeas, lilies, Image of lilies, orchids, Image of orchids, peonies, Image of peonies, tulip, Image of tulip\n",
    "\n",
    "dict_size(f20)\n",
    "print(flowers_accuracy(\"flowers10/f20.csv\", f20))\n"
   ]
  },
  {
   "cell_type": "code",
   "execution_count": 97,
   "metadata": {},
   "outputs": [
    {
     "name": "stdout",
     "output_type": "stream",
     "text": [
      "30\n",
      "88.15\n",
      "88.15\n"
     ]
    }
   ],
   "source": [
    "f30 = {\n",
    "    \"bougainvillea\": [\"bougainvillea\", \"Image of bougainvillea\", \"Picture of bougainvillea\"],\n",
    "    \"daisies\": [\"daisies\", \"Image of daisies\", \"Picture of daisies\"],\n",
    "    \"garden_roses\": [\"garden roses\", \"Image of garden roses\", \"Picture of garden roses\"],\n",
    "    \"gardenias\": [\"gardenias\", \"Image of gardenias\", \"Picture of gardenias\"],\n",
    "    \"hibiscus\": [\"hibiscus\", \"Image of hibiscus\", \"Picture of hibiscus\"],\n",
    "    \"hydrangeas\": [\"hydrangeas\", \"Image of hydrangeas\", \"Picture of hydrangeas\"],\n",
    "    \"lilies\": [\"lilies\", \"Image of lilies\", \"Picture of lilies\"],\n",
    "    \"orchids\": [\"orchids\", \"Image of orchids\", \"Picture of orchids\"],\n",
    "    \"peonies\": [\"peonies\", \"Image of peonies\", \"Picture of peonies\"],\n",
    "    \"tulip\": [\"tulip\", \"Image of tulip\", \"Picture of tulip\"]\n",
    "}\n",
    "\n",
    "# bougainvillea, Image of bougainvillea, Picture of bougainvillea, daisies, Image of daisies, Picture of daisies, garden_roses, Image of garden_roses, Picture of garden_roses, gardenias, Image of gardenias, Picture of gardenias, hibiscus, Image of hibiscus, Picture of hibiscus, hydrangeas, Image of hydrangeas, Picture of hydrangeas, lilies, Image of lilies, Picture of lilies, orchids, Image of orchids, Picture of orchids, peonies, Image of peonies, Picture of peonies, tulip, Image of tulip, Picture of tulip\n",
    "\n",
    "dict_size(f30)\n",
    "print(flowers_accuracy(\"flowers10/f30.csv\", f30))\n"
   ]
  },
  {
   "cell_type": "code",
   "execution_count": 98,
   "metadata": {},
   "outputs": [
    {
     "name": "stdout",
     "output_type": "stream",
     "text": [
      "40\n",
      "88.28\n",
      "88.28\n"
     ]
    }
   ],
   "source": [
    "f40 = {\n",
    "    \"bougainvillea\": [\"bougainvillea\", \"Image of bougainvillea\", \"Picture of bougainvillea\", \"bougainvilleas\"],\n",
    "    \"daisies\": [\"daisies\", \"Image of daisies\", \"Picture of daisies\", \"daisies\"],\n",
    "    \"garden_roses\": [\"garden roses\", \"Image of garden roses\", \"Picture of garden roses\", \"garden roses\"],\n",
    "    \"gardenias\": [\"gardenias\", \"Image of gardenias\", \"Picture of gardenias\", \"gardenias\"],\n",
    "    \"hibiscus\": [\"hibiscus\", \"Image of hibiscus\", \"Picture of hibiscus\", \"hibiscuses\"],\n",
    "    \"hydrangeas\": [\"hydrangeas\", \"Image of hydrangeas\", \"Picture of hydrangeas\", \"hydrangeas\"],\n",
    "    \"lilies\": [\"lilies\", \"Image of lilies\", \"Picture of lilies\", \"lilies\"],\n",
    "    \"orchids\": [\"orchids\", \"Image of orchids\", \"Picture of orchids\", \"orchids\"],\n",
    "    \"peonies\": [\"peonies\", \"Image of peonies\", \"Picture of peonies\", \"peonies\"],\n",
    "    \"tulip\": [\"tulip\", \"Image of tulip\", \"Picture of tulip\", \"tulips\"]\n",
    "}\n",
    "\n",
    "# bougainvillea, Image of bougainvillea, Picture of bougainvillea, bougainvilleas, daisies, Image of daisies, Picture of daisies, daisies, garden_roses, Image of garden_roses, Picture of garden_roses, garden_roses, gardenias, Image of gardenias, Picture of gardenias, gardenias, hibiscus, Image of hibiscus, Picture of hibiscus, hibiscuses, hydrangeas, Image of hydrangeas, Picture of hydrangeas, hydrangeas, lilies, Image of lilies, Picture of lilies, lilies, orchids, Image of orchids, Picture of orchids, orchids, peonies, Image of peonies, Picture of peonies, peonies, tulip, Image of tulip, Picture of tulip, tulips\n",
    "\n",
    "dict_size(f40)\n",
    "print(flowers_accuracy(\"flowers10/f40.csv\", f40))\n"
   ]
  },
  {
   "cell_type": "code",
   "execution_count": 99,
   "metadata": {},
   "outputs": [
    {
     "name": "stdout",
     "output_type": "stream",
     "text": [
      "50\n",
      "88.28\n",
      "88.28\n"
     ]
    }
   ],
   "source": [
    "f50 = {\n",
    "    \"bougainvillea\": [\"bougainvillea\", \"Image of bougainvillea\", \"Picture of bougainvillea\", \"bougainvilleas\", \"Cool bougainvillea\"],\n",
    "    \"daisies\": [\"daisies\", \"Image of daisies\", \"Picture of daisies\", \"daisies\", \"Cool daisies\"],\n",
    "    \"garden_roses\": [\"garden roses\", \"Image of garden roses\", \"Picture of garden roses\", \"garden roses\", \"Cool garden roses\"],\n",
    "    \"gardenias\": [\"gardenias\", \"Image of gardenias\", \"Picture of gardenias\", \"gardenias\", \"Cool gardenias\"],\n",
    "    \"hibiscus\": [\"hibiscus\", \"Image of hibiscus\", \"Picture of hibiscus\", \"hibiscuses\", \"Cool hibiscus\"],\n",
    "    \"hydrangeas\": [\"hydrangeas\", \"Image of hydrangeas\", \"Picture of hydrangeas\", \"hydrangeas\", \"Cool hydrangeas\"],\n",
    "    \"lilies\": [\"lilies\", \"Image of lilies\", \"Picture of lilies\", \"lilies\", \"Cool lilies\"],\n",
    "    \"orchids\": [\"orchids\", \"Image of orchids\", \"Picture of orchids\", \"orchids\", \"Cool orchids\"],\n",
    "    \"peonies\": [\"peonies\", \"Image of peonies\", \"Picture of peonies\", \"peonies\", \"Cool peonies\"],\n",
    "    \"tulip\": [\"tulip\", \"Image of tulip\", \"Picture of tulip\", \"tulips\", \"Cool tulip\"]\n",
    "}\n",
    "\n",
    "# bougainvillea, Image of bougainvillea, Picture of bougainvillea, bougainvilleas, Cool bougainvillea, daisies, Image of daisies, Picture of daisies, daisies, Cool daisies, garden_roses, Image of garden_roses, Picture of garden_roses, garden_roses, Cool garden_roses, gardenias, Image of gardenias, Picture of gardenias, gardenias, Cool gardenias, hibiscus, Image of hibiscus, Picture of hibiscus, hibiscuses, Cool hibiscus, hydrangeas, Image of hydrangeas, Picture of hydrangeas, hydrangeas, Cool hydrangeas, lilies, Image of lilies, Picture of lilies, lilies, Cool lilies, orchids, Image of orchids, Picture of orchids, orchids, Cool orchids, peonies, Image of peonies, Picture of peonies, peonies, Cool peonies, tulip, Image of tulip, Picture of tulip, tulips, Cool tulip\n",
    "\n",
    "dict_size(f50)\n",
    "print(flowers_accuracy(\"flowers10/f50.csv\", f50))\n"
   ]
  },
  {
   "cell_type": "code",
   "execution_count": 100,
   "metadata": {},
   "outputs": [
    {
     "name": "stdout",
     "output_type": "stream",
     "text": [
      "60\n",
      "88.15\n",
      "88.15\n"
     ]
    }
   ],
   "source": [
    "f60 = {\n",
    "    \"bougainvillea\": [\"bougainvillea\", \"Image of bougainvillea\", \"Picture of bougainvillea\", \"bougainvilleas\", \"Cool bougainvillea\", \"Pretty bougainvillea\"],\n",
    "    \"daisies\": [\"daisies\", \"Image of daisies\", \"Picture of daisies\", \"daisies\", \"Cool daisies\", \"Pretty daisies\"],\n",
    "    \"garden_roses\": [\"garden roses\", \"Image of garden roses\", \"Picture of garden roses\", \"garden roses\", \"Cool garden roses\", \"Pretty garden roses\"],\n",
    "    \"gardenias\": [\"gardenias\", \"Image of gardenias\", \"Picture of gardenias\", \"gardenias\", \"Cool gardenias\", \"Pretty gardenias\"],\n",
    "    \"hibiscus\": [\"hibiscus\", \"Image of hibiscus\", \"Picture of hibiscus\", \"hibiscuses\", \"Cool hibiscus\", \"Pretty hibiscus\"],\n",
    "    \"hydrangeas\": [\"hydrangeas\", \"Image of hydrangeas\", \"Picture of hydrangeas\", \"hydrangeas\", \"Cool hydrangeas\", \"Pretty hydrangeas\"],\n",
    "    \"lilies\": [\"lilies\", \"Image of lilies\", \"Picture of lilies\", \"lilies\", \"Cool lilies\", \"Pretty lilies\"],\n",
    "    \"orchids\": [\"orchids\", \"Image of orchids\", \"Picture of orchids\", \"orchids\", \"Cool orchids\", \"Pretty orchids\"],\n",
    "    \"peonies\": [\"peonies\", \"Image of peonies\", \"Picture of peonies\", \"peonies\", \"Cool peonies\", \"Pretty peonies\"],\n",
    "    \"tulip\": [\"tulip\", \"Image of tulip\", \"Picture of tulip\", \"tulips\", \"Cool tulip\", \"Pretty tulip\"]\n",
    "}\n",
    "\n",
    "# bougainvillea, Image of bougainvillea, Picture of bougainvillea, bougainvilleas, Cool bougainvillea, Pretty bougainvillea, daisies, Image of daisies, Picture of daisies, daisies, Cool daisies, Pretty daisies, garden_roses, Image of garden_roses, Picture of garden_roses, garden_roses, Cool garden_roses, Pretty garden_roses, gardenias, Image of gardenias, Picture of gardenias, gardenias, Cool gardenias, Pretty gardenias, hibiscus, Image of hibiscus, Picture of hibiscus, hibiscuses, Cool hibiscus, Pretty hibiscus, hydrangeas, Image of hydrangeas, Picture of hydrangeas, hydrangeas, Cool hydrangeas, Pretty hydrangeas, lilies, Image of lilies, Picture of lilies, lilies, Cool lilies, Pretty lilies, orchids, Image of orchids, Picture of orchids, orchids, Cool orchids, Pretty orchids, peonies, Image of peonies, Picture of peonies, peonies, Cool peonies, Pretty peonies, tulip, Image of tulip, Picture of tulip, tulips, Cool tulip, Pretty tulip\n",
    "\n",
    "dict_size(f60)\n",
    "print(flowers_accuracy(\"flowers10/f60.csv\", f60))\n"
   ]
  },
  {
   "cell_type": "code",
   "execution_count": 101,
   "metadata": {},
   "outputs": [
    {
     "name": "stdout",
     "output_type": "stream",
     "text": [
      "70\n",
      "88.01\n",
      "88.01\n"
     ]
    }
   ],
   "source": [
    "f70 = {\n",
    "    \"bougainvillea\": [\"bougainvillea\", \"Image of bougainvillea\", \"Picture of bougainvillea\", \"bougainvilleas\", \"Cool bougainvillea\", \"Pretty bougainvillea\", \"Detailed bougainvillea\"],\n",
    "    \"daisies\": [\"daisies\", \"Image of daisies\", \"Picture of daisies\", \"daisies\", \"Cool daisies\", \"Pretty daisies\", \"Detailed daisies\"],\n",
    "    \"garden_roses\": [\"garden roses\", \"Image of garden roses\", \"Picture of garden roses\", \"garden roses\", \"Cool garden roses\", \"Pretty garden roses\", \"Detailed garden roses\"],\n",
    "    \"gardenias\": [\"gardenias\", \"Image of gardenias\", \"Picture of gardenias\", \"gardenias\", \"Cool gardenias\", \"Pretty gardenias\", \"Detailed gardenias\"],\n",
    "    \"hibiscus\": [\"hibiscus\", \"Image of hibiscus\", \"Picture of hibiscus\", \"hibiscuses\", \"Cool hibiscus\", \"Pretty hibiscus\", \"Detailed hibiscus\"],\n",
    "    \"hydrangeas\": [\"hydrangeas\", \"Image of hydrangeas\", \"Picture of hydrangeas\", \"hydrangeas\", \"Cool hydrangeas\", \"Pretty hydrangeas\", \"Detailed hydrangeas\"],\n",
    "    \"lilies\": [\"lilies\", \"Image of lilies\", \"Picture of lilies\", \"lilies\", \"Cool lilies\", \"Pretty lilies\", \"Detailed lilies\"],\n",
    "    \"orchids\": [\"orchids\", \"Image of orchids\", \"Picture of orchids\", \"orchids\", \"Cool orchids\", \"Pretty orchids\", \"Detailed orchids\"],\n",
    "    \"peonies\": [\"peonies\", \"Image of peonies\", \"Picture of peonies\", \"peonies\", \"Cool peonies\", \"Pretty peonies\", \"Detailed peonies\"],\n",
    "    \"tulip\": [\"tulip\", \"Image of tulip\", \"Picture of tulip\", \"tulips\", \"Cool tulip\", \"Pretty tulip\", \"Detailed tulip\"]\n",
    "}\n",
    "\n",
    "# bougainvillea, Image of bougainvillea, Picture of bougainvillea, bougainvilleas, Cool bougainvillea, Pretty bougainvillea, Detailed bougainvillea, daisies, Image of daisies, Picture of daisies, daisies, Cool daisies, Pretty daisies, Detailed daisies, garden_roses, Image of garden_roses, Picture of garden_roses, garden_roses, Cool garden_roses, Pretty garden_roses, Detailed garden_roses, gardenias, Image of gardenias, Picture of gardenias, gardenias, Cool gardenias, Pretty gardenias, Detailed gardenias, hibiscus, Image of hibiscus, Picture of hibiscus, hibiscuses, Cool hibiscus, Pretty hibiscus, Detailed hibiscus, hydrangeas, Image of hydrangeas, Picture of hydrangeas, hydrangeas, Cool hydrangeas, Pretty hydrangeas, Detailed hydrangeas, lilies, Image of lilies, Picture of lilies, lilies, Cool lilies, Pretty lilies, Detailed lilies, orchids, Image of orchids, Picture of orchids, orchids, Cool orchids, Pretty orchids, Detailed orchids, peonies, Image of peonies, Picture of peonies, peonies, Cool peonies, Pretty peonies, Detailed peonies, tulip, Image of tulip, Picture of tulip, tulips, Cool tulip, Pretty tulip, Detailed tulip\n",
    "\n",
    "dict_size(f70)\n",
    "print(flowers_accuracy(\"flowers10/f70.csv\", f70))\n"
   ]
  },
  {
   "cell_type": "code",
   "execution_count": 102,
   "metadata": {},
   "outputs": [
    {
     "name": "stdout",
     "output_type": "stream",
     "text": [
      "80\n",
      "88.28\n",
      "88.28\n"
     ]
    }
   ],
   "source": [
    "f80 = {\n",
    "    \"bougainvillea\": [\"bougainvillea\", \"Image of bougainvillea\", \"Picture of bougainvillea\", \"bougainvilleas\", \"Cool bougainvillea\", \"Pretty bougainvillea\", \"Detailed bougainvillea\", \"Image of pretty bougainvillea\"],\n",
    "    \"daisies\": [\"daisies\", \"Image of daisies\", \"Picture of daisies\", \"daisies\", \"Cool daisies\", \"Pretty daisies\", \"Detailed daisies\", \"Image of pretty daisies\"],\n",
    "    \"garden_roses\": [\"garden roses\", \"Image of garden roses\", \"Picture of garden roses\", \"garden roses\", \"Cool garden roses\", \"Pretty garden roses\", \"Detailed garden roses\", \"Image of pretty garden roses\"],\n",
    "    \"gardenias\": [\"gardenias\", \"Image of gardenias\", \"Picture of gardenias\", \"gardenias\", \"Cool gardenias\", \"Pretty gardenias\", \"Detailed gardenias\", \"Image of pretty gardenias\"],\n",
    "    \"hibiscus\": [\"hibiscus\", \"Image of hibiscus\", \"Picture of hibiscus\", \"hibiscuses\", \"Cool hibiscus\", \"Pretty hibiscus\", \"Detailed hibiscus\", \"Image of pretty hibiscus\"],\n",
    "    \"hydrangeas\": [\"hydrangeas\", \"Image of hydrangeas\", \"Picture of hydrangeas\", \"hydrangeas\", \"Cool hydrangeas\", \"Pretty hydrangeas\", \"Detailed hydrangeas\", \"Image of pretty hydrangeas\"],\n",
    "    \"lilies\": [\"lilies\", \"Image of lilies\", \"Picture of lilies\", \"lilies\", \"Cool lilies\", \"Pretty lilies\", \"Detailed lilies\", \"Image of pretty lilies\"],\n",
    "    \"orchids\": [\"orchids\", \"Image of orchids\", \"Picture of orchids\", \"orchids\", \"Cool orchids\", \"Pretty orchids\", \"Detailed orchids\", \"Image of pretty orchids\"],\n",
    "    \"peonies\": [\"peonies\", \"Image of peonies\", \"Picture of peonies\", \"peonies\", \"Cool peonies\", \"Pretty peonies\", \"Detailed peonies\", \"Image of pretty peonies\"],\n",
    "    \"tulip\": [\"tulip\", \"Image of tulip\", \"Picture of tulip\", \"tulips\", \"Cool tulip\", \"Pretty tulip\", \"Detailed tulip\", \"Image of pretty tulip\"]\n",
    "}\n",
    "\n",
    "# bougainvillea, Image of bougainvillea, Picture of bougainvillea, bougainvilleas, Cool bougainvillea, Pretty bougainvillea, Detailed bougainvillea, Image of pretty bougainvillea, daisies, Image of daisies, Picture of daisies, daisies, Cool daisies, Pretty daisies, Detailed daisies, Image of pretty daisies, garden_roses, Image of garden_roses, Picture of garden_roses, garden_roses, Cool garden_roses, Pretty garden_roses, Detailed garden_roses, Image of pretty garden_roses, gardenias, Image of gardenias, Picture of gardenias, gardenias, Cool gardenias, Pretty gardenias, Detailed gardenias, Image of pretty gardenias, hibiscus, Image of hibiscus, Picture of hibiscus, hibiscuses, Cool hibiscus, Pretty hibiscus, Detailed hibiscus, Image of pretty hibiscus, hydrangeas, Image of hydrangeas, Picture of hydrangeas, hydrangeas, Cool hydrangeas, Pretty hydrangeas, Detailed hydrangeas, Image of pretty hydrangeas, lilies, Image of lilies, Picture of lilies, lilies, Cool lilies, Pretty lilies, Detailed lilies, Image of pretty lilies, orchids, Image of orchids, Picture of orchids, orchids, Cool orchids, Pretty orchids, Detailed orchids, Image of pretty orchids, peonies, Image of peonies, Picture of peonies, peonies, Cool peonies, Pretty peonies, Detailed peonies, Image of pretty peonies, tulip, Image of tulip, Picture of tulip, tulips, Cool tulip, Pretty tulip, Detailed tulip, Image of pretty tulip\n",
    "\n",
    "dict_size(f80)\n",
    "print(flowers_accuracy(\"flowers10/f80.csv\", f80))\n"
   ]
  },
  {
   "cell_type": "code",
   "execution_count": 103,
   "metadata": {},
   "outputs": [
    {
     "name": "stdout",
     "output_type": "stream",
     "text": [
      "90\n",
      "88.28\n",
      "88.28\n"
     ]
    }
   ],
   "source": [
    "f90 = {\n",
    "    \"bougainvillea\": [\"bougainvillea\", \"Image of bougainvillea\", \"Picture of bougainvillea\", \"bougainvilleas\", \"Cool bougainvillea\", \"Pretty bougainvillea\", \"Detailed bougainvillea\", \"Image of pretty bougainvillea\", \"Picture of pretty bougainvilleas\"],\n",
    "    \"daisies\": [\"daisies\", \"Image of daisies\", \"Picture of daisies\", \"daisies\", \"Cool daisies\", \"Pretty daisies\", \"Detailed daisies\", \"Image of pretty daisies\", \"Picture of pretty daisies\"],\n",
    "    \"garden_roses\": [\"garden roses\", \"Image of garden roses\", \"Picture of garden roses\", \"garden roses\", \"Cool garden roses\", \"Pretty garden roses\", \"Detailed garden roses\", \"Image of pretty garden roses\", \"Picture of pretty garden roses\"],\n",
    "    \"gardenias\": [\"gardenias\", \"Image of gardenias\", \"Picture of gardenias\", \"gardenias\", \"Cool gardenias\", \"Pretty gardenias\", \"Detailed gardenias\", \"Image of pretty gardenias\", \"Picture of pretty gardenias\"],\n",
    "    \"hibiscus\": [\"hibiscus\", \"Image of hibiscus\", \"Picture of hibiscus\", \"hibiscuses\", \"Cool hibiscus\", \"Pretty hibiscus\", \"Detailed hibiscus\", \"Image of pretty hibiscus\", \"Picture of pretty hibiscuses\"],\n",
    "    \"hydrangeas\": [\"hydrangeas\", \"Image of hydrangeas\", \"Picture of hydrangeas\", \"hydrangeas\", \"Cool hydrangeas\", \"Pretty hydrangeas\", \"Detailed hydrangeas\", \"Image of pretty hydrangeas\", \"Picture of pretty hydrangeas\"],\n",
    "    \"lilies\": [\"lilies\", \"Image of lilies\", \"Picture of lilies\", \"lilies\", \"Cool lilies\", \"Pretty lilies\", \"Detailed lilies\", \"Image of pretty lilies\", \"Picture of pretty lilies\"],\n",
    "    \"orchids\": [\"orchids\", \"Image of orchids\", \"Picture of orchids\", \"orchids\", \"Cool orchids\", \"Pretty orchids\", \"Detailed orchids\", \"Image of pretty orchids\", \"Picture of pretty orchids\"],\n",
    "    \"peonies\": [\"peonies\", \"Image of peonies\", \"Picture of peonies\", \"peonies\", \"Cool peonies\", \"Pretty peonies\", \"Detailed peonies\", \"Image of pretty peonies\", \"Picture of pretty peonies\"],\n",
    "    \"tulip\": [\"tulip\", \"Image of tulip\", \"Picture of tulip\", \"tulips\", \"Cool tulip\", \"Pretty tulip\", \"Detailed tulip\", \"Image of pretty tulip\", \"Picture of pretty tulips\"]\n",
    "}\n",
    "\n",
    "# bougainvillea, Image of bougainvillea, Picture of bougainvillea, bougainvilleas, Cool bougainvillea, Pretty bougainvillea, Detailed bougainvillea, Image of pretty bougainvillea, Picture of pretty bougainvilleas, daisies, Image of daisies, Picture of daisies, daisies, Cool daisies, Pretty daisies, Detailed daisies, Image of pretty daisies, Picture of pretty daisies, garden_roses, Image of garden_roses, Picture of garden_roses, garden_roses, Cool garden_roses, Pretty garden_roses, Detailed garden_roses, Image of pretty garden_roses, Picture of pretty garden_roses, gardenias, Image of gardenias, Picture of gardenias, gardenias, Cool gardenias, Pretty gardenias, Detailed gardenias, Image of pretty gardenias, Picture of pretty gardenias, hibiscus, Image of hibiscus, Picture of hibiscus, hibiscuses, Cool hibiscus, Pretty hibiscus, Detailed hibiscus, Image of pretty hibiscus, Picture of pretty hibiscuses, hydrangeas, Image of hydrangeas, Picture of hydrangeas, hydrangeas, Cool hydrangeas, Pretty hydrangeas, Detailed hydrangeas, Image of pretty hydrangeas, Picture of pretty hydrangeas, lilies, Image of lilies, Picture of lilies, lilies, Cool lilies, Pretty lilies, Detailed lilies, Image of pretty lilies, Picture of pretty lilies, orchids, Image of orchids, Picture of orchids, orchids, Cool orchids, Pretty orchids, Detailed orchids, Image of pretty orchids, Picture of pretty orchids, peonies, Image of peonies, Picture of peonies, peonies, Cool peonies, Pretty peonies, Detailed peonies, Image of pretty peonies, Picture of pretty peonies, tulip, Image of tulip, Picture of tulip, tulips, Cool tulip, Pretty tulip, Detailed tulip, Image of pretty tulip, Picture of pretty tulips\n",
    "\n",
    "dict_size(f90)\n",
    "print(flowers_accuracy(\"flowers10/f90.csv\", f90))"
   ]
  },
  {
   "cell_type": "code",
   "execution_count": 104,
   "metadata": {},
   "outputs": [
    {
     "name": "stdout",
     "output_type": "stream",
     "text": [
      "100\n",
      "88.28\n",
      "88.28\n"
     ]
    }
   ],
   "source": [
    "f100 = {\n",
    "    \"bougainvillea\": [\"bougainvillea\", \"Image of bougainvillea\", \"Picture of bougainvillea\", \"bougainvilleas\", \"Cool bougainvillea\", \"Pretty bougainvillea\", \"Detailed bougainvillea\", \"Image of pretty bougainvillea\", \"Picture of pretty bougainvilleas\", \"Image of bougainvilleas\"],\n",
    "    \"daisies\": [\"daisies\", \"Image of daisies\", \"Picture of daisies\", \"daisies\", \"Cool daisies\", \"Pretty daisies\", \"Detailed daisies\", \"Image of pretty daisies\", \"Picture of pretty daisies\", \"Image of daisies\"],\n",
    "    \"garden_roses\": [\"garden roses\", \"Image of garden roses\", \"Picture of garden roses\", \"garden roses\", \"Cool garden roses\", \"Pretty garden roses\", \"Detailed garden roses\", \"Image of pretty garden roses\", \"Picture of pretty garden roses\", \"Image of garden roses\"],\n",
    "    \"gardenias\": [\"gardenias\", \"Image of gardenias\", \"Picture of gardenias\", \"gardenias\", \"Cool gardenias\", \"Pretty gardenias\", \"Detailed gardenias\", \"Image of pretty gardenias\", \"Picture of pretty gardenias\", \"Image of gardenias\"],\n",
    "    \"hibiscus\": [\"hibiscus\", \"Image of hibiscus\", \"Picture of hibiscus\", \"hibiscuses\", \"Cool hibiscus\", \"Pretty hibiscus\", \"Detailed hibiscus\", \"Image of pretty hibiscus\", \"Picture of pretty hibiscuses\", \"Image of hibiscuses\"],\n",
    "    \"hydrangeas\": [\"hydrangeas\", \"Image of hydrangeas\", \"Picture of hydrangeas\", \"hydrangeas\", \"Cool hydrangeas\", \"Pretty hydrangeas\", \"Detailed hydrangeas\", \"Image of pretty hydrangeas\", \"Picture of pretty hydrangeas\", \"Image of hydrangeas\"],\n",
    "    \"lilies\": [\"lilies\", \"Image of lilies\", \"Picture of lilies\", \"lilies\", \"Cool lilies\", \"Pretty lilies\", \"Detailed lilies\", \"Image of pretty lilies\", \"Picture of pretty lilies\", \"Image of lilies\"],\n",
    "    \"orchids\": [\"orchids\", \"Image of orchids\", \"Picture of orchids\", \"orchids\", \"Cool orchids\", \"Pretty orchids\", \"Detailed orchids\", \"Image of pretty orchids\", \"Picture of pretty orchids\", \"Image of orchids\"],\n",
    "    \"peonies\": [\"peonies\", \"Image of peonies\", \"Picture of peonies\", \"peonies\", \"Cool peonies\", \"Pretty peonies\", \"Detailed peonies\", \"Image of pretty peonies\", \"Picture of pretty peonies\", \"Image of peonies\"],\n",
    "    \"tulip\": [\"tulip\", \"Image of tulip\", \"Picture of tulip\", \"tulips\", \"Cool tulip\", \"Pretty tulip\", \"Detailed tulip\", \"Image of pretty tulip\", \"Picture of pretty tulips\", \"Image of tulips\"]\n",
    "}\n",
    "\n",
    "# bougainvillea, Image of bougainvillea, Picture of bougainvillea, bougainvilleas, Cool bougainvillea, Pretty bougainvillea, Detailed bougainvillea, Image of pretty bougainvillea, Picture of pretty bougainvilleas, Image of bougainvilleas, daisies, Image of daisies, Picture of daisies, daisies, Cool daisies, Pretty daisies, Detailed daisies, Image of pretty daisies, Picture of pretty daisies, Image of daisies, garden_roses, Image of garden_roses, Picture of garden_roses, garden_roses, Cool garden_roses, Pretty garden_roses, Detailed garden_roses, Image of pretty garden_roses, Picture of pretty garden_roses, Image of garden_roses, gardenias, Image of gardenias, Picture of gardenias, gardenias, Cool gardenias, Pretty gardenias, Detailed gardenias, Image of pretty gardenias, Picture of pretty gardenias, Image of gardenias, hibiscus, Image of hibiscus, Picture of hibiscus, hibiscuses, Cool hibiscus, Pretty hibiscus, Detailed hibiscus, Image of pretty hibiscus, Picture of pretty hibiscuses, Image of hibiscuses, hydrangeas, Image of hydrangeas, Picture of hydrangeas, hydrangeas, Cool hydrangeas, Pretty hydrangeas, Detailed hydrangeas, Image of pretty hydrangeas, Picture of pretty hydrangeas, Image of hydrangeas, lilies, Image of lilies, Picture of lilies, lilies, Cool lilies, Pretty lilies, Detailed lilies, Image of pretty lilies, Picture of pretty lilies, Image of lilies, orchids, Image of orchids, Picture of orchids, orchids, Cool orchids, Pretty orchids, Detailed orchids, Image of pretty orchids, Picture of pretty orchids, Image of orchids, peonies, Image of peonies, Picture of peonies, peonies, Cool peonies, Pretty peonies, Detailed peonies, Image of pretty peonies, Picture of pretty peonies, Image of peonies, tulip, Image of tulip, Picture of tulip, tulips, Cool tulip, Pretty tulip, Detailed tulip, Image of pretty tulip, Picture of pretty tulips, Image of tulips\n",
    "\n",
    "dict_size(f100)\n",
    "print(flowers_accuracy(\"flowers10/f100.csv\", f100))"
   ]
  },
  {
   "cell_type": "markdown",
   "metadata": {},
   "source": [
    "## Fruits 10"
   ]
  },
  {
   "cell_type": "code",
   "execution_count": 105,
   "metadata": {},
   "outputs": [
    {
     "name": "stdout",
     "output_type": "stream",
     "text": [
      "10\n",
      "82.9\n",
      "82.9\n"
     ]
    }
   ],
   "source": [
    "fr10 = {\n",
    "    \"Apple\" : [\"Apple\"],\n",
    "    \"Orange\" : [\"Orange\"],\n",
    "    \"Avocado\" : [\"Avocado\"],\n",
    "    \"Kiwi\" : [\"Kiwi\"],\n",
    "    \"Mango\" : [\"Mango\"],\n",
    "    \"Pineapple\" : [\"Pineapple\"],\n",
    "    \"strawberries\" : [\"strawberries\"],\n",
    "    \"Banana\" : [\"Banana\"],\n",
    "    \"Cherry\" : [\"Cherry\"],\n",
    "    \"Watermelon\" : [\"Watermelon\"]\n",
    "}\n",
    "\n",
    "# Apple, Orange, Avocado, Kiwi, Mango, Pineapple, strawberries, Banana, Cherry, Watermelon\n",
    "\n",
    "dict_size(fr10)\n",
    "print(aOcheck_accuracy(\"fruits10/f10.csv\", fr10))"
   ]
  },
  {
   "cell_type": "code",
   "execution_count": 106,
   "metadata": {},
   "outputs": [
    {
     "name": "stdout",
     "output_type": "stream",
     "text": [
      "20\n",
      "82.66\n",
      "82.66\n"
     ]
    }
   ],
   "source": [
    "fr20 = {\n",
    "    \"Apple\": [\"Apple\", \"Image of Apple\"],\n",
    "    \"Orange\": [\"Orange\", \"Image of Orange\"],\n",
    "    \"Avocado\": [\"Avocado\", \"Image of Avocado\"],\n",
    "    \"Kiwi\": [\"Kiwi\", \"Image of Kiwi\"],\n",
    "    \"Mango\": [\"Mango\", \"Image of Mango\"],\n",
    "    \"Pineapple\": [\"Pineapple\", \"Image of Pineapple\"],\n",
    "    \"strawberries\": [\"strawberries\", \"Image of strawberries\"],\n",
    "    \"Banana\": [\"Banana\", \"Image of Banana\"],\n",
    "    \"Cherry\": [\"Cherry\", \"Image of Cherry\"],\n",
    "    \"Watermelon\": [\"Watermelon\", \"Image of Watermelon\"]\n",
    "}\n",
    "\n",
    "# Apple, Image of Apple, Orange, Image of Orange, Avocado, Image of Avocado, Kiwi, Image of Kiwi, Mango, Image of Mango, Pineapple, Image of Pineapple, strawberries, Image of strawberries, Banana, Image of Banana, Cherry, Image of Cherry, Watermelon, Image of Watermelon\n",
    "\n",
    "dict_size(fr20)\n",
    "print(aOcheck_accuracy(\"fruits10/f20.csv\", fr20))\n"
   ]
  },
  {
   "cell_type": "code",
   "execution_count": 107,
   "metadata": {},
   "outputs": [
    {
     "name": "stdout",
     "output_type": "stream",
     "text": [
      "30\n",
      "82.75\n",
      "82.75\n"
     ]
    }
   ],
   "source": [
    "fr30 = {\n",
    "    \"Apple\": [\"Apple\", \"Image of Apple\", \"Picture of Apple\"],\n",
    "    \"Orange\": [\"Orange\", \"Image of Orange\", \"Picture of Orange\"],\n",
    "    \"Avocado\": [\"Avocado\", \"Image of Avocado\", \"Picture of Avocado\"],\n",
    "    \"Kiwi\": [\"Kiwi\", \"Image of Kiwi\", \"Picture of Kiwi\"],\n",
    "    \"Mango\": [\"Mango\", \"Image of Mango\", \"Picture of Mango\"],\n",
    "    \"Pineapple\": [\"Pineapple\", \"Image of Pineapple\", \"Picture of Pineapple\"],\n",
    "    \"strawberries\": [\"strawberries\", \"Image of strawberries\", \"Picture of strawberries\"],\n",
    "    \"Banana\": [\"Banana\", \"Image of Banana\", \"Picture of Banana\"],\n",
    "    \"Cherry\": [\"Cherry\", \"Image of Cherry\", \"Picture of Cherry\"],\n",
    "    \"Watermelon\": [\"Watermelon\", \"Image of Watermelon\", \"Picture of Watermelon\"]\n",
    "}\n",
    "\n",
    "# Apple, Image of Apple, Picture of Apple, Orange, Image of Orange, Picture of Orange, Avocado, Image of Avocado, Picture of Avocado, Kiwi, Image of Kiwi, Picture of Kiwi, Mango, Image of Mango, Picture of Mango, Pineapple, Image of Pineapple, Picture of Pineapple, strawberries, Image of strawberries, Picture of strawberries, Banana, Image of Banana, Picture of Banana, Cherry, Image of Cherry, Picture of Cherry, Watermelon, Image of Watermelon, Picture of Watermelon\n",
    "\n",
    "dict_size(fr30)\n",
    "print(aOcheck_accuracy(\"fruits10/f30.csv\", fr30))\n"
   ]
  },
  {
   "cell_type": "code",
   "execution_count": 108,
   "metadata": {},
   "outputs": [
    {
     "name": "stdout",
     "output_type": "stream",
     "text": [
      "40\n",
      "83.32\n",
      "83.32\n"
     ]
    }
   ],
   "source": [
    "fr40 = {\n",
    "    \"Apple\": [\"Apple\", \"Image of Apple\", \"Picture of Apple\", \"Apples\"],\n",
    "    \"Orange\": [\"Orange\", \"Image of Orange\", \"Picture of Orange\", \"Oranges\"],\n",
    "    \"Avocado\": [\"Avocado\", \"Image of Avocado\", \"Picture of Avocado\", \"Avocados\"],\n",
    "    \"Kiwi\": [\"Kiwi\", \"Image of Kiwi\", \"Picture of Kiwi\", \"Kiwis\"],\n",
    "    \"Mango\": [\"Mango\", \"Image of Mango\", \"Picture of Mango\", \"Mangoes\"],\n",
    "    \"Pineapple\": [\"Pineapple\", \"Image of Pineapple\", \"Picture of Pineapple\", \"Pineapples\"],\n",
    "    \"strawberries\": [\"strawberries\", \"Image of strawberries\", \"Picture of strawberries\", \"strawberries\"],\n",
    "    \"Banana\": [\"Banana\", \"Image of Banana\", \"Picture of Banana\", \"Bananas\"],\n",
    "    \"Cherry\": [\"Cherry\", \"Image of Cherry\", \"Picture of Cherry\", \"Cherries\"],\n",
    "    \"Watermelon\": [\"Watermelon\", \"Image of Watermelon\", \"Picture of Watermelon\", \"Watermelons\"]\n",
    "}\n",
    "\n",
    "# Apple, Image of Apple, Picture of Apple, Apples, Orange, Image of Orange, Picture of Orange, Oranges, Avocado, Image of Avocado, Picture of Avocado, Avocados, Kiwi, Image of Kiwi, Picture of Kiwi, Kiwis, Mango, Image of Mango, Picture of Mango, Mangoes, Pineapple, Image of Pineapple, Picture of Pineapple, Pineapples, strawberries, Image of strawberries, Picture of strawberries, strawberries, Banana, Image of Banana, Picture of Banana, Bananas, Cherry, Image of Cherry, Picture of Cherry, Cherries, Watermelon, Image of Watermelon, Picture of Watermelon, Watermelons\n",
    "\n",
    "dict_size(fr40)\n",
    "print(aOcheck_accuracy(\"fruits10/f40.csv\", fr40))\n"
   ]
  },
  {
   "cell_type": "code",
   "execution_count": 109,
   "metadata": {},
   "outputs": [
    {
     "name": "stdout",
     "output_type": "stream",
     "text": [
      "50\n",
      "83.47\n",
      "83.47\n"
     ]
    }
   ],
   "source": [
    "fr50 = {\n",
    "    \"Apple\": [\"Apple\", \"Image of Apple\", \"Picture of Apple\", \"Apples\", \"Cool Apple\"],\n",
    "    \"Orange\": [\"Orange\", \"Image of Orange\", \"Picture of Orange\", \"Oranges\", \"Cool Orange\"],\n",
    "    \"Avocado\": [\"Avocado\", \"Image of Avocado\", \"Picture of Avocado\", \"Avocados\", \"Cool Avocado\"],\n",
    "    \"Kiwi\": [\"Kiwi\", \"Image of Kiwi\", \"Picture of Kiwi\", \"Kiwis\", \"Cool Kiwi\"],\n",
    "    \"Mango\": [\"Mango\", \"Image of Mango\", \"Picture of Mango\", \"Mangoes\", \"Cool Mango\"],\n",
    "    \"Pineapple\": [\"Pineapple\", \"Image of Pineapple\", \"Picture of Pineapple\", \"Pineapples\", \"Cool Pineapple\"],\n",
    "    \"strawberries\": [\"strawberries\", \"Image of strawberries\", \"Picture of strawberries\", \"strawberries\", \"Cool strawberries\"],\n",
    "    \"Banana\": [\"Banana\", \"Image of Banana\", \"Picture of Banana\", \"Bananas\", \"Cool Banana\"],\n",
    "    \"Cherry\": [\"Cherry\", \"Image of Cherry\", \"Picture of Cherry\", \"Cherries\", \"Cool Cherry\"],\n",
    "    \"Watermelon\": [\"Watermelon\", \"Image of Watermelon\", \"Picture of Watermelon\", \"Watermelons\", \"Cool Watermelon\"]\n",
    "}\n",
    "\n",
    "# Apple, Image of Apple, Picture of Apple, Apples, Cool Apple, Orange, Image of Orange, Picture of Orange, Oranges, Cool Orange, Avocado, Image of Avocado, Picture of Avocado, Avocados, Cool Avocado, Kiwi, Image of Kiwi, Picture of Kiwi, Kiwis, Cool Kiwi, Mango, Image of Mango, Picture of Mango, Mangoes, Cool Mango, Pineapple, Image of Pineapple, Picture of Pineapple, Pineapples, Cool Pineapple, strawberries, Image of strawberries, Picture of strawberries, strawberries, Cool strawberries, Banana, Image of Banana, Picture of Banana, Bananas, Cool Banana, Cherry, Image of Cherry, Picture of Cherry, Cherries, Cool Cherry, Watermelon, Image of Watermelon, Picture of Watermelon, Watermelons, Cool Watermelon\n",
    "\n",
    "dict_size(fr50)\n",
    "print(aOcheck_accuracy(\"fruits10/f50.csv\", fr50))\n"
   ]
  },
  {
   "cell_type": "code",
   "execution_count": 110,
   "metadata": {},
   "outputs": [
    {
     "name": "stdout",
     "output_type": "stream",
     "text": [
      "60\n",
      "83.56\n",
      "83.56\n"
     ]
    }
   ],
   "source": [
    "fr60 = {\n",
    "    \"Apple\": [\"Apple\", \"Image of Apple\", \"Picture of Apple\", \"Apples\", \"Cool Apple\", \"Pretty Apple\"],\n",
    "    \"Orange\": [\"Orange\", \"Image of Orange\", \"Picture of Orange\", \"Oranges\", \"Cool Orange\", \"Pretty Orange\"],\n",
    "    \"Avocado\": [\"Avocado\", \"Image of Avocado\", \"Picture of Avocado\", \"Avocados\", \"Cool Avocado\", \"Pretty Avocado\"],\n",
    "    \"Kiwi\": [\"Kiwi\", \"Image of Kiwi\", \"Picture of Kiwi\", \"Kiwis\", \"Cool Kiwi\", \"Pretty Kiwi\"],\n",
    "    \"Mango\": [\"Mango\", \"Image of Mango\", \"Picture of Mango\", \"Mangoes\", \"Cool Mango\", \"Pretty Mango\"],\n",
    "    \"Pineapple\": [\"Pineapple\", \"Image of Pineapple\", \"Picture of Pineapple\", \"Pineapples\", \"Cool Pineapple\", \"Pretty Pineapple\"],\n",
    "    \"strawberries\": [\"strawberries\", \"Image of strawberries\", \"Picture of strawberries\", \"strawberries\", \"Cool strawberries\", \"Pretty strawberries\"],\n",
    "    \"Banana\": [\"Banana\", \"Image of Banana\", \"Picture of Banana\", \"Bananas\", \"Cool Banana\", \"Pretty Banana\"],\n",
    "    \"Cherry\": [\"Cherry\", \"Image of Cherry\", \"Picture of Cherry\", \"Cherries\", \"Cool Cherry\", \"Pretty Cherry\"],\n",
    "    \"Watermelon\": [\"Watermelon\", \"Image of Watermelon\", \"Picture of Watermelon\", \"Watermelons\", \"Cool Watermelon\", \"Pretty Watermelon\"]\n",
    "}\n",
    "\n",
    "# Apple, Image of Apple, Picture of Apple, Apples, Cool Apple, Pretty Apple, Orange, Image of Orange, Picture of Orange, Oranges, Cool Orange, Pretty Orange, Avocado, Image of Avocado, Picture of Avocado, Avocados, Cool Avocado, Pretty Avocado, Kiwi, Image of Kiwi, Picture of Kiwi, Kiwis, Cool Kiwi, Pretty Kiwi, Mango, Image of Mango, Picture of Mango, Mangoes, Cool Mango, Pretty Mango, Pineapple, Image of Pineapple, Picture of Pineapple, Pineapples, Cool Pineapple, Pretty Pineapple, strawberries, Image of strawberries, Picture of strawberries, strawberries, Cool strawberries, Pretty strawberries, Banana, Image of Banana, Picture of Banana, Bananas, Cool Banana, Pretty Banana, Cherry, Image of Cherry, Picture of Cherry, Cherries, Cool Cherry, Pretty Cherry, Watermelon, Image of Watermelon, Picture of Watermelon, Watermelons, Cool Watermelon, Pretty Watermelon\n",
    "\n",
    "dict_size(fr60)\n",
    "print(aOcheck_accuracy(\"fruits10/f60.csv\", fr60))\n"
   ]
  },
  {
   "cell_type": "code",
   "execution_count": 111,
   "metadata": {},
   "outputs": [
    {
     "name": "stdout",
     "output_type": "stream",
     "text": [
      "70\n",
      "83.56\n",
      "83.56\n"
     ]
    }
   ],
   "source": [
    "fr70 = {\n",
    "    \"Apple\": [\"Apple\", \"Image of Apple\", \"Picture of Apple\", \"Apples\", \"Cool Apple\", \"Pretty Apple\", \"Detailed Apple\"],\n",
    "    \"Orange\": [\"Orange\", \"Image of Orange\", \"Picture of Orange\", \"Oranges\", \"Cool Orange\", \"Pretty Orange\", \"Detailed Orange\"],\n",
    "    \"Avocado\": [\"Avocado\", \"Image of Avocado\", \"Picture of Avocado\", \"Avocados\", \"Cool Avocado\", \"Pretty Avocado\", \"Detailed Avocado\"],\n",
    "    \"Kiwi\": [\"Kiwi\", \"Image of Kiwi\", \"Picture of Kiwi\", \"Kiwis\", \"Cool Kiwi\", \"Pretty Kiwi\", \"Detailed Kiwi\"],\n",
    "    \"Mango\": [\"Mango\", \"Image of Mango\", \"Picture of Mango\", \"Mangoes\", \"Cool Mango\", \"Pretty Mango\", \"Detailed Mango\"],\n",
    "    \"Pineapple\": [\"Pineapple\", \"Image of Pineapple\", \"Picture of Pineapple\", \"Pineapples\", \"Cool Pineapple\", \"Pretty Pineapple\", \"Detailed Pineapple\"],\n",
    "    \"strawberries\": [\"strawberries\", \"Image of strawberries\", \"Picture of strawberries\", \"strawberries\", \"Cool strawberries\", \"Pretty strawberries\", \"Detailed strawberries\"],\n",
    "    \"Banana\": [\"Banana\", \"Image of Banana\", \"Picture of Banana\", \"Bananas\", \"Cool Banana\", \"Pretty Banana\", \"Detailed Banana\"],\n",
    "    \"Cherry\": [\"Cherry\", \"Image of Cherry\", \"Picture of Cherry\", \"Cherries\", \"Cool Cherry\", \"Pretty Cherry\", \"Detailed Cherry\"],\n",
    "    \"Watermelon\": [\"Watermelon\", \"Image of Watermelon\", \"Picture of Watermelon\", \"Watermelons\", \"Cool Watermelon\", \"Pretty Watermelon\", \"Detailed Watermelon\"]\n",
    "}\n",
    "\n",
    "# Apple, Image of Apple, Picture of Apple, Apples, Cool Apple, Pretty Apple, Detailed Apple, Orange, Image of Orange, Picture of Orange, Oranges, Cool Orange, Pretty Orange, Detailed Orange, Avocado, Image of Avocado, Picture of Avocado, Avocados, Cool Avocado, Pretty Avocado, Detailed Avocado, Kiwi, Image of Kiwi, Picture of Kiwi, Kiwis, Cool Kiwi, Pretty Kiwi, Detailed Kiwi, Mango, Image of Mango, Picture of Mango, Mangoes, Cool Mango, Pretty Mango, Detailed Mango, Pineapple, Image of Pineapple, Picture of Pineapple, Pineapples, Cool Pineapple, Pretty Pineapple, Detailed Pineapple, strawberries, Image of strawberries, Picture of strawberries, strawberries, Cool strawberries, Pretty strawberries, Detailed strawberries, Banana, Image of Banana, Picture of Banana, Bananas, Cool Banana, Pretty Banana, Detailed Banana, Cherry, Image of Cherry, Picture of Cherry, Cherries, Cool Cherry, Pretty Cherry, Detailed Cherry, Watermelon, Image of Watermelon, Picture of Watermelon, Watermelons, Cool Watermelon, Pretty Watermelon, Detailed Watermelon\n",
    "\n",
    "dict_size(fr70)\n",
    "print(aOcheck_accuracy(\"fruits10/f70.csv\", fr70))\n"
   ]
  },
  {
   "cell_type": "code",
   "execution_count": 112,
   "metadata": {},
   "outputs": [
    {
     "name": "stdout",
     "output_type": "stream",
     "text": [
      "80\n",
      "83.65\n",
      "83.65\n"
     ]
    }
   ],
   "source": [
    "fr80 = {\n",
    "    \"Apple\": [\"Apple\", \"Image of Apple\", \"Picture of Apple\", \"Apples\", \"Cool Apple\", \"Pretty Apple\", \"Detailed Apple\", \"Image of pretty Apple\"],\n",
    "    \"Orange\": [\"Orange\", \"Image of Orange\", \"Picture of Orange\", \"Oranges\", \"Cool Orange\", \"Pretty Orange\", \"Detailed Orange\", \"Image of pretty Orange\"],\n",
    "    \"Avocado\": [\"Avocado\", \"Image of Avocado\", \"Picture of Avocado\", \"Avocados\", \"Cool Avocado\", \"Pretty Avocado\", \"Detailed Avocado\", \"Image of pretty Avocado\"],\n",
    "    \"Kiwi\": [\"Kiwi\", \"Image of Kiwi\", \"Picture of Kiwi\", \"Kiwis\", \"Cool Kiwi\", \"Pretty Kiwi\", \"Detailed Kiwi\", \"Image of pretty Kiwi\"],\n",
    "    \"Mango\": [\"Mango\", \"Image of Mango\", \"Picture of Mango\", \"Mangoes\", \"Cool Mango\", \"Pretty Mango\", \"Detailed Mango\", \"Image of pretty Mango\"],\n",
    "    \"Pineapple\": [\"Pineapple\", \"Image of Pineapple\", \"Picture of Pineapple\", \"Pineapples\", \"Cool Pineapple\", \"Pretty Pineapple\", \"Detailed Pineapple\", \"Image of pretty Pineapple\"],\n",
    "    \"strawberries\": [\"strawberries\", \"Image of strawberries\", \"Picture of strawberries\", \"strawberries\", \"Cool strawberries\", \"Pretty strawberries\", \"Detailed strawberries\", \"Image of pretty strawberries\"],\n",
    "    \"Banana\": [\"Banana\", \"Image of Banana\", \"Picture of Banana\", \"Bananas\", \"Cool Banana\", \"Pretty Banana\", \"Detailed Banana\", \"Image of pretty Banana\"],\n",
    "    \"Cherry\": [\"Cherry\", \"Image of Cherry\", \"Picture of Cherry\", \"Cherries\", \"Cool Cherry\", \"Pretty Cherry\", \"Detailed Cherry\", \"Image of pretty Cherry\"],\n",
    "    \"Watermelon\": [\"Watermelon\", \"Image of Watermelon\", \"Picture of Watermelon\", \"Watermelons\", \"Cool Watermelon\", \"Pretty Watermelon\", \"Detailed Watermelon\", \"Image of pretty Watermelon\"]\n",
    "}\n",
    "\n",
    "# Apple, Image of Apple, Picture of Apple, Apples, Cool Apple, Pretty Apple, Detailed Apple, Image of pretty Apple, Orange, Image of Orange, Picture of Orange, Oranges, Cool Orange, Pretty Orange, Detailed Orange, Image of pretty Orange, Avocado, Image of Avocado, Picture of Avocado, Avocados, Cool Avocado, Pretty Avocado, Detailed Avocado, Image of pretty Avocado, Kiwi, Image of Kiwi, Picture of Kiwi, Kiwis, Cool Kiwi, Pretty Kiwi, Detailed Kiwi, Image of pretty Kiwi, Mango, Image of Mango, Picture of Mango, Mangoes, Cool Mango, Pretty Mango, Detailed Mango, Image of pretty Mango, Pineapple, Image of Pineapple, Picture of Pineapple, Pineapples, Cool Pineapple, Pretty Pineapple, Detailed Pineapple, Image of pretty Pineapple, strawberries, Image of strawberries, Picture of strawberries, strawberries, Cool strawberries, Pretty strawberries, Detailed strawberries, Image of pretty strawberries, Banana, Image of Banana, Picture of Banana, Bananas, Cool Banana, Pretty Banana, Detailed Banana, Image of pretty Banana, Cherry, Image of Cherry, Picture of Cherry, Cherries, Cool Cherry, Pretty Cherry, Detailed Cherry, Image of pretty Cherry, Watermelon, Image of Watermelon, Picture of Watermelon, Watermelons, Cool Watermelon, Pretty Watermelon, Detailed Watermelon, Image of pretty Watermelon\n",
    "\n",
    "dict_size(fr80)\n",
    "print(aOcheck_accuracy(\"fruits10/f80.csv\", fr80))\n"
   ]
  },
  {
   "cell_type": "code",
   "execution_count": 113,
   "metadata": {},
   "outputs": [],
   "source": [
    "fr90 = {\n",
    "    \"Apple\": [\"Apple\", \"Image of Apple\", \"Picture of Apple\", \"Apples\", \"Cool Apple\", \"Pretty Apple\", \"Detailed Apple\", \"Image of pretty Apple\", \"Picture of pretty Apples\"],\n",
    "    \"Orange\": [\"Orange\", \"Image of Orange\", \"Picture of Orange\", \"Oranges\", \"Cool Orange\", \"Pretty Orange\", \"Detailed Orange\", \"Image of pretty Orange\", \"Picture of pretty Oranges\"],\n",
    "    \"Avocado\": [\"Avocado\", \"Image of Avocado\", \"Picture of Avocado\", \"Avocados\", \"Cool Avocado\", \"Pretty Avocado\", \"Detailed Avocado\", \"Image of pretty Avocado\", \"Picture of pretty Avocados\"],\n",
    "    \"Kiwi\": [\"Kiwi\", \"Image of Kiwi\", \"Picture of Kiwi\", \"Kiwis\", \"Cool Kiwi\", \"Pretty Kiwi\", \"Detailed Kiwi\", \"Image of pretty Kiwi\", \"Picture of pretty Kiwis\"],\n",
    "    \"Mango\": [\"Mango\", \"Image of Mango\", \"Picture of Mango\", \"Mangoes\", \"Cool Mango\", \"Pretty Mango\", \"Detailed Mango\", \"Image of pretty Mango\", \"Picture of pretty Mangoes\"],\n",
    "    \"Pineapple\": [\"Pineapple\", \"Image of Pineapple\", \"Picture of Pineapple\", \"Pineapples\", \"Cool Pineapple\", \"Pretty Pineapple\", \"Detailed Pineapple\", \"Image of pretty Pineapple\", \"Picture of pretty Pineapples\"],\n",
    "    \"strawberries\": [\"strawberries\", \"Image of strawberries\", \"Picture of strawberries\", \"strawberries\", \"Cool strawberries\", \"Pretty strawberries\", \"Detailed strawberries\", \"Image of pretty strawberries\", \"Picture of pretty strawberries\"],\n",
    "    \"Banana\": [\"Banana\", \"Image of Banana\", \"Picture of Banana\", \"Bananas\", \"Cool Banana\", \"Pretty Banana\", \"Detailed Banana\", \"Image of pretty Banana\", \"Picture of pretty Bananas\"],\n",
    "    \"Cherry\": [\"Cherry\", \"Image of Cherry\", \"Picture of Cherry\", \"Cherries\", \"Cool Cherry\", \"Pretty Cherry\", \"Detailed Cherry\", \"Image of pretty Cherry\", \"Picture of pretty Cherries\"],\n",
    "    \"Watermelon\": [\"Watermelon\", \"Image of Watermelon\", \"Picture of Watermelon\", \"Watermelons\", \"Cool Watermelon\", \"Pretty Watermelon\", \"Detailed Watermelon\", \"Image of pretty Watermelon\", \"Picture of pretty Watermelons\"]\n",
    "}\n",
    "\n",
    "# Apple, Image of Apple, Picture of Apple, Apples, Cool Apple, Pretty Apple, Detailed Apple, Image of pretty Apple, Picture of pretty Apples, Orange, Image of Orange, Picture of Orange, Oranges, Cool Orange, Pretty Orange, Detailed Orange, Image of pretty Orange, Picture of pretty Oranges, Avocado, Image of Avocado, Picture of Avocado, Avocados, Cool Avocado, Pretty Avocado, Detailed Avocado, Image of pretty Avocado, Picture of pretty Avocados, Kiwi, Image of Kiwi, Picture of Kiwi, Kiwis, Cool Kiwi, Pretty Kiwi, Detailed Kiwi, Image of pretty Kiwi, Picture of pretty Kiwis, Mango, Image of Mango, Picture of Mango, Mangoes, Cool Mango, Pretty Mango, Detailed Mango, Image of pretty Mango, Picture of pretty Mangoes, Pineapple, Image of Pineapple, Picture of Pineapple, Pineapples, Cool Pineapple, Pretty Pineapple, Detailed Pineapple, Image of pretty Pineapple, Picture of pretty Pineapples, strawberries, Image of strawberries, Picture of strawberries, strawberries, Cool strawberries, Pretty strawberries, Detailed strawberries, Image of pretty strawberries, Picture of pretty strawberries, Banana, Image of Banana, Picture of Banana, Bananas, Cool Banana, Pretty Banana, Detailed Banana, Image of pretty Banana, Picture of pretty Bananas, Cherry, Image of Cherry, Picture of Cherry, Cherries, Cool Cherry, Pretty Cherry, Detailed Cherry, Image of pretty Cherry, Picture of pretty Cherries, Watermelon, Image of Watermelon, Picture of Watermelon, Watermelons, Cool Watermelon, Pretty Watermelon, Detailed Watermelon, Image of pretty Watermelon, Picture of pretty Watermelons\n",
    "\n",
    "# dict_size(fr90)\n",
    "# print(aOcheck_accuracy(\"fruits10/f90.csv\", fr90))\n"
   ]
  },
  {
   "cell_type": "code",
   "execution_count": 114,
   "metadata": {},
   "outputs": [],
   "source": [
    "fr100 = {\n",
    "    \"Apple\": [\"Apple\", \"Image of Apple\", \"Picture of Apple\", \"Apples\", \"Cool Apple\", \"Pretty Apple\", \"Detailed Apple\", \"Image of pretty Apple\", \"Picture of pretty Apples\", \"Image of Apples\"],\n",
    "    \"Orange\": [\"Orange\", \"Image of Orange\", \"Picture of Orange\", \"Oranges\", \"Cool Orange\", \"Pretty Orange\", \"Detailed Orange\", \"Image of pretty Orange\", \"Picture of pretty Oranges\", \"Image of Oranges\"],\n",
    "    \"Avocado\": [\"Avocado\", \"Image of Avocado\", \"Picture of Avocado\", \"Avocados\", \"Cool Avocado\", \"Pretty Avocado\", \"Detailed Avocado\", \"Image of pretty Avocado\", \"Picture of pretty Avocados\", \"Image of Avocados\"],\n",
    "    \"Kiwi\": [\"Kiwi\", \"Image of Kiwi\", \"Picture of Kiwi\", \"Kiwis\", \"Cool Kiwi\", \"Pretty Kiwi\", \"Detailed Kiwi\", \"Image of pretty Kiwi\", \"Picture of pretty Kiwis\", \"Image of Kiwis\"],\n",
    "    \"Mango\": [\"Mango\", \"Image of Mango\", \"Picture of Mango\", \"Mangoes\", \"Cool Mango\", \"Pretty Mango\", \"Detailed Mango\", \"Image of pretty Mango\", \"Picture of pretty Mangoes\", \"Image of Mangoes\"],\n",
    "    \"Pineapple\": [\"Pineapple\", \"Image of Pineapple\", \"Picture of Pineapple\", \"Pineapples\", \"Cool Pineapple\", \"Pretty Pineapple\", \"Detailed Pineapple\", \"Image of pretty Pineapple\", \"Picture of pretty Pineapples\", \"Image of Pineapples\"],\n",
    "    \"strawberries\": [\"strawberries\", \"Image of strawberries\", \"Picture of strawberries\", \"strawberries\", \"Cool strawberries\", \"Pretty strawberries\", \"Detailed strawberries\", \"Image of pretty strawberries\", \"Picture of pretty strawberries\", \"Image of strawberries\"],\n",
    "    \"Banana\": [\"Banana\", \"Image of Banana\", \"Picture of Banana\", \"Bananas\", \"Cool Banana\", \"Pretty Banana\", \"Detailed Banana\", \"Image of pretty Banana\", \"Picture of pretty Bananas\", \"Image of Bananas\"],\n",
    "    \"Cherry\": [\"Cherry\", \"Image of Cherry\", \"Picture of Cherry\", \"Cherries\", \"Cool Cherry\", \"Pretty Cherry\", \"Detailed Cherry\", \"Image of pretty Cherry\", \"Picture of pretty Cherries\", \"Image of Cherries\"],\n",
    "    \"Watermelon\": [\"Watermelon\", \"Image of Watermelon\", \"Picture of Watermelon\", \"Watermelons\", \"Cool Watermelon\", \"Pretty Watermelon\", \"Detailed Watermelon\", \"Image of pretty Watermelon\", \"Picture of pretty Watermelons\", \"Image of Watermelons\"]\n",
    "}\n",
    "\n",
    "# Apple, Image of Apple, Picture of Apple, Apples, Cool Apple, Pretty Apple, Detailed Apple, Image of pretty Apple, Picture of pretty Apples, Image of Apples, Orange, Image of Orange, Picture of Orange, Oranges, Cool Orange, Pretty Orange, Detailed Orange, Image of pretty Orange, Picture of pretty Oranges, Image of Oranges, Avocado, Image of Avocado, Picture of Avocado, Avocados, Cool Avocado, Pretty Avocado, Detailed Avocado, Image of pretty Avocado, Picture of pretty Avocados, Image of Avocados, Kiwi, Image of Kiwi, Picture of Kiwi, Kiwis, Cool Kiwi, Pretty Kiwi, Detailed Kiwi, Image of pretty Kiwi, Picture of pretty Kiwis, Image of Kiwis, Mango, Image of Mango, Picture of Mango, Mangoes, Cool Mango, Pretty Mango, Detailed Mango, Image of pretty Mango, Picture of pretty Mangoes, Image of Mangoes, Pineapple, Image of Pineapple, Picture of Pineapple, Pineapples, Cool Pineapple, Pretty Pineapple, Detailed Pineapple, Image of pretty Pineapple, Picture of pretty Pineapples, Image of Pineapples, strawberries, Image of strawberries, Picture of strawberries, strawberries, Cool strawberries, Pretty strawberries, Detailed strawberries, Image of pretty strawberries, Picture of pretty strawberries, Image of strawberries, Banana, Image of Banana, Picture of Banana, Bananas, Cool Banana, Pretty Banana, Detailed Banana, Image of pretty Banana, Picture of pretty Bananas, Image of Bananas, Cherry, Image of Cherry, Picture of Cherry, Cherries, Cool Cherry, Pretty Cherry, Detailed Cherry, Image of pretty Cherry, Picture of pretty Cherries, Image of Cherries, Watermelon, Image of Watermelon, Picture of Watermelon, Watermelons, Cool Watermelon, Pretty Watermelon, Detailed Watermelon, Image of pretty Watermelon, Picture of pretty Watermelons, Image of Watermelons\n",
    "\n",
    "# dict_size(fr100)\n",
    "# print(aOcheck_accuracy(\"fruits10/f100.csv\", fr100))"
   ]
  },
  {
   "cell_type": "markdown",
   "metadata": {},
   "source": [
    "## Food 34"
   ]
  },
  {
   "cell_type": "code",
   "execution_count": 115,
   "metadata": {},
   "outputs": [
    {
     "name": "stdout",
     "output_type": "stream",
     "text": [
      "34\n",
      "80.2\n",
      "80.2\n"
     ]
    }
   ],
   "source": [
    "f34 = {\n",
    "    \"Baked Potato\": [\"Baked Potato\"],\n",
    "    \"Crispy Chicken\": [\"Crispy Chicken\"],\n",
    "    \"Donut\": [\"Donut\"],\n",
    "    \"Fries\": [\"Fries\"],\n",
    "    \"Hot Dog\": [\"Hot Dog\"],\n",
    "    \"Sandwich\": [\"Sandwich\"],\n",
    "    \"Taco\": [\"Taco\"],\n",
    "    \"Taquito\": [\"Taquito\"],\n",
    "    \"apple_pie\": [\"apple_pie\"],\n",
    "    \"burger\": [\"burger\"],\n",
    "    \"butter_naan\": [\"butter_naan\"],\n",
    "    \"chai\": [\"chai\"],\n",
    "    \"chapati\": [\"chapati\"],\n",
    "    \"cheesecake\": [\"cheesecake\"],\n",
    "    \"chicken_curry\": [\"chicken_curry\"],\n",
    "    \"chole_bhature\": [\"chole_bhature\"],\n",
    "    \"dal_makhani\": [\"dal_makhani\"],\n",
    "    \"dhokla\": [\"dhokla\"],\n",
    "    \"fried_rice\": [\"fried_rice\"],\n",
    "    \"ice_cream\": [\"ice_cream\"],\n",
    "    \"idli\": [\"idli\"],\n",
    "    \"jalebi\": [\"jalebi\"],\n",
    "    \"kaathi_rolls\": [\"kaathi_rolls\"],\n",
    "    \"kadai_paneer\": [\"kadai_paneer\"],\n",
    "    \"kulfi\": [\"kulfi\"],\n",
    "    \"masala_dosa\": [\"masala_dosa\"],\n",
    "    \"momos\": [\"momos\"],\n",
    "    \"omelette\": [\"omelette\"],\n",
    "    \"paani_puri\": [\"paani_puri\"],\n",
    "    \"pakode\": [\"pakode\"],\n",
    "    \"pav_bhaji\": [\"pav_bhaji\"],\n",
    "    \"pizza\": [\"pizza\"],\n",
    "    \"samosa\": [\"samosa\"],\n",
    "    \"sushi\": [\"sushi\"],\n",
    "}\n",
    "\n",
    "# Baked Potato, Crispy Chicken, Donut, Fries, Hot Dog, Sandwich, Taco, Taquito, apple_pie, burger, butter_naan, chai, chapati, cheesecake, chicken_curry, chole_bhature, dal_makhani, dhokla, fried_rice, ice_cream, idli, jalebi, kaathi_rolls, kadai_paneer, kulfi, masala_dosa, momos, omelette, paani_puri, pakode, pav_bhaji, pizza, samosa, sushi\n",
    "\n",
    "dict_size(f34)\n",
    "print(aOcheck_accuracy(\"food34/f34.csv\", f34))"
   ]
  },
  {
   "cell_type": "code",
   "execution_count": 116,
   "metadata": {},
   "outputs": [
    {
     "name": "stdout",
     "output_type": "stream",
     "text": [
      "68\n",
      "81.5\n",
      "81.5\n"
     ]
    }
   ],
   "source": [
    "f68 = {\n",
    "    \"Baked Potato\": [\"Baked Potato\", \"Image of Baked Potato\"],\n",
    "    \"Crispy Chicken\": [\"Crispy Chicken\", \"Image of Crispy Chicken\"],\n",
    "    \"Donut\": [\"Donut\", \"Image of Donut\"],\n",
    "    \"Fries\": [\"Fries\", \"Image of Fries\"],\n",
    "    \"Hot Dog\": [\"Hot Dog\", \"Image of Hot Dog\"],\n",
    "    \"Sandwich\": [\"Sandwich\", \"Image of Sandwich\"],\n",
    "    \"Taco\": [\"Taco\", \"Image of Taco\"],\n",
    "    \"Taquito\": [\"Taquito\", \"Image of Taquito\"],\n",
    "    \"apple_pie\": [\"apple_pie\", \"Image of apple_pie\"],\n",
    "    \"burger\": [\"burger\", \"Image of burger\"],\n",
    "    \"butter_naan\": [\"butter_naan\", \"Image of butter_naan\"],\n",
    "    \"chai\": [\"chai\", \"Image of chai\"],\n",
    "    \"chapati\": [\"chapati\", \"Image of chapati\"],\n",
    "    \"cheesecake\": [\"cheesecake\", \"Image of cheesecake\"],\n",
    "    \"chicken_curry\": [\"chicken_curry\", \"Image of chicken_curry\"],\n",
    "    \"chole_bhature\": [\"chole_bhature\", \"Image of chole_bhature\"],\n",
    "    \"dal_makhani\": [\"dal_makhani\", \"Image of dal_makhani\"],\n",
    "    \"dhokla\": [\"dhokla\", \"Image of dhokla\"],\n",
    "    \"fried_rice\": [\"fried_rice\", \"Image of fried_rice\"],\n",
    "    \"ice_cream\": [\"ice_cream\", \"Image of ice_cream\"],\n",
    "    \"idli\": [\"idli\", \"Image of idli\"],\n",
    "    \"jalebi\": [\"jalebi\", \"Image of jalebi\"],\n",
    "    \"kaathi_rolls\": [\"kaathi_rolls\", \"Image of kaathi_rolls\"],\n",
    "    \"kadai_paneer\": [\"kadai_paneer\", \"Image of kadai_paneer\"],\n",
    "    \"kulfi\": [\"kulfi\", \"Image of kulfi\"],\n",
    "    \"masala_dosa\": [\"masala_dosa\", \"Image of masala_dosa\"],\n",
    "    \"momos\": [\"momos\", \"Image of momos\"],\n",
    "    \"omelette\": [\"omelette\", \"Image of omelette\"],\n",
    "    \"paani_puri\": [\"paani_puri\", \"Image of paani_puri\"],\n",
    "    \"pakode\": [\"pakode\", \"Image of pakode\"],\n",
    "    \"pav_bhaji\": [\"pav_bhaji\", \"Image of pav_bhaji\"],\n",
    "    \"pizza\": [\"pizza\", \"Image of pizza\"],\n",
    "    \"samosa\": [\"samosa\", \"Image of samosa\"],\n",
    "    \"sushi\": [\"sushi\", \"Image of sushi\"]\n",
    "}\n",
    "\n",
    "# Baked Potato, Image of Baked Potato, Crispy Chicken, Image of Crispy Chicken, Donut, Image of Donut, Fries, Image of Fries, Hot Dog, Image of Hot Dog, Sandwich, Image of Sandwich, Taco, Image of Taco, Taquito, Image of Taquito, apple_pie, Image of apple_pie, burger, Image of burger, butter_naan, Image of butter_naan, chai, Image of chai, chapati, Image of chapati, cheesecake, Image of cheesecake, chicken_curry, Image of chicken_curry, chole_bhature, Image of chole_bhature, dal_makhani, Image of dal_makhani, dhokla, Image of dhokla, fried_rice, Image of fried_rice, ice_cream, Image of ice_cream, idli, Image of idli, jalebi, Image of jalebi, kaathi_rolls, Image of kaathi_rolls, kadai_paneer, Image of kadai_paneer, kulfi, Image of kulfi, masala_dosa, Image of masala_dosa, momos, Image of momos, omelette, Image of omelette, paani_puri, Image of paani_puri, pakode, Image of pakode, pav_bhaji, Image of pav_bhaji, pizza, Image of pizza, samosa, Image of samosa, sushi, Image of sushi\n",
    "\n",
    "dict_size(f68)\n",
    "print(aOcheck_accuracy(\"food34/f68.csv\", f68))\n"
   ]
  },
  {
   "cell_type": "code",
   "execution_count": 117,
   "metadata": {},
   "outputs": [
    {
     "name": "stdout",
     "output_type": "stream",
     "text": [
      "102\n",
      "79.81\n",
      "79.81\n"
     ]
    }
   ],
   "source": [
    "f102 = {\n",
    "    \"Baked Potato\": [\"Baked Potato\", \"Image of Baked Potato\", \"Picture of Baked Potato\"],\n",
    "    \"Crispy Chicken\": [\"Crispy Chicken\", \"Image of Crispy Chicken\", \"Picture of Crispy Chicken\"],\n",
    "    \"Donut\": [\"Donut\", \"Image of Donut\", \"Picture of Donut\"],\n",
    "    \"Fries\": [\"Fries\", \"Image of Fries\", \"Picture of Fries\"],\n",
    "    \"Hot Dog\": [\"Hot Dog\", \"Image of Hot Dog\", \"Picture of Hot Dog\"],\n",
    "    \"Sandwich\": [\"Sandwich\", \"Image of Sandwich\", \"Picture of Sandwich\"],\n",
    "    \"Taco\": [\"Taco\", \"Image of Taco\", \"Picture of Taco\"],\n",
    "    \"Taquito\": [\"Taquito\", \"Image of Taquito\", \"Picture of Taquito\"],\n",
    "    \"apple_pie\": [\"apple_pie\", \"Image of apple_pie\", \"Picture of apple_pie\"],\n",
    "    \"burger\": [\"burger\", \"Image of burger\", \"Picture of burger\"],\n",
    "    \"butter_naan\": [\"butter_naan\", \"Image of butter_naan\", \"Picture of butter_naan\"],\n",
    "    \"chai\": [\"chai\", \"Image of chai\", \"Picture of chai\"],\n",
    "    \"chapati\": [\"chapati\", \"Image of chapati\", \"Picture of chapati\"],\n",
    "    \"cheesecake\": [\"cheesecake\", \"Image of cheesecake\", \"Picture of cheesecake\"],\n",
    "    \"chicken_curry\": [\"chicken_curry\", \"Image of chicken_curry\", \"Picture of chicken_curry\"],\n",
    "    \"chole_bhature\": [\"chole_bhature\", \"Image of chole_bhature\", \"Picture of chole_bhature\"],\n",
    "    \"dal_makhani\": [\"dal_makhani\", \"Image of dal_makhani\", \"Picture of dal_makhani\"],\n",
    "    \"dhokla\": [\"dhokla\", \"Image of dhokla\", \"Picture of dhokla\"],\n",
    "    \"fried_rice\": [\"fried_rice\", \"Image of fried_rice\", \"Picture of fried_rice\"],\n",
    "    \"ice_cream\": [\"ice_cream\", \"Image of ice_cream\", \"Picture of ice_cream\"],\n",
    "    \"idli\": [\"idli\", \"Image of idli\", \"Picture of idli\"],\n",
    "    \"jalebi\": [\"jalebi\", \"Image of jalebi\", \"Picture of jalebi\"],\n",
    "    \"kaathi_rolls\": [\"kaathi_rolls\", \"Image of kaathi_rolls\", \"Picture of kaathi_rolls\"],\n",
    "    \"kadai_paneer\": [\"kadai_paneer\", \"Image of kadai_paneer\", \"Picture of kadai_paneer\"],\n",
    "    \"kulfi\": [\"kulfi\", \"Image of kulfi\", \"Picture of kulfi\"],\n",
    "    \"masala_dosa\": [\"masala_dosa\", \"Image of masala_dosa\", \"Picture of masala_dosa\"],\n",
    "    \"momos\": [\"momos\", \"Image of momos\", \"Picture of momos\"],\n",
    "    \"omelette\": [\"omelette\", \"Image of omelette\", \"Picture of omelette\"],\n",
    "    \"paani_puri\": [\"paani_puri\", \"Image of paani_puri\", \"Picture of paani_puri\"],\n",
    "    \"pakode\": [\"pakode\", \"Image of pakode\", \"Picture of pakode\"],\n",
    "    \"pav_bhaji\": [\"pav_bhaji\", \"Image of pav_bhaji\", \"Picture of pav_bhaji\"],\n",
    "    \"pizza\": [\"pizza\", \"Image of pizza\", \"Picture of pizza\"],\n",
    "    \"samosa\": [\"samosa\", \"Image of samosa\", \"Picture of samosa\"],\n",
    "    \"sushi\": [\"sushi\", \"Image of sushi\", \"Picture of sushi\"]\n",
    "}\n",
    "\n",
    "# Baked Potato, Image of Baked Potato, Picture of Baked Potato, Crispy Chicken, Image of Crispy Chicken, Picture of Crispy Chicken, Donut, Image of Donut, Picture of Donut, Fries, Image of Fries, Picture of Fries, Hot Dog, Image of Hot Dog, Picture of Hot Dog, Sandwich, Image of Sandwich, Picture of Sandwich, Taco, Image of Taco, Picture of Taco, Taquito, Image of Taquito, Picture of Taquito, apple_pie, Image of apple_pie, Picture of apple_pie, burger, Image of burger, Picture of burger, butter_naan, Image of butter_naan, Picture of butter_naan, chai, Image of chai, Picture of chai, chapati, Image of chapati, Picture of chapati, cheesecake, Image of cheesecake, Picture of cheesecake, chicken_curry, Image of chicken_curry, Picture of chicken_curry, chole_bhature, Image of chole_bhature, Picture of chole_bhature, dal_makhani, Image of dal_makhani, Picture of dal_makhani, dhokla, Image of dhokla, Picture of dhokla, fried_rice, Image of fried_rice, Picture of fried_rice, ice_cream, Image of ice_cream, Picture of ice_cream, idli, Image of idli, Picture of idli, jalebi, Image of jalebi, Picture of jalebi, kaathi_rolls, Image of kaathi_rolls, Picture of kaathi_rolls, kadai_paneer, Image of kadai_paneer, Picture of kadai_paneer, kulfi, Image of kulfi, Picture of kulfi, masala_dosa, Image of masala_dosa, Picture of masala_dosa, momos, Image of momos, Picture of momos, omelette, Image of omelette, Picture of omelette, paani_puri, Image of paani_puri, Picture of paani_puri, pakode, Image of pakode, Picture of pakode, pav_bhaji, Image of pav_bhaji, Picture of pav_bhaji, pizza, Image of pizza, Picture of pizza, samosa, Image of samosa, Picture of samosa, sushi, Image of sushi, Picture of sushi\n",
    "\n",
    "dict_size(f102)\n",
    "print(aOcheck_accuracy(\"food34/f102.csv\", f102))\n"
   ]
  },
  {
   "cell_type": "code",
   "execution_count": 118,
   "metadata": {},
   "outputs": [
    {
     "name": "stdout",
     "output_type": "stream",
     "text": [
      "136\n",
      "82.29\n",
      "82.29\n"
     ]
    }
   ],
   "source": [
    "f136 = {\n",
    "    \"Baked Potato\": [\"Baked Potato\", \"Image of Baked Potato\", \"Picture of Baked Potato\", \"Baked Potatoes\"],\n",
    "    \"Crispy Chicken\": [\"Crispy Chicken\", \"Image of Crispy Chicken\", \"Picture of Crispy Chicken\", \"Crispy Chickens\"],\n",
    "    \"Donut\": [\"Donut\", \"Image of Donut\", \"Picture of Donut\", \"Donuts\"],\n",
    "    \"Fries\": [\"Fries\", \"Image of Fries\", \"Picture of Fries\", \"Fries\"],\n",
    "    \"Hot Dog\": [\"Hot Dog\", \"Image of Hot Dog\", \"Picture of Hot Dog\", \"Hot Dogs\"],\n",
    "    \"Sandwich\": [\"Sandwich\", \"Image of Sandwich\", \"Picture of Sandwich\", \"Sandwiches\"],\n",
    "    \"Taco\": [\"Taco\", \"Image of Taco\", \"Picture of Taco\", \"Tacos\"],\n",
    "    \"Taquito\": [\"Taquito\", \"Image of Taquito\", \"Picture of Taquito\", \"Taquitos\"],\n",
    "    \"apple_pie\": [\"apple_pie\", \"Image of apple_pie\", \"Picture of apple_pie\", \"apple_pies\"],\n",
    "    \"burger\": [\"burger\", \"Image of burger\", \"Picture of burger\", \"burgers\"],\n",
    "    \"butter_naan\": [\"butter_naan\", \"Image of butter_naan\", \"Picture of butter_naan\", \"butter_naans\"],\n",
    "    \"chai\": [\"chai\", \"Image of chai\", \"Picture of chai\", \"chai\"],\n",
    "    \"chapati\": [\"chapati\", \"Image of chapati\", \"Picture of chapati\", \"chapatis\"],\n",
    "    \"cheesecake\": [\"cheesecake\", \"Image of cheesecake\", \"Picture of cheesecake\", \"cheesecakes\"],\n",
    "    \"chicken_curry\": [\"chicken_curry\", \"Image of chicken_curry\", \"Picture of chicken_curry\", \"chicken_curries\"],\n",
    "    \"chole_bhature\": [\"chole_bhature\", \"Image of chole_bhature\", \"Picture of chole_bhature\", \"chole_bhatures\"],\n",
    "    \"dal_makhani\": [\"dal_makhani\", \"Image of dal_makhani\", \"Picture of dal_makhani\", \"dal_makhanis\"],\n",
    "    \"dhokla\": [\"dhokla\", \"Image of dhokla\", \"Picture of dhokla\", \"dhoklas\"],\n",
    "    \"fried_rice\": [\"fried_rice\", \"Image of fried_rice\", \"Picture of fried_rice\", \"fried_rices\"],\n",
    "    \"ice_cream\": [\"ice_cream\", \"Image of ice_cream\", \"Picture of ice_cream\", \"ice_creams\"],\n",
    "    \"idli\": [\"idli\", \"Image of idli\", \"Picture of idli\", \"idlis\"],\n",
    "    \"jalebi\": [\"jalebi\", \"Image of jalebi\", \"Picture of jalebi\", \"jalebis\"],\n",
    "    \"kaathi_rolls\": [\"kaathi_rolls\", \"Image of kaathi_rolls\", \"Picture of kaathi_rolls\", \"kaathi_rolls\"],\n",
    "    \"kadai_paneer\": [\"kadai_paneer\", \"Image of kadai_paneer\", \"Picture of kadai_paneer\", \"kadai_paneers\"],\n",
    "    \"kulfi\": [\"kulfi\", \"Image of kulfi\", \"Picture of kulfi\", \"kulfis\"],\n",
    "    \"masala_dosa\": [\"masala_dosa\", \"Image of masala_dosa\", \"Picture of masala_dosa\", \"masala_dosas\"],\n",
    "    \"momos\": [\"momos\", \"Image of momos\", \"Picture of momos\", \"momos\"],\n",
    "    \"omelette\": [\"omelette\", \"Image of omelette\", \"Picture of omelette\", \"omelettes\"],\n",
    "    \"paani_puri\": [\"paani_puri\", \"Image of paani_puri\", \"Picture of paani_puri\", \"paani_puris\"],\n",
    "    \"pakode\": [\"pakode\", \"Image of pakode\", \"Picture of pakode\", \"pakodes\"],\n",
    "    \"pav_bhaji\": [\"pav_bhaji\", \"Image of pav_bhaji\", \"Picture of pav_bhaji\", \"pav_bhajis\"],\n",
    "    \"pizza\": [\"pizza\", \"Image of pizza\", \"Picture of pizza\", \"pizzas\"],\n",
    "    \"samosa\": [\"samosa\", \"Image of samosa\", \"Picture of samosa\", \"samosas\"],\n",
    "    \"sushi\": [\"sushi\", \"Image of sushi\", \"Picture of sushi\", \"sushis\"]\n",
    "}\n",
    "\n",
    "# Baked Potato, Image of Baked Potato, Picture of Baked Potato, Baked Potatoes, Crispy Chicken, Image of Crispy Chicken, Picture of Crispy Chicken, Crispy Chickens, Donut, Image of Donut, Picture of Donut, Donuts, Fries, Image of Fries, Picture of Fries, Fries, Hot Dog, Image of Hot Dog, Picture of Hot Dog, Hot Dogs, Sandwich, Image of Sandwich, Picture of Sandwich, Sandwiches, Taco, Image of Taco, Picture of Taco, Tacos, Taquito, Image of Taquito, Picture of Taquito, Taquitos, apple_pie, Image of apple_pie, Picture of apple_pie, apple_pies, burger, Image of burger, Picture of burger, burgers, butter_naan, Image of butter_naan, Picture of butter_naan, butter_naans, chai, Image of chai, Picture of chai, chai, chapati, Image of chapati, Picture of chapati, chapatis, cheesecake, Image of cheesecake, Picture of cheesecake, cheesecakes, chicken_curry, Image of chicken_curry, Picture of chicken_curry, chicken_curries, chole_bhature, Image of chole_bhature, Picture of chole_bhature, chole_bhatures, dal_makhani, Image of dal_makhani, Picture of dal_makhani, dal_makhanis, dhokla, Image of dhokla, Picture of dhokla, dhoklas, fried_rice, Image of fried_rice, Picture of fried_rice, fried_rices, ice_cream, Image of ice_cream, Picture of ice_cream, ice_creams, idli, Image of idli, Picture of idli, idlis, jalebi, Image of jalebi, Picture of jalebi, jalebis, kaathi_rolls, Image of kaathi_rolls, Picture of kaathi_rolls, kaathi_rolls, kadai_paneer, Image of kadai_paneer, Picture of kadai_paneer, kadai_paneers, kulfi, Image of kulfi, Picture of kulfi, kulfis, masala_dosa, Image of masala_dosa, Picture of masala_dosa, masala_dosas, momos, Image of momos, Picture of momos, momos, omelette, Image of omelette, Picture of omelette, omelettes, paani_puri, Image of paani_puri, Picture of paani_puri, paani_puris, pakode, Image of pakode, Picture of pakode, pakodes, pav_bhaji, Image of pav_bhaji, Picture of pav_bhaji, pav_bhajis, pizza, Image of pizza, Picture of pizza, pizzas, samosa, Image of samosa, Picture of samosa, samosas, sushi, Image of sushi, Picture of sushi, sushis\n",
    "\n",
    "dict_size(f136)\n",
    "print(aOcheck_accuracy(\"food34/f136.csv\", f136))\n"
   ]
  },
  {
   "cell_type": "code",
   "execution_count": 119,
   "metadata": {},
   "outputs": [
    {
     "name": "stdout",
     "output_type": "stream",
     "text": [
      "170\n",
      "82.47\n",
      "82.47\n"
     ]
    }
   ],
   "source": [
    "f170 = {\n",
    "    \"Baked Potato\": [\"Baked Potato\", \"Image of Baked Potato\", \"Picture of Baked Potato\", \"Baked Potatoes\", \"Image of Baked Potatoes\"],\n",
    "    \"Crispy Chicken\": [\"Crispy Chicken\", \"Image of Crispy Chicken\", \"Picture of Crispy Chicken\", \"Crispy Chickens\", \"Image of Crispy Chickens\"],\n",
    "    \"Donut\": [\"Donut\", \"Image of Donut\", \"Picture of Donut\", \"Donuts\", \"Image of Donuts\"],\n",
    "    \"Fries\": [\"Fries\", \"Image of Fries\", \"Picture of Fries\", \"Fries\", \"Image of Fries\"],\n",
    "    \"Hot Dog\": [\"Hot Dog\", \"Image of Hot Dog\", \"Picture of Hot Dog\", \"Hot Dogs\", \"Image of Hot Dogs\"],\n",
    "    \"Sandwich\": [\"Sandwich\", \"Image of Sandwich\", \"Picture of Sandwich\", \"Sandwiches\", \"Image of Sandwiches\"],\n",
    "    \"Taco\": [\"Taco\", \"Image of Taco\", \"Picture of Taco\", \"Tacos\", \"Image of Tacos\"],\n",
    "    \"Taquito\": [\"Taquito\", \"Image of Taquito\", \"Picture of Taquito\", \"Taquitos\", \"Image of Taquitos\"],\n",
    "    \"apple_pie\": [\"apple_pie\", \"Image of apple_pie\", \"Picture of apple_pie\", \"apple_pies\", \"Image of apple_pies\"],\n",
    "    \"burger\": [\"burger\", \"Image of burger\", \"Picture of burger\", \"burgers\", \"Image of burgers\"],\n",
    "    \"butter_naan\": [\"butter_naan\", \"Image of butter_naan\", \"Picture of butter_naan\", \"butter_naans\", \"Image of butter_naans\"],\n",
    "    \"chai\": [\"chai\", \"Image of chai\", \"Picture of chai\", \"chai\", \"Image of chai\"],\n",
    "    \"chapati\": [\"chapati\", \"Image of chapati\", \"Picture of chapati\", \"chapatis\", \"Image of chapatis\"],\n",
    "    \"cheesecake\": [\"cheesecake\", \"Image of cheesecake\", \"Picture of cheesecake\", \"cheesecakes\", \"Image of cheesecakes\"],\n",
    "    \"chicken_curry\": [\"chicken_curry\", \"Image of chicken_curry\", \"Picture of chicken_curry\", \"chicken_curries\", \"Image of chicken_curries\"],\n",
    "    \"chole_bhature\": [\"chole_bhature\", \"Image of chole_bhature\", \"Picture of chole_bhature\", \"chole_bhatures\", \"Image of chole_bhatures\"],\n",
    "    \"dal_makhani\": [\"dal_makhani\", \"Image of dal_makhani\", \"Picture of dal_makhani\", \"dal_makhanis\", \"Image of dal_makhanis\"],\n",
    "    \"dhokla\": [\"dhokla\", \"Image of dhokla\", \"Picture of dhokla\", \"dhoklas\", \"Image of dhoklas\"],\n",
    "    \"fried_rice\": [\"fried_rice\", \"Image of fried_rice\", \"Picture of fried_rice\", \"fried_rices\", \"Image of fried_rices\"],\n",
    "    \"ice_cream\": [\"ice_cream\", \"Image of ice_cream\", \"Picture of ice_cream\", \"ice_creams\", \"Image of ice_creams\"],\n",
    "    \"idli\": [\"idli\", \"Image of idli\", \"Picture of idli\", \"idlis\", \"Image of idlis\"],\n",
    "    \"jalebi\": [\"jalebi\", \"Image of jalebi\", \"Picture of jalebi\", \"jalebis\", \"Image of jalebis\"],\n",
    "    \"kaathi_rolls\": [\"kaathi_rolls\", \"Image of kaathi_rolls\", \"Picture of kaathi_rolls\", \"kaathi_rolls\", \"Image of kaathi_rolls\"],\n",
    "    \"kadai_paneer\": [\"kadai_paneer\", \"Image of kadai_paneer\", \"Picture of kadai_paneer\", \"kadai_paneers\", \"Image of kadai_paneers\"],\n",
    "    \"kulfi\": [\"kulfi\", \"Image of kulfi\", \"Picture of kulfi\", \"kulfis\", \"Image of kulfis\"],\n",
    "    \"masala_dosa\": [\"masala_dosa\", \"Image of masala_dosa\", \"Picture of masala_dosa\", \"masala_dosas\", \"Image of masala_dosas\"],\n",
    "    \"momos\": [\"momos\", \"Image of momos\", \"Picture of momos\", \"momos\", \"Image of momos\"],\n",
    "    \"omelette\": [\"omelette\", \"Image of omelette\", \"Picture of omelette\", \"omelettes\", \"Image of omelettes\"],\n",
    "    \"paani_puri\": [\"paani_puri\", \"Image of paani_puri\", \"Picture of paani_puri\", \"paani_puris\", \"Image of paani_puris\"],\n",
    "    \"pakode\": [\"pakode\", \"Image of pakode\", \"Picture of pakode\", \"pakodes\", \"Image of pakodes\"],\n",
    "    \"pav_bhaji\": [\"pav_bhaji\", \"Image of pav_bhaji\", \"Picture of pav_bhaji\", \"pav_bhajis\", \"Image of pav_bhajis\"],\n",
    "    \"pizza\": [\"pizza\", \"Image of pizza\", \"Picture of pizza\", \"pizzas\", \"Image of pizzas\"],\n",
    "    \"samosa\": [\"samosa\", \"Image of samosa\", \"Picture of samosa\", \"samosas\", \"Image of samosas\"],\n",
    "    \"sushi\": [\"sushi\", \"Image of sushi\", \"Picture of sushi\", \"sushis\", \"Image of sushis\"]\n",
    "}\n",
    "\n",
    "# Baked Potato, Image of Baked Potato, Picture of Baked Potato, Baked Potatoes, Image of Baked Potatoes, Crispy Chicken, Image of Crispy Chicken, Picture of Crispy Chicken, Crispy Chickens, Image of Crispy Chickens, Donut, Image of Donut, Picture of Donut, Donuts, Image of Donuts, Fries, Image of Fries, Picture of Fries, Fries, Image of Fries, Hot Dog, Image of Hot Dog, Picture of Hot Dog, Hot Dogs, Image of Hot Dogs, Sandwich, Image of Sandwich, Picture of Sandwich, Sandwiches, Image of Sandwiches, Taco, Image of Taco, Picture of Taco, Tacos, Image of Tacos, Taquito, Image of Taquito, Picture of Taquito, Taquitos, Image of Taquitos, apple_pie, Image of apple_pie, Picture of apple_pie, apple_pies, Image of apple_pies, burger, Image of burger, Picture of burger, burgers, Image of burgers, butter_naan, Image of butter_naan, Picture of butter_naan, butter_naans, Image of butter_naans, chai, Image of chai, Picture of chai, chai, Image of chai, chapati, Image of chapati, Picture of chapati, chapatis, Image of chapatis, cheesecake, Image of cheesecake, Picture of cheesecake, cheesecakes, Image of cheesecakes, chicken_curry, Image of chicken_curry, Picture of chicken_curry, chicken_curries, Image of chicken_curries, chole_bhature, Image of chole_bhature, Picture of chole_bhature, chole_bhatures, Image of chole_bhatures, dal_makhani, Image of dal_makhani, Picture of dal_makhani, dal_makhanis, Image of dal_makhanis, dhokla, Image of dhokla, Picture of dhokla, dhoklas, Image of dhoklas, fried_rice, Image of fried_rice, Picture of fried_rice, fried_rices, Image of fried_rices, ice_cream, Image of ice_cream, Picture of ice_cream, ice_creams, Image of ice_creams, idli, Image of idli, Picture of idli, idlis, Image of idlis, jalebi, Image of jalebi, Picture of jalebi, jalebis, Image of jalebis, kaathi_rolls, Image of kaathi_rolls, Picture of kaathi_rolls, kaathi_rolls, Image of kaathi_rolls, kadai_paneer, Image of kadai_paneer, Picture of kadai_paneer, kadai_paneers, Image of kadai_paneers, kulfi, Image of kulfi, Picture of kulfi, kulfis, Image of kulfis, masala_dosa, Image of masala_dosa, Picture of masala_dosa, masala_dosas, Image of masala_dosas, momos, Image of momos, Picture of momos, momos, Image of momos, omelette, Image of omelette, Picture of omelette, omelettes, Image of omelettes, paani_puri, Image of paani_puri, Picture of paani_puri, paani_puris, Image of paani_puris, pakode, Image of pakode, Picture of pakode, pakodes, Image of pakodes, pav_bhaji, Image of pav_bhaji, Picture of pav_bhaji, pav_bhajis, Image of pav_bhajis, pizza, Image of pizza, Picture of pizza, pizzas, Image of pizzas, samosa, Image of samosa, Picture of samosa, samosas, Image of samosas, sushi, Image of sushi, Picture of sushi, sushis, Image of sushis\n",
    "dict_size(f170)\n",
    "print(aOcheck_accuracy(\"food34/f170.csv\", f170))\n"
   ]
  },
  {
   "cell_type": "code",
   "execution_count": 120,
   "metadata": {},
   "outputs": [
    {
     "name": "stdout",
     "output_type": "stream",
     "text": [
      "204\n",
      "82.06\n",
      "82.06\n"
     ]
    }
   ],
   "source": [
    "f204 = {\n",
    "    \"Baked Potato\": [\"Baked Potato\", \"Image of Baked Potato\", \"Picture of Baked Potato\", \"Baked Potatoes\", \"Image of Baked Potatoes\", \"Picture of Baked Potatoes\"],\n",
    "    \"Crispy Chicken\": [\"Crispy Chicken\", \"Image of Crispy Chicken\", \"Picture of Crispy Chicken\", \"Crispy Chickens\", \"Image of Crispy Chickens\", \"Picture of Crispy Chickens\"],\n",
    "    \"Donut\": [\"Donut\", \"Image of Donut\", \"Picture of Donut\", \"Donuts\", \"Image of Donuts\", \"Picture of Donuts\"],\n",
    "    \"Fries\": [\"Fries\", \"Image of Fries\", \"Picture of Fries\", \"Fries\", \"Image of Fries\", \"Picture of Fries\"],\n",
    "    \"Hot Dog\": [\"Hot Dog\", \"Image of Hot Dog\", \"Picture of Hot Dog\", \"Hot Dogs\", \"Image of Hot Dogs\", \"Picture of Hot Dogs\"],\n",
    "    \"Sandwich\": [\"Sandwich\", \"Image of Sandwich\", \"Picture of Sandwich\", \"Sandwiches\", \"Image of Sandwiches\", \"Picture of Sandwiches\"],\n",
    "    \"Taco\": [\"Taco\", \"Image of Taco\", \"Picture of Taco\", \"Tacos\", \"Image of Tacos\", \"Picture of Tacos\"],\n",
    "    \"Taquito\": [\"Taquito\", \"Image of Taquito\", \"Picture of Taquito\", \"Taquitos\", \"Image of Taquitos\", \"Picture of Taquitos\"],\n",
    "    \"apple_pie\": [\"apple_pie\", \"Image of apple_pie\", \"Picture of apple_pie\", \"apple_pies\", \"Image of apple_pies\", \"Picture of apple_pies\"],\n",
    "    \"burger\": [\"burger\", \"Image of burger\", \"Picture of burger\", \"burgers\", \"Image of burgers\", \"Picture of burgers\"],\n",
    "    \"butter_naan\": [\"butter_naan\", \"Image of butter_naan\", \"Picture of butter_naan\", \"butter_naans\", \"Image of butter_naans\", \"Picture of butter_naans\"],\n",
    "    \"chai\": [\"chai\", \"Image of chai\", \"Picture of chai\", \"chai\", \"Image of chai\", \"Picture of chai\"],\n",
    "    \"chapati\": [\"chapati\", \"Image of chapati\", \"Picture of chapati\", \"chapatis\", \"Image of chapatis\", \"Picture of chapatis\"],\n",
    "    \"cheesecake\": [\"cheesecake\", \"Image of cheesecake\", \"Picture of cheesecake\", \"cheesecakes\", \"Image of cheesecakes\", \"Picture of cheesecakes\"],\n",
    "    \"chicken_curry\": [\"chicken_curry\", \"Image of chicken_curry\", \"Picture of chicken_curry\", \"chicken_curries\", \"Image of chicken_curries\", \"Picture of chicken_curries\"],\n",
    "    \"chole_bhature\": [\"chole_bhature\", \"Image of chole_bhature\", \"Picture of chole_bhature\", \"chole_bhatures\", \"Image of chole_bhatures\", \"Picture of chole_bhatures\"],\n",
    "    \"dal_makhani\": [\"dal_makhani\", \"Image of dal_makhani\", \"Picture of dal_makhani\", \"dal_makhanis\", \"Image of dal_makhanis\", \"Picture of dal_makhanis\"],\n",
    "    \"dhokla\": [\"dhokla\", \"Image of dhokla\", \"Picture of dhokla\", \"dhoklas\", \"Image of dhoklas\", \"Picture of dhoklas\"],\n",
    "    \"fried_rice\": [\"fried_rice\", \"Image of fried_rice\", \"Picture of fried_rice\", \"fried_rices\", \"Image of fried_rices\", \"Picture of fried_rices\"],\n",
    "    \"ice_cream\": [\"ice_cream\", \"Image of ice_cream\", \"Picture of ice_cream\", \"ice_creams\", \"Image of ice_creams\", \"Picture of ice_creams\"],\n",
    "    \"idli\": [\"idli\", \"Image of idli\", \"Picture of idli\", \"idlis\", \"Image of idlis\", \"Picture of idlis\"],\n",
    "    \"jalebi\": [\"jalebi\", \"Image of jalebi\", \"Picture of jalebi\", \"jalebis\", \"Image of jalebis\", \"Picture of jalebis\"],\n",
    "    \"kaathi_rolls\": [\"kaathi_rolls\", \"Image of kaathi_rolls\", \"Picture of kaathi_rolls\", \"kaathi_rolls\", \"Image of kaathi_rolls\", \"Picture of kaathi_rolls\"],\n",
    "    \"kadai_paneer\": [\"kadai_paneer\", \"Image of kadai_paneer\", \"Picture of kadai_paneer\", \"kadai_paneers\", \"Image of kadai_paneers\", \"Picture of kadai_paneers\"],\n",
    "    \"kulfi\": [\"kulfi\", \"Image of kulfi\", \"Picture of kulfi\", \"kulfis\", \"Image of kulfis\", \"Picture of kulfis\"],\n",
    "    \"masala_dosa\": [\"masala_dosa\", \"Image of masala_dosa\", \"Picture of masala_dosa\", \"masala_dosas\", \"Image of masala_dosas\", \"Picture of masala_dosas\"],\n",
    "    \"momos\": [\"momos\", \"Image of momos\", \"Picture of momos\", \"momos\", \"Image of momos\", \"Picture of momos\"],\n",
    "    \"omelette\": [\"omelette\", \"Image of omelette\", \"Picture of omelette\", \"omelettes\", \"Image of omelettes\", \"Picture of omelettes\"],\n",
    "    \"paani_puri\": [\"paani_puri\", \"Image of paani_puri\", \"Picture of paani_puri\", \"paani_puris\", \"Image of paani_puris\", \"Picture of paani_puris\"],\n",
    "    \"pakode\": [\"pakode\", \"Image of pakode\", \"Picture of pakode\", \"pakodes\", \"Image of pakodes\", \"Picture of pakodes\"],\n",
    "    \"pav_bhaji\": [\"pav_bhaji\", \"Image of pav_bhaji\", \"Picture of pav_bhaji\", \"pav_bhajis\", \"Image of pav_bhajis\", \"Picture of pav_bhajis\"],\n",
    "    \"pizza\": [\"pizza\", \"Image of pizza\", \"Picture of pizza\", \"pizzas\", \"Image of pizzas\", \"Picture of pizzas\"],\n",
    "    \"samosa\": [\"samosa\", \"Image of samosa\", \"Picture of samosa\", \"samosas\", \"Image of samosas\", \"Picture of samosas\"],\n",
    "    \"sushi\": [\"sushi\", \"Image of sushi\", \"Picture of sushi\", \"sushis\", \"Image of sushis\", \"Picture of sushis\"]\n",
    "}\n",
    "\n",
    "# Baked Potato, Image of Baked Potato, Picture of Baked Potato, Baked Potatoes, Image of Baked Potatoes, Picture of Baked Potatoes, Crispy Chicken, Image of Crispy Chicken, Picture of Crispy Chicken, Crispy Chickens, Image of Crispy Chickens, Picture of Crispy Chickens, Donut, Image of Donut, Picture of Donut, Donuts, Image of Donuts, Picture of Donuts, Fries, Image of Fries, Picture of Fries, Fries, Image of Fries, Picture of Fries, Hot Dog, Image of Hot Dog, Picture of Hot Dog, Hot Dogs, Image of Hot Dogs, Picture of Hot Dogs, Sandwich, Image of Sandwich, Picture of Sandwich, Sandwiches, Image of Sandwiches, Picture of Sandwiches, Taco, Image of Taco, Picture of Taco, Tacos, Image of Tacos, Picture of Tacos, Taquito, Image of Taquito, Picture of Taquito, Taquitos, Image of Taquitos, Picture of Taquitos, apple_pie, Image of apple_pie, Picture of apple_pie, apple_pies, Image of apple_pies, Picture of apple_pies, burger, Image of burger, Picture of burger, burgers, Image of burgers, Picture of burgers, butter_naan, Image of butter_naan, Picture of butter_naan, butter_naans, Image of butter_naans, Picture of butter_naans, chai, Image of chai, Picture of chai, chai, Image of chai, Picture of chai, chapati, Image of chapati, Picture of chapati, chapatis, Image of chapatis, Picture of chapatis, cheesecake, Image of cheesecake, Picture of cheesecake, cheesecakes, Image of cheesecakes, Picture of cheesecakes, chicken_curry, Image of chicken_curry, Picture of chicken_curry, chicken_curries, Image of chicken_curries, Picture of chicken_curries, chole_bhature, Image of chole_bhature, Picture of chole_bhature, chole_bhatures, Image of chole_bhatures, Picture of chole_bhatures, dal_makhani, Image of dal_makhani, Picture of dal_makhani, dal_makhanis, Image of dal_makhanis, Picture of dal_makhanis, dhokla, Image of dhokla, Picture of dhokla, dhoklas, Image of dhoklas, Picture of dhoklas, fried_rice, Image of fried_rice, Picture of fried_rice, fried_rices, Image of fried_rices, Picture of fried_rices, ice_cream, Image of ice_cream, Picture of ice_cream, ice_creams, Image of ice_creams, Picture of ice_creams, idli, Image of idli, Picture of idli, idlis, Image of idlis, Picture of idlis, jalebi, Image of jalebi, Picture of jalebi, jalebis, Image of jalebis, Picture of jalebis, kaathi_rolls, Image of kaathi_rolls, Picture of kaathi_rolls, kaathi_rolls, Image of kaathi_rolls, Picture of kaathi_rolls, kadai_paneer, Image of kadai_paneer, Picture of kadai_paneer, kadai_paneers, Image of kadai_paneers, Picture of kadai_paneers, kulfi, Image of kulfi, Picture of kulfi, kulfis, Image of kulfis, Picture of kulfis, masala_dosa, Image of masala_dosa, Picture of masala_dosa, masala_dosas, Image of masala_dosas, Picture of masala_dosas, momos, Image of momos, Picture of momos, momos, Image of momos, Picture of momos, omelette, Image of omelette, Picture of omelette, omelettes, Image of omelettes, Picture of omelettes, paani_puri, Image of paani_puri, Picture of paani_puri, paani_puris, Image of paani_puris, Picture of paani_puris, pakode, Image of pakode, Picture of pakode, pakodes, Image of pakodes, Picture of pakodes, pav_bhaji, Image of pav_bhaji, Picture of pav_bhaji, pav_bhajis, Image of pav_bhajis, Picture of pav_bhajis, pizza, Image of pizza, Picture of pizza, pizzas, Image of pizzas, Picture of pizzas, samosa, Image of samosa, Picture of samosa, samosas, Image of samosas, Picture of samosas, sushi, Image of sushi, Picture of sushi, sushis, Image of sushis, Picture of sushis\n",
    "\n",
    "dict_size(f204)\n",
    "print(aOcheck_accuracy(\"food34/f204.csv\", f204))"
   ]
  },
  {
   "cell_type": "markdown",
   "metadata": {},
   "source": [
    "## Weather11"
   ]
  },
  {
   "cell_type": "code",
   "execution_count": 121,
   "metadata": {},
   "outputs": [
    {
     "name": "stdout",
     "output_type": "stream",
     "text": [
      "11\n",
      "66.71\n",
      "66.71\n"
     ]
    }
   ],
   "source": [
    "w11 = {\n",
    "    \"dew\" : [\"dew\"],\n",
    "    \"fogsmog\" : [\"fogsmog\"],\n",
    "    \"frost\": [\"frost\"],\n",
    "    \"glaze\" : [\"glaze\"],\n",
    "    \"hail\" : [\"hail\"],\n",
    "    \"lightning\" : [\"lightning\"],\n",
    "    \"rain\": [\"rain\"],\n",
    "    \"rainbow\" : [\"rainbow\"],\n",
    "    \"rime\": [\"rime\"],\n",
    "    \"sandstorm\" : [\"sandstorm\"],\n",
    "    \"snow\": [\"snow\"]\n",
    "}\n",
    "\n",
    "# dew, fogsmog, frost, glaze, hail, lightning, rain, rainbow, rime, sandstorm, snow\n",
    "\n",
    "dict_size(w11)\n",
    "print(aOcheck_accuracy(\"weather11/w11.csv\", w11))"
   ]
  },
  {
   "cell_type": "code",
   "execution_count": 122,
   "metadata": {},
   "outputs": [
    {
     "name": "stdout",
     "output_type": "stream",
     "text": [
      "22\n",
      "74.14\n",
      "74.14\n"
     ]
    }
   ],
   "source": [
    "w22 = {\n",
    "    \"dew\": [\"dew\", \"Image of dew\"],\n",
    "    \"fogsmog\": [\"fogsmog\", \"Image of fogsmog\"],\n",
    "    \"frost\": [\"frost\", \"Image of frost\"],\n",
    "    \"glaze\": [\"glaze\", \"Image of glaze\"],\n",
    "    \"hail\": [\"hail\", \"Image of hail\"],\n",
    "    \"lightning\": [\"lightning\", \"Image of lightning\"],\n",
    "    \"rain\": [\"rain\", \"Image of rain\"],\n",
    "    \"rainbow\": [\"rainbow\", \"Image of rainbow\"],\n",
    "    \"rime\": [\"rime\", \"Image of rime\"],\n",
    "    \"sandstorm\": [\"sandstorm\", \"Image of sandstorm\"],\n",
    "    \"snow\": [\"snow\", \"Image of snow\"]\n",
    "}\n",
    "\n",
    "# dew, Image of dew, fogsmog, Image of fogsmog, frost, Image of frost, glaze, Image of glaze, hail, Image of hail, lightning, Image of lightning, rain, Image of rain, rainbow, Image of rainbow, rime, Image of rime, sandstorm, Image of sandstorm, snow, Image of snow\n",
    "\n",
    "dict_size(w22)\n",
    "print(aOcheck_accuracy(\"weather11/w22.csv\", w22))"
   ]
  },
  {
   "cell_type": "code",
   "execution_count": 123,
   "metadata": {},
   "outputs": [
    {
     "name": "stdout",
     "output_type": "stream",
     "text": [
      "33\n",
      "74.11\n",
      "74.11\n"
     ]
    }
   ],
   "source": [
    "w33 = {\n",
    "    \"dew\": [\"dew\", \"Image of dew\", \"Picture of dew\"],\n",
    "    \"fogsmog\": [\"fogsmog\", \"Image of fogsmog\", \"Picture of fogsmog\"],\n",
    "    \"frost\": [\"frost\", \"Image of frost\", \"Picture of frost\"],\n",
    "    \"glaze\": [\"glaze\", \"Image of glaze\", \"Picture of glaze\"],\n",
    "    \"hail\": [\"hail\", \"Image of hail\", \"Picture of hail\"],\n",
    "    \"lightning\": [\"lightning\", \"Image of lightning\", \"Picture of lightning\"],\n",
    "    \"rain\": [\"rain\", \"Image of rain\", \"Picture of rain\"],\n",
    "    \"rainbow\": [\"rainbow\", \"Image of rainbow\", \"Picture of rainbow\"],\n",
    "    \"rime\": [\"rime\", \"Image of rime\", \"Picture of rime\"],\n",
    "    \"sandstorm\": [\"sandstorm\", \"Image of sandstorm\", \"Picture of sandstorm\"],\n",
    "    \"snow\": [\"snow\", \"Image of snow\", \"Picture of snow\"]\n",
    "}\n",
    "\n",
    "# dew, Image of dew, Picture of dew, fogsmog, Image of fogsmog, Picture of fogsmog, frost, Image of frost, Picture of frost, glaze, Image of glaze, Picture of glaze, hail, Image of hail, Picture of hail, lightning, Image of lightning, Picture of lightning, rain, Image of rain, Picture of rain, rainbow, Image of rainbow, Picture of rainbow, rime, Image of rime, Picture of rime, sandstorm, Image of sandstorm, Picture of sandstorm, snow, Image of snow, Picture of snow\n",
    "\n",
    "dict_size(w33)\n",
    "print(aOcheck_accuracy(\"weather11/w33.csv\", w33))"
   ]
  },
  {
   "cell_type": "code",
   "execution_count": 124,
   "metadata": {},
   "outputs": [
    {
     "name": "stdout",
     "output_type": "stream",
     "text": [
      "44\n",
      "74.11\n",
      "74.11\n"
     ]
    }
   ],
   "source": [
    "w44 = {\n",
    "    \"dew\": [\"dew\", \"Image of dew\", \"Picture of dew\", \"Weather dew\"],\n",
    "    \"fogsmog\": [\"fogsmog\", \"Image of fogsmog\", \"Picture of fogsmog\", \"Weather fogsmog\"],\n",
    "    \"frost\": [\"frost\", \"Image of frost\", \"Picture of frost\", \"Weather frost\"],\n",
    "    \"glaze\": [\"glaze\", \"Image of glaze\", \"Picture of glaze\", \"Weather glaze\"],\n",
    "    \"hail\": [\"hail\", \"Image of hail\", \"Picture of hail\", \"Weather hail\"],\n",
    "    \"lightning\": [\"lightning\", \"Image of lightning\", \"Picture of lightning\", \"Weather lightning\"],\n",
    "    \"rain\": [\"rain\", \"Image of rain\", \"Picture of rain\", \"Weather rain\"],\n",
    "    \"rainbow\": [\"rainbow\", \"Image of rainbow\", \"Picture of rainbow\", \"Weather rainbow\"],\n",
    "    \"rime\": [\"rime\", \"Image of rime\", \"Picture of rime\", \"Weather rime\"],\n",
    "    \"sandstorm\": [\"sandstorm\", \"Image of sandstorm\", \"Picture of sandstorm\", \"Weather sandstorm\"],\n",
    "    \"snow\": [\"snow\", \"Image of snow\", \"Picture of snow\", \"Weather snow\"]\n",
    "}\n",
    "\n",
    "# dew, Image of dew, Picture of dew, Weather dew, fogsmog, Image of fogsmog, Picture of fogsmog, Weather fogsmog, frost, Image of frost, Picture of frost, Weather frost, glaze, Image of glaze, Picture of glaze, Weather glaze, hail, Image of hail, Picture of hail, Weather hail, lightning, Image of lightning, Picture of lightning, Weather lightning, rain, Image of rain, Picture of rain, Weather rain, rainbow, Image of rainbow, Picture of rainbow, Weather rainbow, rime, Image of rime, Picture of rime, Weather rime, sandstorm, Image of sandstorm, Picture of sandstorm, Weather sandstorm, snow, Image of snow, Picture of snow, Weather snow\n",
    "\n",
    "dict_size(w44)\n",
    "print(aOcheck_accuracy(\"weather11/w44.csv\", w44))\n"
   ]
  },
  {
   "cell_type": "code",
   "execution_count": 125,
   "metadata": {},
   "outputs": [
    {
     "name": "stdout",
     "output_type": "stream",
     "text": [
      "55\n",
      "74.21\n",
      "74.21\n"
     ]
    }
   ],
   "source": [
    "w55 = {\n",
    "    \"dew\": [\"dew\", \"Image of dew\", \"Picture of dew\", \"Weather dew\", \"Cool dew\"],\n",
    "    \"fogsmog\": [\"fogsmog\", \"Image of fogsmog\", \"Picture of fogsmog\", \"Weather fogsmog\", \"Cool fogsmog\"],\n",
    "    \"frost\": [\"frost\", \"Image of frost\", \"Picture of frost\", \"Weather frost\", \"Cool frost\"],\n",
    "    \"glaze\": [\"glaze\", \"Image of glaze\", \"Picture of glaze\", \"Weather glaze\", \"Cool glaze\"],\n",
    "    \"hail\": [\"hail\", \"Image of hail\", \"Picture of hail\", \"Weather hail\", \"Cool hail\"],\n",
    "    \"lightning\": [\"lightning\", \"Image of lightning\", \"Picture of lightning\", \"Weather lightning\", \"Cool lightning\"],\n",
    "    \"rain\": [\"rain\", \"Image of rain\", \"Picture of rain\", \"Weather rain\", \"Cool rain\"],\n",
    "    \"rainbow\": [\"rainbow\", \"Image of rainbow\", \"Picture of rainbow\", \"Weather rainbow\", \"Cool rainbow\"],\n",
    "    \"rime\": [\"rime\", \"Image of rime\", \"Picture of rime\", \"Weather rime\", \"Cool rime\"],\n",
    "    \"sandstorm\": [\"sandstorm\", \"Image of sandstorm\", \"Picture of sandstorm\", \"Weather sandstorm\", \"Cool sandstorm\"],\n",
    "    \"snow\": [\"snow\", \"Image of snow\", \"Picture of snow\", \"Weather snow\", \"Cool snow\"]\n",
    "}\n",
    "\n",
    "# dew, Image of dew, Picture of dew, Weather dew, Cool dew, fogsmog, Image of fogsmog, Picture of fogsmog, Weather fogsmog, Cool fogsmog, frost, Image of frost, Picture of frost, Weather frost, Cool frost, glaze, Image of glaze, Picture of glaze, Weather glaze, Cool glaze, hail, Image of hail, Picture of hail, Weather hail, Cool hail, lightning, Image of lightning, Picture of lightning, Weather lightning, Cool lightning, rain, Image of rain, Picture of rain, Weather rain, Cool rain, rainbow, Image of rainbow, Picture of rainbow, Weather rainbow, Cool rainbow, rime, Image of rime, Picture of rime, Weather rime, Cool rime, sandstorm, Image of sandstorm, Picture of sandstorm, Weather sandstorm, Cool sandstorm, snow, Image of snow, Picture of snow, Weather snow, Cool snow\n",
    "\n",
    "dict_size(w55)\n",
    "print(aOcheck_accuracy(\"weather11/w55.csv\", w55))"
   ]
  },
  {
   "cell_type": "code",
   "execution_count": 126,
   "metadata": {},
   "outputs": [
    {
     "name": "stdout",
     "output_type": "stream",
     "text": [
      "66\n",
      "74.21\n",
      "74.21\n"
     ]
    }
   ],
   "source": [
    "w66 = {\n",
    "    \"dew\": [\"dew\", \"Image of dew\", \"Picture of dew\", \"Weather dew\", \"Cool dew\", \"Detailed dew\"],\n",
    "    \"fogsmog\": [\"fogsmog\", \"Image of fogsmog\", \"Picture of fogsmog\", \"Weather fogsmog\", \"Cool fogsmog\", \"Detailed fogsmog\"],\n",
    "    \"frost\": [\"frost\", \"Image of frost\", \"Picture of frost\", \"Weather frost\", \"Cool frost\", \"Detailed frost\"],\n",
    "    \"glaze\": [\"glaze\", \"Image of glaze\", \"Picture of glaze\", \"Weather glaze\", \"Cool glaze\", \"Detailed glaze\"],\n",
    "    \"hail\": [\"hail\", \"Image of hail\", \"Picture of hail\", \"Weather hail\", \"Cool hail\", \"Detailed hail\"],\n",
    "    \"lightning\": [\"lightning\", \"Image of lightning\", \"Picture of lightning\", \"Weather lightning\", \"Cool lightning\", \"Detailed lightning\"],\n",
    "    \"rain\": [\"rain\", \"Image of rain\", \"Picture of rain\", \"Weather rain\", \"Cool rain\", \"Detailed rain\"],\n",
    "    \"rainbow\": [\"rainbow\", \"Image of rainbow\", \"Picture of rainbow\", \"Weather rainbow\", \"Cool rainbow\", \"Detailed rainbow\"],\n",
    "    \"rime\": [\"rime\", \"Image of rime\", \"Picture of rime\", \"Weather rime\", \"Cool rime\", \"Detailed rime\"],\n",
    "    \"sandstorm\": [\"sandstorm\", \"Image of sandstorm\", \"Picture of sandstorm\", \"Weather sandstorm\", \"Cool sandstorm\", \"Detailed sandstorm\"],\n",
    "    \"snow\": [\"snow\", \"Image of snow\", \"Picture of snow\", \"Weather snow\", \"Cool snow\", \"Detailed snow\"]\n",
    "}\n",
    "\n",
    "# dew, Image of dew, Picture of dew, Weather dew, Cool dew, Detailed dew, fogsmog, Image of fogsmog, Picture of fogsmog, Weather fogsmog, Cool fogsmog, Detailed fogsmog, frost, Image of frost, Picture of frost, Weather frost, Cool frost, Detailed frost, glaze, Image of glaze, Picture of glaze, Weather glaze, Cool glaze, Detailed glaze, hail, Image of hail, Picture of hail, Weather hail, Cool hail, Detailed hail, lightning, Image of lightning, Picture of lightning, Weather lightning, Cool lightning, Detailed lightning, rain, Image of rain, Picture of rain, Weather rain, Cool rain, Detailed rain, rainbow, Image of rainbow, Picture of rainbow, Weather rainbow, Cool rainbow, Detailed rainbow, rime, Image of rime, Picture of rime, Weather rime, Cool rime, Detailed rime, sandstorm, Image of sandstorm, Picture of sandstorm, Weather sandstorm, Cool sandstorm, Detailed sandstorm, snow, Image of snow, Picture of snow, Weather snow, Cool snow, Detailed snow\n",
    "\n",
    "dict_size(w66)\n",
    "print(aOcheck_accuracy(\"weather11/w66.csv\", w66))"
   ]
  },
  {
   "cell_type": "code",
   "execution_count": 127,
   "metadata": {},
   "outputs": [
    {
     "name": "stdout",
     "output_type": "stream",
     "text": [
      "77\n",
      "74.17\n",
      "74.17\n"
     ]
    }
   ],
   "source": [
    "w77 = {\n",
    "    \"dew\": [\"dew\", \"Image of dew\", \"Picture of dew\", \"Weather dew\", \"Cool dew\", \"Detailed dew\", \"Pretty dew\"],\n",
    "    \"fogsmog\": [\"fogsmog\", \"Image of fogsmog\", \"Picture of fogsmog\", \"Weather fogsmog\", \"Cool fogsmog\", \"Detailed fogsmog\", \"Pretty fogsmog\"],\n",
    "    \"frost\": [\"frost\", \"Image of frost\", \"Picture of frost\", \"Weather frost\", \"Cool frost\", \"Detailed frost\", \"Pretty frost\"],\n",
    "    \"glaze\": [\"glaze\", \"Image of glaze\", \"Picture of glaze\", \"Weather glaze\", \"Cool glaze\", \"Detailed glaze\", \"Pretty glaze\"],\n",
    "    \"hail\": [\"hail\", \"Image of hail\", \"Picture of hail\", \"Weather hail\", \"Cool hail\", \"Detailed hail\", \"Pretty hail\"],\n",
    "    \"lightning\": [\"lightning\", \"Image of lightning\", \"Picture of lightning\", \"Weather lightning\", \"Cool lightning\", \"Detailed lightning\", \"Pretty lightning\"],\n",
    "    \"rain\": [\"rain\", \"Image of rain\", \"Picture of rain\", \"Weather rain\", \"Cool rain\", \"Detailed rain\", \"Pretty rain\"],\n",
    "    \"rainbow\": [\"rainbow\", \"Image of rainbow\", \"Picture of rainbow\", \"Weather rainbow\", \"Cool rainbow\", \"Detailed rainbow\", \"Pretty rainbow\"],\n",
    "    \"rime\": [\"rime\", \"Image of rime\", \"Picture of rime\", \"Weather rime\", \"Cool rime\", \"Detailed rime\", \"Pretty rime\"],\n",
    "    \"sandstorm\": [\"sandstorm\", \"Image of sandstorm\", \"Picture of sandstorm\", \"Weather sandstorm\", \"Cool sandstorm\", \"Detailed sandstorm\", \"Pretty sandstorm\"],\n",
    "    \"snow\": [\"snow\", \"Image of snow\", \"Picture of snow\", \"Weather snow\", \"Cool snow\", \"Detailed snow\", \"Pretty snow\"]\n",
    "}\n",
    "\n",
    "# dew, Image of dew, Picture of dew, Weather dew, Cool dew, Detailed dew, Pretty dew, fogsmog, Image of fogsmog, Picture of fogsmog, Weather fogsmog, Cool fogsmog, Detailed fogsmog, Pretty fogsmog, frost, Image of frost, Picture of frost, Weather frost, Cool frost, Detailed frost, Pretty frost, glaze, Image of glaze, Picture of glaze, Weather glaze, Cool glaze, Detailed glaze, Pretty glaze, hail, Image of hail, Picture of hail, Weather hail, Cool hail, Detailed hail, Pretty hail, lightning, Image of lightning, Picture of lightning, Weather lightning, Cool lightning, Detailed lightning, Pretty lightning, rain, Image of rain, Picture of rain, Weather rain, Cool rain, Detailed rain, Pretty rain, rainbow, Image of rainbow, Picture of rainbow, Weather rainbow, Cool rainbow, Detailed rainbow, Pretty rainbow, rime, Image of rime, Picture of rime, Weather rime, Cool rime, Detailed rime, Pretty rime, sandstorm, Image of sandstorm, Picture of sandstorm, Weather sandstorm, Cool sandstorm, Detailed sandstorm, Pretty sandstorm, snow, Image of snow, Picture of snow, Weather snow, Cool snow, Detailed snow, Pretty snow\n",
    "\n",
    "dict_size(w77)\n",
    "print(aOcheck_accuracy(\"weather11/w77.csv\", w77))"
   ]
  },
  {
   "cell_type": "markdown",
   "metadata": {},
   "source": [
    "## Sports 15"
   ]
  },
  {
   "cell_type": "code",
   "execution_count": 128,
   "metadata": {},
   "outputs": [
    {
     "name": "stdout",
     "output_type": "stream",
     "text": [
      "2.19\n",
      "2.19\n"
     ]
    }
   ],
   "source": [
    "s15 = {\"american_football\" : [\"american_football\"],\n",
    "       \"baseball\" : [\"baseball\"],\n",
    "       \"basketball\" : [\"basketball\"],\n",
    "       \"billiard_ball\" : [\"billiard_ball\"],\n",
    "       \"bowling_ball\" : [\"bowling_ball\"],\n",
    "       \"cricket_ball\" : [\"cricket_ball\"],\n",
    "       \"football\" : [\"football\"],\n",
    "       \"golf_ball\" : [\"golf_ball\"],\n",
    "       \"hockey_ball\" : [\"hockey_ball\"],\n",
    "       \"hockey_puck\" : [\"hockey_puck\"],\n",
    "       \"rugby_ball\" : [\"rugby_ball\"],\n",
    "       \"shuttlecock\" : [\"shuttlecock\"],\n",
    "       \"table_tennis_ball\" : [\"table_tennis_ball\"],\n",
    "       \"tennis_ball\" : [\"tennis_ball\"],\n",
    "       \"volleyball\" : [\"volleyball\"]}\n",
    "\n",
    "# american_football, baseball, basketball, billiard_ball, bowling_ball, cricket_ball, football, golf_ball, hockey_ball, hockey_puck, rugby_ball, shuttlecock, table_tennis_ball, tennis_ball, volleyball\n",
    "\n",
    "# dict_size(s15)\n",
    "print(aOcheck_accuracy(\"sports15/s15.csv\", s15))"
   ]
  },
  {
   "cell_type": "code",
   "execution_count": 129,
   "metadata": {},
   "outputs": [
    {
     "name": "stdout",
     "output_type": "stream",
     "text": [
      "30\n",
      "70.85\n",
      "70.85\n"
     ]
    }
   ],
   "source": [
    "s30 = {\n",
    "    \"american_football\": [\"american_football\", \"Image of american_football\"],\n",
    "    \"baseball\": [\"baseball\", \"Image of baseball\"],\n",
    "    \"basketball\": [\"basketball\", \"Image of basketball\"],\n",
    "    \"billiard_ball\": [\"billiard_ball\", \"Image of billiard_ball\"],\n",
    "    \"bowling_ball\": [\"bowling_ball\", \"Image of bowling_ball\"],\n",
    "    \"cricket_ball\": [\"cricket_ball\", \"Image of cricket_ball\"],\n",
    "    \"football\": [\"football\", \"Image of football\"],\n",
    "    \"golf_ball\": [\"golf_ball\", \"Image of golf_ball\"],\n",
    "    \"hockey_ball\": [\"hockey_ball\", \"Image of hockey_ball\"],\n",
    "    \"hockey_puck\": [\"hockey_puck\", \"Image of hockey_puck\"],\n",
    "    \"rugby_ball\": [\"rugby_ball\", \"Image of rugby_ball\"],\n",
    "    \"shuttlecock\": [\"shuttlecock\", \"Image of shuttlecock\"],\n",
    "    \"table_tennis_ball\": [\"table_tennis_ball\", \"Image of table_tennis_ball\"],\n",
    "    \"tennis_ball\": [\"tennis_ball\", \"Image of tennis_ball\"],\n",
    "    \"volleyball\": [\"volleyball\", \"Image of volleyball\"]\n",
    "}\n",
    "\n",
    "# american_football, Image of american_football, baseball, Image of baseball, basketball, Image of basketball, billiard_ball, Image of billiard_ball, bowling_ball, Image of bowling_ball, cricket_ball, Image of cricket_ball, football, Image of football, golf_ball, Image of golf_ball, hockey_ball, Image of hockey_ball, hockey_puck, Image of hockey_puck, rugby_ball, Image of rugby_ball, shuttlecock, Image of shuttlecock, table_tennis_ball, Image of table_tennis_ball, tennis_ball, Image of tennis_ball, volleyball, Image of volleyball\n",
    "\n",
    "dict_size(s30)\n",
    "print(aOcheck_accuracy(\"sports15/s30.csv\", s30))"
   ]
  },
  {
   "cell_type": "code",
   "execution_count": 130,
   "metadata": {},
   "outputs": [
    {
     "name": "stdout",
     "output_type": "stream",
     "text": [
      "45\n",
      "70.61\n",
      "70.61\n"
     ]
    }
   ],
   "source": [
    "s45 = {\n",
    "    \"american_football\": [\"american_football\", \"Image of american_football\", \"Picture of american_football\"],\n",
    "    \"baseball\": [\"baseball\", \"Image of baseball\", \"Picture of baseball\"],\n",
    "    \"basketball\": [\"basketball\", \"Image of basketball\", \"Picture of basketball\"],\n",
    "    \"billiard_ball\": [\"billiard_ball\", \"Image of billiard_ball\", \"Picture of billiard_ball\"],\n",
    "    \"bowling_ball\": [\"bowling_ball\", \"Image of bowling_ball\", \"Picture of bowling_ball\"],\n",
    "    \"cricket_ball\": [\"cricket_ball\", \"Image of cricket_ball\", \"Picture of cricket_ball\"],\n",
    "    \"football\": [\"football\", \"Image of football\", \"Picture of football\"],\n",
    "    \"golf_ball\": [\"golf_ball\", \"Image of golf_ball\", \"Picture of golf_ball\"],\n",
    "    \"hockey_ball\": [\"hockey_ball\", \"Image of hockey_ball\", \"Picture of hockey_ball\"],\n",
    "    \"hockey_puck\": [\"hockey_puck\", \"Image of hockey_puck\", \"Picture of hockey_puck\"],\n",
    "    \"rugby_ball\": [\"rugby_ball\", \"Image of rugby_ball\", \"Picture of rugby_ball\"],\n",
    "    \"shuttlecock\": [\"shuttlecock\", \"Image of shuttlecock\", \"Picture of shuttlecock\"],\n",
    "    \"table_tennis_ball\": [\"table_tennis_ball\", \"Image of table_tennis_ball\", \"Picture of table_tennis_ball\"],\n",
    "    \"tennis_ball\": [\"tennis_ball\", \"Image of tennis_ball\", \"Picture of tennis_ball\"],\n",
    "    \"volleyball\": [\"volleyball\", \"Image of volleyball\", \"Picture of volleyball\"]\n",
    "}\n",
    "\n",
    "# american_football, Image of american_football, Picture of american_football, baseball, Image of baseball, Picture of baseball, basketball, Image of basketball, Picture of basketball, billiard_ball, Image of billiard_ball, Picture of billiard_ball, bowling_ball, Image of bowling_ball, Picture of bowling_ball, cricket_ball, Image of cricket_ball, Picture of cricket_ball, football, Image of football, Picture of football, golf_ball, Image of golf_ball, Picture of golf_ball, hockey_ball, Image of hockey_ball, Picture of hockey_ball, hockey_puck, Image of hockey_puck, Picture of hockey_puck, rugby_ball, Image of rugby_ball, Picture of rugby_ball, shuttlecock, Image of shuttlecock, Picture of shuttlecock, table_tennis_ball, Image of table_tennis_ball, Picture of table_tennis_ball, tennis_ball, Image of tennis_ball, Picture of tennis_ball, volleyball, Image of volleyball, Picture of volleyball\n",
    "\n",
    "dict_size(s45)\n",
    "print(aOcheck_accuracy(\"sports15/s45.csv\", s45))\n"
   ]
  },
  {
   "cell_type": "code",
   "execution_count": 131,
   "metadata": {},
   "outputs": [
    {
     "name": "stdout",
     "output_type": "stream",
     "text": [
      "60\n",
      "70.91\n",
      "70.91\n"
     ]
    }
   ],
   "source": [
    "s60 = {\n",
    "    \"american_football\": [\"american_football\", \"Image of american_football\", \"Picture of american_football\", \"american_footballs\"],\n",
    "    \"baseball\": [\"baseball\", \"Image of baseball\", \"Picture of baseball\", \"baseballs\"],\n",
    "    \"basketball\": [\"basketball\", \"Image of basketball\", \"Picture of basketball\", \"basketballs\"],\n",
    "    \"billiard_ball\": [\"billiard_ball\", \"Image of billiard_ball\", \"Picture of billiard_ball\", \"billiard_balls\"],\n",
    "    \"bowling_ball\": [\"bowling_ball\", \"Image of bowling_ball\", \"Picture of bowling_ball\", \"bowling_balls\"],\n",
    "    \"cricket_ball\": [\"cricket_ball\", \"Image of cricket_ball\", \"Picture of cricket_ball\", \"cricket_balls\"],\n",
    "    \"football\": [\"football\", \"Image of football\", \"Picture of football\", \"footballs\"],\n",
    "    \"golf_ball\": [\"golf_ball\", \"Image of golf_ball\", \"Picture of golf_ball\", \"golf_balls\"],\n",
    "    \"hockey_ball\": [\"hockey_ball\", \"Image of hockey_ball\", \"Picture of hockey_ball\", \"hockey_balls\"],\n",
    "    \"hockey_puck\": [\"hockey_puck\", \"Image of hockey_puck\", \"Picture of hockey_puck\", \"hockey_pucks\"],\n",
    "    \"rugby_ball\": [\"rugby_ball\", \"Image of rugby_ball\", \"Picture of rugby_ball\", \"rugby_balls\"],\n",
    "    \"shuttlecock\": [\"shuttlecock\", \"Image of shuttlecock\", \"Picture of shuttlecock\", \"shuttlecocks\"],\n",
    "    \"table_tennis_ball\": [\"table_tennis_ball\", \"Image of table_tennis_ball\", \"Picture of table_tennis_ball\", \"table_tennis_balls\"],\n",
    "    \"tennis_ball\": [\"tennis_ball\", \"Image of tennis_ball\", \"Picture of tennis_ball\", \"tennis_balls\"],\n",
    "    \"volleyball\": [\"volleyball\", \"Image of volleyball\", \"Picture of volleyball\", \"volleyballs\"]\n",
    "}\n",
    "\n",
    "# american_football, Image of american_football, Picture of american_football, american_footballs, baseball, Image of baseball, Picture of baseball, baseballs, basketball, Image of basketball, Picture of basketball, basketballs, billiard_ball, Image of billiard_ball, Picture of billiard_ball, billiard_balls, bowling_ball, Image of bowling_ball, Picture of bowling_ball, bowling_balls, cricket_ball, Image of cricket_ball, Picture of cricket_ball, cricket_balls, football, Image of football, Picture of football, footballs, golf_ball, Image of golf_ball, Picture of golf_ball, golf_balls, hockey_ball, Image of hockey_ball, Picture of hockey_ball, hockey_balls, hockey_puck, Image of hockey_puck, Picture of hockey_puck, hockey_pucks, rugby_ball, Image of rugby_ball, Picture of rugby_ball, rugby_balls, shuttlecock, Image of shuttlecock, Picture of shuttlecock, shuttlecocks, table_tennis_ball, Image of table_tennis_ball, Picture of table_tennis_ball, table_tennis_balls, tennis_ball, Image of tennis_ball, Picture of tennis_ball, tennis_balls, volleyball, Image of volleyball, Picture of volleyball, volleyballs\n",
    "\n",
    "dict_size(s60)\n",
    "print(aOcheck_accuracy(\"sports15/s60.csv\", s60))\n"
   ]
  },
  {
   "cell_type": "code",
   "execution_count": 132,
   "metadata": {},
   "outputs": [
    {
     "name": "stdout",
     "output_type": "stream",
     "text": [
      "75\n",
      "70.96\n",
      "70.96\n"
     ]
    }
   ],
   "source": [
    "s75 = {\n",
    "    \"american_football\": [\"american_football\", \"Image of american_football\", \"Picture of american_football\", \"american_footballs\", \"Picture of the american_footballs\"],\n",
    "    \"baseball\": [\"baseball\", \"Image of baseball\", \"Picture of baseball\", \"baseballs\", \"Picture of the baseballs\"],\n",
    "    \"basketball\": [\"basketball\", \"Image of basketball\", \"Picture of basketball\", \"basketballs\", \"Picture of the basketballs\"],\n",
    "    \"billiard_ball\": [\"billiard_ball\", \"Image of billiard_ball\", \"Picture of billiard_ball\", \"billiard_balls\", \"Picture of the billiard_balls\"],\n",
    "    \"bowling_ball\": [\"bowling_ball\", \"Image of bowling_ball\", \"Picture of bowling_ball\", \"bowling_balls\", \"Picture of the bowling_balls\"],\n",
    "    \"cricket_ball\": [\"cricket_ball\", \"Image of cricket_ball\", \"Picture of cricket_ball\", \"cricket_balls\", \"Picture of the cricket_balls\"],\n",
    "    \"football\": [\"football\", \"Image of football\", \"Picture of football\", \"footballs\", \"Picture of the footballs\"],\n",
    "    \"golf_ball\": [\"golf_ball\", \"Image of golf_ball\", \"Picture of golf_ball\", \"golf_balls\", \"Picture of the golf_balls\"],\n",
    "    \"hockey_ball\": [\"hockey_ball\", \"Image of hockey_ball\", \"Picture of hockey_ball\", \"hockey_balls\", \"Picture of the hockey_balls\"],\n",
    "    \"hockey_puck\": [\"hockey_puck\", \"Image of hockey_puck\", \"Picture of hockey_puck\", \"hockey_pucks\", \"Picture of the hockey_pucks\"],\n",
    "    \"rugby_ball\": [\"rugby_ball\", \"Image of rugby_ball\", \"Picture of rugby_ball\", \"rugby_balls\", \"Picture of the rugby_balls\"],\n",
    "    \"shuttlecock\": [\"shuttlecock\", \"Image of shuttlecock\", \"Picture of shuttlecock\", \"shuttlecocks\", \"Picture of the shuttlecocks\"],\n",
    "    \"table_tennis_ball\": [\"table_tennis_ball\", \"Image of table_tennis_ball\", \"Picture of table_tennis_ball\", \"table_tennis_balls\", \"Picture of the table_tennis_balls\"],\n",
    "    \"tennis_ball\": [\"tennis_ball\", \"Image of tennis_ball\", \"Picture of tennis_ball\", \"tennis_balls\", \"Picture of the tennis_balls\"],\n",
    "    \"volleyball\": [\"volleyball\", \"Image of volleyball\", \"Picture of volleyball\", \"volleyballs\", \"Picture of the volleyballs\"]\n",
    "}\n",
    "\n",
    "# american_football, Image of american_football, Picture of american_football, american_footballs, Picture of the american_footballs, baseball, Image of baseball, Picture of baseball, baseballs, Picture of the baseballs, basketball, Image of basketball, Picture of basketball, basketballs, Picture of the basketballs, billiard_ball, Image of billiard_ball, Picture of billiard_ball, billiard_balls, Picture of the billiard_balls, bowling_ball, Image of bowling_ball, Picture of bowling_ball, bowling_balls, Picture of the bowling_balls, cricket_ball, Image of cricket_ball, Picture of cricket_ball, cricket_balls, Picture of the cricket_balls, football, Image of football, Picture of football, footballs, Picture of the footballs, golf_ball, Image of golf_ball, Picture of golf_ball, golf_balls, Picture of the golf_balls, hockey_ball, Image of hockey_ball, Picture of hockey_ball, hockey_balls, Picture of the hockey_balls, hockey_puck, Image of hockey_puck, Picture of hockey_puck, hockey_pucks, Picture of the hockey_pucks, rugby_ball, Image of rugby_ball, Picture of rugby_ball, rugby_balls, Picture of the rugby_balls, shuttlecock, Image of shuttlecock, Picture of shuttlecock, shuttlecocks, Picture of the shuttlecocks, table_tennis_ball, Image of table_tennis_ball, Picture of table_tennis_ball, table_tennis_balls, Picture of the table_tennis_balls, tennis_ball, Image of tennis_ball, Picture of tennis_ball, tennis_balls, Picture of the tennis_balls, volleyball, Image of volleyball, Picture of volleyball, volleyballs, Picture of the volleyballs\n",
    "\n",
    "dict_size(s75)\n",
    "print(aOcheck_accuracy(\"sports15/s75.csv\", s75))\n"
   ]
  },
  {
   "cell_type": "code",
   "execution_count": 133,
   "metadata": {},
   "outputs": [
    {
     "name": "stdout",
     "output_type": "stream",
     "text": [
      "90\n",
      "71.45\n",
      "71.45\n"
     ]
    }
   ],
   "source": [
    "s90 = {\n",
    "    \"american_football\": [\"american_football\", \"Image of american_football\", \"Picture of american_football\", \"american_footballs\", \"Picture of the american_footballs\", \"Image of american_footballs\"],\n",
    "    \"baseball\": [\"baseball\", \"Image of baseball\", \"Picture of baseball\", \"baseballs\", \"Picture of the baseballs\", \"Image of baseballs\"],\n",
    "    \"basketball\": [\"basketball\", \"Image of basketball\", \"Picture of basketball\", \"basketballs\", \"Picture of the basketballs\", \"Image of basketballs\"],\n",
    "    \"billiard_ball\": [\"billiard_ball\", \"Image of billiard_ball\", \"Picture of billiard_ball\", \"billiard_balls\", \"Picture of the billiard_balls\", \"Image of billiard_balls\"],\n",
    "    \"bowling_ball\": [\"bowling_ball\", \"Image of bowling_ball\", \"Picture of bowling_ball\", \"bowling_balls\", \"Picture of the bowling_balls\", \"Image of bowling_balls\"],\n",
    "    \"cricket_ball\": [\"cricket_ball\", \"Image of cricket_ball\", \"Picture of cricket_ball\", \"cricket_balls\", \"Picture of the cricket_balls\", \"Image of cricket_balls\"],\n",
    "    \"football\": [\"football\", \"Image of football\", \"Picture of football\", \"footballs\", \"Picture of the footballs\", \"Image of footballs\"],\n",
    "    \"golf_ball\": [\"golf_ball\", \"Image of golf_ball\", \"Picture of golf_ball\", \"golf_balls\", \"Picture of the golf_balls\", \"Image of golf_balls\"],\n",
    "    \"hockey_ball\": [\"hockey_ball\", \"Image of hockey_ball\", \"Picture of hockey_ball\", \"hockey_balls\", \"Picture of the hockey_balls\", \"Image of hockey_balls\"],\n",
    "    \"hockey_puck\": [\"hockey_puck\", \"Image of hockey_puck\", \"Picture of hockey_puck\", \"hockey_pucks\", \"Picture of the hockey_pucks\", \"Image of hockey_pucks\"],\n",
    "    \"rugby_ball\": [\"rugby_ball\", \"Image of rugby_ball\", \"Picture of rugby_ball\", \"rugby_balls\", \"Picture of the rugby_balls\", \"Image of rugby_balls\"],\n",
    "    \"shuttlecock\": [\"shuttlecock\", \"Image of shuttlecock\", \"Picture of shuttlecock\", \"shuttlecocks\", \"Picture of the shuttlecocks\", \"Image of shuttlecocks\"],\n",
    "    \"table_tennis_ball\": [\"table_tennis_ball\", \"Image of table_tennis_ball\", \"Picture of table_tennis_ball\", \"table_tennis_balls\", \"Picture of the table_tennis_balls\", \"Image of table_tennis_balls\"],\n",
    "    \"tennis_ball\": [\"tennis_ball\", \"Image of tennis_ball\", \"Picture of tennis_ball\", \"tennis_balls\", \"Picture of the tennis_balls\", \"Image of tennis_balls\"],\n",
    "    \"volleyball\": [\"volleyball\", \"Image of volleyball\", \"Picture of volleyball\", \"volleyballs\", \"Picture of the volleyballs\", \"Image of volleyballs\"]\n",
    "}\n",
    "\n",
    "# american_football, Image of american_football, Picture of american_football, american_footballs, Picture of the american_footballs, Image of american_footballs, baseball, Image of baseball, Picture of baseball, baseballs, Picture of the baseballs, Image of baseballs, basketball, Image of basketball, Picture of basketball, basketballs, Picture of the basketballs, Image of basketballs, billiard_ball, Image of billiard_ball, Picture of billiard_ball, billiard_balls, Picture of the billiard_balls, Image of billiard_balls, bowling_ball, Image of bowling_ball, Picture of bowling_ball, bowling_balls, Picture of the bowling_balls, Image of bowling_balls, cricket_ball, Image of cricket_ball, Picture of cricket_ball, cricket_balls, Picture of the cricket_balls, Image of cricket_balls, football, Image of football, Picture of football, footballs, Picture of the footballs, Image of footballs, golf_ball, Image of golf_ball, Picture of golf_ball, golf_balls, Picture of the golf_balls, Image of golf_balls, hockey_ball, Image of hockey_ball, Picture of hockey_ball, hockey_balls, Picture of the hockey_balls, Image of hockey_balls, hockey_puck, Image of hockey_puck, Picture of hockey_puck, hockey_pucks, Picture of the hockey_pucks, Image of hockey_pucks, rugby_ball, Image of rugby_ball, Picture of rugby_ball, rugby_balls, Picture of the rugby_balls, Image of rugby_balls, shuttlecock, Image of shuttlecock, Picture of shuttlecock, shuttlecocks, Picture of the shuttlecocks, Image of shuttlecocks, table_tennis_ball, Image of table_tennis_ball, Picture of table_tennis_ball, table_tennis_balls, Picture of the table_tennis_balls, Image of table_tennis_balls, tennis_ball, Image of tennis_ball, Picture of tennis_ball, tennis_balls, Picture of the tennis_balls, Image of tennis_balls, volleyball, Image of volleyball, Picture of volleyball, volleyballs, Picture of the volleyballs, Image of volleyballs\n",
    "\n",
    "dict_size(s90)\n",
    "print(aOcheck_accuracy(\"sports15/s90.csv\", s90))\n"
   ]
  },
  {
   "cell_type": "code",
   "execution_count": 134,
   "metadata": {},
   "outputs": [
    {
     "name": "stdout",
     "output_type": "stream",
     "text": [
      "105\n",
      "71.57\n",
      "71.57\n"
     ]
    }
   ],
   "source": [
    "s105 = {\n",
    "    \"american_football\": [\"american_football\", \"Image of american_football\", \"Picture of american_football\", \"american_footballs\", \"Picture of the american_footballs\", \"Image of american_footballs\", \"Cool american_football\"],\n",
    "    \"baseball\": [\"baseball\", \"Image of baseball\", \"Picture of baseball\", \"baseballs\", \"Picture of the baseballs\", \"Image of baseballs\", \"Cool baseball\"],\n",
    "    \"basketball\": [\"basketball\", \"Image of basketball\", \"Picture of basketball\", \"basketballs\", \"Picture of the basketballs\", \"Image of basketballs\", \"Cool basketball\"],\n",
    "    \"billiard_ball\": [\"billiard_ball\", \"Image of billiard_ball\", \"Picture of billiard_ball\", \"billiard_balls\", \"Picture of the billiard_balls\", \"Image of billiard_balls\", \"Cool billiard_ball\"],\n",
    "    \"bowling_ball\": [\"bowling_ball\", \"Image of bowling_ball\", \"Picture of bowling_ball\", \"bowling_balls\", \"Picture of the bowling_balls\", \"Image of bowling_balls\", \"Cool bowling_ball\"],\n",
    "    \"cricket_ball\": [\"cricket_ball\", \"Image of cricket_ball\", \"Picture of cricket_ball\", \"cricket_balls\", \"Picture of the cricket_balls\", \"Image of cricket_balls\", \"Cool cricket_ball\"],\n",
    "    \"football\": [\"football\", \"Image of football\", \"Picture of football\", \"footballs\", \"Picture of the footballs\", \"Image of footballs\", \"Cool football\"],\n",
    "    \"golf_ball\": [\"golf_ball\", \"Image of golf_ball\", \"Picture of golf_ball\", \"golf_balls\", \"Picture of the golf_balls\", \"Image of golf_balls\", \"Cool golf_ball\"],\n",
    "    \"hockey_ball\": [\"hockey_ball\", \"Image of hockey_ball\", \"Picture of hockey_ball\", \"hockey_balls\", \"Picture of the hockey_balls\", \"Image of hockey_balls\", \"Cool hockey_ball\"],\n",
    "    \"hockey_puck\": [\"hockey_puck\", \"Image of hockey_puck\", \"Picture of hockey_puck\", \"hockey_pucks\", \"Picture of the hockey_pucks\", \"Image of hockey_pucks\", \"Cool hockey_puck\"],\n",
    "    \"rugby_ball\": [\"rugby_ball\", \"Image of rugby_ball\", \"Picture of rugby_ball\", \"rugby_balls\", \"Picture of the rugby_balls\", \"Image of rugby_balls\", \"Cool rugby_ball\"],\n",
    "    \"shuttlecock\": [\"shuttlecock\", \"Image of shuttlecock\", \"Picture of shuttlecock\", \"shuttlecocks\", \"Picture of the shuttlecocks\", \"Image of shuttlecocks\", \"Cool shuttlecock\"],\n",
    "    \"table_tennis_ball\": [\"table_tennis_ball\", \"Image of table_tennis_ball\", \"Picture of table_tennis_ball\", \"table_tennis_balls\", \"Picture of the table_tennis_balls\", \"Image of table_tennis_balls\", \"Cool table_tennis_ball\"],\n",
    "    \"tennis_ball\": [\"tennis_ball\", \"Image of tennis_ball\", \"Picture of tennis_ball\", \"tennis_balls\", \"Picture of the tennis_balls\", \"Image of tennis_balls\", \"Cool tennis_ball\"],\n",
    "    \"volleyball\": [\"volleyball\", \"Image of volleyball\", \"Picture of volleyball\", \"volleyballs\", \"Picture of the volleyballs\", \"Image of volleyballs\", \"Cool volleyball\"]\n",
    "}\n",
    "\n",
    "# american_football, Image of american_football, Picture of american_football, american_footballs, Picture of the american_footballs, Image of american_footballs, Cool american_football, baseball, Image of baseball, Picture of baseball, baseballs, Picture of the baseballs, Image of baseballs, Cool baseball, basketball, Image of basketball, Picture of basketball, basketballs, Picture of the basketballs, Image of basketballs, Cool basketball, billiard_ball, Image of billiard_ball, Picture of billiard_ball, billiard_balls, Picture of the billiard_balls, Image of billiard_balls, Cool billiard_ball, bowling_ball, Image of bowling_ball, Picture of bowling_ball, bowling_balls, Picture of the bowling_balls, Image of bowling_balls, Cool bowling_ball, cricket_ball, Image of cricket_ball, Picture of cricket_ball, cricket_balls, Picture of the cricket_balls, Image of cricket_balls, Cool cricket_ball, football, Image of football, Picture of football, footballs, Picture of the footballs, Image of footballs, Cool football, golf_ball, Image of golf_ball, Picture of golf_ball, golf_balls, Picture of the golf_balls, Image of golf_balls, Cool golf_ball, hockey_ball, Image of hockey_ball, Picture of hockey_ball, hockey_balls, Picture of the hockey_balls, Image of hockey_balls, Cool hockey_ball, hockey_puck, Image of hockey_puck, Picture of hockey_puck, hockey_pucks, Picture of the hockey_pucks, Image of hockey_pucks, Cool hockey_puck, rugby_ball, Image of rugby_ball, Picture of rugby_ball, rugby_balls, Picture of the rugby_balls, Image of rugby_balls, Cool rugby_ball, shuttlecock, Image of shuttlecock, Picture of shuttlecock, shuttlecocks, Picture of the shuttlecocks, Image of shuttlecocks, Cool shuttlecock, table_tennis_ball, Image of table_tennis_ball, Picture of table_tennis_ball, table_tennis_balls, Picture of the table_tennis_balls, Image of table_tennis_balls, Cool table_tennis_ball, tennis_ball, Image of tennis_ball, Picture of tennis_ball, tennis_balls, Picture of the tennis_balls, Image of tennis_balls, Cool tennis_ball, volleyball, Image of volleyball, Picture of volleyball, volleyballs, Picture of the volleyballs, Image of volleyballs, Cool volleyball\n",
    "\n",
    "dict_size(s105)\n",
    "print(aOcheck_accuracy(\"sports15/s105.csv\", s105))\n"
   ]
  },
  {
   "cell_type": "markdown",
   "metadata": {},
   "source": [
    "# Points to Plot"
   ]
  },
  {
   "cell_type": "code",
   "execution_count": 135,
   "metadata": {},
   "outputs": [],
   "source": [
    "# aO_counts = {\n",
    "#     4 : [aObase_accuracy(\"animal4/AO.csv\")],\n",
    "#     8 : [aOcheck_accuracy(\"animal4/AO8.csv\", dict_8)],\n",
    "#     12 : [aOcheck_accuracy(\"animal4/AO12.csv\", dict_12)],\n",
    "#     16 : [aOcheck_accuracy(\"animal4/AO16.csv\", dict_16)],\n",
    "#     20 : [aOcheck_accuracy(\"animal4/AO20.csv\", dict_20)],\n",
    "#     24 : [aOcheck_accuracy(\"animal4/AO24.csv\", dict_24)],\n",
    "#     32 : [aOcheck_accuracy(\"animal4/AO32.csv\", dict_32)],\n",
    "#     36 : [aOcheck_accuracy(\"animal4/AO36.csv\", dict_36)],\n",
    "#     40 : [aOcheck_accuracy(\"animal4/AO40.csv\", dict_40)],\n",
    "#     44 : [aOcheck_accuracy(\"animal4/AO44.csv\", dict_44)],\n",
    "#     48 : [aOcheck_accuracy(\"animal4/AO48.csv\", dict_48)],\n",
    "#     52 : [aOcheck_accuracy(\"animal4/AO52.csv\", dict_52)],\n",
    "#     56 : [aOcheck_accuracy(\"animal4/AO56.csv\", dict_56)],\n",
    "#     60 : [aOcheck_accuracy(\"animal4/AO60.csv\", dict_60)]\n",
    "# }\n",
    "\n",
    "# v7_counts = {\n",
    "#     7 : [96.73],\n",
    "#     14 : [84.45],\n",
    "#     21 : [88.35],  \n",
    "#     42 : [93.47],\n",
    "#     49 : [93.5],\n",
    "#     56 : [95.17],\n",
    "#     63 : [93.74],\n",
    "#     70 : [95.08]\n",
    "# }\n",
    "\n",
    "# cd_counts = {\n",
    "#     2: [CDcheck_accuracy('CatsvsDogs/cd2.csv', CDdict2 )],\n",
    "#     4: [CDcheck_accuracy('CatsvsDogs/cd4.csv', CDdict4)],\n",
    "#     6: [CDcheck_accuracy('CatsvsDogs/cd6.csv', CDdict6)],\n",
    "#     8: [CDcheck_accuracy('CatsvsDogs/cd8.csv', CDdict8)],\n",
    "#     10: [CDcheck_accuracy('CatsvsDogs/cd10.csv', CDdict10)],\n",
    "#     12: [CDcheck_accuracy('CatsvsDogs/cd12.csv', CDdict12)],\n",
    "#     14: [CDcheck_accuracy('CatsvsDogs/cd14.csv', CDdict14)],\n",
    "#     16: [CDcheck_accuracy('CatsvsDogs/cd16.csv', CDdict16)],\n",
    "#     18: [CDcheck_accuracy('CatsvsDogs/cd18.csv', CDdict18)],\n",
    "#     20: [CDcheck_accuracy('CatsvsDogs/cd20.csv', CDdict20)],\n",
    "#     22: [CDcheck_accuracy('CatsvsDogs/cd22.csv', CDdict22)],\n",
    "#     24: [CDcheck_accuracy('CatsvsDogs/cd24.csv', CDdict24)],\n",
    "#     26: [CDcheck_accuracy('CatsvsDogs/cd26.csv', CDdict26)],\n",
    "#     28: [CDcheck_accuracy('CatsvsDogs/cd28.csv', CDdict28)],\n",
    "#     30: [CDcheck_accuracy('CatsvsDogs/cd30.csv', CDdict30)],\n",
    "#     32: [CDcheck_accuracy('CatsvsDogs/cd32.csv', CDdict32)],\n",
    "#     36: [CDcheck_accuracy('CatsvsDogs/cd36.csv', CDdict36)],\n",
    "#     38: [CDcheck_accuracy('CatsvsDogs/cd38.csv', CDdict38)],\n",
    "#     42: [CDcheck_accuracy('CatsvsDogs/cd42.csv', CDdict42)],\n",
    "#     44: [CDcheck_accuracy('CatsvsDogs/cd44.csv', CDdict44)],\n",
    "#     48: [CDcheck_accuracy('CatsvsDogs/cd48.csv', CDdict48)],\n",
    "#     50: [CDcheck_accuracy('CatsvsDogs/cd50.csv', CDdict50)],\n",
    "#     52: [CDcheck_accuracy('CatsvsDogs/cd52.csv', CDdict52)],\n",
    "#     54: [CDcheck_accuracy('CatsvsDogs/cd54.csv', CDdict54)],\n",
    "#     56: [CDcheck_accuracy('CatsvsDogs/cd56.csv', CDdict56)]\n",
    "# }"
   ]
  },
  {
   "cell_type": "code",
   "execution_count": 136,
   "metadata": {},
   "outputs": [
    {
     "name": "stdout",
     "output_type": "stream",
     "text": [
      "\n",
      " Vegetable 15 \n",
      "\n",
      "53.6\n",
      "55.97\n",
      "55.81\n",
      "57.77\n",
      "61.59\n",
      "57.77\n",
      "61.59\n",
      "\n",
      " Animal 80 \n",
      "\n",
      "\n",
      " Food 10 \n",
      "\n",
      "0.0\n",
      "0.0\n",
      "0.0\n",
      "0.0\n",
      "0.0\n",
      "0.0\n",
      "0.0\n",
      "0.0\n",
      "0.0\n",
      "0.0\n"
     ]
    }
   ],
   "source": [
    "print(\"\\n Vegetable 15 \\n\")\n",
    "\n",
    "veg_counts = {\n",
    "    15 : [aOcheck_accuracy(\"Vegetable15/veg15.csv\", veg15)],\n",
    "    30 : [aOcheck_accuracy(\"Vegetable15/veg30.csv\", veg30)],\n",
    "    45 : [aOcheck_accuracy(\"Vegetable15/veg45.csv\", veg45)],\n",
    "    60 : [aOcheck_accuracy(\"Vegetable15/veg60.csv\", veg60)],\n",
    "    75 : [aOcheck_accuracy(\"Vegetable15/veg75.csv\", veg75)],\n",
    "    90 : [aOcheck_accuracy(\"Vegetable15/veg90.csv\", veg90)],\n",
    "    105 : [aOcheck_accuracy(\"Vegetable15/veg105.csv\", veg105)]\n",
    "}\n",
    "\n",
    "# card_counts = {\n",
    "#     4 : card_accuracy(\"Card15/cards4.csv\", cards4),\n",
    "#     8 : card_accuracy(\"Card15/cards8.csv\", cards8),\n",
    "#     12 : card_accuracy(\"Card15/cards12.csv\", cards12),\n",
    "#     16 : card_accuracy(\"Card15/cards16.csv\", cards16),\n",
    "#     20 : card_accuracy(\"Card15/cards20.csv\", cards20),\n",
    "#     24 : card_accuracy(\"Card15/cards24.csv\", cards24),\n",
    "#     28 : card_accuracy(\"Card15/cards28.csv\", cards28),\n",
    "#     32 : card_accuracy(\"Card15/cards32.csv\", cards32),\n",
    "#     36 : card_accuracy(\"Card15/cards36.csv\", cards36),\n",
    "#     40 : card_accuracy(\"Card15/cards40.csv\", cards40),\n",
    "#     44 : card_accuracy(\"Card15/cards44.csv\", cards44),\n",
    "#     48 : card_accuracy(\"Card15/cards48.csv\", cards48)\n",
    "    \n",
    "# }\n",
    "77.35\n",
    "78.24\n",
    "78.25\n",
    "78.35\n",
    "78.45\n",
    "print(\"\\n Animal 80 \\n\")\n",
    "animal80_counts = {\n",
    "    80 : 77.35,\n",
    "    160 : 78.24,\n",
    "    240 : 78.25,\n",
    "    320 : 78.35,\n",
    "    400 : 78.45\n",
    "}\n",
    "\n",
    "# 77.35\n",
    "# 78.24\n",
    "# 78.25\n",
    "# 78.35\n",
    "# 78.45\n",
    "\n",
    "print(\"\\n Food 10 \\n\")\n",
    "food10_counts = {10 : [aOcheck_accuracy(\"food10/f10.csv\", f10)],\n",
    "                 20 : [aOcheck_accuracy(\"food10/f20.csv\", f20)],\n",
    "                 30 : [aOcheck_accuracy(\"food10/f30.csv\",f30)],\n",
    "                 40 : [aOcheck_accuracy(\"food10/f40.csv\",f40)],\n",
    "                 50 : [aOcheck_accuracy(\"food10/f50.csv\",f50)],\n",
    "                 60 : [aOcheck_accuracy(\"food10/f60.csv\",f60)],\n",
    "                 70 : [aOcheck_accuracy(\"food10/f70.csv\",f70)],\n",
    "                 80 : [aOcheck_accuracy(\"food10/f80.csv\",f80)],\n",
    "                 90 : [aOcheck_accuracy(\"food10/f90.csv\",f90)],\n",
    "                 100 : [aOcheck_accuracy(\"food10/f100.csv\",f100)]\n",
    "                 }\n",
    "\n",
    "# print(aOcheck_accuracy(\"food10/f20.csv\", f20))\n"
   ]
  },
  {
   "cell_type": "code",
   "execution_count": 137,
   "metadata": {},
   "outputs": [
    {
     "name": "stdout",
     "output_type": "stream",
     "text": [
      "\n",
      " Vehicle 20 \n",
      "\n",
      "76.56\n",
      "76.74\n",
      "77.02\n",
      "77.23\n",
      "77.64\n",
      "77.67\n",
      "77.02\n",
      "77.1\n",
      "77.1\n",
      "77.37\n",
      "\n",
      " Flowers 10 \n",
      "\n",
      "87.19\n",
      "88.28\n",
      "88.15\n",
      "88.28\n",
      "88.28\n",
      "88.15\n",
      "88.01\n",
      "88.28\n",
      "88.28\n",
      "88.28\n",
      "\n",
      " Fruits 10 \n",
      "\n",
      "82.9\n",
      "82.66\n",
      "82.75\n",
      "83.32\n",
      "83.47\n",
      "83.56\n",
      "83.56\n",
      "83.65\n",
      "83.53\n"
     ]
    }
   ],
   "source": [
    "print(\"\\n Vehicle 20 \\n\")\n",
    "\n",
    "v20_counts = {\n",
    "    20 : [aOcheck_accuracy(\"vehicle20/v20.csv\", v20)],\n",
    "    40 : [aOcheck_accuracy(\"vehicle20/v40.csv\", v40)],\n",
    "    60 : [aOcheck_accuracy(\"vehicle20/v60.csv\", v60)],\n",
    "    80 : [aOcheck_accuracy(\"vehicle20/v80.csv\", v80)],\n",
    "    100 : [aOcheck_accuracy(\"vehicle20/v100.csv\", v100)],\n",
    "    120 : [aOcheck_accuracy(\"vehicle20/v120.csv\", v120)],\n",
    "    140 : [aOcheck_accuracy(\"vehicle20/v140.csv\", v140)],\n",
    "    160 : [aOcheck_accuracy(\"vehicle20/v160.csv\", v160)],\n",
    "    180 : [aOcheck_accuracy(\"vehicle20/v180.csv\", v180)],\n",
    "    200 : [aOcheck_accuracy(\"vehicle20/v200.csv\", v200)]\n",
    "}\n",
    "\n",
    "print(\"\\n Flowers 10 \\n\")\n",
    "flowers10_counts = {\n",
    "    10 : [flowers_accuracy(\"flowers10/f10.csv\", f10)],\n",
    "    20 : [flowers_accuracy(\"flowers10/f20.csv\", f20)],\n",
    "    30 : [flowers_accuracy(\"flowers10/f30.csv\", f30)],\n",
    "    40 : [flowers_accuracy(\"flowers10/f40.csv\", f40)],\n",
    "    50 : [flowers_accuracy(\"flowers10/f50.csv\", f50)],\n",
    "    60 : [flowers_accuracy(\"flowers10/f60.csv\", f60)],\n",
    "    70 : [flowers_accuracy(\"flowers10/f70.csv\", f70)],\n",
    "    80 : [flowers_accuracy(\"flowers10/f80.csv\", f80)],\n",
    "    90 : [flowers_accuracy(\"flowers10/f90.csv\", f90)],\n",
    "    100 : [flowers_accuracy(\"flowers10/f100.csv\", f100)]\n",
    "}\n",
    "\n",
    "print(\"\\n Fruits 10 \\n\")\n",
    "fruits10_counts = {\n",
    "    10: [aOcheck_accuracy(\"fruits10/f10.csv\", fr10)],\n",
    "    20: [aOcheck_accuracy(\"fruits10/f20.csv\", fr20)],\n",
    "    30: [aOcheck_accuracy(\"fruits10/f30.csv\", fr30)],\n",
    "    40: [aOcheck_accuracy(\"fruits10/f40.csv\", fr40)],\n",
    "    50: [aOcheck_accuracy(\"fruits10/f50.csv\", fr50)],\n",
    "    60: [aOcheck_accuracy(\"fruits10/f60.csv\", fr60)],\n",
    "    70: [aOcheck_accuracy(\"fruits10/f70.csv\", fr70)],\n",
    "    80: [aOcheck_accuracy(\"fruits10/f80.csv\", fr80)],\n",
    "    # 90: [aOcheck_accuracy(\"fruits10/f90.csv\", fr90)],\n",
    "    100: [aOcheck_accuracy(\"fruits10/f100.csv\", fr100)]\n",
    "}"
   ]
  },
  {
   "cell_type": "code",
   "execution_count": 138,
   "metadata": {},
   "outputs": [
    {
     "name": "stdout",
     "output_type": "stream",
     "text": [
      "\n",
      " Food 34 \n",
      "\n",
      "80.2\n",
      "81.5\n",
      "79.81\n",
      "82.29\n",
      "82.47\n",
      "82.06\n",
      "\n",
      " Weather 11 \n",
      "\n",
      "66.71\n",
      "74.14\n",
      "74.11\n",
      "74.11\n",
      "74.21\n",
      "74.21\n",
      "74.17\n",
      "\n",
      " Sports 15 \n",
      "\n",
      "2.19\n",
      "70.85\n",
      "70.61\n",
      "70.91\n",
      "70.96\n",
      "71.45\n",
      "71.57\n"
     ]
    }
   ],
   "source": [
    "print(\"\\n Food 34 \\n\")\n",
    "food34_counts = {\n",
    "    34 : aOcheck_accuracy(\"food34/f34.csv\", f34),\n",
    "    68 : aOcheck_accuracy(\"food34/f68.csv\", f68),\n",
    "    102 : aOcheck_accuracy(\"food34/f102.csv\", f102),\n",
    "    136 : aOcheck_accuracy(\"food34/f136.csv\", f136),\n",
    "    170 : aOcheck_accuracy(\"food34/f170.csv\", f170),\n",
    "    204 : aOcheck_accuracy(\"food34/f204.csv\", f204)\n",
    "}\n",
    "\n",
    "print(\"\\n Weather 11 \\n\")\n",
    "weather11_counts = {\n",
    "    11 : aOcheck_accuracy(\"weather11/w11.csv\", w11),\n",
    "    22 : aOcheck_accuracy(\"weather11/w22.csv\", w22),\n",
    "    33 : aOcheck_accuracy(\"weather11/w33.csv\", w33),\n",
    "    44 : aOcheck_accuracy(\"weather11/w44.csv\", w44),\n",
    "    55 : aOcheck_accuracy(\"weather11/w55.csv\", w55),\n",
    "    66 : aOcheck_accuracy(\"weather11/w66.csv\", w66),\n",
    "    77 : aOcheck_accuracy(\"weather11/w77.csv\", w77)\n",
    "}\n",
    "\n",
    "print(\"\\n Sports 15 \\n\")\n",
    "sports15_counts = {\n",
    "    15 : aOcheck_accuracy(\"sports15/s15.csv\", s15),\n",
    "    30 : aOcheck_accuracy(\"sports15/s30.csv\", s30),\n",
    "    45 : aOcheck_accuracy(\"sports15/s45.csv\", s45),\n",
    "    60 : aOcheck_accuracy(\"sports15/s60.csv\", s60),\n",
    "    75 : aOcheck_accuracy(\"sports15/s75.csv\", s75),\n",
    "    90 : aOcheck_accuracy(\"sports15/s90.csv\", s90),\n",
    "    105 : aOcheck_accuracy(\"sports15/s105.csv\", s105)\n",
    "}"
   ]
  },
  {
   "cell_type": "markdown",
   "metadata": {},
   "source": [
    "# Graphing"
   ]
  },
  {
   "cell_type": "code",
   "execution_count": 139,
   "metadata": {},
   "outputs": [],
   "source": [
    "def append_accuracies(category_counts, label, color, marker):\n",
    "    amount_categories = []\n",
    "    accuracies = []\n",
    "\n",
    "    # Calculate accuracy for each category count\n",
    "    for count, accuracy in category_counts.items():\n",
    "        if isinstance(accuracy, list):\n",
    "            for each in accuracy:\n",
    "                amount_categories.append(count)\n",
    "                accuracies.append(each)\n",
    "        else:\n",
    "            amount_categories.append(count)\n",
    "            accuracies.append(accuracy)\n",
    "\n",
    "    # Debug print\n",
    "    print(len(amount_categories), len(accuracies))\n",
    "    \n",
    "    # Plot data with the specified label and color\n",
    "    plt.plot(amount_categories, accuracies, marker=marker, linestyle='None', color=color, label=label)\n"
   ]
  },
  {
   "cell_type": "markdown",
   "metadata": {},
   "source": [
    "## Graphs < 10"
   ]
  },
  {
   "cell_type": "code",
   "execution_count": 140,
   "metadata": {},
   "outputs": [],
   "source": [
    "# plt.figure(figsize=(10, 6))\n",
    "# plt.xlabel('Number of Categories')\n",
    "# plt.ylabel('Accuracy (%)')\n",
    "# plt.title('Accuracy vs. Number of Categories')\n",
    "# plt.grid()\n",
    "# plt.legend()\n",
    "\n",
    "# #Calling function\n",
    "# append_accuracies(aO_counts,\"Animals4\", \"blue\", \"o\")\n",
    "# append_accuracies(v7_counts,\"Vehicles7\", \"green\", \"^\")\n",
    "# append_accuracies(cd_counts,\"Cats vs Dogs\", \"red\", \"s\")\n",
    "# append_accuracies(card_counts,\"Cards4\", \"orange\", \"P\")\n",
    "\n",
    "\n",
    "# a4_patch = mpatches.Patch(color='blue', label='4 Animals')\n",
    "# v7_patch = mpatches.Patch(color='green', label='7 Vehicles')\n",
    "# cd_patch = mpatches.Patch(color='red', label='Cats vs Dogs')\n",
    "# card_patch = mpatches.Patch(color='orange', label='4 Suits of Cards')\n",
    "\n",
    "\n",
    "\n",
    "# plt.legend(handles=[a4_patch, v7_patch, cd_patch, card_patch])\n",
    "\n",
    "# #Axis ranges\n",
    "\n",
    "# # plt.xlim(0, 80)  \n",
    "# # plt.ylim(0, 100)\n",
    "\n",
    "# plt.show()"
   ]
  },
  {
   "cell_type": "markdown",
   "metadata": {},
   "source": [
    "## Initial Categories >= 10"
   ]
  },
  {
   "cell_type": "code",
   "execution_count": 141,
   "metadata": {},
   "outputs": [
    {
     "name": "stdout",
     "output_type": "stream",
     "text": [
      "7 7\n",
      "5 5\n",
      "10 10\n",
      "10 10\n",
      "10 10\n",
      "9 9\n",
      "6 6\n",
      "7 7\n",
      "7 7\n"
     ]
    },
    {
     "name": "stderr",
     "output_type": "stream",
     "text": [
      "C:\\Users\\antho\\AppData\\Local\\Temp\\ipykernel_7528\\1229026745.py:6: UserWarning: No artists with labels found to put in legend.  Note that artists whose label start with an underscore are ignored when legend() is called with no argument.\n",
      "  plt.legend()\n"
     ]
    },
    {
     "data": {
      "image/png": "[encoded data removed]",
      "text/plain": [
       "<Figure size 1000x600 with 1 Axes>"
      ]
     },
     "metadata": {},
     "output_type": "display_data"
    }
   ],
   "source": [
    "plt.figure(figsize=(10, 6))\n",
    "plt.xlabel('Number of Categories')\n",
    "plt.ylabel('Accuracy (%)')\n",
    "plt.title('Accuracy vs. Number of Categories')\n",
    "plt.grid()\n",
    "plt.legend()\n",
    "\n",
    "#Calling function\n",
    "append_accuracies(veg_counts,\"Vegetables15\", \"green\", \"D\")\n",
    "append_accuracies(animal80_counts,\"Animal80\", \"black\", \"X\")\n",
    "append_accuracies(food10_counts, \"food10\", \"blue\", \"*\" )\n",
    "append_accuracies(v20_counts,\"Vehicle20\", \"red\", \"^\")\n",
    "append_accuracies(flowers10_counts, \"flowers10\", \"purple\", \"P\")\n",
    "append_accuracies(fruits10_counts, \"fruits10\", \"orange\", \"o\")\n",
    "append_accuracies(food34_counts, \"food34\", \"yellow\", \"s\")\n",
    "append_accuracies(weather11_counts, \"weather11\", \"pink\", \"x\")\n",
    "append_accuracies(sports15_counts, \"sports15\", \"cyan\", \"D\")\n",
    "\n",
    "\n",
    "veg_patch = mpatches.Patch(color='green', label='15 Vegetables')\n",
    "a80_patch = mpatches.Patch(color='black', label='80 Animals')\n",
    "f10_patch = mpatches.Patch(color = 'blue', label='10 Foods')\n",
    "v20_patch = mpatches.Patch(color = 'red', label='20 Vehicles')\n",
    "fl10_patch = mpatches.Patch(color = 'purple', label='10 Flowers')\n",
    "fruits10_patch = mpatches.Patch(color = 'orange', label='10 Fruits')\n",
    "food34_patch = mpatches.Patch(color = 'yellow', label='34 Foods')\n",
    "weather11_patch = mpatches.Patch(color = 'pink', label='11 Weather')\n",
    "sports15_patch = mpatches.Patch(color = 'cyan', label='15 Sports')\n",
    "\n",
    "plt.legend(handles=[veg_patch, a80_patch, f10_patch, v20_patch, fl10_patch, \n",
    "                    fruits10_patch, food34_patch, weather11_patch, sports15_patch])\n",
    "\n",
    "#Axis ranges\n",
    "\n",
    "# plt.xlim(0, 80)  \n",
    "# plt.ylim(0, 100)\n",
    "\n",
    "plt.show()"
   ]
  }
 ],
 "metadata": {
  "kernelspec": {
   "display_name": "NBAML",
   "language": "python",
   "name": "python3"
  },
  "language_info": {
   "codemirror_mode": {
    "name": "ipython",
    "version": 3
   },
   "file_extension": ".py",
   "mimetype": "text/x-python",
   "name": "python",
   "nbconvert_exporter": "python",
   "pygments_lexer": "ipython3",
   "version": "3.10.13"
  }
 },
 "nbformat": 4,
 "nbformat_minor": 2
}
