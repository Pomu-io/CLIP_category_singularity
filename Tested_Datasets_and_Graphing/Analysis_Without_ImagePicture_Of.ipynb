{
 "cells": [
  {
   "cell_type": "code",
   "execution_count": 319,
   "metadata": {},
   "outputs": [],
   "source": [
    "# !pip install pandas\n",
    "# !pip install matplotlib"
   ]
  },
  {
   "cell_type": "code",
   "execution_count": 320,
   "metadata": {},
   "outputs": [],
   "source": [
    "import pandas as pd\n",
    "import matplotlib.pyplot as plt\n",
    "import matplotlib.patches as mpatches"
   ]
  },
  {
   "cell_type": "code",
   "execution_count": 321,
   "metadata": {},
   "outputs": [],
   "source": [
    "def dict_size(dict):\n",
    "    total_count = sum(len(values) for values in dict.values())\n",
    "    print(total_count)"
   ]
  },
  {
   "cell_type": "markdown",
   "metadata": {},
   "source": [
    "# Accuracy Functions"
   ]
  },
  {
   "cell_type": "code",
   "execution_count": 322,
   "metadata": {},
   "outputs": [],
   "source": [
    "def CDcheck_accuracy(csv_path, dictionary):\n",
    "\n",
    "    normalized_dict = {key.lower(): [value.lower() for value in values] for key, values in dictionary.items()}\n",
    "\n",
    "    # Create a reverse lookup dictionary\n",
    "    reverse_dict = {}\n",
    "    for key, values in normalized_dict.items():\n",
    "        for value in values:\n",
    "            reverse_dict[value] = key  # Map all variations to the primary key\n",
    "\n",
    "    data = pd.read_csv(csv_path, header=None, names=['file_path', 'label'])\n",
    "\n",
    "    data['label'] = data['label'].str.strip().str.lower()\n",
    "\n",
    "    count = 0\n",
    "    total = 0\n",
    "\n",
    "    for index, row in data.iterrows():\n",
    "\n",
    "        path_parts = row['file_path'].split('/')\n",
    "        if len(path_parts) > 2:\n",
    "            if any(char.isupper() for char in path_parts[-1]):\n",
    "                name = 'cat'\n",
    "            else:\n",
    "                name = 'dog'\n",
    "\n",
    "            # Find the primary key for the label using the reverse lookup dictionary\n",
    "            primary_key = reverse_dict.get(row['label'], None)\n",
    "\n",
    "            if primary_key and name in normalized_dict[primary_key]:\n",
    "                count += 1\n",
    "        total += 1\n",
    "\n",
    "    accuracy = count / total if total > 0 else 0\n",
    "    return round(accuracy * 100, 2)"
   ]
  },
  {
   "cell_type": "code",
   "execution_count": 323,
   "metadata": {},
   "outputs": [],
   "source": [
    "def aObase_accuracy(csv_path):\n",
    "\n",
    "    data = pd.read_csv(csv_path, header=None, names=['file_path', 'label'])\n",
    "\n",
    "    # Strip and convert labels to lowercase\n",
    "    data['label'] = data['label'].str.strip().str.lower()\n",
    "\n",
    "    count = 0\n",
    "    total = 0\n",
    "\n",
    "    for index, row in data.iterrows():\n",
    "\n",
    "        path_parts = row['file_path'].split('/')\n",
    "        if len(path_parts) > 2:\n",
    "            vehicle_name = path_parts[-2].strip().lower()  \n",
    "\n",
    "            # Check if the label and vehicle name match in the dictionary\n",
    "            if row['label'] == vehicle_name:\n",
    "                count += 1\n",
    "        total += 1\n",
    "\n",
    "    accuracy = count / total if total > 0 else 0\n",
    "    return round(accuracy * 100, 2)"
   ]
  },
  {
   "cell_type": "code",
   "execution_count": 324,
   "metadata": {},
   "outputs": [],
   "source": [
    "def card_accuracy(csv_path, acc_dict):\n",
    "    data = pd.read_csv(csv_path, header=None, names=['file_path', 'label'])\n",
    "\n",
    "    # Normalize labels\n",
    "    data['label'] = data['label'].str.strip().str.lower()\n",
    "\n",
    "    # Normalize the dictionary keys and values\n",
    "    normalized_dict = {key.lower(): [v.lower() for v in values] for key, values in acc_dict.items()}\n",
    "\n",
    "    count = 0\n",
    "    total = 0\n",
    "\n",
    "    for index, row in data.iterrows():\n",
    "        path_parts = row['file_path'].split('/')\n",
    "\n",
    "        if len(path_parts) > 2:\n",
    "            vehicle_key = path_parts[-2].strip().lower()  # Extract key from [-2]\n",
    "            label = row['label']\n",
    "\n",
    "            # Find a matching key in the dictionary\n",
    "            matched_key = next((key for key in normalized_dict if key in vehicle_key), None)\n",
    "\n",
    "            if matched_key:\n",
    "                # Check if the label matches any of the values for the matched key\n",
    "                if any(value in label for value in normalized_dict[matched_key]):\n",
    "                    count += 1\n",
    "        total += 1\n",
    "\n",
    "    accuracy = count / total if total > 0 else 0\n",
    "    return round(accuracy * 100, 2)\n"
   ]
  },
  {
   "cell_type": "code",
   "execution_count": 325,
   "metadata": {},
   "outputs": [],
   "source": [
    "def aOcheck_accuracy(csv_path, dictionary):\n",
    "\n",
    "    normalized_dict = {key.lower(): [value.lower() for value in values] for key, values in dictionary.items()}\n",
    "\n",
    "    # Create a reverse lookup dictionary\n",
    "    reverse_dict = {}\n",
    "    for key, values in normalized_dict.items():\n",
    "        for value in values:\n",
    "            reverse_dict[value] = key  # Map all variations to the primary key\n",
    "\n",
    "    data = pd.read_csv(csv_path, header=None, names=['file_path', 'label'])\n",
    "\n",
    "    data['label'] = data['label'].str.strip().str.lower()\n",
    "\n",
    "    count = 0\n",
    "    total = 0\n",
    "\n",
    "    for index, row in data.iterrows():\n",
    "\n",
    "        path_parts = row['file_path'].split('/')\n",
    "        if len(path_parts) > 2:\n",
    "            name = path_parts[-2].strip().lower()  # Normalize name\n",
    "\n",
    "            # Find the primary key for the label using the reverse lookup dictionary\n",
    "            primary_key = reverse_dict.get(row['label'], None)\n",
    "\n",
    "            if primary_key and name in normalized_dict[primary_key]:\n",
    "                count += 1\n",
    "        total += 1\n",
    "\n",
    "    accuracy = count / total if total > 0 else 0\n",
    "\n",
    "    print(round(accuracy * 100, 2))\n",
    "    return round(accuracy * 100, 2)"
   ]
  },
  {
   "cell_type": "code",
   "execution_count": 326,
   "metadata": {},
   "outputs": [],
   "source": [
    "def flowers_accuracy(csv_path, flowers_dict):\n",
    "    # Reverse the dictionary to have flower names as keys\n",
    "    reversed_dict = {}\n",
    "    for key, values in flowers_dict.items():\n",
    "        for value in values:\n",
    "            reversed_dict[value.strip().lower()] = key  # Ensure the key is normalized\n",
    "\n",
    "    # Read the CSV file (pandas is used for ease of handling CSV data)\n",
    "    data = pd.read_csv(csv_path, header=None, names=['file_path', 'label'])\n",
    "\n",
    "    # Clean the labels to be lowercase and strip any whitespace\n",
    "    data['label'] = data['label'].str.strip().str.lower()\n",
    "\n",
    "    count = 0\n",
    "    total = 0\n",
    "\n",
    "    # Loop through each row in the data\n",
    "    for index, row in data.iterrows():\n",
    "        # Extract the flower name from the file path\n",
    "        path_parts = row['file_path'].split('/')\n",
    "        if len(path_parts) > 2:\n",
    "            name = path_parts[-1][:-10].strip().lower()  # Normalize name\n",
    "\n",
    "\n",
    "            # Find the primary key for the label using the reverse lookup dictionary\n",
    "            primary_key = reversed_dict.get(row['label'], None)\n",
    "\n",
    "            if primary_key and name == primary_key:  # Check if the normalized names match\n",
    "                count += 1\n",
    "            \n",
    "        total += 1\n",
    "\n",
    "    accuracy = count / total if total > 0 else 0\n",
    "\n",
    "    print(round(accuracy * 100, 2))\n",
    "    return round(accuracy * 100, 2)\n"
   ]
  },
  {
   "cell_type": "markdown",
   "metadata": {},
   "source": [
    "# Dictionaries"
   ]
  },
  {
   "cell_type": "markdown",
   "metadata": {},
   "source": [
    "## Animal 80"
   ]
  },
  {
   "cell_type": "code",
   "execution_count": 327,
   "metadata": {},
   "outputs": [
    {
     "name": "stdout",
     "output_type": "stream",
     "text": [
      "77.35\n",
      "77.35\n"
     ]
    }
   ],
   "source": [
    "a80 = {\n",
    "    \"Bear\": [\"Bear\"],\n",
    "    \"Brown Bear\": [\"Brown Bear\"],\n",
    "    \"Bull\": [\"Bull\"],\n",
    "    \"Butterfly\": [\"Butterfly\"],\n",
    "    \"Camel\": [\"Camel\"],\n",
    "    \"Canary\": [\"Canary\"],\n",
    "    \"Caterpillar\": [\"Caterpillar\"],\n",
    "    \"Cattle\": [\"Cattle\"],\n",
    "    \"Centipede\": [\"Centipede\"],\n",
    "    \"Cheetah\": [\"Cheetah\"],\n",
    "    \"Chicken\": [\"Chicken\"],\n",
    "    \"Crab\": [\"Crab\"],\n",
    "    \"Crocodile\": [\"Crocodile\"],\n",
    "    \"Deer\": [\"Deer\"],\n",
    "    \"Duck\": [\"Duck\"],\n",
    "    \"Eagle\": [\"Eagle\"],\n",
    "    \"Elephant\": [\"Elephant\"],\n",
    "    \"Fish\": [\"Fish\"],\n",
    "    \"Fox\": [\"Fox\"],\n",
    "    \"Frog\": [\"Frog\"],\n",
    "    \"Giraffe\": [\"Giraffe\"],\n",
    "    \"Goat\": [\"Goat\"],\n",
    "    \"Goldfish\": [\"Goldfish\"],\n",
    "    \"Goose\": [\"Goose\"],\n",
    "    \"Hamster\": [\"Hamster\"],\n",
    "    \"Harbor Seal\": [\"Harbor Seal\"],\n",
    "    \"Hedgehog\": [\"Hedgehog\"],\n",
    "    \"Hippopotamus\": [\"Hippopotamus\"],\n",
    "    \"Horse\": [\"Horse\"],\n",
    "    \"Jaguar\": [\"Jaguar\"],\n",
    "    \"Jellyfish\": [\"Jellyfish\"],\n",
    "    \"Kangaroo\": [\"Kangaroo\"],\n",
    "    \"Koala\": [\"Koala\"],\n",
    "    \"Ladybug\": [\"Ladybug\"],\n",
    "    \"Leopard\": [\"Leopard\"],\n",
    "    \"Lion\": [\"Lion\"],\n",
    "    \"Lizard\": [\"Lizard\"],\n",
    "    \"Lynx\": [\"Lynx\"],\n",
    "    \"Magpie\": [\"Magpie\"],\n",
    "    \"Monkey\": [\"Monkey\"],\n",
    "    \"Moths and butterflies\": [\"Moths and butterflies\"],\n",
    "    \"Mouse\": [\"Mouse\"],\n",
    "    \"Mule\": [\"Mule\"],\n",
    "    \"Ostrich\": [\"Ostrich\"],\n",
    "    \"Otter\": [\"Otter\"],\n",
    "    \"Owl\": [\"Owl\"],\n",
    "    \"Panda\": [\"Panda\"],\n",
    "    \"Parrot\": [\"Parrot\"],\n",
    "    \"Penguin\": [\"Penguin\"],\n",
    "    \"Pig\": [\"Pig\"],\n",
    "    \"Polar Bear\": [\"Polar Bear\"],\n",
    "    \"Rabbit\": [\"Rabbit\"],\n",
    "    \"Raccoon\": [\"Raccoon\"],\n",
    "    \"Raven\": [\"Raven\"],\n",
    "    \"Red panda\": [\"Red panda\"],\n",
    "    \"Rhinoceros\": [\"Rhinoceros\"],\n",
    "    \"Scorpion\": [\"Scorpion\"],\n",
    "    \"Seahorse\": [\"Seahorse\"],\n",
    "    \"Sea Lion\": [\"Sea Lion\"],\n",
    "    \"Sea Turtle\": [\"Sea Turtle\"],\n",
    "    \"Shark\": [\"Shark\"],\n",
    "    \"Sheep\": [\"Sheep\"],\n",
    "    \"Shrimp\": [\"Shrimp\"],\n",
    "    \"Snail\": [\"Snail\"],\n",
    "    \"Snake\": [\"Snake\"],\n",
    "    \"Sparrow\": [\"Sparrow\"],\n",
    "    \"Spider\": [\"Spider\"],\n",
    "    \"Squid\": [\"Squid\"],\n",
    "    \"Squirrel\": [\"Squirrel\"],\n",
    "    \"Starfish\": [\"Starfish\"],\n",
    "    \"Swan\": [\"Swan\"],\n",
    "    \"Tick\": [\"Tick\"],\n",
    "    \"Tiger\": [\"Tiger\"],\n",
    "    \"Tortoise\": [\"Tortoise\"],\n",
    "    \"Turkey\": [\"Turkey\"],\n",
    "    \"Turtle\": [\"Turtle\"],\n",
    "    \"Whale\": [\"Whale\"],\n",
    "    \"Woodpecker\": [\"Woodpecker\"],\n",
    "    \"Worm\": [\"Worm\"],\n",
    "    \"Zebra\": [\"Zebra\"]\n",
    "}\n",
    "\n",
    "\n",
    "# Bear, Brown Bear, Bull, Butterfly, Camel, Canary, Caterpillar, Cattle, Centipede, Cheetah, Chicken, Crab, Crocodile, Deer, Duck, Eagle, Elephant, Fish, Fox, Frog, Giraffe, Goat, Goldfish, Goose, Hamster, Harbor Seal, Hedgehog, Hippopotamus, Horse, Jaguar, Jellyfish, Kangaroo, Koala, Ladybug, Leopard, Lion, Lizard, Lynx, Magpie, Monkey, Moths and butterflies, Mouse, Mule, Ostrich, Otter, Owl, Panda, Parrot, Penguin, Pig, Polar Bear, Rabbit, Raccoon, Raven, Red panda, Rhinoceros, Scorpion, Seahorse, Sea Lion, Sea Turtle, Shark, Sheep, Shrimp, Snail, Snake, Sparrow, Spider, Squid, Squirrel, Starfish, Swan, Tick, Tiger, Tortoise, Turkey, Turtle, Whale, Woodpecker, Worm, Zebra\n",
    "\n",
    "\n",
    "\n",
    "# dict_size(a80)\n",
    "print(aOcheck_accuracy('animal80/a80.csv', a80))"
   ]
  },
  {
   "cell_type": "code",
   "execution_count": 328,
   "metadata": {},
   "outputs": [
    {
     "name": "stdout",
     "output_type": "stream",
     "text": [
      "77.45\n",
      "77.45\n"
     ]
    }
   ],
   "source": [
    "a160 = {\n",
    "    \"Bear\": [\"Bear\", \"Bears\"],\n",
    "    \"Brown Bear\": [\"Brown Bear\", \"Brown Bears\"],\n",
    "    \"Bull\": [\"Bull\", \"Bulls\"],\n",
    "    \"Butterfly\": [\"Butterfly\", \"Butterflies\"],\n",
    "    \"Camel\": [\"Camel\", \"Camels\"],\n",
    "    \"Canary\": [\"Canary\", \"Canaries\"],\n",
    "    \"Caterpillar\": [\"Caterpillar\", \"Caterpillars\"],\n",
    "    \"Cattle\": [\"Cattle\", \"Cattle\"],\n",
    "    \"Centipede\": [\"Centipede\", \"Centipedes\"],\n",
    "    \"Cheetah\": [\"Cheetah\", \"Cheetahs\"],\n",
    "    \"Chicken\": [\"Chicken\", \"Chickens\"],\n",
    "    \"Crab\": [\"Crab\", \"Crabs\"],\n",
    "    \"Crocodile\": [\"Crocodile\", \"Crocodiles\"],\n",
    "    \"Deer\": [\"Deer\", \"Deer\"],\n",
    "    \"Duck\": [\"Duck\", \"Ducks\"],\n",
    "    \"Eagle\": [\"Eagle\", \"Eagles\"],\n",
    "    \"Elephant\": [\"Elephant\", \"Elephants\"],\n",
    "    \"Fish\": [\"Fish\", \"Fish\"],\n",
    "    \"Fox\": [\"Fox\", \"Foxes\"],\n",
    "    \"Frog\": [\"Frog\", \"Frogs\"],\n",
    "    \"Giraffe\": [\"Giraffe\", \"Giraffes\"],\n",
    "    \"Goat\": [\"Goat\", \"Goats\"],\n",
    "    \"Goldfish\": [\"Goldfish\", \"Goldfish\"],\n",
    "    \"Goose\": [\"Goose\", \"Geese\"],\n",
    "    \"Hamster\": [\"Hamster\", \"Hamsters\"],\n",
    "    \"Harbor Seal\": [\"Harbor Seal\", \"Harbor Seals\"],\n",
    "    \"Hedgehog\": [\"Hedgehog\", \"Hedgehogs\"],\n",
    "    \"Hippopotamus\": [\"Hippopotamus\", \"Hippopotamuses\"],\n",
    "    \"Horse\": [\"Horse\", \"Horses\"],\n",
    "    \"Jaguar\": [\"Jaguar\", \"Jaguars\"],\n",
    "    \"Jellyfish\": [\"Jellyfish\", \"Jellyfish\"],\n",
    "    \"Kangaroo\": [\"Kangaroo\", \"Kangaroos\"],\n",
    "    \"Koala\": [\"Koala\", \"Koalas\"],\n",
    "    \"Ladybug\": [\"Ladybug\", \"Ladybugs\"],\n",
    "    \"Leopard\": [\"Leopard\", \"Leopards\"],\n",
    "    \"Lion\": [\"Lion\", \"Lions\"],\n",
    "    \"Lizard\": [\"Lizard\", \"Lizards\"],\n",
    "    \"Lynx\": [\"Lynx\", \"Lynxes\"],\n",
    "    \"Magpie\": [\"Magpie\", \"Magpies\"],\n",
    "    \"Monkey\": [\"Monkey\", \"Monkeys\"],\n",
    "    \"Moths and butterflies\": [\"Moths and butterflies\", \"Moths and butterflies\"],\n",
    "    \"Mouse\": [\"Mouse\", \"Mice\"],\n",
    "    \"Mule\": [\"Mule\", \"Mules\"],\n",
    "    \"Ostrich\": [\"Ostrich\", \"Ostriches\"],\n",
    "    \"Otter\": [\"Otter\", \"Otters\"],\n",
    "    \"Owl\": [\"Owl\", \"Owls\"],\n",
    "    \"Panda\": [\"Panda\", \"Pandas\"],\n",
    "    \"Parrot\": [\"Parrot\", \"Parrots\"],\n",
    "    \"Penguin\": [\"Penguin\", \"Penguins\"],\n",
    "    \"Pig\": [\"Pig\", \"Pigs\"],\n",
    "    \"Polar Bear\": [\"Polar Bear\", \"Polar Bears\"],\n",
    "    \"Rabbit\": [\"Rabbit\", \"Rabbits\"],\n",
    "    \"Raccoon\": [\"Raccoon\", \"Raccoons\"],\n",
    "    \"Raven\": [\"Raven\", \"Ravens\"],\n",
    "    \"Red panda\": [\"Red panda\", \"Red pandas\"],\n",
    "    \"Rhinoceros\": [\"Rhinoceros\", \"Rhinoceroses\"],\n",
    "    \"Scorpion\": [\"Scorpion\", \"Scorpions\"],\n",
    "    \"Seahorse\": [\"Seahorse\", \"Seahorses\"],\n",
    "    \"Sea Lion\": [\"Sea Lion\", \"Sea Lions\"],\n",
    "    \"Sea Turtle\": [\"Sea Turtle\", \"Sea Turtles\"],\n",
    "    \"Shark\": [\"Shark\", \"Sharks\"],\n",
    "    \"Sheep\": [\"Sheep\", \"Sheep\"],\n",
    "    \"Shrimp\": [\"Shrimp\", \"Shrimp\"],\n",
    "    \"Snail\": [\"Snail\", \"Snails\"],\n",
    "    \"Snake\": [\"Snake\", \"Snakes\"],\n",
    "    \"Sparrow\": [\"Sparrow\", \"Sparrows\"],\n",
    "    \"Spider\": [\"Spider\", \"Spiders\"],\n",
    "    \"Squid\": [\"Squid\", \"Squids\"],\n",
    "    \"Squirrel\": [\"Squirrel\", \"Squirrels\"],\n",
    "    \"Starfish\": [\"Starfish\", \"Starfish\"],\n",
    "    \"Swan\": [\"Swan\", \"Swans\"],\n",
    "    \"Tick\": [\"Tick\", \"Ticks\"],\n",
    "    \"Tiger\": [\"Tiger\", \"Tigers\"],\n",
    "    \"Tortoise\": [\"Tortoise\", \"Tortoises\"],\n",
    "    \"Turkey\": [\"Turkey\", \"Turkeys\"],\n",
    "    \"Turtle\": [\"Turtle\", \"Turtles\"],\n",
    "    \"Whale\": [\"Whale\", \"Whales\"],\n",
    "    \"Woodpecker\": [\"Woodpecker\", \"Woodpeckers\"],\n",
    "    \"Worm\": [\"Worm\", \"Worms\"],\n",
    "    \"Zebra\": [\"Zebra\", \"Zebras\"]\n",
    "}\n",
    "\n",
    "# Bear, Bears, Brown Bear, Brown Bears, Bull, Bulls, Butterfly, Butterflies, Camel, Camels, Canary, Canaries, Caterpillar, Caterpillars, Cattle, Cattle, Centipede, Centipedes, Cheetah, Cheetahs, Chicken, Chickens, Crab, Crabs, Crocodile, Crocodiles, Deer, Deer, Duck, Ducks, Eagle, Eagles, Elephant, Elephants, Fish, Fish, Fox, Foxes, Frog, Frogs, Giraffe, Giraffes, Goat, Goats, Goldfish, Goldfish, Goose, Geese, Hamster, Hamsters, Harbor Seal, Harbor Seals, Hedgehog, Hedgehogs, Hippopotamus, Hippopotamuses, Horse, Horses, Jaguar, Jaguars, Jellyfish, Jellyfish, Kangaroo, Kangaroos, Koala, Koalas, Ladybug, Ladybugs, Leopard, Leopards, Lion, Lions, Lizard, Lizards, Lynx, Lynxes, Magpie, Magpies, Monkey, Monkeys, Moths and butterflies, Moths and butterflies, Mouse, Mice, Mule, Mules, Ostrich, Ostriches, Otter, Otters, Owl, Owls, Panda, Pandas, Parrot, Parrots, Penguin, Penguins, Pig, Pigs, Polar Bear, Polar Bears, Rabbit, Rabbits, Raccoon, Raccoons, Raven, Ravens, Red panda, Red pandas, Rhinoceros, Rhinoceroses, Scorpion, Scorpions, Seahorse, Seahorses, Sea Lion, Sea Lions, Sea Turtle, Sea Turtles, Shark, Sharks, Sheep, Sheep, Shrimp, Shrimp, Snail, Snails, Snake, Snakes, Sparrow, Sparrows, Spider, Spiders, Squid, Squids, Squirrel, Squirrels, Starfish, Starfish, Swan, Swans, Tick, Ticks, Tiger, Tigers, Tortoise, Tortoises, Turkey, Turkeys, Turtle, Turtles, Whale, Whales, Woodpecker, Woodpeckers, Worm, Worms, Zebra, Zebras\n",
    "\n",
    "# dict_size(a160)\n",
    "print(aOcheck_accuracy('animal80/a160.csv', a160))"
   ]
  },
  {
   "cell_type": "code",
   "execution_count": 329,
   "metadata": {},
   "outputs": [
    {
     "name": "stdout",
     "output_type": "stream",
     "text": [
      "240\n",
      "77.75\n",
      "77.75\n"
     ]
    }
   ],
   "source": [
    "a240 = {\n",
    "    \"Bear\": [\"Bear\", \"Bears\", \"Large Bear\"],\n",
    "    \"Brown Bear\": [\"Brown Bear\", \"Brown Bears\", \"Large Brown Bear\"],\n",
    "    \"Bull\": [\"Bull\", \"Bulls\", \"Large Bull\"],\n",
    "    \"Butterfly\": [\"Butterfly\", \"Butterflies\", \"Large Butterfly\"],\n",
    "    \"Camel\": [\"Camel\", \"Camels\", \"Large Camel\"],\n",
    "    \"Canary\": [\"Canary\", \"Canaries\", \"Large Canary\"],\n",
    "    \"Caterpillar\": [\"Caterpillar\", \"Caterpillars\", \"Large Caterpillar\"],\n",
    "    \"Cattle\": [\"Cattle\", \"Cattle\", \"Large Cattle\"],\n",
    "    \"Centipede\": [\"Centipede\", \"Centipedes\", \"Large Centipede\"],\n",
    "    \"Cheetah\": [\"Cheetah\", \"Cheetahs\", \"Large Cheetah\"],\n",
    "    \"Chicken\": [\"Chicken\", \"Chickens\", \"Large Chicken\"],\n",
    "    \"Crab\": [\"Crab\", \"Crabs\", \"Large Crab\"],\n",
    "    \"Crocodile\": [\"Crocodile\", \"Crocodiles\", \"Large Crocodile\"],\n",
    "    \"Deer\": [\"Deer\", \"Deer\", \"Large Deer\"],\n",
    "    \"Duck\": [\"Duck\", \"Ducks\", \"Large Duck\"],\n",
    "    \"Eagle\": [\"Eagle\", \"Eagles\", \"Large Eagle\"],\n",
    "    \"Elephant\": [\"Elephant\", \"Elephants\", \"Large Elephant\"],\n",
    "    \"Fish\": [\"Fish\", \"Fish\", \"Large Fish\"],\n",
    "    \"Fox\": [\"Fox\", \"Foxes\", \"Large Fox\"],\n",
    "    \"Frog\": [\"Frog\", \"Frogs\", \"Large Frog\"],\n",
    "    \"Giraffe\": [\"Giraffe\", \"Giraffes\", \"Large Giraffe\"],\n",
    "    \"Goat\": [\"Goat\", \"Goats\", \"Large Goat\"],\n",
    "    \"Goldfish\": [\"Goldfish\", \"Goldfish\", \"Large Goldfish\"],\n",
    "    \"Goose\": [\"Goose\", \"Geese\", \"Large Goose\"],\n",
    "    \"Hamster\": [\"Hamster\", \"Hamsters\", \"Large Hamster\"],\n",
    "    \"Harbor Seal\": [\"Harbor Seal\", \"Harbor Seals\", \"Large Harbor Seal\"],\n",
    "    \"Hedgehog\": [\"Hedgehog\", \"Hedgehogs\", \"Large Hedgehog\"],\n",
    "    \"Hippopotamus\": [\"Hippopotamus\", \"Hippopotamuses\", \"Large Hippopotamus\"],\n",
    "    \"Horse\": [\"Horse\", \"Horses\", \"Large Horse\"],\n",
    "    \"Jaguar\": [\"Jaguar\", \"Jaguars\", \"Large Jaguar\"],\n",
    "    \"Jellyfish\": [\"Jellyfish\", \"Jellyfish\", \"Large Jellyfish\"],\n",
    "    \"Kangaroo\": [\"Kangaroo\", \"Kangaroos\", \"Large Kangaroo\"],\n",
    "    \"Koala\": [\"Koala\", \"Koalas\", \"Large Koala\"],\n",
    "    \"Ladybug\": [\"Ladybug\", \"Ladybugs\", \"Large Ladybug\"],\n",
    "    \"Leopard\": [\"Leopard\", \"Leopards\", \"Large Leopard\"],\n",
    "    \"Lion\": [\"Lion\", \"Lions\", \"Large Lion\"],\n",
    "    \"Lizard\": [\"Lizard\", \"Lizards\", \"Large Lizard\"],\n",
    "    \"Lynx\": [\"Lynx\", \"Lynxes\", \"Large Lynx\"],\n",
    "    \"Magpie\": [\"Magpie\", \"Magpies\", \"Large Magpie\"],\n",
    "    \"Monkey\": [\"Monkey\", \"Monkeys\", \"Large Monkey\"],\n",
    "    \"Moths and butterflies\": [\"Moths and butterflies\", \"Moths and butterflies\", \"Large Moths and butterflies\"],\n",
    "    \"Mouse\": [\"Mouse\", \"Mice\", \"Large Mouse\"],\n",
    "    \"Mule\": [\"Mule\", \"Mules\", \"Large Mule\"],\n",
    "    \"Ostrich\": [\"Ostrich\", \"Ostriches\", \"Large Ostrich\"],\n",
    "    \"Otter\": [\"Otter\", \"Otters\", \"Large Otter\"],\n",
    "    \"Owl\": [\"Owl\", \"Owls\", \"Large Owl\"],\n",
    "    \"Panda\": [\"Panda\", \"Pandas\", \"Large Panda\"],\n",
    "    \"Parrot\": [\"Parrot\", \"Parrots\", \"Large Parrot\"],\n",
    "    \"Penguin\": [\"Penguin\", \"Penguins\", \"Large Penguin\"],\n",
    "    \"Pig\": [\"Pig\", \"Pigs\", \"Large Pig\"],\n",
    "    \"Polar Bear\": [\"Polar Bear\", \"Polar Bears\", \"Large Polar Bear\"],\n",
    "    \"Rabbit\": [\"Rabbit\", \"Rabbits\", \"Large Rabbit\"],\n",
    "    \"Raccoon\": [\"Raccoon\", \"Raccoons\", \"Large Raccoon\"],\n",
    "    \"Raven\": [\"Raven\", \"Ravens\", \"Large Raven\"],\n",
    "    \"Red panda\": [\"Red panda\", \"Red pandas\", \"Large Red panda\"],\n",
    "    \"Rhinoceros\": [\"Rhinoceros\", \"Rhinoceroses\", \"Large Rhinoceros\"],\n",
    "    \"Scorpion\": [\"Scorpion\", \"Scorpions\", \"Large Scorpion\"],\n",
    "    \"Seahorse\": [\"Seahorse\", \"Seahorses\", \"Large Seahorse\"],\n",
    "    \"Sea Lion\": [\"Sea Lion\", \"Sea Lions\", \"Large Sea Lion\"],\n",
    "    \"Sea Turtle\": [\"Sea Turtle\", \"Sea Turtles\", \"Large Sea Turtle\"],\n",
    "    \"Shark\": [\"Shark\", \"Sharks\", \"Large Shark\"],\n",
    "    \"Sheep\": [\"Sheep\", \"Sheep\", \"Large Sheep\"],\n",
    "    \"Shrimp\": [\"Shrimp\", \"Shrimp\", \"Large Shrimp\"],\n",
    "    \"Snail\": [\"Snail\", \"Snails\", \"Large Snail\"],\n",
    "    \"Snake\": [\"Snake\", \"Snakes\", \"Large Snake\"],\n",
    "    \"Sparrow\": [\"Sparrow\", \"Sparrows\", \"Large Sparrow\"],\n",
    "    \"Spider\": [\"Spider\", \"Spiders\", \"Large Spider\"],\n",
    "    \"Squid\": [\"Squid\", \"Squids\", \"Large Squid\"],\n",
    "    \"Squirrel\": [\"Squirrel\", \"Squirrels\", \"Large Squirrel\"],\n",
    "    \"Starfish\": [\"Starfish\", \"Starfish\", \"Large Starfish\"],\n",
    "    \"Swan\": [\"Swan\", \"Swans\", \"Large Swan\"],\n",
    "    \"Tick\": [\"Tick\", \"Ticks\", \"Large Tick\"],\n",
    "    \"Tiger\": [\"Tiger\", \"Tigers\", \"Large Tiger\"],\n",
    "    \"Tortoise\": [\"Tortoise\", \"Tortoises\", \"Large Tortoise\"],\n",
    "    \"Turkey\": [\"Turkey\", \"Turkeys\", \"Large Turkey\"],\n",
    "    \"Turtle\": [\"Turtle\", \"Turtles\", \"Large Turtle\"],\n",
    "    \"Whale\": [\"Whale\", \"Whales\", \"Large Whale\"],\n",
    "    \"Woodpecker\": [\"Woodpecker\", \"Woodpeckers\", \"Large Woodpecker\"],\n",
    "    \"Worm\": [\"Worm\", \"Worms\", \"Large Worm\"],\n",
    "    \"Zebra\": [\"Zebra\", \"Zebras\", \"Large Zebra\"]\n",
    "}\n",
    "\n",
    "# Bear, Bears, Large Bear, Brown Bear, Brown Bears, Large Brown Bear, Bull, Bulls, Large Bull, Butterfly, Butterflies, Large Butterfly, Camel, Camels, Large Camel, Canary, Canaries, Large Canary, Caterpillar, Caterpillars, Large Caterpillar, Cattle, Cattle, Large Cattle, Centipede, Centipedes, Large Centipede, Cheetah, Cheetahs, Large Cheetah, Chicken, Chickens, Large Chicken, Crab, Crabs, Large Crab, Crocodile, Crocodiles, Large Crocodile, Deer, Deer, Large Deer, Duck, Ducks, Large Duck, Eagle, Eagles, Large Eagle, Elephant, Elephants, Large Elephant, Fish, Fish, Large Fish, Fox, Foxes, Large Fox, Frog, Frogs, Large Frog, Giraffe, Giraffes, Large Giraffe, Goat, Goats, Large Goat, Goldfish, Goldfish, Large Goldfish, Goose, Geese, Large Goose, Hamster, Hamsters, Large Hamster, Harbor Seal, Harbor Seals, Large Harbor Seal, Hedgehog, Hedgehogs, Large Hedgehog, Hippopotamus, Hippopotamuses, Large Hippopotamus, Horse, Horses, Large Horse, Jaguar, Jaguars, Large Jaguar, Jellyfish, Jellyfish, Large Jellyfish, Kangaroo, Kangaroos, Large Kangaroo, Koala, Koalas, Large Koala, Ladybug, Ladybugs, Large Ladybug, Leopard, Leopards, Large Leopard, Lion, Lions, Large Lion, Lizard, Lizards, Large Lizard, Lynx, Lynxes, Large Lynx, Magpie, Magpies, Large Magpie, Monkey, Monkeys, Large Monkey, Moths and butterflies, Moths and butterflies, Large Moths and butterflies, Mouse, Mice, Large Mouse, Mule, Mules, Large Mule, Ostrich, Ostriches, Large Ostrich, Otter, Otters, Large Otter, Owl, Owls, Large Owl, Panda, Pandas, Large Panda, Parrot, Parrots, Large Parrot, Penguin, Penguins, Large Penguin, Pig, Pigs, Large Pig, Polar Bear, Polar Bears, Large Polar Bear, Rabbit, Rabbits, Large Rabbit, Raccoon, Raccoons, Large Raccoon, Raven, Ravens, Large Raven, Red panda, Red pandas, Large Red panda, Rhinoceros, Rhinoceroses, Large Rhinoceros, Scorpion, Scorpions, Large Scorpion, Seahorse, Seahorses, Large Seahorse, Sea Lion, Sea Lions, Large Sea Lion, Sea Turtle, Sea Turtles, Large Sea Turtle, Shark, Sharks, Large Shark, Sheep, Sheep, Large Sheep, Shrimp, Shrimp, Large Shrimp, Snail, Snails, Large Snail, Snake, Snakes, Large Snake, Sparrow, Sparrows, Large Sparrow, Spider, Spiders, Large Spider, Squid, Squids, Large Squid, Squirrel, Squirrels, Large Squirrel, Starfish, Starfish, Large Starfish, Swan, Swans, Large Swan, Tick, Ticks, Large Tick, Tiger, Tigers, Large Tiger, Tortoise, Tortoises, Large Tortoise, Turkey, Turkeys, Large Turkey, Turtle, Turtles, Large Turtle, Whale, Whales, Large Whale, Woodpecker, Woodpeckers, Large Woodpecker, Worm, Worms, Large Worm, Zebra, Zebras, Large Zebra\n",
    "\n",
    "dict_size(a240)\n",
    "print(aOcheck_accuracy('animal80/a240.csv', a240))\n"
   ]
  },
  {
   "cell_type": "code",
   "execution_count": 330,
   "metadata": {},
   "outputs": [
    {
     "name": "stdout",
     "output_type": "stream",
     "text": [
      "320\n",
      "78.34\n",
      "78.34\n"
     ]
    }
   ],
   "source": [
    "a320 = {\n",
    "    \"Bear\": [\"Bear\", \"Bears\", \"Large Bear\", \"Small Bear\"],\n",
    "    \"Brown Bear\": [\"Brown Bear\", \"Brown Bears\", \"Large Brown Bear\", \"Small Brown Bear\"],\n",
    "    \"Bull\": [\"Bull\", \"Bulls\", \"Large Bull\", \"Small Bull\"],\n",
    "    \"Butterfly\": [\"Butterfly\", \"Butterflies\", \"Large Butterfly\", \"Small Butterfly\"],\n",
    "    \"Camel\": [\"Camel\", \"Camels\", \"Large Camel\", \"Small Camel\"],\n",
    "    \"Canary\": [\"Canary\", \"Canaries\", \"Large Canary\", \"Small Canary\"],\n",
    "    \"Caterpillar\": [\"Caterpillar\", \"Caterpillars\", \"Large Caterpillar\", \"Small Caterpillar\"],\n",
    "    \"Cattle\": [\"Cattle\", \"Cattle\", \"Large Cattle\", \"Small Cattle\"],\n",
    "    \"Centipede\": [\"Centipede\", \"Centipedes\", \"Large Centipede\", \"Small Centipede\"],\n",
    "    \"Cheetah\": [\"Cheetah\", \"Cheetahs\", \"Large Cheetah\", \"Small Cheetah\"],\n",
    "    \"Chicken\": [\"Chicken\", \"Chickens\", \"Large Chicken\", \"Small Chicken\"],\n",
    "    \"Crab\": [\"Crab\", \"Crabs\", \"Large Crab\", \"Small Crab\"],\n",
    "    \"Crocodile\": [\"Crocodile\", \"Crocodiles\", \"Large Crocodile\", \"Small Crocodile\"],\n",
    "    \"Deer\": [\"Deer\", \"Deer\", \"Large Deer\", \"Small Deer\"],\n",
    "    \"Duck\": [\"Duck\", \"Ducks\", \"Large Duck\", \"Small Duck\"],\n",
    "    \"Eagle\": [\"Eagle\", \"Eagles\", \"Large Eagle\", \"Small Eagle\"],\n",
    "    \"Elephant\": [\"Elephant\", \"Elephants\", \"Large Elephant\", \"Small Elephant\"],\n",
    "    \"Fish\": [\"Fish\", \"Fish\", \"Large Fish\", \"Small Fish\"],\n",
    "    \"Fox\": [\"Fox\", \"Foxes\", \"Large Fox\", \"Small Fox\"],\n",
    "    \"Frog\": [\"Frog\", \"Frogs\", \"Large Frog\", \"Small Frog\"],\n",
    "    \"Giraffe\": [\"Giraffe\", \"Giraffes\", \"Large Giraffe\", \"Small Giraffe\"],\n",
    "    \"Goat\": [\"Goat\", \"Goats\", \"Large Goat\", \"Small Goat\"],\n",
    "    \"Goldfish\": [\"Goldfish\", \"Goldfish\", \"Large Goldfish\", \"Small Goldfish\"],\n",
    "    \"Goose\": [\"Goose\", \"Geese\", \"Large Goose\", \"Small Goose\"],\n",
    "    \"Hamster\": [\"Hamster\", \"Hamsters\", \"Large Hamster\", \"Small Hamster\"],\n",
    "    \"Harbor Seal\": [\"Harbor Seal\", \"Harbor Seals\", \"Large Harbor Seal\", \"Small Harbor Seal\"],\n",
    "    \"Hedgehog\": [\"Hedgehog\", \"Hedgehogs\", \"Large Hedgehog\", \"Small Hedgehog\"],\n",
    "    \"Hippopotamus\": [\"Hippopotamus\", \"Hippopotamuses\", \"Large Hippopotamus\", \"Small Hippopotamus\"],\n",
    "    \"Horse\": [\"Horse\", \"Horses\", \"Large Horse\", \"Small Horse\"],\n",
    "    \"Jaguar\": [\"Jaguar\", \"Jaguars\", \"Large Jaguar\", \"Small Jaguar\"],\n",
    "    \"Jellyfish\": [\"Jellyfish\", \"Jellyfish\", \"Large Jellyfish\", \"Small Jellyfish\"],\n",
    "    \"Kangaroo\": [\"Kangaroo\", \"Kangaroos\", \"Large Kangaroo\", \"Small Kangaroo\"],\n",
    "    \"Koala\": [\"Koala\", \"Koalas\", \"Large Koala\", \"Small Koala\"],\n",
    "    \"Ladybug\": [\"Ladybug\", \"Ladybugs\", \"Large Ladybug\", \"Small Ladybug\"],\n",
    "    \"Leopard\": [\"Leopard\", \"Leopards\", \"Large Leopard\", \"Small Leopard\"],\n",
    "    \"Lion\": [\"Lion\", \"Lions\", \"Large Lion\", \"Small Lion\"],\n",
    "    \"Lizard\": [\"Lizard\", \"Lizards\", \"Large Lizard\", \"Small Lizard\"],\n",
    "    \"Lynx\": [\"Lynx\", \"Lynxes\", \"Large Lynx\", \"Small Lynx\"],\n",
    "    \"Magpie\": [\"Magpie\", \"Magpies\", \"Large Magpie\", \"Small Magpie\"],\n",
    "    \"Monkey\": [\"Monkey\", \"Monkeys\", \"Large Monkey\", \"Small Monkey\"],\n",
    "    \"Moths and butterflies\": [\"Moths and butterflies\", \"Moths and butterflies\", \"Large Moths and butterflies\", \"Small Moths and butterflies\"],\n",
    "    \"Mouse\": [\"Mouse\", \"Mice\", \"Large Mouse\", \"Small Mouse\"],\n",
    "    \"Mule\": [\"Mule\", \"Mules\", \"Large Mule\", \"Small Mule\"],\n",
    "    \"Ostrich\": [\"Ostrich\", \"Ostriches\", \"Large Ostrich\", \"Small Ostrich\"],\n",
    "    \"Otter\": [\"Otter\", \"Otters\", \"Large Otter\", \"Small Otter\"],\n",
    "    \"Owl\": [\"Owl\", \"Owls\", \"Large Owl\", \"Small Owl\"],\n",
    "    \"Panda\": [\"Panda\", \"Pandas\", \"Large Panda\", \"Small Panda\"],\n",
    "    \"Parrot\": [\"Parrot\", \"Parrots\", \"Large Parrot\", \"Small Parrot\"],\n",
    "    \"Penguin\": [\"Penguin\", \"Penguins\", \"Large Penguin\", \"Small Penguin\"],\n",
    "    \"Pig\": [\"Pig\", \"Pigs\", \"Large Pig\", \"Small Pig\"],\n",
    "    \"Polar Bear\": [\"Polar Bear\", \"Polar Bears\", \"Large Polar Bear\", \"Small Polar Bear\"],\n",
    "    \"Rabbit\": [\"Rabbit\", \"Rabbits\", \"Large Rabbit\", \"Small Rabbit\"],\n",
    "    \"Raccoon\": [\"Raccoon\", \"Raccoons\", \"Large Raccoon\", \"Small Raccoon\"],\n",
    "    \"Raven\": [\"Raven\", \"Ravens\", \"Large Raven\", \"Small Raven\"],\n",
    "    \"Red panda\": [\"Red panda\", \"Red pandas\", \"Large Red panda\", \"Small Red panda\"],\n",
    "    \"Rhinoceros\": [\"Rhinoceros\", \"Rhinoceroses\", \"Large Rhinoceros\", \"Small Rhinoceros\"],\n",
    "    \"Scorpion\": [\"Scorpion\", \"Scorpions\", \"Large Scorpion\", \"Small Scorpion\"],\n",
    "    \"Seahorse\": [\"Seahorse\", \"Seahorses\", \"Large Seahorse\", \"Small Seahorse\"],\n",
    "    \"Sea Lion\": [\"Sea Lion\", \"Sea Lions\", \"Large Sea Lion\", \"Small Sea Lion\"],\n",
    "    \"Sea Turtle\": [\"Sea Turtle\", \"Sea Turtles\", \"Large Sea Turtle\", \"Small Sea Turtle\"],\n",
    "    \"Shark\": [\"Shark\", \"Sharks\", \"Large Shark\", \"Small Shark\"],\n",
    "    \"Sheep\": [\"Sheep\", \"Sheep\", \"Large Sheep\", \"Small Sheep\"],\n",
    "    \"Shrimp\": [\"Shrimp\", \"Shrimp\", \"Large Shrimp\", \"Small Shrimp\"],\n",
    "    \"Snail\": [\"Snail\", \"Snails\", \"Large Snail\", \"Small Snail\"],\n",
    "    \"Snake\": [\"Snake\", \"Snakes\", \"Large Snake\", \"Small Snake\"],\n",
    "    \"Sparrow\": [\"Sparrow\", \"Sparrows\", \"Large Sparrow\", \"Small Sparrow\"],\n",
    "    \"Spider\": [\"Spider\", \"Spiders\", \"Large Spider\", \"Small Spider\"],\n",
    "    \"Squid\": [\"Squid\", \"Squids\", \"Large Squid\", \"Small Squid\"],\n",
    "    \"Squirrel\": [\"Squirrel\", \"Squirrels\", \"Large Squirrel\", \"Small Squirrel\"],\n",
    "    \"Starfish\": [\"Starfish\", \"Starfish\", \"Large Starfish\", \"Small Starfish\"],\n",
    "    \"Swan\": [\"Swan\", \"Swans\", \"Large Swan\", \"Small Swan\"],\n",
    "    \"Tick\": [\"Tick\", \"Ticks\", \"Large Tick\", \"Small Tick\"],\n",
    "    \"Tiger\": [\"Tiger\", \"Tigers\", \"Large Tiger\", \"Small Tiger\"],\n",
    "    \"Tortoise\": [\"Tortoise\", \"Tortoises\", \"Large Tortoise\", \"Small Tortoise\"],\n",
    "    \"Turkey\": [\"Turkey\", \"Turkeys\", \"Large Turkey\", \"Small Turkey\"],\n",
    "    \"Turtle\": [\"Turtle\", \"Turtles\", \"Large Turtle\", \"Small Turtle\"],\n",
    "    \"Whale\": [\"Whale\", \"Whales\", \"Large Whale\", \"Small Whale\"],\n",
    "    \"Woodpecker\": [\"Woodpecker\", \"Woodpeckers\", \"Large Woodpecker\", \"Small Woodpecker\"],\n",
    "    \"Worm\": [\"Worm\", \"Worms\", \"Large Worm\", \"Small Worm\"],\n",
    "    \"Zebra\": [\"Zebra\", \"Zebras\", \"Large Zebra\", \"Small Zebra\"]\n",
    "}\n",
    "\n",
    "# Bear, Bears, Large Bear, Small Bear, Brown Bear, Brown Bears, Large Brown Bear, Small Brown Bear, Bull, Bulls, Large Bull, Small Bull, Butterfly, Butterflies, Large Butterfly, Small Butterfly, Camel, Camels, Large Camel, Small Camel, Canary, Canaries, Large Canary, Small Canary, Caterpillar, Caterpillars, Large Caterpillar, Small Caterpillar, Cattle, Cattle, Large Cattle, Small Cattle, Centipede, Centipedes, Large Centipede, Small Centipede, Cheetah, Cheetahs, Large Cheetah, Small Cheetah, Chicken, Chickens, Large Chicken, Small Chicken, Crab, Crabs, Large Crab, Small Crab, Crocodile, Crocodiles, Large Crocodile, Small Crocodile, Deer, Deer, Large Deer, Small Deer, Duck, Ducks, Large Duck, Small Duck, Eagle, Eagles, Large Eagle, Small Eagle, Elephant, Elephants, Large Elephant, Small Elephant, Fish, Fish, Large Fish, Small Fish, Fox, Foxes, Large Fox, Small Fox, Frog, Frogs, Large Frog, Small Frog, Giraffe, Giraffes, Large Giraffe, Small Giraffe, Goat, Goats, Large Goat, Small Goat, Goldfish, Goldfish, Large Goldfish, Small Goldfish, Goose, Geese, Large Goose, Small Goose, Hamster, Hamsters, Large Hamster, Small Hamster, Harbor Seal, Harbor Seals, Large Harbor Seal, Small Harbor Seal, Hedgehog, Hedgehogs, Large Hedgehog, Small Hedgehog, Hippopotamus, Hippopotamuses, Large Hippopotamus, Small Hippopotamus, Horse, Horses, Large Horse, Small Horse, Jaguar, Jaguars, Large Jaguar, Small Jaguar, Jellyfish, Jellyfish, Large Jellyfish, Small Jellyfish, Kangaroo, Kangaroos, Large Kangaroo, Small Kangaroo, Koala, Koalas, Large Koala, Small Koala, Ladybug, Ladybugs, Large Ladybug, Small Ladybug, Leopard, Leopards, Large Leopard, Small Leopard, Lion, Lions, Large Lion, Small Lion, Lizard, Lizards, Large Lizard, Small Lizard, Lynx, Lynxes, Large Lynx, Small Lynx, Magpie, Magpies, Large Magpie, Small Magpie, Monkey, Monkeys, Large Monkey, Small Monkey, Moths and butterflies, Moths and butterflies, Large Moths and butterflies, Small Moths and butterflies, Mouse, Mice, Large Mouse, Small Mouse, Mule, Mules, Large Mule, Small Mule, Ostrich, Ostriches, Large Ostrich, Small Ostrich, Otter, Otters, Large Otter, Small Otter, Owl, Owls, Large Owl, Small Owl, Panda, Pandas, Large Panda, Small Panda, Parrot, Parrots, Large Parrot, Small Parrot, Penguin, Penguins, Large Penguin, Small Penguin, Pig, Pigs, Large Pig, Small Pig, Polar Bear, Polar Bears, Large Polar Bear, Small Polar Bear, Rabbit, Rabbits, Large Rabbit, Small Rabbit, Raccoon, Raccoons, Large Raccoon, Small Raccoon, Raven, Ravens, Large Raven, Small Raven, Red panda, Red pandas, Large Red panda, Small Red panda, Rhinoceros, Rhinoceroses, Large Rhinoceros, Small Rhinoceros, Scorpion, Scorpions, Large Scorpion, Small Scorpion, Seahorse, Seahorses, Large Seahorse, Small Seahorse, Sea Lion, Sea Lions, Large Sea Lion, Small Sea Lion, Sea Turtle, Sea Turtles, Large Sea Turtle, Small Sea Turtle, Shark, Sharks, Large Shark, Small Shark, Sheep, Sheep, Large Sheep, Small Sheep, Shrimp, Shrimp, Large Shrimp, Small Shrimp, Snail, Snails, Large Snail, Small Snail, Snake, Snakes, Large Snake, Small Snake, Sparrow, Sparrows, Large Sparrow, Small Sparrow, Spider, Spiders, Large Spider, Small Spider, Squid, Squids, Large Squid, Small Squid, Squirrel, Squirrels, Large Squirrel, Small Squirrel, Starfish, Starfish, Large Starfish, Small Starfish, Swan, Swans, Large Swan, Small Swan, Tick, Ticks, Large Tick, Small Tick, Tiger, Tigers, Large Tiger, Small Tiger, Tortoise, Tortoises, Large Tortoise, Small Tortoise, Turkey, Turkeys, Large Turkey, Small Turkey, Turtle, Turtles, Large Turtle, Small Turtle, Whale, Whales, Large Whale, Small Whale, Woodpecker, Woodpeckers, Large Woodpecker, Small Woodpecker, Worm, Worms, Large Worm, Small Worm, Zebra, Zebras, Large Zebra, Small Zebra\n",
    "\n",
    "dict_size(a320)\n",
    "print(aOcheck_accuracy('animal80/a320.csv', a320))\n"
   ]
  },
  {
   "cell_type": "code",
   "execution_count": 331,
   "metadata": {},
   "outputs": [
    {
     "name": "stdout",
     "output_type": "stream",
     "text": [
      "400\n",
      "79.07\n",
      "79.07\n"
     ]
    }
   ],
   "source": [
    "a400 = {\n",
    "    \"Bear\": [\"Bear\", \"Bears\", \"Large Bear\", \"Small Bear\", \"Wild Bear\"],\n",
    "    \"Brown Bear\": [\"Brown Bear\", \"Brown Bears\", \"Large Brown Bear\", \"Small Brown Bear\", \"Wild Brown Bear\"],\n",
    "    \"Bull\": [\"Bull\", \"Bulls\", \"Large Bull\", \"Small Bull\", \"Wild Bull\"],\n",
    "    \"Butterfly\": [\"Butterfly\", \"Butterflies\", \"Large Butterfly\", \"Small Butterfly\", \"Wild Butterfly\"],\n",
    "    \"Camel\": [\"Camel\", \"Camels\", \"Large Camel\", \"Small Camel\", \"Wild Camel\"],\n",
    "    \"Canary\": [\"Canary\", \"Canaries\", \"Large Canary\", \"Small Canary\", \"Wild Canary\"],\n",
    "    \"Caterpillar\": [\"Caterpillar\", \"Caterpillars\", \"Large Caterpillar\", \"Small Caterpillar\", \"Wild Caterpillar\"],\n",
    "    \"Cattle\": [\"Cattle\", \"Cattle\", \"Large Cattle\", \"Small Cattle\", \"Wild Cattle\"],\n",
    "    \"Centipede\": [\"Centipede\", \"Centipedes\", \"Large Centipede\", \"Small Centipede\", \"Wild Centipede\"],\n",
    "    \"Cheetah\": [\"Cheetah\", \"Cheetahs\", \"Large Cheetah\", \"Small Cheetah\", \"Wild Cheetah\"],\n",
    "    \"Chicken\": [\"Chicken\", \"Chickens\", \"Large Chicken\", \"Small Chicken\", \"Wild Chicken\"],\n",
    "    \"Crab\": [\"Crab\", \"Crabs\", \"Large Crab\", \"Small Crab\", \"Wild Crab\"],\n",
    "    \"Crocodile\": [\"Crocodile\", \"Crocodiles\", \"Large Crocodile\", \"Small Crocodile\", \"Wild Crocodile\"],\n",
    "    \"Deer\": [\"Deer\", \"Deer\", \"Large Deer\", \"Small Deer\", \"Wild Deer\"],\n",
    "    \"Duck\": [\"Duck\", \"Ducks\", \"Large Duck\", \"Small Duck\", \"Wild Duck\"],\n",
    "    \"Eagle\": [\"Eagle\", \"Eagles\", \"Large Eagle\", \"Small Eagle\", \"Wild Eagle\"],\n",
    "    \"Elephant\": [\"Elephant\", \"Elephants\", \"Large Elephant\", \"Small Elephant\", \"Wild Elephant\"],\n",
    "    \"Fish\": [\"Fish\", \"Fish\", \"Large Fish\", \"Small Fish\", \"Wild Fish\"],\n",
    "    \"Fox\": [\"Fox\", \"Foxes\", \"Large Fox\", \"Small Fox\", \"Wild Fox\"],\n",
    "    \"Frog\": [\"Frog\", \"Frogs\", \"Large Frog\", \"Small Frog\", \"Wild Frog\"],\n",
    "    \"Giraffe\": [\"Giraffe\", \"Giraffes\", \"Large Giraffe\", \"Small Giraffe\", \"Wild Giraffe\"],\n",
    "    \"Goat\": [\"Goat\", \"Goats\", \"Large Goat\", \"Small Goat\", \"Wild Goat\"],\n",
    "    \"Goldfish\": [\"Goldfish\", \"Goldfish\", \"Large Goldfish\", \"Small Goldfish\", \"Wild Goldfish\"],\n",
    "    \"Goose\": [\"Goose\", \"Geese\", \"Large Goose\", \"Small Goose\", \"Wild Goose\"],\n",
    "    \"Hamster\": [\"Hamster\", \"Hamsters\", \"Large Hamster\", \"Small Hamster\", \"Wild Hamster\"],\n",
    "    \"Harbor Seal\": [\"Harbor Seal\", \"Harbor Seals\", \"Large Harbor Seal\", \"Small Harbor Seal\", \"Wild Harbor Seal\"],\n",
    "    \"Hedgehog\": [\"Hedgehog\", \"Hedgehogs\", \"Large Hedgehog\", \"Small Hedgehog\", \"Wild Hedgehog\"],\n",
    "    \"Hippopotamus\": [\"Hippopotamus\", \"Hippopotamuses\", \"Large Hippopotamus\", \"Small Hippopotamus\", \"Wild Hippopotamus\"],\n",
    "    \"Horse\": [\"Horse\", \"Horses\", \"Large Horse\", \"Small Horse\", \"Wild Horse\"],\n",
    "    \"Jaguar\": [\"Jaguar\", \"Jaguars\", \"Large Jaguar\", \"Small Jaguar\", \"Wild Jaguar\"],\n",
    "    \"Jellyfish\": [\"Jellyfish\", \"Jellyfish\", \"Large Jellyfish\", \"Small Jellyfish\", \"Wild Jellyfish\"],\n",
    "    \"Kangaroo\": [\"Kangaroo\", \"Kangaroos\", \"Large Kangaroo\", \"Small Kangaroo\", \"Wild Kangaroo\"],\n",
    "    \"Koala\": [\"Koala\", \"Koalas\", \"Large Koala\", \"Small Koala\", \"Wild Koala\"],\n",
    "    \"Ladybug\": [\"Ladybug\", \"Ladybugs\", \"Large Ladybug\", \"Small Ladybug\", \"Wild Ladybug\"],\n",
    "    \"Leopard\": [\"Leopard\", \"Leopards\", \"Large Leopard\", \"Small Leopard\", \"Wild Leopard\"],\n",
    "    \"Lion\": [\"Lion\", \"Lions\", \"Large Lion\", \"Small Lion\", \"Wild Lion\"],\n",
    "    \"Lizard\": [\"Lizard\", \"Lizards\", \"Large Lizard\", \"Small Lizard\", \"Wild Lizard\"],\n",
    "    \"Lynx\": [\"Lynx\", \"Lynxes\", \"Large Lynx\", \"Small Lynx\", \"Wild Lynx\"],\n",
    "    \"Magpie\": [\"Magpie\", \"Magpies\", \"Large Magpie\", \"Small Magpie\", \"Wild Magpie\"],\n",
    "    \"Monkey\": [\"Monkey\", \"Monkeys\", \"Large Monkey\", \"Small Monkey\", \"Wild Monkey\"],\n",
    "    \"Moths and butterflies\": [\"Moths and butterflies\", \"Moths and butterflies\", \"Large Moths and butterflies\", \"Small Moths and butterflies\", \"Wild Moths and butterflies\"],\n",
    "    \"Mouse\": [\"Mouse\", \"Mice\", \"Large Mouse\", \"Small Mouse\", \"Wild Mouse\"],\n",
    "    \"Mule\": [\"Mule\", \"Mules\", \"Large Mule\", \"Small Mule\", \"Wild Mule\"],\n",
    "    \"Ostrich\": [\"Ostrich\", \"Ostriches\", \"Large Ostrich\", \"Small Ostrich\", \"Wild Ostrich\"],\n",
    "    \"Otter\": [\"Otter\", \"Otters\", \"Large Otter\", \"Small Otter\", \"Wild Otter\"],\n",
    "    \"Owl\": [\"Owl\", \"Owls\", \"Large Owl\", \"Small Owl\", \"Wild Owl\"],\n",
    "    \"Panda\": [\"Panda\", \"Pandas\", \"Large Panda\", \"Small Panda\", \"Wild Panda\"],\n",
    "    \"Parrot\": [\"Parrot\", \"Parrots\", \"Large Parrot\", \"Small Parrot\", \"Wild Parrot\"],\n",
    "    \"Penguin\": [\"Penguin\", \"Penguins\", \"Large Penguin\", \"Small Penguin\", \"Wild Penguin\"],\n",
    "    \"Pig\": [\"Pig\", \"Pigs\", \"Large Pig\", \"Small Pig\", \"Wild Pig\"],\n",
    "    \"Polar Bear\": [\"Polar Bear\", \"Polar Bears\", \"Large Polar Bear\", \"Small Polar Bear\", \"Wild Polar Bear\"],\n",
    "    \"Rabbit\": [\"Rabbit\", \"Rabbits\", \"Large Rabbit\", \"Small Rabbit\", \"Wild Rabbit\"],\n",
    "    \"Raccoon\": [\"Raccoon\", \"Raccoons\", \"Large Raccoon\", \"Small Raccoon\", \"Wild Raccoon\"],\n",
    "    \"Raven\": [\"Raven\", \"Ravens\", \"Large Raven\", \"Small Raven\", \"Wild Raven\"],\n",
    "    \"Red panda\": [\"Red panda\", \"Red pandas\", \"Large Red panda\", \"Small Red panda\", \"Wild Red panda\"],\n",
    "    \"Rhinoceros\": [\"Rhinoceros\", \"Rhinoceroses\", \"Large Rhinoceros\", \"Small Rhinoceros\", \"Wild Rhinoceros\"],\n",
    "    \"Scorpion\": [\"Scorpion\", \"Scorpions\", \"Large Scorpion\", \"Small Scorpion\", \"Wild Scorpion\"],\n",
    "    \"Seahorse\": [\"Seahorse\", \"Seahorses\", \"Large Seahorse\", \"Small Seahorse\", \"Wild Seahorse\"],\n",
    "    \"Sea Lion\": [\"Sea Lion\", \"Sea Lions\", \"Large Sea Lion\", \"Small Sea Lion\", \"Wild Sea Lion\"],\n",
    "    \"Sea Turtle\": [\"Sea Turtle\", \"Sea Turtles\", \"Large Sea Turtle\", \"Small Sea Turtle\", \"Wild Sea Turtle\"],\n",
    "    \"Shark\": [\"Shark\", \"Sharks\", \"Large Shark\", \"Small Shark\", \"Wild Shark\"],\n",
    "    \"Sheep\": [\"Sheep\", \"Sheep\", \"Large Sheep\", \"Small Sheep\", \"Wild Sheep\"],\n",
    "    \"Shrimp\": [\"Shrimp\", \"Shrimp\", \"Large Shrimp\", \"Small Shrimp\", \"Wild Shrimp\"],\n",
    "    \"Snail\": [\"Snail\", \"Snails\", \"Large Snail\", \"Small Snail\", \"Wild Snail\"],\n",
    "    \"Snake\": [\"Snake\", \"Snakes\", \"Large Snake\", \"Small Snake\", \"Wild Snake\"],\n",
    "    \"Sparrow\": [\"Sparrow\", \"Sparrows\", \"Large Sparrow\", \"Small Sparrow\", \"Wild Sparrow\"],\n",
    "    \"Spider\": [\"Spider\", \"Spiders\", \"Large Spider\", \"Small Spider\", \"Wild Spider\"],\n",
    "    \"Squid\": [\"Squid\", \"Squids\", \"Large Squid\", \"Small Squid\", \"Wild Squid\"],\n",
    "    \"Squirrel\": [\"Squirrel\", \"Squirrels\", \"Large Squirrel\", \"Small Squirrel\", \"Wild Squirrel\"],\n",
    "    \"Starfish\": [\"Starfish\", \"Starfish\", \"Large Starfish\", \"Small Starfish\", \"Wild Starfish\"],\n",
    "    \"Swan\": [\"Swan\", \"Swans\", \"Large Swan\", \"Small Swan\", \"Wild Swan\"],\n",
    "    \"Tick\": [\"Tick\", \"Ticks\", \"Large Tick\", \"Small Tick\", \"Wild Tick\"],\n",
    "    \"Tiger\": [\"Tiger\", \"Tigers\", \"Large Tiger\", \"Small Tiger\", \"Wild Tiger\"],\n",
    "    \"Tortoise\": [\"Tortoise\", \"Tortoises\", \"Large Tortoise\", \"Small Tortoise\", \"Wild Tortoise\"],\n",
    "    \"Turkey\": [\"Turkey\", \"Turkeys\", \"Large Turkey\", \"Small Turkey\", \"Wild Turkey\"],\n",
    "    \"Turtle\": [\"Turtle\", \"Turtles\", \"Large Turtle\", \"Small Turtle\", \"Wild Turtle\"],\n",
    "    \"Whale\": [\"Whale\", \"Whales\", \"Large Whale\", \"Small Whale\", \"Wild Whale\"],\n",
    "    \"Woodpecker\": [\"Woodpecker\", \"Woodpeckers\", \"Large Woodpecker\", \"Small Woodpecker\", \"Wild Woodpecker\"],\n",
    "    \"Worm\": [\"Worm\", \"Worms\", \"Large Worm\", \"Small Worm\", \"Wild Worm\"],\n",
    "    \"Zebra\": [\"Zebra\", \"Zebras\", \"Large Zebra\", \"Small Zebra\", \"Wild Zebra\"]\n",
    "}\n",
    "\n",
    "# Bear, Bears, Large Bear, Small Bear, Wild Bear, Brown Bear, Brown Bears, Large Brown Bear, Small Brown Bear, Wild Brown Bear, Bull, Bulls, Large Bull, Small Bull, Wild Bull, Butterfly, Butterflies, Large Butterfly, Small Butterfly, Wild Butterfly, Camel, Camels, Large Camel, Small Camel, Wild Camel, Canary, Canaries, Large Canary, Small Canary, Wild Canary, Caterpillar, Caterpillars, Large Caterpillar, Small Caterpillar, Wild Caterpillar, Cattle, Cattle, Large Cattle, Small Cattle, Wild Cattle, Centipede, Centipedes, Large Centipede, Small Centipede, Wild Centipede, Cheetah, Cheetahs, Large Cheetah, Small Cheetah, Wild Cheetah, Chicken, Chickens, Large Chicken, Small Chicken, Wild Chicken, Crab, Crabs, Large Crab, Small Crab, Wild Crab, Crocodile, Crocodiles, Large Crocodile, Small Crocodile, Wild Crocodile, Deer, Deer, Large Deer, Small Deer, Wild Deer, Duck, Ducks, Large Duck, Small Duck, Wild Duck, Eagle, Eagles, Large Eagle, Small Eagle, Wild Eagle, Elephant, Elephants, Large Elephant, Small Elephant, Wild Elephant, Fish, Fish, Large Fish, Small Fish, Wild Fish, Fox, Foxes, Large Fox, Small Fox, Wild Fox, Frog, Frogs, Large Frog, Small Frog, Wild Frog, Giraffe, Giraffes, Large Giraffe, Small Giraffe, Wild Giraffe, Goat, Goats, Large Goat, Small Goat, Wild Goat, Goldfish, Goldfish, Large Goldfish, Small Goldfish, Wild Goldfish, Goose, Geese, Large Goose, Small Goose, Wild Goose, Hamster, Hamsters, Large Hamster, Small Hamster, Wild Hamster, Harbor Seal, Harbor Seals, Large Harbor Seal, Small Harbor Seal, Wild Harbor Seal, Hedgehog, Hedgehogs, Large Hedgehog, Small Hedgehog, Wild Hedgehog, Hippopotamus, Hippopotamuses, Large Hippopotamus, Small Hippopotamus, Wild Hippopotamus, Horse, Horses, Large Horse, Small Horse, Wild Horse, Jaguar, Jaguars, Large Jaguar, Small Jaguar, Wild Jaguar, Jellyfish, Jellyfish, Large Jellyfish, Small Jellyfish, Wild Jellyfish, Kangaroo, Kangaroos, Large Kangaroo, Small Kangaroo, Wild Kangaroo, Koala, Koalas, Large Koala, Small Koala, Wild Koala, Ladybug, Ladybugs, Large Ladybug, Small Ladybug, Wild Ladybug, Leopard, Leopards, Large Leopard, Small Leopard, Wild Leopard, Lion, Lions, Large Lion, Small Lion, Wild Lion, Lizard, Lizards, Large Lizard, Small Lizard, Wild Lizard, Lynx, Lynxes, Large Lynx, Small Lynx, Wild Lynx, Magpie, Magpies, Large Magpie, Small Magpie, Wild Magpie, Monkey, Monkeys, Large Monkey, Small Monkey, Wild Monkey, Moths and butterflies, Moths and butterflies, Large Moths and butterflies, Small Moths and butterflies, Wild Moths and butterflies, Mouse, Mice, Large Mouse, Small Mouse, Wild Mouse, Mule, Mules, Large Mule, Small Mule, Wild Mule, Ostrich, Ostriches, Large Ostrich, Small Ostrich, Wild Ostrich, Otter, Otters, Large Otter, Small Otter, Wild Otter, Owl, Owls, Large Owl, Small Owl, Wild Owl, Panda, Pandas, Large Panda, Small Panda, Wild Panda, Parrot, Parrots, Large Parrot, Small Parrot, Wild Parrot, Penguin, Penguins, Large Penguin, Small Penguin, Wild Penguin, Pig, Pigs, Large Pig, Small Pig, Wild Pig, Polar Bear, Polar Bears, Large Polar Bear, Small Polar Bear, Wild Polar Bear, Rabbit, Rabbits, Large Rabbit, Small Rabbit, Wild Rabbit, Raccoon, Raccoons, Large Raccoon, Small Raccoon, Wild Raccoon, Raven, Ravens, Large Raven, Small Raven, Wild Raven, Red panda, Red pandas, Large Red panda, Small Red panda, Wild Red panda, Rhinoceros, Rhinoceroses, Large Rhinoceros, Small Rhinoceros, Wild Rhinoceros, Scorpion, Scorpions, Large Scorpion, Small Scorpion, Wild Scorpion, Seahorse, Seahorses, Large Seahorse, Small Seahorse, Wild Seahorse, Sea Lion, Sea Lions, Large Sea Lion, Small Sea Lion, Wild Sea Lion, Sea Turtle, Sea Turtles, Large Sea Turtle, Small Sea Turtle, Wild Sea Turtle, Shark, Sharks, Large Shark, Small Shark, Wild Shark, Sheep, Sheep, Large Sheep, Small Sheep, Wild Sheep, Shrimp, Shrimp, Large Shrimp, Small Shrimp, Wild Shrimp, Snail, Snails, Large Snail, Small Snail, Wild Snail, Snake, Snakes, Large Snake, Small Snake, Wild Snake, Sparrow, Sparrows, Large Sparrow, Small Sparrow, Wild Sparrow, Spider, Spiders, Large Spider, Small Spider, Wild Spider, Squid, Squids, Large Squid, Small Squid, Wild Squid, Squirrel, Squirrels, Large Squirrel, Small Squirrel, Wild Squirrel, Starfish, Starfish, Large Starfish, Small Starfish, Wild Starfish, Swan, Swans, Large Swan, Small Swan, Wild Swan, Tick, Ticks, Large Tick, Small Tick, Wild Tick, Tiger, Tigers, Large Tiger, Small Tiger, Wild Tiger, Tortoise, Tortoises, Large Tortoise, Small Tortoise, Wild Tortoise, Turkey, Turkeys, Large Turkey, Small Turkey, Wild Turkey, Turtle, Turtles, Large Turtle, Small Turtle, Wild Turtle, Whale, Whales, Large Whale, Small Whale, Wild Whale, Woodpecker, Woodpeckers, Large Woodpecker, Small Woodpecker, Wild Woodpecker, Worm, Worms, Large Worm, Small Worm, Wild Worm, Zebra, Zebras, Large Zebra, Small Zebra, Wild Zebra\n",
    "\n",
    "dict_size(a400)\n",
    "print(aOcheck_accuracy('animal80/a400.csv', a400))\n"
   ]
  },
  {
   "cell_type": "code",
   "execution_count": null,
   "metadata": {},
   "outputs": [],
   "source": [
    "a480 = {\n",
    "    \"Bear\": [\"Bear\", \"Bears\", \"Large Bear\", \"Small Bear\", \"Wild Bear\", \"Animal Bear\"],\n",
    "    \"Brown Bear\": [\"Brown Bear\", \"Brown Bears\", \"Large Brown Bear\", \"Small Brown Bear\", \"Wild Brown Bear\", \"Animal Brown Bear\"],\n",
    "    \"Bull\": [\"Bull\", \"Bulls\", \"Large Bull\", \"Small Bull\", \"Wild Bull\", \"Animal Bull\"],\n",
    "    \"Butterfly\": [\"Butterfly\", \"Butterflies\", \"Large Butterfly\", \"Small Butterfly\", \"Wild Butterfly\", \"Animal Butterfly\"],\n",
    "    \"Camel\": [\"Camel\", \"Camels\", \"Large Camel\", \"Small Camel\", \"Wild Camel\", \"Animal Camel\"],\n",
    "    \"Canary\": [\"Canary\", \"Canaries\", \"Large Canary\", \"Small Canary\", \"Wild Canary\", \"Animal Canary\"],\n",
    "    \"Caterpillar\": [\"Caterpillar\", \"Caterpillars\", \"Large Caterpillar\", \"Small Caterpillar\", \"Wild Caterpillar\", \"Animal Caterpillar\"],\n",
    "    \"Cattle\": [\"Cattle\", \"Cattle\", \"Large Cattle\", \"Small Cattle\", \"Wild Cattle\", \"Animal Cattle\"],\n",
    "    \"Centipede\": [\"Centipede\", \"Centipedes\", \"Large Centipede\", \"Small Centipede\", \"Wild Centipede\", \"Animal Centipede\"],\n",
    "    \"Cheetah\": [\"Cheetah\", \"Cheetahs\", \"Large Cheetah\", \"Small Cheetah\", \"Wild Cheetah\", \"Animal Cheetah\"],\n",
    "    \"Chicken\": [\"Chicken\", \"Chickens\", \"Large Chicken\", \"Small Chicken\", \"Wild Chicken\", \"Animal Chicken\"],\n",
    "    \"Crab\": [\"Crab\", \"Crabs\", \"Large Crab\", \"Small Crab\", \"Wild Crab\", \"Animal Crab\"],\n",
    "    \"Crocodile\": [\"Crocodile\", \"Crocodiles\", \"Large Crocodile\", \"Small Crocodile\", \"Wild Crocodile\", \"Animal Crocodile\"],\n",
    "    \"Deer\": [\"Deer\", \"Deer\", \"Large Deer\", \"Small Deer\", \"Wild Deer\", \"Animal Deer\"],\n",
    "    \"Duck\": [\"Duck\", \"Ducks\", \"Large Duck\", \"Small Duck\", \"Wild Duck\", \"Animal Duck\"],\n",
    "    \"Eagle\": [\"Eagle\", \"Eagles\", \"Large Eagle\", \"Small Eagle\", \"Wild Eagle\", \"Animal Eagle\"],\n",
    "    \"Elephant\": [\"Elephant\", \"Elephants\", \"Large Elephant\", \"Small Elephant\", \"Wild Elephant\", \"Animal Elephant\"],\n",
    "    \"Fish\": [\"Fish\", \"Fish\", \"Large Fish\", \"Small Fish\", \"Wild Fish\", \"Animal Fish\"],\n",
    "    \"Fox\": [\"Fox\", \"Foxes\", \"Large Fox\", \"Small Fox\", \"Wild Fox\", \"Animal Fox\"],\n",
    "    \"Frog\": [\"Frog\", \"Frogs\", \"Large Frog\", \"Small Frog\", \"Wild Frog\", \"Animal Frog\"],\n",
    "    \"Giraffe\": [\"Giraffe\", \"Giraffes\", \"Large Giraffe\", \"Small Giraffe\", \"Wild Giraffe\", \"Animal Giraffe\"],\n",
    "    \"Goat\": [\"Goat\", \"Goats\", \"Large Goat\", \"Small Goat\", \"Wild Goat\", \"Animal Goat\"],\n",
    "    \"Goldfish\": [\"Goldfish\", \"Goldfish\", \"Large Goldfish\", \"Small Goldfish\", \"Wild Goldfish\", \"Animal Goldfish\"],\n",
    "    \"Goose\": [\"Goose\", \"Geese\", \"Large Goose\", \"Small Goose\", \"Wild Goose\", \"Animal Goose\"],\n",
    "    \"Hamster\": [\"Hamster\", \"Hamsters\", \"Large Hamster\", \"Small Hamster\", \"Wild Hamster\", \"Animal Hamster\"],\n",
    "    \"Harbor Seal\": [\"Harbor Seal\", \"Harbor Seals\", \"Large Harbor Seal\", \"Small Harbor Seal\", \"Wild Harbor Seal\", \"Animal Harbor Seal\"],\n",
    "    \"Hedgehog\": [\"Hedgehog\", \"Hedgehogs\", \"Large Hedgehog\", \"Small Hedgehog\", \"Wild Hedgehog\", \"Animal Hedgehog\"],\n",
    "    \"Hippopotamus\": [\"Hippopotamus\", \"Hippopotamuses\", \"Large Hippopotamus\", \"Small Hippopotamus\", \"Wild Hippopotamus\", \"Animal Hippopotamus\"],\n",
    "    \"Horse\": [\"Horse\", \"Horses\", \"Large Horse\", \"Small Horse\", \"Wild Horse\", \"Animal Horse\"],\n",
    "    \"Jaguar\": [\"Jaguar\", \"Jaguars\", \"Large Jaguar\", \"Small Jaguar\", \"Wild Jaguar\", \"Animal Jaguar\"],\n",
    "    \"Jellyfish\": [\"Jellyfish\", \"Jellyfish\", \"Large Jellyfish\", \"Small Jellyfish\", \"Wild Jellyfish\", \"Animal Jellyfish\"],\n",
    "    \"Kangaroo\": [\"Kangaroo\", \"Kangaroos\", \"Large Kangaroo\", \"Small Kangaroo\", \"Wild Kangaroo\", \"Animal Kangaroo\"],\n",
    "    \"Koala\": [\"Koala\", \"Koalas\", \"Large Koala\", \"Small Koala\", \"Wild Koala\", \"Animal Koala\"],\n",
    "    \"Ladybug\": [\"Ladybug\", \"Ladybugs\", \"Large Ladybug\", \"Small Ladybug\", \"Wild Ladybug\", \"Animal Ladybug\"],\n",
    "    \"Leopard\": [\"Leopard\", \"Leopards\", \"Large Leopard\", \"Small Leopard\", \"Wild Leopard\", \"Animal Leopard\"],\n",
    "    \"Lion\": [\"Lion\", \"Lions\", \"Large Lion\", \"Small Lion\", \"Wild Lion\", \"Animal Lion\"],\n",
    "    \"Lizard\": [\"Lizard\", \"Lizards\", \"Large Lizard\", \"Small Lizard\", \"Wild Lizard\", \"Animal Lizard\"],\n",
    "    \"Lynx\": [\"Lynx\", \"Lynxes\", \"Large Lynx\", \"Small Lynx\", \"Wild Lynx\", \"Animal Lynx\"],\n",
    "    \"Magpie\": [\"Magpie\", \"Magpies\", \"Large Magpie\", \"Small Magpie\", \"Wild Magpie\", \"Animal Magpie\"],\n",
    "    \"Monkey\": [\"Monkey\", \"Monkeys\", \"Large Monkey\", \"Small Monkey\", \"Wild Monkey\", \"Animal Monkey\"],\n",
    "    \"Moths and butterflies\": [\"Moths and butterflies\", \"Moths and butterflies\", \"Large Moths and butterflies\", \"Small Moths and butterflies\", \"Wild Moths and butterflies\", \"Animal Moths and butterflies\"],\n",
    "    \"Mouse\": [\"Mouse\", \"Mice\", \"Large Mouse\", \"Small Mouse\", \"Wild Mouse\", \"Animal Mouse\"],\n",
    "    \"Mule\": [\"Mule\", \"Mules\", \"Large Mule\", \"Small Mule\", \"Wild Mule\", \"Animal Mule\"],\n",
    "    \"Ostrich\": [\"Ostrich\", \"Ostriches\", \"Large Ostrich\", \"Small Ostrich\", \"Wild Ostrich\", \"Animal Ostrich\"],\n",
    "    \"Otter\": [\"Otter\", \"Otters\", \"Large Otter\", \"Small Otter\", \"Wild Otter\", \"Animal Otter\"],\n",
    "    \"Owl\": [\"Owl\", \"Owls\", \"Large Owl\", \"Small Owl\", \"Wild Owl\", \"Animal Owl\"],\n",
    "    \"Panda\": [\"Panda\", \"Pandas\", \"Large Panda\", \"Small Panda\", \"Wild Panda\", \"Animal Panda\"],\n",
    "    \"Parrot\": [\"Parrot\", \"Parrots\", \"Large Parrot\", \"Small Parrot\", \"Wild Parrot\", \"Animal Parrot\"],\n",
    "    \"Penguin\": [\"Penguin\", \"Penguins\", \"Large Penguin\", \"Small Penguin\", \"Wild Penguin\", \"Animal Penguin\"],\n",
    "    \"Pig\": [\"Pig\", \"Pigs\", \"Large Pig\", \"Small Pig\", \"Wild Pig\", \"Animal Pig\"],\n",
    "    \"Polar Bear\": [\"Polar Bear\", \"Polar Bears\", \"Large Polar Bear\", \"Small Polar Bear\", \"Wild Polar Bear\", \"Animal Polar Bear\"],\n",
    "    \"Rabbit\": [\"Rabbit\", \"Rabbits\", \"Large Rabbit\", \"Small Rabbit\", \"Wild Rabbit\", \"Animal Rabbit\"],\n",
    "    \"Raccoon\": [\"Raccoon\", \"Raccoons\", \"Large Raccoon\", \"Small Raccoon\", \"Wild Raccoon\", \"Animal Raccoon\"],\n",
    "    \"Raven\": [\"Raven\", \"Ravens\", \"Large Raven\", \"Small Raven\", \"Wild Raven\", \"Animal Raven\"],\n",
    "    \"Red panda\": [\"Red panda\", \"Red pandas\", \"Large Red panda\", \"Small Red panda\", \"Wild Red panda\", \"Animal Red panda\"],\n",
    "    \"Rhinoceros\": [\"Rhinoceros\", \"Rhinoceroses\", \"Large Rhinoceros\", \"Small Rhinoceros\", \"Wild Rhinoceros\", \"Animal Rhinoceros\"],\n",
    "    \"Scorpion\": [\"Scorpion\", \"Scorpions\", \"Large Scorpion\", \"Small Scorpion\", \"Wild Scorpion\", \"Animal Scorpion\"],\n",
    "    \"Seahorse\": [\"Seahorse\", \"Seahorses\", \"Large Seahorse\", \"Small Seahorse\", \"Wild Seahorse\", \"Animal Seahorse\"],\n",
    "    \"Sea Lion\": [\"Sea Lion\", \"Sea Lions\", \"Large Sea Lion\", \"Small Sea Lion\", \"Wild Sea Lion\", \"Animal Sea Lion\"],\n",
    "    \"Sea Turtle\": [\"Sea Turtle\", \"Sea Turtles\", \"Large Sea Turtle\", \"Small Sea Turtle\", \"Wild Sea Turtle\", \"Animal Sea Turtle\"],\n",
    "    \"Shark\": [\"Shark\", \"Sharks\", \"Large Shark\", \"Small Shark\", \"Wild Shark\", \"Animal Shark\"],\n",
    "    \"Sheep\": [\"Sheep\", \"Sheep\", \"Large Sheep\", \"Small Sheep\", \"Wild Sheep\", \"Animal Sheep\"],\n",
    "    \"Shrimp\": [\"Shrimp\", \"Shrimp\", \"Large Shrimp\", \"Small Shrimp\", \"Wild Shrimp\", \"Animal Shrimp\"],\n",
    "    \"Snail\": [\"Snail\", \"Snails\", \"Large Snail\", \"Small Snail\", \"Wild Snail\", \"Animal Snail\"],\n",
    "    \"Snake\": [\"Snake\", \"Snakes\", \"Large Snake\", \"Small Snake\", \"Wild Snake\", \"Animal Snake\"],\n",
    "    \"Sparrow\": [\"Sparrow\", \"Sparrows\", \"Large Sparrow\", \"Small Sparrow\", \"Wild Sparrow\", \"Animal Sparrow\"],\n",
    "    \"Spider\": [\"Spider\", \"Spiders\", \"Large Spider\", \"Small Spider\", \"Wild Spider\", \"Animal Spider\"],\n",
    "    \"Squid\": [\"Squid\", \"Squids\", \"Large Squid\", \"Small Squid\", \"Wild Squid\", \"Animal Squid\"],\n",
    "    \"Squirrel\": [\"Squirrel\", \"Squirrels\", \"Large Squirrel\", \"Small Squirrel\", \"Wild Squirrel\", \"Animal Squirrel\"],\n",
    "    \"Starfish\": [\"Starfish\", \"Starfish\", \"Large Starfish\", \"Small Starfish\", \"Wild Starfish\", \"Animal Starfish\"],\n",
    "    \"Swan\": [\"Swan\", \"Swans\", \"Large Swan\", \"Small Swan\", \"Wild Swan\", \"Animal Swan\"],\n",
    "    \"Tick\": [\"Tick\", \"Ticks\", \"Large Tick\", \"Small Tick\", \"Wild Tick\", \"Animal Tick\"],\n",
    "    \"Tiger\": [\"Tiger\", \"Tigers\", \"Large Tiger\", \"Small Tiger\", \"Wild Tiger\", \"Animal Tiger\"],\n",
    "    \"Tortoise\": [\"Tortoise\", \"Tortoises\", \"Large Tortoise\", \"Small Tortoise\", \"Wild Tortoise\", \"Animal Tortoise\"],\n",
    "    \"Turkey\": [\"Turkey\", \"Turkeys\", \"Large Turkey\", \"Small Turkey\", \"Wild Turkey\", \"Animal Turkey\"],\n",
    "    \"Turtle\": [\"Turtle\", \"Turtles\", \"Large Turtle\", \"Small Turtle\", \"Wild Turtle\", \"Animal Turtle\"],\n",
    "    \"Whale\": [\"Whale\", \"Whales\", \"Large Whale\", \"Small Whale\", \"Wild Whale\", \"Animal Whale\"],\n",
    "    \"Woodpecker\": [\"Woodpecker\", \"Woodpeckers\", \"Large Woodpecker\", \"Small Woodpecker\", \"Wild Woodpecker\", \"Animal Woodpecker\"],\n",
    "    \"Worm\": [\"Worm\", \"Worms\", \"Large Worm\", \"Small Worm\", \"Wild Worm\", \"Animal Worm\"],\n",
    "    \"Zebra\": [\"Zebra\", \"Zebras\", \"Large Zebra\", \"Small Zebra\", \"Wild Zebra\", \"Animal Zebra\"]\n",
    "}\n",
    "\n",
    "# Bear, Bears, Large Bear, Small Bear, Wild Bear, Animal Bear, Brown Bear, Brown Bears, Large Brown Bear, Small Brown Bear, Wild Brown Bear, Animal Brown Bear, Bull, Bulls, Large Bull, Small Bull, Wild Bull, Animal Bull, Butterfly, Butterflies, Large Butterfly, Small Butterfly, Wild Butterfly, Animal Butterfly, Camel, Camels, Large Camel, Small Camel, Wild Camel, Animal Camel, Canary, Canaries, Large Canary, Small Canary, Wild Canary, Animal Canary, Caterpillar, Caterpillars, Large Caterpillar, Small Caterpillar, Wild Caterpillar, Animal Caterpillar, Cattle, Cattle, Large Cattle, Small Cattle, Wild Cattle, Animal Cattle, Centipede, Centipedes, Large Centipede, Small Centipede, Wild Centipede, Animal Centipede, Cheetah, Cheetahs, Large Cheetah, Small Cheetah, Wild Cheetah, Animal Cheetah, Chicken, Chickens, Large Chicken, Small Chicken, Wild Chicken, Animal Chicken, Crab, Crabs, Large Crab, Small Crab, Wild Crab, Animal Crab, Crocodile, Crocodiles, Large Crocodile, Small Crocodile, Wild Crocodile, Animal Crocodile, Deer, Deer, Large Deer, Small Deer, Wild Deer, Animal Deer, Duck, Ducks, Large Duck, Small Duck, Wild Duck, Animal Duck, Eagle, Eagles, Large Eagle, Small Eagle, Wild Eagle, Animal Eagle, Elephant, Elephants, Large Elephant, Small Elephant, Wild Elephant, Animal Elephant, Fish, Fish, Large Fish, Small Fish, Wild Fish, Animal Fish, Fox, Foxes, Large Fox, Small Fox, Wild Fox, Animal Fox, Frog, Frogs, Large Frog, Small Frog, Wild Frog, Animal Frog, Giraffe, Giraffes, Large Giraffe, Small Giraffe, Wild Giraffe, Animal Giraffe, Goat, Goats, Large Goat, Small Goat, Wild Goat, Animal Goat, Goldfish, Goldfish, Large Goldfish, Small Goldfish, Wild Goldfish, Animal Goldfish, Goose, Geese, Large Goose, Small Goose, Wild Goose, Animal Goose, Hamster, Hamsters, Large Hamster, Small Hamster, Wild Hamster, Animal Hamster, Harbor Seal, Harbor Seals, Large Harbor Seal, Small Harbor Seal, Wild Harbor Seal, Animal Harbor Seal, Hedgehog, Hedgehogs, Large Hedgehog, Small Hedgehog, Wild Hedgehog, Animal Hedgehog, Hippopotamus, Hippopotamuses, Large Hippopotamus, Small Hippopotamus, Wild Hippopotamus, Animal Hippopotamus, Horse, Horses, Large Horse, Small Horse, Wild Horse, Animal Horse, Jaguar, Jaguars, Large Jaguar, Small Jaguar, Wild Jaguar, Animal Jaguar, Jellyfish, Jellyfish, Large Jellyfish, Small Jellyfish, Wild Jellyfish, Animal Jellyfish, Kangaroo, Kangaroos, Large Kangaroo, Small Kangaroo, Wild Kangaroo, Animal Kangaroo, Koala, Koalas, Large Koala, Small Koala, Wild Koala, Animal Koala, Ladybug, Ladybugs, Large Ladybug, Small Ladybug, Wild Ladybug, Animal Ladybug, Leopard, Leopards, Large Leopard, Small Leopard, Wild Leopard, Animal Leopard, Lion, Lions, Large Lion, Small Lion, Wild Lion, Animal Lion, Lizard, Lizards, Large Lizard, Small Lizard, Wild Lizard, Animal Lizard, Lynx, Lynxes, Large Lynx, Small Lynx, Wild Lynx, Animal Lynx, Magpie, Magpies, Large Magpie, Small Magpie, Wild Magpie, Animal Magpie, Monkey, Monkeys, Large Monkey, Small Monkey, Wild Monkey, Animal Monkey, Moths and butterflies, Moths and butterflies, Large Moths and butterflies, Small Moths and butterflies, Wild Moths and butterflies, Animal Moths and butterflies, Mouse, Mice, Large Mouse, Small Mouse, Wild Mouse, Animal Mouse, Mule, Mules, Large Mule, Small Mule, Wild Mule, Animal Mule, Ostrich, Ostriches, Large Ostrich, Small Ostrich, Wild Ostrich, Animal Ostrich, Otter, Otters, Large Otter, Small Otter, Wild Otter, Animal Otter, Owl, Owls, Large Owl, Small Owl, Wild Owl, Animal Owl, Panda, Pandas, Large Panda, Small Panda, Wild Panda, Animal Panda, Parrot, Parrots, Large Parrot, Small Parrot, Wild Parrot, Animal Parrot, Penguin, Penguins, Large Penguin, Small Penguin, Wild Penguin, Animal Penguin, Pig, Pigs, Large Pig, Small Pig, Wild Pig, Animal Pig, Polar Bear, Polar Bears, Large Polar Bear, Small Polar Bear, Wild Polar Bear, Animal Polar Bear, Rabbit, Rabbits, Large Rabbit, Small Rabbit, Wild Rabbit, Animal Rabbit, Raccoon, Raccoons, Large Raccoon, Small Raccoon, Wild Raccoon, Animal Raccoon, Raven, Ravens, Large Raven, Small Raven, Wild Raven, Animal Raven, Red panda, Red pandas, Large Red panda, Small Red panda, Wild Red panda, Animal Red panda, Rhinoceros, Rhinoceroses, Large Rhinoceros, Small Rhinoceros, Wild Rhinoceros, Animal Rhinoceros, Scorpion, Scorpions, Large Scorpion, Small Scorpion, Wild Scorpion, Animal Scorpion, Seahorse, Seahorses, Large Seahorse, Small Seahorse, Wild Seahorse, Animal Seahorse, Sea Lion, Sea Lions, Large Sea Lion, Small Sea Lion, Wild Sea Lion, Animal Sea Lion, Sea Turtle, Sea Turtles, Large Sea Turtle, Small Sea Turtle, Wild Sea Turtle, Animal Sea Turtle, Shark, Sharks, Large Shark, Small Shark, Wild Shark, Animal Shark, Sheep, Sheep, Large Sheep, Small Sheep, Wild Sheep, Animal Sheep, Shrimp, Shrimp, Large Shrimp, Small Shrimp, Wild Shrimp, Animal Shrimp, Snail, Snails, Large Snail, Small Snail, Wild Snail, Animal Snail, Snake, Snakes, Large Snake, Small Snake, Wild Snake, Animal Snake, Sparrow, Sparrows, Large Sparrow, Small Sparrow, Wild Sparrow, Animal Sparrow, Spider, Spiders, Large Spider, Small Spider, Wild Spider, Animal Spider, Squid, Squids, Large Squid, Small Squid, Wild Squid, Animal Squid, Squirrel, Squirrels, Large Squirrel, Small Squirrel, Wild Squirrel, Animal Squirrel, Starfish, Starfish, Large Starfish, Small Starfish, Wild Starfish, Animal Starfish, Swan, Swans, Large Swan, Small Swan, Wild Swan, Animal Swan, Tick, Ticks, Large Tick, Small Tick, Wild Tick, Animal Tick, Tiger, Tigers, Large Tiger, Small Tiger, Wild Tiger, Animal Tiger, Tortoise, Tortoises, Large Tortoise, Small Tortoise, Wild Tortoise, Animal Tortoise, Turkey, Turkeys, Large Turkey, Small Turkey, Wild Turkey, Animal Turkey, Turtle, Turtles, Large Turtle, Small Turtle, Wild Turtle, Animal Turtle, Whale, Whales, Large Whale, Small Whale, Wild Whale, Animal Whale, Woodpecker, Woodpeckers, Large Woodpecker, Small Woodpecker, Wild Woodpecker, Animal Woodpecker, Worm, Worms, Large Worm, Small Worm, Wild Worm, Animal Worm, Zebra, Zebras, Large Zebra, Small Zebra, Wild Zebra, Animal Zebra\n",
    "\n",
    "dict_size(a480)\n",
    "print(aOcheck_accuracy(\"animal80/a480.csv\", a480))\n"
   ]
  },
  {
   "cell_type": "code",
   "execution_count": null,
   "metadata": {},
   "outputs": [],
   "source": [
    "a540 = {\n",
    "    \"Bear\": [\"Bear\", \"Bears\", \"Large Bear\", \"Small Bear\", \"Wild Bear\", \"Animal Bear\", \"Animal Bears\"],\n",
    "    \"Brown Bear\": [\"Brown Bear\", \"Brown Bears\", \"Large Brown Bear\", \"Small Brown Bear\", \"Wild Brown Bear\", \"Animal Brown Bear\", \"Animal Brown Bears\"],\n",
    "    \"Bull\": [\"Bull\", \"Bulls\", \"Large Bull\", \"Small Bull\", \"Wild Bull\", \"Animal Bull\", \"Animal Bulls\"],\n",
    "    \"Butterfly\": [\"Butterfly\", \"Butterflies\", \"Large Butterfly\", \"Small Butterfly\", \"Wild Butterfly\", \"Animal Butterfly\", \"Animal Butterflies\"],\n",
    "    \"Camel\": [\"Camel\", \"Camels\", \"Large Camel\", \"Small Camel\", \"Wild Camel\", \"Animal Camel\", \"Animal Camels\"],\n",
    "    \"Canary\": [\"Canary\", \"Canaries\", \"Large Canary\", \"Small Canary\", \"Wild Canary\", \"Animal Canary\", \"Animal Canaries\"],\n",
    "    \"Caterpillar\": [\"Caterpillar\", \"Caterpillars\", \"Large Caterpillar\", \"Small Caterpillar\", \"Wild Caterpillar\", \"Animal Caterpillar\", \"Animal Caterpillars\"],\n",
    "    \"Cattle\": [\"Cattle\", \"Cattle\", \"Large Cattle\", \"Small Cattle\", \"Wild Cattle\", \"Animal Cattle\", \"Animal Cattle\"],\n",
    "    \"Centipede\": [\"Centipede\", \"Centipedes\", \"Large Centipede\", \"Small Centipede\", \"Wild Centipede\", \"Animal Centipede\", \"Animal Centipedes\"],\n",
    "    \"Cheetah\": [\"Cheetah\", \"Cheetahs\", \"Large Cheetah\", \"Small Cheetah\", \"Wild Cheetah\", \"Animal Cheetah\", \"Animal Cheetahs\"],\n",
    "    \"Chicken\": [\"Chicken\", \"Chickens\", \"Large Chicken\", \"Small Chicken\", \"Wild Chicken\", \"Animal Chicken\", \"Animal Chickens\"],\n",
    "    \"Crab\": [\"Crab\", \"Crabs\", \"Large Crab\", \"Small Crab\", \"Wild Crab\", \"Animal Crab\", \"Animal Crabs\"],\n",
    "    \"Crocodile\": [\"Crocodile\", \"Crocodiles\", \"Large Crocodile\", \"Small Crocodile\", \"Wild Crocodile\", \"Animal Crocodile\", \"Animal Crocodiles\"],\n",
    "    \"Deer\": [\"Deer\", \"Deer\", \"Large Deer\", \"Small Deer\", \"Wild Deer\", \"Animal Deer\", \"Animal Deer\"],\n",
    "    \"Duck\": [\"Duck\", \"Ducks\", \"Large Duck\", \"Small Duck\", \"Wild Duck\", \"Animal Duck\", \"Animal Ducks\"],\n",
    "    \"Eagle\": [\"Eagle\", \"Eagles\", \"Large Eagle\", \"Small Eagle\", \"Wild Eagle\", \"Animal Eagle\", \"Animal Eagles\"],\n",
    "    \"Elephant\": [\"Elephant\", \"Elephants\", \"Large Elephant\", \"Small Elephant\", \"Wild Elephant\", \"Animal Elephant\", \"Animal Elephants\"],\n",
    "    \"Fish\": [\"Fish\", \"Fish\", \"Large Fish\", \"Small Fish\", \"Wild Fish\", \"Animal Fish\", \"Animal Fish\"],\n",
    "    \"Fox\": [\"Fox\", \"Foxes\", \"Large Fox\", \"Small Fox\", \"Wild Fox\", \"Animal Fox\", \"Animal Foxes\"],\n",
    "    \"Frog\": [\"Frog\", \"Frogs\", \"Large Frog\", \"Small Frog\", \"Wild Frog\", \"Animal Frog\", \"Animal Frogs\"],\n",
    "    \"Giraffe\": [\"Giraffe\", \"Giraffes\", \"Large Giraffe\", \"Small Giraffe\", \"Wild Giraffe\", \"Animal Giraffe\", \"Animal Giraffes\"],\n",
    "    \"Goat\": [\"Goat\", \"Goats\", \"Large Goat\", \"Small Goat\", \"Wild Goat\", \"Animal Goat\", \"Animal Goats\"],\n",
    "    \"Goldfish\": [\"Goldfish\", \"Goldfish\", \"Large Goldfish\", \"Small Goldfish\", \"Wild Goldfish\", \"Animal Goldfish\", \"Animal Goldfish\"],\n",
    "    \"Goose\": [\"Goose\", \"Geese\", \"Large Goose\", \"Small Goose\", \"Wild Goose\", \"Animal Goose\", \"Animal Geese\"],\n",
    "    \"Hamster\": [\"Hamster\", \"Hamsters\", \"Large Hamster\", \"Small Hamster\", \"Wild Hamster\", \"Animal Hamster\", \"Animal Hamsters\"],\n",
    "    \"Harbor Seal\": [\"Harbor Seal\", \"Harbor Seals\", \"Large Harbor Seal\", \"Small Harbor Seal\", \"Wild Harbor Seal\", \"Animal Harbor Seal\", \"Animal Harbor Seals\"],\n",
    "    \"Hedgehog\": [\"Hedgehog\", \"Hedgehogs\", \"Large Hedgehog\", \"Small Hedgehog\", \"Wild Hedgehog\", \"Animal Hedgehog\", \"Animal Hedgehogs\"],\n",
    "    \"Hippopotamus\": [\"Hippopotamus\", \"Hippopotamuses\", \"Large Hippopotamus\", \"Small Hippopotamus\", \"Wild Hippopotamus\", \"Animal Hippopotamus\", \"Animal Hippopotamuses\"],\n",
    "    \"Horse\": [\"Horse\", \"Horses\", \"Large Horse\", \"Small Horse\", \"Wild Horse\", \"Animal Horse\", \"Animal Horses\"],\n",
    "    \"Jaguar\": [\"Jaguar\", \"Jaguars\", \"Large Jaguar\", \"Small Jaguar\", \"Wild Jaguar\", \"Animal Jaguar\", \"Animal Jaguars\"],\n",
    "    \"Jellyfish\": [\"Jellyfish\", \"Jellyfish\", \"Large Jellyfish\", \"Small Jellyfish\", \"Wild Jellyfish\", \"Animal Jellyfish\", \"Animal Jellyfish\"],\n",
    "    \"Kangaroo\": [\"Kangaroo\", \"Kangaroos\", \"Large Kangaroo\", \"Small Kangaroo\", \"Wild Kangaroo\", \"Animal Kangaroo\", \"Animal Kangaroos\"],\n",
    "    \"Koala\": [\"Koala\", \"Koalas\", \"Large Koala\", \"Small Koala\", \"Wild Koala\", \"Animal Koala\", \"Animal Koalas\"],\n",
    "    \"Ladybug\": [\"Ladybug\", \"Ladybugs\", \"Large Ladybug\", \"Small Ladybug\", \"Wild Ladybug\", \"Animal Ladybug\", \"Animal Ladybugs\"],\n",
    "    \"Leopard\": [\"Leopard\", \"Leopards\", \"Large Leopard\", \"Small Leopard\", \"Wild Leopard\", \"Animal Leopard\", \"Animal Leopards\"],\n",
    "    \"Lion\": [\"Lion\", \"Lions\", \"Large Lion\", \"Small Lion\", \"Wild Lion\", \"Animal Lion\", \"Animal Lions\"],\n",
    "    \"Lizard\": [\"Lizard\", \"Lizards\", \"Large Lizard\", \"Small Lizard\", \"Wild Lizard\", \"Animal Lizard\", \"Animal Lizards\"],\n",
    "    \"Lynx\": [\"Lynx\", \"Lynxes\", \"Large Lynx\", \"Small Lynx\", \"Wild Lynx\", \"Animal Lynx\", \"Animal Lynxes\"],\n",
    "    \"Magpie\": [\"Magpie\", \"Magpies\", \"Large Magpie\", \"Small Magpie\", \"Wild Magpie\", \"Animal Magpie\", \"Animal Magpies\"],\n",
    "    \"Monkey\": [\"Monkey\", \"Monkeys\", \"Large Monkey\", \"Small Monkey\", \"Wild Monkey\", \"Animal Monkey\", \"Animal Monkeys\"],\n",
    "    \"Moths and butterflies\": [\"Moths and butterflies\", \"Moths and butterflies\", \"Large Moths and butterflies\", \"Small Moths and butterflies\", \"Wild Moths and butterflies\", \"Animal Moths and butterflies\", \"Animal Moths and butterflies\"],\n",
    "    \"Mouse\": [\"Mouse\", \"Mice\", \"Large Mouse\", \"Small Mouse\", \"Wild Mouse\", \"Animal Mouse\", \"Animal Mice\"],\n",
    "    \"Mule\": [\"Mule\", \"Mules\", \"Large Mule\", \"Small Mule\", \"Wild Mule\", \"Animal Mule\", \"Animal Mules\"],\n",
    "    \"Ostrich\": [\"Ostrich\", \"Ostriches\", \"Large Ostrich\", \"Small Ostrich\", \"Wild Ostrich\", \"Animal Ostrich\", \"Animal Ostriches\"],\n",
    "    \"Otter\": [\"Otter\", \"Otters\", \"Large Otter\", \"Small Otter\", \"Wild Otter\", \"Animal Otter\", \"Animal Otters\"],\n",
    "    \"Owl\": [\"Owl\", \"Owls\", \"Large Owl\", \"Small Owl\", \"Wild Owl\", \"Animal Owl\", \"Animal Owls\"],\n",
    "    \"Panda\": [\"Panda\", \"Pandas\", \"Large Panda\", \"Small Panda\", \"Wild Panda\", \"Animal Panda\", \"Animal Pandas\"],\n",
    "    \"Parrot\": [\"Parrot\", \"Parrots\", \"Large Parrot\", \"Small Parrot\", \"Wild Parrot\", \"Animal Parrot\", \"Animal Parrots\"],\n",
    "    \"Penguin\": [\"Penguin\", \"Penguins\", \"Large Penguin\", \"Small Penguin\", \"Wild Penguin\", \"Animal Penguin\", \"Animal Penguins\"],\n",
    "    \"Pig\": [\"Pig\", \"Pigs\", \"Large Pig\", \"Small Pig\", \"Wild Pig\", \"Animal Pig\", \"Animal Pigs\"],\n",
    "    \"Polar Bear\": [\"Polar Bear\", \"Polar Bears\", \"Large Polar Bear\", \"Small Polar Bear\", \"Wild Polar Bear\", \"Animal Polar Bear\", \"Animal Polar Bears\"],\n",
    "    \"Rabbit\": [\"Rabbit\", \"Rabbits\", \"Large Rabbit\", \"Small Rabbit\", \"Wild Rabbit\", \"Animal Rabbit\", \"Animal Rabbits\"],\n",
    "    \"Raccoon\": [\"Raccoon\", \"Raccoons\", \"Large Raccoon\", \"Small Raccoon\", \"Wild Raccoon\", \"Animal Raccoon\", \"Animal Raccoons\"],\n",
    "    \"Raven\": [\"Raven\", \"Ravens\", \"Large Raven\", \"Small Raven\", \"Wild Raven\", \"Animal Raven\", \"Animal Ravens\"],\n",
    "    \"Red panda\": [\"Red panda\", \"Red pandas\", \"Large Red panda\", \"Small Red panda\", \"Wild Red panda\", \"Animal Red panda\", \"Animal Red pandas\"],\n",
    "    \"Rhinoceros\": [\"Rhinoceros\", \"Rhinoceroses\", \"Large Rhinoceros\", \"Small Rhinoceros\", \"Wild Rhinoceros\", \"Animal Rhinoceros\", \"Animal Rhinoceroses\"],\n",
    "    \"Scorpion\": [\"Scorpion\", \"Scorpions\", \"Large Scorpion\", \"Small Scorpion\", \"Wild Scorpion\", \"Animal Scorpion\", \"Animal Scorpions\"],\n",
    "    \"Seahorse\": [\"Seahorse\", \"Seahorses\", \"Large Seahorse\", \"Small Seahorse\", \"Wild Seahorse\", \"Animal Seahorse\", \"Animal Seahorses\"],\n",
    "    \"Sea Lion\": [\"Sea Lion\", \"Sea Lions\", \"Large Sea Lion\", \"Small Sea Lion\", \"Wild Sea Lion\", \"Animal Sea Lion\", \"Animal Sea Lions\"],\n",
    "    \"Sea Turtle\": [\"Sea Turtle\", \"Sea Turtles\", \"Large Sea Turtle\", \"Small Sea Turtle\", \"Wild Sea Turtle\", \"Animal Sea Turtle\", \"Animal Sea Turtles\"],\n",
    "    \"Shark\": [\"Shark\", \"Sharks\", \"Large Shark\", \"Small Shark\", \"Wild Shark\", \"Animal Shark\", \"Animal Sharks\"],\n",
    "    \"Sheep\": [\"Sheep\", \"Sheep\", \"Large Sheep\", \"Small Sheep\", \"Wild Sheep\", \"Animal Sheep\", \"Animal Sheep\"],\n",
    "    \"Shrimp\": [\"Shrimp\", \"Shrimp\", \"Large Shrimp\", \"Small Shrimp\", \"Wild Shrimp\", \"Animal Shrimp\", \"Animal Shrimp\"],\n",
    "    \"Snail\": [\"Snail\", \"Snails\", \"Large Snail\", \"Small Snail\", \"Wild Snail\", \"Animal Snail\", \"Animal Snails\"],\n",
    "    \"Snake\": [\"Snake\", \"Snakes\", \"Large Snake\", \"Small Snake\", \"Wild Snake\", \"Animal Snake\", \"Animal Snakes\"],\n",
    "    \"Sparrow\": [\"Sparrow\", \"Sparrows\", \"Large Sparrow\", \"Small Sparrow\", \"Wild Sparrow\", \"Animal Sparrow\", \"Animal Sparrows\"],\n",
    "    \"Spider\": [\"Spider\", \"Spiders\", \"Large Spider\", \"Small Spider\", \"Wild Spider\", \"Animal Spider\", \"Animal Spiders\"],\n",
    "    \"Squid\": [\"Squid\", \"Squids\", \"Large Squid\", \"Small Squid\", \"Wild Squid\", \"Animal Squid\", \"Animal Squids\"],\n",
    "    \"Squirrel\": [\"Squirrel\", \"Squirrels\", \"Large Squirrel\", \"Small Squirrel\", \"Wild Squirrel\", \"Animal Squirrel\", \"Animal Squirrels\"],\n",
    "    \"Starfish\": [\"Starfish\", \"Starfish\", \"Large Starfish\", \"Small Starfish\", \"Wild Starfish\", \"Animal Starfish\", \"Animal Starfish\"],\n",
    "    \"Swan\": [\"Swan\", \"Swans\", \"Large Swan\", \"Small Swan\", \"Wild Swan\", \"Animal Swan\", \"Animal Swans\"],\n",
    "    \"Tick\": [\"Tick\", \"Ticks\", \"Large Tick\", \"Small Tick\", \"Wild Tick\", \"Animal Tick\", \"Animal Ticks\"],\n",
    "    \"Tiger\": [\"Tiger\", \"Tigers\", \"Large Tiger\", \"Small Tiger\", \"Wild Tiger\", \"Animal Tiger\", \"Animal Tigers\"],\n",
    "    \"Tortoise\": [\"Tortoise\", \"Tortoises\", \"Large Tortoise\", \"Small Tortoise\", \"Wild Tortoise\", \"Animal Tortoise\", \"Animal Tortoises\"],\n",
    "    \"Turkey\": [\"Turkey\", \"Turkeys\", \"Large Turkey\", \"Small Turkey\", \"Wild Turkey\", \"Animal Turkey\", \"Animal Turkeys\"],\n",
    "    \"Turtle\": [\"Turtle\", \"Turtles\", \"Large Turtle\", \"Small Turtle\", \"Wild Turtle\", \"Animal Turtle\", \"Animal Turtles\"],\n",
    "    \"Whale\": [\"Whale\", \"Whales\", \"Large Whale\", \"Small Whale\", \"Wild Whale\", \"Animal Whale\", \"Animal Whales\"],\n",
    "    \"Woodpecker\": [\"Woodpecker\", \"Woodpeckers\", \"Large Woodpecker\", \"Small Woodpecker\", \"Wild Woodpecker\", \"Animal Woodpecker\", \"Animal Woodpeckers\"],\n",
    "    \"Worm\": [\"Worm\", \"Worms\", \"Large Worm\", \"Small Worm\", \"Wild Worm\", \"Animal Worm\", \"Animal Worms\"],\n",
    "    \"Zebra\": [\"Zebra\", \"Zebras\", \"Large Zebra\", \"Small Zebra\", \"Wild Zebra\", \"Animal Zebra\", \"Animal Zebras\"]\n",
    "}\n",
    "\n",
    "# Bear, Bears, Large Bear, Small Bear, Wild Bear, Animal Bear, Animal Bears, Brown Bear, Brown Bears, Large Brown Bear, Small Brown Bear, Wild Brown Bear, Animal Brown Bear, Animal Brown Bears, Bull, Bulls, Large Bull, Small Bull, Wild Bull, Animal Bull, Animal Bulls, Butterfly, Butterflies, Large Butterfly, Small Butterfly, Wild Butterfly, Animal Butterfly, Animal Butterflies, Camel, Camels, Large Camel, Small Camel, Wild Camel, Animal Camel, Animal Camels, Canary, Canaries, Large Canary, Small Canary, Wild Canary, Animal Canary, Animal Canaries, Caterpillar, Caterpillars, Large Caterpillar, Small Caterpillar, Wild Caterpillar, Animal Caterpillar, Animal Caterpillars, Cattle, Cattle, Large Cattle, Small Cattle, Wild Cattle, Animal Cattle, Animal Cattle, Centipede, Centipedes, Large Centipede, Small Centipede, Wild Centipede, Animal Centipede, Animal Centipedes, Cheetah, Cheetahs, Large Cheetah, Small Cheetah, Wild Cheetah, Animal Cheetah, Animal Cheetahs, Chicken, Chickens, Large Chicken, Small Chicken, Wild Chicken, Animal Chicken, Animal Chickens, Crab, Crabs, Large Crab, Small Crab, Wild Crab, Animal Crab, Animal Crabs, Crocodile, Crocodiles, Large Crocodile, Small Crocodile, Wild Crocodile, Animal Crocodile, Animal Crocodiles, Deer, Deer, Large Deer, Small Deer, Wild Deer, Animal Deer, Animal Deer, Duck, Ducks, Large Duck, Small Duck, Wild Duck, Animal Duck, Animal Ducks, Eagle, Eagles, Large Eagle, Small Eagle, Wild Eagle, Animal Eagle, Animal Eagles, Elephant, Elephants, Large Elephant, Small Elephant, Wild Elephant, Animal Elephant, Animal Elephants, Fish, Fish, Large Fish, Small Fish, Wild Fish, Animal Fish, Animal Fish, Fox, Foxes, Large Fox, Small Fox, Wild Fox, Animal Fox, Animal Foxes, Frog, Frogs, Large Frog, Small Frog, Wild Frog, Animal Frog, Animal Frogs, Giraffe, Giraffes, Large Giraffe, Small Giraffe, Wild Giraffe, Animal Giraffe, Animal Giraffes, Goat, Goats, Large Goat, Small Goat, Wild Goat, Animal Goat, Animal Goats, Goldfish, Goldfish, Large Goldfish, Small Goldfish, Wild Goldfish, Animal Goldfish, Animal Goldfish, Goose, Geese, Large Goose, Small Goose, Wild Goose, Animal Goose, Animal Geese, Hamster, Hamsters, Large Hamster, Small Hamster, Wild Hamster, Animal Hamster, Animal Hamsters, Harbor Seal, Harbor Seals, Large Harbor Seal, Small Harbor Seal, Wild Harbor Seal, Animal Harbor Seal, Animal Harbor Seals, Hedgehog, Hedgehogs, Large Hedgehog, Small Hedgehog, Wild Hedgehog, Animal Hedgehog, Animal Hedgehogs, Hippopotamus, Hippopotamuses, Large Hippopotamus, Small Hippopotamus, Wild Hippopotamus, Animal Hippopotamus, Animal Hippopotamuses, Horse, Horses, Large Horse, Small Horse, Wild Horse, Animal Horse, Animal Horses, Jaguar, Jaguars, Large Jaguar, Small Jaguar, Wild Jaguar, Animal Jaguar, Animal Jaguars, Jellyfish, Jellyfish, Large Jellyfish, Small Jellyfish, Wild Jellyfish, Animal Jellyfish, Animal Jellyfish, Kangaroo, Kangaroos, Large Kangaroo, Small Kangaroo, Wild Kangaroo, Animal Kangaroo, Animal Kangaroos, Koala, Koalas, Large Koala, Small Koala, Wild Koala, Animal Koala, Animal Koalas, Ladybug, Ladybugs, Large Ladybug, Small Ladybug, Wild Ladybug, Animal Ladybug, Animal Ladybugs, Leopard, Leopards, Large Leopard, Small Leopard, Wild Leopard, Animal Leopard, Animal Leopards, Lion, Lions, Large Lion, Small Lion, Wild Lion, Animal Lion, Animal Lions, Lizard, Lizards, Large Lizard, Small Lizard, Wild Lizard, Animal Lizard, Animal Lizards, Lynx, Lynxes, Large Lynx, Small Lynx, Wild Lynx, Animal Lynx, Animal Lynxes, Magpie, Magpies, Large Magpie, Small Magpie, Wild Magpie, Animal Magpie, Animal Magpies, Monkey, Monkeys, Large Monkey, Small Monkey, Wild Monkey, Animal Monkey, Animal Monkeys, Moths and butterflies, Moths and butterflies, Large Moths and butterflies, Small Moths and butterflies, Wild Moths and butterflies, Animal Moths and butterflies, Animal Moths and butterflies, Mouse, Mice, Large Mouse, Small Mouse, Wild Mouse, Animal Mouse, Animal Mice, Mule, Mules, Large Mule, Small Mule, Wild Mule, Animal Mule, Animal Mules, Ostrich, Ostriches, Large Ostrich, Small Ostrich, Wild Ostrich, Animal Ostrich, Animal Ostriches, Otter, Otters, Large Otter, Small Otter, Wild Otter, Animal Otter, Animal Otters, Owl, Owls, Large Owl, Small Owl, Wild Owl, Animal Owl, Animal Owls, Panda, Pandas, Large Panda, Small Panda, Wild Panda, Animal Panda, Animal Pandas, Parrot, Parrots, Large Parrot, Small Parrot, Wild Parrot, Animal Parrot, Animal Parrots, Penguin, Penguins, Large Penguin, Small Penguin, Wild Penguin, Animal Penguin, Animal Penguins, Pig, Pigs, Large Pig, Small Pig, Wild Pig, Animal Pig, Animal Pigs, Polar Bear, Polar Bears, Large Polar Bear, Small Polar Bear, Wild Polar Bear, Animal Polar Bear, Animal Polar Bears, Rabbit, Rabbits, Large Rabbit, Small Rabbit, Wild Rabbit, Animal Rabbit, Animal Rabbits, Raccoon, Raccoons, Large Raccoon, Small Raccoon, Wild Raccoon, Animal Raccoon, Animal Raccoons, Raven, Ravens, Large Raven, Small Raven, Wild Raven, Animal Raven, Animal Ravens, Red panda, Red pandas, Large Red panda, Small Red panda, Wild Red panda, Animal Red panda, Animal Red pandas, Rhinoceros, Rhinoceroses, Large Rhinoceros, Small Rhinoceros, Wild Rhinoceros, Animal Rhinoceros, Animal Rhinoceroses, Scorpion, Scorpions, Large Scorpion, Small Scorpion, Wild Scorpion, Animal Scorpion, Animal Scorpions, Seahorse, Seahorses, Large Seahorse, Small Seahorse, Wild Seahorse, Animal Seahorse, Animal Seahorses, Sea Lion, Sea Lions, Large Sea Lion, Small Sea Lion, Wild Sea Lion, Animal Sea Lion, Animal Sea Lions, Sea Turtle, Sea Turtles, Large Sea Turtle, Small Sea Turtle, Wild Sea Turtle, Animal Sea Turtle, Animal Sea Turtles, Shark, Sharks, Large Shark, Small Shark, Wild Shark, Animal Shark, Animal Sharks, Sheep, Sheep, Large Sheep, Small Sheep, Wild Sheep, Animal Sheep, Animal Sheep, Shrimp, Shrimp, Large Shrimp, Small Shrimp, Wild Shrimp, Animal Shrimp, Animal Shrimp, Snail, Snails, Large Snail, Small Snail, Wild Snail, Animal Snail, Animal Snails, Snake, Snakes, Large Snake, Small Snake, Wild Snake, Animal Snake, Animal Snakes, Sparrow, Sparrows, Large Sparrow, Small Sparrow, Wild Sparrow, Animal Sparrow, Animal Sparrows, Spider, Spiders, Large Spider, Small Spider, Wild Spider, Animal Spider, Animal Spiders, Squid, Squids, Large Squid, Small Squid, Wild Squid, Animal Squid, Animal Squids, Squirrel, Squirrels, Large Squirrel, Small Squirrel, Wild Squirrel, Animal Squirrel, Animal Squirrels, Starfish, Starfish, Large Starfish, Small Starfish, Wild Starfish, Animal Starfish, Animal Starfish, Swan, Swans, Large Swan, Small Swan, Wild Swan, Animal Swan, Animal Swans, Tick, Ticks, Large Tick, Small Tick, Wild Tick, Animal Tick, Animal Ticks, Tiger, Tigers, Large Tiger, Small Tiger, Wild Tiger, Animal Tiger, Animal Tigers, Tortoise, Tortoises, Large Tortoise, Small Tortoise, Wild Tortoise, Animal Tortoise, Animal Tortoises, Turkey, Turkeys, Large Turkey, Small Turkey, Wild Turkey, Animal Turkey, Animal Turkeys, Turtle, Turtles, Large Turtle, Small Turtle, Wild Turtle, Animal Turtle, Animal Turtles, Whale, Whales, Large Whale, Small Whale, Wild Whale, Animal Whale, Animal Whales, Woodpecker, Woodpeckers, Large Woodpecker, Small Woodpecker, Wild Woodpecker, Animal Woodpecker, Animal Woodpeckers, Worm, Worms, Large Worm, Small Worm, Wild Worm, Animal Worm, Animal Worms, Zebra, Zebras, Large Zebra, Small Zebra, Wild Zebra, Animal Zebra, Animal Zebras\n",
    "dict_size(a540)\n",
    "print(aOcheck_accuracy(\"animal80/a540.csv\", a540))\n"
   ]
  },
  {
   "cell_type": "markdown",
   "metadata": {},
   "source": [
    "## Animal 4"
   ]
  },
  {
   "cell_type": "code",
   "execution_count": 332,
   "metadata": {},
   "outputs": [],
   "source": [
    "dict_8 = {\n",
    "    \"Buffalo\": [\"Buffalo\", \"Buffaloes\"],\n",
    "    \"Elephant\": [\"Elephant\", \"Elephants\"],\n",
    "    \"Rhino\": [\"Rhino\", \"Rhinoceros\"],\n",
    "    \"Zebra\": [\"Zebra\", \"Zebras\"],\n",
    "}\n",
    "\n",
    "#Buffalo,Buffaloes,Elephant,Elephants,Rhino,Rhinoceros,Zebra,Zebras\n",
    "\n",
    "# dict_size(dict_8)\n",
    "# print(aOcheck_accuracy(\"animal4/AO8.csv\", dict_8))"
   ]
  },
  {
   "cell_type": "code",
   "execution_count": 333,
   "metadata": {},
   "outputs": [],
   "source": [
    "dict_12 = {\n",
    "    \"Buffalo\": [\"Buffalo\", \"Buffaloes\", \"Picture of Buffalo\"],\n",
    "    \"Elephant\": [\"Elephant\", \"Elephants\", \"Picture of Elephant\"],\n",
    "    \"Rhino\": [\"Rhino\", \"Rhinoceros\", \"Picture of Rhino\"],\n",
    "    \"Zebra\": [\"Zebra\", \"Zebras\", \"Picture of Zebra\"],\n",
    "}\n",
    "\n",
    "# Buffalo, Buffaloes, Picture of Buffalo, Elephant, Elephants, Picture of Elephant, Rhino, Rhinoceros, Picture of Rhino, Zebra, Zebras, Picture of Zebra\n",
    "\n",
    "# dict_size(dict_12)\n",
    "# print(aOcheck_accuracy(\"animal4/AO12.csv\", dict_12))\n"
   ]
  },
  {
   "cell_type": "code",
   "execution_count": 334,
   "metadata": {},
   "outputs": [],
   "source": [
    "dict_16 = {\n",
    "    \"Buffalo\": [\"Buffalo\", \"Buffaloes\", \"Picture of Buffalo\", \"Image of Buffalo\"],\n",
    "    \"Elephant\": [\"Elephant\", \"Elephants\", \"Picture of Elephant\", \"Image of Elephant\"],\n",
    "    \"Rhino\": [\"Rhino\", \"Rhinoceros\", \"Picture of Rhino\", \"Image of Rhino\"],\n",
    "    \"Zebra\": [\"Zebra\", \"Zebras\", \"Picture of Zebra\", \"Image of Zebra\"],\n",
    "}\n",
    "\n",
    "# Buffalo, Buffaloes, Picture of Buffalo, Image of Buffalo, Elephant, Elephants, Picture of Elephant, Image of Elephant, Rhino, Rhinoceros, Picture of Rhino, Image of Rhino, Zebra, Zebras, Picture of Zebra, Image of Zebra\n",
    "\n",
    "# dict_size(dict_16)\n",
    "# print(aOcheck_accuracy(\"animal4/AO16.csv\", dict_16))\n"
   ]
  },
  {
   "cell_type": "code",
   "execution_count": 335,
   "metadata": {},
   "outputs": [],
   "source": [
    "dict_20 = {\n",
    "    \"Buffalo\": [\"Buffalo\", \"Buffaloes\", \"Picture of Buffalo\", \"Image of Buffalo\", \"Wild Buffalo\"],\n",
    "    \"Elephant\": [\"Elephant\", \"Elephants\", \"Picture of Elephant\", \"Image of Elephant\", \"Wild Elephant\"],\n",
    "    \"Rhino\": [\"Rhino\", \"Rhinoceros\", \"Picture of Rhino\", \"Image of Rhino\", \"Wild Rhino\"],\n",
    "    \"Zebra\": [\"Zebra\", \"Zebras\", \"Picture of Zebra\", \"Image of Zebra\", \"Wild Zebra\"],\n",
    "}\n",
    "\n",
    "# Buffalo, Buffaloes, Picture of Buffalo, Image of Buffalo, Wild Buffalo, Elephant, Elephants, Picture of Elephant, Image of Elephant, Wild Elephant, Rhino, Rhinoceros, Picture of Rhino, Image of Rhino, Wild Rhino, Zebra, Zebras, Picture of Zebra, Image of Zebra, Wild Zebra\n",
    "\n",
    "# dict_size(dict_20)\n",
    "# print(aOcheck_accuracy(\"animal4/AO20.csv\", dict_20))\n"
   ]
  },
  {
   "cell_type": "code",
   "execution_count": 336,
   "metadata": {},
   "outputs": [],
   "source": [
    "dict_24 = {\n",
    "    \"Buffalo\": [\"Buffalo\", \"Buffaloes\", \"Picture of Buffalo\", \"Image of Buffalo\", \"Wild Buffalo\", \"Buffalo Herd\"],\n",
    "    \"Elephant\": [\"Elephant\", \"Elephants\", \"Picture of Elephant\", \"Image of Elephant\", \"Wild Elephant\", \"Elephant Herd\"],\n",
    "    \"Rhino\": [\"Rhino\", \"Rhinoceros\", \"Picture of Rhino\", \"Image of Rhino\", \"Wild Rhino\", \"Rhino Herd\"],\n",
    "    \"Zebra\": [\"Zebra\", \"Zebras\", \"Picture of Zebra\", \"Image of Zebra\", \"Wild Zebra\", \"Zebra Herd\"],\n",
    "}\n",
    "\n",
    "# Buffalo, Buffaloes, Picture of Buffalo, Image of Buffalo, Wild Buffalo, Buffalo Herd, Elephant, Elephants, Picture of Elephant, Image of Elephant, Wild Elephant, Elephant Herd, Rhino, Rhinoceros, Picture of Rhino, Image of Rhino, Wild Rhino, Rhino Herd, Zebra, Zebras, Picture of Zebra, Image of Zebra, Wild Zebra, Zebra Herd\n",
    "\n",
    "# dict_size(dict_24)\n",
    "# print(aOcheck_accuracy(\"animal4/AO24.csv\", dict_24))\n"
   ]
  },
  {
   "cell_type": "code",
   "execution_count": 337,
   "metadata": {},
   "outputs": [],
   "source": [
    "dict_32 = {\n",
    "    \"Buffalo\": [\"Buffalo\", \"Buffaloes\", \"Picture of Buffalo\", \"Image of Buffalo\", \"Wild Buffalo\", \"Buffalo Herd\", \"African Buffalo\", \"Buffalo in the Wild\"],\n",
    "    \"Elephant\": [\"Elephant\", \"Elephants\", \"Picture of Elephant\", \"Image of Elephant\", \"Wild Elephant\", \"Elephant Herd\", \"African Elephant\", \"Elephant in the Wild\"],\n",
    "    \"Rhino\": [\"Rhino\", \"Rhinoceros\", \"Picture of Rhino\", \"Image of Rhino\", \"Wild Rhino\", \"Rhino Herd\", \"African Rhino\", \"Rhino in the Wild\"],\n",
    "    \"Zebra\": [\"Zebra\", \"Zebras\", \"Picture of Zebra\", \"Image of Zebra\", \"Wild Zebra\", \"Zebra Herd\", \"African Zebra\", \"Zebra in the Wild\"],\n",
    "}\n",
    "\n",
    "# Buffalo, Buffaloes, Picture of Buffalo, Image of Buffalo, Wild Buffalo, Buffalo Herd, African Buffalo, Buffalo in the Wild, Elephant, Elephants, Picture of Elephant, Image of Elephant, Wild Elephant, Elephant Herd, African Elephant, Elephant in the Wild, Rhino, Rhinoceros, Picture of Rhino, Image of Rhino, Wild Rhino, Rhino Herd, African Rhino, Rhino in the Wild, Zebra, Zebras, Picture of Zebra, Image of Zebra, Wild Zebra, Zebra Herd, African Zebra, Zebra in the Wild\n",
    "\n",
    "# dict_size(dict_32)\n",
    "# print(aOcheck_accuracy(\"animal4/AO32.csv\", dict_32))\n"
   ]
  },
  {
   "cell_type": "code",
   "execution_count": 338,
   "metadata": {},
   "outputs": [],
   "source": [
    "dict_36 = {\n",
    "    \"Buffalo\": [\"Buffalo\", \"Buffaloes\", \"Picture of Buffalo\", \"Image of Buffalo\", \"Wild Buffalo\", \"Buffalo Herd\", \"African Buffalo\", \"Buffalo in the Wild\", \"Large Buffalo\"],\n",
    "    \"Elephant\": [\"Elephant\", \"Elephants\", \"Picture of Elephant\", \"Image of Elephant\", \"Wild Elephant\", \"Elephant Herd\", \"African Elephant\", \"Elephant in the Wild\", \"Large Elephant\"],\n",
    "    \"Rhino\": [\"Rhino\", \"Rhinoceros\", \"Picture of Rhino\", \"Image of Rhino\", \"Wild Rhino\", \"Rhino Herd\", \"African Rhino\", \"Rhino in the Wild\", \"Large Rhino\"],\n",
    "    \"Zebra\": [\"Zebra\", \"Zebras\", \"Picture of Zebra\", \"Image of Zebra\", \"Wild Zebra\", \"Zebra Herd\", \"African Zebra\", \"Zebra in the Wild\", \"Large Zebra\"],\n",
    "}\n",
    "\n",
    "# Buffalo, Buffaloes, Picture of Buffalo, Image of Buffalo, Wild Buffalo, Buffalo Herd, African Buffalo, Buffalo in the Wild, Large Buffalo, Elephant, Elephants, Picture of Elephant, Image of Elephant, Wild Elephant, Elephant Herd, African Elephant, Elephant in the Wild, Large Elephant, Rhino, Rhinoceros, Picture of Rhino, Image of Rhino, Wild Rhino, Rhino Herd, African Rhino, Rhino in the Wild, Large Rhino, Zebra, Zebras, Picture of Zebra, Image of Zebra, Wild Zebra, Zebra Herd, African Zebra, Zebra in the Wild, Large Zebra\n",
    "\n",
    "# dict_size(dict_36)\n",
    "# print(aOcheck_accuracy(\"animal4/AO36.csv\", dict_36))\n"
   ]
  },
  {
   "cell_type": "code",
   "execution_count": 339,
   "metadata": {},
   "outputs": [],
   "source": [
    "dict_40 = {\n",
    "    \"Buffalo\": [\"Buffalo\", \"Buffaloes\", \"Picture of Buffalo\", \"Image of Buffalo\", \"Wild Buffalo\", \"Buffalo Herd\", \"African Buffalo\", \"Buffalo in the Wild\", \"Large Buffalo\", \"Buffalo Plains\"],\n",
    "    \"Elephant\": [\"Elephant\", \"Elephants\", \"Picture of Elephant\", \"Image of Elephant\", \"Wild Elephant\", \"Elephant Herd\", \"African Elephant\", \"Elephant in the Wild\", \"Large Elephant\", \"Elephant Plains\"],\n",
    "    \"Rhino\": [\"Rhino\", \"Rhinoceros\", \"Picture of Rhino\", \"Image of Rhino\", \"Wild Rhino\", \"Rhino Herd\", \"African Rhino\", \"Rhino in the Wild\", \"Large Rhino\", \"Rhino Plains\"],\n",
    "    \"Zebra\": [\"Zebra\", \"Zebras\", \"Picture of Zebra\", \"Image of Zebra\", \"Wild Zebra\", \"Zebra Herd\", \"African Zebra\", \"Zebra in the Wild\", \"Large Zebra\", \"Zebra Plains\"],\n",
    "}\n",
    "\n",
    "# Buffalo, Buffaloes, Picture of Buffalo, Image of Buffalo, Wild Buffalo, Buffalo Herd, African Buffalo, Buffalo in the Wild, Large Buffalo, Buffalo Plains, Elephant, Elephants, Picture of Elephant, Image of Elephant, Wild Elephant, Elephant Herd, African Elephant, Elephant in the Wild, Large Elephant, Elephant Plains, Rhino, Rhinoceros, Picture of Rhino, Image of Rhino, Wild Rhino, Rhino Herd, African Rhino, Rhino in the Wild, Large Rhino, Rhino Plains, Zebra, Zebras, Picture of Zebra, Image of Zebra, Wild Zebra, Zebra Herd, African Zebra, Zebra in the Wild, Large Zebra, Zebra Plains\n",
    "\n",
    "# dict_size(dict_40)\n",
    "# print(aOcheck_accuracy(\"animal4/AO40.csv\", dict_40))\n"
   ]
  },
  {
   "cell_type": "code",
   "execution_count": 340,
   "metadata": {},
   "outputs": [],
   "source": [
    "dict_44 = {#problem\n",
    "    \"Buffalo\": [\"Buffalo\", \"Buffaloes\", \"Picture of Buffalo\", \"Image of Buffalo\", \"Wild Buffalo\", \"Buffalo Herd\", \"African Buffalo\", \"Buffalo in the Wild\", \"Large Buffalo\", \"Buffalo Plains\", \"Moving Buffalo\"],\n",
    "    \"Elephant\": [\"Elephant\", \"Elephants\", \"Picture of Elephant\", \"Image of Elephant\", \"Wild Elephant\", \"Elephant Herd\", \"African Elephant\", \"Elephant in the Wild\", \"Large Elephant\", \"Elephant Plains\", \"Moving Elephant\"],\n",
    "    \"Rhino\": [\"Rhino\", \"Rhinoceros\", \"Picture of Rhino\", \"Image of Rhino\", \"Wild Rhino\", \"Rhino Herd\", \"African Rhino\", \"Rhino in the Wild\", \"Large Rhino\", \"Rhino Plains\", \"Moving Rhino\"],\n",
    "    \"Zebra\": [\"Zebra\", \"Zebras\", \"Picture of Zebra\", \"Image of Zebra\", \"Wild Zebra\", \"Zebra Herd\", \"African Zebra\", \"Zebra in the Wild\", \"Large Zebra\", \"Zebra Plains\", \"Moving Zebra\"],\n",
    "}\n",
    "\n",
    "# Buffalo, Buffaloes, Picture of Buffalo, Image of Buffalo, Wild Buffalo, Buffalo Herd, African Buffalo, Buffalo in the Wild, Large Buffalo, Buffalo Plains, Moving Buffalo, Elephant, Elephants, Picture of Elephant, Image of Elephant, Wild Elephant, Elephant Herd, African Elephant, Elephant in the Wild, Large Elephant, Elephant Plains, Moving Elephant, Rhino, Rhinoceros, Picture of Rhino, Image of Rhino, Wild Rhino, Rhino Herd, African Rhino, Rhino in the Wild, Large Rhino, Rhino Plains, Moving Rhino, Zebra, Zebras, Picture of Zebra, Image of Zebra, Wild Zebra, Zebra Herd, African Zebra, Zebra in the Wild, Large Zebra, Zebra Plains, Moving Zebra\n",
    "\n",
    "# dict_size(dict_44)\n",
    "# print(aOcheck_accuracy(\"animal4/AO44.csv\", dict_44))\n"
   ]
  },
  {
   "cell_type": "code",
   "execution_count": 341,
   "metadata": {},
   "outputs": [],
   "source": [
    "dict_48 = {\n",
    "    \"Buffalo\": [\"Buffalo\", \"Buffaloes\", \"Picture of Buffalo\", \"Image of Buffalo\", \"Wild Buffalo\", \"Buffalo Herd\", \"African Buffalo\", \"Buffalo in the Wild\", \"Large Buffalo\", \"Buffalo Plains\", \"Moving Buffalo\", \"American Buffalo\"],\n",
    "    \"Elephant\": [\"Elephant\", \"Elephants\", \"Picture of Elephant\", \"Image of Elephant\", \"Wild Elephant\", \"Elephant Herd\", \"African Elephant\", \"Elephant in the Wild\", \"Large Elephant\", \"Elephant Plains\", \"Moving Elephant\", \"Asian Elephant\"],\n",
    "    \"Rhino\": [\"Rhino\", \"Rhinoceros\", \"Picture of Rhino\", \"Image of Rhino\", \"Wild Rhino\", \"Rhino Herd\", \"African Rhino\", \"Rhino in the Wild\", \"Large Rhino\", \"Rhino Plains\", \"Moving Rhino\", \"Black Rhino\"],\n",
    "    \"Zebra\": [\"Zebra\", \"Zebras\", \"Picture of Zebra\", \"Image of Zebra\", \"Wild Zebra\", \"Zebra Herd\", \"African Zebra\", \"Zebra in the Wild\", \"Large Zebra\", \"Zebra Plains\", \"Moving Zebra\", \"Wild Plains Zebra\"],\n",
    "}\n",
    "\n",
    "# Buffalo, Buffaloes, Picture of Buffalo, Image of Buffalo, Wild Buffalo, Buffalo Herd, African Buffalo, Buffalo in the Wild, Large Buffalo, Buffalo Plains, Moving Buffalo, American Buffalo, Elephant, Elephants, Picture of Elephant, Image of Elephant, Wild Elephant, Elephant Herd, African Elephant, Elephant in the Wild, Large Elephant, Elephant Plains, Moving Elephant, Asian Elephant, Rhino, Rhinoceros, Picture of Rhino, Image of Rhino, Wild Rhino, Rhino Herd, African Rhino, Rhino in the Wild, Large Rhino, Rhino Plains, Moving Rhino, Black Rhino, Zebra, Zebras, Picture of Zebra, Image of Zebra, Wild Zebra, Zebra Herd, African Zebra, Zebra in the Wild, Large Zebra, Zebra Plains, Moving Zebra, Wild Plains Zebra\n",
    "\n",
    "# dict_size(dict_48)\n",
    "# print(aOcheck_accuracy(\"animal4/AO48.csv\", dict_48))\n"
   ]
  },
  {
   "cell_type": "code",
   "execution_count": 342,
   "metadata": {},
   "outputs": [],
   "source": [
    "dict_52 = {\n",
    "    \"Buffalo\": [\"Buffalo\", \"Buffaloes\", \"Picture of Buffalo\", \"Image of Buffalo\", \"Wild Buffalo\", \"Buffalo Herd\", \"African Buffalo\", \"Buffalo in the Wild\", \"Large Buffalo\", \"Buffalo Plains\", \"Moving Buffalo\", \"American Buffalo\", \"Buffalo in Herds\"],\n",
    "    \"Elephant\": [\"Elephant\", \"Elephants\", \"Picture of Elephant\", \"Image of Elephant\", \"Wild Elephant\", \"Elephant Herd\", \"African Elephant\", \"Elephant in the Wild\", \"Large Elephant\", \"Elephant Plains\", \"Moving Elephant\", \"Asian Elephant\", \"Elephant in Herds\"],\n",
    "    \"Rhino\": [\"Rhino\", \"Rhinoceros\", \"Picture of Rhino\", \"Image of Rhino\", \"Wild Rhino\", \"Rhino Herd\", \"African Rhino\", \"Rhino in the Wild\", \"Large Rhino\", \"Rhino Plains\", \"Moving Rhino\", \"Black Rhino\", \"Rhino in Herds\"],\n",
    "    \"Zebra\": [\"Zebra\", \"Zebras\", \"Picture of Zebra\", \"Image of Zebra\", \"Wild Zebra\", \"Zebra Herd\", \"African Zebra\", \"Zebra in the Wild\", \"Large Zebra\", \"Zebra Plains\", \"Moving Zebra\", \"Wild Plains Zebra\", \"Zebra in Herds\"],\n",
    "}\n",
    "\n",
    "# Buffalo, Buffaloes, Picture of Buffalo, Image of Buffalo, Wild Buffalo, Buffalo Herd, African Buffalo, Buffalo in the Wild, Large Buffalo, Buffalo Plains, Moving Buffalo, American Buffalo, Buffalo in Herds, Elephant, Elephants, Picture of Elephant, Image of Elephant, Wild Elephant, Elephant Herd, African Elephant, Elephant in the Wild, Large Elephant, Elephant Plains, Moving Elephant, Asian Elephant, Elephant in Herds, Rhino, Rhinoceros, Picture of Rhino, Image of Rhino, Wild Rhino, Rhino Herd, African Rhino, Rhino in the Wild, Large Rhino, Rhino Plains, Moving Rhino, Black Rhino, Rhino in Herds, Zebra, Zebras, Picture of Zebra, Image of Zebra, Wild Zebra, Zebra Herd, African Zebra, Zebra in the Wild, Large Zebra, Zebra Plains, Moving Zebra, Wild Plains Zebra, Zebra in Herds\n",
    "\n",
    "# dict_size(dict_52)\n",
    "# print(aOcheck_accuracy(\"animal4/AO52.csv\", dict_52))\n"
   ]
  },
  {
   "cell_type": "code",
   "execution_count": 343,
   "metadata": {},
   "outputs": [],
   "source": [
    "dict_56 = {\n",
    "    \"Buffalo\": [\n",
    "        \"Buffalo\", \"Buffaloes\", \"Picture of Buffalo\", \"Image of Buffalo\", \"Wild Buffalo\", \"Buffalo Herd\",\n",
    "        \"African Buffalo\", \"Buffalo in the Wild\", \"Large Buffalo\", \"Buffalo Plains\", \"Moving Buffalo\",\n",
    "        \"American Buffalo\", \"Buffalo in Herds\", \"Savannah Buffalo\"\n",
    "    ],\n",
    "    \"Elephant\": [\n",
    "        \"Elephant\", \"Elephants\", \"Picture of Elephant\", \"Image of Elephant\", \"Wild Elephant\", \"Elephant Herd\",\n",
    "        \"African Elephant\", \"Elephant in the Wild\", \"Large Elephant\", \"Elephant Plains\", \"Moving Elephant\",\n",
    "        \"Asian Elephant\", \"Elephant in Herds\", \"Savannah Elephant\"\n",
    "    ],\n",
    "    \"Rhino\": [\n",
    "        \"Rhino\", \"Rhinoceros\", \"Picture of Rhino\", \"Image of Rhino\", \"Wild Rhino\", \"Rhino Herd\",\n",
    "        \"African Rhino\", \"Rhino in the Wild\", \"Large Rhino\", \"Rhino Plains\", \"Moving Rhino\",\n",
    "        \"Black Rhino\", \"Rhino in Herds\", \"Savannah Rhino\"\n",
    "    ],\n",
    "    \"Zebra\": [\n",
    "        \"Zebra\", \"Zebras\", \"Picture of Zebra\", \"Image of Zebra\", \"Wild Zebra\", \"Zebra Herd\",\n",
    "        \"African Zebra\", \"Zebra in the Wild\", \"Large Zebra\", \"Zebra Plains\", \"Moving Zebra\",\n",
    "        \"Wild Plains Zebra\", \"Zebra in Herds\", \"Savannah Zebra\"\n",
    "    ],\n",
    "}\n",
    "\n",
    "# Buffalo, Buffaloes, Picture of Buffalo, Image of Buffalo, Wild Buffalo, Buffalo Herd, African Buffalo, Buffalo in the Wild, Large Buffalo, Buffalo Plains, Moving Buffalo, American Buffalo, Buffalo in Herds, Savannah Buffalo, Elephant, Elephants, Picture of Elephant, Image of Elephant, Wild Elephant, Elephant Herd, African Elephant, Elephant in the Wild, Large Elephant, Elephant Plains, Moving Elephant, Asian Elephant, Elephant in Herds, Savannah Elephant, Rhino, Rhinoceros, Picture of Rhino, Image of Rhino, Wild Rhino, Rhino Herd, African Rhino, Rhino in the Wild, Large Rhino, Rhino Plains, Moving Rhino, Black Rhino, Rhino in Herds, Savannah Rhino, Zebra, Zebras, Picture of Zebra, Image of Zebra, Wild Zebra, Zebra Herd, African Zebra, Zebra in the Wild, Large Zebra, Zebra Plains, Moving Zebra, Wild Plains Zebra, Zebra in Herds, Savannah Zebra\n",
    "\n",
    "# dict_size(dict_56)\n",
    "# print(aOcheck_accuracy(\"animal4/AO56.csv\", dict_56))\n"
   ]
  },
  {
   "cell_type": "code",
   "execution_count": 344,
   "metadata": {},
   "outputs": [],
   "source": [
    "dict_60 = {\n",
    "    \"Buffalo\": [\n",
    "        \"Buffalo\", \"Buffaloes\", \"Picture of Buffalo\", \"Image of Buffalo\", \"Wild Buffalo\", \"Buffalo Herd\",\n",
    "        \"African Buffalo\", \"Buffalo in the Wild\", \"Large Buffalo\", \"Buffalo Plains\", \"Moving Buffalo\",\n",
    "        \"American Buffalo\", \"Buffalo in Herds\", \"Savannah Buffalo\", \"Horned Buffalo\"\n",
    "    ],\n",
    "    \"Elephant\": [\n",
    "        \"Elephant\", \"Elephants\", \"Picture of Elephant\", \"Image of Elephant\", \"Wild Elephant\", \"Elephant Herd\",\n",
    "        \"African Elephant\", \"Elephant in the Wild\", \"Large Elephant\", \"Elephant Plains\", \"Moving Elephant\",\n",
    "        \"Asian Elephant\", \"Elephant in Herds\", \"Savannah Elephant\", \"Tusker Elephant\"\n",
    "    ],\n",
    "    \"Rhino\": [\n",
    "        \"Rhino\", \"Rhinoceros\", \"Picture of Rhino\", \"Image of Rhino\", \"Wild Rhino\", \"Rhino Herd\",\n",
    "        \"African Rhino\", \"Rhino in the Wild\", \"Large Rhino\", \"Rhino Plains\", \"Moving Rhino\",\n",
    "        \"Black Rhino\", \"Rhino in Herds\", \"Savannah Rhino\", \"Horned Rhino\"\n",
    "    ],\n",
    "    \"Zebra\": [\n",
    "        \"Zebra\", \"Zebras\", \"Picture of Zebra\", \"Image of Zebra\", \"Wild Zebra\", \"Zebra Herd\",\n",
    "        \"African Zebra\", \"Zebra in the Wild\", \"Large Zebra\", \"Zebra Plains\", \"Moving Zebra\",\n",
    "        \"Wild Plains Zebra\", \"Zebra in Herds\", \"Savannah Zebra\", \"Mountain Zebra\"\n",
    "    ],\n",
    "}\n",
    "\n",
    "# Buffalo, Buffaloes, Picture of Buffalo, Image of Buffalo, Wild Buffalo, Buffalo Herd, African Buffalo, Buffalo in the Wild, Large Buffalo, Buffalo Plains, Moving Buffalo, American Buffalo, Buffalo in Herds, Savannah Buffalo, Horned Buffalo, Elephant, Elephants, Picture of Elephant, Image of Elephant, Wild Elephant, Elephant Herd, African Elephant, Elephant in the Wild, Large Elephant, Elephant Plains, Moving Elephant, Asian Elephant, Elephant in Herds, Savannah Elephant, Tusker Elephant, Rhino, Rhinoceros, Picture of Rhino, Image of Rhino, Wild Rhino, Rhino Herd, African Rhino, Rhino in the Wild, Large Rhino, Rhino Plains, Moving Rhino, Black Rhino, Rhino in Herds, Savannah Rhino, Horned Rhino, Zebra, Zebras, Picture of Zebra, Image of Zebra, Wild Zebra, Zebra Herd, African Zebra, Zebra in the Wild, Large Zebra, Zebra Plains, Moving Zebra, Wild Plains Zebra, Zebra in Herds, Savannah Zebra, Mountain Zebra\n",
    "\n",
    "# dict_size(dict_60)\n",
    "# print(aOcheck_accuracy(\"animal4/AO60.csv\", dict_60))\n"
   ]
  },
  {
   "cell_type": "markdown",
   "metadata": {},
   "source": [
    "## CatDog"
   ]
  },
  {
   "cell_type": "code",
   "execution_count": 345,
   "metadata": {},
   "outputs": [],
   "source": [
    "CDdict2 = {\n",
    "        'cat': ['cat'],\n",
    "        'dog': ['dog']\n",
    "    }\n"
   ]
  },
  {
   "cell_type": "code",
   "execution_count": 346,
   "metadata": {},
   "outputs": [],
   "source": [
    "CDdict4 = { \n",
    "    'cat': ['cat', 'picture of cat'],\n",
    "    'dog': ['dog', 'picture of dog']\n",
    "}"
   ]
  },
  {
   "cell_type": "code",
   "execution_count": 347,
   "metadata": {},
   "outputs": [],
   "source": [
    "CDdict6 = { \n",
    "    'cat': ['cat', 'picture of cat', 'cats'],\n",
    "    'dog': ['dog', 'picture of dog', 'dogs']\n",
    "}\n"
   ]
  },
  {
   "cell_type": "code",
   "execution_count": 348,
   "metadata": {},
   "outputs": [],
   "source": [
    "CDdict8 = { \n",
    "    'cat': ['cat', 'picture of cat', 'cats', 'image of cats'],\n",
    "    'dog': ['dog', 'picture of dog', 'dogs', 'image of dogs']\n",
    "}\n"
   ]
  },
  {
   "cell_type": "code",
   "execution_count": 349,
   "metadata": {},
   "outputs": [],
   "source": [
    "CDdict10 = { \n",
    "    'cat': ['cat', 'picture of cat', 'cats', 'image of cats', 'moving cat'],\n",
    "    'dog': ['dog', 'picture of dog', 'dogs', 'image of dogs', 'moving dog']\n",
    "}"
   ]
  },
  {
   "cell_type": "code",
   "execution_count": 350,
   "metadata": {},
   "outputs": [],
   "source": [
    "CDdict12 = { \n",
    "    'cat': ['cat', 'picture of cat', 'cats', 'image of cats', 'moving cat', 'cat picture'],\n",
    "    'dog': ['dog', 'picture of dog', 'dogs', 'image of dogs', 'moving dog', 'dog picture']\n",
    "}"
   ]
  },
  {
   "cell_type": "code",
   "execution_count": 351,
   "metadata": {},
   "outputs": [],
   "source": [
    "CDdict14 = { \n",
    "    'cat': ['cat', 'picture of cat', 'cats', 'image of cats', 'moving cat', 'cat picture', 'cat image'],\n",
    "    'dog': ['dog', 'picture of dog', 'dogs', 'image of dogs', 'moving dog', 'dog picture', 'dog image']\n",
    "}\n"
   ]
  },
  {
   "cell_type": "code",
   "execution_count": 352,
   "metadata": {},
   "outputs": [],
   "source": [
    "CDdict16 = { \n",
    "    'cat': ['cat', 'picture of cat', 'cats', 'image of cats', 'moving cat', 'cat picture', 'cat image', 'cool cat'],\n",
    "    'dog': ['dog', 'picture of dog', 'dogs', 'image of dogs', 'moving dog', 'dog picture', 'dog image', 'cool dog']\n",
    "}\n"
   ]
  },
  {
   "cell_type": "code",
   "execution_count": 353,
   "metadata": {},
   "outputs": [],
   "source": [
    "CDdict18 = { \n",
    "    'cat': ['cat', 'picture of cat', 'cats', 'image of cats', 'moving cat', 'cat picture', 'cat image', 'cool cat', 'sitting cat'],\n",
    "    'dog': ['dog', 'picture of dog', 'dogs', 'image of dogs', 'moving dog', 'dog picture', 'dog image', 'cool dog', 'sitting dog']\n",
    "}\n"
   ]
  },
  {
   "cell_type": "code",
   "execution_count": 354,
   "metadata": {},
   "outputs": [],
   "source": [
    "CDdict20 = { \n",
    "    'cat': ['cat', 'picture of cat', 'cats', 'image of cats', 'moving cat', 'cat picture', 'cat image', 'cool cat', 'sitting cat', 'nice cat'],\n",
    "    'dog': ['dog', 'picture of dog', 'dogs', 'image of dogs', 'moving dog', 'dog picture', 'dog image', 'cool dog', 'sitting dog', 'nice dog']\n",
    "}"
   ]
  },
  {
   "cell_type": "code",
   "execution_count": 355,
   "metadata": {},
   "outputs": [],
   "source": [
    "CDdict22 = { \n",
    "    'cat': ['cat', 'picture of cat', 'cats', 'image of cats', 'moving cat', 'cat picture', 'cat image', 'cool cat', 'sitting cat', 'nice cat', 'image of nice cat'],\n",
    "    'dog': ['dog', 'picture of dog', 'dogs', 'image of dogs', 'moving dog', 'dog picture', 'dog image', 'cool dog', 'sitting dog', 'nice dog', 'image of nice dog']\n",
    "}"
   ]
  },
  {
   "cell_type": "code",
   "execution_count": 356,
   "metadata": {},
   "outputs": [],
   "source": [
    "CDdict24 = { \n",
    "    'cat': ['cat', 'picture of cat', 'cats', 'image of cats', 'moving cat', 'cat picture', 'cat image', 'cool cat', 'sitting cat', 'nice cat', 'image of nice cat', 'image of cool cat'],\n",
    "    'dog': ['dog', 'picture of dog', 'dogs', 'image of dogs', 'moving dog', 'dog picture', 'dog image', 'cool dog', 'sitting dog', 'nice dog', 'image of nice dog', 'image of cool dog']\n",
    "}\n"
   ]
  },
  {
   "cell_type": "code",
   "execution_count": 357,
   "metadata": {},
   "outputs": [],
   "source": [
    "CDdict26 = { \n",
    "    'cat': [\n",
    "        'cat', 'picture of cat', 'cats', 'image of cats', 'moving cat', 'cat picture', 'cat image',\n",
    "        'cool cat', 'sitting cat', 'nice cat', 'image of nice cat', 'image of cool cat', 'image of cat'\n",
    "    ],\n",
    "    'dog': [\n",
    "        'dog', 'picture of dog', 'dogs', 'image of dogs', 'moving dog', 'dog picture', 'dog image',\n",
    "        'cool dog', 'sitting dog', 'nice dog', 'image of nice dog', 'image of cool dog', 'image of dog'\n",
    "    ]\n",
    "}"
   ]
  },
  {
   "cell_type": "code",
   "execution_count": 358,
   "metadata": {},
   "outputs": [],
   "source": [
    "CDdict28 = { \n",
    "    'cat': [\n",
    "        'cat', 'picture of cat', 'cats', 'image of cats', 'moving cat', 'cat picture', 'cat image',\n",
    "        'cool cat', 'sitting cat', 'nice cat', 'image of nice cat', 'image of cool cat', 'image of cat', 'picture of cats'\n",
    "    ],\n",
    "    'dog': [\n",
    "        'dog', 'picture of dog', 'dogs', 'image of dogs', 'moving dog', 'dog picture', 'dog image',\n",
    "        'cool dog', 'sitting dog', 'nice dog', 'image of nice dog', 'image of cool dog', 'image of dog', 'picture of dogs'\n",
    "    ]\n",
    "}"
   ]
  },
  {
   "cell_type": "code",
   "execution_count": 359,
   "metadata": {},
   "outputs": [],
   "source": [
    "CDdict30 = { \n",
    "    'cat': [\n",
    "        'cat', 'picture of cat', 'cats', 'image of cats', 'moving cat', 'cat picture', 'cat image',\n",
    "        'cool cat', 'sitting cat', 'nice cat', 'image of nice cat', 'image of cool cat', 'image of cat',\n",
    "        'picture of cats', 'moving picture of cat'\n",
    "    ],\n",
    "    'dog': [\n",
    "        'dog', 'picture of dog', 'dogs', 'image of dogs', 'moving dog', 'dog picture', 'dog image',\n",
    "        'cool dog', 'sitting dog', 'nice dog', 'image of nice dog', 'image of cool dog', 'image of dog',\n",
    "        'picture of dogs', 'moving picture of dog'\n",
    "    ]\n",
    "}\n"
   ]
  },
  {
   "cell_type": "code",
   "execution_count": 360,
   "metadata": {},
   "outputs": [],
   "source": [
    "CDdict32 = { \n",
    "    'cat': [\n",
    "        'cat', 'picture of cat', 'cats', 'image of cats', 'moving cat', 'cat picture', 'cat image',\n",
    "        'cool cat', 'sitting cat', 'nice cat', 'image of nice cat', 'image of cool cat', 'image of cat',\n",
    "        'picture of cats', 'moving picture of cat', 'cool picture of cat'\n",
    "    ],\n",
    "    'dog': [\n",
    "        'dog', 'picture of dog', 'dogs', 'image of dogs', 'moving dog', 'dog picture', 'dog image',\n",
    "        'cool dog', 'sitting dog', 'nice dog', 'image of nice dog', 'image of cool dog', 'image of dog',\n",
    "        'picture of dogs', 'moving picture of dog', 'cool picture of dog'\n",
    "    ]\n",
    "}\n"
   ]
  },
  {
   "cell_type": "code",
   "execution_count": 361,
   "metadata": {},
   "outputs": [],
   "source": [
    "CDdict36 = { \n",
    "    'cat': [\n",
    "        'cat', 'picture of cat', 'cats', 'image of cats', 'moving cat', 'cat picture', 'cat image',\n",
    "        'cool cat', 'sitting cat', 'nice cat', 'image of nice cat', 'image of cool cat', 'image of cat',\n",
    "        'picture of cats', 'moving picture of cat', 'cool picture of cat',\n",
    "        'funny cat', 'funny image of cat'\n",
    "    ],\n",
    "    'dog': [\n",
    "        'dog', 'picture of dog', 'dogs', 'image of dogs', 'moving dog', 'dog picture', 'dog image',\n",
    "        'cool dog', 'sitting dog', 'nice dog', 'image of nice dog', 'image of cool dog', 'image of dog',\n",
    "        'picture of dogs', 'moving picture of dog', 'cool picture of dog',\n",
    "        'funny dog', 'funny image of dog'\n",
    "    ]\n",
    "}"
   ]
  },
  {
   "cell_type": "code",
   "execution_count": 362,
   "metadata": {},
   "outputs": [],
   "source": [
    "CDdict38 = { \n",
    "    'cat': [\n",
    "        'cat', 'picture of cat', 'cats', 'image of cats', 'moving cat', 'cat picture', 'cat image',\n",
    "        'cool cat', 'sitting cat', 'nice cat', 'image of nice cat', 'image of cool cat', 'image of cat',\n",
    "        'picture of cats', 'moving picture of cat', 'cool picture of cat',\n",
    "        'funny cat', 'funny image of cat', 'funny picture of cat'\n",
    "    ],\n",
    "    'dog': [\n",
    "        'dog', 'picture of dog', 'dogs', 'image of dogs', 'moving dog', 'dog picture', 'dog image',\n",
    "        'cool dog', 'sitting dog', 'nice dog', 'image of nice dog', 'image of cool dog', 'image of dog',\n",
    "        'picture of dogs', 'moving picture of dog', 'cool picture of dog',\n",
    "        'funny dog', 'funny image of dog', 'funny picture of dog'\n",
    "    ]\n",
    "}"
   ]
  },
  {
   "cell_type": "code",
   "execution_count": 363,
   "metadata": {},
   "outputs": [],
   "source": [
    "CDdict42 = { \n",
    "    'cat': [\n",
    "        'cat', 'picture of cat', 'cats', 'image of cats', 'moving cat', 'cat picture', 'cat image',\n",
    "        'cool cat', 'sitting cat', 'nice cat', 'image of nice cat', 'image of cool cat', 'image of cat',\n",
    "        'picture of cats', 'moving picture of cat', 'cool picture of cat',\n",
    "        'funny cat', 'funny image of cat', 'funny picture of cat',\n",
    "        'cute cat', 'cute image of cat'\n",
    "    ],\n",
    "    'dog': [\n",
    "        'dog', 'picture of dog', 'dogs', 'image of dogs', 'moving dog', 'dog picture', 'dog image',\n",
    "        'cool dog', 'sitting dog', 'nice dog', 'image of nice dog', 'image of cool dog', 'image of dog',\n",
    "        'picture of dogs', 'moving picture of dog', 'cool picture of dog',\n",
    "        'funny dog', 'funny image of dog', 'funny picture of dog',\n",
    "        'cute dog', 'cute image of dog'\n",
    "    ]\n",
    "}\n"
   ]
  },
  {
   "cell_type": "code",
   "execution_count": 364,
   "metadata": {},
   "outputs": [],
   "source": [
    "CDdict44 = { \n",
    "    'cat': [\n",
    "        'cat', 'picture of cat', 'cats', 'image of cats', 'moving cat', 'cat picture', 'cat image',\n",
    "        'cool cat', 'sitting cat', 'nice cat', 'image of nice cat', 'image of cool cat', 'image of cat',\n",
    "        'picture of cats', 'moving picture of cat', 'cool picture of cat',\n",
    "        'funny cat', 'funny image of cat', 'funny picture of cat',\n",
    "        'cute cat', 'cute image of cat', 'cute picture of cat'\n",
    "    ],\n",
    "    'dog': [\n",
    "        'dog', 'picture of dog', 'dogs', 'image of dogs', 'moving dog', 'dog picture', 'dog image',\n",
    "        'cool dog', 'sitting dog', 'nice dog', 'image of nice dog', 'image of cool dog', 'image of dog',\n",
    "        'picture of dogs', 'moving picture of dog', 'cool picture of dog',\n",
    "        'funny dog', 'funny image of dog', 'funny picture of dog',\n",
    "        'cute dog', 'cute image of dog', 'cute picture of dog'\n",
    "    ]\n",
    "}"
   ]
  },
  {
   "cell_type": "code",
   "execution_count": 365,
   "metadata": {},
   "outputs": [],
   "source": [
    "CDdict48 = { \n",
    "    'cat': [\n",
    "        'cat', 'picture of cat', 'cats', 'image of cats', 'moving cat', 'cat picture', 'cat image',\n",
    "        'cool cat', 'sitting cat', 'nice cat', 'image of nice cat', 'image of cool cat', 'image of cat',\n",
    "        'picture of cats', 'moving picture of cat', 'cool picture of cat',\n",
    "        'funny cat', 'funny image of cat', 'funny picture of cat',\n",
    "        'cute cat', 'cute image of cat', 'cute picture of cat',\n",
    "        'amazing cat', 'amazing image of cat'\n",
    "    ],\n",
    "    'dog': [\n",
    "        'dog', 'picture of dog', 'dogs', 'image of dogs', 'moving dog', 'dog picture', 'dog image',\n",
    "        'cool dog', 'sitting dog', 'nice dog', 'image of nice dog', 'image of cool dog', 'image of dog',\n",
    "        'picture of dogs', 'moving picture of dog', 'cool picture of dog',\n",
    "        'funny dog', 'funny image of dog', 'funny picture of dog',\n",
    "        'cute dog', 'cute image of dog', 'cute picture of dog',\n",
    "        'amazing dog', 'amazing image of dog'\n",
    "    ]\n",
    "}"
   ]
  },
  {
   "cell_type": "code",
   "execution_count": 366,
   "metadata": {},
   "outputs": [],
   "source": [
    "CDdict50 = { \n",
    "    'cat': [\n",
    "        'cat', 'picture of cat', 'cats', 'image of cats', 'moving cat', 'cat picture', 'cat image',\n",
    "        'cool cat', 'sitting cat', 'nice cat', 'image of nice cat', 'image of cool cat', 'image of cat',\n",
    "        'picture of cats', 'moving picture of cat', 'cool picture of cat',\n",
    "        'funny cat', 'funny image of cat', 'funny picture of cat',\n",
    "        'cute cat', 'cute image of cat', 'cute picture of cat',\n",
    "        'amazing cat', 'amazing image of cat', 'amazing picture of cat'\n",
    "    ],\n",
    "    'dog': [\n",
    "        'dog', 'picture of dog', 'dogs', 'image of dogs', 'moving dog', 'dog picture', 'dog image',\n",
    "        'cool dog', 'sitting dog', 'nice dog', 'image of nice dog', 'image of cool dog', 'image of dog',\n",
    "        'picture of dogs', 'moving picture of dog', 'cool picture of dog',\n",
    "        'funny dog', 'funny image of dog', 'funny picture of dog',\n",
    "        'cute dog', 'cute image of dog', 'cute picture of dog',\n",
    "        'amazing dog', 'amazing image of dog', 'amazing picture of dog'\n",
    "    ]\n",
    "}"
   ]
  },
  {
   "cell_type": "code",
   "execution_count": 367,
   "metadata": {},
   "outputs": [],
   "source": [
    "CDdict52 = { \n",
    "    'cat': [\n",
    "        'cat', 'picture of cat', 'cats', 'image of cats', 'moving cat', 'cat picture', 'cat image',\n",
    "        'cool cat', 'sitting cat', 'nice cat', 'image of nice cat', 'image of cool cat', 'image of cat',\n",
    "        'picture of cats', 'moving picture of cat', 'cool picture of cat',\n",
    "        'funny cat', 'funny image of cat', 'funny picture of cat',\n",
    "        'cute cat', 'cute image of cat', 'cute picture of cat',\n",
    "        'amazing cat', 'amazing image of cat', 'amazing picture of cat',\n",
    "        'adorable cat'\n",
    "    ],\n",
    "    'dog': [\n",
    "        'dog', 'picture of dog', 'dogs', 'image of dogs', 'moving dog', 'dog picture', 'dog image',\n",
    "        'cool dog', 'sitting dog', 'nice dog', 'image of nice dog', 'image of cool dog', 'image of dog',\n",
    "        'picture of dogs', 'moving picture of dog', 'cool picture of dog',\n",
    "        'funny dog', 'funny image of dog', 'funny picture of dog',\n",
    "        'cute dog', 'cute image of dog', 'cute picture of dog',\n",
    "        'amazing dog', 'amazing image of dog', 'amazing picture of dog',\n",
    "        'adorable dog'\n",
    "    ]\n",
    "}"
   ]
  },
  {
   "cell_type": "code",
   "execution_count": 368,
   "metadata": {},
   "outputs": [],
   "source": [
    "CDdict54 = { \n",
    "    'cat': [\n",
    "        'cat', 'picture of cat', 'cats', 'image of cats', 'moving cat', 'cat picture', 'cat image',\n",
    "        'cool cat', 'sitting cat', 'nice cat', 'image of nice cat', 'image of cool cat', 'image of cat',\n",
    "        'picture of cats', 'moving picture of cat', 'cool picture of cat',\n",
    "        'funny cat', 'funny image of cat', 'funny picture of cat',\n",
    "        'cute cat', 'cute image of cat', 'cute picture of cat',\n",
    "        'amazing cat', 'amazing image of cat', 'amazing picture of cat',\n",
    "        'adorable cat', 'adorable image of cat'\n",
    "    ],\n",
    "    'dog': [\n",
    "        'dog', 'picture of dog', 'dogs', 'image of dogs', 'moving dog', 'dog picture', 'dog image',\n",
    "        'cool dog', 'sitting dog', 'nice dog', 'image of nice dog', 'image of cool dog', 'image of dog',\n",
    "        'picture of dogs', 'moving picture of dog', 'cool picture of dog',\n",
    "        'funny dog', 'funny image of dog', 'funny picture of dog',\n",
    "        'cute dog', 'cute image of dog', 'cute picture of dog',\n",
    "        'amazing dog', 'amazing image of dog', 'amazing picture of dog',\n",
    "        'adorable dog', 'adorable image of dog'\n",
    "    ]\n",
    "}\n"
   ]
  },
  {
   "cell_type": "code",
   "execution_count": 369,
   "metadata": {},
   "outputs": [],
   "source": [
    "CDdict56 = { \n",
    "    'cat': [\n",
    "        'cat', 'picture of cat', 'cats', 'image of cats', 'moving cat', 'cat picture', 'cat image',\n",
    "        'cool cat', 'sitting cat', 'nice cat', 'image of nice cat', 'image of cool cat', 'image of cat',\n",
    "        'picture of cats', 'moving picture of cat', 'cool picture of cat',\n",
    "        'funny cat', 'funny image of cat', 'funny picture of cat',\n",
    "        'cute cat', 'cute image of cat', 'cute picture of cat',\n",
    "        'amazing cat', 'amazing image of cat', 'amazing picture of cat',\n",
    "        'adorable cat', 'adorable image of cat', 'adorable picture of cat'\n",
    "    ],\n",
    "    'dog': [\n",
    "        'dog', 'picture of dog', 'dogs', 'image of dogs', 'moving dog', 'dog picture', 'dog image',\n",
    "        'cool dog', 'sitting dog', 'nice dog', 'image of nice dog', 'image of cool dog', 'image of dog',\n",
    "        'picture of dogs', 'moving picture of dog', 'cool picture of dog',\n",
    "        'funny dog', 'funny image of dog', 'funny picture of dog',\n",
    "        'cute dog', 'cute image of dog', 'cute picture of dog',\n",
    "        'amazing dog', 'amazing image of dog', 'amazing picture of dog',\n",
    "        'adorable dog', 'adorable image of dog', 'adorable picture of dog'\n",
    "    ]\n",
    "}"
   ]
  },
  {
   "cell_type": "markdown",
   "metadata": {},
   "source": []
  },
  {
   "cell_type": "markdown",
   "metadata": {},
   "source": [
    "## Vegetables"
   ]
  },
  {
   "cell_type": "code",
   "execution_count": 370,
   "metadata": {},
   "outputs": [
    {
     "name": "stdout",
     "output_type": "stream",
     "text": [
      "53.6\n",
      "53.6\n"
     ]
    }
   ],
   "source": [
    "veg15 = {\"Bean\" : [\"Bean\"],\n",
    "         \"Bitter Gourd\" : [\"Bitter Gourd\"],\n",
    "         \"Bottle Gourd\" : [\"Bottle Gourd\"],\n",
    "         \"Brinjal\" : [\"Brinjal\"],\n",
    "         \"Cabbage\" : [\"Cabbage\"],\n",
    "         \"Broccoli\" : [\"Broccoli\"],\n",
    "         \"Capsicum\" : [\"Capsicum\"],\n",
    "         \"Carrot\" : [\"Carrot\"],\n",
    "         \"Cauliflower\" : [\"Cauliflower\"],\n",
    "         \"Cucumber\" : [\"Cucumber\"],\n",
    "         \"Papaya\" : [\"Papaya\"],\n",
    "         \"Potato\" : [\"Potato\"],\n",
    "         \"Pumpkin\" : [\"Pumpkin\"],\n",
    "         \"Radish\" : [\"Radish\"],\n",
    "         \"Tomato\" : [\"Tomato\"]}\n",
    "\n",
    "# Bean, Bitter Gourd, Bottle Gourd, Brinjal, Cabbage, Broccoli, Capsicum, Carrot, Cauliflower, Cucumber, Papaya, Potato, Pumpkin, Radish, Tomato\n",
    "\n",
    "# dict_size(veg15)\n",
    "print(aOcheck_accuracy(\"WithoutIP/Vegetable15/v15.csv\", veg15))"
   ]
  },
  {
   "cell_type": "code",
   "execution_count": 371,
   "metadata": {},
   "outputs": [
    {
     "name": "stdout",
     "output_type": "stream",
     "text": [
      "58.66\n",
      "58.66\n"
     ]
    }
   ],
   "source": [
    "veg30 = {\n",
    "    \"Bean\": [\"Bean\", \"Beans\"],\n",
    "    \"Bitter Gourd\": [\"Bitter Gourd\", \"Bitter Gourds\"],\n",
    "    \"Bottle Gourd\": [\"Bottle Gourd\", \"Bottle Gourds\"],\n",
    "    \"Brinjal\": [\"Brinjal\", \"Brinjals\"],\n",
    "    \"Cabbage\": [\"Cabbage\", \"Cabbages\"],\n",
    "    \"Broccoli\": [\"Broccoli\", \"Broccolis\"],\n",
    "    \"Capsicum\": [\"Capsicum\", \"Capsicums\"],\n",
    "    \"Carrot\": [\"Carrot\", \"Carrots\"],\n",
    "    \"Cauliflower\": [\"Cauliflower\", \"Cauliflowers\"],\n",
    "    \"Cucumber\": [\"Cucumber\", \"Cucumbers\"],\n",
    "    \"Papaya\": [\"Papaya\", \"Papayas\"],\n",
    "    \"Potato\": [\"Potato\", \"Potatoes\"],\n",
    "    \"Pumpkin\": [\"Pumpkin\", \"Pumpkins\"],\n",
    "    \"Radish\": [\"Radish\", \"Radishes\"],\n",
    "    \"Tomato\": [\"Tomato\", \"Tomatoes\"]\n",
    "}\n",
    "\n",
    "# Bean, Beans, Bitter Gourd, Bitter Gourds, Bottle Gourd, Bottle Gourds, Brinjal, Brinjals, Cabbage, Cabbages, Broccoli, Broccolis, Capsicum, Capsicums, Carrot, Carrots, Cauliflower, Cauliflowers, Cucumber, Cucumbers, Papaya, Papayas, Potato, Potatoes, Pumpkin, Pumpkins, Radish, Radishes, Tomato, Tomatoes\n",
    "\n",
    "# dict_size(veg30)\n",
    "print(aOcheck_accuracy(\"WithoutIP/Vegetable15/v30.csv\", veg30))"
   ]
  },
  {
   "cell_type": "code",
   "execution_count": 372,
   "metadata": {},
   "outputs": [
    {
     "name": "stdout",
     "output_type": "stream",
     "text": [
      "50.77\n",
      "50.77\n"
     ]
    }
   ],
   "source": [
    "veg45 = {\n",
    "    \"Bean\": [\"Bean\", \"Beans\", \"Large Bean\"],\n",
    "    \"Bitter Gourd\": [\"Bitter Gourd\", \"Bitter Gourds\", \"Large Bitter Gourd\"],\n",
    "    \"Bottle Gourd\": [\"Bottle Gourd\", \"Bottle Gourds\", \"Large Bottle Gourd\"],\n",
    "    \"Brinjal\": [\"Brinjal\", \"Brinjals\", \"Large Brinjal\"],\n",
    "    \"Cabbage\": [\"Cabbage\", \"Cabbages\", \"Large Cabbage\"],\n",
    "    \"Broccoli\": [\"Broccoli\", \"Broccolis\", \"Large Broccoli\"],\n",
    "    \"Capsicum\": [\"Capsicum\", \"Capsicums\", \"Large Capsicum\"],\n",
    "    \"Carrot\": [\"Carrot\", \"Carrots\", \"Large Carrot\"],\n",
    "    \"Cauliflower\": [\"Cauliflower\", \"Cauliflowers\", \"Large Cauliflower\"],\n",
    "    \"Cucumber\": [\"Cucumber\", \"Cucumbers\", \"Large Cucumber\"],\n",
    "    \"Papaya\": [\"Papaya\", \"Papayas\", \"Large Papaya\"],\n",
    "    \"Potato\": [\"Potato\", \"Potatoes\", \"Large Potato\"],\n",
    "    \"Pumpkin\": [\"Pumpkin\", \"Pumpkins\", \"Large Pumpkin\"],\n",
    "    \"Radish\": [\"Radish\", \"Radishes\", \"Large Radish\"],\n",
    "    \"Tomato\": [\"Tomato\", \"Tomatoes\", \"Large Tomato\"]\n",
    "}\n",
    "\n",
    "# Bean, Beans, Large Bean, Bitter Gourd, Bitter Gourds, Large Bitter Gourd, Bottle Gourd, Bottle Gourds, Large Bottle Gourd, Brinjal, Brinjals, Large Brinjal, Cabbage, Cabbages, Large Cabbage, Broccoli, Broccolis, Large Broccoli, Capsicum, Capsicums, Large Capsicum, Carrot, Carrots, Large Carrot, Cauliflower, Cauliflowers, Large Cauliflower, Cucumber, Cucumbers, Large Cucumber, Papaya, Papayas, Large Papaya, Potato, Potatoes, Large Potato, Pumpkin, Pumpkins, Large Pumpkin, Radish, Radishes, Large Radish, Tomato, Tomatoes, Large Tomato\n",
    "\n",
    "# dict_size(veg45)\n",
    "print(aOcheck_accuracy(\"WithoutIP/Vegetable15/v45.csv\", veg45))\n"
   ]
  },
  {
   "cell_type": "code",
   "execution_count": 373,
   "metadata": {},
   "outputs": [
    {
     "name": "stdout",
     "output_type": "stream",
     "text": [
      "37.18\n",
      "37.18\n"
     ]
    }
   ],
   "source": [
    "veg60 = {\n",
    "    \"Bean\": [\"Bean\", \"Beans\", \"Large Bean\", \"Small Bean\"],\n",
    "    \"Bitter Gourd\": [\"Bitter Gourd\", \"Bitter Gourds\", \"Large Bitter Gourd\", \"Small Bitter Gourd\"],\n",
    "    \"Bottle Gourd\": [\"Bottle Gourd\", \"Bottle Gourds\", \"Large Bottle Gourd\", \"Small Bottle Gourd\"],\n",
    "    \"Brinjal\": [\"Brinjal\", \"Brinjals\", \"Large Brinjal\", \"Small Brinjal\"],\n",
    "    \"Cabbage\": [\"Cabbage\", \"Cabbages\", \"Large Cabbage\", \"Small Cabbage\"],\n",
    "    \"Broccoli\": [\"Broccoli\", \"Broccolis\", \"Large Broccoli\", \"Small Broccoli\"],\n",
    "    \"Capsicum\": [\"Capsicum\", \"Capsicums\", \"Large Capsicum\", \"Small Capsicum\"],\n",
    "    \"Carrot\": [\"Carrot\", \"Carrots\", \"Large Carrot\", \"Small Carrot\"],\n",
    "    \"Cauliflower\": [\"Cauliflower\", \"Cauliflowers\", \"Large Cauliflower\", \"Small Cauliflower\"],\n",
    "    \"Cucumber\": [\"Cucumber\", \"Cucumbers\", \"Large Cucumber\", \"Small Cucumber\"],\n",
    "    \"Papaya\": [\"Papaya\", \"Papayas\", \"Large Papaya\", \"Small Papaya\"],\n",
    "    \"Potato\": [\"Potato\", \"Potatoes\", \"Large Potato\", \"Small Potato\"],\n",
    "    \"Pumpkin\": [\"Pumpkin\", \"Pumpkins\", \"Large Pumpkin\", \"Small Pumpkin\"],\n",
    "    \"Radish\": [\"Radish\", \"Radishes\", \"Large Radish\", \"Small Radish\"],\n",
    "    \"Tomato\": [\"Tomato\", \"Tomatoes\", \"Large Tomato\", \"Small Tomato\"]\n",
    "}\n",
    "\n",
    "# Bean, Beans, Large Bean, Small Bean, Bitter Gourd, Bitter Gourds, Large Bitter Gourd, Small Bitter Gourd, Bottle Gourd, Bottle Gourds, Large Bottle Gourd, Small Bottle Gourd, Brinjal, Brinjals, Large Brinjal, Small Brinjal, Cabbage, Cabbages, Large Cabbage, Small Cabbage, Broccoli, Broccolis, Large Broccoli, Small Broccoli, Capsicum, Capsicums, Large Capsicum, Small Capsicum, Carrot, Carrots, Large Carrot, Small Carrot, Cauliflower, Cauliflowers, Large Cauliflower, Small Cauliflower, Cucumber, Cucumbers, Large Cucumber, Small Cucumber, Papaya, Papayas, Large Papaya, Small Papaya, Potato, Potatoes, Large Potato, Small Potato, Pumpkin, Pumpkins, Large Pumpkin, Small Pumpkin, Radish, Radishes, Large Radish, Small Radish, Tomato, Tomatoes, Large Tomato, Small Tomato\n",
    "\n",
    "# dict_size(veg60)\n",
    "print(aOcheck_accuracy(\"WithoutIP/Vegetable15/v60.csv\", veg60))\n"
   ]
  },
  {
   "cell_type": "code",
   "execution_count": 374,
   "metadata": {},
   "outputs": [
    {
     "name": "stdout",
     "output_type": "stream",
     "text": [
      "30.15\n",
      "30.15\n"
     ]
    }
   ],
   "source": [
    "veg75 = {\n",
    "    \"Bean\": [\"Bean\", \"Beans\", \"Large Bean\", \"Large Beans\", \"Small Bean\"],\n",
    "    \"Bitter Gourd\": [\"Bitter Gourd\", \"Bitter Gourds\", \"Large Bitter Gourd\", \"Large Bitter Gourds\", \"Small Bitter Gourd\"],\n",
    "    \"Bottle Gourd\": [\"Bottle Gourd\", \"Bottle Gourds\", \"Large Bottle Gourd\", \"Large Bottle Gourds\", \"Small Bottle Gourd\"],\n",
    "    \"Brinjal\": [\"Brinjal\", \"Brinjals\", \"Large Brinjal\", \"Large Brinjals\", \"Small Brinjal\"],\n",
    "    \"Cabbage\": [\"Cabbage\", \"Cabbages\", \"Large Cabbage\", \"Large Cabbages\", \"Small Cabbage\"],\n",
    "    \"Broccoli\": [\"Broccoli\", \"Broccolis\", \"Large Broccoli\", \"Large Broccolis\", \"Small Broccoli\"],\n",
    "    \"Capsicum\": [\"Capsicum\", \"Capsicums\", \"Large Capsicum\", \"Large Capsicums\", \"Small Capsicum\"],\n",
    "    \"Carrot\": [\"Carrot\", \"Carrots\", \"Large Carrot\", \"Large Carrots\", \"Small Carrot\"],\n",
    "    \"Cauliflower\": [\"Cauliflower\", \"Cauliflowers\", \"Large Cauliflower\", \"Large Cauliflowers\", \"Small Cauliflower\"],\n",
    "    \"Cucumber\": [\"Cucumber\", \"Cucumbers\", \"Large Cucumber\", \"Large Cucumbers\", \"Small Cucumber\"],\n",
    "    \"Papaya\": [\"Papaya\", \"Papayas\", \"Large Papaya\", \"Large Papayas\", \"Small Papaya\"],\n",
    "    \"Potato\": [\"Potato\", \"Potatoes\", \"Large Potato\", \"Large Potatoes\", \"Small Potato\"],\n",
    "    \"Pumpkin\": [\"Pumpkin\", \"Pumpkins\", \"Large Pumpkin\", \"Large Pumpkins\", \"Small Pumpkin\"],\n",
    "    \"Radish\": [\"Radish\", \"Radishes\", \"Large Radish\", \"Large Radishes\", \"Small Radish\"],\n",
    "    \"Tomato\": [\"Tomato\", \"Tomatoes\", \"Large Tomato\", \"Large Tomatoes\", \"Small Tomato\"]\n",
    "}\n",
    "\n",
    "# Bean, Beans, Large Bean, Large Beans, Small Bean, Bitter Gourd, Bitter Gourds, Large Bitter Gourd, Large Bitter Gourds, Small Bitter Gourd, Bottle Gourd, Bottle Gourds, Large Bottle Gourd, Large Bottle Gourds, Small Bottle Gourd, Brinjal, Brinjals, Large Brinjal, Large Brinjals, Small Brinjal, Cabbage, Cabbages, Large Cabbage, Large Cabbages, Small Cabbage, Broccoli, Broccolis, Large Broccoli, Large Broccolis, Small Broccoli, Capsicum, Capsicums, Large Capsicum, Large Capsicums, Small Capsicum, Carrot, Carrots, Large Carrot, Large Carrots, Small Carrot, Cauliflower, Cauliflowers, Large Cauliflower, Large Cauliflowers, Small Cauliflower, Cucumber, Cucumbers, Large Cucumber, Large Cucumbers, Small Cucumber, Papaya, Papayas, Large Papaya, Large Papayas, Small Papaya, Potato, Potatoes, Large Potato, Large Potatoes, Small Potato, Pumpkin, Pumpkins, Large Pumpkin, Large Pumpkins, Small Pumpkin, Radish, Radishes, Large Radish, Large Radishes, Small Radish, Tomato, Tomatoes, Large Tomato, Large Tomatoes, Small Tomato\n",
    "\n",
    "# dict_size(veg75)\n",
    "print(aOcheck_accuracy(\"WithoutIP/Vegetable15/v75.csv\", veg75))\n"
   ]
  },
  {
   "cell_type": "code",
   "execution_count": 375,
   "metadata": {},
   "outputs": [
    {
     "name": "stdout",
     "output_type": "stream",
     "text": [
      "26.82\n",
      "26.82\n"
     ]
    }
   ],
   "source": [
    "veg90 = {\n",
    "    \"Bean\": [\"Bean\", \"Beans\", \"Large Bean\", \"Large Beans\", \"Small Bean\", \"Small Beans\"],\n",
    "    \"Bitter Gourd\": [\"Bitter Gourd\", \"Bitter Gourds\", \"Large Bitter Gourd\", \"Large Bitter Gourds\", \"Small Bitter Gourd\", \"Small Bitter Gourds\"],\n",
    "    \"Bottle Gourd\": [\"Bottle Gourd\", \"Bottle Gourds\", \"Large Bottle Gourd\", \"Large Bottle Gourds\", \"Small Bottle Gourd\", \"Small Bottle Gourds\"],\n",
    "    \"Brinjal\": [\"Brinjal\", \"Brinjals\", \"Large Brinjal\", \"Large Brinjals\", \"Small Brinjal\", \"Small Brinjals\"],\n",
    "    \"Cabbage\": [\"Cabbage\", \"Cabbages\", \"Large Cabbage\", \"Large Cabbages\", \"Small Cabbage\", \"Small Cabbages\"],\n",
    "    \"Broccoli\": [\"Broccoli\", \"Broccolis\", \"Large Broccoli\", \"Large Broccolis\", \"Small Broccoli\", \"Small Broccolis\"],\n",
    "    \"Capsicum\": [\"Capsicum\", \"Capsicums\", \"Large Capsicum\", \"Large Capsicums\", \"Small Capsicum\", \"Small Capsicums\"],\n",
    "    \"Carrot\": [\"Carrot\", \"Carrots\", \"Large Carrot\", \"Large Carrots\", \"Small Carrot\", \"Small Carrots\"],\n",
    "    \"Cauliflower\": [\"Cauliflower\", \"Cauliflowers\", \"Large Cauliflower\", \"Large Cauliflowers\", \"Small Cauliflower\", \"Small Cauliflowers\"],\n",
    "    \"Cucumber\": [\"Cucumber\", \"Cucumbers\", \"Large Cucumber\", \"Large Cucumbers\", \"Small Cucumber\", \"Small Cucumbers\"],\n",
    "    \"Papaya\": [\"Papaya\", \"Papayas\", \"Large Papaya\", \"Large Papayas\", \"Small Papaya\", \"Small Papayas\"],\n",
    "    \"Potato\": [\"Potato\", \"Potatoes\", \"Large Potato\", \"Large Potatoes\", \"Small Potato\", \"Small Potatoes\"],\n",
    "    \"Pumpkin\": [\"Pumpkin\", \"Pumpkins\", \"Large Pumpkin\", \"Large Pumpkins\", \"Small Pumpkin\", \"Small Pumpkins\"],\n",
    "    \"Radish\": [\"Radish\", \"Radishes\", \"Large Radish\", \"Large Radishes\", \"Small Radish\", \"Small Radishes\"],\n",
    "    \"Tomato\": [\"Tomato\", \"Tomatoes\", \"Large Tomato\", \"Large Tomatoes\", \"Small Tomato\", \"Small Tomatoes\"]\n",
    "}\n",
    "\n",
    "# Bean, Beans, Large Bean, Large Beans, Small Bean, Small Beans, Bitter Gourd, Bitter Gourds, Large Bitter Gourd, Large Bitter Gourds, Small Bitter Gourd, Small Bitter Gourds, Bottle Gourd, Bottle Gourds, Large Bottle Gourd, Large Bottle Gourds, Small Bottle Gourd, Small Bottle Gourds, Brinjal, Brinjals, Large Brinjal, Large Brinjals, Small Brinjal, Small Brinjals, Cabbage, Cabbages, Large Cabbage, Large Cabbages, Small Cabbage, Small Cabbages, Broccoli, Broccolis, Large Broccoli, Large Broccolis, Small Broccoli, Small Broccolis, Capsicum, Capsicums, Large Capsicum, Large Capsicums, Small Capsicum, Small Capsicums, Carrot, Carrots, Large Carrot, Large Carrots, Small Carrot, Small Carrots, Cauliflower, Cauliflowers, Large Cauliflower, Large Cauliflowers, Small Cauliflower, Small Cauliflowers, Cucumber, Cucumbers, Large Cucumber, Large Cucumbers, Small Cucumber, Small Cucumbers, Papaya, Papayas, Large Papaya, Large Papayas, Small Papaya, Small Papayas, Potato, Potatoes, Large Potato, Large Potatoes, Small Potato, Small Potatoes, Pumpkin, Pumpkins, Large Pumpkin, Large Pumpkins, Small Pumpkin, Small Pumpkins, Radish, Radishes, Large Radish, Large Radishes, Small Radish, Small Radishes, Tomato, Tomatoes, Large Tomato, Large Tomatoes, Small Tomato, Small Tomatoes\n",
    "\n",
    "# dict_size(veg90)\n",
    "print(aOcheck_accuracy(\"WithoutIP/Vegetable15/v90.csv\", veg90))\n"
   ]
  },
  {
   "cell_type": "code",
   "execution_count": 376,
   "metadata": {},
   "outputs": [
    {
     "name": "stdout",
     "output_type": "stream",
     "text": [
      "30.44\n",
      "30.44\n"
     ]
    }
   ],
   "source": [
    "veg105 = {\n",
    "    \"Bean\": [\"Bean\", \"Beans\", \"Large Bean\", \"Small Bean\", \"Large Beans\", \"Small Beans\", \"Vegetable Bean\"],\n",
    "    \"Bitter Gourd\": [\"Bitter Gourd\", \"Bitter Gourds\", \"Large Bitter Gourd\", \"Small Bitter Gourd\", \"Large Bitter Gourds\", \"Small Bitter Gourds\", \"Vegetable Bitter Gourd\"],\n",
    "    \"Bottle Gourd\": [\"Bottle Gourd\", \"Bottle Gourds\", \"Large Bottle Gourd\", \"Small Bottle Gourd\", \"Large Bottle Gourds\", \"Small Bottle Gourds\", \"Vegetable Bottle Gourd\"],\n",
    "    \"Brinjal\": [\"Brinjal\", \"Brinjals\", \"Large Brinjal\", \"Small Brinjal\", \"Large Brinjals\", \"Small Brinjals\", \"Vegetable Brinjal\"],\n",
    "    \"Cabbage\": [\"Cabbage\", \"Cabbages\", \"Large Cabbage\", \"Small Cabbage\", \"Large Cabbages\", \"Small Cabbages\", \"Vegetable Cabbage\"],\n",
    "    \"Broccoli\": [\"Broccoli\", \"Broccolis\", \"Large Broccoli\", \"Small Broccoli\", \"Large Broccolis\", \"Small Broccolis\", \"Vegetable Broccoli\"],\n",
    "    \"Capsicum\": [\"Capsicum\", \"Capsicums\", \"Large Capsicum\", \"Small Capsicum\", \"Large Capsicums\", \"Small Capsicums\", \"Vegetable Capsicum\"],\n",
    "    \"Carrot\": [\"Carrot\", \"Carrots\", \"Large Carrot\", \"Small Carrot\", \"Large Carrots\", \"Small Carrots\", \"Vegetable Carrot\"],\n",
    "    \"Cauliflower\": [\"Cauliflower\", \"Cauliflowers\", \"Large Cauliflower\", \"Small Cauliflower\", \"Large Cauliflowers\", \"Small Cauliflowers\", \"Vegetable Cauliflower\"],\n",
    "    \"Cucumber\": [\"Cucumber\", \"Cucumbers\", \"Large Cucumber\", \"Small Cucumber\", \"Large Cucumbers\", \"Small Cucumbers\", \"Vegetable Cucumber\"],\n",
    "    \"Papaya\": [\"Papaya\", \"Papayas\", \"Large Papaya\", \"Small Papaya\", \"Large Papayas\", \"Small Papayas\", \"Vegetable Papaya\"],\n",
    "    \"Potato\": [\"Potato\", \"Potatoes\", \"Large Potato\", \"Small Potato\", \"Large Potatoes\", \"Small Potatoes\", \"Vegetable Potato\"],\n",
    "    \"Pumpkin\": [\"Pumpkin\", \"Pumpkins\", \"Large Pumpkin\", \"Small Pumpkin\", \"Large Pumpkins\", \"Small Pumpkins\", \"Vegetable Pumpkin\"],\n",
    "    \"Radish\": [\"Radish\", \"Radishes\", \"Large Radish\", \"Small Radish\", \"Large Radishes\", \"Small Radishes\", \"Vegetable Radish\"],\n",
    "    \"Tomato\": [\"Tomato\", \"Tomatoes\", \"Large Tomato\", \"Small Tomato\", \"Large Tomatoes\", \"Small Tomatoes\", \"Vegetable Tomato\"]\n",
    "}\n",
    "\n",
    "# Bean, Beans, Large Bean, Small Bean, Large Beans, Small Beans, Vegetable Bean, Bitter Gourd, Bitter Gourds, Large Bitter Gourd, Small Bitter Gourd, Large Bitter Gourds, Small Bitter Gourds, Vegetable Bitter Gourd, Bottle Gourd, Bottle Gourds, Large Bottle Gourd, Small Bottle Gourd, Large Bottle Gourds, Small Bottle Gourds, Vegetable Bottle Gourd, Brinjal, Brinjals, Large Brinjal, Small Brinjal, Large Brinjals, Small Brinjals, Vegetable Brinjal, Cabbage, Cabbages, Large Cabbage, Small Cabbage, Large Cabbages, Small Cabbages, Vegetable Cabbage, Broccoli, Broccolis, Large Broccoli, Small Broccoli, Large Broccolis, Small Broccolis, Vegetable Broccoli, Capsicum, Capsicums, Large Capsicum, Small Capsicum, Large Capsicums, Small Capsicums, Vegetable Capsicum, Carrot, Carrots, Large Carrot, Small Carrot, Large Carrots, Small Carrots, Vegetable Carrot, Cauliflower, Cauliflowers, Large Cauliflower, Small Cauliflower, Large Cauliflowers, Small Cauliflowers, Vegetable Cauliflower, Cucumber, Cucumbers, Large Cucumber, Small Cucumber, Large Cucumbers, Small Cucumbers, Vegetable Cucumber, Papaya, Papayas, Large Papaya, Small Papaya, Large Papayas, Small Papayas, Vegetable Papaya, Potato, Potatoes, Large Potato, Small Potato, Large Potatoes, Small Potatoes, Vegetable Potato, Pumpkin, Pumpkins, Large Pumpkin, Small Pumpkin, Large Pumpkins, Small Pumpkins, Vegetable Pumpkin, Radish, Radishes, Large Radish, Small Radish, Large Radishes, Small Radishes, Vegetable Radish, Tomato, Tomatoes, Large Tomato, Small Tomato, Large Tomatoes, Small Tomatoes, Vegetable Tomato\n",
    "\n",
    "# dict_size(veg105)\n",
    "print(aOcheck_accuracy(\"WithoutIP/Vegetable15/v105.csv\", veg105))\n"
   ]
  },
  {
   "cell_type": "markdown",
   "metadata": {},
   "source": [
    "## Deck of Cards"
   ]
  },
  {
   "cell_type": "code",
   "execution_count": 377,
   "metadata": {},
   "outputs": [],
   "source": [
    "cards4 = {\n",
    "    \"Clubs\" : [\"Card of Clubs\"],\n",
    "    \"Diamonds\" : [\"Card of Diamonds\"],\n",
    "    \"Hearts\" : [\"Card of Hearts\"],\n",
    "    \"Spades\" : [\"Card of Spades\"]\n",
    "}\n",
    "\n",
    "# Card of Clubs, Card of Diamonds, Card of Hearts, Card of Spades\n",
    "\n",
    "# dict_size(cards4) \n",
    "# print(card_accuracy(\"Card15/cards4.csv\", cards4))"
   ]
  },
  {
   "cell_type": "code",
   "execution_count": 378,
   "metadata": {},
   "outputs": [],
   "source": [
    "cards8 = {\n",
    "    \"Clubs\": [\"Card of Clubs\", \"Image of Card of Clubs\"],\n",
    "    \"Diamonds\": [\"Card of Diamonds\", \"Image of Card of Diamonds\"],\n",
    "    \"Hearts\": [\"Card of Hearts\", \"Image of Card of Hearts\"],\n",
    "    \"Spades\": [\"Card of Spades\", \"Image of Card of Spades\"]\n",
    "}\n",
    "\n",
    "# # Card of Clubs, Image of Card of Clubs, Card of Diamonds, Image of Card of Diamonds, Card of Hearts, Image of Card of Hearts, Card of Spades, Image of Card of Spades\n",
    "\n",
    "# dict_size(cards8)\n",
    "# print(card_accuracy(\"Card15/cards8.csv\", cards8))\n"
   ]
  },
  {
   "cell_type": "code",
   "execution_count": 379,
   "metadata": {},
   "outputs": [],
   "source": [
    "cards12 = {\n",
    "    \"Clubs\": [\"Card of Clubs\", \"Image of Card of Clubs\", \"Picture of Card of Clubs\"],\n",
    "    \"Diamonds\": [\"Card of Diamonds\", \"Image of Card of Diamonds\", \"Picture of Card of Diamonds\"],\n",
    "    \"Hearts\": [\"Card of Hearts\", \"Image of Card of Hearts\", \"Picture of Card of Hearts\"],\n",
    "    \"Spades\": [\"Card of Spades\", \"Image of Card of Spades\", \"Picture of Card of Spades\"]\n",
    "}\n",
    "\n",
    "# Card of Clubs, Image of Card of Clubs, Picture of Card of Clubs, Card of Diamonds, Image of Card of Diamonds, Picture of Card of Diamonds, Card of Hearts, Image of Card of Hearts, Picture of Card of Hearts, Card of Spades, Image of Card of Spades, Picture of Card of Spades\n",
    "\n",
    "# dict_size(cards12)\n",
    "# print(card_accuracy(\"Card15/cards12.csv\", cards12))\n"
   ]
  },
  {
   "cell_type": "code",
   "execution_count": 380,
   "metadata": {},
   "outputs": [],
   "source": [
    "cards16 = {\n",
    "    \"Clubs\": [\"Card of Clubs\", \"Image of Card of Clubs\", \"Picture of Card of Clubs\", \"Poker Card of Clubs\"],\n",
    "    \"Diamonds\": [\"Card of Diamonds\", \"Image of Card of Diamonds\", \"Picture of Card of Diamonds\", \"Poker Card of Diamonds\"],\n",
    "    \"Hearts\": [\"Card of Hearts\", \"Image of Card of Hearts\", \"Picture of Card of Hearts\", \"Poker Card of Hearts\"],\n",
    "    \"Spades\": [\"Card of Spades\", \"Image of Card of Spades\", \"Picture of Card of Spades\", \"Poker Card of Spades\"]\n",
    "}\n",
    "\n",
    "# Card of Clubs, Image of Card of Clubs, Picture of Card of Clubs, Poker Card of Clubs, Card of Diamonds, Image of Card of Diamonds, Picture of Card of Diamonds, Poker Card of Diamonds, Card of Hearts, Image of Card of Hearts, Picture of Card of Hearts, Poker Card of Hearts, Card of Spades, Image of Card of Spades, Picture of Card of Spades, Poker Card of Spades\n",
    "\n",
    "# dict_size(cards16)\n",
    "# print(card_accuracy(\"Card15/cards16.csv\", cards16))\n"
   ]
  },
  {
   "cell_type": "code",
   "execution_count": 381,
   "metadata": {},
   "outputs": [],
   "source": [
    "cards20 = {\n",
    "    \"Clubs\": [\"Card of Clubs\", \"Image of Card of Clubs\", \"Picture of Card of Clubs\", \"Poker Card of Clubs\", \"Classic Card of Clubs\"],\n",
    "    \"Diamonds\": [\"Card of Diamonds\", \"Image of Card of Diamonds\", \"Picture of Card of Diamonds\", \"Poker Card of Diamonds\", \"Classic Card of Diamonds\"],\n",
    "    \"Hearts\": [\"Card of Hearts\", \"Image of Card of Hearts\", \"Picture of Card of Hearts\", \"Poker Card of Hearts\", \"Classic Card of Hearts\"],\n",
    "    \"Spades\": [\"Card of Spades\", \"Image of Card of Spades\", \"Picture of Card of Spades\", \"Poker Card of Spades\", \"Classic Card of Spades\"]\n",
    "}\n",
    "\n",
    "# Card of Clubs, Image of Card of Clubs, Picture of Card of Clubs, Poker Card of Clubs, Classic Card of Clubs, Card of Diamonds, Image of Card of Diamonds, Picture of Card of Diamonds, Poker Card of Diamonds, Classic Card of Diamonds, Card of Hearts, Image of Card of Hearts, Picture of Card of Hearts, Poker Card of Hearts, Classic Card of Hearts, Card of Spades, Image of Card of Spades, Picture of Card of Spades, Poker Card of Spades, Classic Card of Spades\n",
    "\n",
    "# dict_size(cards20)\n",
    "# print(card_accuracy(\"Card15/cards20.csv\", cards20))\n"
   ]
  },
  {
   "cell_type": "code",
   "execution_count": 382,
   "metadata": {},
   "outputs": [],
   "source": [
    "cards24 = {\n",
    "    \"Clubs\": [\"Card of Clubs\", \"Image of Card of Clubs\", \"Picture of Card of Clubs\", \"Poker Card of Clubs\", \"Classic Card of Clubs\", \"Vintage Card of Clubs\"],\n",
    "    \"Diamonds\": [\"Card of Diamonds\", \"Image of Card of Diamonds\", \"Picture of Card of Diamonds\", \"Poker Card of Diamonds\", \"Classic Card of Diamonds\", \"Vintage Card of Diamonds\"],\n",
    "    \"Hearts\": [\"Card of Hearts\", \"Image of Card of Hearts\", \"Picture of Card of Hearts\", \"Poker Card of Hearts\", \"Classic Card of Hearts\", \"Vintage Card of Hearts\"],\n",
    "    \"Spades\": [\"Card of Spades\", \"Image of Card of Spades\", \"Picture of Card of Spades\", \"Poker Card of Spades\", \"Classic Card of Spades\", \"Vintage Card of Spades\"]\n",
    "}\n",
    "\n",
    "# Card of Clubs, Image of Card of Clubs, Picture of Card of Clubs, Poker Card of Clubs, Classic Card of Clubs, Vintage Card of Clubs, Card of Diamonds, Image of Card of Diamonds, Picture of Card of Diamonds, Poker Card of Diamonds, Classic Card of Diamonds, Vintage Card of Diamonds, Card of Hearts, Image of Card of Hearts, Picture of Card of Hearts, Poker Card of Hearts, Classic Card of Hearts, Vintage Card of Hearts, Card of Spades, Image of Card of Spades, Picture of Card of Spades, Poker Card of Spades, Classic Card of Spades, Vintage Card of Spades\n",
    "\n",
    "# dict_size(cards24)\n",
    "# print(card_accuracy(\"Card15/cards24.csv\", cards24))\n"
   ]
  },
  {
   "cell_type": "code",
   "execution_count": 383,
   "metadata": {},
   "outputs": [],
   "source": [
    "cards28 = {\n",
    "    \"Clubs\": [\"Card of Clubs\", \"Image of Card of Clubs\", \"Picture of Card of Clubs\", \"Poker Card of Clubs\", \"Classic Card of Clubs\", \"Vintage Card of Clubs\", \"Royal Card of Clubs\"],\n",
    "    \"Diamonds\": [\"Card of Diamonds\", \"Image of Card of Diamonds\", \"Picture of Card of Diamonds\", \"Poker Card of Diamonds\", \"Classic Card of Diamonds\", \"Vintage Card of Diamonds\", \"Royal Card of Diamonds\"],\n",
    "    \"Hearts\": [\"Card of Hearts\", \"Image of Card of Hearts\", \"Picture of Card of Hearts\", \"Poker Card of Hearts\", \"Classic Card of Hearts\", \"Vintage Card of Hearts\", \"Royal Card of Hearts\"],\n",
    "    \"Spades\": [\"Card of Spades\", \"Image of Card of Spades\", \"Picture of Card of Spades\", \"Poker Card of Spades\", \"Classic Card of Spades\", \"Vintage Card of Spades\", \"Royal Card of Spades\"]\n",
    "}\n",
    "\n",
    "# Card of Clubs, Image of Card of Clubs, Picture of Card of Clubs, Poker Card of Clubs, Classic Card of Clubs, Vintage Card of Clubs, Royal Card of Clubs, Card of Diamonds, Image of Card of Diamonds, Picture of Card of Diamonds, Poker Card of Diamonds, Classic Card of Diamonds, Vintage Card of Diamonds, Royal Card of Diamonds, Card of Hearts, Image of Card of Hearts, Picture of Card of Hearts, Poker Card of Hearts, Classic Card of Hearts, Vintage Card of Hearts, Royal Card of Hearts, Card of Spades, Image of Card of Spades, Picture of Card of Spades, Poker Card of Spades, Classic Card of Spades, Vintage Card of Spades, Royal Card of Spades\n",
    "\n",
    "# dict_size(cards28)\n",
    "# print(card_accuracy(\"Card15/cards28.csv\", cards28))\n"
   ]
  },
  {
   "cell_type": "code",
   "execution_count": 384,
   "metadata": {},
   "outputs": [],
   "source": [
    "cards32 = {\n",
    "    \"Clubs\": [\"Card of Clubs\", \"Image of Card of Clubs\", \"Picture of Card of Clubs\", \"Poker Card of Clubs\", \"Classic Card of Clubs\", \"Vintage Card of Clubs\", \"Royal Card of Clubs\", \"Deluxe Card of Clubs\"],\n",
    "    \"Diamonds\": [\"Card of Diamonds\", \"Image of Card of Diamonds\", \"Picture of Card of Diamonds\", \"Poker Card of Diamonds\", \"Classic Card of Diamonds\", \"Vintage Card of Diamonds\", \"Royal Card of Diamonds\", \"Deluxe Card of Diamonds\"],\n",
    "    \"Hearts\": [\"Card of Hearts\", \"Image of Card of Hearts\", \"Picture of Card of Hearts\", \"Poker Card of Hearts\", \"Classic Card of Hearts\", \"Vintage Card of Hearts\", \"Royal Card of Hearts\", \"Deluxe Card of Hearts\"],\n",
    "    \"Spades\": [\"Card of Spades\", \"Image of Card of Spades\", \"Picture of Card of Spades\", \"Poker Card of Spades\", \"Classic Card of Spades\", \"Vintage Card of Spades\", \"Royal Card of Spades\", \"Deluxe Card of Spades\"]\n",
    "}\n",
    "\n",
    "# Card of Clubs, Image of Card of Clubs, Picture of Card of Clubs, Poker Card of Clubs, Classic Card of Clubs, Vintage Card of Clubs, Royal Card of Clubs, Deluxe Card of Clubs, Card of Diamonds, Image of Card of Diamonds, Picture of Card of Diamonds, Poker Card of Diamonds, Classic Card of Diamonds, Vintage Card of Diamonds, Royal Card of Diamonds, Deluxe Card of Diamonds, Card of Hearts, Image of Card of Hearts, Picture of Card of Hearts, Poker Card of Hearts, Classic Card of Hearts, Vintage Card of Hearts, Royal Card of Hearts, Deluxe Card of Hearts, Card of Spades, Image of Card of Spades, Picture of Card of Spades, Poker Card of Spades, Classic Card of Spades, Vintage Card of Spades, Royal Card of Spades, Deluxe Card of Spades\n",
    "\n",
    "# dict_size(cards32)\n",
    "# print(card_accuracy(\"Card15/cards32.csv\", cards32))\n"
   ]
  },
  {
   "cell_type": "code",
   "execution_count": 385,
   "metadata": {},
   "outputs": [],
   "source": [
    "cards36 = {\n",
    "    \"Clubs\": [\"Card of Clubs\", \"Image of Card of Clubs\", \"Picture of Card of Clubs\", \"Poker Card of Clubs\", \"Classic Card of Clubs\", \"Vintage Card of Clubs\", \"Royal Card of Clubs\", \"Deluxe Card of Clubs\", \"Exclusive Card of Clubs\"],\n",
    "    \"Diamonds\": [\"Card of Diamonds\", \"Image of Card of Diamonds\", \"Picture of Card of Diamonds\", \"Poker Card of Diamonds\", \"Classic Card of Diamonds\", \"Vintage Card of Diamonds\", \"Royal Card of Diamonds\", \"Deluxe Card of Diamonds\", \"Exclusive Card of Diamonds\"],\n",
    "    \"Hearts\": [\"Card of Hearts\", \"Image of Card of Hearts\", \"Picture of Card of Hearts\", \"Poker Card of Hearts\", \"Classic Card of Hearts\", \"Vintage Card of Hearts\", \"Royal Card of Hearts\", \"Deluxe Card of Hearts\", \"Exclusive Card of Hearts\"],\n",
    "    \"Spades\": [\"Card of Spades\", \"Image of Card of Spades\", \"Picture of Card of Spades\", \"Poker Card of Spades\", \"Classic Card of Spades\", \"Vintage Card of Spades\", \"Royal Card of Spades\", \"Deluxe Card of Spades\", \"Exclusive Card of Spades\"]\n",
    "}\n",
    "\n",
    "# Card of Clubs, Image of Card of Clubs, Picture of Card of Clubs, Poker Card of Clubs, Classic Card of Clubs, Vintage Card of Clubs, Royal Card of Clubs, Deluxe Card of Clubs, Exclusive Card of Clubs, Card of Diamonds, Image of Card of Diamonds, Picture of Card of Diamonds, Poker Card of Diamonds, Classic Card of Diamonds, Vintage Card of Diamonds, Royal Card of Diamonds, Deluxe Card of Diamonds, Exclusive Card of Diamonds, Card of Hearts, Image of Card of Hearts, Picture of Card of Hearts, Poker Card of Hearts, Classic Card of Hearts, Vintage Card of Hearts, Royal Card of Hearts, Deluxe Card of Hearts, Exclusive Card of Hearts, Card of Spades, Image of Card of Spades, Picture of Card of Spades, Poker Card of Spades, Classic Card of Spades, Vintage Card of Spades, Royal Card of Spades, Deluxe Card of Spades, Exclusive Card of Spades\n",
    "\n",
    "# dict_size(cards36)\n",
    "# print(card_accuracy(\"Card15/cards36.csv\", cards36))\n"
   ]
  },
  {
   "cell_type": "code",
   "execution_count": 386,
   "metadata": {},
   "outputs": [],
   "source": [
    "cards40 = {\n",
    "    \"Clubs\": [\"Card of Clubs\", \"Image of Card of Clubs\", \"Picture of Card of Clubs\", \"Poker Card of Clubs\", \"Classic Card of Clubs\", \"Vintage Card of Clubs\", \"Royal Card of Clubs\", \"Deluxe Card of Clubs\", \"Exclusive Card of Clubs\", \"Premium Card of Clubs\"],\n",
    "    \"Diamonds\": [\"Card of Diamonds\", \"Image of Card of Diamonds\", \"Picture of Card of Diamonds\", \"Poker Card of Diamonds\", \"Classic Card of Diamonds\", \"Vintage Card of Diamonds\", \"Royal Card of Diamonds\", \"Deluxe Card of Diamonds\", \"Exclusive Card of Diamonds\", \"Premium Card of Diamonds\"],\n",
    "    \"Hearts\": [\"Card of Hearts\", \"Image of Card of Hearts\", \"Picture of Card of Hearts\", \"Poker Card of Hearts\", \"Classic Card of Hearts\", \"Vintage Card of Hearts\", \"Royal Card of Hearts\", \"Deluxe Card of Hearts\", \"Exclusive Card of Hearts\", \"Premium Card of Hearts\"],\n",
    "    \"Spades\": [\"Card of Spades\", \"Image of Card of Spades\", \"Picture of Card of Spades\", \"Poker Card of Spades\", \"Classic Card of Spades\", \"Vintage Card of Spades\", \"Royal Card of Spades\", \"Deluxe Card of Spades\", \"Exclusive Card of Spades\", \"Premium Card of Spades\"]\n",
    "}\n",
    "\n",
    "# Card of Clubs, Image of Card of Clubs, Picture of Card of Clubs, Poker Card of Clubs, Classic Card of Clubs, Vintage Card of Clubs, Royal Card of Clubs, Deluxe Card of Clubs, Exclusive Card of Clubs, Premium Card of Clubs, Card of Diamonds, Image of Card of Diamonds, Picture of Card of Diamonds, Poker Card of Diamonds, Classic Card of Diamonds, Vintage Card of Diamonds, Royal Card of Diamonds, Deluxe Card of Diamonds, Exclusive Card of Diamonds, Premium Card of Diamonds, Card of Hearts, Image of Card of Hearts, Picture of Card of Hearts, Poker Card of Hearts, Classic Card of Hearts, Vintage Card of Hearts, Royal Card of Hearts, Deluxe Card of Hearts, Exclusive Card of Hearts, Premium Card of Hearts, Card of Spades, Image of Card of Spades, Picture of Card of Spades, Poker Card of Spades, Classic Card of Spades, Vintage Card of Spades, Royal Card of Spades, Deluxe Card of Spades, Exclusive Card of Spades, Premium Card of Spades\n",
    "\n",
    "# dict_size(cards40)\n",
    "# print(card_accuracy(\"Card15/cards40.csv\", cards40))\n"
   ]
  },
  {
   "cell_type": "code",
   "execution_count": 387,
   "metadata": {},
   "outputs": [],
   "source": [
    "cards44 = {\n",
    "    \"Clubs\": [\"Card of Clubs\", \"Image of Card of Clubs\", \"Picture of Card of Clubs\", \"Poker Card of Clubs\", \"Classic Card of Clubs\", \"Vintage Card of Clubs\", \"Royal Card of Clubs\", \"Deluxe Card of Clubs\", \"Exclusive Card of Clubs\", \"Premium Card of Clubs\", \"Elegant Card of Clubs\"],\n",
    "    \"Diamonds\": [\"Card of Diamonds\", \"Image of Card of Diamonds\", \"Picture of Card of Diamonds\", \"Poker Card of Diamonds\", \"Classic Card of Diamonds\", \"Vintage Card of Diamonds\", \"Royal Card of Diamonds\", \"Deluxe Card of Diamonds\", \"Exclusive Card of Diamonds\", \"Premium Card of Diamonds\", \"Elegant Card of Diamonds\"],\n",
    "    \"Hearts\": [\"Card of Hearts\", \"Image of Card of Hearts\", \"Picture of Card of Hearts\", \"Poker Card of Hearts\", \"Classic Card of Hearts\", \"Vintage Card of Hearts\", \"Royal Card of Hearts\", \"Deluxe Card of Hearts\", \"Exclusive Card of Hearts\", \"Premium Card of Hearts\", \"Elegant Card of Hearts\"],\n",
    "    \"Spades\": [\"Card of Spades\", \"Image of Card of Spades\", \"Picture of Card of Spades\", \"Poker Card of Spades\", \"Classic Card of Spades\", \"Vintage Card of Spades\", \"Royal Card of Spades\", \"Deluxe Card of Spades\", \"Exclusive Card of Spades\", \"Premium Card of Spades\", \"Elegant Card of Spades\"]\n",
    "}\n",
    "\n",
    "# Card of Clubs, Image of Card of Clubs, Picture of Card of Clubs, Poker Card of Clubs, Classic Card of Clubs, Vintage Card of Clubs, Royal Card of Clubs, Deluxe Card of Clubs, Exclusive Card of Clubs, Premium Card of Clubs, Elegant Card of Clubs, Card of Diamonds, Image of Card of Diamonds, Picture of Card of Diamonds, Poker Card of Diamonds, Classic Card of Diamonds, Vintage Card of Diamonds, Royal Card of Diamonds, Deluxe Card of Diamonds, Exclusive Card of Diamonds, Premium Card of Diamonds, Elegant Card of Diamonds, Card of Hearts, Image of Card of Hearts, Picture of Card of Hearts, Poker Card of Hearts, Classic Card of Hearts, Vintage Card of Hearts, Royal Card of Hearts, Deluxe Card of Hearts, Exclusive Card of Hearts, Premium Card of Hearts, Elegant Card of Hearts, Card of Spades, Image of Card of Spades, Picture of Card of Spades, Poker Card of Spades, Classic Card of Spades, Vintage Card of Spades, Royal Card of Spades, Deluxe Card of Spades, Exclusive Card of Spades, Premium Card of Spades, Elegant Card of Spades\n",
    "\n",
    "# dict_size(cards44)\n",
    "# print(card_accuracy(\"Card15/cards44.csv\", cards44))\n"
   ]
  },
  {
   "cell_type": "code",
   "execution_count": 388,
   "metadata": {},
   "outputs": [],
   "source": [
    "cards48 = {\n",
    "    \"Clubs\": [\"Card of Clubs\", \"Image of Card of Clubs\", \"Picture of Card of Clubs\", \"Poker Card of Clubs\", \"Classic Card of Clubs\", \"Vintage Card of Clubs\", \"Royal Card of Clubs\", \"Deluxe Card of Clubs\", \"Exclusive Card of Clubs\", \"Premium Card of Clubs\", \"Elegant Card of Clubs\", \"Prestige Card of Clubs\"],\n",
    "    \"Diamonds\": [\"Card of Diamonds\", \"Image of Card of Diamonds\", \"Picture of Card of Diamonds\", \"Poker Card of Diamonds\", \"Classic Card of Diamonds\", \"Vintage Card of Diamonds\", \"Royal Card of Diamonds\", \"Deluxe Card of Diamonds\", \"Exclusive Card of Diamonds\", \"Premium Card of Diamonds\", \"Elegant Card of Diamonds\", \"Prestige Card of Diamonds\"],\n",
    "    \"Hearts\": [\"Card of Hearts\", \"Image of Card of Hearts\", \"Picture of Card of Hearts\", \"Poker Card of Hearts\", \"Classic Card of Hearts\", \"Vintage Card of Hearts\", \"Royal Card of Hearts\", \"Deluxe Card of Hearts\", \"Exclusive Card of Hearts\", \"Premium Card of Hearts\", \"Elegant Card of Hearts\", \"Prestige Card of Hearts\"],\n",
    "    \"Spades\": [\"Card of Spades\", \"Image of Card of Spades\", \"Picture of Card of Spades\", \"Poker Card of Spades\", \"Classic Card of Spades\", \"Vintage Card of Spades\", \"Royal Card of Spades\", \"Deluxe Card of Spades\", \"Exclusive Card of Spades\", \"Premium Card of Spades\", \"Elegant Card of Spades\", \"Prestige Card of Spades\"]\n",
    "}\n",
    "\n",
    "# Card of Clubs, Image of Card of Clubs, Picture of Card of Clubs, Poker Card of Clubs, Classic Card of Clubs, Vintage Card of Clubs, Royal Card of Clubs, Deluxe Card of Clubs, Exclusive Card of Clubs, Premium Card of Clubs, Elegant Card of Clubs, Prestige Card of Clubs, Card of Diamonds, Image of Card of Diamonds, Picture of Card of Diamonds, Poker Card of Diamonds, Classic Card of Diamonds, Vintage Card of Diamonds, Royal Card of Diamonds, Deluxe Card of Diamonds, Exclusive Card of Diamonds, Premium Card of Diamonds, Elegant Card of Diamonds, Prestige Card of Diamonds, Card of Hearts, Image of Card of Hearts, Picture of Card of Hearts, Poker Card of Hearts, Classic Card of Hearts, Vintage Card of Hearts, Royal Card of Hearts, Deluxe Card of Hearts, Exclusive Card of Hearts, Premium Card of Hearts, Elegant Card of Hearts, Prestige Card of Hearts, Card of Spades, Image of Card of Spades, Picture of Card of Spades, Poker Card of Spades, Classic Card of Spades, Vintage Card of Spades, Royal Card of Spades, Deluxe Card of Spades, Exclusive Card of Spades, Premium Card of Spades, Elegant Card of Spades, Prestige Card of Spades\n",
    "\n",
    "# dict_size(cards48)\n",
    "# print(card_accuracy(\"Card15/cards48.csv\", cards48))\n"
   ]
  },
  {
   "cell_type": "markdown",
   "metadata": {},
   "source": [
    "## Food 10"
   ]
  },
  {
   "cell_type": "code",
   "execution_count": 389,
   "metadata": {},
   "outputs": [
    {
     "name": "stdout",
     "output_type": "stream",
     "text": [
      "90.09\n",
      "90.09\n"
     ]
    }
   ],
   "source": [
    "f10 = { \"Baked Potato\" : [\"Baked Potato\"],\n",
    "       \"Burger\" : [\"Burger\"],\n",
    "       \"Crispy Chicken\" : [\"Crispy Chicken\"],\n",
    "       \"Donut\" : [\"Donut\"],\n",
    "       \"Fries\" : [\"Fries\"],\n",
    "       \"Hot Dog\" : [\"Hot Dog\"],\n",
    "       \"Pizza\" : [\"Pizza\"],\n",
    "       \"Sandwich\" : [\"Sandwich\"],\n",
    "       \"Taco\" : [\"Taco\"],\n",
    "       \"Taquito\" : [\"Taquito\"]}\n",
    "\n",
    "# Baked Potato, Burger, Crispy Chicken, Donut, Fries, Hot Dog, Pizza, Sandwich, Taco, Taquito\n",
    "\n",
    "# dict_size(f10)\n",
    "print(aOcheck_accuracy(\"WithoutIP/food10/f10.csv\", f10))"
   ]
  },
  {
   "cell_type": "code",
   "execution_count": 390,
   "metadata": {},
   "outputs": [
    {
     "name": "stdout",
     "output_type": "stream",
     "text": [
      "90.96\n",
      "90.96\n"
     ]
    }
   ],
   "source": [
    "f20 = {\n",
    "    \"Baked Potato\": [\"Baked Potato\", \"Baked Potatoes\"],\n",
    "    \"Burger\": [\"Burger\", \"Burgers\"],\n",
    "    \"Crispy Chicken\": [\"Crispy Chicken\", \"Crispy Chickens\"],\n",
    "    \"Donut\": [\"Donut\", \"Donuts\"],\n",
    "    \"Fries\": [\"Fries\", \"Fries\"],  # Fries already plural\n",
    "    \"Hot Dog\": [\"Hot Dog\", \"Hot Dogs\"],\n",
    "    \"Pizza\": [\"Pizza\", \"Pizzas\"],\n",
    "    \"Sandwich\": [\"Sandwich\", \"Sandwiches\"],\n",
    "    \"Taco\": [\"Taco\", \"Tacos\"],\n",
    "    \"Taquito\": [\"Taquito\", \"Taquitos\"]\n",
    "}\n",
    "\n",
    "# Baked Potato, Baked Potatoes, Burger, Burgers, Crispy Chicken, Crispy Chickens, Donut, Donuts, Fries, Fries, Hot Dog, Hot Dogs, Pizza, Pizzas, Sandwich, Sandwiches, Taco, Tacos, Taquito, Taquitos\n",
    "\n",
    "# dict_size(f20)\n",
    "print(aOcheck_accuracy(\"WithoutIP/food10/f20.csv\", f20))\n"
   ]
  },
  {
   "cell_type": "code",
   "execution_count": 391,
   "metadata": {},
   "outputs": [
    {
     "name": "stdout",
     "output_type": "stream",
     "text": [
      "90.75\n",
      "90.75\n"
     ]
    }
   ],
   "source": [
    "f30 = {\n",
    "    \"Baked Potato\": [\"Baked Potato\", \"Baked Potatoes\", \"Large Baked Potato\"],\n",
    "    \"Burger\": [\"Burger\", \"Burgers\", \"Large Burger\"],\n",
    "    \"Crispy Chicken\": [\"Crispy Chicken\", \"Crispy Chickens\", \"Large Crispy Chicken\"],\n",
    "    \"Donut\": [\"Donut\", \"Donuts\", \"Large Donut\"],\n",
    "    \"Fries\": [\"Fries\", \"Fries\", \"Large Fries\"],\n",
    "    \"Hot Dog\": [\"Hot Dog\", \"Hot Dogs\", \"Large Hot Dog\"],\n",
    "    \"Pizza\": [\"Pizza\", \"Pizzas\", \"Large Pizza\"],\n",
    "    \"Sandwich\": [\"Sandwich\", \"Sandwiches\", \"Large Sandwich\"],\n",
    "    \"Taco\": [\"Taco\", \"Tacos\", \"Large Taco\"],\n",
    "    \"Taquito\": [\"Taquito\", \"Taquitos\", \"Large Taquito\"]\n",
    "}\n",
    "\n",
    "# Baked Potato, Baked Potatoes, Large Baked Potato, Burger, Burgers, Large Burger, Crispy Chicken, Crispy Chickens, Large Crispy Chicken, Donut, Donuts, Large Donut, Fries, Fries, Large Fries, Hot Dog, Hot Dogs, Large Hot Dog, Pizza, Pizzas, Large Pizza, Sandwich, Sandwiches, Large Sandwich, Taco, Tacos, Large Taco, Taquito, Taquitos, Large Taquito\n",
    "\n",
    "# dict_size(f30)\n",
    "print(aOcheck_accuracy(\"WithoutIP/food10/f30.csv\", f30))\n"
   ]
  },
  {
   "cell_type": "code",
   "execution_count": 392,
   "metadata": {},
   "outputs": [
    {
     "name": "stdout",
     "output_type": "stream",
     "text": [
      "90.81\n",
      "90.81\n"
     ]
    }
   ],
   "source": [
    "f40 = {\n",
    "    \"Baked Potato\": [\"Baked Potato\", \"Baked Potatoes\", \"Large Baked Potato\", \"Large Baked Potatoes\"],\n",
    "    \"Burger\": [\"Burger\", \"Burgers\", \"Large Burger\", \"Large Burgers\"],\n",
    "    \"Crispy Chicken\": [\"Crispy Chicken\", \"Crispy Chickens\", \"Large Crispy Chicken\", \"Large Crispy Chickens\"],\n",
    "    \"Donut\": [\"Donut\", \"Donuts\", \"Large Donut\", \"Large Donuts\"],\n",
    "    \"Fries\": [\"Fries\", \"Fries\", \"Large Fries\", \"Large Fries\"],\n",
    "    \"Hot Dog\": [\"Hot Dog\", \"Hot Dogs\", \"Large Hot Dog\", \"Large Hot Dogs\"],\n",
    "    \"Pizza\": [\"Pizza\", \"Pizzas\", \"Large Pizza\", \"Large Pizzas\"],\n",
    "    \"Sandwich\": [\"Sandwich\", \"Sandwiches\", \"Large Sandwich\", \"Large Sandwiches\"],\n",
    "    \"Taco\": [\"Taco\", \"Tacos\", \"Large Taco\", \"Large Tacos\"],\n",
    "    \"Taquito\": [\"Taquito\", \"Taquitos\", \"Large Taquito\", \"Large Taquitos\"]\n",
    "}\n",
    "\n",
    "# Baked Potato, Baked Potatoes, Large Baked Potato, Large Baked Potatoes, Burger, Burgers, Large Burger, Large Burgers, Crispy Chicken, Crispy Chickens, Large Crispy Chicken, Large Crispy Chickens, Donut, Donuts, Large Donut, Large Donuts, Fries, Fries, Large Fries, Large Fries, Hot Dog, Hot Dogs, Large Hot Dog, Large Hot Dogs, Pizza, Pizzas, Large Pizza, Large Pizzas, Sandwich, Sandwiches, Large Sandwich, Large Sandwiches, Taco, Tacos, Large Taco, Large Tacos, Taquito, Taquitos, Large Taquito, Large Taquitos\n",
    "\n",
    "# dict_size(f40)\n",
    "print(aOcheck_accuracy(\"WithoutIP/food10/f40.csv\", f40))\n"
   ]
  },
  {
   "cell_type": "code",
   "execution_count": 393,
   "metadata": {},
   "outputs": [
    {
     "name": "stdout",
     "output_type": "stream",
     "text": [
      "90.75\n",
      "90.75\n"
     ]
    }
   ],
   "source": [
    "f50 = {\n",
    "    \"Baked Potato\": [\"Baked Potato\", \"Baked Potatoes\", \"Large Baked Potato\", \"Large Baked Potatoes\", \"Small Baked Potato\"],\n",
    "    \"Burger\": [\"Burger\", \"Burgers\", \"Large Burger\", \"Large Burgers\", \"Small Burger\"],\n",
    "    \"Crispy Chicken\": [\"Crispy Chicken\", \"Crispy Chickens\", \"Large Crispy Chicken\", \"Large Crispy Chickens\", \"Small Crispy Chicken\"],\n",
    "    \"Donut\": [\"Donut\", \"Donuts\", \"Large Donut\", \"Large Donuts\", \"Small Donut\"],\n",
    "    \"Fries\": [\"Fries\", \"Fries\", \"Large Fries\", \"Large Fries\", \"Small Fries\"],\n",
    "    \"Hot Dog\": [\"Hot Dog\", \"Hot Dogs\", \"Large Hot Dog\", \"Large Hot Dogs\", \"Small Hot Dog\"],\n",
    "    \"Pizza\": [\"Pizza\", \"Pizzas\", \"Large Pizza\", \"Large Pizzas\", \"Small Pizza\"],\n",
    "    \"Sandwich\": [\"Sandwich\", \"Sandwiches\", \"Large Sandwich\", \"Large Sandwiches\", \"Small Sandwich\"],\n",
    "    \"Taco\": [\"Taco\", \"Tacos\", \"Large Taco\", \"Large Tacos\", \"Small Taco\"],\n",
    "    \"Taquito\": [\"Taquito\", \"Taquitos\", \"Large Taquito\", \"Large Taquitos\", \"Small Taquito\"]\n",
    "}\n",
    "\n",
    "# Baked Potato, Baked Potatoes, Large Baked Potato, Large Baked Potatoes, Small Baked Potato, Burger, Burgers, Large Burger, Large Burgers, Small Burger, Crispy Chicken, Crispy Chickens, Large Crispy Chicken, Large Crispy Chickens, Small Crispy Chicken, Donut, Donuts, Large Donut, Large Donuts, Small Donut, Fries, Fries, Large Fries, Large Fries, Small Fries, Hot Dog, Hot Dogs, Large Hot Dog, Large Hot Dogs, Small Hot Dog, Pizza, Pizzas, Large Pizza, Large Pizzas, Small Pizza, Sandwich, Sandwiches, Large Sandwich, Large Sandwiches, Small Sandwich, Taco, Tacos, Large Taco, Large Tacos, Small Taco, Taquito, Taquitos, Large Taquito, Large Taquitos, Small Taquito\n",
    "\n",
    "# dict_size(f50)\n",
    "print(aOcheck_accuracy(\"WithoutIP/food10/f50.csv\", f50))\n"
   ]
  },
  {
   "cell_type": "code",
   "execution_count": 394,
   "metadata": {},
   "outputs": [
    {
     "name": "stdout",
     "output_type": "stream",
     "text": [
      "90.78\n",
      "90.78\n"
     ]
    }
   ],
   "source": [
    "f60 = {\n",
    "    \"Baked Potato\": [\"Baked Potato\", \"Baked Potatoes\", \"Large Baked Potato\", \"Large Baked Potatoes\", \"Small Baked Potato\", \"Small Baked Potatoes\"],\n",
    "    \"Burger\": [\"Burger\", \"Burgers\", \"Large Burger\", \"Large Burgers\", \"Small Burger\", \"Small Burgers\"],\n",
    "    \"Crispy Chicken\": [\"Crispy Chicken\", \"Crispy Chickens\", \"Large Crispy Chicken\", \"Large Crispy Chickens\", \"Small Crispy Chicken\", \"Small Crispy Chickens\"],\n",
    "    \"Donut\": [\"Donut\", \"Donuts\", \"Large Donut\", \"Large Donuts\", \"Small Donut\", \"Small Donuts\"],\n",
    "    \"Fries\": [\"Fries\", \"Fries\", \"Large Fries\", \"Large Fries\", \"Small Fries\", \"Small Fries\"],\n",
    "    \"Hot Dog\": [\"Hot Dog\", \"Hot Dogs\", \"Large Hot Dog\", \"Large Hot Dogs\", \"Small Hot Dog\", \"Small Hot Dogs\"],\n",
    "    \"Pizza\": [\"Pizza\", \"Pizzas\", \"Large Pizza\", \"Large Pizzas\", \"Small Pizza\", \"Small Pizzas\"],\n",
    "    \"Sandwich\": [\"Sandwich\", \"Sandwiches\", \"Large Sandwich\", \"Large Sandwiches\", \"Small Sandwich\", \"Small Sandwiches\"],\n",
    "    \"Taco\": [\"Taco\", \"Tacos\", \"Large Taco\", \"Large Tacos\", \"Small Taco\", \"Small Tacos\"],\n",
    "    \"Taquito\": [\"Taquito\", \"Taquitos\", \"Large Taquito\", \"Large Taquitos\", \"Small Taquito\", \"Small Taquitos\"]\n",
    "}\n",
    "\n",
    "# Baked Potato, Baked Potatoes, Large Baked Potato, Large Baked Potatoes, Small Baked Potato, Small Baked Potatoes, Burger, Burgers, Large Burger, Large Burgers, Small Burger, Small Burgers, Crispy Chicken, Crispy Chickens, Large Crispy Chicken, Large Crispy Chickens, Small Crispy Chicken, Small Crispy Chickens, Donut, Donuts, Large Donut, Large Donuts, Small Donut, Small Donuts, Fries, Fries, Large Fries, Large Fries, Small Fries, Small Fries, Hot Dog, Hot Dogs, Large Hot Dog, Large Hot Dogs, Small Hot Dog, Small Hot Dogs, Pizza, Pizzas, Large Pizza, Large Pizzas, Small Pizza, Small Pizzas, Sandwich, Sandwiches, Large Sandwich, Large Sandwiches, Small Sandwich, Small Sandwiches, Taco, Tacos, Large Taco, Large Tacos, Small Taco, Small Tacos, Taquito, Taquitos, Large Taquito, Large Taquitos, Small Taquito, Small Taquitos\n",
    "\n",
    "# dict_size(f60)\n",
    "print(aOcheck_accuracy(\"WithoutIP/food10/f60.csv\", f60))\n"
   ]
  },
  {
   "cell_type": "code",
   "execution_count": 395,
   "metadata": {},
   "outputs": [
    {
     "name": "stdout",
     "output_type": "stream",
     "text": [
      "90.8\n",
      "90.8\n"
     ]
    }
   ],
   "source": [
    "f70 = {\n",
    "    \"Baked Potato\": [\"Baked Potato\", \"Baked Potatoes\", \"Large Baked Potato\", \"Large Baked Potatoes\", \"Small Baked Potato\", \"Small Baked Potatoes\", \"Medium Baked Potato\"],\n",
    "    \"Burger\": [\"Burger\", \"Burgers\", \"Large Burger\", \"Large Burgers\", \"Small Burger\", \"Small Burgers\", \"Medium Burger\"],\n",
    "    \"Crispy Chicken\": [\"Crispy Chicken\", \"Crispy Chickens\", \"Large Crispy Chicken\", \"Large Crispy Chickens\", \"Small Crispy Chicken\", \"Small Crispy Chickens\", \"Medium Crispy Chicken\"],\n",
    "    \"Donut\": [\"Donut\", \"Donuts\", \"Large Donut\", \"Large Donuts\", \"Small Donut\", \"Small Donuts\", \"Medium Donut\"],\n",
    "    \"Fries\": [\"Fries\", \"Fries\", \"Large Fries\", \"Large Fries\", \"Small Fries\", \"Small Fries\", \"Medium Fries\"],\n",
    "    \"Hot Dog\": [\"Hot Dog\", \"Hot Dogs\", \"Large Hot Dog\", \"Large Hot Dogs\", \"Small Hot Dog\", \"Small Hot Dogs\", \"Medium Hot Dog\"],\n",
    "    \"Pizza\": [\"Pizza\", \"Pizzas\", \"Large Pizza\", \"Large Pizzas\", \"Small Pizza\", \"Small Pizzas\", \"Medium Pizza\"],\n",
    "    \"Sandwich\": [\"Sandwich\", \"Sandwiches\", \"Large Sandwich\", \"Large Sandwiches\", \"Small Sandwich\", \"Small Sandwiches\", \"Medium Sandwich\"],\n",
    "    \"Taco\": [\"Taco\", \"Tacos\", \"Large Taco\", \"Large Tacos\", \"Small Taco\", \"Small Tacos\", \"Medium Taco\"],\n",
    "    \"Taquito\": [\"Taquito\", \"Taquitos\", \"Large Taquito\", \"Large Taquitos\", \"Small Taquito\", \"Small Taquitos\", \"Medium Taquito\"]\n",
    "}\n",
    "\n",
    "# Baked Potato, Baked Potatoes, Large Baked Potato, Large Baked Potatoes, Small Baked Potato, Small Baked Potatoes, Medium Baked Potato, Burger, Burgers, Large Burger, Large Burgers, Small Burger, Small Burgers, Medium Burger, Crispy Chicken, Crispy Chickens, Large Crispy Chicken, Large Crispy Chickens, Small Crispy Chicken, Small Crispy Chickens, Medium Crispy Chicken, Donut, Donuts, Large Donut, Large Donuts, Small Donut, Small Donuts, Medium Donut, Fries, Fries, Large Fries, Large Fries, Small Fries, Small Fries, Medium Fries, Hot Dog, Hot Dogs, Large Hot Dog, Large Hot Dogs, Small Hot Dog, Small Hot Dogs, Medium Hot Dog, Pizza, Pizzas, Large Pizza, Large Pizzas, Small Pizza, Small Pizzas, Medium Pizza, Sandwich, Sandwiches, Large Sandwich, Large Sandwiches, Small Sandwich, Small Sandwiches, Medium Sandwich, Taco, Tacos, Large Taco, Large Tacos, Small Taco, Small Tacos, Medium Taco, Taquito, Taquitos, Large Taquito, Large Taquitos, Small Taquito, Small Taquitos, Medium Taquito\n",
    "\n",
    "# dict_size(f70)\n",
    "print(aOcheck_accuracy(\"WithoutIP/food10/f70.csv\", f70))\n"
   ]
  },
  {
   "cell_type": "code",
   "execution_count": 396,
   "metadata": {},
   "outputs": [
    {
     "name": "stdout",
     "output_type": "stream",
     "text": [
      "90.84\n",
      "90.84\n"
     ]
    }
   ],
   "source": [
    "f80 = {\n",
    "    \"Baked Potato\": [\"Baked Potato\", \"Baked Potatoes\", \"Large Baked Potato\", \"Large Baked Potatoes\", \"Small Baked Potato\", \"Small Baked Potatoes\", \"Medium Baked Potato\", \"Medium Baked Potatoes\"],\n",
    "    \"Burger\": [\"Burger\", \"Burgers\", \"Large Burger\", \"Large Burgers\", \"Small Burger\", \"Small Burgers\", \"Medium Burger\", \"Medium Burgers\"],\n",
    "    \"Crispy Chicken\": [\"Crispy Chicken\", \"Crispy Chickens\", \"Large Crispy Chicken\", \"Large Crispy Chickens\", \"Small Crispy Chicken\", \"Small Crispy Chickens\", \"Medium Crispy Chicken\", \"Medium Crispy Chickens\"],\n",
    "    \"Donut\": [\"Donut\", \"Donuts\", \"Large Donut\", \"Large Donuts\", \"Small Donut\", \"Small Donuts\", \"Medium Donut\", \"Medium Donuts\"],\n",
    "    \"Fries\": [\"Fries\", \"Fries\", \"Large Fries\", \"Large Fries\", \"Small Fries\", \"Small Fries\", \"Medium Fries\", \"Medium Fries\"],\n",
    "    \"Hot Dog\": [\"Hot Dog\", \"Hot Dogs\", \"Large Hot Dog\", \"Large Hot Dogs\", \"Small Hot Dog\", \"Small Hot Dogs\", \"Medium Hot Dog\", \"Medium Hot Dogs\"],\n",
    "    \"Pizza\": [\"Pizza\", \"Pizzas\", \"Large Pizza\", \"Large Pizzas\", \"Small Pizza\", \"Small Pizzas\", \"Medium Pizza\", \"Medium Pizzas\"],\n",
    "    \"Sandwich\": [\"Sandwich\", \"Sandwiches\", \"Large Sandwich\", \"Large Sandwiches\", \"Small Sandwich\", \"Small Sandwiches\", \"Medium Sandwich\", \"Medium Sandwiches\"],\n",
    "    \"Taco\": [\"Taco\", \"Tacos\", \"Large Taco\", \"Large Tacos\", \"Small Taco\", \"Small Tacos\", \"Medium Taco\", \"Medium Tacos\"],\n",
    "    \"Taquito\": [\"Taquito\", \"Taquitos\", \"Large Taquito\", \"Large Taquitos\", \"Small Taquito\", \"Small Taquitos\", \"Medium Taquito\", \"Medium Taquitos\"]\n",
    "}\n",
    "\n",
    "# Baked Potato, Baked Potatoes, Large Baked Potato, Large Baked Potatoes, Small Baked Potato, Small Baked Potatoes, Medium Baked Potato, Medium Baked Potatoes, Burger, Burgers, Large Burger, Large Burgers, Small Burger, Small Burgers, Medium Burger, Medium Burgers, Crispy Chicken, Crispy Chickens, Large Crispy Chicken, Large Crispy Chickens, Small Crispy Chicken, Small Crispy Chickens, Medium Crispy Chicken, Medium Crispy Chickens, Donut, Donuts, Large Donut, Large Donuts, Small Donut, Small Donuts, Medium Donut, Medium Donuts, Fries, Fries, Large Fries, Large Fries, Small Fries, Small Fries, Medium Fries, Medium Fries, Hot Dog, Hot Dogs, Large Hot Dog, Large Hot Dogs, Small Hot Dog, Small Hot Dogs, Medium Hot Dog, Medium Hot Dogs, Pizza, Pizzas, Large Pizza, Large Pizzas, Small Pizza, Small Pizzas, Medium Pizza, Medium Pizzas, Sandwich, Sandwiches, Large Sandwich, Large Sandwiches, Small Sandwich, Small Sandwiches, Medium Sandwich, Medium Sandwiches, Taco, Tacos, Large Taco, Large Tacos, Small Taco, Small Tacos, Medium Taco, Medium Tacos, Taquito, Taquitos, Large Taquito, Large Taquitos, Small Taquito, Small Taquitos, Medium Taquito, Medium Taquitos\n",
    "\n",
    "# dict_size(f80)\n",
    "print(aOcheck_accuracy(\"WithoutIP/food10/f80.csv\", f80))\n"
   ]
  },
  {
   "cell_type": "code",
   "execution_count": 397,
   "metadata": {},
   "outputs": [
    {
     "name": "stdout",
     "output_type": "stream",
     "text": [
      "91.71\n",
      "91.71\n"
     ]
    }
   ],
   "source": [
    "f90 = {\n",
    "    \"Baked Potato\": [\"Baked Potato\", \"Baked Potatoes\", \"Large Baked Potato\", \"Large Baked Potatoes\", \"Small Baked Potato\", \"Small Baked Potatoes\", \"Medium Baked Potato\", \"Medium Baked Potatoes\", \"Food Baked Potato\"],\n",
    "    \"Burger\": [\"Burger\", \"Burgers\", \"Large Burger\", \"Large Burgers\", \"Small Burger\", \"Small Burgers\", \"Medium Burger\", \"Medium Burgers\", \"Food Burger\"],\n",
    "    \"Crispy Chicken\": [\"Crispy Chicken\", \"Crispy Chickens\", \"Large Crispy Chicken\", \"Large Crispy Chickens\", \"Small Crispy Chicken\", \"Small Crispy Chickens\", \"Medium Crispy Chicken\", \"Medium Crispy Chickens\", \"Food Crispy Chicken\"],\n",
    "    \"Donut\": [\"Donut\", \"Donuts\", \"Large Donut\", \"Large Donuts\", \"Small Donut\", \"Small Donuts\", \"Medium Donut\", \"Medium Donuts\", \"Food Donut\"],\n",
    "    \"Fries\": [\"Fries\", \"Fries\", \"Large Fries\", \"Large Fries\", \"Small Fries\", \"Small Fries\", \"Medium Fries\", \"Medium Fries\", \"Food Fries\"],\n",
    "    \"Hot Dog\": [\"Hot Dog\", \"Hot Dogs\", \"Large Hot Dog\", \"Large Hot Dogs\", \"Small Hot Dog\", \"Small Hot Dogs\", \"Medium Hot Dog\", \"Medium Hot Dogs\", \"Food Hot Dog\"],\n",
    "    \"Pizza\": [\"Pizza\", \"Pizzas\", \"Large Pizza\", \"Large Pizzas\", \"Small Pizza\", \"Small Pizzas\", \"Medium Pizza\", \"Medium Pizzas\", \"Food Pizza\"],\n",
    "    \"Sandwich\": [\"Sandwich\", \"Sandwiches\", \"Large Sandwich\", \"Large Sandwiches\", \"Small Sandwich\", \"Small Sandwiches\", \"Medium Sandwich\", \"Medium Sandwiches\", \"Food Sandwich\"],\n",
    "    \"Taco\": [\"Taco\", \"Tacos\", \"Large Taco\", \"Large Tacos\", \"Small Taco\", \"Small Tacos\", \"Medium Taco\", \"Medium Tacos\", \"Food Taco\"],\n",
    "    \"Taquito\": [\"Taquito\", \"Taquitos\", \"Large Taquito\", \"Large Taquitos\", \"Small Taquito\", \"Small Taquitos\", \"Medium Taquito\", \"Medium Taquitos\", \"Food Taquito\"]\n",
    "}\n",
    "\n",
    "# Baked Potato, Baked Potatoes, Large Baked Potato, Large Baked Potatoes, Small Baked Potato, Small Baked Potatoes, Medium Baked Potato, Medium Baked Potatoes, Food Baked Potato, Burger, Burgers, Large Burger, Large Burgers, Small Burger, Small Burgers, Medium Burger, Medium Burgers, Food Burger, Crispy Chicken, Crispy Chickens, Large Crispy Chicken, Large Crispy Chickens, Small Crispy Chicken, Small Crispy Chickens, Medium Crispy Chicken, Medium Crispy Chickens, Food Crispy Chicken, Donut, Donuts, Large Donut, Large Donuts, Small Donut, Small Donuts, Medium Donut, Medium Donuts, Food Donut, Fries, Fries, Large Fries, Large Fries, Small Fries, Small Fries, Medium Fries, Medium Fries, Food Fries, Hot Dog, Hot Dogs, Large Hot Dog, Large Hot Dogs, Small Hot Dog, Small Hot Dogs, Medium Hot Dog, Medium Hot Dogs, Food Hot Dog, Pizza, Pizzas, Large Pizza, Large Pizzas, Small Pizza, Small Pizzas, Medium Pizza, Medium Pizzas, Food Pizza, Sandwich, Sandwiches, Large Sandwich, Large Sandwiches, Small Sandwich, Small Sandwiches, Medium Sandwich, Medium Sandwiches, Food Sandwich, Taco, Tacos, Large Taco, Large Tacos, Small Taco, Small Tacos, Medium Taco, Medium Tacos, Food Taco, Taquito, Taquitos, Large Taquito, Large Taquitos, Small Taquito, Small Taquitos, Medium Taquito, Medium Taquitos, Food Taquito\n",
    "\n",
    "# dict_size(f90)\n",
    "print(aOcheck_accuracy(\"WithoutIP/food10/f90.csv\", f90))\n"
   ]
  },
  {
   "cell_type": "code",
   "execution_count": 398,
   "metadata": {},
   "outputs": [
    {
     "name": "stdout",
     "output_type": "stream",
     "text": [
      "91.91\n",
      "91.91\n"
     ]
    }
   ],
   "source": [
    "f100 = {\n",
    "    \"Baked Potato\": [\"Baked Potato\", \"Baked Potatoes\", \"Large Baked Potato\", \"Large Baked Potatoes\", \"Small Baked Potato\", \"Small Baked Potatoes\", \"Medium Baked Potato\", \"Medium Baked Potatoes\", \"Food Baked Potato\", \"Food Baked Potatoes\"],\n",
    "    \"Burger\": [\"Burger\", \"Burgers\", \"Large Burger\", \"Large Burgers\", \"Small Burger\", \"Small Burgers\", \"Medium Burger\", \"Medium Burgers\", \"Food Burger\", \"Food Burgers\"],\n",
    "    \"Crispy Chicken\": [\"Crispy Chicken\", \"Crispy Chickens\", \"Large Crispy Chicken\", \"Large Crispy Chickens\", \"Small Crispy Chicken\", \"Small Crispy Chickens\", \"Medium Crispy Chicken\", \"Medium Crispy Chickens\", \"Food Crispy Chicken\", \"Food Crispy Chickens\"],\n",
    "    \"Donut\": [\"Donut\", \"Donuts\", \"Large Donut\", \"Large Donuts\", \"Small Donut\", \"Small Donuts\", \"Medium Donut\", \"Medium Donuts\", \"Food Donut\", \"Food Donuts\"],\n",
    "    \"Fries\": [\"Fries\", \"Fries\", \"Large Fries\", \"Large Fries\", \"Small Fries\", \"Small Fries\", \"Medium Fries\", \"Medium Fries\", \"Food Fries\", \"Food Fries\"],\n",
    "    \"Hot Dog\": [\"Hot Dog\", \"Hot Dogs\", \"Large Hot Dog\", \"Large Hot Dogs\", \"Small Hot Dog\", \"Small Hot Dogs\", \"Medium Hot Dog\", \"Medium Hot Dogs\", \"Food Hot Dog\", \"Food Hot Dogs\"],\n",
    "    \"Pizza\": [\"Pizza\", \"Pizzas\", \"Large Pizza\", \"Large Pizzas\", \"Small Pizza\", \"Small Pizzas\", \"Medium Pizza\", \"Medium Pizzas\", \"Food Pizza\", \"Food Pizzas\"],\n",
    "    \"Sandwich\": [\"Sandwich\", \"Sandwiches\", \"Large Sandwich\", \"Large Sandwiches\", \"Small Sandwich\", \"Small Sandwiches\", \"Medium Sandwich\", \"Medium Sandwiches\", \"Food Sandwich\", \"Food Sandwiches\"],\n",
    "    \"Taco\": [\"Taco\", \"Tacos\", \"Large Taco\", \"Large Tacos\", \"Small Taco\", \"Small Tacos\", \"Medium Taco\", \"Medium Tacos\", \"Food Taco\", \"Food Tacos\"],\n",
    "    \"Taquito\": [\"Taquito\", \"Taquitos\", \"Large Taquito\", \"Large Taquitos\", \"Small Taquito\", \"Small Taquitos\", \"Medium Taquito\", \"Medium Taquitos\", \"Food Taquito\", \"Food Taquitos\"]\n",
    "}\n",
    "\n",
    "# Baked Potato, Baked Potatoes, Large Baked Potato, Large Baked Potatoes, Small Baked Potato, Small Baked Potatoes, Medium Baked Potato, Medium Baked Potatoes, Food Baked Potato, Food Baked Potatoes, Burger, Burgers, Large Burger, Large Burgers, Small Burger, Small Burgers, Medium Burger, Medium Burgers, Food Burger, Food Burgers, Crispy Chicken, Crispy Chickens, Large Crispy Chicken, Large Crispy Chickens, Small Crispy Chicken, Small Crispy Chickens, Medium Crispy Chicken, Medium Crispy Chickens, Food Crispy Chicken, Food Crispy Chickens, Donut, Donuts, Large Donut, Large Donuts, Small Donut, Small Donuts, Medium Donut, Medium Donuts, Food Donut, Food Donuts, Fries, Fries, Large Fries, Large Fries, Small Fries, Small Fries, Medium Fries, Medium Fries, Food Fries, Food Fries, Hot Dog, Hot Dogs, Large Hot Dog, Large Hot Dogs, Small Hot Dog, Small Hot Dogs, Medium Hot Dog, Medium Hot Dogs, Food Hot Dog, Food Hot Dogs, Pizza, Pizzas, Large Pizza, Large Pizzas, Small Pizza, Small Pizzas, Medium Pizza, Medium Pizzas, Food Pizza, Food Pizzas, Sandwich, Sandwiches, Large Sandwich, Large Sandwiches, Small Sandwich, Small Sandwiches, Medium Sandwich, Medium Sandwiches, Food Sandwich, Food Sandwiches, Taco, Tacos, Large Taco, Large Tacos, Small Taco, Small Tacos, Medium Taco, Medium Tacos, Food Taco, Food Tacos, Taquito, Taquitos, Large Taquito, Large Taquitos, Small Taquito, Small Taquitos, Medium Taquito, Medium Taquitos, Food Taquito, Food Taquitos\n",
    "\n",
    "# dict_size(f100)\n",
    "print(aOcheck_accuracy(\"WithoutIP/food10/f100.csv\", f100))\n"
   ]
  },
  {
   "cell_type": "code",
   "execution_count": null,
   "metadata": {},
   "outputs": [],
   "source": [
    "f110 = {\n",
    "    \"Baked Potato\": [\"Baked Potato\", \"Baked Potatoes\", \"Large Baked Potato\", \"Large Baked Potatoes\", \"Small Baked Potato\", \"Small Baked Potatoes\", \"Medium Baked Potato\", \"Medium Baked Potatoes\", \"Food Baked Potato\", \"Food Baked Potatoes\", \"Edible Baked Potato\"],\n",
    "    \"Burger\": [\"Burger\", \"Burgers\", \"Large Burger\", \"Large Burgers\", \"Small Burger\", \"Small Burgers\", \"Medium Burger\", \"Medium Burgers\", \"Food Burger\", \"Food Burgers\", \"Edible Burger\"],\n",
    "    \"Crispy Chicken\": [\"Crispy Chicken\", \"Crispy Chickens\", \"Large Crispy Chicken\", \"Large Crispy Chickens\", \"Small Crispy Chicken\", \"Small Crispy Chickens\", \"Medium Crispy Chicken\", \"Medium Crispy Chickens\", \"Food Crispy Chicken\", \"Food Crispy Chickens\", \"Edible Crispy Chicken\"],\n",
    "    \"Donut\": [\"Donut\", \"Donuts\", \"Large Donut\", \"Large Donuts\", \"Small Donut\", \"Small Donuts\", \"Medium Donut\", \"Medium Donuts\", \"Food Donut\", \"Food Donuts\", \"Edible Donut\"],\n",
    "    \"Fries\": [\"Fries\", \"Fries\", \"Large Fries\", \"Large Fries\", \"Small Fries\", \"Small Fries\", \"Medium Fries\", \"Medium Fries\", \"Food Fries\", \"Food Fries\", \"Edible Fries\"],\n",
    "    \"Hot Dog\": [\"Hot Dog\", \"Hot Dogs\", \"Large Hot Dog\", \"Large Hot Dogs\", \"Small Hot Dog\", \"Small Hot Dogs\", \"Medium Hot Dog\", \"Medium Hot Dogs\", \"Food Hot Dog\", \"Food Hot Dogs\", \"Edible Hot Dog\"],\n",
    "    \"Pizza\": [\"Pizza\", \"Pizzas\", \"Large Pizza\", \"Large Pizzas\", \"Small Pizza\", \"Small Pizzas\", \"Medium Pizza\", \"Medium Pizzas\", \"Food Pizza\", \"Food Pizzas\", \"Edible Pizza\"],\n",
    "    \"Sandwich\": [\"Sandwich\", \"Sandwiches\", \"Large Sandwich\", \"Large Sandwiches\", \"Small Sandwich\", \"Small Sandwiches\", \"Medium Sandwich\", \"Medium Sandwiches\", \"Food Sandwich\", \"Food Sandwiches\", \"Edible Sandwich\"],\n",
    "    \"Taco\": [\"Taco\", \"Tacos\", \"Large Taco\", \"Large Tacos\", \"Small Taco\", \"Small Tacos\", \"Medium Taco\", \"Medium Tacos\", \"Food Taco\", \"Food Tacos\", \"Edible Taco\"],\n",
    "    \"Taquito\": [\"Taquito\", \"Taquitos\", \"Large Taquito\", \"Large Taquitos\", \"Small Taquito\", \"Small Taquitos\", \"Medium Taquito\", \"Medium Taquitos\", \"Food Taquito\", \"Food Taquitos\", \"Edible Taquito\"]\n",
    "}\n",
    "\n",
    "# Baked Potato, Baked Potatoes, Large Baked Potato, Large Baked Potatoes, Small Baked Potato, Small Baked Potatoes, Medium Baked Potato, Medium Baked Potatoes, Food Baked Potato, Food Baked Potatoes, Edible Baked Potato, Burger, Burgers, Large Burger, Large Burgers, Small Burger, Small Burgers, Medium Burger, Medium Burgers, Food Burger, Food Burgers, Edible Burger, Crispy Chicken, Crispy Chickens, Large Crispy Chicken, Large Crispy Chickens, Small Crispy Chicken, Small Crispy Chickens, Medium Crispy Chicken, Medium Crispy Chickens, Food Crispy Chicken, Food Crispy Chickens, Edible Crispy Chicken, Donut, Donuts, Large Donut, Large Donuts, Small Donut, Small Donuts, Medium Donut, Medium Donuts, Food Donut, Food Donuts, Edible Donut, Fries, Fries, Large Fries, Large Fries, Small Fries, Small Fries, Medium Fries, Medium Fries, Food Fries, Food Fries, Edible Fries, Hot Dog, Hot Dogs, Large Hot Dog, Large Hot Dogs, Small Hot Dog, Small Hot Dogs, Medium Hot Dog, Medium Hot Dogs, Food Hot Dog, Food Hot Dogs, Edible Hot Dog, Pizza, Pizzas, Large Pizza, Large Pizzas, Small Pizza, Small Pizzas, Medium Pizza, Medium Pizzas, Food Pizza, Food Pizzas, Edible Pizza, Sandwich, Sandwiches, Large Sandwich, Large Sandwiches, Small Sandwich, Small Sandwiches, Medium Sandwich, Medium Sandwiches, Food Sandwich, Food Sandwiches, Edible Sandwich, Taco, Tacos, Large Taco, Large Tacos, Small Taco, Small Tacos, Medium Taco, Medium Tacos, Food Taco, Food Tacos, Edible Taco, Taquito, Taquitos, Large Taquito, Large Taquitos, Small Taquito, Small Taquitos, Medium Taquito, Medium Taquitos, Food Taquito, Food Taquitos, Edible Taquito\n",
    "\n",
    "# dict_size(f110)\n",
    "print(aOcheck_accuracy(\"WithoutIP/food10/f110.csv\", f110))\n"
   ]
  },
  {
   "cell_type": "code",
   "execution_count": null,
   "metadata": {},
   "outputs": [],
   "source": [
    "f120 = {\n",
    "    \"Baked Potato\": [\"Baked Potato\", \"Baked Potatoes\", \"Large Baked Potato\", \"Large Baked Potatoes\", \"Small Baked Potato\", \"Small Baked Potatoes\", \"Medium Baked Potato\", \"Medium Baked Potatoes\", \"Food Baked Potato\", \"Food Baked Potatoes\", \"Edible Baked Potato\", \"Edible Baked Potatoes\"],\n",
    "    \"Burger\": [\"Burger\", \"Burgers\", \"Large Burger\", \"Large Burgers\", \"Small Burger\", \"Small Burgers\", \"Medium Burger\", \"Medium Burgers\", \"Food Burger\", \"Food Burgers\", \"Edible Burger\", \"Edible Burgers\"],\n",
    "    \"Crispy Chicken\": [\"Crispy Chicken\", \"Crispy Chickens\", \"Large Crispy Chicken\", \"Large Crispy Chickens\", \"Small Crispy Chicken\", \"Small Crispy Chickens\", \"Medium Crispy Chicken\", \"Medium Crispy Chickens\", \"Food Crispy Chicken\", \"Food Crispy Chickens\", \"Edible Crispy Chicken\", \"Edible Crispy Chickens\"],\n",
    "    \"Donut\": [\"Donut\", \"Donuts\", \"Large Donut\", \"Large Donuts\", \"Small Donut\", \"Small Donuts\", \"Medium Donut\", \"Medium Donuts\", \"Food Donut\", \"Food Donuts\", \"Edible Donut\", \"Edible Donuts\"],\n",
    "    \"Fries\": [\"Fries\", \"Fries\", \"Large Fries\", \"Large Fries\", \"Small Fries\", \"Small Fries\", \"Medium Fries\", \"Medium Fries\", \"Food Fries\", \"Food Fries\", \"Edible Fries\", \"Edible Fries\"],\n",
    "    \"Hot Dog\": [\"Hot Dog\", \"Hot Dogs\", \"Large Hot Dog\", \"Large Hot Dogs\", \"Small Hot Dog\", \"Small Hot Dogs\", \"Medium Hot Dog\", \"Medium Hot Dogs\", \"Food Hot Dog\", \"Food Hot Dogs\", \"Edible Hot Dog\", \"Edible Hot Dogs\"],\n",
    "    \"Pizza\": [\"Pizza\", \"Pizzas\", \"Large Pizza\", \"Large Pizzas\", \"Small Pizza\", \"Small Pizzas\", \"Medium Pizza\", \"Medium Pizzas\", \"Food Pizza\", \"Food Pizzas\", \"Edible Pizza\", \"Edible Pizzas\"],\n",
    "    \"Sandwich\": [\"Sandwich\", \"Sandwiches\", \"Large Sandwich\", \"Large Sandwiches\", \"Small Sandwich\", \"Small Sandwiches\", \"Medium Sandwich\", \"Medium Sandwiches\", \"Food Sandwich\", \"Food Sandwiches\", \"Edible Sandwich\", \"Edible Sandwiches\"],\n",
    "    \"Taco\": [\"Taco\", \"Tacos\", \"Large Taco\", \"Large Tacos\", \"Small Taco\", \"Small Tacos\", \"Medium Taco\", \"Medium Tacos\", \"Food Taco\", \"Food Tacos\", \"Edible Taco\", \"Edible Tacos\"],\n",
    "    \"Taquito\": [\"Taquito\", \"Taquitos\", \"Large Taquito\", \"Large Taquitos\", \"Small Taquito\", \"Small Taquitos\", \"Medium Taquito\", \"Medium Taquitos\", \"Food Taquito\", \"Food Taquitos\", \"Edible Taquito\", \"Edible Taquitos\"]\n",
    "}\n",
    "\n",
    "# Baked Potato, Baked Potatoes, Large Baked Potato, Large Baked Potatoes, Small Baked Potato, Small Baked Potatoes, Medium Baked Potato, Medium Baked Potatoes, Food Baked Potato, Food Baked Potatoes, Edible Baked Potato, Edible Baked Potatoes, Burger, Burgers, Large Burger, Large Burgers, Small Burger, Small Burgers, Medium Burger, Medium Burgers, Food Burger, Food Burgers, Edible Burger, Edible Burgers, Crispy Chicken, Crispy Chickens, Large Crispy Chicken, Large Crispy Chickens, Small Crispy Chicken, Small Crispy Chickens, Medium Crispy Chicken, Medium Crispy Chickens, Food Crispy Chicken, Food Crispy Chickens, Edible Crispy Chicken, Edible Crispy Chickens, Donut, Donuts, Large Donut, Large Donuts, Small Donut, Small Donuts, Medium Donut, Medium Donuts, Food Donut, Food Donuts, Edible Donut, Edible Donuts, Fries, Fries, Large Fries, Large Fries, Small Fries, Small Fries, Medium Fries, Medium Fries, Food Fries, Food Fries, Edible Fries, Edible Fries, Hot Dog, Hot Dogs, Large Hot Dog, Large Hot Dogs, Small Hot Dog, Small Hot Dogs, Medium Hot Dog, Medium Hot Dogs, Food Hot Dog, Food Hot Dogs, Edible Hot Dog, Edible Hot Dogs, Pizza, Pizzas, Large Pizza, Large Pizzas, Small Pizza, Small Pizzas, Medium Pizza, Medium Pizzas, Food Pizza, Food Pizzas, Edible Pizza, Edible Pizzas, Sandwich, Sandwiches, Large Sandwich, Large Sandwiches, Small Sandwich, Small Sandwiches, Medium Sandwich, Medium Sandwiches, Food Sandwich, Food Sandwiches, Edible Sandwich, Edible Sandwiches, Taco, Tacos, Large Taco, Large Tacos, Small Taco, Small Tacos, Medium Taco, Medium Tacos, Food Taco, Food Tacos, Edible Taco, Edible Tacos, Taquito, Taquitos, Large Taquito, Large Taquitos, Small Taquito, Small Taquitos, Medium Taquito, Medium Taquitos, Food Taquito, Food Taquitos, Edible Taquito, Edible Taquitos\n",
    "\n",
    "# dict_size(f120)\n",
    "print(aOcheck_accuracy(\"WithoutIP/food10/f120.csv\", f120))\n"
   ]
  },
  {
   "cell_type": "code",
   "execution_count": null,
   "metadata": {},
   "outputs": [],
   "source": [
    "f130 = {\n",
    "    \"Baked Potato\": [\"Baked Potato\", \"Baked Potatoes\", \"Large Baked Potato\", \"Large Baked Potatoes\", \"Small Baked Potato\", \"Small Baked Potatoes\", \"Medium Baked Potato\", \"Medium Baked Potatoes\", \"Food Baked Potato\", \"Food Baked Potatoes\", \"Edible Baked Potato\", \"Edible Baked Potatoes\", \"Tiny Baked Potato\"],\n",
    "    \"Burger\": [\"Burger\", \"Burgers\", \"Large Burger\", \"Large Burgers\", \"Small Burger\", \"Small Burgers\", \"Medium Burger\", \"Medium Burgers\", \"Food Burger\", \"Food Burgers\", \"Edible Burger\", \"Edible Burgers\", \"Tiny Burger\"],\n",
    "    \"Crispy Chicken\": [\"Crispy Chicken\", \"Crispy Chickens\", \"Large Crispy Chicken\", \"Large Crispy Chickens\", \"Small Crispy Chicken\", \"Small Crispy Chickens\", \"Medium Crispy Chicken\", \"Medium Crispy Chickens\", \"Food Crispy Chicken\", \"Food Crispy Chickens\", \"Edible Crispy Chicken\", \"Edible Crispy Chickens\", \"Tiny Crispy Chicken\"],\n",
    "    \"Donut\": [\"Donut\", \"Donuts\", \"Large Donut\", \"Large Donuts\", \"Small Donut\", \"Small Donuts\", \"Medium Donut\", \"Medium Donuts\", \"Food Donut\", \"Food Donuts\", \"Edible Donut\", \"Edible Donuts\", \"Tiny Donut\"],\n",
    "    \"Fries\": [\"Fries\", \"Fries\", \"Large Fries\", \"Large Fries\", \"Small Fries\", \"Small Fries\", \"Medium Fries\", \"Medium Fries\", \"Food Fries\", \"Food Fries\", \"Edible Fries\", \"Edible Fries\", \"Tiny Fries\"],\n",
    "    \"Hot Dog\": [\"Hot Dog\", \"Hot Dogs\", \"Large Hot Dog\", \"Large Hot Dogs\", \"Small Hot Dog\", \"Small Hot Dogs\", \"Medium Hot Dog\", \"Medium Hot Dogs\", \"Food Hot Dog\", \"Food Hot Dogs\", \"Edible Hot Dog\", \"Edible Hot Dogs\", \"Tiny Hot Dog\"],\n",
    "    \"Pizza\": [\"Pizza\", \"Pizzas\", \"Large Pizza\", \"Large Pizzas\", \"Small Pizza\", \"Small Pizzas\", \"Medium Pizza\", \"Medium Pizzas\", \"Food Pizza\", \"Food Pizzas\", \"Edible Pizza\", \"Edible Pizzas\", \"Tiny Pizza\"],\n",
    "    \"Sandwich\": [\"Sandwich\", \"Sandwiches\", \"Large Sandwich\", \"Large Sandwiches\", \"Small Sandwich\", \"Small Sandwiches\", \"Medium Sandwich\", \"Medium Sandwiches\", \"Food Sandwich\", \"Food Sandwiches\", \"Edible Sandwich\", \"Edible Sandwiches\", \"Tiny Sandwich\"],\n",
    "    \"Taco\": [\"Taco\", \"Tacos\", \"Large Taco\", \"Large Tacos\", \"Small Taco\", \"Small Tacos\", \"Medium Taco\", \"Medium Tacos\", \"Food Taco\", \"Food Tacos\", \"Edible Taco\", \"Edible Tacos\", \"Tiny Taco\"],\n",
    "    \"Taquito\": [\"Taquito\", \"Taquitos\", \"Large Taquito\", \"Large Taquitos\", \"Small Taquito\", \"Small Taquitos\", \"Medium Taquito\", \"Medium Taquitos\", \"Food Taquito\", \"Food Taquitos\", \"Edible Taquito\", \"Edible Taquitos\", \"Tiny Taquito\"]\n",
    "}\n",
    "\n",
    "# Baked Potato, Baked Potatoes, Large Baked Potato, Large Baked Potatoes, Small Baked Potato, Small Baked Potatoes, Medium Baked Potato, Medium Baked Potatoes, Food Baked Potato, Food Baked Potatoes, Edible Baked Potato, Edible Baked Potatoes, Tiny Baked Potato, Burger, Burgers, Large Burger, Large Burgers, Small Burger, Small Burgers, Medium Burger, Medium Burgers, Food Burger, Food Burgers, Edible Burger, Edible Burgers, Tiny Burger, Crispy Chicken, Crispy Chickens, Large Crispy Chicken, Large Crispy Chickens, Small Crispy Chicken, Small Crispy Chickens, Medium Crispy Chicken, Medium Crispy Chickens, Food Crispy Chicken, Food Crispy Chickens, Edible Crispy Chicken, Edible Crispy Chickens, Tiny Crispy Chicken, Donut, Donuts, Large Donut, Large Donuts, Small Donut, Small Donuts, Medium Donut, Medium Donuts, Food Donut, Food Donuts, Edible Donut, Edible Donuts, Tiny Donut, Fries, Fries, Large Fries, Large Fries, Small Fries, Small Fries, Medium Fries, Medium Fries, Food Fries, Food Fries, Edible Fries, Edible Fries, Tiny Fries, Hot Dog, Hot Dogs, Large Hot Dog, Large Hot Dogs, Small Hot Dog, Small Hot Dogs, Medium Hot Dog, Medium Hot Dogs, Food Hot Dog, Food Hot Dogs, Edible Hot Dog, Edible Hot Dogs, Tiny Hot Dog, Pizza, Pizzas, Large Pizza, Large Pizzas, Small Pizza, Small Pizzas, Medium Pizza, Medium Pizzas, Food Pizza, Food Pizzas, Edible Pizza, Edible Pizzas, Tiny Pizza, Sandwich, Sandwiches, Large Sandwich, Large Sandwiches, Small Sandwich, Small Sandwiches, Medium Sandwich, Medium Sandwiches, Food Sandwich, Food Sandwiches, Edible Sandwich, Edible Sandwiches, Tiny Sandwich, Taco, Tacos, Large Taco, Large Tacos, Small Taco, Small Tacos, Medium Taco, Medium Tacos, Food Taco, Food Tacos, Edible Taco, Edible Tacos, Tiny Taco, Taquito, Taquitos, Large Taquito, Large Taquitos, Small Taquito, Small Taquitos, Medium Taquito, Medium Taquitos, Food Taquito, Food Taquitos, Edible Taquito, Edible Taquitos, Tiny Taquito\n",
    "\n",
    "# dict_size(f130)\n",
    "print(aOcheck_accuracy(\"WithoutIP/food10/f130.csv\", f130))\n"
   ]
  },
  {
   "cell_type": "code",
   "execution_count": null,
   "metadata": {},
   "outputs": [],
   "source": [
    "f140 = {\n",
    "    \"Baked Potato\": [\"Baked Potato\", \"Baked Potatoes\", \"Large Baked Potato\", \"Large Baked Potatoes\", \"Small Baked Potato\", \"Small Baked Potatoes\", \"Medium Baked Potato\", \"Medium Baked Potatoes\", \"Food Baked Potato\", \"Food Baked Potatoes\", \"Edible Baked Potato\", \"Edible Baked Potatoes\", \"Tiny Baked Potato\", \"Tiny Baked Potatoes\"],\n",
    "    \"Burger\": [\"Burger\", \"Burgers\", \"Large Burger\", \"Large Burgers\", \"Small Burger\", \"Small Burgers\", \"Medium Burger\", \"Medium Burgers\", \"Food Burger\", \"Food Burgers\", \"Edible Burger\", \"Edible Burgers\", \"Tiny Burger\", \"Tiny Burgers\"],\n",
    "    \"Crispy Chicken\": [\"Crispy Chicken\", \"Crispy Chickens\", \"Large Crispy Chicken\", \"Large Crispy Chickens\", \"Small Crispy Chicken\", \"Small Crispy Chickens\", \"Medium Crispy Chicken\", \"Medium Crispy Chickens\", \"Food Crispy Chicken\", \"Food Crispy Chickens\", \"Edible Crispy Chicken\", \"Edible Crispy Chickens\", \"Tiny Crispy Chicken\", \"Tiny Crispy Chickens\"],\n",
    "    \"Donut\": [\"Donut\", \"Donuts\", \"Large Donut\", \"Large Donuts\", \"Small Donut\", \"Small Donuts\", \"Medium Donut\", \"Medium Donuts\", \"Food Donut\", \"Food Donuts\", \"Edible Donut\", \"Edible Donuts\", \"Tiny Donut\", \"Tiny Donuts\"],\n",
    "    \"Fries\": [\"Fries\", \"Fries\", \"Large Fries\", \"Large Fries\", \"Small Fries\", \"Small Fries\", \"Medium Fries\", \"Medium Fries\", \"Food Fries\", \"Food Fries\", \"Edible Fries\", \"Edible Fries\", \"Tiny Fries\", \"Tiny Fries\"],\n",
    "    \"Hot Dog\": [\"Hot Dog\", \"Hot Dogs\", \"Large Hot Dog\", \"Large Hot Dogs\", \"Small Hot Dog\", \"Small Hot Dogs\", \"Medium Hot Dog\", \"Medium Hot Dogs\", \"Food Hot Dog\", \"Food Hot Dogs\", \"Edible Hot Dog\", \"Edible Hot Dogs\", \"Tiny Hot Dog\", \"Tiny Hot Dogs\"],\n",
    "    \"Pizza\": [\"Pizza\", \"Pizzas\", \"Large Pizza\", \"Large Pizzas\", \"Small Pizza\", \"Small Pizzas\", \"Medium Pizza\", \"Medium Pizzas\", \"Food Pizza\", \"Food Pizzas\", \"Edible Pizza\", \"Edible Pizzas\", \"Tiny Pizza\", \"Tiny Pizzas\"],\n",
    "    \"Sandwich\": [\"Sandwich\", \"Sandwiches\", \"Large Sandwich\", \"Large Sandwiches\", \"Small Sandwich\", \"Small Sandwiches\", \"Medium Sandwich\", \"Medium Sandwiches\", \"Food Sandwich\", \"Food Sandwiches\", \"Edible Sandwich\", \"Edible Sandwiches\", \"Tiny Sandwich\", \"Tiny Sandwiches\"],\n",
    "    \"Taco\": [\"Taco\", \"Tacos\", \"Large Taco\", \"Large Tacos\", \"Small Taco\", \"Small Tacos\", \"Medium Taco\", \"Medium Tacos\", \"Food Taco\", \"Food Tacos\", \"Edible Taco\", \"Edible Tacos\", \"Tiny Taco\", \"Tiny Tacos\"],\n",
    "    \"Taquito\": [\"Taquito\", \"Taquitos\", \"Large Taquito\", \"Large Taquitos\", \"Small Taquito\", \"Small Taquitos\", \"Medium Taquito\", \"Medium Taquitos\", \"Food Taquito\", \"Food Taquitos\", \"Edible Taquito\", \"Edible Taquitos\", \"Tiny Taquito\", \"Tiny Taquitos\"]\n",
    "}\n",
    "\n",
    "# Baked Potato, Baked Potatoes, Large Baked Potato, Large Baked Potatoes, Small Baked Potato, Small Baked Potatoes, Medium Baked Potato, Medium Baked Potatoes, Food Baked Potato, Food Baked Potatoes, Edible Baked Potato, Edible Baked Potatoes, Tiny Baked Potato, Tiny Baked Potatoes, Burger, Burgers, Large Burger, Large Burgers, Small Burger, Small Burgers, Medium Burger, Medium Burgers, Food Burger, Food Burgers, Edible Burger, Edible Burgers, Tiny Burger, Tiny Burgers, Crispy Chicken, Crispy Chickens, Large Crispy Chicken, Large Crispy Chickens, Small Crispy Chicken, Small Crispy Chickens, Medium Crispy Chicken, Medium Crispy Chickens, Food Crispy Chicken, Food Crispy Chickens, Edible Crispy Chicken, Edible Crispy Chickens, Tiny Crispy Chicken, Tiny Crispy Chickens, Donut, Donuts, Large Donut, Large Donuts, Small Donut, Small Donuts, Medium Donut, Medium Donuts, Food Donut, Food Donuts, Edible Donut, Edible Donuts, Tiny Donut, Tiny Donuts, Fries, Fries, Large Fries, Large Fries, Small Fries, Small Fries, Medium Fries, Medium Fries, Food Fries, Food Fries, Edible Fries, Edible Fries, Tiny Fries, Tiny Fries, Hot Dog, Hot Dogs, Large Hot Dog, Large Hot Dogs, Small Hot Dog, Small Hot Dogs, Medium Hot Dog, Medium Hot Dogs, Food Hot Dog, Food Hot Dogs, Edible Hot Dog, Edible Hot Dogs, Tiny Hot Dog, Tiny Hot Dogs, Pizza, Pizzas, Large Pizza, Large Pizzas, Small Pizza, Small Pizzas, Medium Pizza, Medium Pizzas, Food Pizza, Food Pizzas, Edible Pizza, Edible Pizzas, Tiny Pizza, Tiny Pizzas, Sandwich, Sandwiches, Large Sandwich, Large Sandwiches, Small Sandwich, Small Sandwiches, Medium Sandwich, Medium Sandwiches, Food Sandwich, Food Sandwiches, Edible Sandwich, Edible Sandwiches, Tiny Sandwich, Tiny Sandwiches, Taco, Tacos, Large Taco, Large Tacos, Small Taco, Small Tacos, Medium Taco, Medium Tacos, Food Taco, Food Tacos, Edible Taco, Edible Tacos, Tiny Taco, Tiny Tacos, Taquito, Taquitos, Large Taquito, Large Taquitos, Small Taquito, Small Taquitos, Medium Taquito, Medium Taquitos, Food Taquito, Food Taquitos, Edible Taquito, Edible Taquitos, Tiny Taquito, Tiny Taquitos\n",
    "\n",
    "# dict_size(f140)\n",
    "print(aOcheck_accuracy(\"WithoutIP/food10/f140.csv\", f140))\n"
   ]
  },
  {
   "cell_type": "markdown",
   "metadata": {},
   "source": [
    "## Vehicles 20"
   ]
  },
  {
   "cell_type": "code",
   "execution_count": 399,
   "metadata": {},
   "outputs": [
    {
     "name": "stdout",
     "output_type": "stream",
     "text": [
      "76.56\n",
      "76.56\n"
     ]
    }
   ],
   "source": [
    "v20 = {\n",
    "    \"car\": [\"car\"],\n",
    "    \"motorcycle\": [\"motorcycle\"],\n",
    "    \"bicycle\": [\"bicycle\"],\n",
    "    \"truck\": [\"truck\"],\n",
    "    \"bus\": [\"bus\"],\n",
    "    \"van\": [\"van\"],\n",
    "    \"rickshaw\": [\"rickshaw\"],\n",
    "    \"scooter\": [\"scooter\"],\n",
    "    \"skateboard\": [\"skateboard\"],\n",
    "    \"ambulance\": [\"ambulance\"],\n",
    "    \"fire truck\": [\"fire truck\"],\n",
    "    \"tractor\": [\"tractor\"],\n",
    "    \"segway\": [\"segway\"],\n",
    "    \"unicycle\": [\"unicycle\"],\n",
    "    \"jet ski\": [\"jet ski\"],\n",
    "    \"helicopter\": [\"helicopter\"],\n",
    "    \"airplane\": [\"airplane\"],\n",
    "    \"boat\": [\"boat\"],\n",
    "    \"kayak\": [\"kayak\"],\n",
    "    \"hovercraft\" : [\"hovercraft\"]\n",
    "}\n",
    "\n",
    "# car,motorcycle, bicycle,truck,bus,van,rickshaw,scooter,skateboard,ambulance,fire truck,tractor,segway,unicycle,jet ski,helicopter,airplane,boat,kayak, hovercraft\n",
    "\n",
    "# dict_size(v20)\n",
    "print(aOcheck_accuracy(\"WithoutIP/Vehicle20/v20.csv\", v20))"
   ]
  },
  {
   "cell_type": "code",
   "execution_count": 400,
   "metadata": {},
   "outputs": [
    {
     "name": "stdout",
     "output_type": "stream",
     "text": [
      "77.15\n",
      "77.15\n"
     ]
    }
   ],
   "source": [
    "v40 = {\n",
    "    \"car\": [\"car\", \"cars\"],\n",
    "    \"motorcycle\": [\"motorcycle\", \"motorcycles\"],\n",
    "    \"bicycle\": [\"bicycle\", \"bicycles\"],\n",
    "    \"truck\": [\"truck\", \"trucks\"],\n",
    "    \"bus\": [\"bus\", \"buses\"],\n",
    "    \"van\": [\"van\", \"vans\"],\n",
    "    \"rickshaw\": [\"rickshaw\", \"rickshaws\"],\n",
    "    \"scooter\": [\"scooter\", \"scooters\"],\n",
    "    \"skateboard\": [\"skateboard\", \"skateboards\"],\n",
    "    \"ambulance\": [\"ambulance\", \"ambulances\"],\n",
    "    \"fire truck\": [\"fire truck\", \"fire trucks\"],\n",
    "    \"tractor\": [\"tractor\", \"tractors\"],\n",
    "    \"segway\": [\"segway\", \"segways\"],\n",
    "    \"unicycle\": [\"unicycle\", \"unicycles\"],\n",
    "    \"jet ski\": [\"jet ski\", \"jet skis\"],\n",
    "    \"helicopter\": [\"helicopter\", \"helicopters\"],\n",
    "    \"airplane\": [\"airplane\", \"airplanes\"],\n",
    "    \"boat\": [\"boat\", \"boats\"],\n",
    "    \"kayak\": [\"kayak\", \"kayaks\"],\n",
    "    \"hovercraft\": [\"hovercraft\", \"hovercrafts\"]\n",
    "}\n",
    "\n",
    "# car, cars, motorcycle, motorcycles, bicycle, bicycles, truck, trucks, bus, buses, van, vans, rickshaw, rickshaws, scooter, scooters, skateboard, skateboards, ambulance, ambulances, fire truck, fire trucks, tractor, tractors, segway, segways, unicycle, unicycles, jet ski, jet skis, helicopter, helicopters, airplane, airplanes, boat, boats, kayak, kayaks, hovercraft, hovercrafts\n",
    "\n",
    "# dict_size(v40)\n",
    "print(aOcheck_accuracy(\"WithoutIP/Vehicle20/v40.csv\", v40))\n"
   ]
  },
  {
   "cell_type": "code",
   "execution_count": 401,
   "metadata": {},
   "outputs": [
    {
     "name": "stdout",
     "output_type": "stream",
     "text": [
      "77.53\n",
      "77.53\n"
     ]
    }
   ],
   "source": [
    "v60 = {\n",
    "    \"car\": [\"car\", \"cars\", \"Large car\"],\n",
    "    \"motorcycle\": [\"motorcycle\", \"motorcycles\", \"Large motorcycle\"],\n",
    "    \"bicycle\": [\"bicycle\", \"bicycles\", \"Large bicycle\"],\n",
    "    \"truck\": [\"truck\", \"trucks\", \"Large truck\"],\n",
    "    \"bus\": [\"bus\", \"buses\", \"Large bus\"],\n",
    "    \"van\": [\"van\", \"vans\", \"Large van\"],\n",
    "    \"rickshaw\": [\"rickshaw\", \"rickshaws\", \"Large rickshaw\"],\n",
    "    \"scooter\": [\"scooter\", \"scooters\", \"Large scooter\"],\n",
    "    \"skateboard\": [\"skateboard\", \"skateboards\", \"Large skateboard\"],\n",
    "    \"ambulance\": [\"ambulance\", \"ambulances\", \"Large ambulance\"],\n",
    "    \"fire truck\": [\"fire truck\", \"fire trucks\", \"Large fire truck\"],\n",
    "    \"tractor\": [\"tractor\", \"tractors\", \"Large tractor\"],\n",
    "    \"segway\": [\"segway\", \"segways\", \"Large segway\"],\n",
    "    \"unicycle\": [\"unicycle\", \"unicycles\", \"Large unicycle\"],\n",
    "    \"jet ski\": [\"jet ski\", \"jet skis\", \"Large jet ski\"],\n",
    "    \"helicopter\": [\"helicopter\", \"helicopters\", \"Large helicopter\"],\n",
    "    \"airplane\": [\"airplane\", \"airplanes\", \"Large airplane\"],\n",
    "    \"boat\": [\"boat\", \"boats\", \"Large boat\"],\n",
    "    \"kayak\": [\"kayak\", \"kayaks\", \"Large kayak\"],\n",
    "    \"hovercraft\": [\"hovercraft\", \"hovercrafts\", \"Large hovercraft\"]\n",
    "}\n",
    "\n",
    "# car, cars, Large car, motorcycle, motorcycles, Large motorcycle, bicycle, bicycles, Large bicycle, truck, trucks, Large truck, bus, buses, Large bus, van, vans, Large van, rickshaw, rickshaws, Large rickshaw, scooter, scooters, Large scooter, skateboard, skateboards, Large skateboard, ambulance, ambulances, Large ambulance, fire truck, fire trucks, Large fire truck, tractor, tractors, Large tractor, segway, segways, Large segway, unicycle, unicycles, Large unicycle, jet ski, jet skis, Large jet ski, helicopter, helicopters, Large helicopter, airplane, airplanes, Large airplane, boat, boats, Large boat, kayak, kayaks, Large kayak, hovercraft, hovercrafts, Large hovercraft\n",
    "\n",
    "# dict_size(v60)\n",
    "print(aOcheck_accuracy(\"WithoutIP/Vehicle20/v60.csv\", v60))\n"
   ]
  },
  {
   "cell_type": "code",
   "execution_count": 402,
   "metadata": {},
   "outputs": [
    {
     "name": "stdout",
     "output_type": "stream",
     "text": [
      "77.61\n",
      "77.61\n"
     ]
    }
   ],
   "source": [
    "v80 = {\n",
    "    \"car\": [\"car\", \"cars\", \"Large car\", \"Large cars\"],\n",
    "    \"motorcycle\": [\"motorcycle\", \"motorcycles\", \"Large motorcycle\", \"Large motorcycles\"],\n",
    "    \"bicycle\": [\"bicycle\", \"bicycles\", \"Large bicycle\", \"Large bicycles\"],\n",
    "    \"truck\": [\"truck\", \"trucks\", \"Large truck\", \"Large trucks\"],\n",
    "    \"bus\": [\"bus\", \"buses\", \"Large bus\", \"Large buses\"],\n",
    "    \"van\": [\"van\", \"vans\", \"Large van\", \"Large vans\"],\n",
    "    \"rickshaw\": [\"rickshaw\", \"rickshaws\", \"Large rickshaw\", \"Large rickshaws\"],\n",
    "    \"scooter\": [\"scooter\", \"scooters\", \"Large scooter\", \"Large scooters\"],\n",
    "    \"skateboard\": [\"skateboard\", \"skateboards\", \"Large skateboard\", \"Large skateboards\"],\n",
    "    \"ambulance\": [\"ambulance\", \"ambulances\", \"Large ambulance\", \"Large ambulances\"],\n",
    "    \"fire truck\": [\"fire truck\", \"fire trucks\", \"Large fire truck\", \"Large fire trucks\"],\n",
    "    \"tractor\": [\"tractor\", \"tractors\", \"Large tractor\", \"Large tractors\"],\n",
    "    \"segway\": [\"segway\", \"segways\", \"Large segway\", \"Large segways\"],\n",
    "    \"unicycle\": [\"unicycle\", \"unicycles\", \"Large unicycle\", \"Large unicycles\"],\n",
    "    \"jet ski\": [\"jet ski\", \"jet skis\", \"Large jet ski\", \"Large jet skis\"],\n",
    "    \"helicopter\": [\"helicopter\", \"helicopters\", \"Large helicopter\", \"Large helicopters\"],\n",
    "    \"airplane\": [\"airplane\", \"airplanes\", \"Large airplane\", \"Large airplanes\"],\n",
    "    \"boat\": [\"boat\", \"boats\", \"Large boat\", \"Large boats\"],\n",
    "    \"kayak\": [\"kayak\", \"kayaks\", \"Large kayak\", \"Large kayaks\"],\n",
    "    \"hovercraft\": [\"hovercraft\", \"hovercrafts\", \"Large hovercraft\", \"Large hovercrafts\"]\n",
    "}\n",
    "\n",
    "# car, cars, Large car, Large cars, motorcycle, motorcycles, Large motorcycle, Large motorcycles, bicycle, bicycles, Large bicycle, Large bicycles, truck, trucks, Large truck, Large trucks, bus, buses, Large bus, Large buses, van, vans, Large van, Large vans, rickshaw, rickshaws, Large rickshaw, Large rickshaws, scooter, scooters, Large scooter, Large scooters, skateboard, skateboards, Large skateboard, Large skateboards, ambulance, ambulances, Large ambulance, Large ambulances, fire truck, fire trucks, Large fire truck, Large fire trucks, tractor, tractors, Large tractor, Large tractors, segway, segways, Large segway, Large segways, unicycle, unicycles, Large unicycle, Large unicycles, jet ski, jet skis, Large jet ski, Large jet skis, helicopter, helicopters, Large helicopter, Large helicopters, airplane, airplanes, Large airplane, Large airplanes, boat, boats, Large boat, Large boats, kayak, kayaks, Large kayak, Large kayaks, hovercraft, hovercrafts, Large hovercraft, Large hovercrafts\n",
    "\n",
    "# dict_size(v80)\n",
    "print(aOcheck_accuracy(\"WithoutIP/Vehicle20/v80.csv\", v80))\n"
   ]
  },
  {
   "cell_type": "code",
   "execution_count": 403,
   "metadata": {},
   "outputs": [
    {
     "name": "stdout",
     "output_type": "stream",
     "text": [
      "77.8\n",
      "77.8\n"
     ]
    }
   ],
   "source": [
    "v100 = {\n",
    "    \"car\": [\"car\", \"cars\", \"Large car\", \"Large cars\", \"Small car\"],\n",
    "    \"motorcycle\": [\"motorcycle\", \"motorcycles\", \"Large motorcycle\", \"Large motorcycles\", \"Small motorcycle\"],\n",
    "    \"bicycle\": [\"bicycle\", \"bicycles\", \"Large bicycle\", \"Large bicycles\", \"Small bicycle\"],\n",
    "    \"truck\": [\"truck\", \"trucks\", \"Large truck\", \"Large trucks\", \"Small truck\"],\n",
    "    \"bus\": [\"bus\", \"buses\", \"Large bus\", \"Large buses\", \"Small bus\"],\n",
    "    \"van\": [\"van\", \"vans\", \"Large van\", \"Large vans\", \"Small van\"],\n",
    "    \"rickshaw\": [\"rickshaw\", \"rickshaws\", \"Large rickshaw\", \"Large rickshaws\", \"Small rickshaw\"],\n",
    "    \"scooter\": [\"scooter\", \"scooters\", \"Large scooter\", \"Large scooters\", \"Small scooter\"],\n",
    "    \"skateboard\": [\"skateboard\", \"skateboards\", \"Large skateboard\", \"Large skateboards\", \"Small skateboard\"],\n",
    "    \"ambulance\": [\"ambulance\", \"ambulances\", \"Large ambulance\", \"Large ambulances\", \"Small ambulance\"],\n",
    "    \"fire truck\": [\"fire truck\", \"fire trucks\", \"Large fire truck\", \"Large fire trucks\", \"Small fire truck\"],\n",
    "    \"tractor\": [\"tractor\", \"tractors\", \"Large tractor\", \"Large tractors\", \"Small tractor\"],\n",
    "    \"segway\": [\"segway\", \"segways\", \"Large segway\", \"Large segways\", \"Small segway\"],\n",
    "    \"unicycle\": [\"unicycle\", \"unicycles\", \"Large unicycle\", \"Large unicycles\", \"Small unicycle\"],\n",
    "    \"jet ski\": [\"jet ski\", \"jet skis\", \"Large jet ski\", \"Large jet skis\", \"Small jet ski\"],\n",
    "    \"helicopter\": [\"helicopter\", \"helicopters\", \"Large helicopter\", \"Large helicopters\", \"Small helicopter\"],\n",
    "    \"airplane\": [\"airplane\", \"airplanes\", \"Large airplane\", \"Large airplanes\", \"Small airplane\"],\n",
    "    \"boat\": [\"boat\", \"boats\", \"Large boat\", \"Large boats\", \"Small boat\"],\n",
    "    \"kayak\": [\"kayak\", \"kayaks\", \"Large kayak\", \"Large kayaks\", \"Small kayak\"],\n",
    "    \"hovercraft\": [\"hovercraft\", \"hovercrafts\", \"Large hovercraft\", \"Large hovercrafts\", \"Small hovercraft\"]\n",
    "}\n",
    "\n",
    "# car, cars, Large car, Large cars, Small car, motorcycle, motorcycles, Large motorcycle, Large motorcycles, Small motorcycle, bicycle, bicycles, Large bicycle, Large bicycles, Small bicycle, truck, trucks, Large truck, Large trucks, Small truck, bus, buses, Large bus, Large buses, Small bus, van, vans, Large van, Large vans, Small van, rickshaw, rickshaws, Large rickshaw, Large rickshaws, Small rickshaw, scooter, scooters, Large scooter, Large scooters, Small scooter, skateboard, skateboards, Large skateboard, Large skateboards, Small skateboard, ambulance, ambulances, Large ambulance, Large ambulances, Small ambulance, fire truck, fire trucks, Large fire truck, Large fire trucks, Small fire truck, tractor, tractors, Large tractor, Large tractors, Small tractor, segway, segways, Large segway, Large segways, Small segway, unicycle, unicycles, Large unicycle, Large unicycles, Small unicycle, jet ski, jet skis, Large jet ski, Large jet skis, Small jet ski, helicopter, helicopters, Large helicopter, Large helicopters, Small helicopter, airplane, airplanes, Large airplane, Large airplanes, Small airplane, boat, boats, Large boat, Large boats, Small boat, kayak, kayaks, Large kayak, Large kayaks, Small kayak, hovercraft, hovercrafts, Large hovercraft, Large hovercrafts, Small hovercraft\n",
    "\n",
    "# dict_size(v100)\n",
    "print(aOcheck_accuracy(\"WithoutIP/Vehicle20/v100.csv\", v100))\n"
   ]
  },
  {
   "cell_type": "code",
   "execution_count": 404,
   "metadata": {},
   "outputs": [
    {
     "name": "stdout",
     "output_type": "stream",
     "text": [
      "77.86\n",
      "77.86\n"
     ]
    }
   ],
   "source": [
    "v120 = {\n",
    "    \"car\": [\"car\", \"cars\", \"Large car\", \"Large cars\", \"Small car\", \"Small cars\"],\n",
    "    \"motorcycle\": [\"motorcycle\", \"motorcycles\", \"Large motorcycle\", \"Large motorcycles\", \"Small motorcycle\", \"Small motorcycles\"],\n",
    "    \"bicycle\": [\"bicycle\", \"bicycles\", \"Large bicycle\", \"Large bicycles\", \"Small bicycle\", \"Small bicycles\"],\n",
    "    \"truck\": [\"truck\", \"trucks\", \"Large truck\", \"Large trucks\", \"Small truck\", \"Small trucks\"],\n",
    "    \"bus\": [\"bus\", \"buses\", \"Large bus\", \"Large buses\", \"Small bus\", \"Small buses\"],\n",
    "    \"van\": [\"van\", \"vans\", \"Large van\", \"Large vans\", \"Small van\", \"Small vans\"],\n",
    "    \"rickshaw\": [\"rickshaw\", \"rickshaws\", \"Large rickshaw\", \"Large rickshaws\", \"Small rickshaw\", \"Small rickshaws\"],\n",
    "    \"scooter\": [\"scooter\", \"scooters\", \"Large scooter\", \"Large scooters\", \"Small scooter\", \"Small scooters\"],\n",
    "    \"skateboard\": [\"skateboard\", \"skateboards\", \"Large skateboard\", \"Large skateboards\", \"Small skateboard\", \"Small skateboards\"],\n",
    "    \"ambulance\": [\"ambulance\", \"ambulances\", \"Large ambulance\", \"Large ambulances\", \"Small ambulance\", \"Small ambulances\"],\n",
    "    \"fire truck\": [\"fire truck\", \"fire trucks\", \"Large fire truck\", \"Large fire trucks\", \"Small fire truck\", \"Small fire trucks\"],\n",
    "    \"tractor\": [\"tractor\", \"tractors\", \"Large tractor\", \"Large tractors\", \"Small tractor\", \"Small tractors\"],\n",
    "    \"segway\": [\"segway\", \"segways\", \"Large segway\", \"Large segways\", \"Small segway\", \"Small segways\"],\n",
    "    \"unicycle\": [\"unicycle\", \"unicycles\", \"Large unicycle\", \"Large unicycles\", \"Small unicycle\", \"Small unicycles\"],\n",
    "    \"jet ski\": [\"jet ski\", \"jet skis\", \"Large jet ski\", \"Large jet skis\", \"Small jet ski\", \"Small jet skis\"],\n",
    "    \"helicopter\": [\"helicopter\", \"helicopters\", \"Large helicopter\", \"Large helicopters\", \"Small helicopter\", \"Small helicopters\"],\n",
    "    \"airplane\": [\"airplane\", \"airplanes\", \"Large airplane\", \"Large airplanes\", \"Small airplane\", \"Small airplanes\"],\n",
    "    \"boat\": [\"boat\", \"boats\", \"Large boat\", \"Large boats\", \"Small boat\", \"Small boats\"],\n",
    "    \"kayak\": [\"kayak\", \"kayaks\", \"Large kayak\", \"Large kayaks\", \"Small kayak\", \"Small kayaks\"],\n",
    "    \"hovercraft\": [\"hovercraft\", \"hovercrafts\", \"Large hovercraft\", \"Large hovercrafts\", \"Small hovercraft\", \"Small hovercrafts\"]\n",
    "}\n",
    "\n",
    "# car, cars, Large car, Large cars, Small car, Small cars, motorcycle, motorcycles, Large motorcycle, Large motorcycles, Small motorcycle, Small motorcycles, bicycle, bicycles, Large bicycle, Large bicycles, Small bicycle, Small bicycles, truck, trucks, Large truck, Large trucks, Small truck, Small trucks, bus, buses, Large bus, Large buses, Small bus, Small buses, van, vans, Large van, Large vans, Small van, Small vans, rickshaw, rickshaws, Large rickshaw, Large rickshaws, Small rickshaw, Small rickshaws, scooter, scooters, Large scooter, Large scooters, Small scooter, Small scooters, skateboard, skateboards, Large skateboard, Large skateboards, Small skateboard, Small skateboards, ambulance, ambulances, Large ambulance, Large ambulances, Small ambulance, Small ambulances, fire truck, fire trucks, Large fire truck, Large fire trucks, Small fire truck, Small fire trucks, tractor, tractors, Large tractor, Large tractors, Small tractor, Small tractors, segway, segways, Large segway, Large segways, Small segway, Small segways, unicycle, unicycles, Large unicycle, Large unicycles, Small unicycle, Small unicycles, jet ski, jet skis, Large jet ski, Large jet skis, Small jet ski, Small jet skis, helicopter, helicopters, Large helicopter, Large helicopters, Small helicopter, Small helicopters, airplane, airplanes, Large airplane, Large airplanes, Small airplane, Small airplanes, boat, boats, Large boat, Large boats, Small boat, Small boats, kayak, kayaks, Large kayak, Large kayaks, Small kayak, Small kayaks, hovercraft, hovercrafts, Large hovercraft, Large hovercrafts, Small hovercraft, Small hovercrafts\n",
    "\n",
    "# dict_size(v120)\n",
    "print(aOcheck_accuracy(\"WithoutIP/Vehicle20/v120.csv\", v120))\n"
   ]
  },
  {
   "cell_type": "code",
   "execution_count": 405,
   "metadata": {},
   "outputs": [
    {
     "name": "stdout",
     "output_type": "stream",
     "text": [
      "77.89\n",
      "77.89\n"
     ]
    }
   ],
   "source": [
    "v140 = {\n",
    "    \"car\": [\"car\", \"cars\", \"Large car\", \"Large cars\", \"Small car\", \"Small cars\", \"Mid-Sized car\"],\n",
    "    \"motorcycle\": [\"motorcycle\", \"motorcycles\", \"Large motorcycle\", \"Large motorcycles\", \"Small motorcycle\", \"Small motorcycles\", \"Mid-Sized motorcycle\"],\n",
    "    \"bicycle\": [\"bicycle\", \"bicycles\", \"Large bicycle\", \"Large bicycles\", \"Small bicycle\", \"Small bicycles\", \"Mid-Sized bicycle\"],\n",
    "    \"truck\": [\"truck\", \"trucks\", \"Large truck\", \"Large trucks\", \"Small truck\", \"Small trucks\", \"Mid-Sized truck\"],\n",
    "    \"bus\": [\"bus\", \"buses\", \"Large bus\", \"Large buses\", \"Small bus\", \"Small buses\", \"Mid-Sized bus\"],\n",
    "    \"van\": [\"van\", \"vans\", \"Large van\", \"Large vans\", \"Small van\", \"Small vans\", \"Mid-Sized van\"],\n",
    "    \"rickshaw\": [\"rickshaw\", \"rickshaws\", \"Large rickshaw\", \"Large rickshaws\", \"Small rickshaw\", \"Small rickshaws\", \"Mid-Sized rickshaw\"],\n",
    "    \"scooter\": [\"scooter\", \"scooters\", \"Large scooter\", \"Large scooters\", \"Small scooter\", \"Small scooters\", \"Mid-Sized scooter\"],\n",
    "    \"skateboard\": [\"skateboard\", \"skateboards\", \"Large skateboard\", \"Large skateboards\", \"Small skateboard\", \"Small skateboards\", \"Mid-Sized skateboard\"],\n",
    "    \"ambulance\": [\"ambulance\", \"ambulances\", \"Large ambulance\", \"Large ambulances\", \"Small ambulance\", \"Small ambulances\", \"Mid-Sized ambulance\"],\n",
    "    \"fire truck\": [\"fire truck\", \"fire trucks\", \"Large fire truck\", \"Large fire trucks\", \"Small fire truck\", \"Small fire trucks\", \"Mid-Sized fire truck\"],\n",
    "    \"tractor\": [\"tractor\", \"tractors\", \"Large tractor\", \"Large tractors\", \"Small tractor\", \"Small tractors\", \"Mid-Sized tractor\"],\n",
    "    \"segway\": [\"segway\", \"segways\", \"Large segway\", \"Large segways\", \"Small segway\", \"Small segways\", \"Mid-Sized segway\"],\n",
    "    \"unicycle\": [\"unicycle\", \"unicycles\", \"Large unicycle\", \"Large unicycles\", \"Small unicycle\", \"Small unicycles\", \"Mid-Sized unicycle\"],\n",
    "    \"jet ski\": [\"jet ski\", \"jet skis\", \"Large jet ski\", \"Large jet skis\", \"Small jet ski\", \"Small jet skis\", \"Mid-Sized jet ski\"],\n",
    "    \"helicopter\": [\"helicopter\", \"helicopters\", \"Large helicopter\", \"Large helicopters\", \"Small helicopter\", \"Small helicopters\", \"Mid-Sized helicopter\"],\n",
    "    \"airplane\": [\"airplane\", \"airplanes\", \"Large airplane\", \"Large airplanes\", \"Small airplane\", \"Small airplanes\", \"Mid-Sized airplane\"],\n",
    "    \"boat\": [\"boat\", \"boats\", \"Large boat\", \"Large boats\", \"Small boat\", \"Small boats\", \"Mid-Sized boat\"],\n",
    "    \"kayak\": [\"kayak\", \"kayaks\", \"Large kayak\", \"Large kayaks\", \"Small kayak\", \"Small kayaks\", \"Mid-Sized kayak\"],\n",
    "    \"hovercraft\": [\"hovercraft\", \"hovercrafts\", \"Large hovercraft\", \"Large hovercrafts\", \"Small hovercraft\", \"Small hovercrafts\", \"Mid-Sized hovercraft\"]\n",
    "}\n",
    "\n",
    "# car, cars, Large car, Large cars, Small car, Small cars, Mid-Sized car, motorcycle, motorcycles, Large motorcycle, Large motorcycles, Small motorcycle, Small motorcycles, Mid-Sized motorcycle, bicycle, bicycles, Large bicycle, Large bicycles, Small bicycle, Small bicycles, Mid-Sized bicycle, truck, trucks, Large truck, Large trucks, Small truck, Small trucks, Mid-Sized truck, bus, buses, Large bus, Large buses, Small bus, Small buses, Mid-Sized bus, van, vans, Large van, Large vans, Small van, Small vans, Mid-Sized van, rickshaw, rickshaws, Large rickshaw, Large rickshaws, Small rickshaw, Small rickshaws, Mid-Sized rickshaw, scooter, scooters, Large scooter, Large scooters, Small scooter, Small scooters, Mid-Sized scooter, skateboard, skateboards, Large skateboard, Large skateboards, Small skateboard, Small skateboards, Mid-Sized skateboard, ambulance, ambulances, Large ambulance, Large ambulances, Small ambulance, Small ambulances, Mid-Sized ambulance, fire truck, fire trucks, Large fire truck, Large fire trucks, Small fire truck, Small fire trucks, Mid-Sized fire truck, tractor, tractors, Large tractor, Large tractors, Small tractor, Small tractors, Mid-Sized tractor, segway, segways, Large segway, Large segways, Small segway, Small segways, Mid-Sized segway, unicycle, unicycles, Large unicycle, Large unicycles, Small unicycle, Small unicycles, Mid-Sized unicycle, jet ski, jet skis, Large jet ski, Large jet skis, Small jet ski, Small jet skis, Mid-Sized jet ski, helicopter, helicopters, Large helicopter, Large helicopters, Small helicopter, Small helicopters, Mid-Sized helicopter, airplane, airplanes, Large airplane, Large airplanes, Small airplane, Small airplanes, Mid-Sized airplane, boat, boats, Large boat, Large boats, Small boat, Small boats, Mid-Sized boat, kayak, kayaks, Large kayak, Large kayaks, Small kayak, Small kayaks, Mid-Sized kayak, hovercraft, hovercrafts, Large hovercraft, Large hovercrafts, Small hovercraft, Small hovercrafts, Mid-Sized hovercraft\n",
    "\n",
    "# dict_size(v140)\n",
    "print(aOcheck_accuracy(\"WithoutIP/Vehicle20/v140.csv\", v140))\n"
   ]
  },
  {
   "cell_type": "code",
   "execution_count": 406,
   "metadata": {},
   "outputs": [
    {
     "name": "stdout",
     "output_type": "stream",
     "text": [
      "77.89\n",
      "77.89\n"
     ]
    }
   ],
   "source": [
    "v160 = {\n",
    "    \"car\": [\"car\", \"cars\", \"Large car\", \"Large cars\", \"Small car\", \"Small cars\", \"Mid-Sized car\", \"Mid-Sized cars\"],\n",
    "    \"motorcycle\": [\"motorcycle\", \"motorcycles\", \"Large motorcycle\", \"Large motorcycles\", \"Small motorcycle\", \"Small motorcycles\", \"Mid-Sized motorcycle\", \"Mid-Sized motorcycles\"],\n",
    "    \"bicycle\": [\"bicycle\", \"bicycles\", \"Large bicycle\", \"Large bicycles\", \"Small bicycle\", \"Small bicycles\", \"Mid-Sized bicycle\", \"Mid-Sized bicycles\"],\n",
    "    \"truck\": [\"truck\", \"trucks\", \"Large truck\", \"Large trucks\", \"Small truck\", \"Small trucks\", \"Mid-Sized truck\", \"Mid-Sized trucks\"],\n",
    "    \"bus\": [\"bus\", \"buses\", \"Large bus\", \"Large buses\", \"Small bus\", \"Small buses\", \"Mid-Sized bus\", \"Mid-Sized buses\"],\n",
    "    \"van\": [\"van\", \"vans\", \"Large van\", \"Large vans\", \"Small van\", \"Small vans\", \"Mid-Sized van\", \"Mid-Sized vans\"],\n",
    "    \"rickshaw\": [\"rickshaw\", \"rickshaws\", \"Large rickshaw\", \"Large rickshaws\", \"Small rickshaw\", \"Small rickshaws\", \"Mid-Sized rickshaw\", \"Mid-Sized rickshaws\"],\n",
    "    \"scooter\": [\"scooter\", \"scooters\", \"Large scooter\", \"Large scooters\", \"Small scooter\", \"Small scooters\", \"Mid-Sized scooter\", \"Mid-Sized scooters\"],\n",
    "    \"skateboard\": [\"skateboard\", \"skateboards\", \"Large skateboard\", \"Large skateboards\", \"Small skateboard\", \"Small skateboards\", \"Mid-Sized skateboard\", \"Mid-Sized skateboards\"],\n",
    "    \"ambulance\": [\"ambulance\", \"ambulances\", \"Large ambulance\", \"Large ambulances\", \"Small ambulance\", \"Small ambulances\", \"Mid-Sized ambulance\", \"Mid-Sized ambulances\"],\n",
    "    \"fire truck\": [\"fire truck\", \"fire trucks\", \"Large fire truck\", \"Large fire trucks\", \"Small fire truck\", \"Small fire trucks\", \"Mid-Sized fire truck\", \"Mid-Sized fire trucks\"],\n",
    "    \"tractor\": [\"tractor\", \"tractors\", \"Large tractor\", \"Large tractors\", \"Small tractor\", \"Small tractors\", \"Mid-Sized tractor\", \"Mid-Sized tractors\"],\n",
    "    \"segway\": [\"segway\", \"segways\", \"Large segway\", \"Large segways\", \"Small segway\", \"Small segways\", \"Mid-Sized segway\", \"Mid-Sized segways\"],\n",
    "    \"unicycle\": [\"unicycle\", \"unicycles\", \"Large unicycle\", \"Large unicycles\", \"Small unicycle\", \"Small unicycles\", \"Mid-Sized unicycle\", \"Mid-Sized unicycles\"],\n",
    "    \"jet ski\": [\"jet ski\", \"jet skis\", \"Large jet ski\", \"Large jet skis\", \"Small jet ski\", \"Small jet skis\", \"Mid-Sized jet ski\", \"Mid-Sized jet skis\"],\n",
    "    \"helicopter\": [\"helicopter\", \"helicopters\", \"Large helicopter\", \"Large helicopters\", \"Small helicopter\", \"Small helicopters\", \"Mid-Sized helicopter\", \"Mid-Sized helicopters\"],\n",
    "    \"airplane\": [\"airplane\", \"airplanes\", \"Large airplane\", \"Large airplanes\", \"Small airplane\", \"Small airplanes\", \"Mid-Sized airplane\", \"Mid-Sized airplanes\"],\n",
    "    \"boat\": [\"boat\", \"boats\", \"Large boat\", \"Large boats\", \"Small boat\", \"Small boats\", \"Mid-Sized boat\", \"Mid-Sized boats\"],\n",
    "    \"kayak\": [\"kayak\", \"kayaks\", \"Large kayak\", \"Large kayaks\", \"Small kayak\", \"Small kayaks\", \"Mid-Sized kayak\", \"Mid-Sized kayaks\"],\n",
    "    \"hovercraft\": [\"hovercraft\", \"hovercrafts\", \"Large hovercraft\", \"Large hovercrafts\", \"Small hovercraft\", \"Small hovercrafts\", \"Mid-Sized hovercraft\", \"Mid-Sized hovercrafts\"]\n",
    "}\n",
    "\n",
    "# car, cars, Large car, Large cars, Small car, Small cars, Mid-Sized car, Mid-Sized cars, motorcycle, motorcycles, Large motorcycle, Large motorcycles, Small motorcycle, Small motorcycles, Mid-Sized motorcycle, Mid-Sized motorcycles, bicycle, bicycles, Large bicycle, Large bicycles, Small bicycle, Small bicycles, Mid-Sized bicycle, Mid-Sized bicycles, truck, trucks, Large truck, Large trucks, Small truck, Small trucks, Mid-Sized truck, Mid-Sized trucks, bus, buses, Large bus, Large buses, Small bus, Small buses, Mid-Sized bus, Mid-Sized buses, van, vans, Large van, Large vans, Small van, Small vans, Mid-Sized van, Mid-Sized vans, rickshaw, rickshaws, Large rickshaw, Large rickshaws, Small rickshaw, Small rickshaws, Mid-Sized rickshaw, Mid-Sized rickshaws, scooter, scooters, Large scooter, Large scooters, Small scooter, Small scooters, Mid-Sized scooter, Mid-Sized scooters, skateboard, skateboards, Large skateboard, Large skateboards, Small skateboard, Small skateboards, Mid-Sized skateboard, Mid-Sized skateboards, ambulance, ambulances, Large ambulance, Large ambulances, Small ambulance, Small ambulances, Mid-Sized ambulance, Mid-Sized ambulances, fire truck, fire trucks, Large fire truck, Large fire trucks, Small fire truck, Small fire trucks, Mid-Sized fire truck, Mid-Sized fire trucks, tractor, tractors, Large tractor, Large tractors, Small tractor, Small tractors, Mid-Sized tractor, Mid-Sized tractors, segway, segways, Large segway, Large segways, Small segway, Small segways, Mid-Sized segway, Mid-Sized segways, unicycle, unicycles, Large unicycle, Large unicycles, Small unicycle, Small unicycles, Mid-Sized unicycle, Mid-Sized unicycles, jet ski, jet skis, Large jet ski, Large jet skis, Small jet ski, Small jet skis, Mid-Sized jet ski, Mid-Sized jet skis, helicopter, helicopters, Large helicopter, Large helicopters, Small helicopter, Small helicopters, Mid-Sized helicopter, Mid-Sized helicopters, airplane, airplanes, Large airplane, Large airplanes, Small airplane, Small airplanes, Mid-Sized airplane, Mid-Sized airplanes, boat, boats, Large boat, Large boats, Small boat, Small boats, Mid-Sized boat, Mid-Sized boats, kayak, kayaks, Large kayak, Large kayaks, Small kayak, Small kayaks, Mid-Sized kayak, Mid-Sized kayaks, hovercraft, hovercrafts, Large hovercraft, Large hovercrafts, Small hovercraft, Small hovercrafts, Mid-Sized hovercraft, Mid-Sized hovercrafts\n",
    "\n",
    "# dict_size(v160)\n",
    "print(aOcheck_accuracy(\"WithoutIP/Vehicle20/v160.csv\", v160))\n"
   ]
  },
  {
   "cell_type": "code",
   "execution_count": 407,
   "metadata": {},
   "outputs": [
    {
     "name": "stdout",
     "output_type": "stream",
     "text": [
      "76.15\n",
      "76.15\n"
     ]
    }
   ],
   "source": [
    "v180 = {\n",
    "    \"car\": [\"car\", \"cars\", \"Large car\", \"Large cars\", \"Small car\", \"Small cars\", \"Mid-Sized car\", \"Mid-Sized cars\", \"Vehicle car\"],\n",
    "    \"motorcycle\": [\"motorcycle\", \"motorcycles\", \"Large motorcycle\", \"Large motorcycles\", \"Small motorcycle\", \"Small motorcycles\", \"Mid-Sized motorcycle\", \"Mid-Sized motorcycles\", \"Vehicle motorcycle\"],\n",
    "    \"bicycle\": [\"bicycle\", \"bicycles\", \"Large bicycle\", \"Large bicycles\", \"Small bicycle\", \"Small bicycles\", \"Mid-Sized bicycle\", \"Mid-Sized bicycles\", \"Vehicle bicycle\"],\n",
    "    \"truck\": [\"truck\", \"trucks\", \"Large truck\", \"Large trucks\", \"Small truck\", \"Small trucks\", \"Mid-Sized truck\", \"Mid-Sized trucks\", \"Vehicle truck\"],\n",
    "    \"bus\": [\"bus\", \"buses\", \"Large bus\", \"Large buses\", \"Small bus\", \"Small buses\", \"Mid-Sized bus\", \"Mid-Sized buses\", \"Vehicle bus\"],\n",
    "    \"van\": [\"van\", \"vans\", \"Large van\", \"Large vans\", \"Small van\", \"Small vans\", \"Mid-Sized van\", \"Mid-Sized vans\", \"Vehicle van\"],\n",
    "    \"rickshaw\": [\"rickshaw\", \"rickshaws\", \"Large rickshaw\", \"Large rickshaws\", \"Small rickshaw\", \"Small rickshaws\", \"Mid-Sized rickshaw\", \"Mid-Sized rickshaws\", \"Vehicle rickshaw\"],\n",
    "    \"scooter\": [\"scooter\", \"scooters\", \"Large scooter\", \"Large scooters\", \"Small scooter\", \"Small scooters\", \"Mid-Sized scooter\", \"Mid-Sized scooters\", \"Vehicle scooter\"],\n",
    "    \"skateboard\": [\"skateboard\", \"skateboards\", \"Large skateboard\", \"Large skateboards\", \"Small skateboard\", \"Small skateboards\", \"Mid-Sized skateboard\", \"Mid-Sized skateboards\", \"Vehicle skateboard\"],\n",
    "    \"ambulance\": [\"ambulance\", \"ambulances\", \"Large ambulance\", \"Large ambulances\", \"Small ambulance\", \"Small ambulances\", \"Mid-Sized ambulance\", \"Mid-Sized ambulances\", \"Vehicle ambulance\"],\n",
    "    \"fire truck\": [\"fire truck\", \"fire trucks\", \"Large fire truck\", \"Large fire trucks\", \"Small fire truck\", \"Small fire trucks\", \"Mid-Sized fire truck\", \"Mid-Sized fire trucks\", \"Vehicle fire truck\"],\n",
    "    \"tractor\": [\"tractor\", \"tractors\", \"Large tractor\", \"Large tractors\", \"Small tractor\", \"Small tractors\", \"Mid-Sized tractor\", \"Mid-Sized tractors\", \"Vehicle tractor\"],\n",
    "    \"segway\": [\"segway\", \"segways\", \"Large segway\", \"Large segways\", \"Small segway\", \"Small segways\", \"Mid-Sized segway\", \"Mid-Sized segways\", \"Vehicle segway\"],\n",
    "    \"unicycle\": [\"unicycle\", \"unicycles\", \"Large unicycle\", \"Large unicycles\", \"Small unicycle\", \"Small unicycles\", \"Mid-Sized unicycle\", \"Mid-Sized unicycles\", \"Vehicle unicycle\"],\n",
    "    \"jet ski\": [\"jet ski\", \"jet skis\", \"Large jet ski\", \"Large jet skis\", \"Small jet ski\", \"Small jet skis\", \"Mid-Sized jet ski\", \"Mid-Sized jet skis\", \"Vehicle jet ski\"],\n",
    "    \"helicopter\": [\"helicopter\", \"helicopters\", \"Large helicopter\", \"Large helicopters\", \"Small helicopter\", \"Small helicopters\", \"Mid-Sized helicopter\", \"Mid-Sized helicopters\", \"Vehicle helicopter\"],\n",
    "    \"airplane\": [\"airplane\", \"airplanes\", \"Large airplane\", \"Large airplanes\", \"Small airplane\", \"Small airplanes\", \"Mid-Sized airplane\", \"Mid-Sized airplanes\", \"Vehicle airplane\"],\n",
    "    \"boat\": [\"boat\", \"boats\", \"Large boat\", \"Large boats\", \"Small boat\", \"Small boats\", \"Mid-Sized boat\", \"Mid-Sized boats\", \"Vehicle boat\"],\n",
    "    \"kayak\": [\"kayak\", \"kayaks\", \"Large kayak\", \"Large kayaks\", \"Small kayak\", \"Small kayaks\", \"Mid-Sized kayak\", \"Mid-Sized kayaks\", \"Vehicle kayak\"],\n",
    "    \"hovercraft\": [\"hovercraft\", \"hovercrafts\", \"Large hovercraft\", \"Large hovercrafts\", \"Small hovercraft\", \"Small hovercrafts\", \"Mid-Sized hovercraft\", \"Mid-Sized hovercrafts\", \"Vehicle hovercraft\"]\n",
    "}\n",
    "\n",
    "# car, cars, Large car, Large cars, Small car, Small cars, Mid-Sized car, Mid-Sized cars, Vehicle car, motorcycle, motorcycles, Large motorcycle, Large motorcycles, Small motorcycle, Small motorcycles, Mid-Sized motorcycle, Mid-Sized motorcycles, Vehicle motorcycle, bicycle, bicycles, Large bicycle, Large bicycles, Small bicycle, Small bicycles, Mid-Sized bicycle, Mid-Sized bicycles, Vehicle bicycle, truck, trucks, Large truck, Large trucks, Small truck, Small trucks, Mid-Sized truck, Mid-Sized trucks, Vehicle truck, bus, buses, Large bus, Large buses, Small bus, Small buses, Mid-Sized bus, Mid-Sized buses, Vehicle bus, van, vans, Large van, Large vans, Small van, Small vans, Mid-Sized van, Mid-Sized vans, Vehicle van, rickshaw, rickshaws, Large rickshaw, Large rickshaws, Small rickshaw, Small rickshaws, Mid-Sized rickshaw, Mid-Sized rickshaws, Vehicle rickshaw, scooter, scooters, Large scooter, Large scooters, Small scooter, Small scooters, Mid-Sized scooter, Mid-Sized scooters, Vehicle scooter, skateboard, skateboards, Large skateboard, Large skateboards, Small skateboard, Small skateboards, Mid-Sized skateboard, Mid-Sized skateboards, Vehicle skateboard, ambulance, ambulances, Large ambulance, Large ambulances, Small ambulance, Small ambulances, Mid-Sized ambulance, Mid-Sized ambulances, Vehicle ambulance, fire truck, fire trucks, Large fire truck, Large fire trucks, Small fire truck, Small fire trucks, Mid-Sized fire truck, Mid-Sized fire trucks, Vehicle fire truck, tractor, tractors, Large tractor, Large tractors, Small tractor, Small tractors, Mid-Sized tractor, Mid-Sized tractors, Vehicle tractor, segway, segways, Large segway, Large segways, Small segway, Small segways, Mid-Sized segway, Mid-Sized segways, Vehicle segway, unicycle, unicycles, Large unicycle, Large unicycles, Small unicycle, Small unicycles, Mid-Sized unicycle, Mid-Sized unicycles, Vehicle unicycle, jet ski, jet skis, Large jet ski, Large jet skis, Small jet ski, Small jet skis, Mid-Sized jet ski, Mid-Sized jet skis, Vehicle jet ski, helicopter, helicopters, Large helicopter, Large helicopters, Small helicopter, Small helicopters, Mid-Sized helicopter, Mid-Sized helicopters, Vehicle helicopter, airplane, airplanes, Large airplane, Large airplanes, Small airplane, Small airplanes, Mid-Sized airplane, Mid-Sized airplanes, Vehicle airplane, boat, boats, Large boat, Large boats, Small boat, Small boats, Mid-Sized boat, Mid-Sized boats, Vehicle boat, kayak, kayaks, Large kayak, Large kayaks, Small kayak, Small kayaks, Mid-Sized kayak, Mid-Sized kayaks, Vehicle kayak, hovercraft, hovercrafts, Large hovercraft, Large hovercrafts, Small hovercraft, Small hovercrafts, Mid-Sized hovercraft, Mid-Sized hovercrafts, Vehicle hovercraft\n",
    "\n",
    "# dict_size(v180)\n",
    "print(aOcheck_accuracy(\"WithoutIP/Vehicle20/v180.csv\", v180))\n"
   ]
  },
  {
   "cell_type": "code",
   "execution_count": 408,
   "metadata": {},
   "outputs": [
    {
     "name": "stdout",
     "output_type": "stream",
     "text": [
      "75.98\n",
      "75.98\n"
     ]
    }
   ],
   "source": [
    "v200 = {\n",
    "    \"car\": [\"car\", \"cars\", \"Large car\", \"Large cars\", \"Small car\", \"Small cars\", \"Mid-Sized car\", \"Mid-Sized cars\", \"Vehicle car\", \"Vehicle cars\"],\n",
    "    \"motorcycle\": [\"motorcycle\", \"motorcycles\", \"Large motorcycle\", \"Large motorcycles\", \"Small motorcycle\", \"Small motorcycles\", \"Mid-Sized motorcycle\", \"Mid-Sized motorcycles\", \"Vehicle motorcycle\", \"Vehicle motorcycles\"],\n",
    "    \"bicycle\": [\"bicycle\", \"bicycles\", \"Large bicycle\", \"Large bicycles\", \"Small bicycle\", \"Small bicycles\", \"Mid-Sized bicycle\", \"Mid-Sized bicycles\", \"Vehicle bicycle\", \"Vehicle bicycles\"],\n",
    "    \"truck\": [\"truck\", \"trucks\", \"Large truck\", \"Large trucks\", \"Small truck\", \"Small trucks\", \"Mid-Sized truck\", \"Mid-Sized trucks\", \"Vehicle truck\", \"Vehicle trucks\"],\n",
    "    \"bus\": [\"bus\", \"buses\", \"Large bus\", \"Large buses\", \"Small bus\", \"Small buses\", \"Mid-Sized bus\", \"Mid-Sized buses\", \"Vehicle bus\", \"Vehicle buses\"],\n",
    "    \"van\": [\"van\", \"vans\", \"Large van\", \"Large vans\", \"Small van\", \"Small vans\", \"Mid-Sized van\", \"Mid-Sized vans\", \"Vehicle van\", \"Vehicle vans\"],\n",
    "    \"rickshaw\": [\"rickshaw\", \"rickshaws\", \"Large rickshaw\", \"Large rickshaws\", \"Small rickshaw\", \"Small rickshaws\", \"Mid-Sized rickshaw\", \"Mid-Sized rickshaws\", \"Vehicle rickshaw\", \"Vehicle rickshaws\"],\n",
    "    \"scooter\": [\"scooter\", \"scooters\", \"Large scooter\", \"Large scooters\", \"Small scooter\", \"Small scooters\", \"Mid-Sized scooter\", \"Mid-Sized scooters\", \"Vehicle scooter\", \"Vehicle scooters\"],\n",
    "    \"skateboard\": [\"skateboard\", \"skateboards\", \"Large skateboard\", \"Large skateboards\", \"Small skateboard\", \"Small skateboards\", \"Mid-Sized skateboard\", \"Mid-Sized skateboards\", \"Vehicle skateboard\", \"Vehicle skateboards\"],\n",
    "    \"ambulance\": [\"ambulance\", \"ambulances\", \"Large ambulance\", \"Large ambulances\", \"Small ambulance\", \"Small ambulances\", \"Mid-Sized ambulance\", \"Mid-Sized ambulances\", \"Vehicle ambulance\", \"Vehicle ambulances\"],\n",
    "    \"fire truck\": [\"fire truck\", \"fire trucks\", \"Large fire truck\", \"Large fire trucks\", \"Small fire truck\", \"Small fire trucks\", \"Mid-Sized fire truck\", \"Mid-Sized fire trucks\", \"Vehicle fire truck\", \"Vehicle fire trucks\"],\n",
    "    \"tractor\": [\"tractor\", \"tractors\", \"Large tractor\", \"Large tractors\", \"Small tractor\", \"Small tractors\", \"Mid-Sized tractor\", \"Mid-Sized tractors\", \"Vehicle tractor\", \"Vehicle tractors\"],\n",
    "    \"segway\": [\"segway\", \"segways\", \"Large segway\", \"Large segways\", \"Small segway\", \"Small segways\", \"Mid-Sized segway\", \"Mid-Sized segways\", \"Vehicle segway\", \"Vehicle segways\"],\n",
    "    \"unicycle\": [\"unicycle\", \"unicycles\", \"Large unicycle\", \"Large unicycles\", \"Small unicycle\", \"Small unicycles\", \"Mid-Sized unicycle\", \"Mid-Sized unicycles\", \"Vehicle unicycle\", \"Vehicle unicycles\"],\n",
    "    \"jet ski\": [\"jet ski\", \"jet skis\", \"Large jet ski\", \"Large jet skis\", \"Small jet ski\", \"Small jet skis\", \"Mid-Sized jet ski\", \"Mid-Sized jet skis\", \"Vehicle jet ski\", \"Vehicle jet skis\"],\n",
    "    \"helicopter\": [\"helicopter\", \"helicopters\", \"Large helicopter\", \"Large helicopters\", \"Small helicopter\", \"Small helicopters\", \"Mid-Sized helicopter\", \"Mid-Sized helicopters\", \"Vehicle helicopter\", \"Vehicle helicopters\"],\n",
    "    \"airplane\": [\"airplane\", \"airplanes\", \"Large airplane\", \"Large airplanes\", \"Small airplane\", \"Small airplanes\", \"Mid-Sized airplane\", \"Mid-Sized airplanes\", \"Vehicle airplane\", \"Vehicle airplanes\"],\n",
    "    \"boat\": [\"boat\", \"boats\", \"Large boat\", \"Large boats\", \"Small boat\", \"Small boats\", \"Mid-Sized boat\", \"Mid-Sized boats\", \"Vehicle boat\", \"Vehicle boats\"],\n",
    "    \"kayak\": [\"kayak\", \"kayaks\", \"Large kayak\", \"Large kayaks\", \"Small kayak\", \"Small kayaks\", \"Mid-Sized kayak\", \"Mid-Sized kayaks\", \"Vehicle kayak\", \"Vehicle kayaks\"],\n",
    "    \"hovercraft\": [\"hovercraft\", \"hovercrafts\", \"Large hovercraft\", \"Large hovercrafts\", \"Small hovercraft\", \"Small hovercrafts\", \"Mid-Sized hovercraft\", \"Mid-Sized hovercrafts\", \"Vehicle hovercraft\", \"Vehicle hovercrafts\"]\n",
    "}\n",
    "\n",
    "# car, cars, Large car, Large cars, Small car, Small cars, Mid-Sized car, Mid-Sized cars, Vehicle car, Vehicle cars, motorcycle, motorcycles, Large motorcycle, Large motorcycles, Small motorcycle, Small motorcycles, Mid-Sized motorcycle, Mid-Sized motorcycles, Vehicle motorcycle, Vehicle motorcycles, bicycle, bicycles, Large bicycle, Large bicycles, Small bicycle, Small bicycles, Mid-Sized bicycle, Mid-Sized bicycles, Vehicle bicycle, Vehicle bicycles, truck, trucks, Large truck, Large trucks, Small truck, Small trucks, Mid-Sized truck, Mid-Sized trucks, Vehicle truck, Vehicle trucks, bus, buses, Large bus, Large buses, Small bus, Small buses, Mid-Sized bus, Mid-Sized buses, Vehicle bus, Vehicle buses, van, vans, Large van, Large vans, Small van, Small vans, Mid-Sized van, Mid-Sized vans, Vehicle van, Vehicle vans, rickshaw, rickshaws, Large rickshaw, Large rickshaws, Small rickshaw, Small rickshaws, Mid-Sized rickshaw, Mid-Sized rickshaws, Vehicle rickshaw, Vehicle rickshaws, scooter, scooters, Large scooter, Large scooters, Small scooter, Small scooters, Mid-Sized scooter, Mid-Sized scooters, Vehicle scooter, Vehicle scooters, skateboard, skateboards, Large skateboard, Large skateboards, Small skateboard, Small skateboards, Mid-Sized skateboard, Mid-Sized skateboards, Vehicle skateboard, Vehicle skateboards, ambulance, ambulances, Large ambulance, Large ambulances, Small ambulance, Small ambulances, Mid-Sized ambulance, Mid-Sized ambulances, Vehicle ambulance, Vehicle ambulances, fire truck, fire trucks, Large fire truck, Large fire trucks, Small fire truck, Small fire trucks, Mid-Sized fire truck, Mid-Sized fire trucks, Vehicle fire truck, Vehicle fire trucks, tractor, tractors, Large tractor, Large tractors, Small tractor, Small tractors, Mid-Sized tractor, Mid-Sized tractors, Vehicle tractor, Vehicle tractors, segway, segways, Large segway, Large segways, Small segway, Small segways, Mid-Sized segway, Mid-Sized segways, Vehicle segway, Vehicle segways, unicycle, unicycles, Large unicycle, Large unicycles, Small unicycle, Small unicycles, Mid-Sized unicycle, Mid-Sized unicycles, Vehicle unicycle, Vehicle unicycles, jet ski, jet skis, Large jet ski, Large jet skis, Small jet ski, Small jet skis, Mid-Sized jet ski, Mid-Sized jet skis, Vehicle jet ski, Vehicle jet skis, helicopter, helicopters, Large helicopter, Large helicopters, Small helicopter, Small helicopters, Mid-Sized helicopter, Mid-Sized helicopters, Vehicle helicopter, Vehicle helicopters, airplane, airplanes, Large airplane, Large airplanes, Small airplane, Small airplanes, Mid-Sized airplane, Mid-Sized airplanes, Vehicle airplane, Vehicle airplanes, boat, boats, Large boat, Large boats, Small boat, Small boats, Mid-Sized boat, Mid-Sized boats, Vehicle boat, Vehicle boats, kayak, kayaks, Large kayak, Large kayaks, Small kayak, Small kayaks, Mid-Sized kayak, Mid-Sized kayaks, Vehicle kayak, Vehicle kayaks, hovercraft, hovercrafts, Large hovercraft, Large hovercrafts, Small hovercraft, Small hovercrafts, Mid-Sized hovercraft, Mid-Sized hovercrafts, Vehicle hovercraft, Vehicle hovercrafts\n",
    "\n",
    "# dict_size(v200)\n",
    "print(aOcheck_accuracy(\"WithoutIP/Vehicle20/v200.csv\", v200))\n"
   ]
  },
  {
   "cell_type": "markdown",
   "metadata": {},
   "source": [
    "## Flowers 10"
   ]
  },
  {
   "cell_type": "code",
   "execution_count": 409,
   "metadata": {},
   "outputs": [
    {
     "name": "stdout",
     "output_type": "stream",
     "text": [
      "10\n",
      "87.19\n",
      "87.19\n"
     ]
    }
   ],
   "source": [
    "fl10 = { \"bougainvillea\" : [\"bougainvillea\"],\n",
    "       \"daisies\" : [\"daisies\"],\n",
    "       \"garden_roses\" : [\"garden roses\"],\n",
    "       \"gardenias\" : [\"gardenias\"],\n",
    "       \"hibiscus\" : [\"hibiscus\"],\n",
    "         \"hydrangeas\" : [\"hydrangeas\"],\n",
    "            \"lilies\" : [\"lilies\"],\n",
    "            \"orchids\" : [\"orchids\"],\n",
    "            \"peonies\" : [\"peonies\"],\n",
    "            \"tulip\" : [\"tulip\"]\n",
    "       }\n",
    "\n",
    "# bougainvillea, daisies, garden_roses, gardenias, hibiscus, hydrangeas, lilies, orchids, peonies, tulip\n",
    "\n",
    "dict_size(fl10)\n",
    "print(flowers_accuracy(\"WithoutIP/flowers10/f10.csv\", fl10))"
   ]
  },
  {
   "cell_type": "code",
   "execution_count": 410,
   "metadata": {},
   "outputs": [
    {
     "name": "stdout",
     "output_type": "stream",
     "text": [
      "89.65\n",
      "89.65\n"
     ]
    }
   ],
   "source": [
    "fl20 = {\n",
    "    \"bougainvillea\": [\"bougainvillea\", \"bougainvilleas\"],\n",
    "    \"daisies\": [\"daisies\", \"daisy\"],\n",
    "    \"garden_roses\": [\"garden roses\", \"garden rose\"],\n",
    "    \"gardenias\": [\"gardenias\", \"gardenia\"],\n",
    "    \"hibiscus\": [\"hibiscus\", \"hibiscuses\"],\n",
    "    \"hydrangeas\": [\"hydrangeas\", \"hydrangea\"],\n",
    "    \"lilies\": [\"lilies\", \"lily\"],\n",
    "    \"orchids\": [\"orchids\", \"orchid\"],\n",
    "    \"peonies\": [\"peonies\", \"peony\"],\n",
    "    \"tulip\": [\"tulip\", \"tulips\"]\n",
    "}\n",
    "\n",
    "# bougainvillea, bougainvilleas, daisies, daisy, garden_roses, garden rose, gardenias, gardenia, hibiscus, hibiscuses, hydrangeas, hydrangea, lilies, lily, orchids, orchid, peonies, peony, tulip, tulips\n",
    "\n",
    "# dict_size(fl20)\n",
    "print(flowers_accuracy(\"WithoutIP/flowers10/f20.csv\", fl20))\n"
   ]
  },
  {
   "cell_type": "code",
   "execution_count": 411,
   "metadata": {},
   "outputs": [
    {
     "name": "stdout",
     "output_type": "stream",
     "text": [
      "92.51\n",
      "92.51\n"
     ]
    }
   ],
   "source": [
    "fl30 = {\n",
    "    \"bougainvillea\": [\"bougainvillea\", \"bougainvilleas\", \"Large bougainvillea\"],\n",
    "    \"daisies\": [\"daisies\", \"daisy\", \"Large daisies\"],\n",
    "    \"garden_roses\": [\"garden roses\", \"garden rose\", \"Large garden roses\"],\n",
    "    \"gardenias\": [\"gardenias\", \"gardenia\", \"Large gardenias\"],\n",
    "    \"hibiscus\": [\"hibiscus\", \"hibiscuses\", \"Large hibiscus\"],\n",
    "    \"hydrangeas\": [\"hydrangeas\", \"hydrangea\", \"Large hydrangeas\"],\n",
    "    \"lilies\": [\"lilies\", \"lily\", \"Large lilies\"],\n",
    "    \"orchids\": [\"orchids\", \"orchid\", \"Large orchids\"],\n",
    "    \"peonies\": [\"peonies\", \"peony\", \"Large peonies\"],\n",
    "    \"tulip\": [\"tulip\", \"tulips\", \"Large tulip\"]\n",
    "}\n",
    "\n",
    "# bougainvillea, bougainvilleas, Large bougainvillea, daisies, daisy, Large daisies, garden_roses, garden rose, Large garden roses, gardenias, gardenia, Large gardenias, hibiscus, hibiscuses, Large hibiscus, hydrangeas, hydrangea, Large hydrangeas, lilies, lily, Large lilies, orchids, orchid, Large orchids, peonies, peony, Large peonies, tulip, tulips, Large tulip\n",
    "\n",
    "# dict_size(fl30)\n",
    "print(flowers_accuracy(\"WithoutIP/flowers10/f30.csv\", fl30))\n"
   ]
  },
  {
   "cell_type": "code",
   "execution_count": 412,
   "metadata": {},
   "outputs": [
    {
     "name": "stdout",
     "output_type": "stream",
     "text": [
      "92.51\n",
      "92.51\n"
     ]
    }
   ],
   "source": [
    "fl40 = {\n",
    "    \"bougainvillea\": [\"bougainvillea\", \"bougainvilleas\", \"Large bougainvillea\", \"Large bougainvilleas\"],\n",
    "    \"daisies\": [\"daisies\", \"daisy\", \"Large daisies\", \"Large daisy\"],\n",
    "    \"garden_roses\": [\"garden roses\", \"garden rose\", \"Large garden roses\", \"Large garden rose\"],\n",
    "    \"gardenias\": [\"gardenias\", \"gardenia\", \"Large gardenias\", \"Large gardenia\"],\n",
    "    \"hibiscus\": [\"hibiscus\", \"hibiscuses\", \"Large hibiscus\", \"Large hibiscuses\"],\n",
    "    \"hydrangeas\": [\"hydrangeas\", \"hydrangea\", \"Large hydrangeas\", \"Large hydrangea\"],\n",
    "    \"lilies\": [\"lilies\", \"lily\", \"Large lilies\", \"Large lily\"],\n",
    "    \"orchids\": [\"orchids\", \"orchid\", \"Large orchids\", \"Large orchid\"],\n",
    "    \"peonies\": [\"peonies\", \"peony\", \"Large peonies\", \"Large peony\"],\n",
    "    \"tulip\": [\"tulip\", \"tulips\", \"Large tulip\", \"Large tulips\"]\n",
    "}\n",
    "\n",
    "# bougainvillea, bougainvilleas, Large bougainvillea, Large bougainvilleas, daisies, daisy, Large daisies, Large daisy, garden_roses, garden rose, Large garden roses, Large garden rose, gardenias, gardenia, Large gardenias, Large gardenia, hibiscus, hibiscuses, Large hibiscus, Large hibiscuses, hydrangeas, hydrangea, Large hydrangeas, Large hydrangea, lilies, lily, Large lilies, Large lily, orchids, orchid, Large orchids, Large orchid, peonies, peony, Large peonies, Large peony, tulip, tulips, Large tulip, Large tulips\n",
    "\n",
    "# dict_size(fl40)\n",
    "print(flowers_accuracy(\"WithoutIP/flowers10/f40.csv\", fl40))\n"
   ]
  },
  {
   "cell_type": "code",
   "execution_count": 413,
   "metadata": {},
   "outputs": [
    {
     "name": "stdout",
     "output_type": "stream",
     "text": [
      "92.51\n",
      "92.51\n"
     ]
    }
   ],
   "source": [
    "fl50 = {\n",
    "    \"bougainvillea\": [\"bougainvillea\", \"bougainvilleas\", \"Large bougainvillea\", \"Large bougainvilleas\", \"Small bougainvillea\"],\n",
    "    \"daisies\": [\"daisies\", \"daisy\", \"Large daisies\", \"Large daisy\", \"Small daisies\"],\n",
    "    \"garden_roses\": [\"garden roses\", \"garden rose\", \"Large garden roses\", \"Large garden rose\", \"Small garden roses\"],\n",
    "    \"gardenias\": [\"gardenias\", \"gardenia\", \"Large gardenias\", \"Large gardenia\", \"Small gardenias\"],\n",
    "    \"hibiscus\": [\"hibiscus\", \"hibiscuses\", \"Large hibiscus\", \"Large hibiscuses\", \"Small hibiscus\"],\n",
    "    \"hydrangeas\": [\"hydrangeas\", \"hydrangea\", \"Large hydrangeas\", \"Large hydrangea\", \"Small hydrangeas\"],\n",
    "    \"lilies\": [\"lilies\", \"lily\", \"Large lilies\", \"Large lily\", \"Small lilies\"],\n",
    "    \"orchids\": [\"orchids\", \"orchid\", \"Large orchids\", \"Large orchid\", \"Small orchids\"],\n",
    "    \"peonies\": [\"peonies\", \"peony\", \"Large peonies\", \"Large peony\", \"Small peonies\"],\n",
    "    \"tulip\": [\"tulip\", \"tulips\", \"Large tulip\", \"Large tulips\", \"Small tulip\"]\n",
    "}\n",
    "\n",
    "# bougainvillea, bougainvilleas, Large bougainvillea, Large bougainvilleas, Small bougainvillea, daisies, daisy, Large daisies, Large daisy, Small daisies, garden_roses, garden rose, Large garden roses, Large garden rose, Small garden roses, gardenias, gardenia, Large gardenias, Large gardenia, Small gardenias, hibiscus, hibiscuses, Large hibiscus, Large hibiscuses, Small hibiscus, hydrangeas, hydrangea, Large hydrangeas, Large hydrangea, Small hydrangeas, lilies, lily, Large lilies, Large lily, Small lilies, orchids, orchid, Large orchids, Large orchid, Small orchids, peonies, peony, Large peonies, Large peony, Small peonies, tulip, tulips, Large tulip, Large tulips, Small tulip\n",
    "\n",
    "# dict_size(fl50)\n",
    "print(flowers_accuracy(\"WithoutIP/flowers10/f50.csv\", fl50))\n"
   ]
  },
  {
   "cell_type": "code",
   "execution_count": 414,
   "metadata": {},
   "outputs": [
    {
     "name": "stdout",
     "output_type": "stream",
     "text": [
      "92.51\n",
      "92.51\n"
     ]
    }
   ],
   "source": [
    "fl60 = {\n",
    "    \"bougainvillea\": [\"bougainvillea\", \"bougainvilleas\", \"Large bougainvillea\", \"Large bougainvilleas\", \"Small bougainvillea\", \"Small bougainvilleas\"],\n",
    "    \"daisies\": [\"daisies\", \"daisy\", \"Large daisies\", \"Large daisy\", \"Small daisies\", \"Small daisy\"],\n",
    "    \"garden_roses\": [\"garden roses\", \"garden rose\", \"Large garden roses\", \"Large garden rose\", \"Small garden roses\", \"Small garden rose\"],\n",
    "    \"gardenias\": [\"gardenias\", \"gardenia\", \"Large gardenias\", \"Large gardenia\", \"Small gardenias\", \"Small gardenia\"],\n",
    "    \"hibiscus\": [\"hibiscus\", \"hibiscuses\", \"Large hibiscus\", \"Large hibiscuses\", \"Small hibiscus\", \"Small hibiscuses\"],\n",
    "    \"hydrangeas\": [\"hydrangeas\", \"hydrangea\", \"Large hydrangeas\", \"Large hydrangea\", \"Small hydrangeas\", \"Small hydrangea\"],\n",
    "    \"lilies\": [\"lilies\", \"lily\", \"Large lilies\", \"Large lily\", \"Small lilies\", \"Small lily\"],\n",
    "    \"orchids\": [\"orchids\", \"orchid\", \"Large orchids\", \"Large orchid\", \"Small orchids\", \"Small orchid\"],\n",
    "    \"peonies\": [\"peonies\", \"peony\", \"Large peonies\", \"Large peony\", \"Small peonies\", \"Small peony\"],\n",
    "    \"tulip\": [\"tulip\", \"tulips\", \"Large tulip\", \"Large tulips\", \"Small tulip\", \"Small tulips\"]\n",
    "}\n",
    "\n",
    "# bougainvillea, bougainvilleas, Large bougainvillea, Large bougainvilleas, Small bougainvillea, Small bougainvilleas, daisies, daisy, Large daisies, Large daisy, Small daisies, Small daisy, garden_roses, garden rose, Large garden roses, Large garden rose, Small garden roses, Small garden rose, gardenias, gardenia, Large gardenias, Large gardenia, Small gardenias, Small gardenia, hibiscus, hibiscuses, Large hibiscus, Large hibiscuses, Small hibiscus, Small hibiscuses, hydrangeas, hydrangea, Large hydrangeas, Large hydrangea, Small hydrangeas, Small hydrangea, lilies, lily, Large lilies, Large lily, Small lilies, Small lily, orchids, orchid, Large orchids, Large orchid, Small orchids, Small orchid, peonies, peony, Large peonies, Large peony, Small peonies, Small peony, tulip, tulips, Large tulip, Large tulips, Small tulip, Small tulips\n",
    "\n",
    "# dict_size(fl60)\n",
    "print(flowers_accuracy(\"WithoutIP/flowers10/f60.csv\", fl60))\n"
   ]
  },
  {
   "cell_type": "code",
   "execution_count": 415,
   "metadata": {},
   "outputs": [
    {
     "name": "stdout",
     "output_type": "stream",
     "text": [
      "93.05\n",
      "93.05\n"
     ]
    }
   ],
   "source": [
    "fl70 = {\n",
    "    \"bougainvillea\": [\"bougainvillea\", \"bougainvilleas\", \"Large bougainvillea\", \"Large bougainvilleas\", \"Small bougainvillea\", \"Small bougainvilleas\", \"Medium bougainvillea\"],\n",
    "    \"daisies\": [\"daisies\", \"daisy\", \"Large daisies\", \"Large daisy\", \"Small daisies\", \"Small daisy\", \"Medium daisies\"],\n",
    "    \"garden_roses\": [\"garden roses\", \"garden rose\", \"Large garden roses\", \"Large garden rose\", \"Small garden roses\", \"Small garden rose\", \"Medium garden roses\"],\n",
    "    \"gardenias\": [\"gardenias\", \"gardenia\", \"Large gardenias\", \"Large gardenia\", \"Small gardenias\", \"Small gardenia\", \"Medium gardenias\"],\n",
    "    \"hibiscus\": [\"hibiscus\", \"hibiscuses\", \"Large hibiscus\", \"Large hibiscuses\", \"Small hibiscus\", \"Small hibiscuses\", \"Medium hibiscus\"],\n",
    "    \"hydrangeas\": [\"hydrangeas\", \"hydrangea\", \"Large hydrangeas\", \"Large hydrangea\", \"Small hydrangeas\", \"Small hydrangea\", \"Medium hydrangeas\"],\n",
    "    \"lilies\": [\"lilies\", \"lily\", \"Large lilies\", \"Large lily\", \"Small lilies\", \"Small lily\", \"Medium lilies\"],\n",
    "    \"orchids\": [\"orchids\", \"orchid\", \"Large orchids\", \"Large orchid\", \"Small orchids\", \"Small orchid\", \"Medium orchids\"],\n",
    "    \"peonies\": [\"peonies\", \"peony\", \"Large peonies\", \"Large peony\", \"Small peonies\", \"Small peony\", \"Medium peonies\"],\n",
    "    \"tulip\": [\"tulip\", \"tulips\", \"Large tulip\", \"Large tulips\", \"Small tulip\", \"Small tulips\", \"Medium tulip\"]\n",
    "}\n",
    "\n",
    "# bougainvillea, bougainvilleas, Large bougainvillea, Large bougainvilleas, Small bougainvillea, Small bougainvilleas, Medium bougainvillea, daisies, daisy, Large daisies, Large daisy, Small daisies, Small daisy, Medium daisies, garden_roses, garden rose, Large garden roses, Large garden rose, Small garden roses, Small garden rose, Medium garden roses, gardenias, gardenia, Large gardenias, Large gardenia, Small gardenias, Small gardenia, Medium gardenias, hibiscus, hibiscuses, Large hibiscus, Large hibiscuses, Small hibiscus, Small hibiscuses, Medium hibiscus, hydrangeas, hydrangea, Large hydrangeas, Large hydrangea, Small hydrangeas, Small hydrangea, Medium hydrangeas, lilies, lily, Large lilies, Large lily, Small lilies, Small lily, Medium lilies, orchids, orchid, Large orchids, Large orchid, Small orchids, Small orchid, Medium orchids, peonies, peony, Large peonies, Large peony, Small peonies, Small peony, Medium peonies, tulip, tulips, Large tulip, Large tulips, Small tulip, Small tulips, Medium tulip\n",
    "\n",
    "# dict_size(fl70)\n",
    "print(flowers_accuracy(\"WithoutIP/flowers10/f70.csv\", fl70))\n"
   ]
  },
  {
   "cell_type": "code",
   "execution_count": 416,
   "metadata": {},
   "outputs": [
    {
     "name": "stdout",
     "output_type": "stream",
     "text": [
      "93.05\n",
      "93.05\n"
     ]
    }
   ],
   "source": [
    "fl80 = {\n",
    "    \"bougainvillea\": [\"bougainvillea\", \"bougainvilleas\", \"Large bougainvillea\", \"Large bougainvilleas\", \"Small bougainvillea\", \"Small bougainvilleas\", \"Medium bougainvillea\", \"Medium bougainvilleas\"],\n",
    "    \"daisies\": [\"daisies\", \"daisy\", \"Large daisies\", \"Large daisy\", \"Small daisies\", \"Small daisy\", \"Medium daisies\", \"Medium daisy\"],\n",
    "    \"garden_roses\": [\"garden roses\", \"garden rose\", \"Large garden roses\", \"Large garden rose\", \"Small garden roses\", \"Small garden rose\", \"Medium garden roses\", \"Medium garden rose\"],\n",
    "    \"gardenias\": [\"gardenias\", \"gardenia\", \"Large gardenias\", \"Large gardenia\", \"Small gardenias\", \"Small gardenia\", \"Medium gardenias\", \"Medium gardenia\"],\n",
    "    \"hibiscus\": [\"hibiscus\", \"hibiscuses\", \"Large hibiscus\", \"Large hibiscuses\", \"Small hibiscus\", \"Small hibiscuses\", \"Medium hibiscus\", \"Medium hibiscuses\"],\n",
    "    \"hydrangeas\": [\"hydrangeas\", \"hydrangea\", \"Large hydrangeas\", \"Large hydrangea\", \"Small hydrangeas\", \"Small hydrangea\", \"Medium hydrangeas\", \"Medium hydrangea\"],\n",
    "    \"lilies\": [\"lilies\", \"lily\", \"Large lilies\", \"Large lily\", \"Small lilies\", \"Small lily\", \"Medium lilies\", \"Medium lily\"],\n",
    "    \"orchids\": [\"orchids\", \"orchid\", \"Large orchids\", \"Large orchid\", \"Small orchids\", \"Small orchid\", \"Medium orchids\", \"Medium orchid\"],\n",
    "    \"peonies\": [\"peonies\", \"peony\", \"Large peonies\", \"Large peony\", \"Small peonies\", \"Small peony\", \"Medium peonies\", \"Medium peony\"],\n",
    "    \"tulip\": [\"tulip\", \"tulips\", \"Large tulip\", \"Large tulips\", \"Small tulip\", \"Small tulips\", \"Medium tulip\", \"Medium tulips\"]\n",
    "}\n",
    "\n",
    "# bougainvillea, bougainvilleas, Large bougainvillea, Large bougainvilleas, Small bougainvillea, Small bougainvilleas, Medium bougainvillea, Medium bougainvilleas, daisies, daisy, Large daisies, Large daisy, Small daisies, Small daisy, Medium daisies, Medium daisy, garden_roses, garden rose, Large garden roses, Large garden rose, Small garden roses, Small garden rose, Medium garden roses, Medium garden rose, gardenias, gardenia, Large gardenias, Large gardenia, Small gardenias, Small gardenia, Medium gardenias, Medium gardenia, hibiscus, hibiscuses, Large hibiscus, Large hibiscuses, Small hibiscus, Small hibiscuses, Medium hibiscus, Medium hibiscuses, hydrangeas, hydrangea, Large hydrangeas, Large hydrangea, Small hydrangeas, Small hydrangea, Medium hydrangeas, Medium hydrangea, lilies, lily, Large lilies, Large lily, Small lilies, Small lily, Medium lilies, Medium lily, orchids, orchid, Large orchids, Large orchid, Small orchids, Small orchid, Medium orchids, Medium orchid, peonies, peony, Large peonies, Large peony, Small peonies, Small peony, Medium peonies, Medium peony, tulip, tulips, Large tulip, Large tulips, Small tulip, Small tulips, Medium tulip, Medium tulips\n",
    "\n",
    "# dict_size(fl80)\n",
    "print(flowers_accuracy(\"WithoutIP/flowers10/f80.csv\", fl80))\n"
   ]
  },
  {
   "cell_type": "code",
   "execution_count": 417,
   "metadata": {},
   "outputs": [
    {
     "name": "stdout",
     "output_type": "stream",
     "text": [
      "95.5\n",
      "95.5\n"
     ]
    }
   ],
   "source": [
    "fl90 = {\n",
    "    \"bougainvillea\": [\"bougainvillea\", \"bougainvilleas\", \"Large bougainvillea\", \"Large bougainvilleas\", \"Small bougainvillea\", \"Small bougainvilleas\", \"Medium bougainvillea\", \"Medium bougainvilleas\", \"Flower bougainvillea\"],\n",
    "    \"daisies\": [\"daisies\", \"daisy\", \"Large daisies\", \"Large daisy\", \"Small daisies\", \"Small daisy\", \"Medium daisies\", \"Medium daisy\", \"Flower daisies\"],\n",
    "    \"garden_roses\": [\"garden roses\", \"garden rose\", \"Large garden roses\", \"Large garden rose\", \"Small garden roses\", \"Small garden rose\", \"Medium garden roses\", \"Medium garden rose\", \"Flower garden roses\"],\n",
    "    \"gardenias\": [\"gardenias\", \"gardenia\", \"Large gardenias\", \"Large gardenia\", \"Small gardenias\", \"Small gardenia\", \"Medium gardenias\", \"Medium gardenia\", \"Flower gardenias\"],\n",
    "    \"hibiscus\": [\"hibiscus\", \"hibiscuses\", \"Large hibiscus\", \"Large hibiscuses\", \"Small hibiscus\", \"Small hibiscuses\", \"Medium hibiscus\", \"Medium hibiscuses\", \"Flower hibiscus\"],\n",
    "    \"hydrangeas\": [\"hydrangeas\", \"hydrangea\", \"Large hydrangeas\", \"Large hydrangea\", \"Small hydrangeas\", \"Small hydrangea\", \"Medium hydrangeas\", \"Medium hydrangea\", \"Flower hydrangeas\"],\n",
    "    \"lilies\": [\"lilies\", \"lily\", \"Large lilies\", \"Large lily\", \"Small lilies\", \"Small lily\", \"Medium lilies\", \"Medium lily\", \"Flower lilies\"],\n",
    "    \"orchids\": [\"orchids\", \"orchid\", \"Large orchids\", \"Large orchid\", \"Small orchids\", \"Small orchid\", \"Medium orchids\", \"Medium orchid\", \"Flower orchids\"],\n",
    "    \"peonies\": [\"peonies\", \"peony\", \"Large peonies\", \"Large peony\", \"Small peonies\", \"Small peony\", \"Medium peonies\", \"Medium peony\", \"Flower peonies\"],\n",
    "    \"tulip\": [\"tulip\", \"tulips\", \"Large tulip\", \"Large tulips\", \"Small tulip\", \"Small tulips\", \"Medium tulip\", \"Medium tulips\", \"Flower tulip\"]\n",
    "}\n",
    "\n",
    "# bougainvillea, bougainvilleas, Large bougainvillea, Large bougainvilleas, Small bougainvillea, Small bougainvilleas, Medium bougainvillea, Medium bougainvilleas, Flower bougainvillea, daisies, daisy, Large daisies, Large daisy, Small daisies, Small daisy, Medium daisies, Medium daisy, Flower daisies, garden_roses, garden rose, Large garden roses, Large garden rose, Small garden roses, Small garden rose, Medium garden roses, Medium garden rose, Flower garden roses, gardenias, gardenia, Large gardenias, Large gardenia, Small gardenias, Small gardenia, Medium gardenias, Medium gardenia, Flower gardenias, hibiscus, hibiscuses, Large hibiscus, Large hibiscuses, Small hibiscus, Small hibiscuses, Medium hibiscus, Medium hibiscuses, Flower hibiscus, hydrangeas, hydrangea, Large hydrangeas, Large hydrangea, Small hydrangeas, Small hydrangea, Medium hydrangeas, Medium hydrangea, Flower hydrangeas, lilies, lily, Large lilies, Large lily, Small lilies, Small lily, Medium lilies, Medium lily, Flower lilies, orchids, orchid, Large orchids, Large orchid, Small orchids, Small orchid, Medium orchids, Medium orchid, Flower orchids, peonies, peony, Large peonies, Large peony, Small peonies, Small peony, Medium peonies, Medium peony, Flower peonies, tulip, tulips, Large tulip, Large tulips, Small tulip, Small tulips, Medium tulip, Medium tulips, Flower tulip\n",
    "\n",
    "# dict_size(fl90)\n",
    "print(flowers_accuracy(\"WithoutIP/flowers10/f90.csv\", fl90))\n"
   ]
  },
  {
   "cell_type": "code",
   "execution_count": 418,
   "metadata": {},
   "outputs": [
    {
     "name": "stdout",
     "output_type": "stream",
     "text": [
      "95.23\n",
      "95.23\n"
     ]
    }
   ],
   "source": [
    "fl100 = {\n",
    "    \"bougainvillea\": [\"bougainvillea\", \"bougainvilleas\", \"Large bougainvillea\", \"Large bougainvilleas\", \"Small bougainvillea\", \"Small bougainvilleas\", \"Medium bougainvillea\", \"Medium bougainvilleas\", \"Flower bougainvillea\", \"Flower bougainvilleas\"],\n",
    "    \"daisies\": [\"daisies\", \"daisy\", \"Large daisies\", \"Large daisy\", \"Small daisies\", \"Small daisy\", \"Medium daisies\", \"Medium daisy\", \"Flower daisies\", \"Flower daisy\"],\n",
    "    \"garden_roses\": [\"garden roses\", \"garden rose\", \"Large garden roses\", \"Large garden rose\", \"Small garden roses\", \"Small garden rose\", \"Medium garden roses\", \"Medium garden rose\", \"Flower garden roses\", \"Flower garden rose\"],\n",
    "    \"gardenias\": [\"gardenias\", \"gardenia\", \"Large gardenias\", \"Large gardenia\", \"Small gardenias\", \"Small gardenia\", \"Medium gardenias\", \"Medium gardenia\", \"Flower gardenias\", \"Flower gardenia\"],\n",
    "    \"hibiscus\": [\"hibiscus\", \"hibiscuses\", \"Large hibiscus\", \"Large hibiscuses\", \"Small hibiscus\", \"Small hibiscuses\", \"Medium hibiscus\", \"Medium hibiscuses\", \"Flower hibiscus\", \"Flower hibiscuses\"],\n",
    "    \"hydrangeas\": [\"hydrangeas\", \"hydrangea\", \"Large hydrangeas\", \"Large hydrangea\", \"Small hydrangeas\", \"Small hydrangea\", \"Medium hydrangeas\", \"Medium hydrangea\", \"Flower hydrangeas\", \"Flower hydrangea\"],\n",
    "    \"lilies\": [\"lilies\", \"lily\", \"Large lilies\", \"Large lily\", \"Small lilies\", \"Small lily\", \"Medium lilies\", \"Medium lily\", \"Flower lilies\", \"Flower lily\"],\n",
    "    \"orchids\": [\"orchids\", \"orchid\", \"Large orchids\", \"Large orchid\", \"Small orchids\", \"Small orchid\", \"Medium orchids\", \"Medium orchid\", \"Flower orchids\", \"Flower orchid\"],\n",
    "    \"peonies\": [\"peonies\", \"peony\", \"Large peonies\", \"Large peony\", \"Small peonies\", \"Small peony\", \"Medium peonies\", \"Medium peony\", \"Flower peonies\", \"Flower peony\"],\n",
    "    \"tulip\": [\"tulip\", \"tulips\", \"Large tulip\", \"Large tulips\", \"Small tulip\", \"Small tulips\", \"Medium tulip\", \"Medium tulips\", \"Flower tulip\", \"Flower tulips\"]\n",
    "}\n",
    "\n",
    "# bougainvillea, bougainvilleas, Large bougainvillea, Large bougainvilleas, Small bougainvillea, Small bougainvilleas, Medium bougainvillea, Medium bougainvilleas, Flower bougainvillea, Flower bougainvilleas, daisies, daisy, Large daisies, Large daisy, Small daisies, Small daisy, Medium daisies, Medium daisy, Flower daisies, Flower daisy, garden_roses, garden rose, Large garden roses, Large garden rose, Small garden roses, Small garden rose, Medium garden roses, Medium garden rose, Flower garden roses, Flower garden rose, gardenias, gardenia, Large gardenias, Large gardenia, Small gardenias, Small gardenia, Medium gardenias, Medium gardenia, Flower gardenias, Flower gardenia, hibiscus, hibiscuses, Large hibiscus, Large hibiscuses, Small hibiscus, Small hibiscuses, Medium hibiscus, Medium hibiscuses, Flower hibiscus, Flower hibiscuses, hydrangeas, hydrangea, Large hydrangeas, Large hydrangea, Small hydrangeas, Small hydrangea, Medium hydrangeas, Medium hydrangea, Flower hydrangeas, Flower hydrangea, lilies, lily, Large lilies, Large lily, Small lilies, Small lily, Medium lilies, Medium lily, Flower lilies, Flower lily, orchids, orchid, Large orchids, Large orchid, Small orchids, Small orchid, Medium orchids, Medium orchid, Flower orchids, Flower orchid, peonies, peony, Large peonies, Large peony, Small peonies, Small peony, Medium peonies, Medium peony, Flower peonies, Flower peony, tulip, tulips, Large tulip, Large tulips, Small tulip, Small tulips, Medium tulip, Medium tulips, Flower tulip, Flower tulips\n",
    "\n",
    "# dict_size(fl100)\n",
    "print(flowers_accuracy(\"WithoutIP/flowers10/f100.csv\", fl100))\n"
   ]
  },
  {
   "cell_type": "code",
   "execution_count": null,
   "metadata": {},
   "outputs": [],
   "source": [
    "fl110 = {\n",
    "    \"bougainvillea\": [\"bougainvillea\", \"bougainvilleas\", \"Large bougainvillea\", \"Large bougainvilleas\", \"Small bougainvillea\", \"Small bougainvilleas\", \"Medium bougainvillea\", \"Medium bougainvilleas\", \"Flower bougainvillea\", \"Flower bougainvilleas\", \"Wild bougainvillea\"],\n",
    "    \"daisies\": [\"daisies\", \"daisy\", \"Large daisies\", \"Large daisy\", \"Small daisies\", \"Small daisy\", \"Medium daisies\", \"Medium daisy\", \"Flower daisies\", \"Flower daisy\", \"Wild daisies\"],\n",
    "    \"garden_roses\": [\"garden roses\", \"garden rose\", \"Large garden roses\", \"Large garden rose\", \"Small garden roses\", \"Small garden rose\", \"Medium garden roses\", \"Medium garden rose\", \"Flower garden roses\", \"Flower garden rose\", \"Wild garden roses\"],\n",
    "    \"gardenias\": [\"gardenias\", \"gardenia\", \"Large gardenias\", \"Large gardenia\", \"Small gardenias\", \"Small gardenia\", \"Medium gardenias\", \"Medium gardenia\", \"Flower gardenias\", \"Flower gardenia\", \"Wild gardenias\"],\n",
    "    \"hibiscus\": [\"hibiscus\", \"hibiscuses\", \"Large hibiscus\", \"Large hibiscuses\", \"Small hibiscus\", \"Small hibiscuses\", \"Medium hibiscus\", \"Medium hibiscuses\", \"Flower hibiscus\", \"Flower hibiscuses\", \"Wild hibiscus\"],\n",
    "    \"hydrangeas\": [\"hydrangeas\", \"hydrangea\", \"Large hydrangeas\", \"Large hydrangea\", \"Small hydrangeas\", \"Small hydrangea\", \"Medium hydrangeas\", \"Medium hydrangea\", \"Flower hydrangeas\", \"Flower hydrangea\", \"Wild hydrangeas\"],\n",
    "    \"lilies\": [\"lilies\", \"lily\", \"Large lilies\", \"Large lily\", \"Small lilies\", \"Small lily\", \"Medium lilies\", \"Medium lily\", \"Flower lilies\", \"Flower lily\", \"Wild lilies\"],\n",
    "    \"orchids\": [\"orchids\", \"orchid\", \"Large orchids\", \"Large orchid\", \"Small orchids\", \"Small orchid\", \"Medium orchids\", \"Medium orchid\", \"Flower orchids\", \"Flower orchid\", \"Wild orchids\"],\n",
    "    \"peonies\": [\"peonies\", \"peony\", \"Large peonies\", \"Large peony\", \"Small peonies\", \"Small peony\", \"Medium peonies\", \"Medium peony\", \"Flower peonies\", \"Flower peony\", \"Wild peonies\"],\n",
    "    \"tulip\": [\"tulip\", \"tulips\", \"Large tulip\", \"Large tulips\", \"Small tulip\", \"Small tulips\", \"Medium tulip\", \"Medium tulips\", \"Flower tulip\", \"Flower tulips\", \"Wild tulip\"]\n",
    "}\n",
    "\n",
    "# bougainvillea, bougainvilleas, Large bougainvillea, Large bougainvilleas, Small bougainvillea, Small bougainvilleas, Medium bougainvillea, Medium bougainvilleas, Flower bougainvillea, Flower bougainvilleas, Wild bougainvillea, daisies, daisy, Large daisies, Large daisy, Small daisies, Small daisy, Medium daisies, Medium daisy, Flower daisies, Flower daisy, Wild daisies, garden_roses, garden rose, Large garden roses, Large garden rose, Small garden roses, Small garden rose, Medium garden roses, Medium garden rose, Flower garden roses, Flower garden rose, Wild garden roses, gardenias, gardenia, Large gardenias, Large gardenia, Small gardenias, Small gardenia, Medium gardenias, Medium gardenia, Flower gardenias, Flower gardenia, Wild gardenias, hibiscus, hibiscuses, Large hibiscus, Large hibiscuses, Small hibiscus, Small hibiscuses, Medium hibiscus, Medium hibiscuses, Flower hibiscus, Flower hibiscuses, Wild hibiscus, hydrangeas, hydrangea, Large hydrangeas, Large hydrangea, Small hydrangeas, Small hydrangea, Medium hydrangeas, Medium hydrangea, Flower hydrangeas, Flower hydrangea, Wild hydrangeas, lilies, lily, Large lilies, Large lily, Small lilies, Small lily, Medium lilies, Medium lily, Flower lilies, Flower lily, Wild lilies, orchids, orchid, Large orchids, Large orchid, Small orchids, Small orchid, Medium orchids, Medium orchid, Flower orchids, Flower orchid, Wild orchids, peonies, peony, Large peonies, Large peony, Small peonies, Small peony, Medium peonies, Medium peony, Flower peonies, Flower peony, Wild peonies, tulip, tulips, Large tulip, Large tulips, Small tulip, Small tulips, Medium tulip, Medium tulips, Flower tulip, Flower tulips, Wild tulip\n",
    "\n",
    "# dict_size(fl110)\n",
    "print(flowers_accuracy(\"WithoutIP/flowers10/fl110.csv\", fl110))\n"
   ]
  },
  {
   "cell_type": "code",
   "execution_count": null,
   "metadata": {},
   "outputs": [],
   "source": [
    "fl120 = {\n",
    "    \"bougainvillea\": [\"bougainvillea\", \"bougainvilleas\", \"Large bougainvillea\", \"Large bougainvilleas\", \"Small bougainvillea\", \"Small bougainvilleas\", \"Medium bougainvillea\", \"Medium bougainvilleas\", \"Flower bougainvillea\", \"Flower bougainvilleas\", \"Wild bougainvillea\", \"Wild bougainvilleas\"],\n",
    "    \"daisies\": [\"daisies\", \"daisy\", \"Large daisies\", \"Large daisy\", \"Small daisies\", \"Small daisy\", \"Medium daisies\", \"Medium daisy\", \"Flower daisies\", \"Flower daisy\", \"Wild daisies\", \"Wild daisy\"],\n",
    "    \"garden_roses\": [\"garden roses\", \"garden rose\", \"Large garden roses\", \"Large garden rose\", \"Small garden roses\", \"Small garden rose\", \"Medium garden roses\", \"Medium garden rose\", \"Flower garden roses\", \"Flower garden rose\", \"Wild garden roses\", \"Wild garden rose\"],\n",
    "    \"gardenias\": [\"gardenias\", \"gardenia\", \"Large gardenias\", \"Large gardenia\", \"Small gardenias\", \"Small gardenia\", \"Medium gardenias\", \"Medium gardenia\", \"Flower gardenias\", \"Flower gardenia\", \"Wild gardenias\", \"Wild gardenia\"],\n",
    "    \"hibiscus\": [\"hibiscus\", \"hibiscuses\", \"Large hibiscus\", \"Large hibiscuses\", \"Small hibiscus\", \"Small hibiscuses\", \"Medium hibiscus\", \"Medium hibiscuses\", \"Flower hibiscus\", \"Flower hibiscuses\", \"Wild hibiscus\", \"Wild hibiscuses\"],\n",
    "    \"hydrangeas\": [\"hydrangeas\", \"hydrangea\", \"Large hydrangeas\", \"Large hydrangea\", \"Small hydrangeas\", \"Small hydrangea\", \"Medium hydrangeas\", \"Medium hydrangea\", \"Flower hydrangeas\", \"Flower hydrangea\", \"Wild hydrangeas\", \"Wild hydrangea\"],\n",
    "    \"lilies\": [\"lilies\", \"lily\", \"Large lilies\", \"Large lily\", \"Small lilies\", \"Small lily\", \"Medium lilies\", \"Medium lily\", \"Flower lilies\", \"Flower lily\", \"Wild lilies\", \"Wild lily\"],\n",
    "    \"orchids\": [\"orchids\", \"orchid\", \"Large orchids\", \"Large orchid\", \"Small orchids\", \"Small orchid\", \"Medium orchids\", \"Medium orchid\", \"Flower orchids\", \"Flower orchid\", \"Wild orchids\", \"Wild orchid\"],\n",
    "    \"peonies\": [\"peonies\", \"peony\", \"Large peonies\", \"Large peony\", \"Small peonies\", \"Small peony\", \"Medium peonies\", \"Medium peony\", \"Flower peonies\", \"Flower peony\", \"Wild peonies\", \"Wild peony\"],\n",
    "    \"tulip\": [\"tulip\", \"tulips\", \"Large tulip\", \"Large tulips\", \"Small tulip\", \"Small tulips\", \"Medium tulip\", \"Medium tulips\", \"Flower tulip\", \"Flower tulips\", \"Wild tulip\", \"Wild tulips\"]\n",
    "}\n",
    "\n",
    "# bougainvillea, bougainvilleas, Large bougainvillea, Large bougainvilleas, Small bougainvillea, Small bougainvilleas, Medium bougainvillea, Medium bougainvilleas, Flower bougainvillea, Flower bougainvilleas, Wild bougainvillea, Wild bougainvilleas, daisies, daisy, Large daisies, Large daisy, Small daisies, Small daisy, Medium daisies, Medium daisy, Flower daisies, Flower daisy, Wild daisies, Wild daisy, garden_roses, garden rose, Large garden roses, Large garden rose, Small garden roses, Small garden rose, Medium garden roses, Medium garden rose, Flower garden roses, Flower garden rose, Wild garden roses, Wild garden rose, gardenias, gardenia, Large gardenias, Large gardenia, Small gardenias, Small gardenia, Medium gardenias, Medium gardenia, Flower gardenias, Flower gardenia, Wild gardenias, Wild gardenia, hibiscus, hibiscuses, Large hibiscus, Large hibiscuses, Small hibiscus, Small hibiscuses, Medium hibiscus, Medium hibiscuses, Flower hibiscus, Flower hibiscuses, Wild hibiscus, Wild hibiscuses, hydrangeas, hydrangea, Large hydrangeas, Large hydrangea, Small hydrangeas, Small hydrangea, Medium hydrangeas, Medium hydrangea, Flower hydrangeas, Flower hydrangea, Wild hydrangeas, Wild hydrangea, lilies, lily, Large lilies, Large lily, Small lilies, Small lily, Medium lilies, Medium lily, Flower lilies, Flower lily, Wild lilies, Wild lily, orchids, orchid, Large orchids, Large orchid, Small orchids, Small orchid, Medium orchids, Medium orchid, Flower orchids, Flower orchid, Wild orchids, Wild orchid, peonies, peony, Large peonies, Large peony, Small peonies, Small peony, Medium peonies, Medium peony, Flower peonies, Flower peony, Wild peonies, Wild peony, tulip, tulips, Large tulip, Large tulips, Small tulip, Small tulips, Medium tulip, Medium tulips, Flower tulip, Flower tulips, Wild tulip, Wild tulips\n",
    "\n",
    "# dict_size(fl120)\n",
    "print(flowers_accuracy(\"WithoutIP/flowers10/fl120.csv\", fl120))\n"
   ]
  },
  {
   "cell_type": "code",
   "execution_count": null,
   "metadata": {},
   "outputs": [],
   "source": [
    "fl130 = {\n",
    "    \"bougainvillea\": [\"bougainvillea\", \"bougainvilleas\", \"Large bougainvillea\", \"Large bougainvilleas\", \"Small bougainvillea\", \"Small bougainvilleas\", \"Medium bougainvillea\", \"Medium bougainvilleas\", \"Flower bougainvillea\", \"Flower bougainvilleas\", \"Wild bougainvillea\", \"Tiny bougainvillea\"],\n",
    "    \"daisies\": [\"daisies\", \"daisy\", \"Large daisies\", \"Large daisy\", \"Small daisies\", \"Small daisy\", \"Medium daisies\", \"Medium daisy\", \"Flower daisies\", \"Flower daisy\", \"Wild daisies\", \"Tiny daisies\"],\n",
    "    \"garden_roses\": [\"garden roses\", \"garden rose\", \"Large garden roses\", \"Large garden rose\", \"Small garden roses\", \"Small garden rose\", \"Medium garden roses\", \"Medium garden rose\", \"Flower garden roses\", \"Flower garden rose\", \"Wild garden roses\", \"Tiny garden roses\"],\n",
    "    \"gardenias\": [\"gardenias\", \"gardenia\", \"Large gardenias\", \"Large gardenia\", \"Small gardenias\", \"Small gardenia\", \"Medium gardenias\", \"Medium gardenia\", \"Flower gardenias\", \"Flower gardenia\", \"Wild gardenias\", \"Tiny gardenias\"],\n",
    "    \"hibiscus\": [\"hibiscus\", \"hibiscuses\", \"Large hibiscus\", \"Large hibiscuses\", \"Small hibiscus\", \"Small hibiscuses\", \"Medium hibiscus\", \"Medium hibiscuses\", \"Flower hibiscus\", \"Flower hibiscuses\", \"Wild hibiscus\", \"Tiny hibiscus\"],\n",
    "    \"hydrangeas\": [\"hydrangeas\", \"hydrangea\", \"Large hydrangeas\", \"Large hydrangea\", \"Small hydrangeas\", \"Small hydrangea\", \"Medium hydrangeas\", \"Medium hydrangea\", \"Flower hydrangeas\", \"Flower hydrangea\", \"Wild hydrangeas\", \"Tiny hydrangeas\"],\n",
    "    \"lilies\": [\"lilies\", \"lily\", \"Large lilies\", \"Large lily\", \"Small lilies\", \"Small lily\", \"Medium lilies\", \"Medium lily\", \"Flower lilies\", \"Flower lily\", \"Wild lilies\", \"Tiny lilies\"],\n",
    "    \"orchids\": [\"orchids\", \"orchid\", \"Large orchids\", \"Large orchid\", \"Small orchids\", \"Small orchid\", \"Medium orchids\", \"Medium orchid\", \"Flower orchids\", \"Flower orchid\", \"Wild orchids\", \"Tiny orchids\"],\n",
    "    \"peonies\": [\"peonies\", \"peony\", \"Large peonies\", \"Large peony\", \"Small peonies\", \"Small peony\", \"Medium peonies\", \"Medium peony\", \"Flower peonies\", \"Flower peony\", \"Wild peonies\", \"Tiny peonies\"],\n",
    "    \"tulip\": [\"tulip\", \"tulips\", \"Large tulip\", \"Large tulips\", \"Small tulip\", \"Small tulips\", \"Medium tulip\", \"Medium tulips\", \"Flower tulip\", \"Flower tulips\", \"Wild tulip\", \"Tiny tulip\"]\n",
    "}\n",
    "\n",
    "# bougainvillea, bougainvilleas, Large bougainvillea, Large bougainvilleas, Small bougainvillea, Small bougainvilleas, Medium bougainvillea, Medium bougainvilleas, Flower bougainvillea, Flower bougainvilleas, Wild bougainvillea, Tiny bougainvillea, daisies, daisy, Large daisies, Large daisy, Small daisies, Small daisy, Medium daisies, Medium daisy, Flower daisies, Flower daisy, Wild daisies, Tiny daisies, garden_roses, garden rose, Large garden roses, Large garden rose, Small garden roses, Small garden rose, Medium garden roses, Medium garden rose, Flower garden roses, Flower garden rose, Wild garden roses, Tiny garden roses, gardenias, gardenia, Large gardenias, Large gardenia, Small gardenias, Small gardenia, Medium gardenias, Medium gardenia, Flower gardenias, Flower gardenia, Wild gardenias, Tiny gardenias, hibiscus, hibiscuses, Large hibiscus, Large hibiscuses, Small hibiscus, Small hibiscuses, Medium hibiscus, Medium hibiscuses, Flower hibiscus, Flower hibiscuses, Wild hibiscus, Tiny hibiscus, hydrangeas, hydrangea, Large hydrangeas, Large hydrangea, Small hydrangeas, Small hydrangea, Medium hydrangeas, Medium hydrangea, Flower hydrangeas, Flower hydrangea, Wild hydrangeas, Tiny hydrangeas, lilies, lily, Large lilies, Large lily, Small lilies, Small lily, Medium lilies, Medium lily, Flower lilies, Flower lily, Wild lilies, Tiny lilies, orchids, orchid, Large orchids, Large orchid, Small orchids, Small orchid, Medium orchids, Medium orchid, Flower orchids, Flower orchid, Wild orchids, Tiny orchids, peonies, peony, Large peonies, Large peony, Small peonies, Small peony, Medium peonies, Medium peony, Flower peonies, Flower peony, Wild peonies, Tiny peonies, tulip, tulips, Large tulip, Large tulips, Small tulip, Small tulips, Medium tulip, Medium tulips, Flower tulip, Flower tulips, Wild tulip, Tiny tulip\n",
    "\n",
    "# dict_size(fl130)\n",
    "print(flowers_accuracy(\"WithoutIP/flowers10/fl130.csv\", fl130))\n"
   ]
  },
  {
   "cell_type": "code",
   "execution_count": null,
   "metadata": {},
   "outputs": [],
   "source": [
    "fl140 = {\n",
    "    \"bougainvillea\": [\"bougainvillea\", \"bougainvilleas\", \"Large bougainvillea\", \"Large bougainvilleas\", \"Small bougainvillea\", \"Small bougainvilleas\", \"Medium bougainvillea\", \"Medium bougainvilleas\", \"Flower bougainvillea\", \"Flower bougainvilleas\", \"Wild bougainvillea\", \"Tiny bougainvillea\", \"Tiny bougainvilleas\"],\n",
    "    \"daisies\": [\"daisies\", \"daisy\", \"Large daisies\", \"Large daisy\", \"Small daisies\", \"Small daisy\", \"Medium daisies\", \"Medium daisy\", \"Flower daisies\", \"Flower daisy\", \"Wild daisies\", \"Tiny daisies\", \"Tiny daisy\"],\n",
    "    \"garden_roses\": [\"garden roses\", \"garden rose\", \"Large garden roses\", \"Large garden rose\", \"Small garden roses\", \"Small garden rose\", \"Medium garden roses\", \"Medium garden rose\", \"Flower garden roses\", \"Flower garden rose\", \"Wild garden roses\", \"Tiny garden roses\", \"Tiny garden rose\"],\n",
    "    \"gardenias\": [\"gardenias\", \"gardenia\", \"Large gardenias\", \"Large gardenia\", \"Small gardenias\", \"Small gardenia\", \"Medium gardenias\", \"Medium gardenia\", \"Flower gardenias\", \"Flower gardenia\", \"Wild gardenias\", \"Tiny gardenias\", \"Tiny gardenia\"],\n",
    "    \"hibiscus\": [\"hibiscus\", \"hibiscuses\", \"Large hibiscus\", \"Large hibiscuses\", \"Small hibiscus\", \"Small hibiscuses\", \"Medium hibiscus\", \"Medium hibiscuses\", \"Flower hibiscus\", \"Flower hibiscuses\", \"Wild hibiscus\", \"Tiny hibiscus\", \"Tiny hibiscuses\"],\n",
    "    \"hydrangeas\": [\"hydrangeas\", \"hydrangea\", \"Large hydrangeas\", \"Large hydrangea\", \"Small hydrangeas\", \"Small hydrangea\", \"Medium hydrangeas\", \"Medium hydrangea\", \"Flower hydrangeas\", \"Flower hydrangea\", \"Wild hydrangeas\", \"Tiny hydrangeas\", \"Tiny hydrangea\"],\n",
    "    \"lilies\": [\"lilies\", \"lily\", \"Large lilies\", \"Large lily\", \"Small lilies\", \"Small lily\", \"Medium lilies\", \"Medium lily\", \"Flower lilies\", \"Flower lily\", \"Wild lilies\", \"Tiny lilies\", \"Tiny lily\"],\n",
    "    \"orchids\": [\"orchids\", \"orchid\", \"Large orchids\", \"Large orchid\", \"Small orchids\", \"Small orchid\", \"Medium orchids\", \"Medium orchid\", \"Flower orchids\", \"Flower orchid\", \"Wild orchids\", \"Tiny orchids\", \"Tiny orchid\"],\n",
    "    \"peonies\": [\"peonies\", \"peony\", \"Large peonies\", \"Large peony\", \"Small peonies\", \"Small peony\", \"Medium peonies\", \"Medium peony\", \"Flower peonies\", \"Flower peony\", \"Wild peonies\", \"Tiny peonies\", \"Tiny peony\"],\n",
    "    \"tulip\": [\"tulip\", \"tulips\", \"Large tulip\", \"Large tulips\", \"Small tulip\", \"Small tulips\", \"Medium tulip\", \"Medium tulips\", \"Flower tulip\", \"Flower tulips\", \"Wild tulip\", \"Tiny tulip\", \"Tiny tulips\"]\n",
    "}\n",
    "\n",
    "# bougainvillea, bougainvilleas, Large bougainvillea, Large bougainvilleas, Small bougainvillea, Small bougainvilleas, Medium bougainvillea, Medium bougainvilleas, Flower bougainvillea, Flower bougainvilleas, Wild bougainvillea, Tiny bougainvillea, Tiny bougainvilleas, daisies, daisy, Large daisies, Large daisy, Small daisies, Small daisy, Medium daisies, Medium daisy, Flower daisies, Flower daisy, Wild daisies, Tiny daisies, Tiny daisy, garden_roses, garden rose, Large garden roses, Large garden rose, Small garden roses, Small garden rose, Medium garden roses, Medium garden rose, Flower garden roses, Flower garden rose, Wild garden roses, Tiny garden roses, Tiny garden rose, gardenias, gardenia, Large gardenias, Large gardenia, Small gardenias, Small gardenia, Medium gardenias, Medium gardenia, Flower gardenias, Flower gardenia, Wild gardenias, Tiny gardenias, Tiny gardenia, hibiscus, hibiscuses, Large hibiscus, Large hibiscuses, Small hibiscus, Small hibiscuses, Medium hibiscus, Medium hibiscuses, Flower hibiscus, Flower hibiscuses, Wild hibiscus, Tiny hibiscus, Tiny hibiscuses, hydrangeas, hydrangea, Large hydrangeas, Large hydrangea, Small hydrangeas, Small hydrangea, Medium hydrangeas, Medium hydrangea, Flower hydrangeas, Flower hydrangea, Wild hydrangeas, Tiny hydrangeas, Tiny hydrangea, lilies, lily, Large lilies, Large lily, Small lilies, Small lily, Medium lilies, Medium lily, Flower lilies, Flower lily, Wild lilies, Tiny lilies, Tiny lily, orchids, orchid, Large orchids, Large orchid, Small orchids, Small orchid, Medium orchids, Medium orchid, Flower orchids, Flower orchid, Wild orchids, Tiny orchids, Tiny orchid, peonies, peony, Large peonies, Large peony, Small peonies, Small peony, Medium peonies, Medium peony, Flower peonies, Flower peony, Wild peonies, Tiny peonies, Tiny peony, tulip, tulips, Large tulip, Large tulips, Small tulip, Small tulips, Medium tulip, Medium tulips, Flower tulip, Flower tulips, Wild tulip, Tiny tulip, Tiny tulips\n",
    "\n",
    "# dict_size(fl140)\n",
    "print(flowers_accuracy(\"WithoutIP/flowers10/fl140.csv\", fl140))\n"
   ]
  },
  {
   "cell_type": "markdown",
   "metadata": {},
   "source": [
    "## Fruits 10"
   ]
  },
  {
   "cell_type": "code",
   "execution_count": 419,
   "metadata": {},
   "outputs": [
    {
     "name": "stdout",
     "output_type": "stream",
     "text": [
      "10\n",
      "82.9\n",
      "82.9\n"
     ]
    }
   ],
   "source": [
    "fr10 = {\n",
    "    \"Apple\" : [\"Apple\"],\n",
    "    \"Orange\" : [\"Orange\"],\n",
    "    \"Avocado\" : [\"Avocado\"],\n",
    "    \"Kiwi\" : [\"Kiwi\"],\n",
    "    \"Mango\" : [\"Mango\"],\n",
    "    \"Pineapple\" : [\"Pineapple\"],\n",
    "    \"strawberries\" : [\"strawberries\"],\n",
    "    \"Banana\" : [\"Banana\"],\n",
    "    \"Cherry\" : [\"Cherry\"],\n",
    "    \"Watermelon\" : [\"Watermelon\"]\n",
    "}\n",
    "\n",
    "# Apple, Orange, Avocado, Kiwi, Mango, Pineapple, strawberries, Banana, Cherry, Watermelon\n",
    "\n",
    "dict_size(fr10)\n",
    "print(aOcheck_accuracy(\"WithoutIP/fruits10/fr10.csv\", fr10))"
   ]
  },
  {
   "cell_type": "code",
   "execution_count": 420,
   "metadata": {},
   "outputs": [
    {
     "name": "stdout",
     "output_type": "stream",
     "text": [
      "82.72\n",
      "82.72\n"
     ]
    }
   ],
   "source": [
    "fr20 = {\n",
    "    \"Apple\": [\"Apple\", \"Apples\"],\n",
    "    \"Orange\": [\"Orange\", \"Oranges\"],\n",
    "    \"Avocado\": [\"Avocado\", \"Avocados\"],\n",
    "    \"Kiwi\": [\"Kiwi\", \"Kiwis\"],\n",
    "    \"Mango\": [\"Mango\", \"Mangoes\"],\n",
    "    \"Pineapple\": [\"Pineapple\", \"Pineapples\"],\n",
    "    \"strawberries\": [\"strawberries\", \"strawberry\"],\n",
    "    \"Banana\": [\"Banana\", \"Bananas\"],\n",
    "    \"Cherry\": [\"Cherry\", \"Cherries\"],\n",
    "    \"Watermelon\": [\"Watermelon\", \"Watermelons\"]\n",
    "}\n",
    "\n",
    "# Apple, Apples, Orange, Oranges, Avocado, Avocados, Kiwi, Kiwis, Mango, Mangoes, Pineapple, Pineapples, strawberries, strawberry, Banana, Bananas, Cherry, Cherries, Watermelon, Watermelons\n",
    "\n",
    "# dict_size(fr20)\n",
    "print(aOcheck_accuracy(\"WithoutIP/fruits10/fr20.csv\", fr20))\n"
   ]
  },
  {
   "cell_type": "code",
   "execution_count": 421,
   "metadata": {},
   "outputs": [
    {
     "name": "stdout",
     "output_type": "stream",
     "text": [
      "82.99\n",
      "82.99\n"
     ]
    }
   ],
   "source": [
    "fr30 = {\n",
    "    \"Apple\": [\"Apple\", \"Apples\", \"Large Apple\"],\n",
    "    \"Orange\": [\"Orange\", \"Oranges\", \"Large Orange\"],\n",
    "    \"Avocado\": [\"Avocado\", \"Avocados\", \"Large Avocado\"],\n",
    "    \"Kiwi\": [\"Kiwi\", \"Kiwis\", \"Large Kiwi\"],\n",
    "    \"Mango\": [\"Mango\", \"Mangoes\", \"Large Mango\"],\n",
    "    \"Pineapple\": [\"Pineapple\", \"Pineapples\", \"Large Pineapple\"],\n",
    "    \"strawberries\": [\"strawberries\", \"strawberry\", \"Large strawberries\"],\n",
    "    \"Banana\": [\"Banana\", \"Bananas\", \"Large Banana\"],\n",
    "    \"Cherry\": [\"Cherry\", \"Cherries\", \"Large Cherry\"],\n",
    "    \"Watermelon\": [\"Watermelon\", \"Watermelons\", \"Large Watermelon\"]\n",
    "}\n",
    "\n",
    "# Apple, Apples, Large Apple, Orange, Oranges, Large Orange, Avocado, Avocados, Large Avocado, Kiwi, Kiwis, Large Kiwi, Mango, Mangoes, Large Mango, Pineapple, Pineapples, Large Pineapple, strawberries, strawberry, Large strawberries, Banana, Bananas, Large Banana, Cherry, Cherries, Large Cherry, Watermelon, Watermelons, Large Watermelon\n",
    "\n",
    "# dict_size(fr30)\n",
    "print(aOcheck_accuracy(\"WithoutIP/fruits10/fr30.csv\", fr30))\n"
   ]
  },
  {
   "cell_type": "code",
   "execution_count": 422,
   "metadata": {},
   "outputs": [
    {
     "name": "stdout",
     "output_type": "stream",
     "text": [
      "83.17\n",
      "83.17\n"
     ]
    }
   ],
   "source": [
    "fr40 = {\n",
    "    \"Apple\": [\"Apple\", \"Apples\", \"Large Apple\", \"Large Apples\"],\n",
    "    \"Orange\": [\"Orange\", \"Oranges\", \"Large Orange\", \"Large Oranges\"],\n",
    "    \"Avocado\": [\"Avocado\", \"Avocados\", \"Large Avocado\", \"Large Avocados\"],\n",
    "    \"Kiwi\": [\"Kiwi\", \"Kiwis\", \"Large Kiwi\", \"Large Kiwis\"],\n",
    "    \"Mango\": [\"Mango\", \"Mangoes\", \"Large Mango\", \"Large Mangoes\"],\n",
    "    \"Pineapple\": [\"Pineapple\", \"Pineapples\", \"Large Pineapple\", \"Large Pineapples\"],\n",
    "    \"strawberries\": [\"strawberries\", \"strawberry\", \"Large strawberries\", \"Large strawberry\"],\n",
    "    \"Banana\": [\"Banana\", \"Bananas\", \"Large Banana\", \"Large Bananas\"],\n",
    "    \"Cherry\": [\"Cherry\", \"Cherries\", \"Large Cherry\", \"Large Cherries\"],\n",
    "    \"Watermelon\": [\"Watermelon\", \"Watermelons\", \"Large Watermelon\", \"Large Watermelons\"]\n",
    "}\n",
    "\n",
    "# Apple, Apples, Large Apple, Large Apples, Orange, Oranges, Large Orange, Large Oranges, Avocado, Avocados, Large Avocado, Large Avocados, Kiwi, Kiwis, Large Kiwi, Large Kiwis, Mango, Mangoes, Large Mango, Large Mangoes, Pineapple, Pineapples, Large Pineapple, Large Pineapples, strawberries, strawberry, Large strawberries, Large strawberry, Banana, Bananas, Large Banana, Large Bananas, Cherry, Cherries, Large Cherry, Large Cherries, Watermelon, Watermelons, Large Watermelon, Large Watermelons\n",
    "\n",
    "# dict_size(fr40)\n",
    "print(aOcheck_accuracy(\"WithoutIP/fruits10/fr40.csv\", fr40))\n"
   ]
  },
  {
   "cell_type": "code",
   "execution_count": 423,
   "metadata": {},
   "outputs": [
    {
     "name": "stdout",
     "output_type": "stream",
     "text": [
      "83.26\n",
      "83.26\n"
     ]
    }
   ],
   "source": [
    "fr50 = {\n",
    "    \"Apple\": [\"Apple\", \"Apples\", \"Large Apple\", \"Large Apples\", \"Small Apple\"],\n",
    "    \"Orange\": [\"Orange\", \"Oranges\", \"Large Orange\", \"Large Oranges\", \"Small Orange\"],\n",
    "    \"Avocado\": [\"Avocado\", \"Avocados\", \"Large Avocado\", \"Large Avocados\", \"Small Avocado\"],\n",
    "    \"Kiwi\": [\"Kiwi\", \"Kiwis\", \"Large Kiwi\", \"Large Kiwis\", \"Small Kiwi\"],\n",
    "    \"Mango\": [\"Mango\", \"Mangoes\", \"Large Mango\", \"Large Mangoes\", \"Small Mango\"],\n",
    "    \"Pineapple\": [\"Pineapple\", \"Pineapples\", \"Large Pineapple\", \"Large Pineapples\", \"Small Pineapple\"],\n",
    "    \"strawberries\": [\"strawberries\", \"strawberry\", \"Large strawberries\", \"Large strawberry\", \"Small strawberries\"],\n",
    "    \"Banana\": [\"Banana\", \"Bananas\", \"Large Banana\", \"Large Bananas\", \"Small Banana\"],\n",
    "    \"Cherry\": [\"Cherry\", \"Cherries\", \"Large Cherry\", \"Large Cherries\", \"Small Cherry\"],\n",
    "    \"Watermelon\": [\"Watermelon\", \"Watermelons\", \"Large Watermelon\", \"Large Watermelons\", \"Small Watermelon\"]\n",
    "}\n",
    "\n",
    "# Apple, Apples, Large Apple, Large Apples, Small Apple, Orange, Oranges, Large Orange, Large Oranges, Small Orange, Avocado, Avocados, Large Avocado, Large Avocados, Small Avocado, Kiwi, Kiwis, Large Kiwi, Large Kiwis, Small Kiwi, Mango, Mangoes, Large Mango, Large Mangoes, Small Mango, Pineapple, Pineapples, Large Pineapple, Large Pineapples, Small Pineapple, strawberries, strawberry, Large strawberries, Large strawberry, Small strawberries, Banana, Bananas, Large Banana, Large Bananas, Small Banana, Cherry, Cherries, Large Cherry, Large Cherries, Small Cherry, Watermelon, Watermelons, Large Watermelon, Large Watermelons, Small Watermelon\n",
    "\n",
    "# dict_size(fr50)\n",
    "print(aOcheck_accuracy(\"WithoutIP/fruits10/fr50.csv\", fr50))\n"
   ]
  },
  {
   "cell_type": "code",
   "execution_count": 424,
   "metadata": {},
   "outputs": [
    {
     "name": "stdout",
     "output_type": "stream",
     "text": [
      "83.44\n",
      "83.44\n"
     ]
    }
   ],
   "source": [
    "fr60 = {\n",
    "    \"Apple\": [\"Apple\", \"Apples\", \"Large Apple\", \"Large Apples\", \"Small Apple\", \"Small Apples\"],\n",
    "    \"Orange\": [\"Orange\", \"Oranges\", \"Large Orange\", \"Large Oranges\", \"Small Orange\", \"Small Oranges\"],\n",
    "    \"Avocado\": [\"Avocado\", \"Avocados\", \"Large Avocado\", \"Large Avocados\", \"Small Avocado\", \"Small Avocados\"],\n",
    "    \"Kiwi\": [\"Kiwi\", \"Kiwis\", \"Large Kiwi\", \"Large Kiwis\", \"Small Kiwi\", \"Small Kiwis\"],\n",
    "    \"Mango\": [\"Mango\", \"Mangoes\", \"Large Mango\", \"Large Mangoes\", \"Small Mango\", \"Small Mangoes\"],\n",
    "    \"Pineapple\": [\"Pineapple\", \"Pineapples\", \"Large Pineapple\", \"Large Pineapples\", \"Small Pineapple\", \"Small Pineapples\"],\n",
    "    \"strawberries\": [\"strawberries\", \"strawberry\", \"Large strawberries\", \"Large strawberry\", \"Small strawberries\", \"Small strawberry\"],\n",
    "    \"Banana\": [\"Banana\", \"Bananas\", \"Large Banana\", \"Large Bananas\", \"Small Banana\", \"Small Bananas\"],\n",
    "    \"Cherry\": [\"Cherry\", \"Cherries\", \"Large Cherry\", \"Large Cherries\", \"Small Cherry\", \"Small Cherries\"],\n",
    "    \"Watermelon\": [\"Watermelon\", \"Watermelons\", \"Large Watermelon\", \"Large Watermelons\", \"Small Watermelon\", \"Small Watermelons\"]\n",
    "}\n",
    "\n",
    "# Apple, Apples, Large Apple, Large Apples, Small Apple, Small Apples, Orange, Oranges, Large Orange, Large Oranges, Small Orange, Small Oranges, Avocado, Avocados, Large Avocado, Large Avocados, Small Avocado, Small Avocados, Kiwi, Kiwis, Large Kiwi, Large Kiwis, Small Kiwi, Small Kiwis, Mango, Mangoes, Large Mango, Large Mangoes, Small Mango, Small Mangoes, Pineapple, Pineapples, Large Pineapple, Large Pineapples, Small Pineapple, Small Pineapples, strawberries, strawberry, Large strawberries, Large strawberry, Small strawberries, Small strawberry, Banana, Bananas, Large Banana, Large Bananas, Small Banana, Small Bananas, Cherry, Cherries, Large Cherry, Large Cherries, Small Cherry, Small Cherries, Watermelon, Watermelons, Large Watermelon, Large Watermelons, Small Watermelon, Small Watermelons\n",
    "\n",
    "# dict_size(fr60)\n",
    "print(aOcheck_accuracy(\"WithoutIP/fruits10/fr60.csv\", fr60))\n"
   ]
  },
  {
   "cell_type": "code",
   "execution_count": 425,
   "metadata": {},
   "outputs": [
    {
     "name": "stdout",
     "output_type": "stream",
     "text": [
      "83.41\n",
      "83.41\n"
     ]
    }
   ],
   "source": [
    "fr70 = {\n",
    "    \"Apple\": [\"Apple\", \"Apples\", \"Large Apple\", \"Large Apples\", \"Small Apple\", \"Small Apples\", \"Medium Apple\"],\n",
    "    \"Orange\": [\"Orange\", \"Oranges\", \"Large Orange\", \"Large Oranges\", \"Small Orange\", \"Small Oranges\", \"Medium Orange\"],\n",
    "    \"Avocado\": [\"Avocado\", \"Avocados\", \"Large Avocado\", \"Large Avocados\", \"Small Avocado\", \"Small Avocados\", \"Medium Avocado\"],\n",
    "    \"Kiwi\": [\"Kiwi\", \"Kiwis\", \"Large Kiwi\", \"Large Kiwis\", \"Small Kiwi\", \"Small Kiwis\", \"Medium Kiwi\"],\n",
    "    \"Mango\": [\"Mango\", \"Mangoes\", \"Large Mango\", \"Large Mangoes\", \"Small Mango\", \"Small Mangoes\", \"Medium Mango\"],\n",
    "    \"Pineapple\": [\"Pineapple\", \"Pineapples\", \"Large Pineapple\", \"Large Pineapples\", \"Small Pineapple\", \"Small Pineapples\", \"Medium Pineapple\"],\n",
    "    \"strawberries\": [\"strawberries\", \"strawberry\", \"Large strawberries\", \"Large strawberry\", \"Small strawberries\", \"Small strawberry\", \"Medium strawberries\"],\n",
    "    \"Banana\": [\"Banana\", \"Bananas\", \"Large Banana\", \"Large Bananas\", \"Small Banana\", \"Small Bananas\", \"Medium Banana\"],\n",
    "    \"Cherry\": [\"Cherry\", \"Cherries\", \"Large Cherry\", \"Large Cherries\", \"Small Cherry\", \"Small Cherries\", \"Medium Cherry\"],\n",
    "    \"Watermelon\": [\"Watermelon\", \"Watermelons\", \"Large Watermelon\", \"Large Watermelons\", \"Small Watermelon\", \"Small Watermelons\", \"Medium Watermelon\"]\n",
    "}\n",
    "\n",
    "# Apple, Apples, Large Apple, Large Apples, Small Apple, Small Apples, Medium Apple, Orange, Oranges, Large Orange, Large Oranges, Small Orange, Small Oranges, Medium Orange, Avocado, Avocados, Large Avocado, Large Avocados, Small Avocado, Small Avocados, Medium Avocado, Kiwi, Kiwis, Large Kiwi, Large Kiwis, Small Kiwi, Small Kiwis, Medium Kiwi, Mango, Mangoes, Large Mango, Large Mangoes, Small Mango, Small Mangoes, Medium Mango, Pineapple, Pineapples, Large Pineapple, Large Pineapples, Small Pineapple, Small Pineapples, Medium Pineapple, strawberries, strawberry, Large strawberries, Large strawberry, Small strawberries, Small strawberry, Medium strawberries, Banana, Bananas, Large Banana, Large Bananas, Small Banana, Small Bananas, Medium Banana, Cherry, Cherries, Large Cherry, Large Cherries, Small Cherry, Small Cherries, Medium Cherry, Watermelon, Watermelons, Large Watermelon, Large Watermelons, Small Watermelon, Small Watermelons, Medium Watermelon\n",
    "\n",
    "# dict_size(fr70)\n",
    "print(aOcheck_accuracy(\"WithoutIP/fruits10/fr70.csv\", fr70))\n"
   ]
  },
  {
   "cell_type": "code",
   "execution_count": 426,
   "metadata": {},
   "outputs": [
    {
     "name": "stdout",
     "output_type": "stream",
     "text": [
      "83.44\n",
      "83.44\n"
     ]
    }
   ],
   "source": [
    "fr80 = {\n",
    "    \"Apple\": [\"Apple\", \"Apples\", \"Large Apple\", \"Large Apples\", \"Small Apple\", \"Small Apples\", \"Medium Apple\", \"Medium Apples\"],\n",
    "    \"Orange\": [\"Orange\", \"Oranges\", \"Large Orange\", \"Large Oranges\", \"Small Orange\", \"Small Oranges\", \"Medium Orange\", \"Medium Oranges\"],\n",
    "    \"Avocado\": [\"Avocado\", \"Avocados\", \"Large Avocado\", \"Large Avocados\", \"Small Avocado\", \"Small Avocados\", \"Medium Avocado\", \"Medium Avocados\"],\n",
    "    \"Kiwi\": [\"Kiwi\", \"Kiwis\", \"Large Kiwi\", \"Large Kiwis\", \"Small Kiwi\", \"Small Kiwis\", \"Medium Kiwi\", \"Medium Kiwis\"],\n",
    "    \"Mango\": [\"Mango\", \"Mangoes\", \"Large Mango\", \"Large Mangoes\", \"Small Mango\", \"Small Mangoes\", \"Medium Mango\", \"Medium Mangoes\"],\n",
    "    \"Pineapple\": [\"Pineapple\", \"Pineapples\", \"Large Pineapple\", \"Large Pineapples\", \"Small Pineapple\", \"Small Pineapples\", \"Medium Pineapple\", \"Medium Pineapples\"],\n",
    "    \"strawberries\": [\"strawberries\", \"strawberry\", \"Large strawberries\", \"Large strawberry\", \"Small strawberries\", \"Small strawberry\", \"Medium strawberries\", \"Medium strawberry\"],\n",
    "    \"Banana\": [\"Banana\", \"Bananas\", \"Large Banana\", \"Large Bananas\", \"Small Banana\", \"Small Bananas\", \"Medium Banana\", \"Medium Bananas\"],\n",
    "    \"Cherry\": [\"Cherry\", \"Cherries\", \"Large Cherry\", \"Large Cherries\", \"Small Cherry\", \"Small Cherries\", \"Medium Cherry\", \"Medium Cherries\"],\n",
    "    \"Watermelon\": [\"Watermelon\", \"Watermelons\", \"Large Watermelon\", \"Large Watermelons\", \"Small Watermelon\", \"Small Watermelons\", \"Medium Watermelon\", \"Medium Watermelons\"]\n",
    "}\n",
    "\n",
    "# Apple, Apples, Large Apple, Large Apples, Small Apple, Small Apples, Medium Apple, Medium Apples, Orange, Oranges, Large Orange, Large Oranges, Small Orange, Small Oranges, Medium Orange, Medium Oranges, Avocado, Avocados, Large Avocado, Large Avocados, Small Avocado, Small Avocados, Medium Avocado, Medium Avocados, Kiwi, Kiwis, Large Kiwi, Large Kiwis, Small Kiwi, Small Kiwis, Medium Kiwi, Medium Kiwis, Mango, Mangoes, Large Mango, Large Mangoes, Small Mango, Small Mangoes, Medium Mango, Medium Mangoes, Pineapple, Pineapples, Large Pineapple, Large Pineapples, Small Pineapple, Small Pineapples, Medium Pineapple, Medium Pineapples, strawberries, strawberry, Large strawberries, Large strawberry, Small strawberries, Small strawberry, Medium strawberries, Medium strawberry, Banana, Bananas, Large Banana, Large Bananas, Small Banana, Small Bananas, Medium Banana, Medium Bananas, Cherry, Cherries, Large Cherry, Large Cherries, Small Cherry, Small Cherries, Medium Cherry, Medium Cherries, Watermelon, Watermelons, Large Watermelon, Large Watermelons, Small Watermelon, Small Watermelons, Medium Watermelon, Medium Watermelons\n",
    "\n",
    "# dict_size(fr80)\n",
    "print(aOcheck_accuracy(\"WithoutIP/fruits10/fr80.csv\", fr80))\n"
   ]
  },
  {
   "cell_type": "code",
   "execution_count": 427,
   "metadata": {},
   "outputs": [
    {
     "name": "stdout",
     "output_type": "stream",
     "text": [
      "83.62\n",
      "83.62\n"
     ]
    }
   ],
   "source": [
    "fr90 = {\n",
    "    \"Apple\": [\"Apple\", \"Apples\", \"Large Apple\", \"Large Apples\", \"Small Apple\", \"Small Apples\", \"Medium Apple\", \"Medium Apples\", \"Fruit Apple\"],\n",
    "    \"Orange\": [\"Orange\", \"Oranges\", \"Large Orange\", \"Large Oranges\", \"Small Orange\", \"Small Oranges\", \"Medium Orange\", \"Medium Oranges\", \"Fruit Orange\"],\n",
    "    \"Avocado\": [\"Avocado\", \"Avocados\", \"Large Avocado\", \"Large Avocados\", \"Small Avocado\", \"Small Avocados\", \"Medium Avocado\", \"Medium Avocados\", \"Fruit Avocado\"],\n",
    "    \"Kiwi\": [\"Kiwi\", \"Kiwis\", \"Large Kiwi\", \"Large Kiwis\", \"Small Kiwi\", \"Small Kiwis\", \"Medium Kiwi\", \"Medium Kiwis\", \"Fruit Kiwi\"],\n",
    "    \"Mango\": [\"Mango\", \"Mangoes\", \"Large Mango\", \"Large Mangoes\", \"Small Mango\", \"Small Mangoes\", \"Medium Mango\", \"Medium Mangoes\", \"Fruit Mango\"],\n",
    "    \"Pineapple\": [\"Pineapple\", \"Pineapples\", \"Large Pineapple\", \"Large Pineapples\", \"Small Pineapple\", \"Small Pineapples\", \"Medium Pineapple\", \"Medium Pineapples\", \"Fruit Pineapple\"],\n",
    "    \"strawberries\": [\"strawberries\", \"strawberry\", \"Large strawberries\", \"Large strawberry\", \"Small strawberries\", \"Small strawberry\", \"Medium strawberries\", \"Medium strawberry\", \"Fruit strawberries\"],\n",
    "    \"Banana\": [\"Banana\", \"Bananas\", \"Large Banana\", \"Large Bananas\", \"Small Banana\", \"Small Bananas\", \"Medium Banana\", \"Medium Bananas\", \"Fruit Banana\"],\n",
    "    \"Cherry\": [\"Cherry\", \"Cherries\", \"Large Cherry\", \"Large Cherries\", \"Small Cherry\", \"Small Cherries\", \"Medium Cherry\", \"Medium Cherries\", \"Fruit Cherry\"],\n",
    "    \"Watermelon\": [\"Watermelon\", \"Watermelons\", \"Large Watermelon\", \"Large Watermelons\", \"Small Watermelon\", \"Small Watermelons\", \"Medium Watermelon\", \"Medium Watermelons\", \"Fruit Watermelon\"]\n",
    "}\n",
    "\n",
    "# Apple, Apples, Large Apple, Large Apples, Small Apple, Small Apples, Medium Apple, Medium Apples, Fruit Apple, Orange, Oranges, Large Orange, Large Oranges, Small Orange, Small Oranges, Medium Orange, Medium Oranges, Fruit Orange, Avocado, Avocados, Large Avocado, Large Avocados, Small Avocado, Small Avocados, Medium Avocado, Medium Avocados, Fruit Avocado, Kiwi, Kiwis, Large Kiwi, Large Kiwis, Small Kiwi, Small Kiwis, Medium Kiwi, Medium Kiwis, Fruit Kiwi, Mango, Mangoes, Large Mango, Large Mangoes, Small Mango, Small Mangoes, Medium Mango, Medium Mangoes, Fruit Mango, Pineapple, Pineapples, Large Pineapple, Large Pineapples, Small Pineapple, Small Pineapples, Medium Pineapple, Medium Pineapples, Fruit Pineapple, strawberries, strawberry, Large strawberries, Large strawberry, Small strawberries, Small strawberry, Medium strawberries, Medium strawberry, Fruit strawberries, Banana, Bananas, Large Banana, Large Bananas, Small Banana, Small Bananas, Medium Banana, Medium Bananas, Fruit Banana, Cherry, Cherries, Large Cherry, Large Cherries, Small Cherry, Small Cherries, Medium Cherry, Medium Cherries, Fruit Cherry, Watermelon, Watermelons, Large Watermelon, Large Watermelons, Small Watermelon, Small Watermelons, Medium Watermelon, Medium Watermelons, Fruit Watermelon\n",
    "\n",
    "# dict_size(fr90)\n",
    "print(aOcheck_accuracy(\"WithoutIP/fruits10/fr90.csv\", fr90))\n"
   ]
  },
  {
   "cell_type": "code",
   "execution_count": 428,
   "metadata": {},
   "outputs": [
    {
     "name": "stdout",
     "output_type": "stream",
     "text": [
      "83.56\n",
      "83.56\n"
     ]
    }
   ],
   "source": [
    "fr100 = {\n",
    "    \"Apple\": [\"Apple\", \"Apples\", \"Large Apple\", \"Large Apples\", \"Small Apple\", \"Small Apples\", \"Medium Apple\", \"Medium Apples\", \"Fruit Apple\", \"Fruit Apples\"],\n",
    "    \"Orange\": [\"Orange\", \"Oranges\", \"Large Orange\", \"Large Oranges\", \"Small Orange\", \"Small Oranges\", \"Medium Orange\", \"Medium Oranges\", \"Fruit Orange\", \"Fruit Oranges\"],\n",
    "    \"Avocado\": [\"Avocado\", \"Avocados\", \"Large Avocado\", \"Large Avocados\", \"Small Avocado\", \"Small Avocados\", \"Medium Avocado\", \"Medium Avocados\", \"Fruit Avocado\", \"Fruit Avocados\"],\n",
    "    \"Kiwi\": [\"Kiwi\", \"Kiwis\", \"Large Kiwi\", \"Large Kiwis\", \"Small Kiwi\", \"Small Kiwis\", \"Medium Kiwi\", \"Medium Kiwis\", \"Fruit Kiwi\", \"Fruit Kiwis\"],\n",
    "    \"Mango\": [\"Mango\", \"Mangoes\", \"Large Mango\", \"Large Mangoes\", \"Small Mango\", \"Small Mangoes\", \"Medium Mango\", \"Medium Mangoes\", \"Fruit Mango\", \"Fruit Mangoes\"],\n",
    "    \"Pineapple\": [\"Pineapple\", \"Pineapples\", \"Large Pineapple\", \"Large Pineapples\", \"Small Pineapple\", \"Small Pineapples\", \"Medium Pineapple\", \"Medium Pineapples\", \"Fruit Pineapple\", \"Fruit Pineapples\"],\n",
    "    \"strawberries\": [\"strawberries\", \"strawberry\", \"Large strawberries\", \"Large strawberry\", \"Small strawberries\", \"Small strawberry\", \"Medium strawberries\", \"Medium strawberry\", \"Fruit strawberries\", \"Fruit strawberry\"],\n",
    "    \"Banana\": [\"Banana\", \"Bananas\", \"Large Banana\", \"Large Bananas\", \"Small Banana\", \"Small Bananas\", \"Medium Banana\", \"Medium Bananas\", \"Fruit Banana\", \"Fruit Bananas\"],\n",
    "    \"Cherry\": [\"Cherry\", \"Cherries\", \"Large Cherry\", \"Large Cherries\", \"Small Cherry\", \"Small Cherries\", \"Medium Cherry\", \"Medium Cherries\", \"Fruit Cherry\", \"Fruit Cherries\"],\n",
    "    \"Watermelon\": [\"Watermelon\", \"Watermelons\", \"Large Watermelon\", \"Large Watermelons\", \"Small Watermelon\", \"Small Watermelons\", \"Medium Watermelon\", \"Medium Watermelons\", \"Fruit Watermelon\", \"Fruit Watermelons\"]\n",
    "}\n",
    "\n",
    "# Apple, Apples, Large Apple, Large Apples, Small Apple, Small Apples, Medium Apple, Medium Apples, Fruit Apple, Fruit Apples, Orange, Oranges, Large Orange, Large Oranges, Small Orange, Small Oranges, Medium Orange, Medium Oranges, Fruit Orange, Fruit Oranges, Avocado, Avocados, Large Avocado, Large Avocados, Small Avocado, Small Avocados, Medium Avocado, Medium Avocados, Fruit Avocado, Fruit Avocados, Kiwi, Kiwis, Large Kiwi, Large Kiwis, Small Kiwi, Small Kiwis, Medium Kiwi, Medium Kiwis, Fruit Kiwi, Fruit Kiwis, Mango, Mangoes, Large Mango, Large Mangoes, Small Mango, Small Mangoes, Medium Mango, Medium Mangoes, Fruit Mango, Fruit Mangoes, Pineapple, Pineapples, Large Pineapple, Large Pineapples, Small Pineapple, Small Pineapples, Medium Pineapple, Medium Pineapples, Fruit Pineapple, Fruit Pineapples, strawberries, strawberry, Large strawberries, Large strawberry, Small strawberries, Small strawberry, Medium strawberries, Medium strawberry, Fruit strawberries, Fruit strawberry, Banana, Bananas, Large Banana, Large Bananas, Small Banana, Small Bananas, Medium Banana, Medium Bananas, Fruit Banana, Fruit Bananas, Cherry, Cherries, Large Cherry, Large Cherries, Small Cherry, Small Cherries, Medium Cherry, Medium Cherries, Fruit Cherry, Fruit Cherries, Watermelon, Watermelons, Large Watermelon, Large Watermelons, Small Watermelon, Small Watermelons, Medium Watermelon, Medium Watermelons, Fruit Watermelon, Fruit Watermelons\n",
    "\n",
    "# dict_size(fr100)\n",
    "print(aOcheck_accuracy(\"WithoutIP/fruits10/fr100.csv\", fr100))\n"
   ]
  },
  {
   "cell_type": "code",
   "execution_count": null,
   "metadata": {},
   "outputs": [],
   "source": [
    "fr110 = {\n",
    "    \"Apple\": [\"Apple\", \"Apples\", \"Large Apple\", \"Large Apples\", \"Small Apple\", \"Small Apples\", \"Medium Apple\", \"Medium Apples\", \"Fruit Apple\", \"Fruit Apples\", \"Food Apple\"],\n",
    "    \"Orange\": [\"Orange\", \"Oranges\", \"Large Orange\", \"Large Oranges\", \"Small Orange\", \"Small Oranges\", \"Medium Orange\", \"Medium Oranges\", \"Fruit Orange\", \"Fruit Oranges\", \"Food Orange\"],\n",
    "    \"Avocado\": [\"Avocado\", \"Avocados\", \"Large Avocado\", \"Large Avocados\", \"Small Avocado\", \"Small Avocados\", \"Medium Avocado\", \"Medium Avocados\", \"Fruit Avocado\", \"Fruit Avocados\", \"Food Avocado\"],\n",
    "    \"Kiwi\": [\"Kiwi\", \"Kiwis\", \"Large Kiwi\", \"Large Kiwis\", \"Small Kiwi\", \"Small Kiwis\", \"Medium Kiwi\", \"Medium Kiwis\", \"Fruit Kiwi\", \"Fruit Kiwis\", \"Food Kiwi\"],\n",
    "    \"Mango\": [\"Mango\", \"Mangoes\", \"Large Mango\", \"Large Mangoes\", \"Small Mango\", \"Small Mangoes\", \"Medium Mango\", \"Medium Mangoes\", \"Fruit Mango\", \"Fruit Mangoes\", \"Food Mango\"],\n",
    "    \"Pineapple\": [\"Pineapple\", \"Pineapples\", \"Large Pineapple\", \"Large Pineapples\", \"Small Pineapple\", \"Small Pineapples\", \"Medium Pineapple\", \"Medium Pineapples\", \"Fruit Pineapple\", \"Fruit Pineapples\", \"Food Pineapple\"],\n",
    "    \"strawberries\": [\"strawberries\", \"strawberry\", \"Large strawberries\", \"Large strawberry\", \"Small strawberries\", \"Small strawberry\", \"Medium strawberries\", \"Medium strawberry\", \"Fruit strawberries\", \"Fruit strawberry\", \"Food strawberries\"],\n",
    "    \"Banana\": [\"Banana\", \"Bananas\", \"Large Banana\", \"Large Bananas\", \"Small Banana\", \"Small Bananas\", \"Medium Banana\", \"Medium Bananas\", \"Fruit Banana\", \"Fruit Bananas\", \"Food Banana\"],\n",
    "    \"Cherry\": [\"Cherry\", \"Cherries\", \"Large Cherry\", \"Large Cherries\", \"Small Cherry\", \"Small Cherries\", \"Medium Cherry\", \"Medium Cherries\", \"Fruit Cherry\", \"Fruit Cherries\", \"Food Cherry\"],\n",
    "    \"Watermelon\": [\"Watermelon\", \"Watermelons\", \"Large Watermelon\", \"Large Watermelons\", \"Small Watermelon\", \"Small Watermelons\", \"Medium Watermelon\", \"Medium Watermelons\", \"Fruit Watermelon\", \"Fruit Watermelons\", \"Food Watermelon\"]\n",
    "}\n",
    "\n",
    "# Apple, Apples, Large Apple, Large Apples, Small Apple, Small Apples, Medium Apple, Medium Apples, Fruit Apple, Fruit Apples, Food Apple, Orange, Oranges, Large Orange, Large Oranges, Small Orange, Small Oranges, Medium Orange, Medium Oranges, Fruit Orange, Fruit Oranges, Food Orange, Avocado, Avocados, Large Avocado, Large Avocados, Small Avocado, Small Avocados, Medium Avocado, Medium Avocados, Fruit Avocado, Fruit Avocados, Food Avocado, Kiwi, Kiwis, Large Kiwi, Large Kiwis, Small Kiwi, Small Kiwis, Medium Kiwi, Medium Kiwis, Fruit Kiwi, Fruit Kiwis, Food Kiwi, Mango, Mangoes, Large Mango, Large Mangoes, Small Mango, Small Mangoes, Medium Mango, Medium Mangoes, Fruit Mango, Fruit Mangoes, Food Mango, Pineapple, Pineapples, Large Pineapple, Large Pineapples, Small Pineapple, Small Pineapples, Medium Pineapple, Medium Pineapples, Fruit Pineapple, Fruit Pineapples, Food Pineapple, strawberries, strawberry, Large strawberries, Large strawberry, Small strawberries, Small strawberry, Medium strawberries, Medium strawberry, Fruit strawberries, Fruit strawberry, Food strawberries, Banana, Bananas, Large Banana, Large Bananas, Small Banana, Small Bananas, Medium Banana, Medium Bananas, Fruit Banana, Fruit Bananas, Food Banana, Cherry, Cherries, Large Cherry, Large Cherries, Small Cherry, Small Cherries, Medium Cherry, Medium Cherries, Fruit Cherry, Fruit Cherries, Food Cherry, Watermelon, Watermelons, Large Watermelon, Large Watermelons, Small Watermelon, Small Watermelons, Medium Watermelon, Medium Watermelons, Fruit Watermelon, Fruit Watermelons, Food Watermelon\n",
    "\n",
    "# dict_size(fr110)\n",
    "print(aOcheck_accuracy(\"WithoutIP/fruits10/fr110.csv\", fr110))\n"
   ]
  },
  {
   "cell_type": "code",
   "execution_count": null,
   "metadata": {},
   "outputs": [],
   "source": [
    "fr120 = {\n",
    "    \"Apple\": [\"Apple\", \"Apples\", \"Large Apple\", \"Large Apples\", \"Small Apple\", \"Small Apples\", \"Medium Apple\", \"Medium Apples\", \"Fruit Apple\", \"Fruit Apples\", \"Food Apple\", \"Food Apples\"],\n",
    "    \"Orange\": [\"Orange\", \"Oranges\", \"Large Orange\", \"Large Oranges\", \"Small Orange\", \"Small Oranges\", \"Medium Orange\", \"Medium Oranges\", \"Fruit Orange\", \"Fruit Oranges\", \"Food Orange\", \"Food Oranges\"],\n",
    "    \"Avocado\": [\"Avocado\", \"Avocados\", \"Large Avocado\", \"Large Avocados\", \"Small Avocado\", \"Small Avocados\", \"Medium Avocado\", \"Medium Avocados\", \"Fruit Avocado\", \"Fruit Avocados\", \"Food Avocado\", \"Food Avocados\"],\n",
    "    \"Kiwi\": [\"Kiwi\", \"Kiwis\", \"Large Kiwi\", \"Large Kiwis\", \"Small Kiwi\", \"Small Kiwis\", \"Medium Kiwi\", \"Medium Kiwis\", \"Fruit Kiwi\", \"Fruit Kiwis\", \"Food Kiwi\", \"Food Kiwis\"],\n",
    "    \"Mango\": [\"Mango\", \"Mangoes\", \"Large Mango\", \"Large Mangoes\", \"Small Mango\", \"Small Mangoes\", \"Medium Mango\", \"Medium Mangoes\", \"Fruit Mango\", \"Fruit Mangoes\", \"Food Mango\", \"Food Mangoes\"],\n",
    "    \"Pineapple\": [\"Pineapple\", \"Pineapples\", \"Large Pineapple\", \"Large Pineapples\", \"Small Pineapple\", \"Small Pineapples\", \"Medium Pineapple\", \"Medium Pineapples\", \"Fruit Pineapple\", \"Fruit Pineapples\", \"Food Pineapple\", \"Food Pineapples\"],\n",
    "    \"strawberries\": [\"strawberries\", \"strawberry\", \"Large strawberries\", \"Large strawberry\", \"Small strawberries\", \"Small strawberry\", \"Medium strawberries\", \"Medium strawberry\", \"Fruit strawberries\", \"Fruit strawberry\", \"Food strawberries\", \"Food strawberry\"],\n",
    "    \"Banana\": [\"Banana\", \"Bananas\", \"Large Banana\", \"Large Bananas\", \"Small Banana\", \"Small Bananas\", \"Medium Banana\", \"Medium Bananas\", \"Fruit Banana\", \"Fruit Bananas\", \"Food Banana\", \"Food Bananas\"],\n",
    "    \"Cherry\": [\"Cherry\", \"Cherries\", \"Large Cherry\", \"Large Cherries\", \"Small Cherry\", \"Small Cherries\", \"Medium Cherry\", \"Medium Cherries\", \"Fruit Cherry\", \"Fruit Cherries\", \"Food Cherry\", \"Food Cherries\"],\n",
    "    \"Watermelon\": [\"Watermelon\", \"Watermelons\", \"Large Watermelon\", \"Large Watermelons\", \"Small Watermelon\", \"Small Watermelons\", \"Medium Watermelon\", \"Medium Watermelons\", \"Fruit Watermelon\", \"Fruit Watermelons\", \"Food Watermelon\", \"Food Watermelons\"]\n",
    "}\n",
    "\n",
    "# Apple, Apples, Large Apple, Large Apples, Small Apple, Small Apples, Medium Apple, Medium Apples, Fruit Apple, Fruit Apples, Food Apple, Food Apples, Orange, Oranges, Large Orange, Large Oranges, Small Orange, Small Oranges, Medium Orange, Medium Oranges, Fruit Orange, Fruit Oranges, Food Orange, Food Oranges, Avocado, Avocados, Large Avocado, Large Avocados, Small Avocado, Small Avocados, Medium Avocado, Medium Avocados, Fruit Avocado, Fruit Avocados, Food Avocado, Food Avocados, Kiwi, Kiwis, Large Kiwi, Large Kiwis, Small Kiwi, Small Kiwis, Medium Kiwi, Medium Kiwis, Fruit Kiwi, Fruit Kiwis, Food Kiwi, Food Kiwis, Mango, Mangoes, Large Mango, Large Mangoes, Small Mango, Small Mangoes, Medium Mango, Medium Mangoes, Fruit Mango, Fruit Mangoes, Food Mango, Food Mangoes, Pineapple, Pineapples, Large Pineapple, Large Pineapples, Small Pineapple, Small Pineapples, Medium Pineapple, Medium Pineapples, Fruit Pineapple, Fruit Pineapples, Food Pineapple, Food Pineapples, strawberries, strawberry, Large strawberries, Large strawberry, Small strawberries, Small strawberry, Medium strawberries, Medium strawberry, Fruit strawberries, Fruit strawberry, Food strawberries, Food strawberry, Banana, Bananas, Large Banana, Large Bananas, Small Banana, Small Bananas, Medium Banana, Medium Bananas, Fruit Banana, Fruit Bananas, Food Banana, Food Bananas, Cherry, Cherries, Large Cherry, Large Cherries, Small Cherry, Small Cherries, Medium Cherry, Medium Cherries, Fruit Cherry, Fruit Cherries, Food Cherry, Food Cherries, Watermelon, Watermelons, Large Watermelon, Large Watermelons, Small Watermelon, Small Watermelons, Medium Watermelon, Medium Watermelons, Fruit Watermelon, Fruit Watermelons, Food Watermelon, Food Watermelons\n",
    "\n",
    "# dict_size(fr120)\n",
    "print(aOcheck_accuracy(\"WithoutIP/fruits10/fr120.csv\", fr120))\n"
   ]
  },
  {
   "cell_type": "code",
   "execution_count": null,
   "metadata": {},
   "outputs": [],
   "source": [
    "fr130 = {\n",
    "    \"Apple\": [\"Apple\", \"Apples\", \"Large Apple\", \"Large Apples\", \"Small Apple\", \"Small Apples\", \"Medium Apple\", \"Medium Apples\", \"Fruit Apple\", \"Fruit Apples\", \"Food Apple\", \"Edible Apple\"],\n",
    "    \"Orange\": [\"Orange\", \"Oranges\", \"Large Orange\", \"Large Oranges\", \"Small Orange\", \"Small Oranges\", \"Medium Orange\", \"Medium Oranges\", \"Fruit Orange\", \"Fruit Oranges\", \"Food Orange\", \"Edible Orange\"],\n",
    "    \"Avocado\": [\"Avocado\", \"Avocados\", \"Large Avocado\", \"Large Avocados\", \"Small Avocado\", \"Small Avocados\", \"Medium Avocado\", \"Medium Avocados\", \"Fruit Avocado\", \"Fruit Avocados\", \"Food Avocado\", \"Edible Avocado\"],\n",
    "    \"Kiwi\": [\"Kiwi\", \"Kiwis\", \"Large Kiwi\", \"Large Kiwis\", \"Small Kiwi\", \"Small Kiwis\", \"Medium Kiwi\", \"Medium Kiwis\", \"Fruit Kiwi\", \"Fruit Kiwis\", \"Food Kiwi\", \"Edible Kiwi\"],\n",
    "    \"Mango\": [\"Mango\", \"Mangoes\", \"Large Mango\", \"Large Mangoes\", \"Small Mango\", \"Small Mangoes\", \"Medium Mango\", \"Medium Mangoes\", \"Fruit Mango\", \"Fruit Mangoes\", \"Food Mango\", \"Edible Mango\"],\n",
    "    \"Pineapple\": [\"Pineapple\", \"Pineapples\", \"Large Pineapple\", \"Large Pineapples\", \"Small Pineapple\", \"Small Pineapples\", \"Medium Pineapple\", \"Medium Pineapples\", \"Fruit Pineapple\", \"Fruit Pineapples\", \"Food Pineapple\", \"Edible Pineapple\"],\n",
    "    \"strawberries\": [\"strawberries\", \"strawberry\", \"Large strawberries\", \"Large strawberry\", \"Small strawberries\", \"Small strawberry\", \"Medium strawberries\", \"Medium strawberry\", \"Fruit strawberries\", \"Fruit strawberry\", \"Food strawberries\", \"Edible strawberries\"],\n",
    "    \"Banana\": [\"Banana\", \"Bananas\", \"Large Banana\", \"Large Bananas\", \"Small Banana\", \"Small Bananas\", \"Medium Banana\", \"Medium Bananas\", \"Fruit Banana\", \"Fruit Bananas\", \"Food Banana\", \"Edible Banana\"],\n",
    "    \"Cherry\": [\"Cherry\", \"Cherries\", \"Large Cherry\", \"Large Cherries\", \"Small Cherry\", \"Small Cherries\", \"Medium Cherry\", \"Medium Cherries\", \"Fruit Cherry\", \"Fruit Cherries\", \"Food Cherry\", \"Edible Cherry\"],\n",
    "    \"Watermelon\": [\"Watermelon\", \"Watermelons\", \"Large Watermelon\", \"Large Watermelons\", \"Small Watermelon\", \"Small Watermelons\", \"Medium Watermelon\", \"Medium Watermelons\", \"Fruit Watermelon\", \"Fruit Watermelons\", \"Food Watermelon\", \"Edible Watermelon\"]\n",
    "}\n",
    "\n",
    "# Apple, Apples, Large Apple, Large Apples, Small Apple, Small Apples, Medium Apple, Medium Apples, Fruit Apple, Fruit Apples, Food Apple, Edible Apple, Orange, Oranges, Large Orange, Large Oranges, Small Orange, Small Oranges, Medium Orange, Medium Oranges, Fruit Orange, Fruit Oranges, Food Orange, Edible Orange, Avocado, Avocados, Large Avocado, Large Avocados, Small Avocado, Small Avocados, Medium Avocado, Medium Avocados, Fruit Avocado, Fruit Avocados, Food Avocado, Edible Avocado, Kiwi, Kiwis, Large Kiwi, Large Kiwis, Small Kiwi, Small Kiwis, Medium Kiwi, Medium Kiwis, Fruit Kiwi, Fruit Kiwis, Food Kiwi, Edible Kiwi, Mango, Mangoes, Large Mango, Large Mangoes, Small Mango, Small Mangoes, Medium Mango, Medium Mangoes, Fruit Mango, Fruit Mangoes, Food Mango, Edible Mango, Pineapple, Pineapples, Large Pineapple, Large Pineapples, Small Pineapple, Small Pineapples, Medium Pineapple, Medium Pineapples, Fruit Pineapple, Fruit Pineapples, Food Pineapple, Edible Pineapple, strawberries, strawberry, Large strawberries, Large strawberry, Small strawberries, Small strawberry, Medium strawberries, Medium strawberry, Fruit strawberries, Fruit strawberry, Food strawberries, Edible strawberries, Banana, Bananas, Large Banana, Large Bananas, Small Banana, Small Bananas, Medium Banana, Medium Bananas, Fruit Banana, Fruit Bananas, Food Banana, Edible Banana, Cherry, Cherries, Large Cherry, Large Cherries, Small Cherry, Small Cherries, Medium Cherry, Medium Cherries, Fruit Cherry, Fruit Cherries, Food Cherry, Edible Cherry, Watermelon, Watermelons, Large Watermelon, Large Watermelons, Small Watermelon, Small Watermelons, Medium Watermelon, Medium Watermelons, Fruit Watermelon, Fruit Watermelons, Food Watermelon, Edible Watermelon\n",
    "\n",
    "# dict_size(fr130)\n",
    "print(aOcheck_accuracy(\"WithoutIP/fruits10/fr130.csv\", fr130))\n"
   ]
  },
  {
   "cell_type": "code",
   "execution_count": null,
   "metadata": {},
   "outputs": [],
   "source": [
    "fr140 = {\n",
    "    \"Apple\": [\"Apple\", \"Apples\", \"Large Apple\", \"Large Apples\", \"Small Apple\", \"Small Apples\", \"Medium Apple\", \"Medium Apples\", \"Fruit Apple\", \"Fruit Apples\", \"Food Apple\", \"Edible Apple\", \"Edible Apples\"],\n",
    "    \"Orange\": [\"Orange\", \"Oranges\", \"Large Orange\", \"Large Oranges\", \"Small Orange\", \"Small Oranges\", \"Medium Orange\", \"Medium Oranges\", \"Fruit Orange\", \"Fruit Oranges\", \"Food Orange\", \"Edible Orange\", \"Edible Oranges\"],\n",
    "    \"Avocado\": [\"Avocado\", \"Avocados\", \"Large Avocado\", \"Large Avocados\", \"Small Avocado\", \"Small Avocados\", \"Medium Avocado\", \"Medium Avocados\", \"Fruit Avocado\", \"Fruit Avocados\", \"Food Avocado\", \"Edible Avocado\", \"Edible Avocados\"],\n",
    "    \"Kiwi\": [\"Kiwi\", \"Kiwis\", \"Large Kiwi\", \"Large Kiwis\", \"Small Kiwi\", \"Small Kiwis\", \"Medium Kiwi\", \"Medium Kiwis\", \"Fruit Kiwi\", \"Fruit Kiwis\", \"Food Kiwi\", \"Edible Kiwi\", \"Edible Kiwis\"],\n",
    "    \"Mango\": [\"Mango\", \"Mangoes\", \"Large Mango\", \"Large Mangoes\", \"Small Mango\", \"Small Mangoes\", \"Medium Mango\", \"Medium Mangoes\", \"Fruit Mango\", \"Fruit Mangoes\", \"Food Mango\", \"Edible Mango\", \"Edible Mangoes\"],\n",
    "    \"Pineapple\": [\"Pineapple\", \"Pineapples\", \"Large Pineapple\", \"Large Pineapples\", \"Small Pineapple\", \"Small Pineapples\", \"Medium Pineapple\", \"Medium Pineapples\", \"Fruit Pineapple\", \"Fruit Pineapples\", \"Food Pineapple\", \"Edible Pineapple\", \"Edible Pineapples\"],\n",
    "    \"strawberries\": [\"strawberries\", \"strawberry\", \"Large strawberries\", \"Large strawberry\", \"Small strawberries\", \"Small strawberry\", \"Medium strawberries\", \"Medium strawberry\", \"Fruit strawberries\", \"Fruit strawberry\", \"Food strawberries\", \"Edible strawberries\", \"Edible strawberry\"],\n",
    "    \"Banana\": [\"Banana\", \"Bananas\", \"Large Banana\", \"Large Bananas\", \"Small Banana\", \"Small Bananas\", \"Medium Banana\", \"Medium Bananas\", \"Fruit Banana\", \"Fruit Bananas\", \"Food Banana\", \"Edible Banana\", \"Edible Bananas\"],\n",
    "    \"Cherry\": [\"Cherry\", \"Cherries\", \"Large Cherry\", \"Large Cherries\", \"Small Cherry\", \"Small Cherries\", \"Medium Cherry\", \"Medium Cherries\", \"Fruit Cherry\", \"Fruit Cherries\", \"Food Cherry\", \"Edible Cherry\", \"Edible Cherries\"],\n",
    "    \"Watermelon\": [\"Watermelon\", \"Watermelons\", \"Large Watermelon\", \"Large Watermelons\", \"Small Watermelon\", \"Small Watermelons\", \"Medium Watermelon\", \"Medium Watermelons\", \"Fruit Watermelon\", \"Fruit Watermelons\", \"Food Watermelon\", \"Edible Watermelon\", \"Edible Watermelons\"]\n",
    "}\n",
    "\n",
    "# Apple, Apples, Large Apple, Large Apples, Small Apple, Small Apples, Medium Apple, Medium Apples, Fruit Apple, Fruit Apples, Food Apple, Edible Apple, Edible Apples, Orange, Oranges, Large Orange, Large Oranges, Small Orange, Small Oranges, Medium Orange, Medium Oranges, Fruit Orange, Fruit Oranges, Food Orange, Edible Orange, Edible Oranges, Avocado, Avocados, Large Avocado, Large Avocados, Small Avocado, Small Avocados, Medium Avocado, Medium Avocados, Fruit Avocado, Fruit Avocados, Food Avocado, Edible Avocado, Edible Avocados, Kiwi, Kiwis, Large Kiwi, Large Kiwis, Small Kiwi, Small Kiwis, Medium Kiwi, Medium Kiwis, Fruit Kiwi, Fruit Kiwis, Food Kiwi, Edible Kiwi, Edible Kiwis, Mango, Mangoes, Large Mango, Large Mangoes, Small Mango, Small Mangoes, Medium Mango, Medium Mangoes, Fruit Mango, Fruit Mangoes, Food Mango, Edible Mango, Edible Mangoes, Pineapple, Pineapples, Large Pineapple, Large Pineapples, Small Pineapple, Small Pineapples, Medium Pineapple, Medium Pineapples, Fruit Pineapple, Fruit Pineapples, Food Pineapple, Edible Pineapple, Edible Pineapples, strawberries, strawberry, Large strawberries, Large strawberry, Small strawberries, Small strawberry, Medium strawberries, Medium strawberry, Fruit strawberries, Fruit strawberry, Food strawberries, Edible strawberries, Edible strawberry, Banana, Bananas, Large Banana, Large Bananas, Small Banana, Small Bananas, Medium Banana, Medium Bananas, Fruit Banana, Fruit Bananas, Food Banana, Edible Banana, Edible Bananas, Cherry, Cherries, Large Cherry, Large Cherries, Small Cherry, Small Cherries, Medium Cherry, Medium Cherries, Fruit Cherry, Fruit Cherries, Food Cherry, Edible Cherry, Edible Cherries, Watermelon, Watermelons, Large Watermelon, Large Watermelons, Small Watermelon, Small Watermelons, Medium Watermelon, Medium Watermelons, Fruit Watermelon, Fruit Watermelons, Food Watermelon, Edible Watermelon, Edible Watermelons\n",
    "\n",
    "# dict_size(fr140)\n",
    "print(aOcheck_accuracy(\"WithoutIP/fruits10/fr140.csv\", fr140))\n"
   ]
  },
  {
   "cell_type": "markdown",
   "metadata": {},
   "source": [
    "## Food 34"
   ]
  },
  {
   "cell_type": "code",
   "execution_count": 429,
   "metadata": {},
   "outputs": [
    {
     "name": "stdout",
     "output_type": "stream",
     "text": [
      "34\n",
      "86.55\n",
      "86.55\n"
     ]
    }
   ],
   "source": [
    "f34 = {\n",
    "    \"Baked Potato\": [\"Baked Potato\"],\n",
    "    \"Crispy Chicken\": [\"Crispy Chicken\"],\n",
    "    \"Donut\": [\"Donut\"],\n",
    "    \"Fries\": [\"Fries\"],\n",
    "    \"Hot Dog\": [\"Hot Dog\"],\n",
    "    \"Sandwich\": [\"Sandwich\"],\n",
    "    \"Taco\": [\"Taco\"],\n",
    "    \"Taquito\": [\"Taquito\"],\n",
    "    \"apple_pie\": [\"apple_pie\"],\n",
    "    \"burger\": [\"burger\"],\n",
    "    \"butter_naan\": [\"butter_naan\"],\n",
    "    \"chai\": [\"chai\"],\n",
    "    \"chapati\": [\"chapati\"],\n",
    "    \"cheesecake\": [\"cheesecake\"],\n",
    "    \"chicken_curry\": [\"chicken_curry\"],\n",
    "    \"chole_bhature\": [\"chole_bhature\"],\n",
    "    \"dal_makhani\": [\"dal_makhani\"],\n",
    "    \"dhokla\": [\"dhokla\"],\n",
    "    \"fried_rice\": [\"fried_rice\"],\n",
    "    \"ice_cream\": [\"ice_cream\"],\n",
    "    \"idli\": [\"idli\"],\n",
    "    \"jalebi\": [\"jalebi\"],\n",
    "    \"kaathi_rolls\": [\"kaathi_rolls\"],\n",
    "    \"kadai_paneer\": [\"kadai_paneer\"],\n",
    "    \"kulfi\": [\"kulfi\"],\n",
    "    \"masala_dosa\": [\"masala_dosa\"],\n",
    "    \"momos\": [\"momos\"],\n",
    "    \"omelette\": [\"omelette\"],\n",
    "    \"paani_puri\": [\"paani_puri\"],\n",
    "    \"pakode\": [\"pakode\"],\n",
    "    \"pav_bhaji\": [\"pav_bhaji\"],\n",
    "    \"pizza\": [\"pizza\"],\n",
    "    \"samosa\": [\"samosa\"],\n",
    "    \"sushi\": [\"sushi\"],\n",
    "}\n",
    "\n",
    "# Baked Potato, Crispy Chicken, Donut, Fries, Hot Dog, Sandwich, Taco, Taquito, apple_pie, burger, butter_naan, chai, chapati, cheesecake, chicken_curry, chole_bhature, dal_makhani, dhokla, fried_rice, ice_cream, idli, jalebi, kaathi_rolls, kadai_paneer, kulfi, masala_dosa, momos, omelette, paani_puri, pakode, pav_bhaji, pizza, samosa, sushi\n",
    "\n",
    "dict_size(f34)\n",
    "print(aOcheck_accuracy(\"WithoutIP/food34/f34.csv\", f34))"
   ]
  },
  {
   "cell_type": "code",
   "execution_count": 430,
   "metadata": {},
   "outputs": [
    {
     "name": "stdout",
     "output_type": "stream",
     "text": [
      "86.55\n",
      "86.55\n"
     ]
    }
   ],
   "source": [
    "f68 = {\n",
    "    \"Baked Potato\": [\"Baked Potato\", \"Baked Potatoes\"],\n",
    "    \"Crispy Chicken\": [\"Crispy Chicken\", \"Crispy Chickens\"],\n",
    "    \"Donut\": [\"Donut\", \"Donuts\"],\n",
    "    \"Fries\": [\"Fries\", \"Fry\"],\n",
    "    \"Hot Dog\": [\"Hot Dog\", \"Hot Dogs\"],\n",
    "    \"Sandwich\": [\"Sandwich\", \"Sandwiches\"],\n",
    "    \"Taco\": [\"Taco\", \"Tacos\"],\n",
    "    \"Taquito\": [\"Taquito\", \"Taquitos\"],\n",
    "    \"apple_pie\": [\"apple_pie\", \"apple_pies\"],\n",
    "    \"burger\": [\"burger\", \"burgers\"],\n",
    "    \"butter_naan\": [\"butter_naan\", \"butter_naans\"],\n",
    "    \"chai\": [\"chai\", \"chais\"],\n",
    "    \"chapati\": [\"chapati\", \"chapatis\"],\n",
    "    \"cheesecake\": [\"cheesecake\", \"cheesecakes\"],\n",
    "    \"chicken_curry\": [\"chicken_curry\", \"chicken_curries\"],\n",
    "    \"chole_bhature\": [\"chole_bhature\", \"chole_bhatures\"],\n",
    "    \"dal_makhani\": [\"dal_makhani\", \"dal_makhanis\"],\n",
    "    \"dhokla\": [\"dhokla\", \"dhoklas\"],\n",
    "    \"fried_rice\": [\"fried_rice\", \"fried_rices\"],\n",
    "    \"ice_cream\": [\"ice_cream\", \"ice_creams\"],\n",
    "    \"idli\": [\"idli\", \"idlis\"],\n",
    "    \"jalebi\": [\"jalebi\", \"jalebis\"],\n",
    "    \"kaathi_rolls\": [\"kaathi_rolls\", \"kaathi_roll\"],\n",
    "    \"kadai_paneer\": [\"kadai_paneer\", \"kadai_paneers\"],\n",
    "    \"kulfi\": [\"kulfi\", \"kulfis\"],\n",
    "    \"masala_dosa\": [\"masala_dosa\", \"masala_dosas\"],\n",
    "    \"momos\": [\"momos\", \"momo\"],\n",
    "    \"omelette\": [\"omelette\", \"omelettes\"],\n",
    "    \"paani_puri\": [\"paani_puri\", \"paani_puris\"],\n",
    "    \"pakode\": [\"pakode\", \"pakodas\"],\n",
    "    \"pav_bhaji\": [\"pav_bhaji\", \"pav_bhajis\"],\n",
    "    \"pizza\": [\"pizza\", \"pizzas\"],\n",
    "    \"samosa\": [\"samosa\", \"samosas\"],\n",
    "    \"sushi\": [\"sushi\", \"sushis\"]\n",
    "}\n",
    "\n",
    "# Baked Potato, Baked Potatoes, Crispy Chicken, Crispy Chickens, Donut, Donuts, Fries, Fry, Hot Dog, Hot Dogs, Sandwich, Sandwiches, Taco, Tacos, Taquito, Taquitos, apple_pie, apple_pies, burger, burgers, butter_naan, butter_naans, chai, chais, chapati, chapatis, cheesecake, cheesecakes, chicken_curry, chicken_curries, chole_bhature, chole_bhatures, dal_makhani, dal_makhanis, dhokla, dhoklas, fried_rice, fried_rices, ice_cream, ice_creams, idli, idlis, jalebi, jalebis, kaathi_rolls, kaathi_roll, kadai_paneer, kadai_paneers, kulfi, kulfis, masala_dosa, masala_dosas, momos, momo, omelette, omelettes, paani_puri, paani_puris, pakode, pakodas, pav_bhaji, pav_bhajis, pizza, pizzas, samosa, samosas, sushi, sushis\n",
    "\n",
    "# dict_size(f68)\n",
    "print(aOcheck_accuracy(\"WithoutIP/food34/f68.csv\", f68))\n"
   ]
  },
  {
   "cell_type": "code",
   "execution_count": 431,
   "metadata": {},
   "outputs": [
    {
     "name": "stdout",
     "output_type": "stream",
     "text": [
      "86.55\n",
      "86.55\n"
     ]
    }
   ],
   "source": [
    "f102 = {\n",
    "    \"Baked Potato\": [\"Baked Potato\", \"Baked Potatoes\", \"Large Baked Potato\"],\n",
    "    \"Crispy Chicken\": [\"Crispy Chicken\", \"Crispy Chickens\", \"Large Crispy Chicken\"],\n",
    "    \"Donut\": [\"Donut\", \"Donuts\", \"Large Donut\"],\n",
    "    \"Fries\": [\"Fries\", \"Fry\", \"Large Fries\"],\n",
    "    \"Hot Dog\": [\"Hot Dog\", \"Hot Dogs\", \"Large Hot Dog\"],\n",
    "    \"Sandwich\": [\"Sandwich\", \"Sandwiches\", \"Large Sandwich\"],\n",
    "    \"Taco\": [\"Taco\", \"Tacos\", \"Large Taco\"],\n",
    "    \"Taquito\": [\"Taquito\", \"Taquitos\", \"Large Taquito\"],\n",
    "    \"apple_pie\": [\"apple_pie\", \"apple_pies\", \"Large apple_pie\"],\n",
    "    \"burger\": [\"burger\", \"burgers\", \"Large burger\"],\n",
    "    \"butter_naan\": [\"butter_naan\", \"butter_naans\", \"Large butter_naan\"],\n",
    "    \"chai\": [\"chai\", \"chais\", \"Large chai\"],\n",
    "    \"chapati\": [\"chapati\", \"chapatis\", \"Large chapati\"],\n",
    "    \"cheesecake\": [\"cheesecake\", \"cheesecakes\", \"Large cheesecake\"],\n",
    "    \"chicken_curry\": [\"chicken_curry\", \"chicken_curries\", \"Large chicken_curry\"],\n",
    "    \"chole_bhature\": [\"chole_bhature\", \"chole_bhatures\", \"Large chole_bhature\"],\n",
    "    \"dal_makhani\": [\"dal_makhani\", \"dal_makhanis\", \"Large dal_makhani\"],\n",
    "    \"dhokla\": [\"dhokla\", \"dhoklas\", \"Large dhokla\"],\n",
    "    \"fried_rice\": [\"fried_rice\", \"fried_rices\", \"Large fried_rice\"],\n",
    "    \"ice_cream\": [\"ice_cream\", \"ice_creams\", \"Large ice_cream\"],\n",
    "    \"idli\": [\"idli\", \"idlis\", \"Large idli\"],\n",
    "    \"jalebi\": [\"jalebi\", \"jalebis\", \"Large jalebi\"],\n",
    "    \"kaathi_rolls\": [\"kaathi_rolls\", \"kaathi_roll\", \"Large kaathi_rolls\"],\n",
    "    \"kadai_paneer\": [\"kadai_paneer\", \"kadai_paneers\", \"Large kadai_paneer\"],\n",
    "    \"kulfi\": [\"kulfi\", \"kulfis\", \"Large kulfi\"],\n",
    "    \"masala_dosa\": [\"masala_dosa\", \"masala_dosas\", \"Large masala_dosa\"],\n",
    "    \"momos\": [\"momos\", \"momo\", \"Large momos\"],\n",
    "    \"omelette\": [\"omelette\", \"omelettes\", \"Large omelette\"],\n",
    "    \"paani_puri\": [\"paani_puri\", \"paani_puris\", \"Large paani_puri\"],\n",
    "    \"pakode\": [\"pakode\", \"pakodas\", \"Large pakode\"],\n",
    "    \"pav_bhaji\": [\"pav_bhaji\", \"pav_bhajis\", \"Large pav_bhaji\"],\n",
    "    \"pizza\": [\"pizza\", \"pizzas\", \"Large pizza\"],\n",
    "    \"samosa\": [\"samosa\", \"samosas\", \"Large samosa\"],\n",
    "    \"sushi\": [\"sushi\", \"sushis\", \"Large sushi\"]\n",
    "}\n",
    "\n",
    "# Baked Potato, Baked Potatoes, Large Baked Potato, Crispy Chicken, Crispy Chickens, Large Crispy Chicken, Donut, Donuts, Large Donut, Fries, Fry, Large Fries, Hot Dog, Hot Dogs, Large Hot Dog, Sandwich, Sandwiches, Large Sandwich, Taco, Tacos, Large Taco, Taquito, Taquitos, Large Taquito, apple_pie, apple_pies, Large apple_pie, burger, burgers, Large burger, butter_naan, butter_naans, Large butter_naan, chai, chais, Large chai, chapati, chapatis, Large chapati, cheesecake, cheesecakes, Large cheesecake, chicken_curry, chicken_curries, Large chicken_curry, chole_bhature, chole_bhatures, Large chole_bhature, dal_makhani, dal_makhanis, Large dal_makhani, dhokla, dhoklas, Large dhokla, fried_rice, fried_rices, Large fried_rice, ice_cream, ice_creams, Large ice_cream, idli, idlis, Large idli, jalebi, jalebis, Large jalebi, kaathi_rolls, kaathi_roll, Large kaathi_rolls, kadai_paneer, kadai_paneers, Large kadai_paneer, kulfi, kulfis, Large kulfi, masala_dosa, masala_dosas, Large masala_dosa, momos, momo, Large momos, omelette, omelettes, Large omelette, paani_puri, paani_puris, Large paani_puri, pakode, pakodas, Large pakode, pav_bhaji, pav_bhajis, Large pav_bhaji, pizza, pizzas, Large pizza, samosa, samosas, Large samosa, sushi, sushis, Large sushi\n",
    "\n",
    "# dict_size(f102)\n",
    "print(aOcheck_accuracy(\"WithoutIP/food34/f102.csv\", f102))\n"
   ]
  },
  {
   "cell_type": "code",
   "execution_count": 432,
   "metadata": {},
   "outputs": [
    {
     "name": "stdout",
     "output_type": "stream",
     "text": [
      "86.55\n",
      "86.55\n"
     ]
    }
   ],
   "source": [
    "f136 = {\n",
    "    \"Baked Potato\": [\"Baked Potato\", \"Baked Potatoes\", \"Large Baked Potato\", \"Large Baked Potatoes\"],\n",
    "    \"Crispy Chicken\": [\"Crispy Chicken\", \"Crispy Chickens\", \"Large Crispy Chicken\", \"Large Crispy Chickens\"],\n",
    "    \"Donut\": [\"Donut\", \"Donuts\", \"Large Donut\", \"Large Donuts\"],\n",
    "    \"Fries\": [\"Fries\", \"Fry\", \"Large Fries\", \"Large Fry\"],\n",
    "    \"Hot Dog\": [\"Hot Dog\", \"Hot Dogs\", \"Large Hot Dog\", \"Large Hot Dogs\"],\n",
    "    \"Sandwich\": [\"Sandwich\", \"Sandwiches\", \"Large Sandwich\", \"Large Sandwiches\"],\n",
    "    \"Taco\": [\"Taco\", \"Tacos\", \"Large Taco\", \"Large Tacos\"],\n",
    "    \"Taquito\": [\"Taquito\", \"Taquitos\", \"Large Taquito\", \"Large Taquitos\"],\n",
    "    \"apple_pie\": [\"apple_pie\", \"apple_pies\", \"Large apple_pie\", \"Large apple_pies\"],\n",
    "    \"burger\": [\"burger\", \"burgers\", \"Large burger\", \"Large burgers\"],\n",
    "    \"butter_naan\": [\"butter_naan\", \"butter_naans\", \"Large butter_naan\", \"Large butter_naans\"],\n",
    "    \"chai\": [\"chai\", \"chais\", \"Large chai\", \"Large chais\"],\n",
    "    \"chapati\": [\"chapati\", \"chapatis\", \"Large chapati\", \"Large chapatis\"],\n",
    "    \"cheesecake\": [\"cheesecake\", \"cheesecakes\", \"Large cheesecake\", \"Large cheesecakes\"],\n",
    "    \"chicken_curry\": [\"chicken_curry\", \"chicken_curries\", \"Large chicken_curry\", \"Large chicken_curries\"],\n",
    "    \"chole_bhature\": [\"chole_bhature\", \"chole_bhatures\", \"Large chole_bhature\", \"Large chole_bhatures\"],\n",
    "    \"dal_makhani\": [\"dal_makhani\", \"dal_makhanis\", \"Large dal_makhani\", \"Large dal_makhanis\"],\n",
    "    \"dhokla\": [\"dhokla\", \"dhoklas\", \"Large dhokla\", \"Large dhoklas\"],\n",
    "    \"fried_rice\": [\"fried_rice\", \"fried_rices\", \"Large fried_rice\", \"Large fried_rices\"],\n",
    "    \"ice_cream\": [\"ice_cream\", \"ice_creams\", \"Large ice_cream\", \"Large ice_creams\"],\n",
    "    \"idli\": [\"idli\", \"idlis\", \"Large idli\", \"Large idlis\"],\n",
    "    \"jalebi\": [\"jalebi\", \"jalebis\", \"Large jalebi\", \"Large jalebis\"],\n",
    "    \"kaathi_rolls\": [\"kaathi_rolls\", \"kaathi_roll\", \"Large kaathi_rolls\", \"Large kaathi_roll\"],\n",
    "    \"kadai_paneer\": [\"kadai_paneer\", \"kadai_paneers\", \"Large kadai_paneer\", \"Large kadai_paneers\"],\n",
    "    \"kulfi\": [\"kulfi\", \"kulfis\", \"Large kulfi\", \"Large kulfis\"],\n",
    "    \"masala_dosa\": [\"masala_dosa\", \"masala_dosas\", \"Large masala_dosa\", \"Large masala_dosas\"],\n",
    "    \"momos\": [\"momos\", \"momo\", \"Large momos\", \"Large momo\"],\n",
    "    \"omelette\": [\"omelette\", \"omelettes\", \"Large omelette\", \"Large omelettes\"],\n",
    "    \"paani_puri\": [\"paani_puri\", \"paani_puris\", \"Large paani_puri\", \"Large paani_puris\"],\n",
    "    \"pakode\": [\"pakode\", \"pakodas\", \"Large pakode\", \"Large pakodas\"],\n",
    "    \"pav_bhaji\": [\"pav_bhaji\", \"pav_bhajis\", \"Large pav_bhaji\", \"Large pav_bhajis\"],\n",
    "    \"pizza\": [\"pizza\", \"pizzas\", \"Large pizza\", \"Large pizzas\"],\n",
    "    \"samosa\": [\"samosa\", \"samosas\", \"Large samosa\", \"Large samosas\"],\n",
    "    \"sushi\": [\"sushi\", \"sushis\", \"Large sushi\", \"Large sushis\"]\n",
    "}\n",
    "\n",
    "# Baked Potato, Baked Potatoes, Large Baked Potato, Large Baked Potatoes, Crispy Chicken, Crispy Chickens, Large Crispy Chicken, Large Crispy Chickens, Donut, Donuts, Large Donut, Large Donuts, Fries, Fry, Large Fries, Large Fry, Hot Dog, Hot Dogs, Large Hot Dog, Large Hot Dogs, Sandwich, Sandwiches, Large Sandwich, Large Sandwiches, Taco, Tacos, Large Taco, Large Tacos, Taquito, Taquitos, Large Taquito, Large Taquitos, apple_pie, apple_pies, Large apple_pie, Large apple_pies, burger, burgers, Large burger, Large burgers, butter_naan, butter_naans, Large butter_naan, Large butter_naans, chai, chais, Large chai, Large chais, chapati, chapatis, Large chapati, Large chapatis, cheesecake, cheesecakes, Large cheesecake, Large cheesecakes, chicken_curry, chicken_curries, Large chicken_curry, Large chicken_curries, chole_bhature, chole_bhatures, Large chole_bhature, Large chole_bhatures, dal_makhani, dal_makhanis, Large dal_makhani, Large dal_makhanis, dhokla, dhoklas, Large dhokla, Large dhoklas, fried_rice, fried_rices, Large fried_rice, Large fried_rices, ice_cream, ice_creams, Large ice_cream, Large ice_creams, idli, idlis, Large idli, Large idlis, jalebi, jalebis, Large jalebi, Large jalebis, kaathi_rolls, kaathi_roll, Large kaathi_rolls, Large kaathi_roll, kadai_paneer, kadai_paneers, Large kadai_paneer, Large kadai_paneers, kulfi, kulfis, Large kulfi, Large kulfis, masala_dosa, masala_dosas, Large masala_dosa, Large masala_dosas, momos, momo, Large momos, Large momo, omelette, omelettes, Large omelette, Large omelettes, paani_puri, paani_puris, Large paani_puri, Large paani_puris, pakode, pakodas, Large pakode, Large pakodas, pav_bhaji, pav_bhajis, Large pav_bhaji, Large pav_bhajis, pizza, pizzas, Large pizza, Large pizzas, samosa, samosas, Large samosa, Large samosas, sushi, sushis, Large sushi, Large sushis\n",
    "\n",
    "# dict_size(f136)\n",
    "print(aOcheck_accuracy(\"WithoutIP/food34/f136.csv\", f136))\n"
   ]
  },
  {
   "cell_type": "code",
   "execution_count": 433,
   "metadata": {},
   "outputs": [
    {
     "name": "stdout",
     "output_type": "stream",
     "text": [
      "86.55\n",
      "86.55\n"
     ]
    }
   ],
   "source": [
    "f170 = {\n",
    "    \"Baked Potato\": [\"Baked Potato\", \"Baked Potatoes\", \"Large Baked Potato\", \"Large Baked Potatoes\", \"Small Baked Potato\"],\n",
    "    \"Crispy Chicken\": [\"Crispy Chicken\", \"Crispy Chickens\", \"Large Crispy Chicken\", \"Large Crispy Chickens\", \"Small Crispy Chicken\"],\n",
    "    \"Donut\": [\"Donut\", \"Donuts\", \"Large Donut\", \"Large Donuts\", \"Small Donut\"],\n",
    "    \"Fries\": [\"Fries\", \"Fry\", \"Large Fries\", \"Large Fry\", \"Small Fries\"],\n",
    "    \"Hot Dog\": [\"Hot Dog\", \"Hot Dogs\", \"Large Hot Dog\", \"Large Hot Dogs\", \"Small Hot Dog\"],\n",
    "    \"Sandwich\": [\"Sandwich\", \"Sandwiches\", \"Large Sandwich\", \"Large Sandwiches\", \"Small Sandwich\"],\n",
    "    \"Taco\": [\"Taco\", \"Tacos\", \"Large Taco\", \"Large Tacos\", \"Small Taco\"],\n",
    "    \"Taquito\": [\"Taquito\", \"Taquitos\", \"Large Taquito\", \"Large Taquitos\", \"Small Taquito\"],\n",
    "    \"apple_pie\": [\"apple_pie\", \"apple_pies\", \"Large apple_pie\", \"Large apple_pies\", \"Small apple_pie\"],\n",
    "    \"burger\": [\"burger\", \"burgers\", \"Large burger\", \"Large burgers\", \"Small burger\"],\n",
    "    \"butter_naan\": [\"butter_naan\", \"butter_naans\", \"Large butter_naan\", \"Large butter_naans\", \"Small butter_naan\"],\n",
    "    \"chai\": [\"chai\", \"chais\", \"Large chai\", \"Large chais\", \"Small chai\"],\n",
    "    \"chapati\": [\"chapati\", \"chapatis\", \"Large chapati\", \"Large chapatis\", \"Small chapati\"],\n",
    "    \"cheesecake\": [\"cheesecake\", \"cheesecakes\", \"Large cheesecake\", \"Large cheesecakes\", \"Small cheesecake\"],\n",
    "    \"chicken_curry\": [\"chicken_curry\", \"chicken_curries\", \"Large chicken_curry\", \"Large chicken_curries\", \"Small chicken_curry\"],\n",
    "    \"chole_bhature\": [\"chole_bhature\", \"chole_bhatures\", \"Large chole_bhature\", \"Large chole_bhatures\", \"Small chole_bhature\"],\n",
    "    \"dal_makhani\": [\"dal_makhani\", \"dal_makhanis\", \"Large dal_makhani\", \"Large dal_makhanis\", \"Small dal_makhani\"],\n",
    "    \"dhokla\": [\"dhokla\", \"dhoklas\", \"Large dhokla\", \"Large dhoklas\", \"Small dhokla\"],\n",
    "    \"fried_rice\": [\"fried_rice\", \"fried_rices\", \"Large fried_rice\", \"Large fried_rices\", \"Small fried_rice\"],\n",
    "    \"ice_cream\": [\"ice_cream\", \"ice_creams\", \"Large ice_cream\", \"Large ice_creams\", \"Small ice_cream\"],\n",
    "    \"idli\": [\"idli\", \"idlis\", \"Large idli\", \"Large idlis\", \"Small idli\"],\n",
    "    \"jalebi\": [\"jalebi\", \"jalebis\", \"Large jalebi\", \"Large jalebis\", \"Small jalebi\"],\n",
    "    \"kaathi_rolls\": [\"kaathi_rolls\", \"kaathi_roll\", \"Large kaathi_rolls\", \"Large kaathi_roll\", \"Small kaathi_rolls\"],\n",
    "    \"kadai_paneer\": [\"kadai_paneer\", \"kadai_paneers\", \"Large kadai_paneer\", \"Large kadai_paneers\", \"Small kadai_paneer\"],\n",
    "    \"kulfi\": [\"kulfi\", \"kulfis\", \"Large kulfi\", \"Large kulfis\", \"Small kulfi\"],\n",
    "    \"masala_dosa\": [\"masala_dosa\", \"masala_dosas\", \"Large masala_dosa\", \"Large masala_dosas\", \"Small masala_dosa\"],\n",
    "    \"momos\": [\"momos\", \"momo\", \"Large momos\", \"Large momo\", \"Small momos\"],\n",
    "    \"omelette\": [\"omelette\", \"omelettes\", \"Large omelette\", \"Large omelettes\", \"Small omelette\"],\n",
    "    \"paani_puri\": [\"paani_puri\", \"paani_puris\", \"Large paani_puri\", \"Large paani_puris\", \"Small paani_puri\"],\n",
    "    \"pakode\": [\"pakode\", \"pakodas\", \"Large pakode\", \"Large pakodas\", \"Small pakode\"],\n",
    "    \"pav_bhaji\": [\"pav_bhaji\", \"pav_bhajis\", \"Large pav_bhaji\", \"Large pav_bhajis\", \"Small pav_bhaji\"],\n",
    "    \"pizza\": [\"pizza\", \"pizzas\", \"Large pizza\", \"Large pizzas\", \"Small pizza\"],\n",
    "    \"samosa\": [\"samosa\", \"samosas\", \"Large samosa\", \"Large samosas\", \"Small samosa\"],\n",
    "    \"sushi\": [\"sushi\", \"sushis\", \"Large sushi\", \"Large sushis\", \"Small sushi\"]\n",
    "}\n",
    "\n",
    "# Baked Potato, Baked Potatoes, Large Baked Potato, Large Baked Potatoes, Small Baked Potato, Crispy Chicken, Crispy Chickens, Large Crispy Chicken, Large Crispy Chickens, Small Crispy Chicken, Donut, Donuts, Large Donut, Large Donuts, Small Donut, Fries, Fry, Large Fries, Large Fry, Small Fries, Hot Dog, Hot Dogs, Large Hot Dog, Large Hot Dogs, Small Hot Dog, Sandwich, Sandwiches, Large Sandwich, Large Sandwiches, Small Sandwich, Taco, Tacos, Large Taco, Large Tacos, Small Taco, Taquito, Taquitos, Large Taquito, Large Taquitos, Small Taquito, apple_pie, apple_pies, Large apple_pie, Large apple_pies, Small apple_pie, burger, burgers, Large burger, Large burgers, Small burger, butter_naan, butter_naans, Large butter_naan, Large butter_naans, Small butter_naan, chai, chais, Large chai, Large chais, Small chai, chapati, chapatis, Large chapati, Large chapatis, Small chapati, cheesecake, cheesecakes, Large cheesecake, Large cheesecakes, Small cheesecake, chicken_curry, chicken_curries, Large chicken_curry, Large chicken_curries, Small chicken_curry, chole_bhature, chole_bhatures, Large chole_bhature, Large chole_bhatures, Small chole_bhature, dal_makhani, dal_makhanis, Large dal_makhani, Large dal_makhanis, Small dal_makhani, dhokla, dhoklas, Large dhokla, Large dhoklas, Small dhokla, fried_rice, fried_rices, Large fried_rice, Large fried_rices, Small fried_rice, ice_cream, ice_creams, Large ice_cream, Large ice_creams, Small ice_cream, idli, idlis, Large idli, Large idlis, Small idli, jalebi, jalebis, Large jalebi, Large jalebis, Small jalebi, kaathi_rolls, kaathi_roll, Large kaathi_rolls, Large kaathi_roll, Small kaathi_rolls, kadai_paneer, kadai_paneers, Large kadai_paneer, Large kadai_paneers, Small kadai_paneer, kulfi, kulfis, Large kulfi, Large kulfis, Small kulfi, masala_dosa, masala_dosas, Large masala_dosa, Large masala_dosas, Small masala_dosa, momos, momo, Large momos, Large momo, Small momos, omelette, omelettes, Large omelette, Large omelettes, Small omelette, paani_puri, paani_puris, Large paani_puri, Large paani_puris, Small paani_puri, pakode, pakodas, Large pakode, Large pakodas, Small pakode, pav_bhaji, pav_bhajis, Large pav_bhaji, Large pav_bhajis, Small pav_bhaji, pizza, pizzas, Large pizza, Large pizzas, Small pizza, samosa, samosas, Large samosa, Large samosas, Small samosa, sushi, sushis, Large sushi, Large sushis, Small sushi\n",
    "\n",
    "# dict_size(f170)\n",
    "print(aOcheck_accuracy(\"WithoutIP/food34/f170.csv\", f170))\n"
   ]
  },
  {
   "cell_type": "code",
   "execution_count": 434,
   "metadata": {},
   "outputs": [
    {
     "name": "stdout",
     "output_type": "stream",
     "text": [
      "86.55\n",
      "86.55\n"
     ]
    }
   ],
   "source": [
    "f204 = {\n",
    "    \"Baked Potato\": [\"Baked Potato\", \"Baked Potatoes\", \"Large Baked Potato\", \"Large Baked Potatoes\", \"Small Baked Potato\", \"Small Baked Potatoes\"],\n",
    "    \"Crispy Chicken\": [\"Crispy Chicken\", \"Crispy Chickens\", \"Large Crispy Chicken\", \"Large Crispy Chickens\", \"Small Crispy Chicken\", \"Small Crispy Chickens\"],\n",
    "    \"Donut\": [\"Donut\", \"Donuts\", \"Large Donut\", \"Large Donuts\", \"Small Donut\", \"Small Donuts\"],\n",
    "    \"Fries\": [\"Fries\", \"Fry\", \"Large Fries\", \"Large Fry\", \"Small Fries\", \"Small Fry\"],\n",
    "    \"Hot Dog\": [\"Hot Dog\", \"Hot Dogs\", \"Large Hot Dog\", \"Large Hot Dogs\", \"Small Hot Dog\", \"Small Hot Dogs\"],\n",
    "    \"Sandwich\": [\"Sandwich\", \"Sandwiches\", \"Large Sandwich\", \"Large Sandwiches\", \"Small Sandwich\", \"Small Sandwiches\"],\n",
    "    \"Taco\": [\"Taco\", \"Tacos\", \"Large Taco\", \"Large Tacos\", \"Small Taco\", \"Small Tacos\"],\n",
    "    \"Taquito\": [\"Taquito\", \"Taquitos\", \"Large Taquito\", \"Large Taquitos\", \"Small Taquito\", \"Small Taquitos\"],\n",
    "    \"apple_pie\": [\"apple_pie\", \"apple_pies\", \"Large apple_pie\", \"Large apple_pies\", \"Small apple_pie\", \"Small apple_pies\"],\n",
    "    \"burger\": [\"burger\", \"burgers\", \"Large burger\", \"Large burgers\", \"Small burger\", \"Small burgers\"],\n",
    "    \"butter_naan\": [\"butter_naan\", \"butter_naans\", \"Large butter_naan\", \"Large butter_naans\", \"Small butter_naan\", \"Small butter_naans\"],\n",
    "    \"chai\": [\"chai\", \"chais\", \"Large chai\", \"Large chais\", \"Small chai\", \"Small chais\"],\n",
    "    \"chapati\": [\"chapati\", \"chapatis\", \"Large chapati\", \"Large chapatis\", \"Small chapati\", \"Small chapatis\"],\n",
    "    \"cheesecake\": [\"cheesecake\", \"cheesecakes\", \"Large cheesecake\", \"Large cheesecakes\", \"Small cheesecake\", \"Small cheesecakes\"],\n",
    "    \"chicken_curry\": [\"chicken_curry\", \"chicken_curries\", \"Large chicken_curry\", \"Large chicken_curries\", \"Small chicken_curry\", \"Small chicken_curries\"],\n",
    "    \"chole_bhature\": [\"chole_bhature\", \"chole_bhatures\", \"Large chole_bhature\", \"Large chole_bhatures\", \"Small chole_bhature\", \"Small chole_bhatures\"],\n",
    "    \"dal_makhani\": [\"dal_makhani\", \"dal_makhanis\", \"Large dal_makhani\", \"Large dal_makhanis\", \"Small dal_makhani\", \"Small dal_makhanis\"],\n",
    "    \"dhokla\": [\"dhokla\", \"dhoklas\", \"Large dhokla\", \"Large dhoklas\", \"Small dhokla\", \"Small dhoklas\"],\n",
    "    \"fried_rice\": [\"fried_rice\", \"fried_rices\", \"Large fried_rice\", \"Large fried_rices\", \"Small fried_rice\", \"Small fried_rices\"],\n",
    "    \"ice_cream\": [\"ice_cream\", \"ice_creams\", \"Large ice_cream\", \"Large ice_creams\", \"Small ice_cream\", \"Small ice_creams\"],\n",
    "    \"idli\": [\"idli\", \"idlis\", \"Large idli\", \"Large idlis\", \"Small idli\", \"Small idlis\"],\n",
    "    \"jalebi\": [\"jalebi\", \"jalebis\", \"Large jalebi\", \"Large jalebis\", \"Small jalebi\", \"Small jalebis\"],\n",
    "    \"kaathi_rolls\": [\"kaathi_rolls\", \"kaathi_roll\", \"Large kaathi_rolls\", \"Large kaathi_roll\", \"Small kaathi_rolls\", \"Small kaathi_roll\"],\n",
    "    \"kadai_paneer\": [\"kadai_paneer\", \"kadai_paneers\", \"Large kadai_paneer\", \"Large kadai_paneers\", \"Small kadai_paneer\", \"Small kadai_paneers\"],\n",
    "    \"kulfi\": [\"kulfi\", \"kulfis\", \"Large kulfi\", \"Large kulfis\", \"Small kulfi\", \"Small kulfis\"],\n",
    "    \"masala_dosa\": [\"masala_dosa\", \"masala_dosas\", \"Large masala_dosa\", \"Large masala_dosas\", \"Small masala_dosa\", \"Small masala_dosas\"],\n",
    "    \"momos\": [\"momos\", \"momo\", \"Large momos\", \"Large momo\", \"Small momos\", \"Small momo\"],\n",
    "    \"omelette\": [\"omelette\", \"omelettes\", \"Large omelette\", \"Large omelettes\", \"Small omelette\", \"Small omelettes\"],\n",
    "    \"paani_puri\": [\"paani_puri\", \"paani_puris\", \"Large paani_puri\", \"Large paani_puris\", \"Small paani_puri\", \"Small paani_puris\"],\n",
    "    \"pakode\": [\"pakode\", \"pakodas\", \"Large pakode\", \"Large pakodas\", \"Small pakode\", \"Small pakodas\"],\n",
    "    \"pav_bhaji\": [\"pav_bhaji\", \"pav_bhajis\", \"Large pav_bhaji\", \"Large pav_bhajis\", \"Small pav_bhaji\", \"Small pav_bhajis\"],\n",
    "    \"pizza\": [\"pizza\", \"pizzas\", \"Large pizza\", \"Large pizzas\", \"Small pizza\", \"Small pizzas\"],\n",
    "    \"samosa\": [\"samosa\", \"samosas\", \"Large samosa\", \"Large samosas\", \"Small samosa\", \"Small samosas\"],\n",
    "    \"sushi\": [\"sushi\", \"sushis\", \"Large sushi\", \"Large sushis\", \"Small sushi\", \"Small sushis\"]\n",
    "}\n",
    "\n",
    "# Baked Potato, Baked Potatoes, Large Baked Potato, Large Baked Potatoes, Small Baked Potato, Small Baked Potatoes, Crispy Chicken, Crispy Chickens, Large Crispy Chicken, Large Crispy Chickens, Small Crispy Chicken, Small Crispy Chickens, Donut, Donuts, Large Donut, Large Donuts, Small Donut, Small Donuts, Fries, Fry, Large Fries, Large Fry, Small Fries, Small Fry, Hot Dog, Hot Dogs, Large Hot Dog, Large Hot Dogs, Small Hot Dog, Small Hot Dogs, Sandwich, Sandwiches, Large Sandwich, Large Sandwiches, Small Sandwich, Small Sandwiches, Taco, Tacos, Large Taco, Large Tacos, Small Taco, Small Tacos, Taquito, Taquitos, Large Taquito, Large Taquitos, Small Taquito, Small Taquitos, apple_pie, apple_pies, Large apple_pie, Large apple_pies, Small apple_pie, Small apple_pies, burger, burgers, Large burger, Large burgers, Small burger, Small burgers, butter_naan, butter_naans, Large butter_naan, Large butter_naans, Small butter_naan, Small butter_naans, chai, chais, Large chai, Large chais, Small chai, Small chais, chapati, chapatis, Large chapati, Large chapatis, Small chapati, Small chapatis, cheesecake, cheesecakes, Large cheesecake, Large cheesecakes, Small cheesecake, Small cheesecakes, chicken_curry, chicken_curries, Large chicken_curry, Large chicken_curries, Small chicken_curry, Small chicken_curries, chole_bhature, chole_bhatures, Large chole_bhature, Large chole_bhatures, Small chole_bhature, Small chole_bhatures, dal_makhani, dal_makhanis, Large dal_makhani, Large dal_makhanis, Small dal_makhani, Small dal_makhanis, dhokla, dhoklas, Large dhokla, Large dhoklas, Small dhokla, Small dhoklas, fried_rice, fried_rices, Large fried_rice, Large fried_rices, Small fried_rice, Small fried_rices, ice_cream, ice_creams, Large ice_cream, Large ice_creams, Small ice_cream, Small ice_creams, idli, idlis, Large idli, Large idlis, Small idli, Small idlis, jalebi, jalebis, Large jalebi, Large jalebis, Small jalebi, Small jalebis, kaathi_rolls, kaathi_roll, Large kaathi_rolls, Large kaathi_roll, Small kaathi_rolls, Small kaathi_roll, kadai_paneer, kadai_paneers, Large kadai_paneer, Large kadai_paneers, Small kadai_paneer, Small kadai_paneers, kulfi, kulfis, Large kulfi, Large kulfis, Small kulfi, Small kulfis, masala_dosa, masala_dosas, Large masala_dosa, Large masala_dosas, Small masala_dosa, Small masala_dosas, momos, momo, Large momos, Large momo, Small momos, Small momo, omelette, omelettes, Large omelette, Large omelettes, Small omelette, Small omelettes, paani_puri, paani_puris, Large paani_puri, Large paani_puris, Small paani_puri, Small paani_puris, pakode, pakodas, Large pakode, Large pakodas, Small pakode, Small pakodas, pav_bhaji, pav_bhajis, Large pav_bhaji, Large pav_bhajis, Small pav_bhaji, Small pav_bhajis, pizza, pizzas, Large pizza, Large pizzas, Small pizza, Small pizzas, samosa, samosas, Large samosa, Large samosas, Small samosa, Small samosas, sushi, sushis, Large sushi, Large sushis, Small sushi, Small sushis\n",
    "\n",
    "# dict_size(f204)\n",
    "print(aOcheck_accuracy(\"WithoutIP/food34/f204.csv\", f204))\n"
   ]
  },
  {
   "cell_type": "code",
   "execution_count": 435,
   "metadata": {},
   "outputs": [
    {
     "name": "stdout",
     "output_type": "stream",
     "text": [
      "86.55\n",
      "86.55\n"
     ]
    }
   ],
   "source": [
    "f238 = {\n",
    "    \"Baked Potato\": [\"Baked Potato\", \"Baked Potatoes\", \"Large Baked Potato\", \"Large Baked Potatoes\", \"Small Baked Potato\", \"Small Baked Potatoes\", \"Food Baked Potato\"],\n",
    "    \"Crispy Chicken\": [\"Crispy Chicken\", \"Crispy Chickens\", \"Large Crispy Chicken\", \"Large Crispy Chickens\", \"Small Crispy Chicken\", \"Small Crispy Chickens\", \"Food Crispy Chicken\"],\n",
    "    \"Donut\": [\"Donut\", \"Donuts\", \"Large Donut\", \"Large Donuts\", \"Small Donut\", \"Small Donuts\", \"Food Donut\"],\n",
    "    \"Fries\": [\"Fries\", \"Fry\", \"Large Fries\", \"Large Fry\", \"Small Fries\", \"Small Fry\", \"Food Fries\"],\n",
    "    \"Hot Dog\": [\"Hot Dog\", \"Hot Dogs\", \"Large Hot Dog\", \"Large Hot Dogs\", \"Small Hot Dog\", \"Small Hot Dogs\", \"Food Hot Dog\"],\n",
    "    \"Sandwich\": [\"Sandwich\", \"Sandwiches\", \"Large Sandwich\", \"Large Sandwiches\", \"Small Sandwich\", \"Small Sandwiches\", \"Food Sandwich\"],\n",
    "    \"Taco\": [\"Taco\", \"Tacos\", \"Large Taco\", \"Large Tacos\", \"Small Taco\", \"Small Tacos\", \"Food Taco\"],\n",
    "    \"Taquito\": [\"Taquito\", \"Taquitos\", \"Large Taquito\", \"Large Taquitos\", \"Small Taquito\", \"Small Taquitos\", \"Food Taquito\"],\n",
    "    \"apple_pie\": [\"apple_pie\", \"apple_pies\", \"Large apple_pie\", \"Large apple_pies\", \"Small apple_pie\", \"Small apple_pies\", \"Food apple_pie\"],\n",
    "    \"burger\": [\"burger\", \"burgers\", \"Large burger\", \"Large burgers\", \"Small burger\", \"Small burgers\", \"Food burger\"],\n",
    "    \"butter_naan\": [\"butter_naan\", \"butter_naans\", \"Large butter_naan\", \"Large butter_naans\", \"Small butter_naan\", \"Small butter_naans\", \"Food butter_naan\"],\n",
    "    \"chai\": [\"chai\", \"chais\", \"Large chai\", \"Large chais\", \"Small chai\", \"Small chais\", \"Food chai\"],\n",
    "    \"chapati\": [\"chapati\", \"chapatis\", \"Large chapati\", \"Large chapatis\", \"Small chapati\", \"Small chapatis\", \"Food chapati\"],\n",
    "    \"cheesecake\": [\"cheesecake\", \"cheesecakes\", \"Large cheesecake\", \"Large cheesecakes\", \"Small cheesecake\", \"Small cheesecakes\", \"Food cheesecake\"],\n",
    "    \"chicken_curry\": [\"chicken_curry\", \"chicken_curries\", \"Large chicken_curry\", \"Large chicken_curries\", \"Small chicken_curry\", \"Small chicken_curries\", \"Food chicken_curry\"],\n",
    "    \"chole_bhature\": [\"chole_bhature\", \"chole_bhatures\", \"Large chole_bhature\", \"Large chole_bhatures\", \"Small chole_bhature\", \"Small chole_bhatures\", \"Food chole_bhature\"],\n",
    "    \"dal_makhani\": [\"dal_makhani\", \"dal_makhanis\", \"Large dal_makhani\", \"Large dal_makhanis\", \"Small dal_makhani\", \"Small dal_makhanis\", \"Food dal_makhani\"],\n",
    "    \"dhokla\": [\"dhokla\", \"dhoklas\", \"Large dhokla\", \"Large dhoklas\", \"Small dhokla\", \"Small dhoklas\", \"Food dhokla\"],\n",
    "    \"fried_rice\": [\"fried_rice\", \"fried_rices\", \"Large fried_rice\", \"Large fried_rices\", \"Small fried_rice\", \"Small fried_rices\", \"Food fried_rice\"],\n",
    "    \"ice_cream\": [\"ice_cream\", \"ice_creams\", \"Large ice_cream\", \"Large ice_creams\", \"Small ice_cream\", \"Small ice_creams\", \"Food ice_cream\"],\n",
    "    \"idli\": [\"idli\", \"idlis\", \"Large idli\", \"Large idlis\", \"Small idli\", \"Small idlis\", \"Food idli\"],\n",
    "    \"jalebi\": [\"jalebi\", \"jalebis\", \"Large jalebi\", \"Large jalebis\", \"Small jalebi\", \"Small jalebis\", \"Food jalebi\"],\n",
    "    \"kaathi_rolls\": [\"kaathi_rolls\", \"kaathi_roll\", \"Large kaathi_rolls\", \"Large kaathi_roll\", \"Small kaathi_rolls\", \"Small kaathi_roll\", \"Food kaathi_rolls\"],\n",
    "    \"kadai_paneer\": [\"kadai_paneer\", \"kadai_paneers\", \"Large kadai_paneer\", \"Large kadai_paneers\", \"Small kadai_paneer\", \"Small kadai_paneers\", \"Food kadai_paneer\"],\n",
    "    \"kulfi\": [\"kulfi\", \"kulfis\", \"Large kulfi\", \"Large kulfis\", \"Small kulfi\", \"Small kulfis\", \"Food kulfi\"],\n",
    "    \"masala_dosa\": [\"masala_dosa\", \"masala_dosas\", \"Large masala_dosa\", \"Large masala_dosas\", \"Small masala_dosa\", \"Small masala_dosas\", \"Food masala_dosa\"],\n",
    "    \"momos\": [\"momos\", \"momo\", \"Large momos\", \"Large momo\", \"Small momos\", \"Small momo\", \"Food momos\"],\n",
    "    \"omelette\": [\"omelette\", \"omelettes\", \"Large omelette\", \"Large omelettes\", \"Small omelette\", \"Small omelettes\", \"Food omelette\"],\n",
    "    \"paani_puri\": [\"paani_puri\", \"paani_puris\", \"Large paani_puri\", \"Large paani_puris\", \"Small paani_puri\", \"Small paani_puris\", \"Food paani_puri\"],\n",
    "    \"pakode\": [\"pakode\", \"pakodas\", \"Large pakode\", \"Large pakodas\", \"Small pakode\", \"Small pakodas\", \"Food pakode\"],\n",
    "    \"pav_bhaji\": [\"pav_bhaji\", \"pav_bhajis\", \"Large pav_bhaji\", \"Large pav_bhajis\", \"Small pav_bhaji\", \"Small pav_bhajis\", \"Food pav_bhaji\"],\n",
    "    \"pizza\": [\"pizza\", \"pizzas\", \"Large pizza\", \"Large pizzas\", \"Small pizza\", \"Small pizzas\", \"Food pizza\"],\n",
    "    \"samosa\": [\"samosa\", \"samosas\", \"Large samosa\", \"Large samosas\", \"Small samosa\", \"Small samosas\", \"Food samosa\"],\n",
    "    \"sushi\": [\"sushi\", \"sushis\", \"Large sushi\", \"Large sushis\", \"Small sushi\", \"Small sushis\", \"Food sushi\"]\n",
    "}\n",
    "\n",
    "# Baked Potato, Baked Potatoes, Large Baked Potato, Large Baked Potatoes, Small Baked Potato, Small Baked Potatoes, Food Baked Potato, Crispy Chicken, Crispy Chickens, Large Crispy Chicken, Large Crispy Chickens, Small Crispy Chicken, Small Crispy Chickens, Food Crispy Chicken, Donut, Donuts, Large Donut, Large Donuts, Small Donut, Small Donuts, Food Donut, Fries, Fry, Large Fries, Large Fry, Small Fries, Small Fry, Food Fries, Hot Dog, Hot Dogs, Large Hot Dog, Large Hot Dogs, Small Hot Dog, Small Hot Dogs, Food Hot Dog, Sandwich, Sandwiches, Large Sandwich, Large Sandwiches, Small Sandwich, Small Sandwiches, Food Sandwich, Taco, Tacos, Large Taco, Large Tacos, Small Taco, Small Tacos, Food Taco, Taquito, Taquitos, Large Taquito, Large Taquitos, Small Taquito, Small Taquitos, Food Taquito, apple_pie, apple_pies, Large apple_pie, Large apple_pies, Small apple_pie, Small apple_pies, Food apple_pie, burger, burgers, Large burger, Large burgers, Small burger, Small burgers, Food burger, butter_naan, butter_naans, Large butter_naan, Large butter_naans, Small butter_naan, Small butter_naans, Food butter_naan, chai, chais, Large chai, Large chais, Small chai, Small chais, Food chai, chapati, chapatis, Large chapati, Large chapatis, Small chapati, Small chapatis, Food chapati, cheesecake, cheesecakes, Large cheesecake, Large cheesecakes, Small cheesecake, Small cheesecakes, Food cheesecake, chicken_curry, chicken_curries, Large chicken_curry, Large chicken_curries, Small chicken_curry, Small chicken_curries, Food chicken_curry, chole_bhature, chole_bhatures, Large chole_bhature, Large chole_bhatures, Small chole_bhature, Small chole_bhatures, Food chole_bhature, dal_makhani, dal_makhanis, Large dal_makhani, Large dal_makhanis, Small dal_makhani, Small dal_makhanis, Food dal_makhani, dhokla, dhoklas, Large dhokla, Large dhoklas, Small dhokla, Small dhoklas, Food dhokla, fried_rice, fried_rices, Large fried_rice, Large fried_rices, Small fried_rice, Small fried_rices, Food fried_rice, ice_cream, ice_creams, Large ice_cream, Large ice_creams, Small ice_cream, Small ice_creams, Food ice_cream, idli, idlis, Large idli, Large idlis, Small idli, Small idlis, Food idli, jalebi, jalebis, Large jalebi, Large jalebis, Small jalebi, Small jalebis, Food jalebi, kaathi_rolls, kaathi_roll, Large kaathi_rolls, Large kaathi_roll, Small kaathi_rolls, Small kaathi_roll, Food kaathi_rolls, kadai_paneer, kadai_paneers, Large kadai_paneer, Large kadai_paneers, Small kadai_paneer, Small kadai_paneers, Food kadai_paneer, kulfi, kulfis, Large kulfi, Large kulfis, Small kulfi, Small kulfis, Food kulfi, masala_dosa, masala_dosas, Large masala_dosa, Large masala_dosas, Small masala_dosa, Small masala_dosas, Food masala_dosa, momos, momo, Large momos, Large momo, Small momos, Small momo, Food momos, omelette, omelettes, Large omelette, Large omelettes, Small omelette, Small omelettes, Food omelette, paani_puri, paani_puris, Large paani_puri, Large paani_puris, Small paani_puri, Small paani_puris, Food paani_puri, pakode, pakodas, Large pakode, Large pakodas, Small pakode, Small pakodas, Food pakode, pav_bhaji, pav_bhajis, Large pav_bhaji, Large pav_bhajis, Small pav_bhaji, Small pav_bhajis, Food pav_bhaji, pizza, pizzas, Large pizza, Large pizzas, Small pizza, Small pizzas, Food pizza, samosa, samosas, Large samosa, Large samosas, Small samosa, Small samosas, Food samosa, sushi, sushis, Large sushi, Large sushis, Small sushi, Small sushis, Food sushi\n",
    "\n",
    "# dict_size(f238)\n",
    "print(aOcheck_accuracy(\"WithoutIP/food34/f238.csv\", f238))\n"
   ]
  },
  {
   "cell_type": "code",
   "execution_count": 436,
   "metadata": {},
   "outputs": [
    {
     "name": "stdout",
     "output_type": "stream",
     "text": [
      "86.55\n",
      "86.55\n"
     ]
    }
   ],
   "source": [
    "f272 = {\n",
    "    \"Baked Potato\": [\"Baked Potato\", \"Baked Potatoes\", \"Large Baked Potato\", \"Large Baked Potatoes\", \"Small Baked Potato\", \"Small Baked Potatoes\", \"Medium Baked Potato\", \"Medium Baked Potatoes\", \"Food Baked Potato\", \"Food Baked Potatoes\"],\n",
    "    \"Crispy Chicken\": [\"Crispy Chicken\", \"Crispy Chickens\", \"Large Crispy Chicken\", \"Large Crispy Chickens\", \"Small Crispy Chicken\", \"Small Crispy Chickens\", \"Medium Crispy Chicken\", \"Medium Crispy Chickens\", \"Food Crispy Chicken\", \"Food Crispy Chickens\"],\n",
    "    \"Donut\": [\"Donut\", \"Donuts\", \"Large Donut\", \"Large Donuts\", \"Small Donut\", \"Small Donuts\", \"Medium Donut\", \"Medium Donuts\", \"Food Donut\", \"Food Donuts\"],\n",
    "    \"Fries\": [\"Fries\", \"Fry\", \"Large Fries\", \"Large Fry\", \"Small Fries\", \"Small Fry\", \"Medium Fries\", \"Medium Fry\", \"Food Fries\", \"Food Fry\"],\n",
    "    \"Hot Dog\": [\"Hot Dog\", \"Hot Dogs\", \"Large Hot Dog\", \"Large Hot Dogs\", \"Small Hot Dog\", \"Small Hot Dogs\", \"Medium Hot Dog\", \"Medium Hot Dogs\", \"Food Hot Dog\", \"Food Hot Dogs\"],\n",
    "    \"Sandwich\": [\"Sandwich\", \"Sandwiches\", \"Large Sandwich\", \"Large Sandwiches\", \"Small Sandwich\", \"Small Sandwiches\", \"Medium Sandwich\", \"Medium Sandwiches\", \"Food Sandwich\", \"Food Sandwiches\"],\n",
    "    \"Taco\": [\"Taco\", \"Tacos\", \"Large Taco\", \"Large Tacos\", \"Small Taco\", \"Small Tacos\", \"Medium Taco\", \"Medium Tacos\", \"Food Taco\", \"Food Tacos\"],\n",
    "    \"Taquito\": [\"Taquito\", \"Taquitos\", \"Large Taquito\", \"Large Taquitos\", \"Small Taquito\", \"Small Taquitos\", \"Medium Taquito\", \"Medium Taquitos\", \"Food Taquito\", \"Food Taquitos\"],\n",
    "    \"apple_pie\": [\"apple_pie\", \"apple_pies\", \"Large apple_pie\", \"Large apple_pies\", \"Small apple_pie\", \"Small apple_pies\", \"Medium apple_pie\", \"Medium apple_pies\", \"Food apple_pie\", \"Food apple_pies\"],\n",
    "    \"burger\": [\"burger\", \"burgers\", \"Large burger\", \"Large burgers\", \"Small burger\", \"Small burgers\", \"Medium burger\", \"Medium burgers\", \"Food burger\", \"Food burgers\"],\n",
    "    \"butter_naan\": [\"butter_naan\", \"butter_naans\", \"Large butter_naan\", \"Large butter_naans\", \"Small butter_naan\", \"Small butter_naans\", \"Medium butter_naan\", \"Medium butter_naans\", \"Food butter_naan\", \"Food butter_naans\"],\n",
    "    \"chai\": [\"chai\", \"chais\", \"Large chai\", \"Large chais\", \"Small chai\", \"Small chais\", \"Medium chai\", \"Medium chais\", \"Food chai\", \"Food chais\"],\n",
    "    \"chapati\": [\"chapati\", \"chapatis\", \"Large chapati\", \"Large chapatis\", \"Small chapati\", \"Small chapatis\", \"Medium chapati\", \"Medium chapatis\", \"Food chapati\", \"Food chapatis\"],\n",
    "    \"cheesecake\": [\"cheesecake\", \"cheesecakes\", \"Large cheesecake\", \"Large cheesecakes\", \"Small cheesecake\", \"Small cheesecakes\", \"Medium cheesecake\", \"Medium cheesecakes\", \"Food cheesecake\", \"Food cheesecakes\"],\n",
    "    \"chicken_curry\": [\"chicken_curry\", \"chicken_curries\", \"Large chicken_curry\", \"Large chicken_curries\", \"Small chicken_curry\", \"Small chicken_curries\", \"Medium chicken_curry\", \"Medium chicken_curries\", \"Food chicken_curry\", \"Food chicken_curries\"],\n",
    "    \"chole_bhature\": [\"chole_bhature\", \"chole_bhatures\", \"Large chole_bhature\", \"Large chole_bhatures\", \"Small chole_bhature\", \"Small chole_bhatures\", \"Medium chole_bhature\", \"Medium chole_bhatures\", \"Food chole_bhature\", \"Food chole_bhatures\"],\n",
    "    \"dal_makhani\": [\"dal_makhani\", \"dal_makhanis\", \"Large dal_makhani\", \"Large dal_makhanis\", \"Small dal_makhani\", \"Small dal_makhanis\", \"Medium dal_makhani\", \"Medium dal_makhanis\", \"Food dal_makhani\", \"Food dal_makhanis\"],\n",
    "    \"dhokla\": [\"dhokla\", \"dhoklas\", \"Large dhokla\", \"Large dhoklas\", \"Small dhokla\", \"Small dhoklas\", \"Medium dhokla\", \"Medium dhoklas\", \"Food dhokla\", \"Food dhoklas\"],\n",
    "    \"fried_rice\": [\"fried_rice\", \"fried_rices\", \"Large fried_rice\", \"Large fried_rices\", \"Small fried_rice\", \"Small fried_rices\", \"Medium fried_rice\", \"Medium fried_rices\", \"Food fried_rice\", \"Food fried_rices\"],\n",
    "    \"ice_cream\": [\"ice_cream\", \"ice_creams\", \"Large ice_cream\", \"Large ice_creams\", \"Small ice_cream\", \"Small ice_creams\", \"Medium ice_cream\", \"Medium ice_creams\", \"Food ice_cream\", \"Food ice_creams\"],\n",
    "    \"idli\": [\"idli\", \"idlis\", \"Large idli\", \"Large idlis\", \"Small idli\", \"Small idlis\", \"Medium idli\", \"Medium idlis\", \"Food idli\", \"Food idlis\"],\n",
    "    \"jalebi\": [\"jalebi\", \"jalebis\", \"Large jalebi\", \"Large jalebis\", \"Small jalebi\", \"Small jalebis\", \"Medium jalebi\", \"Medium jalebis\", \"Food jalebi\", \"Food jalebis\"],\n",
    "    \"kaathi_rolls\": [\"kaathi_rolls\", \"kaathi_roll\", \"Large kaathi_rolls\", \"Large kaathi_roll\", \"Small kaathi_rolls\", \"Small kaathi_roll\", \"Medium kaathi_rolls\", \"Medium kaathi_roll\", \"Food kaathi_rolls\", \"Food kaathi_roll\"],\n",
    "    \"kadai_paneer\": [\"kadai_paneer\", \"kadai_paneers\", \"Large kadai_paneer\", \"Large kadai_paneers\", \"Small kadai_paneer\", \"Small kadai_paneers\", \"Medium kadai_paneer\", \"Medium kadai_paneers\", \"Food kadai_paneer\", \"Food kadai_paneers\"],\n",
    "    \"kulfi\": [\"kulfi\", \"kulfis\", \"Large kulfi\", \"Large kulfis\", \"Small kulfi\", \"Small kulfis\", \"Medium kulfi\", \"Medium kulfis\", \"Food kulfi\", \"Food kulfis\"],\n",
    "    \"masala_dosa\": [\"masala_dosa\", \"masala_dosas\", \"Large masala_dosa\", \"Large masala_dosas\", \"Small masala_dosa\", \"Small masala_dosas\", \"Medium masala_dosa\", \"Medium masala_dosas\", \"Food masala_dosa\", \"Food masala_dosas\"],\n",
    "    \"momos\": [\"momos\", \"momo\", \"Large momos\", \"Large momo\", \"Small momos\", \"Small momo\", \"Medium momos\", \"Medium momo\", \"Food momos\", \"Food momo\"],\n",
    "    \"omelette\": [\"omelette\", \"omelettes\", \"Large omelette\", \"Large omelettes\", \"Small omelette\", \"Small omelettes\", \"Medium omelette\", \"Medium omelettes\", \"Food omelette\", \"Food omelettes\"],\n",
    "    \"paani_puri\": [\"paani_puri\", \"paani_puris\", \"Large paani_puri\", \"Large paani_puris\", \"Small paani_puri\", \"Small paani_puris\", \"Medium paani_puri\", \"Medium paani_puris\", \"Food paani_puri\", \"Food paani_puris\"],\n",
    "    \"pakode\": [\"pakode\", \"pakodas\", \"Large pakode\", \"Large pakodas\", \"Small pakode\", \"Small pakodas\", \"Medium pakode\", \"Medium pakodas\", \"Food pakode\", \"Food pakodas\"],\n",
    "    \"pav_bhaji\": [\"pav_bhaji\", \"pav_bhajis\", \"Large pav_bhaji\", \"Large pav_bhajis\", \"Small pav_bhaji\", \"Small pav_bhajis\", \"Medium pav_bhaji\", \"Medium pav_bhajis\", \"Food pav_bhaji\", \"Food pav_bhajis\"],\n",
    "    \"pizza\": [\"pizza\", \"pizzas\", \"Large pizza\", \"Large pizzas\", \"Small pizza\", \"Small pizzas\", \"Medium pizza\", \"Medium pizzas\", \"Food pizza\", \"Food pizzas\"],\n",
    "    \"samosa\": [\"samosa\", \"samosas\", \"Large samosa\", \"Large samosas\", \"Small samosa\", \"Small samosas\", \"Medium samosa\", \"Medium samosas\", \"Food samosa\", \"Food samosas\"],\n",
    "    \"sushi\": [\"sushi\", \"sushis\", \"Large sushi\", \"Large sushis\", \"Small sushi\", \"Small sushis\", \"Medium sushi\", \"Medium sushis\", \"Food sushi\", \"Food sushis\"]\n",
    "}\n",
    "\n",
    "# Baked Potato, Baked Potatoes, Large Baked Potato, Large Baked Potatoes, Small Baked Potato, Small Baked Potatoes, Medium Baked Potato, Medium Baked Potatoes, Food Baked Potato, Food Baked Potatoes, Crispy Chicken, Crispy Chickens, Large Crispy Chicken, Large Crispy Chickens, Small Crispy Chicken, Small Crispy Chickens, Medium Crispy Chicken, Medium Crispy Chickens, Food Crispy Chicken, Food Crispy Chickens, Donut, Donuts, Large Donut, Large Donuts, Small Donut, Small Donuts, Medium Donut, Medium Donuts, Food Donut, Food Donuts, Fries, Fry, Large Fries, Large Fry, Small Fries, Small Fry, Medium Fries, Medium Fry, Food Fries, Food Fry, Hot Dog, Hot Dogs, Large Hot Dog, Large Hot Dogs, Small Hot Dog, Small Hot Dogs, Medium Hot Dog, Medium Hot Dogs, Food Hot Dog, Food Hot Dogs, Sandwich, Sandwiches, Large Sandwich, Large Sandwiches, Small Sandwich, Small Sandwiches, Medium Sandwich, Medium Sandwiches, Food Sandwich, Food Sandwiches, Taco, Tacos, Large Taco, Large Tacos, Small Taco, Small Tacos, Medium Taco, Medium Tacos, Food Taco, Food Tacos, Taquito, Taquitos, Large Taquito, Large Taquitos, Small Taquito, Small Taquitos, Medium Taquito, Medium Taquitos, Food Taquito, Food Taquitos, apple_pie, apple_pies, Large apple_pie, Large apple_pies, Small apple_pie, Small apple_pies, Medium apple_pie, Medium apple_pies, Food apple_pie, Food apple_pies, burger, burgers, Large burger, Large burgers, Small burger, Small burgers, Medium burger, Medium burgers, Food burger, Food burgers, butter_naan, butter_naans, Large butter_naan, Large butter_naans, Small butter_naan, Small butter_naans, Medium butter_naan, Medium butter_naans, Food butter_naan, Food butter_naans, chai, chais, Large chai, Large chais, Small chai, Small chais, Medium chai, Medium chais, Food chai, Food chais, chapati, chapatis, Large chapati, Large chapatis, Small chapati, Small chapatis, Medium chapati, Medium chapatis, Food chapati, Food chapatis, cheesecake, cheesecakes, Large cheesecake, Large cheesecakes, Small cheesecake, Small cheesecakes, Medium cheesecake, Medium cheesecakes, Food cheesecake, Food cheesecakes, chicken_curry, chicken_curries, Large chicken_curry, Large chicken_curries, Small chicken_curry, Small chicken_curries, Medium chicken_curry, Medium chicken_curries, Food chicken_curry, Food chicken_curries, chole_bhature, chole_bhatures, Large chole_bhature, Large chole_bhatures, Small chole_bhature, Small chole_bhatures, Medium chole_bhature, Medium chole_bhatures, Food chole_bhature, Food chole_bhatures, dal_makhani, dal_makhanis, Large dal_makhani, Large dal_makhanis, Small dal_makhani, Small dal_makhanis, Medium dal_makhani, Medium dal_makhanis, Food dal_makhani, Food dal_makhanis, dhokla, dhoklas, Large dhokla, Large dhoklas, Small dhokla, Small dhoklas, Medium dhokla, Medium dhoklas, Food dhokla, Food dhoklas, fried_rice, fried_rices, Large fried_rice, Large fried_rices, Small fried_rice, Small fried_rices, Medium fried_rice, Medium fried_rices, Food fried_rice, Food fried_rices, ice_cream, ice_creams, Large ice_cream, Large ice_creams, Small ice_cream, Small ice_creams, Medium ice_cream, Medium ice_creams, Food ice_cream, Food ice_creams, idli, idlis, Large idli, Large idlis, Small idli, Small idlis, Medium idli, Medium idlis, Food idli, Food idlis, jalebi, jalebis, Large jalebi, Large jalebis, Small jalebi, Small jalebis, Medium jalebi, Medium jalebis, Food jalebi, Food jalebis, kaathi_rolls, kaathi_roll, Large kaathi_rolls, Large kaathi_roll, Small kaathi_rolls, Small kaathi_roll, Medium kaathi_rolls, Medium kaathi_roll, Food kaathi_rolls, Food kaathi_roll, kadai_paneer, kadai_paneers, Large kadai_paneer, Large kadai_paneers, Small kadai_paneer, Small kadai_paneers, Medium kadai_paneer, Medium kadai_paneers, Food kadai_paneer, Food kadai_paneers, kulfi, kulfis, Large kulfi, Large kulfis, Small kulfi, Small kulfis, Medium kulfi, Medium kulfis, Food kulfi, Food kulfis, masala_dosa, masala_dosas, Large masala_dosa, Large masala_dosas, Small masala_dosa, Small masala_dosas, Medium masala_dosa, Medium masala_dosas, Food masala_dosa, Food masala_dosas, momos, momo, Large momos, Large momo, Small momos, Small momo, Medium momos, Medium momo, Food momos, Food momo, omelette, omelettes, Large omelette, Large omelettes, Small omelette, Small omelettes, Medium omelette, Medium omelettes, Food omelette, Food omelettes, paani_puri, paani_puris, Large paani_puri, Large paani_puris, Small paani_puri, Small paani_puris, Medium paani_puri, Medium paani_puris, Food paani_puri, Food paani_puris, pakode, pakodas, Large pakode, Large pakodas, Small pakode, Small pakodas, Medium pakode, Medium pakodas, Food pakode, Food pakodas, pav_bhaji, pav_bhajis, Large pav_bhaji, Large pav_bhajis, Small pav_bhaji, Small pav_bhajis, Medium pav_bhaji, Medium pav_bhajis, Food pav_bhaji, Food pav_bhajis, pizza, pizzas, Large pizza, Large pizzas, Small pizza, Small pizzas, Medium pizza, Medium pizzas, Food pizza, Food pizzas, samosa, samosas, Large samosa, Large samosas, Small samosa, Small samosas, Medium samosa, Medium samosas, Food samosa, Food samosas, sushi, sushis, Large sushi, Large sushis, Small sushi, Small sushis, Medium sushi, Medium sushis, Food sushi, Food sushis\n",
    "\n",
    "# dict_size(f272)\n",
    "print(aOcheck_accuracy(\"WithoutIP/food34/f272.csv\", f272))\n"
   ]
  },
  {
   "cell_type": "markdown",
   "metadata": {},
   "source": [
    "## Weather11"
   ]
  },
  {
   "cell_type": "code",
   "execution_count": 437,
   "metadata": {},
   "outputs": [
    {
     "name": "stdout",
     "output_type": "stream",
     "text": [
      "11\n",
      "66.71\n",
      "66.71\n"
     ]
    }
   ],
   "source": [
    "w11 = {\n",
    "    \"dew\" : [\"dew\"],\n",
    "    \"fogsmog\" : [\"fogsmog\"],\n",
    "    \"frost\": [\"frost\"],\n",
    "    \"glaze\" : [\"glaze\"],\n",
    "    \"hail\" : [\"hail\"],\n",
    "    \"lightning\" : [\"lightning\"],\n",
    "    \"rain\": [\"rain\"],\n",
    "    \"rainbow\" : [\"rainbow\"],\n",
    "    \"rime\": [\"rime\"],\n",
    "    \"sandstorm\" : [\"sandstorm\"],\n",
    "    \"snow\": [\"snow\"]\n",
    "}\n",
    "\n",
    "# dew, fogsmog, frost, glaze, hail, lightning, rain, rainbow, rime, sandstorm, snow\n",
    "\n",
    "dict_size(w11)\n",
    "print(aOcheck_accuracy(\"WithoutIP/weather11/w11.csv\", w11))"
   ]
  },
  {
   "cell_type": "code",
   "execution_count": 438,
   "metadata": {},
   "outputs": [
    {
     "name": "stdout",
     "output_type": "stream",
     "text": [
      "64.55\n",
      "64.55\n"
     ]
    }
   ],
   "source": [
    "w22 = {\n",
    "    \"dew\": [\"dew\", \"dews\"],\n",
    "    \"fogsmog\": [\"fogsmog\", \"fogsmogs\"],\n",
    "    \"frost\": [\"frost\", \"frosts\"],\n",
    "    \"glaze\": [\"glaze\", \"glazes\"],\n",
    "    \"hail\": [\"hail\", \"hails\"],\n",
    "    \"lightning\": [\"lightning\", \"lightnings\"],\n",
    "    \"rain\": [\"rain\", \"rains\"],\n",
    "    \"rainbow\": [\"rainbow\", \"rainbows\"],\n",
    "    \"rime\": [\"rime\", \"rimes\"],\n",
    "    \"sandstorm\": [\"sandstorm\", \"sandstorms\"],\n",
    "    \"snow\": [\"snow\", \"snows\"]\n",
    "}\n",
    "\n",
    "# dew, dews, fogsmog, fogsmogs, frost, frosts, glaze, glazes, hail, hails, lightning, lightnings, rain, rains, rainbow, rainbows, rime, rimes, sandstorm, sandstorms, snow, snows\n",
    "\n",
    "# dict_size(w22)\n",
    "print(aOcheck_accuracy(\"WithoutIP/weather11/w22.csv\", w22))\n"
   ]
  },
  {
   "cell_type": "code",
   "execution_count": 439,
   "metadata": {},
   "outputs": [
    {
     "name": "stdout",
     "output_type": "stream",
     "text": [
      "71.94\n",
      "71.94\n"
     ]
    }
   ],
   "source": [
    "w33 = {\n",
    "    \"dew\": [\"dew\", \"dews\", \"Large dew\"],\n",
    "    \"fogsmog\": [\"fogsmog\", \"fogsmogs\", \"Large fogsmog\"],\n",
    "    \"frost\": [\"frost\", \"frosts\", \"Large frost\"],\n",
    "    \"glaze\": [\"glaze\", \"glazes\", \"Large glaze\"],\n",
    "    \"hail\": [\"hail\", \"hails\", \"Large hail\"],\n",
    "    \"lightning\": [\"lightning\", \"lightnings\", \"Large lightning\"],\n",
    "    \"rain\": [\"rain\", \"rains\", \"Large rain\"],\n",
    "    \"rainbow\": [\"rainbow\", \"rainbows\", \"Large rainbow\"],\n",
    "    \"rime\": [\"rime\", \"rimes\", \"Large rime\"],\n",
    "    \"sandstorm\": [\"sandstorm\", \"sandstorms\", \"Large sandstorm\"],\n",
    "    \"snow\": [\"snow\", \"snows\", \"Large snow\"]\n",
    "}\n",
    "\n",
    "# dew, dews, Large dew, fogsmog, fogsmogs, Large fogsmog, frost, frosts, Large frost, glaze, glazes, Large glaze, hail, hails, Large hail, lightning, lightnings, Large lightning, rain, rains, Large rain, rainbow, rainbows, Large rainbow, rime, rimes, Large rime, sandstorm, sandstorms, Large sandstorm, snow, snows, Large snow\n",
    "\n",
    "# dict_size(w33)\n",
    "print(aOcheck_accuracy(\"WithoutIP/weather11/w33.csv\", w33))\n"
   ]
  },
  {
   "cell_type": "code",
   "execution_count": 440,
   "metadata": {},
   "outputs": [
    {
     "name": "stdout",
     "output_type": "stream",
     "text": [
      "71.7\n",
      "71.7\n"
     ]
    }
   ],
   "source": [
    "w44 = {\n",
    "    \"dew\": [\"dew\", \"dews\", \"Large dew\", \"Large dews\"],\n",
    "    \"fogsmog\": [\"fogsmog\", \"fogsmogs\", \"Large fogsmog\", \"Large fogsmogs\"],\n",
    "    \"frost\": [\"frost\", \"frosts\", \"Large frost\", \"Large frosts\"],\n",
    "    \"glaze\": [\"glaze\", \"glazes\", \"Large glaze\", \"Large glazes\"],\n",
    "    \"hail\": [\"hail\", \"hails\", \"Large hail\", \"Large hails\"],\n",
    "    \"lightning\": [\"lightning\", \"lightnings\", \"Large lightning\", \"Large lightnings\"],\n",
    "    \"rain\": [\"rain\", \"rains\", \"Large rain\", \"Large rains\"],\n",
    "    \"rainbow\": [\"rainbow\", \"rainbows\", \"Large rainbow\", \"Large rainbows\"],\n",
    "    \"rime\": [\"rime\", \"rimes\", \"Large rime\", \"Large rimes\"],\n",
    "    \"sandstorm\": [\"sandstorm\", \"sandstorms\", \"Large sandstorm\", \"Large sandstorms\"],\n",
    "    \"snow\": [\"snow\", \"snows\", \"Large snow\", \"Large snows\"]\n",
    "}\n",
    "\n",
    "# dew, dews, Large dew, Large dews, fogsmog, fogsmogs, Large fogsmog, Large fogsmogs, frost, frosts, Large frost, Large frosts, glaze, glazes, Large glaze, Large glazes, hail, hails, Large hail, Large hails, lightning, lightnings, Large lightning, Large lightnings, rain, rains, Large rain, Large rains, rainbow, rainbows, Large rainbow, Large rainbows, rime, rimes, Large rime, Large rimes, sandstorm, sandstorms, Large sandstorm, Large sandstorms, snow, snows, Large snow, Large snows\n",
    "\n",
    "# dict_size(w44)\n",
    "print(aOcheck_accuracy(\"WithoutIP/weather11/w44.csv\", w44))\n"
   ]
  },
  {
   "cell_type": "code",
   "execution_count": 441,
   "metadata": {},
   "outputs": [
    {
     "name": "stdout",
     "output_type": "stream",
     "text": [
      "71.98\n",
      "71.98\n"
     ]
    }
   ],
   "source": [
    "w55 = {\n",
    "    \"dew\": [\"dew\", \"dews\", \"Large dew\", \"Large dews\", \"Small dew\"],\n",
    "    \"fogsmog\": [\"fogsmog\", \"fogsmogs\", \"Large fogsmog\", \"Large fogsmogs\", \"Small fogsmog\"],\n",
    "    \"frost\": [\"frost\", \"frosts\", \"Large frost\", \"Large frosts\", \"Small frost\"],\n",
    "    \"glaze\": [\"glaze\", \"glazes\", \"Large glaze\", \"Large glazes\", \"Small glaze\"],\n",
    "    \"hail\": [\"hail\", \"hails\", \"Large hail\", \"Large hails\", \"Small hail\"],\n",
    "    \"lightning\": [\"lightning\", \"lightnings\", \"Large lightning\", \"Large lightnings\", \"Small lightning\"],\n",
    "    \"rain\": [\"rain\", \"rains\", \"Large rain\", \"Large rains\", \"Small rain\"],\n",
    "    \"rainbow\": [\"rainbow\", \"rainbows\", \"Large rainbow\", \"Large rainbows\", \"Small rainbow\"],\n",
    "    \"rime\": [\"rime\", \"rimes\", \"Large rime\", \"Large rimes\", \"Small rime\"],\n",
    "    \"sandstorm\": [\"sandstorm\", \"sandstorms\", \"Large sandstorm\", \"Large sandstorms\", \"Small sandstorm\"],\n",
    "    \"snow\": [\"snow\", \"snows\", \"Large snow\", \"Large snows\", \"Small snow\"]\n",
    "}\n",
    "\n",
    "# dew, dews, Large dew, Large dews, Small dew, fogsmog, fogsmogs, Large fogsmog, Large fogsmogs, Small fogsmog, frost, frosts, Large frost, Large frosts, Small frost, glaze, glazes, Large glaze, Large glazes, Small glaze, hail, hails, Large hail, Large hails, Small hail, lightning, lightnings, Large lightning, Large lightnings, Small lightning, rain, rains, Large rain, Large rains, Small rain, rainbow, rainbows, Large rainbow, Large rainbows, Small rainbow, rime, rimes, Large rime, Large rimes, Small rime, sandstorm, sandstorms, Large sandstorm, Large sandstorms, Small sandstorm, snow, snows, Large snow, Large snows, Small snow\n",
    "\n",
    "# dict_size(w55)\n",
    "print(aOcheck_accuracy(\"WithoutIP/weather11/w55.csv\", w55))\n"
   ]
  },
  {
   "cell_type": "code",
   "execution_count": 442,
   "metadata": {},
   "outputs": [
    {
     "name": "stdout",
     "output_type": "stream",
     "text": [
      "71.99\n",
      "71.99\n"
     ]
    }
   ],
   "source": [
    "w66 = {\n",
    "    \"dew\": [\"dew\", \"dews\", \"Large dew\", \"Large dews\", \"Small dew\", \"Small dews\"],\n",
    "    \"fogsmog\": [\"fogsmog\", \"fogsmogs\", \"Large fogsmog\", \"Large fogsmogs\", \"Small fogsmog\", \"Small fogsmogs\"],\n",
    "    \"frost\": [\"frost\", \"frosts\", \"Large frost\", \"Large frosts\", \"Small frost\", \"Small frosts\"],\n",
    "    \"glaze\": [\"glaze\", \"glazes\", \"Large glaze\", \"Large glazes\", \"Small glaze\", \"Small glazes\"],\n",
    "    \"hail\": [\"hail\", \"hails\", \"Large hail\", \"Large hails\", \"Small hail\", \"Small hails\"],\n",
    "    \"lightning\": [\"lightning\", \"lightnings\", \"Large lightning\", \"Large lightnings\", \"Small lightning\", \"Small lightnings\"],\n",
    "    \"rain\": [\"rain\", \"rains\", \"Large rain\", \"Large rains\", \"Small rain\", \"Small rains\"],\n",
    "    \"rainbow\": [\"rainbow\", \"rainbows\", \"Large rainbow\", \"Large rainbows\", \"Small rainbow\", \"Small rainbows\"],\n",
    "    \"rime\": [\"rime\", \"rimes\", \"Large rime\", \"Large rimes\", \"Small rime\", \"Small rimes\"],\n",
    "    \"sandstorm\": [\"sandstorm\", \"sandstorms\", \"Large sandstorm\", \"Large sandstorms\", \"Small sandstorm\", \"Small sandstorms\"],\n",
    "    \"snow\": [\"snow\", \"snows\", \"Large snow\", \"Large snows\", \"Small snow\", \"Small snows\"]\n",
    "}\n",
    "\n",
    "# dew, dews, Large dew, Large dews, Small dew, Small dews, fogsmog, fogsmogs, Large fogsmog, Large fogsmogs, Small fogsmog, Small fogsmogs, frost, frosts, Large frost, Large frosts, Small frost, Small frosts, glaze, glazes, Large glaze, Large glazes, Small glaze, Small glazes, hail, hails, Large hail, Large hails, Small hail, Small hails, lightning, lightnings, Large lightning, Large lightnings, Small lightning, Small lightnings, rain, rains, Large rain, Large rains, Small rain, Small rains, rainbow, rainbows, Large rainbow, Large rainbows, Small rainbow, Small rainbows, rime, rimes, Large rime, Large rimes, Small rime, Small rimes, sandstorm, sandstorms, Large sandstorm, Large sandstorms, Small sandstorm, Small sandstorms, snow, snows, Large snow, Large snows, Small snow, Small snows\n",
    "\n",
    "# dict_size(w66)\n",
    "print(aOcheck_accuracy(\"WithoutIP/weather11/w66.csv\", w66))\n"
   ]
  },
  {
   "cell_type": "code",
   "execution_count": 443,
   "metadata": {},
   "outputs": [
    {
     "name": "stdout",
     "output_type": "stream",
     "text": [
      "72.01\n",
      "72.01\n"
     ]
    }
   ],
   "source": [
    "w77 = {\n",
    "    \"dew\": [\"dew\", \"dews\", \"Large dew\", \"Large dews\", \"Small dew\", \"Small dews\", \"Medium dew\"],\n",
    "    \"fogsmog\": [\"fogsmog\", \"fogsmogs\", \"Large fogsmog\", \"Large fogsmogs\", \"Small fogsmog\", \"Small fogsmogs\", \"Medium fogsmog\"],\n",
    "    \"frost\": [\"frost\", \"frosts\", \"Large frost\", \"Large frosts\", \"Small frost\", \"Small frosts\", \"Medium frost\"],\n",
    "    \"glaze\": [\"glaze\", \"glazes\", \"Large glaze\", \"Large glazes\", \"Small glaze\", \"Small glazes\", \"Medium glaze\"],\n",
    "    \"hail\": [\"hail\", \"hails\", \"Large hail\", \"Large hails\", \"Small hail\", \"Small hails\", \"Medium hail\"],\n",
    "    \"lightning\": [\"lightning\", \"lightnings\", \"Large lightning\", \"Large lightnings\", \"Small lightning\", \"Small lightnings\", \"Medium lightning\"],\n",
    "    \"rain\": [\"rain\", \"rains\", \"Large rain\", \"Large rains\", \"Small rain\", \"Small rains\", \"Medium rain\"],\n",
    "    \"rainbow\": [\"rainbow\", \"rainbows\", \"Large rainbow\", \"Large rainbows\", \"Small rainbow\", \"Small rainbows\", \"Medium rainbow\"],\n",
    "    \"rime\": [\"rime\", \"rimes\", \"Large rime\", \"Large rimes\", \"Small rime\", \"Small rimes\", \"Medium rime\"],\n",
    "    \"sandstorm\": [\"sandstorm\", \"sandstorms\", \"Large sandstorm\", \"Large sandstorms\", \"Small sandstorm\", \"Small sandstorms\", \"Medium sandstorm\"],\n",
    "    \"snow\": [\"snow\", \"snows\", \"Large snow\", \"Large snows\", \"Small snow\", \"Small snows\", \"Medium snow\"]\n",
    "}\n",
    "\n",
    "# dew, dews, Large dew, Large dews, Small dew, Small dews, Medium dew, fogsmog, fogsmogs, Large fogsmog, Large fogsmogs, Small fogsmog, Small fogsmogs, Medium fogsmog, frost, frosts, Large frost, Large frosts, Small frost, Small frosts, Medium frost, glaze, glazes, Large glaze, Large glazes, Small glaze, Small glazes, Medium glaze, hail, hails, Large hail, Large hails, Small hail, Small hails, Medium hail, lightning, lightnings, Large lightning, Large lightnings, Small lightning, Small lightnings, Medium lightning, rain, rains, Large rain, Large rains, Small rain, Small rains, Medium rain, rainbow, rainbows, Large rainbow, Large rainbows, Small rainbow, Small rainbows, Medium rainbow, rime, rimes, Large rime, Large rimes, Small rime, Small rimes, Medium rime, sandstorm, sandstorms, Large sandstorm, Large sandstorms, Small sandstorm, Small sandstorms, Medium sandstorm, snow, snows, Large snow, Large snows, Small snow, Small snows, Medium snow\n",
    "\n",
    "# dict_size(w77)\n",
    "print(aOcheck_accuracy(\"WithoutIP/weather11/w77.csv\", w77))\n"
   ]
  },
  {
   "cell_type": "code",
   "execution_count": 444,
   "metadata": {},
   "outputs": [
    {
     "name": "stdout",
     "output_type": "stream",
     "text": [
      "71.94\n",
      "71.94\n"
     ]
    }
   ],
   "source": [
    "w88 = {\n",
    "    \"dew\": [\"dew\", \"dews\", \"Large dew\", \"Large dews\", \"Small dew\", \"Small dews\", \"Medium dew\", \"Medium dews\"],\n",
    "    \"fogsmog\": [\"fogsmog\", \"fogsmogs\", \"Large fogsmog\", \"Large fogsmogs\", \"Small fogsmog\", \"Small fogsmogs\", \"Medium fogsmog\", \"Medium fogsmogs\"],\n",
    "    \"frost\": [\"frost\", \"frosts\", \"Large frost\", \"Large frosts\", \"Small frost\", \"Small frosts\", \"Medium frost\", \"Medium frosts\"],\n",
    "    \"glaze\": [\"glaze\", \"glazes\", \"Large glaze\", \"Large glazes\", \"Small glaze\", \"Small glazes\", \"Medium glaze\", \"Medium glazes\"],\n",
    "    \"hail\": [\"hail\", \"hails\", \"Large hail\", \"Large hails\", \"Small hail\", \"Small hails\", \"Medium hail\", \"Medium hails\"],\n",
    "    \"lightning\": [\"lightning\", \"lightnings\", \"Large lightning\", \"Large lightnings\", \"Small lightning\", \"Small lightnings\", \"Medium lightning\", \"Medium lightnings\"],\n",
    "    \"rain\": [\"rain\", \"rains\", \"Large rain\", \"Large rains\", \"Small rain\", \"Small rains\", \"Medium rain\", \"Medium rains\"],\n",
    "    \"rainbow\": [\"rainbow\", \"rainbows\", \"Large rainbow\", \"Large rainbows\", \"Small rainbow\", \"Small rainbows\", \"Medium rainbow\", \"Medium rainbows\"],\n",
    "    \"rime\": [\"rime\", \"rimes\", \"Large rime\", \"Large rimes\", \"Small rime\", \"Small rimes\", \"Medium rime\", \"Medium rimes\"],\n",
    "    \"sandstorm\": [\"sandstorm\", \"sandstorms\", \"Large sandstorm\", \"Large sandstorms\", \"Small sandstorm\", \"Small sandstorms\", \"Medium sandstorm\", \"Medium sandstorms\"],\n",
    "    \"snow\": [\"snow\", \"snows\", \"Large snow\", \"Large snows\", \"Small snow\", \"Small snows\", \"Medium snow\", \"Medium snows\"]\n",
    "}\n",
    "\n",
    "# dew, dews, Large dew, Large dews, Small dew, Small dews, Medium dew, Medium dews, fogsmog, fogsmogs, Large fogsmog, Large fogsmogs, Small fogsmog, Small fogsmogs, Medium fogsmog, Medium fogsmogs, frost, frosts, Large frost, Large frosts, Small frost, Small frosts, Medium frost, Medium frosts, glaze, glazes, Large glaze, Large glazes, Small glaze, Small glazes, Medium glaze, Medium glazes, hail, hails, Large hail, Large hails, Small hail, Small hails, Medium hail, Medium hails, lightning, lightnings, Large lightning, Large lightnings, Small lightning, Small lightnings, Medium lightning, Medium lightnings, rain, rains, Large rain, Large rains, Small rain, Small rains, Medium rain, Medium rains, rainbow, rainbows, Large rainbow, Large rainbows, Small rainbow, Small rainbows, Medium rainbow, Medium rainbows, rime, rimes, Large rime, Large rimes, Small rime, Small rimes, Medium rime, Medium rimes, sandstorm, sandstorms, Large sandstorm, Large sandstorms, Small sandstorm, Small sandstorms, Medium sandstorm, Medium sandstorms, snow, snows, Large snow, Large snows, Small snow, Small snows, Medium snow, Medium snows\n",
    "\n",
    "# dict_size(w88)\n",
    "print(aOcheck_accuracy(\"WithoutIP/weather11/w88.csv\", w88))\n"
   ]
  },
  {
   "cell_type": "code",
   "execution_count": 445,
   "metadata": {},
   "outputs": [
    {
     "name": "stdout",
     "output_type": "stream",
     "text": [
      "71.25\n",
      "71.25\n"
     ]
    }
   ],
   "source": [
    "w99 = {\n",
    "    \"dew\": [\"dew\", \"dews\", \"Large dew\", \"Large dews\", \"Small dew\", \"Small dews\", \"Medium dew\", \"Medium dews\", \"Weather dew\"],\n",
    "    \"fogsmog\": [\"fogsmog\", \"fogsmogs\", \"Large fogsmog\", \"Large fogsmogs\", \"Small fogsmog\", \"Small fogsmogs\", \"Medium fogsmog\", \"Medium fogsmogs\", \"Weather fogsmog\"],\n",
    "    \"frost\": [\"frost\", \"frosts\", \"Large frost\", \"Large frosts\", \"Small frost\", \"Small frosts\", \"Medium frost\", \"Medium frosts\", \"Weather frost\"],\n",
    "    \"glaze\": [\"glaze\", \"glazes\", \"Large glaze\", \"Large glazes\", \"Small glaze\", \"Small glazes\", \"Medium glaze\", \"Medium glazes\", \"Weather glaze\"],\n",
    "    \"hail\": [\"hail\", \"hails\", \"Large hail\", \"Large hails\", \"Small hail\", \"Small hails\", \"Medium hail\", \"Medium hails\", \"Weather hail\"],\n",
    "    \"lightning\": [\"lightning\", \"lightnings\", \"Large lightning\", \"Large lightnings\", \"Small lightning\", \"Small lightnings\", \"Medium lightning\", \"Medium lightnings\", \"Weather lightning\"],\n",
    "    \"rain\": [\"rain\", \"rains\", \"Large rain\", \"Large rains\", \"Small rain\", \"Small rains\", \"Medium rain\", \"Medium rains\", \"Weather rain\"],\n",
    "    \"rainbow\": [\"rainbow\", \"rainbows\", \"Large rainbow\", \"Large rainbows\", \"Small rainbow\", \"Small rainbows\", \"Medium rainbow\", \"Medium rainbows\", \"Weather rainbow\"],\n",
    "    \"rime\": [\"rime\", \"rimes\", \"Large rime\", \"Large rimes\", \"Small rime\", \"Small rimes\", \"Medium rime\", \"Medium rimes\", \"Weather rime\"],\n",
    "    \"sandstorm\": [\"sandstorm\", \"sandstorms\", \"Large sandstorm\", \"Large sandstorms\", \"Small sandstorm\", \"Small sandstorms\", \"Medium sandstorm\", \"Medium sandstorms\", \"Weather sandstorm\"],\n",
    "    \"snow\": [\"snow\", \"snows\", \"Large snow\", \"Large snows\", \"Small snow\", \"Small snows\", \"Medium snow\", \"Medium snows\", \"Weather snow\"]\n",
    "}\n",
    "\n",
    "# dew, dews, Large dew, Large dews, Small dew, Small dews, Medium dew, Medium dews, Weather dew, fogsmog, fogsmogs, Large fogsmog, Large fogsmogs, Small fogsmog, Small fogsmogs, Medium fogsmog, Medium fogsmogs, Weather fogsmog, frost, frosts, Large frost, Large frosts, Small frost, Small frosts, Medium frost, Medium frosts, Weather frost, glaze, glazes, Large glaze, Large glazes, Small glaze, Small glazes, Medium glaze, Medium glazes, Weather glaze, hail, hails, Large hail, Large hails, Small hail, Small hails, Medium hail, Medium hails, Weather hail, lightning, lightnings, Large lightning, Large lightnings, Small lightning, Small lightnings, Medium lightning, Medium lightnings, Weather lightning, rain, rains, Large rain, Large rains, Small rain, Small rains, Medium rain, Medium rains, Weather rain, rainbow, rainbows, Large rainbow, Large rainbows, Small rainbow, Small rainbows, Medium rainbow, Medium rainbows, Weather rainbow, rime, rimes, Large rime, Large rimes, Small rime, Small rimes, Medium rime, Medium rimes, Weather rime, sandstorm, sandstorms, Large sandstorm, Large sandstorms, Small sandstorm, Small sandstorms, Medium sandstorm, Medium sandstorms, Weather sandstorm, snow, snows, Large snow, Large snows, Small snow, Small snows, Medium snow, Medium snows, Weather snow\n",
    "\n",
    "# dict_size(w99)\n",
    "print(aOcheck_accuracy(\"WithoutIP/weather11/w99.csv\", w99))\n"
   ]
  },
  {
   "cell_type": "code",
   "execution_count": 446,
   "metadata": {},
   "outputs": [
    {
     "name": "stdout",
     "output_type": "stream",
     "text": [
      "70.19\n",
      "70.19\n"
     ]
    }
   ],
   "source": [
    "w110 = {\n",
    "    \"dew\": [\"dew\", \"dews\", \"Large dew\", \"Large dews\", \"Small dew\", \"Small dews\", \"Medium dew\", \"Medium dews\", \"Weather dew\", \"Weather dews\"],\n",
    "    \"fogsmog\": [\"fogsmog\", \"fogsmogs\", \"Large fogsmog\", \"Large fogsmogs\", \"Small fogsmog\", \"Small fogsmogs\", \"Medium fogsmog\", \"Medium fogsmogs\", \"Weather fogsmog\", \"Weather fogsmogs\"],\n",
    "    \"frost\": [\"frost\", \"frosts\", \"Large frost\", \"Large frosts\", \"Small frost\", \"Small frosts\", \"Medium frost\", \"Medium frosts\", \"Weather frost\", \"Weather frosts\"],\n",
    "    \"glaze\": [\"glaze\", \"glazes\", \"Large glaze\", \"Large glazes\", \"Small glaze\", \"Small glazes\", \"Medium glaze\", \"Medium glazes\", \"Weather glaze\", \"Weather glazes\"],\n",
    "    \"hail\": [\"hail\", \"hails\", \"Large hail\", \"Large hails\", \"Small hail\", \"Small hails\", \"Medium hail\", \"Medium hails\", \"Weather hail\", \"Weather hails\"],\n",
    "    \"lightning\": [\"lightning\", \"lightnings\", \"Large lightning\", \"Large lightnings\", \"Small lightning\", \"Small lightnings\", \"Medium lightning\", \"Medium lightnings\", \"Weather lightning\", \"Weather lightnings\"],\n",
    "    \"rain\": [\"rain\", \"rains\", \"Large rain\", \"Large rains\", \"Small rain\", \"Small rains\", \"Medium rain\", \"Medium rains\", \"Weather rain\", \"Weather rains\"],\n",
    "    \"rainbow\": [\"rainbow\", \"rainbows\", \"Large rainbow\", \"Large rainbows\", \"Small rainbow\", \"Small rainbows\", \"Medium rainbow\", \"Medium rainbows\", \"Weather rainbow\", \"Weather rainbows\"],\n",
    "    \"rime\": [\"rime\", \"rimes\", \"Large rime\", \"Large rimes\", \"Small rime\", \"Small rimes\", \"Medium rime\", \"Medium rimes\", \"Weather rime\", \"Weather rimes\"],\n",
    "    \"sandstorm\": [\"sandstorm\", \"sandstorms\", \"Large sandstorm\", \"Large sandstorms\", \"Small sandstorm\", \"Small sandstorms\", \"Medium sandstorm\", \"Medium sandstorms\", \"Weather sandstorm\", \"Weather sandstorms\"],\n",
    "    \"snow\": [\"snow\", \"snows\", \"Large snow\", \"Large snows\", \"Small snow\", \"Small snows\", \"Medium snow\", \"Medium snows\", \"Weather snow\", \"Weather snows\"]\n",
    "}\n",
    "\n",
    "# dew, dews, Large dew, Large dews, Small dew, Small dews, Medium dew, Medium dews, Weather dew, Weather dews, fogsmog, fogsmogs, Large fogsmog, Large fogsmogs, Small fogsmog, Small fogsmogs, Medium fogsmog, Medium fogsmogs, Weather fogsmog, Weather fogsmogs, frost, frosts, Large frost, Large frosts, Small frost, Small frosts, Medium frost, Medium frosts, Weather frost, Weather frosts, glaze, glazes, Large glaze, Large glazes, Small glaze, Small glazes, Medium glaze, Medium glazes, Weather glaze, Weather glazes, hail, hails, Large hail, Large hails, Small hail, Small hails, Medium hail, Medium hails, Weather hail, Weather hails, lightning, lightnings, Large lightning, Large lightnings, Small lightning, Small lightnings, Medium lightning, Medium lightnings, Weather lightning, Weather lightnings, rain, rains, Large rain, Large rains, Small rain, Small rains, Medium rain, Medium rains, Weather rain, Weather rains, rainbow, rainbows, Large rainbow, Large rainbows, Small rainbow, Small rainbows, Medium rainbow, Medium rainbows, Weather rainbow, Weather rainbows, rime, rimes, Large rime, Large rimes, Small rime, Small rimes, Medium rime, Medium rimes, Weather rime, Weather rimes, sandstorm, sandstorms, Large sandstorm, Large sandstorms, Small sandstorm, Small sandstorms, Medium sandstorm, Medium sandstorms, Weather sandstorm, Weather sandstorms, snow, snows, Large snow, Large snows, Small snow, Small snows, Medium snow, Medium snows, Weather snow, Weather snows\n",
    "\n",
    "# dict_size(w110)\n",
    "print(aOcheck_accuracy(\"WithoutIP/weather11/w110.csv\", w110))\n"
   ]
  },
  {
   "cell_type": "markdown",
   "metadata": {},
   "source": [
    "## Sports 15"
   ]
  },
  {
   "cell_type": "code",
   "execution_count": 447,
   "metadata": {},
   "outputs": [
    {
     "name": "stdout",
     "output_type": "stream",
     "text": [
      "15\n",
      "67.98\n",
      "67.98\n"
     ]
    }
   ],
   "source": [
    "s15 = {\"american_football\" : [\"american_football\"],\n",
    "       \"baseball\" : [\"baseball\"],\n",
    "       \"basketball\" : [\"basketball\"],\n",
    "       \"billiard_ball\" : [\"billiard_ball\"],\n",
    "       \"bowling_ball\" : [\"bowling_ball\"],\n",
    "       \"cricket_ball\" : [\"cricket_ball\"],\n",
    "       \"football\" : [\"football\"],\n",
    "       \"golf_ball\" : [\"golf_ball\"],\n",
    "       \"hockey_ball\" : [\"hockey_ball\"],\n",
    "       \"hockey_puck\" : [\"hockey_puck\"],\n",
    "       \"rugby_ball\" : [\"rugby_ball\"],\n",
    "       \"shuttlecock\" : [\"shuttlecock\"],\n",
    "       \"table_tennis_ball\" : [\"table_tennis_ball\"],\n",
    "       \"tennis_ball\" : [\"tennis_ball\"],\n",
    "       \"volleyball\" : [\"volleyball\"]}\n",
    "\n",
    "# american_football, baseball, basketball, billiard_ball, bowling_ball, cricket_ball, football, golf_ball, hockey_ball, hockey_puck, rugby_ball, shuttlecock, table_tennis_ball, tennis_ball, volleyball\n",
    "\n",
    "dict_size(s15)\n",
    "print(aOcheck_accuracy(\"WithoutIP/sports15/s15.csv\", s15))"
   ]
  },
  {
   "cell_type": "code",
   "execution_count": 448,
   "metadata": {},
   "outputs": [
    {
     "name": "stdout",
     "output_type": "stream",
     "text": [
      "70.88\n",
      "70.88\n"
     ]
    }
   ],
   "source": [
    "s30 = {\n",
    "    \"american_football\": [\"american_football\", \"american_footballs\"],\n",
    "    \"baseball\": [\"baseball\", \"baseballs\"],\n",
    "    \"basketball\": [\"basketball\", \"basketballs\"],\n",
    "    \"billiard_ball\": [\"billiard_ball\", \"billiard_balls\"],\n",
    "    \"bowling_ball\": [\"bowling_ball\", \"bowling_balls\"],\n",
    "    \"cricket_ball\": [\"cricket_ball\", \"cricket_balls\"],\n",
    "    \"football\": [\"football\", \"footballs\"],\n",
    "    \"golf_ball\": [\"golf_ball\", \"golf_balls\"],\n",
    "    \"hockey_ball\": [\"hockey_ball\", \"hockey_balls\"],\n",
    "    \"hockey_puck\": [\"hockey_puck\", \"hockey_pucks\"],\n",
    "    \"rugby_ball\": [\"rugby_ball\", \"rugby_balls\"],\n",
    "    \"shuttlecock\": [\"shuttlecock\", \"shuttlecocks\"],\n",
    "    \"table_tennis_ball\": [\"table_tennis_ball\", \"table_tennis_balls\"],\n",
    "    \"tennis_ball\": [\"tennis_ball\", \"tennis_balls\"],\n",
    "    \"volleyball\": [\"volleyball\", \"volleyballs\"]\n",
    "}\n",
    "\n",
    "# american_football, american_footballs, baseball, baseballs, basketball, basketballs, billiard_ball, billiard_balls, bowling_ball, bowling_balls, cricket_ball, cricket_balls, football, footballs, golf_ball, golf_balls, hockey_ball, hockey_balls, hockey_puck, hockey_pucks, rugby_ball, rugby_balls, shuttlecock, shuttlecocks, table_tennis_ball, table_tennis_balls, tennis_ball, tennis_balls, volleyball, volleyballs\n",
    "\n",
    "# dict_size(s30)\n",
    "print(aOcheck_accuracy(\"WithoutIP/sports15/s30.csv\", s30))\n"
   ]
  },
  {
   "cell_type": "code",
   "execution_count": 449,
   "metadata": {},
   "outputs": [
    {
     "name": "stdout",
     "output_type": "stream",
     "text": [
      "71.71\n",
      "71.71\n"
     ]
    }
   ],
   "source": [
    "s45 = {\n",
    "    \"american_football\": [\"american_football\", \"american_footballs\", \"Large american_football\"],\n",
    "    \"baseball\": [\"baseball\", \"baseballs\", \"Large baseball\"],\n",
    "    \"basketball\": [\"basketball\", \"basketballs\", \"Large basketball\"],\n",
    "    \"billiard_ball\": [\"billiard_ball\", \"billiard_balls\", \"Large billiard_ball\"],\n",
    "    \"bowling_ball\": [\"bowling_ball\", \"bowling_balls\", \"Large bowling_ball\"],\n",
    "    \"cricket_ball\": [\"cricket_ball\", \"cricket_balls\", \"Large cricket_ball\"],\n",
    "    \"football\": [\"football\", \"footballs\", \"Large football\"],\n",
    "    \"golf_ball\": [\"golf_ball\", \"golf_balls\", \"Large golf_ball\"],\n",
    "    \"hockey_ball\": [\"hockey_ball\", \"hockey_balls\", \"Large hockey_ball\"],\n",
    "    \"hockey_puck\": [\"hockey_puck\", \"hockey_pucks\", \"Large hockey_puck\"],\n",
    "    \"rugby_ball\": [\"rugby_ball\", \"rugby_balls\", \"Large rugby_ball\"],\n",
    "    \"shuttlecock\": [\"shuttlecock\", \"shuttlecocks\", \"Large shuttlecock\"],\n",
    "    \"table_tennis_ball\": [\"table_tennis_ball\", \"table_tennis_balls\", \"Large table_tennis_ball\"],\n",
    "    \"tennis_ball\": [\"tennis_ball\", \"tennis_balls\", \"Large tennis_ball\"],\n",
    "    \"volleyball\": [\"volleyball\", \"volleyballs\", \"Large volleyball\"]\n",
    "}\n",
    "\n",
    "# american_football, american_footballs, Large american_football, baseball, baseballs, Large baseball, basketball, basketballs, Large basketball, billiard_ball, billiard_balls, Large billiard_ball, bowling_ball, bowling_balls, Large bowling_ball, cricket_ball, cricket_balls, Large cricket_ball, football, footballs, Large football, golf_ball, golf_balls, Large golf_ball, hockey_ball, hockey_balls, Large hockey_ball, hockey_puck, hockey_pucks, Large hockey_puck, rugby_ball, rugby_balls, Large rugby_ball, shuttlecock, shuttlecocks, Large shuttlecock, table_tennis_ball, table_tennis_balls, Large table_tennis_ball, tennis_ball, tennis_balls, Large tennis_ball, volleyball, volleyballs, Large volleyball\n",
    "\n",
    "# dict_size(s45)\n",
    "print(aOcheck_accuracy(\"WithoutIP/sports15/s45.csv\", s45))\n"
   ]
  },
  {
   "cell_type": "code",
   "execution_count": 450,
   "metadata": {},
   "outputs": [
    {
     "name": "stdout",
     "output_type": "stream",
     "text": [
      "72.48\n",
      "72.48\n"
     ]
    }
   ],
   "source": [
    "s60 = {\n",
    "    \"american_football\": [\"american_football\", \"american_footballs\", \"Large american_football\", \"Large american_footballs\"],\n",
    "    \"baseball\": [\"baseball\", \"baseballs\", \"Large baseball\", \"Large baseballs\"],\n",
    "    \"basketball\": [\"basketball\", \"basketballs\", \"Large basketball\", \"Large basketballs\"],\n",
    "    \"billiard_ball\": [\"billiard_ball\", \"billiard_balls\", \"Large billiard_ball\", \"Large billiard_balls\"],\n",
    "    \"bowling_ball\": [\"bowling_ball\", \"bowling_balls\", \"Large bowling_ball\", \"Large bowling_balls\"],\n",
    "    \"cricket_ball\": [\"cricket_ball\", \"cricket_balls\", \"Large cricket_ball\", \"Large cricket_balls\"],\n",
    "    \"football\": [\"football\", \"footballs\", \"Large football\", \"Large footballs\"],\n",
    "    \"golf_ball\": [\"golf_ball\", \"golf_balls\", \"Large golf_ball\", \"Large golf_balls\"],\n",
    "    \"hockey_ball\": [\"hockey_ball\", \"hockey_balls\", \"Large hockey_ball\", \"Large hockey_balls\"],\n",
    "    \"hockey_puck\": [\"hockey_puck\", \"hockey_pucks\", \"Large hockey_puck\", \"Large hockey_pucks\"],\n",
    "    \"rugby_ball\": [\"rugby_ball\", \"rugby_balls\", \"Large rugby_ball\", \"Large rugby_balls\"],\n",
    "    \"shuttlecock\": [\"shuttlecock\", \"shuttlecocks\", \"Large shuttlecock\", \"Large shuttlecocks\"],\n",
    "    \"table_tennis_ball\": [\"table_tennis_ball\", \"table_tennis_balls\", \"Large table_tennis_ball\", \"Large table_tennis_balls\"],\n",
    "    \"tennis_ball\": [\"tennis_ball\", \"tennis_balls\", \"Large tennis_ball\", \"Large tennis_balls\"],\n",
    "    \"volleyball\": [\"volleyball\", \"volleyballs\", \"Large volleyball\", \"Large volleyballs\"]\n",
    "}\n",
    "\n",
    "# american_football, american_footballs, Large american_football, Large american_footballs, baseball, baseballs, Large baseball, Large baseballs, basketball, basketballs, Large basketball, Large basketballs, billiard_ball, billiard_balls, Large billiard_ball, Large billiard_balls, bowling_ball, bowling_balls, Large bowling_ball, Large bowling_balls, cricket_ball, cricket_balls, Large cricket_ball, Large cricket_balls, football, footballs, Large football, Large footballs, golf_ball, golf_balls, Large golf_ball, Large golf_balls, hockey_ball, hockey_balls, Large hockey_ball, Large hockey_balls, hockey_puck, hockey_pucks, Large hockey_puck, Large hockey_pucks, rugby_ball, rugby_balls, Large rugby_ball, Large rugby_balls, shuttlecock, shuttlecocks, Large shuttlecock, Large shuttlecocks, table_tennis_ball, table_tennis_balls, Large table_tennis_ball, Large table_tennis_balls, tennis_ball, tennis_balls, Large tennis_ball, Large tennis_balls, volleyball, volleyballs, Large volleyball, Large volleyballs\n",
    "\n",
    "# dict_size(s60)\n",
    "print(aOcheck_accuracy(\"WithoutIP/sports15/s60.csv\", s60))\n"
   ]
  },
  {
   "cell_type": "code",
   "execution_count": 451,
   "metadata": {},
   "outputs": [
    {
     "name": "stdout",
     "output_type": "stream",
     "text": [
      "72.69\n",
      "72.69\n"
     ]
    }
   ],
   "source": [
    "s75 = {\n",
    "    \"american_football\": [\"american_football\", \"american_footballs\", \"Large american_football\", \"Large american_footballs\", \"Small american_football\"],\n",
    "    \"baseball\": [\"baseball\", \"baseballs\", \"Large baseball\", \"Large baseballs\", \"Small baseball\"],\n",
    "    \"basketball\": [\"basketball\", \"basketballs\", \"Large basketball\", \"Large basketballs\", \"Small basketball\"],\n",
    "    \"billiard_ball\": [\"billiard_ball\", \"billiard_balls\", \"Large billiard_ball\", \"Large billiard_balls\", \"Small billiard_ball\"],\n",
    "    \"bowling_ball\": [\"bowling_ball\", \"bowling_balls\", \"Large bowling_ball\", \"Large bowling_balls\", \"Small bowling_ball\"],\n",
    "    \"cricket_ball\": [\"cricket_ball\", \"cricket_balls\", \"Large cricket_ball\", \"Large cricket_balls\", \"Small cricket_ball\"],\n",
    "    \"football\": [\"football\", \"footballs\", \"Large football\", \"Large footballs\", \"Small football\"],\n",
    "    \"golf_ball\": [\"golf_ball\", \"golf_balls\", \"Large golf_ball\", \"Large golf_balls\", \"Small golf_ball\"],\n",
    "    \"hockey_ball\": [\"hockey_ball\", \"hockey_balls\", \"Large hockey_ball\", \"Large hockey_balls\", \"Small hockey_ball\"],\n",
    "    \"hockey_puck\": [\"hockey_puck\", \"hockey_pucks\", \"Large hockey_puck\", \"Large hockey_pucks\", \"Small hockey_puck\"],\n",
    "    \"rugby_ball\": [\"rugby_ball\", \"rugby_balls\", \"Large rugby_ball\", \"Large rugby_balls\", \"Small rugby_ball\"],\n",
    "    \"shuttlecock\": [\"shuttlecock\", \"shuttlecocks\", \"Large shuttlecock\", \"Large shuttlecocks\", \"Small shuttlecock\"],\n",
    "    \"table_tennis_ball\": [\"table_tennis_ball\", \"table_tennis_balls\", \"Large table_tennis_ball\", \"Large table_tennis_balls\", \"Small table_tennis_ball\"],\n",
    "    \"tennis_ball\": [\"tennis_ball\", \"tennis_balls\", \"Large tennis_ball\", \"Large tennis_balls\", \"Small tennis_ball\"],\n",
    "    \"volleyball\": [\"volleyball\", \"volleyballs\", \"Large volleyball\", \"Large volleyballs\", \"Small volleyball\"]\n",
    "}\n",
    "\n",
    "# american_football, american_footballs, Large american_football, Large american_footballs, Small american_football, baseball, baseballs, Large baseball, Large baseballs, Small baseball, basketball, basketballs, Large basketball, Large basketballs, Small basketball, billiard_ball, billiard_balls, Large billiard_ball, Large billiard_balls, Small billiard_ball, bowling_ball, bowling_balls, Large bowling_ball, Large bowling_balls, Small bowling_ball, cricket_ball, cricket_balls, Large cricket_ball, Large cricket_balls, Small cricket_ball, football, footballs, Large football, Large footballs, Small football, golf_ball, golf_balls, Large golf_ball, Large golf_balls, Small golf_ball, hockey_ball, hockey_balls, Large hockey_ball, Large hockey_balls, Small hockey_ball, hockey_puck, hockey_pucks, Large hockey_puck, Large hockey_pucks, Small hockey_puck, rugby_ball, rugby_balls, Large rugby_ball, Large rugby_balls, Small rugby_ball, shuttlecock, shuttlecocks, Large shuttlecock, Large shuttlecocks, Small shuttlecock, table_tennis_ball, table_tennis_balls, Large table_tennis_ball, Large table_tennis_balls, Small table_tennis_ball, tennis_ball, tennis_balls, Large tennis_ball, Large tennis_balls, Small tennis_ball, volleyball, volleyballs, Large volleyball, Large volleyballs, Small volleyball\n",
    "\n",
    "# dict_size(s75)\n",
    "print(aOcheck_accuracy(\"WithoutIP/sports15/s75.csv\", s75))\n"
   ]
  },
  {
   "cell_type": "code",
   "execution_count": 452,
   "metadata": {},
   "outputs": [
    {
     "name": "stdout",
     "output_type": "stream",
     "text": [
      "72.68\n",
      "72.68\n"
     ]
    }
   ],
   "source": [
    "s90 = {\n",
    "    \"american_football\": [\"american_football\", \"american_footballs\", \"Large american_football\", \"Large american_footballs\", \"Small american_football\", \"Small american_footballs\"],\n",
    "    \"baseball\": [\"baseball\", \"baseballs\", \"Large baseball\", \"Large baseballs\", \"Small baseball\", \"Small baseballs\"],\n",
    "    \"basketball\": [\"basketball\", \"basketballs\", \"Large basketball\", \"Large basketballs\", \"Small basketball\", \"Small basketballs\"],\n",
    "    \"billiard_ball\": [\"billiard_ball\", \"billiard_balls\", \"Large billiard_ball\", \"Large billiard_balls\", \"Small billiard_ball\", \"Small billiard_balls\"],\n",
    "    \"bowling_ball\": [\"bowling_ball\", \"bowling_balls\", \"Large bowling_ball\", \"Large bowling_balls\", \"Small bowling_ball\", \"Small bowling_balls\"],\n",
    "    \"cricket_ball\": [\"cricket_ball\", \"cricket_balls\", \"Large cricket_ball\", \"Large cricket_balls\", \"Small cricket_ball\", \"Small cricket_balls\"],\n",
    "    \"football\": [\"football\", \"footballs\", \"Large football\", \"Large footballs\", \"Small football\", \"Small footballs\"],\n",
    "    \"golf_ball\": [\"golf_ball\", \"golf_balls\", \"Large golf_ball\", \"Large golf_balls\", \"Small golf_ball\", \"Small golf_balls\"],\n",
    "    \"hockey_ball\": [\"hockey_ball\", \"hockey_balls\", \"Large hockey_ball\", \"Large hockey_balls\", \"Small hockey_ball\", \"Small hockey_balls\"],\n",
    "    \"hockey_puck\": [\"hockey_puck\", \"hockey_pucks\", \"Large hockey_puck\", \"Large hockey_pucks\", \"Small hockey_puck\", \"Small hockey_pucks\"],\n",
    "    \"rugby_ball\": [\"rugby_ball\", \"rugby_balls\", \"Large rugby_ball\", \"Large rugby_balls\", \"Small rugby_ball\", \"Small rugby_balls\"],\n",
    "    \"shuttlecock\": [\"shuttlecock\", \"shuttlecocks\", \"Large shuttlecock\", \"Large shuttlecocks\", \"Small shuttlecock\", \"Small shuttlecocks\"],\n",
    "    \"table_tennis_ball\": [\"table_tennis_ball\", \"table_tennis_balls\", \"Large table_tennis_ball\", \"Large table_tennis_balls\", \"Small table_tennis_ball\", \"Small table_tennis_balls\"],\n",
    "    \"tennis_ball\": [\"tennis_ball\", \"tennis_balls\", \"Large tennis_ball\", \"Large tennis_balls\", \"Small tennis_ball\", \"Small tennis_balls\"],\n",
    "    \"volleyball\": [\"volleyball\", \"volleyballs\", \"Large volleyball\", \"Large volleyballs\", \"Small volleyball\", \"Small volleyballs\"]\n",
    "}\n",
    "\n",
    "# american_football, american_footballs, Large american_football, Large american_footballs, Small american_football, Small american_footballs, baseball, baseballs, Large baseball, Large baseballs, Small baseball, Small baseballs, basketball, basketballs, Large basketball, Large basketballs, Small basketball, Small basketballs, billiard_ball, billiard_balls, Large billiard_ball, Large billiard_balls, Small billiard_ball, Small billiard_balls, bowling_ball, bowling_balls, Large bowling_ball, Large bowling_balls, Small bowling_ball, Small bowling_balls, cricket_ball, cricket_balls, Large cricket_ball, Large cricket_balls, Small cricket_ball, Small cricket_balls, football, footballs, Large football, Large footballs, Small football, Small footballs, golf_ball, golf_balls, Large golf_ball, Large golf_balls, Small golf_ball, Small golf_balls, hockey_ball, hockey_balls, Large hockey_ball, Large hockey_balls, Small hockey_ball, Small hockey_balls, hockey_puck, hockey_pucks, Large hockey_puck, Large hockey_pucks, Small hockey_puck, Small hockey_pucks, rugby_ball, rugby_balls, Large rugby_ball, Large rugby_balls, Small rugby_ball, Small rugby_balls, shuttlecock, shuttlecocks, Large shuttlecock, Large shuttlecocks, Small shuttlecock, Small shuttlecocks, table_tennis_ball, table_tennis_balls, Large table_tennis_ball, Large table_tennis_balls, Small table_tennis_ball, Small table_tennis_balls, tennis_ball, tennis_balls, Large tennis_ball, Large tennis_balls, Small tennis_ball, Small tennis_balls, volleyball, volleyballs, Large volleyball, Large volleyballs, Small volleyball, Small volleyballs\n",
    "\n",
    "# dict_size(s90)\n",
    "print(aOcheck_accuracy(\"WithoutIP/sports15/s90.csv\", s90))"
   ]
  },
  {
   "cell_type": "code",
   "execution_count": 453,
   "metadata": {},
   "outputs": [
    {
     "name": "stdout",
     "output_type": "stream",
     "text": [
      "72.76\n",
      "72.76\n"
     ]
    }
   ],
   "source": [
    "s105 = {\n",
    "    \"american_football\": [\"american_football\", \"american_footballs\", \"Large american_football\", \"Large american_footballs\", \"Small american_football\", \"Small american_footballs\", \"Medium american_football\"],\n",
    "    \"baseball\": [\"baseball\", \"baseballs\", \"Large baseball\", \"Large baseballs\", \"Small baseball\", \"Small baseballs\", \"Medium baseball\"],\n",
    "    \"basketball\": [\"basketball\", \"basketballs\", \"Large basketball\", \"Large basketballs\", \"Small basketball\", \"Small basketballs\", \"Medium basketball\"],\n",
    "    \"billiard_ball\": [\"billiard_ball\", \"billiard_balls\", \"Large billiard_ball\", \"Large billiard_balls\", \"Small billiard_ball\", \"Small billiard_balls\", \"Medium billiard_ball\"],\n",
    "    \"bowling_ball\": [\"bowling_ball\", \"bowling_balls\", \"Large bowling_ball\", \"Large bowling_balls\", \"Small bowling_ball\", \"Small bowling_balls\", \"Medium bowling_ball\"],\n",
    "    \"cricket_ball\": [\"cricket_ball\", \"cricket_balls\", \"Large cricket_ball\", \"Large cricket_balls\", \"Small cricket_ball\", \"Small cricket_balls\", \"Medium cricket_ball\"],\n",
    "    \"football\": [\"football\", \"footballs\", \"Large football\", \"Large footballs\", \"Small football\", \"Small footballs\", \"Medium football\"],\n",
    "    \"golf_ball\": [\"golf_ball\", \"golf_balls\", \"Large golf_ball\", \"Large golf_balls\", \"Small golf_ball\", \"Small golf_balls\", \"Medium golf_ball\"],\n",
    "    \"hockey_ball\": [\"hockey_ball\", \"hockey_balls\", \"Large hockey_ball\", \"Large hockey_balls\", \"Small hockey_ball\", \"Small hockey_balls\", \"Medium hockey_ball\"],\n",
    "    \"hockey_puck\": [\"hockey_puck\", \"hockey_pucks\", \"Large hockey_puck\", \"Large hockey_pucks\", \"Small hockey_puck\", \"Small hockey_pucks\", \"Medium hockey_puck\"],\n",
    "    \"rugby_ball\": [\"rugby_ball\", \"rugby_balls\", \"Large rugby_ball\", \"Large rugby_balls\", \"Small rugby_ball\", \"Small rugby_balls\", \"Medium rugby_ball\"],\n",
    "    \"shuttlecock\": [\"shuttlecock\", \"shuttlecocks\", \"Large shuttlecock\", \"Large shuttlecocks\", \"Small shuttlecock\", \"Small shuttlecocks\", \"Medium shuttlecock\"],\n",
    "    \"table_tennis_ball\": [\"table_tennis_ball\", \"table_tennis_balls\", \"Large table_tennis_ball\", \"Large table_tennis_balls\", \"Small table_tennis_ball\", \"Small table_tennis_balls\", \"Medium table_tennis_ball\"],\n",
    "    \"tennis_ball\": [\"tennis_ball\", \"tennis_balls\", \"Large tennis_ball\", \"Large tennis_balls\", \"Small tennis_ball\", \"Small tennis_balls\", \"Medium tennis_ball\"],\n",
    "    \"volleyball\": [\"volleyball\", \"volleyballs\", \"Large volleyball\", \"Large volleyballs\", \"Small volleyball\", \"Small volleyballs\", \"Medium volleyball\"]\n",
    "}\n",
    "\n",
    "# american_football, american_footballs, Large american_football, Large american_footballs, Small american_football, Small american_footballs, Medium american_football, baseball, baseballs, Large baseball, Large baseballs, Small baseball, Small baseballs, Medium baseball, basketball, basketballs, Large basketball, Large basketballs, Small basketball, Small basketballs, Medium basketball, billiard_ball, billiard_balls, Large billiard_ball, Large billiard_balls, Small billiard_ball, Small billiard_balls, Medium billiard_ball, bowling_ball, bowling_balls, Large bowling_ball, Large bowling_balls, Small bowling_ball, Small bowling_balls, Medium bowling_ball, cricket_ball, cricket_balls, Large cricket_ball, Large cricket_balls, Small cricket_ball, Small cricket_balls, Medium cricket_ball, football, footballs, Large football, Large footballs, Small football, Small footballs, Medium football, golf_ball, golf_balls, Large golf_ball, Large golf_balls, Small golf_ball, Small golf_balls, Medium golf_ball, hockey_ball, hockey_balls, Large hockey_ball, Large hockey_balls, Small hockey_ball, Small hockey_balls, Medium hockey_ball, hockey_puck, hockey_pucks, Large hockey_puck, Large hockey_pucks, Small hockey_puck, Small hockey_pucks, Medium hockey_puck, rugby_ball, rugby_balls, Large rugby_ball, Large rugby_balls, Small rugby_ball, Small rugby_balls, Medium rugby_ball, shuttlecock, shuttlecocks, Large shuttlecock, Large shuttlecocks, Small shuttlecock, Small shuttlecocks, Medium shuttlecock, table_tennis_ball, table_tennis_balls, Large table_tennis_ball, Large table_tennis_balls, Small table_tennis_ball, Small table_tennis_balls, Medium table_tennis_ball, tennis_ball, tennis_balls, Large tennis_ball, Large tennis_balls, Small tennis_ball, Small tennis_balls, Medium tennis_ball, volleyball, volleyballs, Large volleyball, Large volleyballs, Small volleyball, Small volleyballs, Medium volleyball\n",
    "\n",
    "# dict_size(s105)\n",
    "print(aOcheck_accuracy(\"WithoutIP/sports15/s105.csv\", s105))"
   ]
  },
  {
   "cell_type": "code",
   "execution_count": 454,
   "metadata": {},
   "outputs": [
    {
     "name": "stdout",
     "output_type": "stream",
     "text": [
      "73.17\n",
      "73.17\n"
     ]
    }
   ],
   "source": [
    "s120 = {\n",
    "    \"american_football\": [\"american_football\", \"american_footballs\", \"Large american_football\", \"Large american_footballs\", \"Small american_football\", \"Small american_footballs\", \"Medium american_football\", \"Medium american_footballs\"],\n",
    "    \"baseball\": [\"baseball\", \"baseballs\", \"Large baseball\", \"Large baseballs\", \"Small baseball\", \"Small baseballs\", \"Medium baseball\", \"Medium baseballs\"],\n",
    "    \"basketball\": [\"basketball\", \"basketballs\", \"Large basketball\", \"Large basketballs\", \"Small basketball\", \"Small basketballs\", \"Medium basketball\", \"Medium basketballs\"],\n",
    "    \"billiard_ball\": [\"billiard_ball\", \"billiard_balls\", \"Large billiard_ball\", \"Large billiard_balls\", \"Small billiard_ball\", \"Small billiard_balls\", \"Medium billiard_ball\", \"Medium billiard_balls\"],\n",
    "    \"bowling_ball\": [\"bowling_ball\", \"bowling_balls\", \"Large bowling_ball\", \"Large bowling_balls\", \"Small bowling_ball\", \"Small bowling_balls\", \"Medium bowling_ball\", \"Medium bowling_balls\"],\n",
    "    \"cricket_ball\": [\"cricket_ball\", \"cricket_balls\", \"Large cricket_ball\", \"Large cricket_balls\", \"Small cricket_ball\", \"Small cricket_balls\", \"Medium cricket_ball\", \"Medium cricket_balls\"],\n",
    "    \"football\": [\"football\", \"footballs\", \"Large football\", \"Large footballs\", \"Small football\", \"Small footballs\", \"Medium football\", \"Medium footballs\"],\n",
    "    \"golf_ball\": [\"golf_ball\", \"golf_balls\", \"Large golf_ball\", \"Large golf_balls\", \"Small golf_ball\", \"Small golf_balls\", \"Medium golf_ball\", \"Medium golf_balls\"],\n",
    "    \"hockey_ball\": [\"hockey_ball\", \"hockey_balls\", \"Large hockey_ball\", \"Large hockey_balls\", \"Small hockey_ball\", \"Small hockey_balls\", \"Medium hockey_ball\", \"Medium hockey_balls\"],\n",
    "    \"hockey_puck\": [\"hockey_puck\", \"hockey_pucks\", \"Large hockey_puck\", \"Large hockey_pucks\", \"Small hockey_puck\", \"Small hockey_pucks\", \"Medium hockey_puck\", \"Medium hockey_pucks\"],\n",
    "    \"rugby_ball\": [\"rugby_ball\", \"rugby_balls\", \"Large rugby_ball\", \"Large rugby_balls\", \"Small rugby_ball\", \"Small rugby_balls\", \"Medium rugby_ball\", \"Medium rugby_balls\"],\n",
    "    \"shuttlecock\": [\"shuttlecock\", \"shuttlecocks\", \"Large shuttlecock\", \"Large shuttlecocks\", \"Small shuttlecock\", \"Small shuttlecocks\", \"Medium shuttlecock\", \"Medium shuttlecocks\"],\n",
    "    \"table_tennis_ball\": [\"table_tennis_ball\", \"table_tennis_balls\", \"Large table_tennis_ball\", \"Large table_tennis_balls\", \"Small table_tennis_ball\", \"Small table_tennis_balls\", \"Medium table_tennis_ball\", \"Medium table_tennis_balls\"],\n",
    "    \"tennis_ball\": [\"tennis_ball\", \"tennis_balls\", \"Large tennis_ball\", \"Large tennis_balls\", \"Small tennis_ball\", \"Small tennis_balls\", \"Medium tennis_ball\", \"Medium tennis_balls\"],\n",
    "    \"volleyball\": [\"volleyball\", \"volleyballs\", \"Large volleyball\", \"Large volleyballs\", \"Small volleyball\", \"Small volleyballs\", \"Medium volleyball\", \"Medium volleyballs\"]\n",
    "}\n",
    "\n",
    "# american_football, american_footballs, Large american_football, Large american_footballs, Small american_football, Small american_footballs, Medium american_football, Medium american_footballs, baseball, baseballs, Large baseball, Large baseballs, Small baseball, Small baseballs, Medium baseball, Medium baseballs, basketball, basketballs, Large basketball, Large basketballs, Small basketball, Small basketballs, Medium basketball, Medium basketballs, billiard_ball, billiard_balls, Large billiard_ball, Large billiard_balls, Small billiard_ball, Small billiard_balls, Medium billiard_ball, Medium billiard_balls, bowling_ball, bowling_balls, Large bowling_ball, Large bowling_balls, Small bowling_ball, Small bowling_balls, Medium bowling_ball, Medium bowling_balls, cricket_ball, cricket_balls, Large cricket_ball, Large cricket_balls, Small cricket_ball, Small cricket_balls, Medium cricket_ball, Medium cricket_balls, football, footballs, Large football, Large footballs, Small football, Small footballs, Medium football, Medium footballs, golf_ball, golf_balls, Large golf_ball, Large golf_balls, Small golf_ball, Small golf_balls, Medium golf_ball, Medium golf_balls, hockey_ball, hockey_balls, Large hockey_ball, Large hockey_balls, Small hockey_ball, Small hockey_balls, Medium hockey_ball, Medium hockey_balls, hockey_puck, hockey_pucks, Large hockey_puck, Large hockey_pucks, Small hockey_puck, Small hockey_pucks, Medium hockey_puck, Medium hockey_pucks, rugby_ball, rugby_balls, Large rugby_ball, Large rugby_balls, Small rugby_ball, Small rugby_balls, Medium rugby_ball, Medium rugby_balls, shuttlecock, shuttlecocks, Large shuttlecock, Large shuttlecocks, Small shuttlecock, Small shuttlecocks, Medium shuttlecock, Medium shuttlecocks, table_tennis_ball, table_tennis_balls, Large table_tennis_ball, Large table_tennis_balls, Small table_tennis_ball, Small table_tennis_balls, Medium table_tennis_ball, Medium table_tennis_balls, tennis_ball, tennis_balls, Large tennis_ball, Large tennis_balls, Small tennis_ball, Small tennis_balls, Medium tennis_ball, Medium tennis_balls, volleyball, volleyballs, Large volleyball, Large volleyballs, Small volleyball, Small volleyballs, Medium volleyball, Medium volleyballs\n",
    "\n",
    "# dict_size(s120)\n",
    "print(aOcheck_accuracy(\"WithoutIP/sports15/s120.csv\", s120))\n"
   ]
  },
  {
   "cell_type": "code",
   "execution_count": 455,
   "metadata": {},
   "outputs": [
    {
     "name": "stdout",
     "output_type": "stream",
     "text": [
      "73.29\n",
      "73.29\n"
     ]
    }
   ],
   "source": [
    "s135 = {\n",
    "    \"american_football\": [\"american_football\", \"american_footballs\", \"Large american_football\", \"Large american_footballs\", \"Small american_football\", \"Small american_footballs\", \"Medium american_football\", \"Medium american_footballs\", \"Sports american_football\"],\n",
    "    \"baseball\": [\"baseball\", \"baseballs\", \"Large baseball\", \"Large baseballs\", \"Small baseball\", \"Small baseballs\", \"Medium baseball\", \"Medium baseballs\", \"Sports baseball\"],\n",
    "    \"basketball\": [\"basketball\", \"basketballs\", \"Large basketball\", \"Large basketballs\", \"Small basketball\", \"Small basketballs\", \"Medium basketball\", \"Medium basketballs\", \"Sports basketball\"],\n",
    "    \"billiard_ball\": [\"billiard_ball\", \"billiard_balls\", \"Large billiard_ball\", \"Large billiard_balls\", \"Small billiard_ball\", \"Small billiard_balls\", \"Medium billiard_ball\", \"Medium billiard_balls\", \"Sports billiard_ball\"],\n",
    "    \"bowling_ball\": [\"bowling_ball\", \"bowling_balls\", \"Large bowling_ball\", \"Large bowling_balls\", \"Small bowling_ball\", \"Small bowling_balls\", \"Medium bowling_ball\", \"Medium bowling_balls\", \"Sports bowling_ball\"],\n",
    "    \"cricket_ball\": [\"cricket_ball\", \"cricket_balls\", \"Large cricket_ball\", \"Large cricket_balls\", \"Small cricket_ball\", \"Small cricket_balls\", \"Medium cricket_ball\", \"Medium cricket_balls\", \"Sports cricket_ball\"],\n",
    "    \"football\": [\"football\", \"footballs\", \"Large football\", \"Large footballs\", \"Small football\", \"Small footballs\", \"Medium football\", \"Medium footballs\", \"Sports football\"],\n",
    "    \"golf_ball\": [\"golf_ball\", \"golf_balls\", \"Large golf_ball\", \"Large golf_balls\", \"Small golf_ball\", \"Small golf_balls\", \"Medium golf_ball\", \"Medium golf_balls\", \"Sports golf_ball\"],\n",
    "    \"hockey_ball\": [\"hockey_ball\", \"hockey_balls\", \"Large hockey_ball\", \"Large hockey_balls\", \"Small hockey_ball\", \"Small hockey_balls\", \"Medium hockey_ball\", \"Medium hockey_balls\", \"Sports hockey_ball\"],\n",
    "    \"hockey_puck\": [\"hockey_puck\", \"hockey_pucks\", \"Large hockey_puck\", \"Large hockey_pucks\", \"Small hockey_puck\", \"Small hockey_pucks\", \"Medium hockey_puck\", \"Medium hockey_pucks\", \"Sports hockey_puck\"],\n",
    "    \"rugby_ball\": [\"rugby_ball\", \"rugby_balls\", \"Large rugby_ball\", \"Large rugby_balls\", \"Small rugby_ball\", \"Small rugby_balls\", \"Medium rugby_ball\", \"Medium rugby_balls\", \"Sports rugby_ball\"],\n",
    "    \"shuttlecock\": [\"shuttlecock\", \"shuttlecocks\", \"Large shuttlecock\", \"Large shuttlecocks\", \"Small shuttlecock\", \"Small shuttlecocks\", \"Medium shuttlecock\", \"Medium shuttlecocks\", \"Sports shuttlecock\"],\n",
    "    \"table_tennis_ball\": [\"table_tennis_ball\", \"table_tennis_balls\", \"Large table_tennis_ball\", \"Large table_tennis_balls\", \"Small table_tennis_ball\", \"Small table_tennis_balls\", \"Medium table_tennis_ball\", \"Medium table_tennis_balls\", \"Sports table_tennis_ball\"],\n",
    "    \"tennis_ball\": [\"tennis_ball\", \"tennis_balls\", \"Large tennis_ball\", \"Large tennis_balls\", \"Small tennis_ball\", \"Small tennis_balls\", \"Medium tennis_ball\", \"Medium tennis_balls\", \"Sports tennis_ball\"],\n",
    "    \"volleyball\": [\"volleyball\", \"volleyballs\", \"Large volleyball\", \"Large volleyballs\", \"Small volleyball\", \"Small volleyballs\", \"Medium volleyball\", \"Medium volleyballs\", \"Sports volleyball\"]\n",
    "}\n",
    "\n",
    "# american_football, american_footballs, Large american_football, Large american_footballs, Small american_football, Small american_footballs, Medium american_football, Medium american_footballs, Sports american_football, baseball, baseballs, Large baseball, Large baseballs, Small baseball, Small baseballs, Medium baseball, Medium baseballs, Sports baseball, basketball, basketballs, Large basketball, Large basketballs, Small basketball, Small basketballs, Medium basketball, Medium basketballs, Sports basketball, billiard_ball, billiard_balls, Large billiard_ball, Large billiard_balls, Small billiard_ball, Small billiard_balls, Medium billiard_ball, Medium billiard_balls, Sports billiard_ball, bowling_ball, bowling_balls, Large bowling_ball, Large bowling_balls, Small bowling_ball, Small bowling_balls, Medium bowling_ball, Medium bowling_balls, Sports bowling_ball, cricket_ball, cricket_balls, Large cricket_ball, Large cricket_balls, Small cricket_ball, Small cricket_balls, Medium cricket_ball, Medium cricket_balls, Sports cricket_ball, football, footballs, Large football, Large footballs, Small football, Small footballs, Medium football, Medium footballs, Sports football, golf_ball, golf_balls, Large golf_ball, Large golf_balls, Small golf_ball, Small golf_balls, Medium golf_ball, Medium golf_balls, Sports golf_ball, hockey_ball, hockey_balls, Large hockey_ball, Large hockey_balls, Small hockey_ball, Small hockey_balls, Medium hockey_ball, Medium hockey_balls, Sports hockey_ball, hockey_puck, hockey_pucks, Large hockey_puck, Large hockey_pucks, Small hockey_puck, Small hockey_pucks, Medium hockey_puck, Medium hockey_pucks, Sports hockey_puck, rugby_ball, rugby_balls, Large rugby_ball, Large rugby_balls, Small rugby_ball, Small rugby_balls, Medium rugby_ball, Medium rugby_balls, Sports rugby_ball, shuttlecock, shuttlecocks, Large shuttlecock, Large shuttlecocks, Small shuttlecock, Small shuttlecocks, Medium shuttlecock, Medium shuttlecocks, Sports shuttlecock, table_tennis_ball, table_tennis_balls, Large table_tennis_ball, Large table_tennis_balls, Small table_tennis_ball, Small table_tennis_balls, Medium table_tennis_ball, Medium table_tennis_balls, Sports table_tennis_ball, tennis_ball, tennis_balls, Large tennis_ball, Large tennis_balls, Small tennis_ball, Small tennis_balls, Medium tennis_ball, Medium tennis_balls, Sports tennis_ball, volleyball, volleyballs, Large volleyball, Large volleyballs, Small volleyball, Small volleyballs, Medium volleyball, Medium volleyballs, Sports volleyball\n",
    "\n",
    "# dict_size(s135)\n",
    "print(aOcheck_accuracy(\"WithoutIP/sports15/s135.csv\", s135))\n"
   ]
  },
  {
   "cell_type": "code",
   "execution_count": 456,
   "metadata": {},
   "outputs": [
    {
     "name": "stdout",
     "output_type": "stream",
     "text": [
      "71.25\n",
      "71.25\n"
     ]
    }
   ],
   "source": [
    "s150 = {\n",
    "    \"american_football\": [\"american_football\", \"american_footballs\", \"Large american_football\", \"Large american_footballs\", \"Small american_football\", \"Small american_footballs\", \"Medium american_football\", \"Medium american_footballs\", \"Sports american_football\", \"Sports american_footballs\"],\n",
    "    \"baseball\": [\"baseball\", \"baseballs\", \"Large baseball\", \"Large baseballs\", \"Small baseball\", \"Small baseballs\", \"Medium baseball\", \"Medium baseballs\", \"Sports baseball\", \"Sports baseballs\"],\n",
    "    \"basketball\": [\"basketball\", \"basketballs\", \"Large basketball\", \"Large basketballs\", \"Small basketball\", \"Small basketballs\", \"Medium basketball\", \"Medium basketballs\", \"Sports basketball\", \"Sports basketballs\"],\n",
    "    \"billiard_ball\": [\"billiard_ball\", \"billiard_balls\", \"Large billiard_ball\", \"Large billiard_balls\", \"Small billiard_ball\", \"Small billiard_balls\", \"Medium billiard_ball\", \"Medium billiard_balls\", \"Sports billiard_ball\", \"Sports billiard_balls\"],\n",
    "    \"bowling_ball\": [\"bowling_ball\", \"bowling_balls\", \"Large bowling_ball\", \"Large bowling_balls\", \"Small bowling_ball\", \"Small bowling_balls\", \"Medium bowling_ball\", \"Medium bowling_balls\", \"Sports bowling_ball\", \"Sports bowling_balls\"],\n",
    "    \"cricket_ball\": [\"cricket_ball\", \"cricket_balls\", \"Large cricket_ball\", \"Large cricket_balls\", \"Small cricket_ball\", \"Small cricket_balls\", \"Medium cricket_ball\", \"Medium cricket_balls\", \"Sports cricket_ball\", \"Sports cricket_balls\"],\n",
    "    \"football\": [\"football\", \"footballs\", \"Large football\", \"Large footballs\", \"Small football\", \"Small footballs\", \"Medium football\", \"Medium footballs\", \"Sports football\", \"Sports footballs\"],\n",
    "    \"golf_ball\": [\"golf_ball\", \"golf_balls\", \"Large golf_ball\", \"Large golf_balls\", \"Small golf_ball\", \"Small golf_balls\", \"Medium golf_ball\", \"Medium golf_balls\", \"Sports golf_ball\", \"Sports golf_balls\"],\n",
    "    \"hockey_ball\": [\"hockey_ball\", \"hockey_balls\", \"Large hockey_ball\", \"Large hockey_balls\", \"Small hockey_ball\", \"Small hockey_balls\", \"Medium hockey_ball\", \"Medium hockey_balls\", \"Sports hockey_ball\", \"Sports hockey_balls\"],\n",
    "    \"hockey_puck\": [\"hockey_puck\", \"hockey_pucks\", \"Large hockey_puck\", \"Large hockey_pucks\", \"Small hockey_puck\", \"Small hockey_pucks\", \"Medium hockey_puck\", \"Medium hockey_pucks\", \"Sports hockey_puck\", \"Sports hockey_pucks\"],\n",
    "    \"rugby_ball\": [\"rugby_ball\", \"rugby_balls\", \"Large rugby_ball\", \"Large rugby_balls\", \"Small rugby_ball\", \"Small rugby_balls\", \"Medium rugby_ball\", \"Medium rugby_balls\", \"Sports rugby_ball\", \"Sports rugby_balls\"],\n",
    "    \"shuttlecock\": [\"shuttlecock\", \"shuttlecocks\", \"Large shuttlecock\", \"Large shuttlecocks\", \"Small shuttlecock\", \"Small shuttlecocks\", \"Medium shuttlecock\", \"Medium shuttlecocks\", \"Sports shuttlecock\", \"Sports shuttlecocks\"],\n",
    "    \"table_tennis_ball\": [\"table_tennis_ball\", \"table_tennis_balls\", \"Large table_tennis_ball\", \"Large table_tennis_balls\", \"Small table_tennis_ball\", \"Small table_tennis_balls\", \"Medium table_tennis_ball\", \"Medium table_tennis_balls\", \"Sports table_tennis_ball\", \"Sports table_tennis_balls\"],\n",
    "    \"tennis_ball\": [\"tennis_ball\", \"tennis_balls\", \"Large tennis_ball\", \"Large tennis_balls\", \"Small tennis_ball\", \"Small tennis_balls\", \"Medium tennis_ball\", \"Medium tennis_balls\", \"Sports tennis_ball\", \"Sports tennis_balls\"],\n",
    "    \"volleyball\": [\"volleyball\", \"volleyballs\", \"Large volleyball\", \"Large volleyballs\", \"Small volleyball\", \"Small volleyballs\", \"Medium volleyball\", \"Medium volleyballs\", \"Sports volleyball\", \"Sports volleyballs\"]\n",
    "}\n",
    "\n",
    "# american_football, american_footballs, Large american_football, Large american_footballs, Small american_football, Small american_footballs, Medium american_football, Medium american_footballs, Sports american_football, Sports american_footballs, baseball, baseballs, Large baseball, Large baseballs, Small baseball, Small baseballs, Medium baseball, Medium baseballs, Sports baseball, Sports baseballs, basketball, basketballs, Large basketball, Large basketballs, Small basketball, Small basketballs, Medium basketball, Medium basketballs, Sports basketball, Sports basketballs, billiard_ball, billiard_balls, Large billiard_ball, Large billiard_balls, Small billiard_ball, Small billiard_balls, Medium billiard_ball, Medium billiard_balls, Sports billiard_ball, Sports billiard_balls, bowling_ball, bowling_balls, Large bowling_ball, Large bowling_balls, Small bowling_ball, Small bowling_balls, Medium bowling_ball, Medium bowling_balls, Sports bowling_ball, Sports bowling_balls, cricket_ball, cricket_balls, Large cricket_ball, Large cricket_balls, Small cricket_ball, Small cricket_balls, Medium cricket_ball, Medium cricket_balls, Sports cricket_ball, Sports cricket_balls, football, footballs, Large football, Large footballs, Small football, Small footballs, Medium football, Medium footballs, Sports football, Sports footballs, golf_ball, golf_balls, Large golf_ball, Large golf_balls, Small golf_ball, Small golf_balls, Medium golf_ball, Medium golf_balls, Sports golf_ball, Sports golf_balls, hockey_ball, hockey_balls, Large hockey_ball, Large hockey_balls, Small hockey_ball, Small hockey_balls, Medium hockey_ball, Medium hockey_balls, Sports hockey_ball, Sports hockey_balls, hockey_puck, hockey_pucks, Large hockey_puck, Large hockey_pucks, Small hockey_puck, Small hockey_pucks, Medium hockey_puck, Medium hockey_pucks, Sports hockey_puck, Sports hockey_pucks, rugby_ball, rugby_balls, Large rugby_ball, Large rugby_balls, Small rugby_ball, Small rugby_balls, Medium rugby_ball, Medium rugby_balls, Sports rugby_ball, Sports rugby_balls, shuttlecock, shuttlecocks, Large shuttlecock, Large shuttlecocks, Small shuttlecock, Small shuttlecocks, Medium shuttlecock, Medium shuttlecocks, Sports shuttlecock, Sports shuttlecocks, table_tennis_ball, table_tennis_balls, Large table_tennis_ball, Large table_tennis_balls, Small table_tennis_ball, Small table_tennis_balls, Medium table_tennis_ball, Medium table_tennis_balls, Sports table_tennis_ball, Sports table_tennis_balls, tennis_ball, tennis_balls, Large tennis_ball, Large tennis_balls, Small tennis_ball, Small tennis_balls, Medium tennis_ball, Medium tennis_balls, Sports tennis_ball, Sports tennis_balls, volleyball, volleyballs, Large volleyball, Large volleyballs, Small volleyball, Small volleyballs, Medium volleyball, Medium volleyballs, Sports volleyball, Sports volleyballs\n",
    "\n",
    "# dict_size(s150)\n",
    "print(aOcheck_accuracy(\"WithoutIP/sports15/s150.csv\", s150))\n"
   ]
  },
  {
   "cell_type": "code",
   "execution_count": null,
   "metadata": {},
   "outputs": [],
   "source": [
    "s165 = {\n",
    "    \"american_football\": [\"american_football\", \"american_footballs\", \"Large american_football\", \"Large american_footballs\", \"Small american_football\", \"Small american_footballs\", \"Medium american_football\", \"Medium american_footballs\", \"Sports american_football\", \"Sports american_footballs\", \"Round american_football\"],\n",
    "    \"baseball\": [\"baseball\", \"baseballs\", \"Large baseball\", \"Large baseballs\", \"Small baseball\", \"Small baseballs\", \"Medium baseball\", \"Medium baseballs\", \"Sports baseball\", \"Sports baseballs\", \"Round baseball\"],\n",
    "    \"basketball\": [\"basketball\", \"basketballs\", \"Large basketball\", \"Large basketballs\", \"Small basketball\", \"Small basketballs\", \"Medium basketball\", \"Medium basketballs\", \"Sports basketball\", \"Sports basketballs\", \"Round basketball\"],\n",
    "    \"billiard_ball\": [\"billiard_ball\", \"billiard_balls\", \"Large billiard_ball\", \"Large billiard_balls\", \"Small billiard_ball\", \"Small billiard_balls\", \"Medium billiard_ball\", \"Medium billiard_balls\", \"Sports billiard_ball\", \"Sports billiard_balls\", \"Round billiard_ball\"],\n",
    "    \"bowling_ball\": [\"bowling_ball\", \"bowling_balls\", \"Large bowling_ball\", \"Large bowling_balls\", \"Small bowling_ball\", \"Small bowling_balls\", \"Medium bowling_ball\", \"Medium bowling_balls\", \"Sports bowling_ball\", \"Sports bowling_balls\", \"Round bowling_ball\"],\n",
    "    \"cricket_ball\": [\"cricket_ball\", \"cricket_balls\", \"Large cricket_ball\", \"Large cricket_balls\", \"Small cricket_ball\", \"Small cricket_balls\", \"Medium cricket_ball\", \"Medium cricket_balls\", \"Sports cricket_ball\", \"Sports cricket_balls\", \"Round cricket_ball\"],\n",
    "    \"football\": [\"football\", \"footballs\", \"Large football\", \"Large footballs\", \"Small football\", \"Small footballs\", \"Medium football\", \"Medium footballs\", \"Sports football\", \"Sports footballs\", \"Round football\"],\n",
    "    \"golf_ball\": [\"golf_ball\", \"golf_balls\", \"Large golf_ball\", \"Large golf_balls\", \"Small golf_ball\", \"Small golf_balls\", \"Medium golf_ball\", \"Medium golf_balls\", \"Sports golf_ball\", \"Sports golf_balls\", \"Round golf_ball\"],\n",
    "    \"hockey_ball\": [\"hockey_ball\", \"hockey_balls\", \"Large hockey_ball\", \"Large hockey_balls\", \"Small hockey_ball\", \"Small hockey_balls\", \"Medium hockey_ball\", \"Medium hockey_balls\", \"Sports hockey_ball\", \"Sports hockey_balls\", \"Round hockey_ball\"],\n",
    "    \"hockey_puck\": [\"hockey_puck\", \"hockey_pucks\", \"Large hockey_puck\", \"Large hockey_pucks\", \"Small hockey_puck\", \"Small hockey_pucks\", \"Medium hockey_puck\", \"Medium hockey_pucks\", \"Sports hockey_puck\", \"Sports hockey_pucks\", \"Round hockey_puck\"],\n",
    "    \"rugby_ball\": [\"rugby_ball\", \"rugby_balls\", \"Large rugby_ball\", \"Large rugby_balls\", \"Small rugby_ball\", \"Small rugby_balls\", \"Medium rugby_ball\", \"Medium rugby_balls\", \"Sports rugby_ball\", \"Sports rugby_balls\", \"Round rugby_ball\"],\n",
    "    \"shuttlecock\": [\"shuttlecock\", \"shuttlecocks\", \"Large shuttlecock\", \"Large shuttlecocks\", \"Small shuttlecock\", \"Small shuttlecocks\", \"Medium shuttlecock\", \"Medium shuttlecocks\", \"Sports shuttlecock\", \"Sports shuttlecocks\", \"Round shuttlecock\"],\n",
    "    \"table_tennis_ball\": [\"table_tennis_ball\", \"table_tennis_balls\", \"Large table_tennis_ball\", \"Large table_tennis_balls\", \"Small table_tennis_ball\", \"Small table_tennis_balls\", \"Medium table_tennis_ball\", \"Medium table_tennis_balls\", \"Sports table_tennis_ball\", \"Sports table_tennis_balls\", \"Round table_tennis_ball\"],\n",
    "    \"tennis_ball\": [\"tennis_ball\", \"tennis_balls\", \"Large tennis_ball\", \"Large tennis_balls\", \"Small tennis_ball\", \"Small tennis_balls\", \"Medium tennis_ball\", \"Medium tennis_balls\", \"Sports tennis_ball\", \"Sports tennis_balls\", \"Round tennis_ball\"],\n",
    "    \"volleyball\": [\"volleyball\", \"volleyballs\", \"Large volleyball\", \"Large volleyballs\", \"Small volleyball\", \"Small volleyballs\", \"Medium volleyball\", \"Medium volleyballs\", \"Sports volleyball\", \"Sports volleyballs\", \"Round volleyball\"]\n",
    "}\n",
    "\n",
    "# american_football, american_footballs, Large american_football, Large american_footballs, Small american_football, Small american_footballs, Medium american_football, Medium american_footballs, Sports american_football, Sports american_footballs, Round american_football, baseball, baseballs, Large baseball, Large baseballs, Small baseball, Small baseballs, Medium baseball, Medium baseballs, Sports baseball, Sports baseballs, Round baseball, basketball, basketballs, Large basketball, Large basketballs, Small basketball, Small basketballs, Medium basketball, Medium basketballs, Sports basketball, Sports basketballs, Round basketball, billiard_ball, billiard_balls, Large billiard_ball, Large billiard_balls, Small billiard_ball, Small billiard_balls, Medium billiard_ball, Medium billiard_balls, Sports billiard_ball, Sports billiard_balls, Round billiard_ball, bowling_ball, bowling_balls, Large bowling_ball, Large bowling_balls, Small bowling_ball, Small bowling_balls, Medium bowling_ball, Medium bowling_balls, Sports bowling_ball, Sports bowling_balls, Round bowling_ball, cricket_ball, cricket_balls, Large cricket_ball, Large cricket_balls, Small cricket_ball, Small cricket_balls, Medium cricket_ball, Medium cricket_balls, Sports cricket_ball, Sports cricket_balls, Round cricket_ball, football, footballs, Large football, Large footballs, Small football, Small footballs, Medium football, Medium footballs, Sports football, Sports footballs, Round football, golf_ball, golf_balls, Large golf_ball, Large golf_balls, Small golf_ball, Small golf_balls, Medium golf_ball, Medium golf_balls, Sports golf_ball, Sports golf_balls, Round golf_ball, hockey_ball, hockey_balls, Large hockey_ball, Large hockey_balls, Small hockey_ball, Small hockey_balls, Medium hockey_ball, Medium hockey_balls, Sports hockey_ball, Sports hockey_balls, Round hockey_ball, hockey_puck, hockey_pucks, Large hockey_puck, Large hockey_pucks, Small hockey_puck, Small hockey_pucks, Medium hockey_puck, Medium hockey_pucks, Sports hockey_puck, Sports hockey_pucks, Round hockey_puck, rugby_ball, rugby_balls, Large rugby_ball, Large rugby_balls, Small rugby_ball, Small rugby_balls, Medium rugby_ball, Medium rugby_balls, Sports rugby_ball, Sports rugby_balls, Round rugby_ball, shuttlecock, shuttlecocks, Large shuttlecock, Large shuttlecocks, Small shuttlecock, Small shuttlecocks, Medium shuttlecock, Medium shuttlecocks, Sports shuttlecock, Sports shuttlecocks, Round shuttlecock, table_tennis_ball, table_tennis_balls, Large table_tennis_ball, Large table_tennis_balls, Small table_tennis_ball, Small table_tennis_balls, Medium table_tennis_ball, Medium table_tennis_balls, Sports table_tennis_ball, Sports table_tennis_balls, Round table_tennis_ball, tennis_ball, tennis_balls, Large tennis_ball, Large tennis_balls, Small tennis_ball, Small tennis_balls, Medium tennis_ball, Medium tennis_balls, Sports tennis_ball, Sports tennis_balls, Round tennis_ball, volleyball, volleyballs, Large volleyball, Large volleyballs, Small volleyball, Small volleyballs, Medium volleyball, Medium volleyballs, Sports volleyball, Sports volleyballs, Round volleyball\n",
    "\n",
    "# dict_size(s165)\n",
    "print(aOcheck_accuracy(\"WithoutIP/sports15/s165.csv\", s165))\n"
   ]
  },
  {
   "cell_type": "code",
   "execution_count": null,
   "metadata": {},
   "outputs": [],
   "source": [
    "s180 = {\n",
    "    \"american_football\": [\"american_football\", \"american_footballs\", \"Large american_football\", \"Large american_footballs\", \"Small american_football\", \"Small american_footballs\", \"Medium american_football\", \"Medium american_footballs\", \"Sports american_football\", \"Sports american_footballs\", \"Round american_football\", \"Round american_footballs\"],\n",
    "    \"baseball\": [\"baseball\", \"baseballs\", \"Large baseball\", \"Large baseballs\", \"Small baseball\", \"Small baseballs\", \"Medium baseball\", \"Medium baseballs\", \"Sports baseball\", \"Sports baseballs\", \"Round baseball\", \"Round baseballs\"],\n",
    "    \"basketball\": [\"basketball\", \"basketballs\", \"Large basketball\", \"Large basketballs\", \"Small basketball\", \"Small basketballs\", \"Medium basketball\", \"Medium basketballs\", \"Sports basketball\", \"Sports basketballs\", \"Round basketball\", \"Round basketballs\"],\n",
    "    \"billiard_ball\": [\"billiard_ball\", \"billiard_balls\", \"Large billiard_ball\", \"Large billiard_balls\", \"Small billiard_ball\", \"Small billiard_balls\", \"Medium billiard_ball\", \"Medium billiard_balls\", \"Sports billiard_ball\", \"Sports billiard_balls\", \"Round billiard_ball\", \"Round billiard_balls\"],\n",
    "    \"bowling_ball\": [\"bowling_ball\", \"bowling_balls\", \"Large bowling_ball\", \"Large bowling_balls\", \"Small bowling_ball\", \"Small bowling_balls\", \"Medium bowling_ball\", \"Medium bowling_balls\", \"Sports bowling_ball\", \"Sports bowling_balls\", \"Round bowling_ball\", \"Round bowling_balls\"],\n",
    "    \"cricket_ball\": [\"cricket_ball\", \"cricket_balls\", \"Large cricket_ball\", \"Large cricket_balls\", \"Small cricket_ball\", \"Small cricket_balls\", \"Medium cricket_ball\", \"Medium cricket_balls\", \"Sports cricket_ball\", \"Sports cricket_balls\", \"Round cricket_ball\", \"Round cricket_balls\"],\n",
    "    \"football\": [\"football\", \"footballs\", \"Large football\", \"Large footballs\", \"Small football\", \"Small footballs\", \"Medium football\", \"Medium footballs\", \"Sports football\", \"Sports footballs\", \"Round football\", \"Round footballs\"],\n",
    "    \"golf_ball\": [\"golf_ball\", \"golf_balls\", \"Large golf_ball\", \"Large golf_balls\", \"Small golf_ball\", \"Small golf_balls\", \"Medium golf_ball\", \"Medium golf_balls\", \"Sports golf_ball\", \"Sports golf_balls\", \"Round golf_ball\", \"Round golf_balls\"],\n",
    "    \"hockey_ball\": [\"hockey_ball\", \"hockey_balls\", \"Large hockey_ball\", \"Large hockey_balls\", \"Small hockey_ball\", \"Small hockey_balls\", \"Medium hockey_ball\", \"Medium hockey_balls\", \"Sports hockey_ball\", \"Sports hockey_balls\", \"Round hockey_ball\", \"Round hockey_balls\"],\n",
    "    \"hockey_puck\": [\"hockey_puck\", \"hockey_pucks\", \"Large hockey_puck\", \"Large hockey_pucks\", \"Small hockey_puck\", \"Small hockey_pucks\", \"Medium hockey_puck\", \"Medium hockey_pucks\", \"Sports hockey_puck\", \"Sports hockey_pucks\", \"Round hockey_puck\", \"Round hockey_pucks\"],\n",
    "    \"rugby_ball\": [\"rugby_ball\", \"rugby_balls\", \"Large rugby_ball\", \"Large rugby_balls\", \"Small rugby_ball\", \"Small rugby_balls\", \"Medium rugby_ball\", \"Medium rugby_balls\", \"Sports rugby_ball\", \"Sports rugby_balls\", \"Round rugby_ball\", \"Round rugby_balls\"],\n",
    "    \"shuttlecock\": [\"shuttlecock\", \"shuttlecocks\", \"Large shuttlecock\", \"Large shuttlecocks\", \"Small shuttlecock\", \"Small shuttlecocks\", \"Medium shuttlecock\", \"Medium shuttlecocks\", \"Sports shuttlecock\", \"Sports shuttlecocks\", \"Round shuttlecock\", \"Round shuttlecocks\"],\n",
    "    \"table_tennis_ball\": [\"table_tennis_ball\", \"table_tennis_balls\", \"Large table_tennis_ball\", \"Large table_tennis_balls\", \"Small table_tennis_ball\", \"Small table_tennis_balls\", \"Medium table_tennis_ball\", \"Medium table_tennis_balls\", \"Sports table_tennis_ball\", \"Sports table_tennis_balls\", \"Round table_tennis_ball\", \"Round table_tennis_balls\"],\n",
    "    \"tennis_ball\": [\"tennis_ball\", \"tennis_balls\", \"Large tennis_ball\", \"Large tennis_balls\", \"Small tennis_ball\", \"Small tennis_balls\", \"Medium tennis_ball\", \"Medium tennis_balls\", \"Sports tennis_ball\", \"Sports tennis_balls\", \"Round tennis_ball\", \"Round tennis_balls\"],\n",
    "    \"volleyball\": [\"volleyball\", \"volleyballs\", \"Large volleyball\", \"Large volleyballs\", \"Small volleyball\", \"Small volleyballs\", \"Medium volleyball\", \"Medium volleyballs\", \"Sports volleyball\", \"Sports volleyballs\", \"Round volleyball\", \"Round volleyballs\"]\n",
    "}\n",
    "\n",
    "# american_football, american_footballs, Large american_football, Large american_footballs, Small american_football, Small american_footballs, Medium american_football, Medium american_footballs, Sports american_football, Sports american_footballs, Round american_football, Round american_footballs, baseball, baseballs, Large baseball, Large baseballs, Small baseball, Small baseballs, Medium baseball, Medium baseballs, Sports baseball, Sports baseballs, Round baseball, Round baseballs, basketball, basketballs, Large basketball, Large basketballs, Small basketball, Small basketballs, Medium basketball, Medium basketballs, Sports basketball, Sports basketballs, Round basketball, Round basketballs, billiard_ball, billiard_balls, Large billiard_ball, Large billiard_balls, Small billiard_ball, Small billiard_balls, Medium billiard_ball, Medium billiard_balls, Sports billiard_ball, Sports billiard_balls, Round billiard_ball, Round billiard_balls, bowling_ball, bowling_balls, Large bowling_ball, Large bowling_balls, Small bowling_ball, Small bowling_balls, Medium bowling_ball, Medium bowling_balls, Sports bowling_ball, Sports bowling_balls, Round bowling_ball, Round bowling_balls, cricket_ball, cricket_balls, Large cricket_ball, Large cricket_balls, Small cricket_ball, Small cricket_balls, Medium cricket_ball, Medium cricket_balls, Sports cricket_ball, Sports cricket_balls, Round cricket_ball, Round cricket_balls, football, footballs, Large football, Large footballs, Small football, Small footballs, Medium football, Medium footballs, Sports football, Sports footballs, Round football, Round footballs, golf_ball, golf_balls, Large golf_ball, Large golf_balls, Small golf_ball, Small golf_balls, Medium golf_ball, Medium golf_balls, Sports golf_ball, Sports golf_balls, Round golf_ball, Round golf_balls, hockey_ball, hockey_balls, Large hockey_ball, Large hockey_balls, Small hockey_ball, Small hockey_balls, Medium hockey_ball, Medium hockey_balls, Sports hockey_ball, Sports hockey_balls, Round hockey_ball, Round hockey_balls, hockey_puck, hockey_pucks, Large hockey_puck, Large hockey_pucks, Small hockey_puck, Small hockey_pucks, Medium hockey_puck, Medium hockey_pucks, Sports hockey_puck, Sports hockey_pucks, Round hockey_puck, Round hockey_pucks, rugby_ball, rugby_balls, Large rugby_ball, Large rugby_balls, Small rugby_ball, Small rugby_balls, Medium rugby_ball, Medium rugby_balls, Sports rugby_ball, Sports rugby_balls, Round rugby_ball, Round rugby_balls, shuttlecock, shuttlecocks, Large shuttlecock, Large shuttlecocks, Small shuttlecock, Small shuttlecocks, Medium shuttlecock, Medium shuttlecocks, Sports shuttlecock, Sports shuttlecocks, Round shuttlecock, Round shuttlecocks, table_tennis_ball, table_tennis_balls, Large table_tennis_ball, Large table_tennis_balls, Small table_tennis_ball, Small table_tennis_balls, Medium table_tennis_ball, Medium table_tennis_balls, Sports table_tennis_ball, Sports table_tennis_balls, Round table_tennis_ball, Round table_tennis_balls, tennis_ball, tennis_balls, Large tennis_ball, Large tennis_balls, Small tennis_ball, Small tennis_balls, Medium tennis_ball, Medium tennis_balls, Sports tennis_ball, Sports tennis_balls, Round tennis_ball, Round tennis_balls, volleyball, volleyballs, Large volleyball, Large volleyballs, Small volleyball, Small volleyballs, Medium volleyball, Medium volleyballs, Sports volleyball, Sports volleyballs, Round volleyball, Round volleyballs\n",
    "\n",
    "# dict_size(s180)\n",
    "print(aOcheck_accuracy(\"WithoutIP/sports15/s180.csv\", s180))\n"
   ]
  },
  {
   "cell_type": "code",
   "execution_count": null,
   "metadata": {},
   "outputs": [],
   "source": [
    "s195 = {\n",
    "    \"american_football\": [\"american_football\", \"american_footballs\", \"Large american_football\", \"Large american_footballs\", \"Small american_football\", \"Small american_footballs\", \"Medium american_football\", \"Medium american_footballs\", \"Sports american_football\", \"Sports american_footballs\", \"Round american_football\", \"american_football for Sports\"],\n",
    "    \"baseball\": [\"baseball\", \"baseballs\", \"Large baseball\", \"Large baseballs\", \"Small baseball\", \"Small baseballs\", \"Medium baseball\", \"Medium baseballs\", \"Sports baseball\", \"Sports baseballs\", \"Round baseball\", \"baseball for Sports\"],\n",
    "    \"basketball\": [\"basketball\", \"basketballs\", \"Large basketball\", \"Large basketballs\", \"Small basketball\", \"Small basketballs\", \"Medium basketball\", \"Medium basketballs\", \"Sports basketball\", \"Sports basketballs\", \"Round basketball\", \"basketball for Sports\"],\n",
    "    \"billiard_ball\": [\"billiard_ball\", \"billiard_balls\", \"Large billiard_ball\", \"Large billiard_balls\", \"Small billiard_ball\", \"Small billiard_balls\", \"Medium billiard_ball\", \"Medium billiard_balls\", \"Sports billiard_ball\", \"Sports billiard_balls\", \"Round billiard_ball\", \"billiard_ball for Sports\"],\n",
    "    \"bowling_ball\": [\"bowling_ball\", \"bowling_balls\", \"Large bowling_ball\", \"Large bowling_balls\", \"Small bowling_ball\", \"Small bowling_balls\", \"Medium bowling_ball\", \"Medium bowling_balls\", \"Sports bowling_ball\", \"Sports bowling_balls\", \"Round bowling_ball\", \"bowling_ball for Sports\"],\n",
    "    \"cricket_ball\": [\"cricket_ball\", \"cricket_balls\", \"Large cricket_ball\", \"Large cricket_balls\", \"Small cricket_ball\", \"Small cricket_balls\", \"Medium cricket_ball\", \"Medium cricket_balls\", \"Sports cricket_ball\", \"Sports cricket_balls\", \"Round cricket_ball\", \"cricket_ball for Sports\"],\n",
    "    \"football\": [\"football\", \"footballs\", \"Large football\", \"Large footballs\", \"Small football\", \"Small footballs\", \"Medium football\", \"Medium footballs\", \"Sports football\", \"Sports footballs\", \"Round football\", \"football for Sports\"],\n",
    "    \"golf_ball\": [\"golf_ball\", \"golf_balls\", \"Large golf_ball\", \"Large golf_balls\", \"Small golf_ball\", \"Small golf_balls\", \"Medium golf_ball\", \"Medium golf_balls\", \"Sports golf_ball\", \"Sports golf_balls\", \"Round golf_ball\", \"golf_ball for Sports\"],\n",
    "    \"hockey_ball\": [\"hockey_ball\", \"hockey_balls\", \"Large hockey_ball\", \"Large hockey_balls\", \"Small hockey_ball\", \"Small hockey_balls\", \"Medium hockey_ball\", \"Medium hockey_balls\", \"Sports hockey_ball\", \"Sports hockey_balls\", \"Round hockey_ball\", \"hockey_ball for Sports\"],\n",
    "    \"hockey_puck\": [\"hockey_puck\", \"hockey_pucks\", \"Large hockey_puck\", \"Large hockey_pucks\", \"Small hockey_puck\", \"Small hockey_pucks\", \"Medium hockey_puck\", \"Medium hockey_pucks\", \"Sports hockey_puck\", \"Sports hockey_pucks\", \"Round hockey_puck\", \"hockey_puck for Sports\"],\n",
    "    \"rugby_ball\": [\"rugby_ball\", \"rugby_balls\", \"Large rugby_ball\", \"Large rugby_balls\", \"Small rugby_ball\", \"Small rugby_balls\", \"Medium rugby_ball\", \"Medium rugby_balls\", \"Sports rugby_ball\", \"Sports rugby_balls\", \"Round rugby_ball\", \"rugby_ball for Sports\"],\n",
    "    \"shuttlecock\": [\"shuttlecock\", \"shuttlecocks\", \"Large shuttlecock\", \"Large shuttlecocks\", \"Small shuttlecock\", \"Small shuttlecocks\", \"Medium shuttlecock\", \"Medium shuttlecocks\", \"Sports shuttlecock\", \"Sports shuttlecocks\", \"Round shuttlecock\", \"shuttlecock for Sports\"],\n",
    "    \"table_tennis_ball\": [\"table_tennis_ball\", \"table_tennis_balls\", \"Large table_tennis_ball\", \"Large table_tennis_balls\", \"Small table_tennis_ball\", \"Small table_tennis_balls\", \"Medium table_tennis_ball\", \"Medium table_tennis_balls\", \"Sports table_tennis_ball\", \"Sports table_tennis_balls\", \"Round table_tennis_ball\", \"table_tennis_ball for Sports\"],\n",
    "    \"tennis_ball\": [\"tennis_ball\", \"tennis_balls\", \"Large tennis_ball\", \"Large tennis_balls\", \"Small tennis_ball\", \"Small tennis_balls\", \"Medium tennis_ball\", \"Medium tennis_balls\", \"Sports tennis_ball\", \"Sports tennis_balls\", \"Round tennis_ball\", \"tennis_ball for Sports\"],\n",
    "    \"volleyball\": [\"volleyball\", \"volleyballs\", \"Large volleyball\", \"Large volleyballs\", \"Small volleyball\", \"Small volleyballs\", \"Medium volleyball\", \"Medium volleyballs\", \"Sports volleyball\", \"Sports volleyballs\", \"Round volleyball\", \"volleyball for Sports\"]\n",
    "}\n",
    "\n",
    "# american_football, american_footballs, Large american_football, Large american_footballs, Small american_football, Small american_footballs, Medium american_football, Medium american_footballs, Sports american_football, Sports american_footballs, Round american_football, american_football for Sports, baseball, baseballs, Large baseball, Large baseballs, Small baseball, Small baseballs, Medium baseball, Medium baseballs, Sports baseball, Sports baseballs, Round baseball, baseball for Sports, basketball, basketballs, Large basketball, Large basketballs, Small basketball, Small basketballs, Medium basketball, Medium basketballs, Sports basketball, Sports basketballs, Round basketball, basketball for Sports, billiard_ball, billiard_balls, Large billiard_ball, Large billiard_balls, Small billiard_ball, Small billiard_balls, Medium billiard_ball, Medium billiard_balls, Sports billiard_ball, Sports billiard_balls, Round billiard_ball, billiard_ball for Sports, bowling_ball, bowling_balls, Large bowling_ball, Large bowling_balls, Small bowling_ball, Small bowling_balls, Medium bowling_ball, Medium bowling_balls, Sports bowling_ball, Sports bowling_balls, Round bowling_ball, bowling_ball for Sports, cricket_ball, cricket_balls, Large cricket_ball, Large cricket_balls, Small cricket_ball, Small cricket_balls, Medium cricket_ball, Medium cricket_balls, Sports cricket_ball, Sports cricket_balls, Round cricket_ball, cricket_ball for Sports, football, footballs, Large football, Large footballs, Small football, Small footballs, Medium football, Medium footballs, Sports football, Sports footballs, Round football, football for Sports, golf_ball, golf_balls, Large golf_ball, Large golf_balls, Small golf_ball, Small golf_balls, Medium golf_ball, Medium golf_balls, Sports golf_ball, Sports golf_balls, Round golf_ball, golf_ball for Sports, hockey_ball, hockey_balls, Large hockey_ball, Large hockey_balls, Small hockey_ball, Small hockey_balls, Medium hockey_ball, Medium hockey_balls, Sports hockey_ball, Sports hockey_balls, Round hockey_ball, hockey_ball for Sports, hockey_puck, hockey_pucks, Large hockey_puck, Large hockey_pucks, Small hockey_puck, Small hockey_pucks, Medium hockey_puck, Medium hockey_pucks, Sports hockey_puck, Sports hockey_pucks, Round hockey_puck, hockey_puck for Sports, rugby_ball, rugby_balls, Large rugby_ball, Large rugby_balls, Small rugby_ball, Small rugby_balls, Medium rugby_ball, Medium rugby_balls, Sports rugby_ball, Sports rugby_balls, Round rugby_ball, rugby_ball for Sports, shuttlecock, shuttlecocks, Large shuttlecock, Large shuttlecocks, Small shuttlecock, Small shuttlecocks, Medium shuttlecock, Medium shuttlecocks, Sports shuttlecock, Sports shuttlecocks, Round shuttlecock, shuttlecock for Sports, table_tennis_ball, table_tennis_balls, Large table_tennis_ball, Large table_tennis_balls, Small table_tennis_ball, Small table_tennis_balls, Medium table_tennis_ball, Medium table_tennis_balls, Sports table_tennis_ball, Sports table_tennis_balls, Round table_tennis_ball, table_tennis_ball for Sports, tennis_ball, tennis_balls, Large tennis_ball, Large tennis_balls, Small tennis_ball, Small tennis_balls, Medium tennis_ball, Medium tennis_balls, Sports tennis_ball, Sports tennis_balls, Round tennis_ball, tennis_ball for Sports, volleyball, volleyballs, Large volleyball, Large volleyballs, Small volleyball, Small volleyballs, Medium volleyball, Medium volleyballs, Sports volleyball, Sports volleyballs, Round volleyball, volleyball for Sports\n",
    "\n",
    "# dict_size(s195)\n",
    "print(aOcheck_accuracy(\"WithoutIP/sports15/s195.csv\", s195))\n"
   ]
  },
  {
   "cell_type": "code",
   "execution_count": null,
   "metadata": {},
   "outputs": [],
   "source": [
    "s210 = {\n",
    "    \"american_football\": [\"american_football\", \"american_footballs\", \"Large american_football\", \"Large american_footballs\", \"Small american_football\", \"Small american_footballs\", \"Medium american_football\", \"Medium american_footballs\", \"Sports american_football\", \"Sports american_footballs\", \"Round american_football\", \"american_football for Sports\", \"american_footballs for Sports\"],\n",
    "    \"baseball\": [\"baseball\", \"baseballs\", \"Large baseball\", \"Large baseballs\", \"Small baseball\", \"Small baseballs\", \"Medium baseball\", \"Medium baseballs\", \"Sports baseball\", \"Sports baseballs\", \"Round baseball\", \"baseball for Sports\", \"baseballs for Sports\"],\n",
    "    \"basketball\": [\"basketball\", \"basketballs\", \"Large basketball\", \"Large basketballs\", \"Small basketball\", \"Small basketballs\", \"Medium basketball\", \"Medium basketballs\", \"Sports basketball\", \"Sports basketballs\", \"Round basketball\", \"basketball for Sports\", \"basketballs for Sports\"],\n",
    "    \"billiard_ball\": [\"billiard_ball\", \"billiard_balls\", \"Large billiard_ball\", \"Large billiard_balls\", \"Small billiard_ball\", \"Small billiard_balls\", \"Medium billiard_ball\", \"Medium billiard_balls\", \"Sports billiard_ball\", \"Sports billiard_balls\", \"Round billiard_ball\", \"billiard_ball for Sports\", \"billiard_balls for Sports\"],\n",
    "    \"bowling_ball\": [\"bowling_ball\", \"bowling_balls\", \"Large bowling_ball\", \"Large bowling_balls\", \"Small bowling_ball\", \"Small bowling_balls\", \"Medium bowling_ball\", \"Medium bowling_balls\", \"Sports bowling_ball\", \"Sports bowling_balls\", \"Round bowling_ball\", \"bowling_ball for Sports\", \"bowling_balls for Sports\"],\n",
    "    \"cricket_ball\": [\"cricket_ball\", \"cricket_balls\", \"Large cricket_ball\", \"Large cricket_balls\", \"Small cricket_ball\", \"Small cricket_balls\", \"Medium cricket_ball\", \"Medium cricket_balls\", \"Sports cricket_ball\", \"Sports cricket_balls\", \"Round cricket_ball\", \"cricket_ball for Sports\", \"cricket_balls for Sports\"],\n",
    "    \"football\": [\"football\", \"footballs\", \"Large football\", \"Large footballs\", \"Small football\", \"Small footballs\", \"Medium football\", \"Medium footballs\", \"Sports football\", \"Sports footballs\", \"Round football\", \"football for Sports\", \"footballs for Sports\"],\n",
    "    \"golf_ball\": [\"golf_ball\", \"golf_balls\", \"Large golf_ball\", \"Large golf_balls\", \"Small golf_ball\", \"Small golf_balls\", \"Medium golf_ball\", \"Medium golf_balls\", \"Sports golf_ball\", \"Sports golf_balls\", \"Round golf_ball\", \"golf_ball for Sports\", \"golf_balls for Sports\"],\n",
    "    \"hockey_ball\": [\"hockey_ball\", \"hockey_balls\", \"Large hockey_ball\", \"Large hockey_balls\", \"Small hockey_ball\", \"Small hockey_balls\", \"Medium hockey_ball\", \"Medium hockey_balls\", \"Sports hockey_ball\", \"Sports hockey_balls\", \"Round hockey_ball\", \"hockey_ball for Sports\", \"hockey_balls for Sports\"],\n",
    "    \"hockey_puck\": [\"hockey_puck\", \"hockey_pucks\", \"Large hockey_puck\", \"Large hockey_pucks\", \"Small hockey_puck\", \"Small hockey_pucks\", \"Medium hockey_puck\", \"Medium hockey_pucks\", \"Sports hockey_puck\", \"Sports hockey_pucks\", \"Round hockey_puck\", \"hockey_puck for Sports\", \"hockey_pucks for Sports\"],\n",
    "    \"rugby_ball\": [\"rugby_ball\", \"rugby_balls\", \"Large rugby_ball\", \"Large rugby_balls\", \"Small rugby_ball\", \"Small rugby_balls\", \"Medium rugby_ball\", \"Medium rugby_balls\", \"Sports rugby_ball\", \"Sports rugby_balls\", \"Round rugby_ball\", \"rugby_ball for Sports\", \"rugby_balls for Sports\"],\n",
    "    \"shuttlecock\": [\"shuttlecock\", \"shuttlecocks\", \"Large shuttlecock\", \"Large shuttlecocks\", \"Small shuttlecock\", \"Small shuttlecocks\", \"Medium shuttlecock\", \"Medium shuttlecocks\", \"Sports shuttlecock\", \"Sports shuttlecocks\", \"Round shuttlecock\", \"shuttlecock for Sports\", \"shuttlecocks for Sports\"],\n",
    "    \"table_tennis_ball\": [\"table_tennis_ball\", \"table_tennis_balls\", \"Large table_tennis_ball\", \"Large table_tennis_balls\", \"Small table_tennis_ball\", \"Small table_tennis_balls\", \"Medium table_tennis_ball\", \"Medium table_tennis_balls\", \"Sports table_tennis_ball\", \"Sports table_tennis_balls\", \"Round table_tennis_ball\", \"table_tennis_ball for Sports\", \"table_tennis_balls for Sports\"],\n",
    "    \"tennis_ball\": [\"tennis_ball\", \"tennis_balls\", \"Large tennis_ball\", \"Large tennis_balls\", \"Small tennis_ball\", \"Small tennis_balls\", \"Medium tennis_ball\", \"Medium tennis_balls\", \"Sports tennis_ball\", \"Sports tennis_balls\", \"Round tennis_ball\", \"tennis_ball for Sports\", \"tennis_balls for Sports\"],\n",
    "    \"volleyball\": [\"volleyball\", \"volleyballs\", \"Large volleyball\", \"Large volleyballs\", \"Small volleyball\", \"Small volleyballs\", \"Medium volleyball\", \"Medium volleyballs\", \"Sports volleyball\", \"Sports volleyballs\", \"Round volleyball\", \"volleyball for Sports\", \"volleyballs for Sports\"]\n",
    "}\n",
    "\n",
    "# american_football, american_footballs, Large american_football, Large american_footballs, Small american_football, Small american_footballs, Medium american_football, Medium american_footballs, Sports american_football, Sports american_footballs, Round american_football, american_football for Sports, american_footballs for Sports, baseball, baseballs, Large baseball, Large baseballs, Small baseball, Small baseballs, Medium baseball, Medium baseballs, Sports baseball, Sports baseballs, Round baseball, baseball for Sports, baseballs for Sports, basketball, basketballs, Large basketball, Large basketballs, Small basketball, Small basketballs, Medium basketball, Medium basketballs, Sports basketball, Sports basketballs, Round basketball, basketball for Sports, basketballs for Sports, billiard_ball, billiard_balls, Large billiard_ball, Large billiard_balls, Small billiard_ball, Small billiard_balls, Medium billiard_ball, Medium billiard_balls, Sports billiard_ball, Sports billiard_balls, Round billiard_ball, billiard_ball for Sports, billiard_balls for Sports, bowling_ball, bowling_balls, Large bowling_ball, Large bowling_balls, Small bowling_ball, Small bowling_balls, Medium bowling_ball, Medium bowling_balls, Sports bowling_ball, Sports bowling_balls, Round bowling_ball, bowling_ball for Sports, bowling_balls for Sports, cricket_ball, cricket_balls, Large cricket_ball, Large cricket_balls, Small cricket_ball, Small cricket_balls, Medium cricket_ball, Medium cricket_balls, Sports cricket_ball, Sports cricket_balls, Round cricket_ball, cricket_ball for Sports, cricket_balls for Sports, football, footballs, Large football, Large footballs, Small football, Small footballs, Medium football, Medium footballs, Sports football, Sports footballs, Round football, football for Sports, footballs for Sports, golf_ball, golf_balls, Large golf_ball, Large golf_balls, Small golf_ball, Small golf_balls, Medium golf_ball, Medium golf_balls, Sports golf_ball, Sports golf_balls, Round golf_ball, golf_ball for Sports, golf_balls for Sports, hockey_ball, hockey_balls, Large hockey_ball, Large hockey_balls, Small hockey_ball, Small hockey_balls, Medium hockey_ball, Medium hockey_balls, Sports hockey_ball, Sports hockey_balls, Round hockey_ball, hockey_ball for Sports, hockey_balls for Sports, hockey_puck, hockey_pucks, Large hockey_puck, Large hockey_pucks, Small hockey_puck, Small hockey_pucks, Medium hockey_puck, Medium hockey_pucks, Sports hockey_puck, Sports hockey_pucks, Round hockey_puck, hockey_puck for Sports, hockey_pucks for Sports, rugby_ball, rugby_balls, Large rugby_ball, Large rugby_balls, Small rugby_ball, Small rugby_balls, Medium rugby_ball, Medium rugby_balls, Sports rugby_ball, Sports rugby_balls, Round rugby_ball, rugby_ball for Sports, rugby_balls for Sports, shuttlecock, shuttlecocks, Large shuttlecock, Large shuttlecocks, Small shuttlecock, Small shuttlecocks, Medium shuttlecock, Medium shuttlecocks, Sports shuttlecock, Sports shuttlecocks, Round shuttlecock, shuttlecock for Sports, shuttlecocks for Sports, table_tennis_ball, table_tennis_balls, Large table_tennis_ball, Large table_tennis_balls, Small table_tennis_ball, Small table_tennis_balls, Medium table_tennis_ball, Medium table_tennis_balls, Sports table_tennis_ball, Sports table_tennis_balls, Round table_tennis_ball, table_tennis_ball for Sports, table_tennis_balls for Sports, tennis_ball, tennis_balls, Large tennis_ball, Large tennis_balls, Small tennis_ball, Small tennis_balls, Medium tennis_ball, Medium tennis_balls, Sports tennis_ball, Sports tennis_balls, Round tennis_ball, tennis_ball for Sports, tennis_balls for Sports, volleyball, volleyballs, Large volleyball, Large volleyballs, Small volleyball, Small volleyballs, Medium volleyball, Medium volleyballs, Sports volleyball, Sports volleyballs, Round volleyball, volleyball for Sports, volleyballs for Sports\n",
    "\n",
    "# dict_size(s210)\n",
    "print(aOcheck_accuracy(\"WithoutIP/sports15/s210.csv\", s210))\n"
   ]
  },
  {
   "cell_type": "markdown",
   "metadata": {},
   "source": [
    "# Points to Plot"
   ]
  },
  {
   "cell_type": "code",
   "execution_count": 457,
   "metadata": {},
   "outputs": [],
   "source": [
    "# aO_counts = {\n",
    "#     4 : [aObase_accuracy(\"animal4/AO.csv\")],\n",
    "#     8 : [aOcheck_accuracy(\"animal4/AO8.csv\", dict_8)],\n",
    "#     12 : [aOcheck_accuracy(\"animal4/AO12.csv\", dict_12)],\n",
    "#     16 : [aOcheck_accuracy(\"animal4/AO16.csv\", dict_16)],\n",
    "#     20 : [aOcheck_accuracy(\"animal4/AO20.csv\", dict_20)],\n",
    "#     24 : [aOcheck_accuracy(\"animal4/AO24.csv\", dict_24)],\n",
    "#     32 : [aOcheck_accuracy(\"animal4/AO32.csv\", dict_32)],\n",
    "#     36 : [aOcheck_accuracy(\"animal4/AO36.csv\", dict_36)],\n",
    "#     40 : [aOcheck_accuracy(\"animal4/AO40.csv\", dict_40)],\n",
    "#     44 : [aOcheck_accuracy(\"animal4/AO44.csv\", dict_44)],\n",
    "#     48 : [aOcheck_accuracy(\"animal4/AO48.csv\", dict_48)],\n",
    "#     52 : [aOcheck_accuracy(\"animal4/AO52.csv\", dict_52)],\n",
    "#     56 : [aOcheck_accuracy(\"animal4/AO56.csv\", dict_56)],\n",
    "#     60 : [aOcheck_accuracy(\"animal4/AO60.csv\", dict_60)]\n",
    "# }\n",
    "\n",
    "# v7_counts = {\n",
    "#     7 : [96.73],\n",
    "#     14 : [84.45],\n",
    "#     21 : [88.35],  \n",
    "#     42 : [93.47],\n",
    "#     49 : [93.5],\n",
    "#     56 : [95.17],\n",
    "#     63 : [93.74],\n",
    "#     70 : [95.08]\n",
    "# }\n",
    "\n",
    "# cd_counts = {\n",
    "#     2: [CDcheck_accuracy('CatsvsDogs/cd2.csv', CDdict2 )],\n",
    "#     4: [CDcheck_accuracy('CatsvsDogs/cd4.csv', CDdict4)],\n",
    "#     6: [CDcheck_accuracy('CatsvsDogs/cd6.csv', CDdict6)],\n",
    "#     8: [CDcheck_accuracy('CatsvsDogs/cd8.csv', CDdict8)],\n",
    "#     10: [CDcheck_accuracy('CatsvsDogs/cd10.csv', CDdict10)],\n",
    "#     12: [CDcheck_accuracy('CatsvsDogs/cd12.csv', CDdict12)],\n",
    "#     14: [CDcheck_accuracy('CatsvsDogs/cd14.csv', CDdict14)],\n",
    "#     16: [CDcheck_accuracy('CatsvsDogs/cd16.csv', CDdict16)],\n",
    "#     18: [CDcheck_accuracy('CatsvsDogs/cd18.csv', CDdict18)],\n",
    "#     20: [CDcheck_accuracy('CatsvsDogs/cd20.csv', CDdict20)],\n",
    "#     22: [CDcheck_accuracy('CatsvsDogs/cd22.csv', CDdict22)],\n",
    "#     24: [CDcheck_accuracy('CatsvsDogs/cd24.csv', CDdict24)],\n",
    "#     26: [CDcheck_accuracy('CatsvsDogs/cd26.csv', CDdict26)],\n",
    "#     28: [CDcheck_accuracy('CatsvsDogs/cd28.csv', CDdict28)],\n",
    "#     30: [CDcheck_accuracy('CatsvsDogs/cd30.csv', CDdict30)],\n",
    "#     32: [CDcheck_accuracy('CatsvsDogs/cd32.csv', CDdict32)],\n",
    "#     36: [CDcheck_accuracy('CatsvsDogs/cd36.csv', CDdict36)],\n",
    "#     38: [CDcheck_accuracy('CatsvsDogs/cd38.csv', CDdict38)],\n",
    "#     42: [CDcheck_accuracy('CatsvsDogs/cd42.csv', CDdict42)],\n",
    "#     44: [CDcheck_accuracy('CatsvsDogs/cd44.csv', CDdict44)],\n",
    "#     48: [CDcheck_accuracy('CatsvsDogs/cd48.csv', CDdict48)],\n",
    "#     50: [CDcheck_accuracy('CatsvsDogs/cd50.csv', CDdict50)],\n",
    "#     52: [CDcheck_accuracy('CatsvsDogs/cd52.csv', CDdict52)],\n",
    "#     54: [CDcheck_accuracy('CatsvsDogs/cd54.csv', CDdict54)],\n",
    "#     56: [CDcheck_accuracy('CatsvsDogs/cd56.csv', CDdict56)]\n",
    "# }"
   ]
  },
  {
   "cell_type": "code",
   "execution_count": 458,
   "metadata": {},
   "outputs": [
    {
     "name": "stdout",
     "output_type": "stream",
     "text": [
      "\n",
      " Vegetable 15 \n",
      "\n",
      "53.6\n",
      "58.66\n",
      "50.77\n",
      "37.18\n",
      "30.15\n",
      "26.82\n",
      "30.44\n",
      "\n",
      " Animal 80 \n",
      "\n",
      "77.35\n",
      "77.45\n",
      "77.75\n",
      "78.34\n",
      "79.07\n",
      "\n",
      " Food 10 \n",
      "\n",
      "90.09\n",
      "90.96\n",
      "90.75\n",
      "90.81\n",
      "90.75\n",
      "90.78\n",
      "90.8\n",
      "90.84\n",
      "91.71\n",
      "91.91\n"
     ]
    }
   ],
   "source": [
    "print(\"\\n Vegetable 15 \\n\")\n",
    "\n",
    "veg_counts = {\n",
    "    15 : [aOcheck_accuracy(\"WithoutIP/Vegetable15/v15.csv\", veg15)],\n",
    "    30 : [aOcheck_accuracy(\"WithoutIP/Vegetable15/v30.csv\", veg30)],\n",
    "    45 : [aOcheck_accuracy(\"WithoutIP/Vegetable15/v45.csv\", veg45)],\n",
    "    60 : [aOcheck_accuracy(\"WithoutIP/Vegetable15/v60.csv\", veg60)],\n",
    "    75 : [aOcheck_accuracy(\"WithoutIP/Vegetable15/v75.csv\", veg75)],\n",
    "    90 : [aOcheck_accuracy(\"WithoutIP/Vegetable15/v90.csv\", veg90)],\n",
    "    105 : [aOcheck_accuracy(\"WithoutIP/Vegetable15/v105.csv\", veg105)]\n",
    "}\n",
    "\n",
    "# card_counts = {\n",
    "#     4 : card_accuracy(\"Card15/cards4.csv\", cards4),\n",
    "#     8 : card_accuracy(\"Card15/cards8.csv\", cards8),\n",
    "#     12 : card_accuracy(\"Card15/cards12.csv\", cards12),\n",
    "#     16 : card_accuracy(\"Card15/cards16.csv\", cards16),\n",
    "#     20 : card_accuracy(\"Card15/cards20.csv\", cards20),\n",
    "#     24 : card_accuracy(\"Card15/cards24.csv\", cards24),\n",
    "#     28 : card_accuracy(\"Card15/cards28.csv\", cards28),\n",
    "#     32 : card_accuracy(\"Card15/cards32.csv\", cards32),\n",
    "#     36 : card_accuracy(\"Card15/cards36.csv\", cards36),\n",
    "#     40 : card_accuracy(\"Card15/cards40.csv\", cards40),\n",
    "#     44 : card_accuracy(\"Card15/cards44.csv\", cards44),\n",
    "#     48 : card_accuracy(\"Card15/cards48.csv\", cards48)\n",
    "    \n",
    "# }\n",
    "\n",
    "print(\"\\n Animal 80 \\n\")\n",
    "animal80_counts = {\n",
    "    80 : aOcheck_accuracy(\"animal80/a80.csv\", a80),\n",
    "    160 : aOcheck_accuracy(\"animal80/a160.csv\", a160),\n",
    "    240 : aOcheck_accuracy(\"animal80/a240.csv\", a240),\n",
    "    320 : aOcheck_accuracy(\"animal80/a320.csv\", a320),\n",
    "    400 : aOcheck_accuracy(\"animal80/a400.csv\", a400)\n",
    "}\n",
    "\n",
    "print(\"\\n Food 10 \\n\")\n",
    "food10_counts = {10 : [aOcheck_accuracy(\"WithoutIP/food10/f10.csv\", f10)],\n",
    "                 20 : [aOcheck_accuracy(\"WithoutIP/food10/f20.csv\", f20)],\n",
    "                 30 : [aOcheck_accuracy(\"WithoutIP/food10/f30.csv\",f30)],\n",
    "                 40 : [aOcheck_accuracy(\"WithoutIP/food10/f40.csv\",f40)],\n",
    "                 50 : [aOcheck_accuracy(\"WithoutIP/food10/f50.csv\",f50)],\n",
    "                 60 : [aOcheck_accuracy(\"WithoutIP/food10/f60.csv\",f60)],\n",
    "                 70 : [aOcheck_accuracy(\"WithoutIP/food10/f70.csv\",f70)],\n",
    "                 80 : [aOcheck_accuracy(\"WithoutIP/food10/f80.csv\",f80)],\n",
    "                 90 : [aOcheck_accuracy(\"WithoutIP/food10/f90.csv\",f90)],\n",
    "                 100 : [aOcheck_accuracy(\"WithoutIP/food10/f100.csv\",f100)]\n",
    "                 }\n",
    "\n",
    "# print(aOcheck_accuracy(\"food10/f20.csv\", f20))\n"
   ]
  },
  {
   "cell_type": "code",
   "execution_count": 459,
   "metadata": {},
   "outputs": [
    {
     "name": "stdout",
     "output_type": "stream",
     "text": [
      "\n",
      " Vehicle 20 \n",
      "\n",
      "76.56\n",
      "77.15\n",
      "77.53\n",
      "77.61\n",
      "77.8\n",
      "77.86\n",
      "77.89\n",
      "77.89\n",
      "76.15\n",
      "75.98\n",
      "\n",
      " Flowers 10 \n",
      "\n",
      "87.19\n",
      "89.65\n",
      "92.51\n",
      "92.51\n",
      "92.51\n",
      "92.51\n",
      "93.05\n",
      "93.05\n",
      "95.5\n",
      "95.23\n",
      "\n",
      " Fruits 10 \n",
      "\n",
      "82.9\n",
      "82.72\n",
      "82.99\n",
      "83.17\n",
      "83.26\n",
      "83.44\n",
      "83.41\n",
      "83.44\n",
      "83.62\n",
      "83.56\n"
     ]
    }
   ],
   "source": [
    "print(\"\\n Vehicle 20 \\n\")\n",
    "\n",
    "v20_counts = {\n",
    "    20 : [aOcheck_accuracy(\"WithoutIP/vehicle20/v20.csv\", v20)],\n",
    "    40 : [aOcheck_accuracy(\"WithoutIP/vehicle20/v40.csv\", v40)],\n",
    "    60 : [aOcheck_accuracy(\"WithoutIP/vehicle20/v60.csv\", v60)],\n",
    "    80 : [aOcheck_accuracy(\"WithoutIP/vehicle20/v80.csv\", v80)],\n",
    "    100 : [aOcheck_accuracy(\"WithoutIP/vehicle20/v100.csv\", v100)],\n",
    "    120 : [aOcheck_accuracy(\"WithoutIP/vehicle20/v120.csv\", v120)],\n",
    "    140 : [aOcheck_accuracy(\"WithoutIP/vehicle20/v140.csv\", v140)],\n",
    "    160 : [aOcheck_accuracy(\"WithoutIP/vehicle20/v160.csv\", v160)],\n",
    "    180 : [aOcheck_accuracy(\"WithoutIP/vehicle20/v180.csv\", v180)],\n",
    "    200 : [aOcheck_accuracy(\"WithoutIP/vehicle20/v200.csv\", v200)]\n",
    "}\n",
    "\n",
    "print(\"\\n Flowers 10 \\n\")\n",
    "flowers10_counts = {\n",
    "    10 : [flowers_accuracy(\"WithoutIP/flowers10/f10.csv\", fl10)],\n",
    "    20 : [flowers_accuracy(\"WithoutIP/flowers10/f20.csv\", fl20)],\n",
    "    30 : [flowers_accuracy(\"WithoutIP/flowers10/f30.csv\", fl30)],\n",
    "    40 : [flowers_accuracy(\"WithoutIP/flowers10/f40.csv\", fl40)],\n",
    "    50 : [flowers_accuracy(\"WithoutIP/flowers10/f50.csv\", fl50)],\n",
    "    60 : [flowers_accuracy(\"WithoutIP/flowers10/f60.csv\", fl60)],\n",
    "    70 : [flowers_accuracy(\"WithoutIP/flowers10/f70.csv\", fl70)],\n",
    "    80 : [flowers_accuracy(\"WithoutIP/flowers10/f80.csv\", fl80)],\n",
    "    90 : [flowers_accuracy(\"WithoutIP/flowers10/f90.csv\", fl90)],\n",
    "    100 : [flowers_accuracy(\"WithoutIP/flowers10/f100.csv\", fl100)]\n",
    "}\n",
    "\n",
    "print(\"\\n Fruits 10 \\n\")\n",
    "fruits10_counts = {\n",
    "    10: [aOcheck_accuracy(\"WithoutIP/fruits10/fr10.csv\", fr10)],\n",
    "    20: [aOcheck_accuracy(\"WithoutIP/fruits10/fr20.csv\", fr20)],\n",
    "    30: [aOcheck_accuracy(\"WithoutIP/fruits10/fr30.csv\", fr30)],\n",
    "    40: [aOcheck_accuracy(\"WithoutIP/fruits10/fr40.csv\", fr40)],\n",
    "    50: [aOcheck_accuracy(\"WithoutIP/fruits10/fr50.csv\", fr50)],\n",
    "    60: [aOcheck_accuracy(\"WithoutIP/fruits10/fr60.csv\", fr60)],\n",
    "    70: [aOcheck_accuracy(\"WithoutIP/fruits10/fr70.csv\", fr70)],\n",
    "    80: [aOcheck_accuracy(\"WithoutIP/fruits10/fr80.csv\", fr80)],\n",
    "    90: [aOcheck_accuracy(\"WithoutIP/fruits10/fr90.csv\", fr90)],\n",
    "    100: [aOcheck_accuracy(\"WithoutIP/fruits10/fr100.csv\", fr100)]\n",
    "}"
   ]
  },
  {
   "cell_type": "code",
   "execution_count": 460,
   "metadata": {},
   "outputs": [
    {
     "name": "stdout",
     "output_type": "stream",
     "text": [
      "\n",
      " Food 34 \n",
      "\n",
      "86.55\n",
      "86.55\n",
      "86.55\n",
      "86.55\n",
      "86.55\n",
      "86.55\n",
      "\n",
      " Weather 11 \n",
      "\n",
      "66.71\n",
      "64.55\n",
      "71.94\n",
      "71.7\n",
      "71.98\n",
      "71.99\n",
      "72.01\n",
      "\n",
      " Sports 15 \n",
      "\n",
      "67.98\n",
      "70.88\n",
      "71.71\n",
      "72.48\n",
      "72.69\n",
      "72.68\n",
      "72.76\n"
     ]
    }
   ],
   "source": [
    "print(\"\\n Food 34 \\n\")\n",
    "food34_counts = {\n",
    "    34 : aOcheck_accuracy(\"WithoutIP/food34/f34.csv\", f34),\n",
    "    68 : aOcheck_accuracy(\"WithoutIP/food34/f68.csv\", f68),\n",
    "    102 : aOcheck_accuracy(\"WithoutIP/food34/f102.csv\", f102),\n",
    "    136 : aOcheck_accuracy(\"WithoutIP/food34/f136.csv\", f136),\n",
    "    170 : aOcheck_accuracy(\"WithoutIP/food34/f170.csv\", f170),\n",
    "    204 : aOcheck_accuracy(\"WithoutIP/food34/f204.csv\", f204)\n",
    "}\n",
    "\n",
    "print(\"\\n Weather 11 \\n\")\n",
    "weather11_counts = {\n",
    "    11 : aOcheck_accuracy(\"WithoutIP/weather11/w11.csv\", w11),\n",
    "    22 : aOcheck_accuracy(\"WithoutIP/weather11/w22.csv\", w22),\n",
    "    33 : aOcheck_accuracy(\"WithoutIP/weather11/w33.csv\", w33),\n",
    "    44 : aOcheck_accuracy(\"WithoutIP/weather11/w44.csv\", w44),\n",
    "    55 : aOcheck_accuracy(\"WithoutIP/weather11/w55.csv\", w55),\n",
    "    66 : aOcheck_accuracy(\"WithoutIP/weather11/w66.csv\", w66),\n",
    "    77 : aOcheck_accuracy(\"WithoutIP/weather11/w77.csv\", w77)\n",
    "}\n",
    "\n",
    "print(\"\\n Sports 15 \\n\")\n",
    "sports15_counts = {\n",
    "    15 : aOcheck_accuracy(\"WithoutIP/sports15/s15.csv\", s15),\n",
    "    30 : aOcheck_accuracy(\"WithoutIP/sports15/s30.csv\", s30),\n",
    "    45 : aOcheck_accuracy(\"WithoutIP/sports15/s45.csv\", s45),\n",
    "    60 : aOcheck_accuracy(\"WithoutIP/sports15/s60.csv\", s60),\n",
    "    75 : aOcheck_accuracy(\"WithoutIP/sports15/s75.csv\", s75),\n",
    "    90 : aOcheck_accuracy(\"WithoutIP/sports15/s90.csv\", s90),\n",
    "    105 : aOcheck_accuracy(\"WithoutIP/sports15/s105.csv\", s105)\n",
    "}"
   ]
  },
  {
   "cell_type": "markdown",
   "metadata": {},
   "source": [
    "# Graphing"
   ]
  },
  {
   "cell_type": "code",
   "execution_count": 461,
   "metadata": {},
   "outputs": [],
   "source": [
    "def append_accuracies(category_counts, label, color, marker):\n",
    "    amount_categories = []\n",
    "    accuracies = []\n",
    "\n",
    "    # Calculate accuracy for each category count\n",
    "    for count, accuracy in category_counts.items():\n",
    "        if isinstance(accuracy, list):\n",
    "            for each in accuracy:\n",
    "                amount_categories.append(count)\n",
    "                accuracies.append(each)\n",
    "        else:\n",
    "            amount_categories.append(count)\n",
    "            accuracies.append(accuracy)\n",
    "\n",
    "    # Debug print\n",
    "    print(len(amount_categories), len(accuracies))\n",
    "    \n",
    "    # Plot data with the specified label and color\n",
    "    plt.plot(amount_categories, accuracies, marker=marker, linestyle='None', color=color, label=label)\n"
   ]
  },
  {
   "cell_type": "markdown",
   "metadata": {},
   "source": [
    "## Graphs < 10"
   ]
  },
  {
   "cell_type": "code",
   "execution_count": 462,
   "metadata": {},
   "outputs": [],
   "source": [
    "# plt.figure(figsize=(10, 6))\n",
    "# plt.xlabel('Number of Categories')\n",
    "# plt.ylabel('Accuracy (%)')\n",
    "# plt.title('Accuracy vs. Number of Categories')\n",
    "# plt.grid()\n",
    "# plt.legend()\n",
    "\n",
    "# #Calling function\n",
    "# append_accuracies(aO_counts,\"Animals4\", \"blue\", \"o\")\n",
    "# append_accuracies(v7_counts,\"Vehicles7\", \"green\", \"^\")\n",
    "# append_accuracies(cd_counts,\"Cats vs Dogs\", \"red\", \"s\")\n",
    "# append_accuracies(card_counts,\"Cards4\", \"orange\", \"P\")\n",
    "\n",
    "\n",
    "# a4_patch = mpatches.Patch(color='blue', label='4 Animals')\n",
    "# v7_patch = mpatches.Patch(color='green', label='7 Vehicles')\n",
    "# cd_patch = mpatches.Patch(color='red', label='Cats vs Dogs')\n",
    "# card_patch = mpatches.Patch(color='orange', label='4 Suits of Cards')\n",
    "\n",
    "\n",
    "\n",
    "# plt.legend(handles=[a4_patch, v7_patch, cd_patch, card_patch])\n",
    "\n",
    "# #Axis ranges\n",
    "\n",
    "# # plt.xlim(0, 80)  \n",
    "# # plt.ylim(0, 100)\n",
    "\n",
    "# plt.show()"
   ]
  },
  {
   "cell_type": "markdown",
   "metadata": {},
   "source": [
    "## Initial Categories >= 10"
   ]
  },
  {
   "cell_type": "code",
   "execution_count": 463,
   "metadata": {},
   "outputs": [
    {
     "name": "stdout",
     "output_type": "stream",
     "text": [
      "7 7\n",
      "5 5\n",
      "10 10\n",
      "10 10\n",
      "10 10\n",
      "10 10\n",
      "6 6\n",
      "7 7\n",
      "7 7\n"
     ]
    },
    {
     "name": "stderr",
     "output_type": "stream",
     "text": [
      "C:\\Users\\antho\\AppData\\Local\\Temp\\ipykernel_25776\\1229026745.py:6: UserWarning: No artists with labels found to put in legend.  Note that artists whose label start with an underscore are ignored when legend() is called with no argument.\n",
      "  plt.legend()\n"
     ]
    },
    {
     "data": {
      "image/png": "[encoded data removed]",
      "text/plain": [
       "<Figure size 1000x600 with 1 Axes>"
      ]
     },
     "metadata": {},
     "output_type": "display_data"
    }
   ],
   "source": [
    "plt.figure(figsize=(10, 6))\n",
    "plt.xlabel('Number of Categories')\n",
    "plt.ylabel('Accuracy (%)')\n",
    "plt.title('Accuracy vs. Number of Categories')\n",
    "plt.grid()\n",
    "plt.legend()\n",
    "\n",
    "#Calling function\n",
    "append_accuracies(veg_counts,\"Vegetables15\", \"green\", \"D\")\n",
    "append_accuracies(animal80_counts,\"Animal80\", \"black\", \"X\")\n",
    "append_accuracies(food10_counts, \"food10\", \"blue\", \"*\" )\n",
    "append_accuracies(v20_counts,\"Vehicle20\", \"red\", \"^\")\n",
    "append_accuracies(flowers10_counts, \"flowers10\", \"purple\", \"P\")\n",
    "append_accuracies(fruits10_counts, \"fruits10\", \"orange\", \"o\")\n",
    "append_accuracies(food34_counts, \"food34\", \"yellow\", \"s\")\n",
    "append_accuracies(weather11_counts, \"weather11\", \"pink\", \"x\")\n",
    "append_accuracies(sports15_counts, \"sports15\", \"cyan\", \"D\")\n",
    "\n",
    "\n",
    "veg_patch = mpatches.Patch(color='green', label='15 Vegetables')\n",
    "a80_patch = mpatches.Patch(color='black', label='80 Animals')\n",
    "f10_patch = mpatches.Patch(color = 'blue', label='10 Foods')\n",
    "v20_patch = mpatches.Patch(color = 'red', label='20 Vehicles')\n",
    "fl10_patch = mpatches.Patch(color = 'purple', label='10 Flowers')\n",
    "fruits10_patch = mpatches.Patch(color = 'orange', label='10 Fruits')\n",
    "food34_patch = mpatches.Patch(color = 'yellow', label='34 Foods')\n",
    "weather11_patch = mpatches.Patch(color = 'pink', label='11 Weather')\n",
    "sports15_patch = mpatches.Patch(color = 'cyan', label='15 Sports')\n",
    "\n",
    "plt.legend(handles=[veg_patch, a80_patch, f10_patch, v20_patch, fl10_patch, \n",
    "                    fruits10_patch, food34_patch, weather11_patch, sports15_patch])\n",
    "\n",
    "#Axis ranges\n",
    "\n",
    "# plt.xlim(0, 80)  \n",
    "# plt.ylim(0, 100)\n",
    "\n",
    "plt.show()"
   ]
  }
 ],
 "metadata": {
  "kernelspec": {
   "display_name": "NBAML",
   "language": "python",
   "name": "python3"
  },
  "language_info": {
   "codemirror_mode": {
    "name": "ipython",
    "version": 3
   },
   "file_extension": ".py",
   "mimetype": "text/x-python",
   "name": "python",
   "nbconvert_exporter": "python",
   "pygments_lexer": "ipython3",
   "version": "3.10.13"
  }
 },
 "nbformat": 4,
 "nbformat_minor": 2
}
