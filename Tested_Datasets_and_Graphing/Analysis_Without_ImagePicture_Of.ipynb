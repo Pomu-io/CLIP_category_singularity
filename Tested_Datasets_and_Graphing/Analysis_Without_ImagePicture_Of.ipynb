{
 "cells": [
  {
   "cell_type": "code",
   "execution_count": 2,
   "metadata": {},
   "outputs": [],
   "source": [
    "# !pip install pandas\n",
    "# !pip install matplotlib"
   ]
  },
  {
   "cell_type": "code",
   "execution_count": 3,
   "metadata": {},
   "outputs": [],
   "source": [
    "import pandas as pd\n",
    "import matplotlib.pyplot as plt\n",
    "import matplotlib.patches as mpatches"
   ]
  },
  {
   "cell_type": "code",
   "execution_count": 4,
   "metadata": {},
   "outputs": [],
   "source": [
    "def dict_size(dict):\n",
    "    total_count = sum(len(values) for values in dict.values())\n",
    "    print(total_count)"
   ]
  },
  {
   "cell_type": "markdown",
   "metadata": {},
   "source": [
    "# Accuracy Functions"
   ]
  },
  {
   "cell_type": "code",
   "execution_count": 5,
   "metadata": {},
   "outputs": [],
   "source": [
    "def CDcheck_accuracy(csv_path, dictionary):\n",
    "\n",
    "    normalized_dict = {key.lower(): [value.lower() for value in values] for key, values in dictionary.items()}\n",
    "\n",
    "    # Create a reverse lookup dictionary\n",
    "    reverse_dict = {}\n",
    "    for key, values in normalized_dict.items():\n",
    "        for value in values:\n",
    "            reverse_dict[value] = key  # Map all variations to the primary key\n",
    "\n",
    "    data = pd.read_csv(csv_path, header=None, names=['file_path', 'label'])\n",
    "\n",
    "    data['label'] = data['label'].str.strip().str.lower()\n",
    "\n",
    "    count = 0\n",
    "    total = 0\n",
    "\n",
    "    for index, row in data.iterrows():\n",
    "\n",
    "        path_parts = row['file_path'].split('/')\n",
    "        if len(path_parts) > 2:\n",
    "            if any(char.isupper() for char in path_parts[-1]):\n",
    "                name = 'cat'\n",
    "            else:\n",
    "                name = 'dog'\n",
    "\n",
    "            # Find the primary key for the label using the reverse lookup dictionary\n",
    "            primary_key = reverse_dict.get(row['label'], None)\n",
    "\n",
    "            if primary_key and name in normalized_dict[primary_key]:\n",
    "                count += 1\n",
    "        total += 1\n",
    "\n",
    "    accuracy = count / total if total > 0 else 0\n",
    "    return round(accuracy * 100, 2)"
   ]
  },
  {
   "cell_type": "code",
   "execution_count": 6,
   "metadata": {},
   "outputs": [],
   "source": [
    "def aObase_accuracy(csv_path):\n",
    "\n",
    "    data = pd.read_csv(csv_path, header=None, names=['file_path', 'label'])\n",
    "\n",
    "    # Strip and convert labels to lowercase\n",
    "    data['label'] = data['label'].str.strip().str.lower()\n",
    "\n",
    "    count = 0\n",
    "    total = 0\n",
    "\n",
    "    for index, row in data.iterrows():\n",
    "\n",
    "        path_parts = row['file_path'].split('/')\n",
    "        if len(path_parts) > 2:\n",
    "            vehicle_name = path_parts[-2].strip().lower()  \n",
    "\n",
    "            # Check if the label and vehicle name match in the dictionary\n",
    "            if row['label'] == vehicle_name:\n",
    "                count += 1\n",
    "        total += 1\n",
    "\n",
    "    accuracy = count / total if total > 0 else 0\n",
    "    return round(accuracy * 100, 2)"
   ]
  },
  {
   "cell_type": "code",
   "execution_count": 7,
   "metadata": {},
   "outputs": [],
   "source": [
    "def card_accuracy(csv_path, acc_dict):\n",
    "    data = pd.read_csv(csv_path, header=None, names=['file_path', 'label'])\n",
    "\n",
    "    # Normalize labels\n",
    "    data['label'] = data['label'].str.strip().str.lower()\n",
    "\n",
    "    # Normalize the dictionary keys and values\n",
    "    normalized_dict = {key.lower(): [v.lower() for v in values] for key, values in acc_dict.items()}\n",
    "\n",
    "    count = 0\n",
    "    total = 0\n",
    "\n",
    "    for index, row in data.iterrows():\n",
    "        path_parts = row['file_path'].split('/')\n",
    "\n",
    "        if len(path_parts) > 2:\n",
    "            vehicle_key = path_parts[-2].strip().lower()  # Extract key from [-2]\n",
    "            label = row['label']\n",
    "\n",
    "            # Find a matching key in the dictionary\n",
    "            matched_key = next((key for key in normalized_dict if key in vehicle_key), None)\n",
    "\n",
    "            if matched_key:\n",
    "                # Check if the label matches any of the values for the matched key\n",
    "                if any(value in label for value in normalized_dict[matched_key]):\n",
    "                    count += 1\n",
    "        total += 1\n",
    "\n",
    "    accuracy = count / total if total > 0 else 0\n",
    "    return round(accuracy * 100, 2)\n"
   ]
  },
  {
   "cell_type": "code",
   "execution_count": 8,
   "metadata": {},
   "outputs": [],
   "source": [
    "def aOcheck_accuracy(csv_path, dictionary):\n",
    "\n",
    "    normalized_dict = {key.lower(): [value.lower() for value in values] for key, values in dictionary.items()}\n",
    "\n",
    "    # Create a reverse lookup dictionary\n",
    "    reverse_dict = {}\n",
    "    for key, values in normalized_dict.items():\n",
    "        for value in values:\n",
    "            reverse_dict[value] = key  # Map all variations to the primary key\n",
    "\n",
    "    data = pd.read_csv(csv_path, header=None, names=['file_path', 'label'])\n",
    "\n",
    "    data['label'] = data['label'].str.strip().str.lower()\n",
    "\n",
    "    count = 0\n",
    "    total = 0\n",
    "\n",
    "    for index, row in data.iterrows():\n",
    "\n",
    "        path_parts = row['file_path'].split('/')\n",
    "        if len(path_parts) > 2:\n",
    "            name = path_parts[-2].strip().lower()  # Normalize name\n",
    "\n",
    "            # Find the primary key for the label using the reverse lookup dictionary\n",
    "            primary_key = reverse_dict.get(row['label'], None)\n",
    "\n",
    "            if primary_key and name in normalized_dict[primary_key]:\n",
    "                count += 1\n",
    "        total += 1\n",
    "\n",
    "    accuracy = count / total if total > 0 else 0\n",
    "\n",
    "    print(round(accuracy * 100, 2))\n",
    "    return round(accuracy * 100, 2)"
   ]
  },
  {
   "cell_type": "code",
   "execution_count": 9,
   "metadata": {},
   "outputs": [],
   "source": [
    "def flowers_accuracy(csv_path, flowers_dict):\n",
    "    # Reverse the dictionary to have flower names as keys\n",
    "    reversed_dict = {}\n",
    "    for key, values in flowers_dict.items():\n",
    "        for value in values:\n",
    "            reversed_dict[value.strip().lower()] = key  # Ensure the key is normalized\n",
    "\n",
    "    # Read the CSV file (pandas is used for ease of handling CSV data)\n",
    "    data = pd.read_csv(csv_path, header=None, names=['file_path', 'label'])\n",
    "\n",
    "    # Clean the labels to be lowercase and strip any whitespace\n",
    "    data['label'] = data['label'].str.strip().str.lower()\n",
    "\n",
    "    count = 0\n",
    "    total = 0\n",
    "\n",
    "    # Loop through each row in the data\n",
    "    for index, row in data.iterrows():\n",
    "        # Extract the flower name from the file path\n",
    "        path_parts = row['file_path'].split('/')\n",
    "        if len(path_parts) > 2:\n",
    "            name = path_parts[-1][:-10].strip().lower()  # Normalize name\n",
    "\n",
    "\n",
    "            # Find the primary key for the label using the reverse lookup dictionary\n",
    "            primary_key = reversed_dict.get(row['label'], None)\n",
    "\n",
    "            if primary_key and name == primary_key:  # Check if the normalized names match\n",
    "                count += 1\n",
    "            \n",
    "        total += 1\n",
    "\n",
    "    accuracy = count / total if total > 0 else 0\n",
    "\n",
    "    print(round(accuracy * 100, 2))\n",
    "    return round(accuracy * 100, 2)\n"
   ]
  },
  {
   "cell_type": "markdown",
   "metadata": {},
   "source": [
    "# Dictionaries"
   ]
  },
  {
   "cell_type": "markdown",
   "metadata": {},
   "source": [
    "## Animal 80"
   ]
  },
  {
   "cell_type": "code",
   "execution_count": 10,
   "metadata": {},
   "outputs": [],
   "source": [
    "a80 = {\n",
    "    \"Bear\": [\"Bear\"],\n",
    "    \"Brown Bear\": [\"Brown Bear\"],\n",
    "    \"Bull\": [\"Bull\"],\n",
    "    \"Butterfly\": [\"Butterfly\"],\n",
    "    \"Camel\": [\"Camel\"],\n",
    "    \"Canary\": [\"Canary\"],\n",
    "    \"Caterpillar\": [\"Caterpillar\"],\n",
    "    \"Cattle\": [\"Cattle\"],\n",
    "    \"Centipede\": [\"Centipede\"],\n",
    "    \"Cheetah\": [\"Cheetah\"],\n",
    "    \"Chicken\": [\"Chicken\"],\n",
    "    \"Crab\": [\"Crab\"],\n",
    "    \"Crocodile\": [\"Crocodile\"],\n",
    "    \"Deer\": [\"Deer\"],\n",
    "    \"Duck\": [\"Duck\"],\n",
    "    \"Eagle\": [\"Eagle\"],\n",
    "    \"Elephant\": [\"Elephant\"],\n",
    "    \"Fish\": [\"Fish\"],\n",
    "    \"Fox\": [\"Fox\"],\n",
    "    \"Frog\": [\"Frog\"],\n",
    "    \"Giraffe\": [\"Giraffe\"],\n",
    "    \"Goat\": [\"Goat\"],\n",
    "    \"Goldfish\": [\"Goldfish\"],\n",
    "    \"Goose\": [\"Goose\"],\n",
    "    \"Hamster\": [\"Hamster\"],\n",
    "    \"Harbor Seal\": [\"Harbor Seal\"],\n",
    "    \"Hedgehog\": [\"Hedgehog\"],\n",
    "    \"Hippopotamus\": [\"Hippopotamus\"],\n",
    "    \"Horse\": [\"Horse\"],\n",
    "    \"Jaguar\": [\"Jaguar\"],\n",
    "    \"Jellyfish\": [\"Jellyfish\"],\n",
    "    \"Kangaroo\": [\"Kangaroo\"],\n",
    "    \"Koala\": [\"Koala\"],\n",
    "    \"Ladybug\": [\"Ladybug\"],\n",
    "    \"Leopard\": [\"Leopard\"],\n",
    "    \"Lion\": [\"Lion\"],\n",
    "    \"Lizard\": [\"Lizard\"],\n",
    "    \"Lynx\": [\"Lynx\"],\n",
    "    \"Magpie\": [\"Magpie\"],\n",
    "    \"Monkey\": [\"Monkey\"],\n",
    "    \"Moths and butterflies\": [\"Moths and butterflies\"],\n",
    "    \"Mouse\": [\"Mouse\"],\n",
    "    \"Mule\": [\"Mule\"],\n",
    "    \"Ostrich\": [\"Ostrich\"],\n",
    "    \"Otter\": [\"Otter\"],\n",
    "    \"Owl\": [\"Owl\"],\n",
    "    \"Panda\": [\"Panda\"],\n",
    "    \"Parrot\": [\"Parrot\"],\n",
    "    \"Penguin\": [\"Penguin\"],\n",
    "    \"Pig\": [\"Pig\"],\n",
    "    \"Polar Bear\": [\"Polar Bear\"],\n",
    "    \"Rabbit\": [\"Rabbit\"],\n",
    "    \"Raccoon\": [\"Raccoon\"],\n",
    "    \"Raven\": [\"Raven\"],\n",
    "    \"Red panda\": [\"Red panda\"],\n",
    "    \"Rhinoceros\": [\"Rhinoceros\"],\n",
    "    \"Scorpion\": [\"Scorpion\"],\n",
    "    \"Seahorse\": [\"Seahorse\"],\n",
    "    \"Sea Lion\": [\"Sea Lion\"],\n",
    "    \"Sea Turtle\": [\"Sea Turtle\"],\n",
    "    \"Shark\": [\"Shark\"],\n",
    "    \"Sheep\": [\"Sheep\"],\n",
    "    \"Shrimp\": [\"Shrimp\"],\n",
    "    \"Snail\": [\"Snail\"],\n",
    "    \"Snake\": [\"Snake\"],\n",
    "    \"Sparrow\": [\"Sparrow\"],\n",
    "    \"Spider\": [\"Spider\"],\n",
    "    \"Squid\": [\"Squid\"],\n",
    "    \"Squirrel\": [\"Squirrel\"],\n",
    "    \"Starfish\": [\"Starfish\"],\n",
    "    \"Swan\": [\"Swan\"],\n",
    "    \"Tick\": [\"Tick\"],\n",
    "    \"Tiger\": [\"Tiger\"],\n",
    "    \"Tortoise\": [\"Tortoise\"],\n",
    "    \"Turkey\": [\"Turkey\"],\n",
    "    \"Turtle\": [\"Turtle\"],\n",
    "    \"Whale\": [\"Whale\"],\n",
    "    \"Woodpecker\": [\"Woodpecker\"],\n",
    "    \"Worm\": [\"Worm\"],\n",
    "    \"Zebra\": [\"Zebra\"]\n",
    "}\n",
    "\n",
    "\n",
    "# Bear, Brown Bear, Bull, Butterfly, Camel, Canary, Caterpillar, Cattle, Centipede, Cheetah, Chicken, Crab, Crocodile, Deer, Duck, Eagle, Elephant, Fish, Fox, Frog, Giraffe, Goat, Goldfish, Goose, Hamster, Harbor Seal, Hedgehog, Hippopotamus, Horse, Jaguar, Jellyfish, Kangaroo, Koala, Ladybug, Leopard, Lion, Lizard, Lynx, Magpie, Monkey, Moths and butterflies, Mouse, Mule, Ostrich, Otter, Owl, Panda, Parrot, Penguin, Pig, Polar Bear, Rabbit, Raccoon, Raven, Red panda, Rhinoceros, Scorpion, Seahorse, Sea Lion, Sea Turtle, Shark, Sheep, Shrimp, Snail, Snake, Sparrow, Spider, Squid, Squirrel, Starfish, Swan, Tick, Tiger, Tortoise, Turkey, Turtle, Whale, Woodpecker, Worm, Zebra\n",
    "\n",
    "\n",
    "\n",
    "# dict_size(a80)\n",
    "print(aOcheck_accuracy('animal80/a80.csv', a80))"
   ]
  },
  {
   "cell_type": "code",
   "execution_count": 141,
   "metadata": {},
   "outputs": [
    {
     "name": "stdout",
     "output_type": "stream",
     "text": [
      "4.21\n",
      "4.21\n"
     ]
    }
   ],
   "source": [
    "a160 = {\n",
    "    \"Bear\": [\"Bear\", \"Bears\"],\n",
    "    \"Brown Bear\": [\"Brown Bear\", \"Brown Bears\"],\n",
    "    \"Bull\": [\"Bull\", \"Bulls\"],\n",
    "    \"Butterfly\": [\"Butterfly\", \"Butterflies\"],\n",
    "    \"Camel\": [\"Camel\", \"Camels\"],\n",
    "    \"Canary\": [\"Canary\", \"Canaries\"],\n",
    "    \"Caterpillar\": [\"Caterpillar\", \"Caterpillars\"],\n",
    "    \"Cattle\": [\"Cattle\", \"Cattle\"],\n",
    "    \"Centipede\": [\"Centipede\", \"Centipedes\"],\n",
    "    \"Cheetah\": [\"Cheetah\", \"Cheetahs\"],\n",
    "    \"Chicken\": [\"Chicken\", \"Chickens\"],\n",
    "    \"Crab\": [\"Crab\", \"Crabs\"],\n",
    "    \"Crocodile\": [\"Crocodile\", \"Crocodiles\"],\n",
    "    \"Deer\": [\"Deer\", \"Deer\"],\n",
    "    \"Duck\": [\"Duck\", \"Ducks\"],\n",
    "    \"Eagle\": [\"Eagle\", \"Eagles\"],\n",
    "    \"Elephant\": [\"Elephant\", \"Elephants\"],\n",
    "    \"Fish\": [\"Fish\", \"Fish\"],\n",
    "    \"Fox\": [\"Fox\", \"Foxes\"],\n",
    "    \"Frog\": [\"Frog\", \"Frogs\"],\n",
    "    \"Giraffe\": [\"Giraffe\", \"Giraffes\"],\n",
    "    \"Goat\": [\"Goat\", \"Goats\"],\n",
    "    \"Goldfish\": [\"Goldfish\", \"Goldfish\"],\n",
    "    \"Goose\": [\"Goose\", \"Geese\"],\n",
    "    \"Hamster\": [\"Hamster\", \"Hamsters\"],\n",
    "    \"Harbor Seal\": [\"Harbor Seal\", \"Harbor Seals\"],\n",
    "    \"Hedgehog\": [\"Hedgehog\", \"Hedgehogs\"],\n",
    "    \"Hippopotamus\": [\"Hippopotamus\", \"Hippopotamuses\"],\n",
    "    \"Horse\": [\"Horse\", \"Horses\"],\n",
    "    \"Jaguar\": [\"Jaguar\", \"Jaguars\"],\n",
    "    \"Jellyfish\": [\"Jellyfish\", \"Jellyfish\"],\n",
    "    \"Kangaroo\": [\"Kangaroo\", \"Kangaroos\"],\n",
    "    \"Koala\": [\"Koala\", \"Koalas\"],\n",
    "    \"Ladybug\": [\"Ladybug\", \"Ladybugs\"],\n",
    "    \"Leopard\": [\"Leopard\", \"Leopards\"],\n",
    "    \"Lion\": [\"Lion\", \"Lions\"],\n",
    "    \"Lizard\": [\"Lizard\", \"Lizards\"],\n",
    "    \"Lynx\": [\"Lynx\", \"Lynxes\"],\n",
    "    \"Magpie\": [\"Magpie\", \"Magpies\"],\n",
    "    \"Monkey\": [\"Monkey\", \"Monkeys\"],\n",
    "    \"Moths and butterflies\": [\"Moths and butterflies\", \"Moths and butterflies\"],\n",
    "    \"Mouse\": [\"Mouse\", \"Mice\"],\n",
    "    \"Mule\": [\"Mule\", \"Mules\"],\n",
    "    \"Ostrich\": [\"Ostrich\", \"Ostriches\"],\n",
    "    \"Otter\": [\"Otter\", \"Otters\"],\n",
    "    \"Owl\": [\"Owl\", \"Owls\"],\n",
    "    \"Panda\": [\"Panda\", \"Pandas\"],\n",
    "    \"Parrot\": [\"Parrot\", \"Parrots\"],\n",
    "    \"Penguin\": [\"Penguin\", \"Penguins\"],\n",
    "    \"Pig\": [\"Pig\", \"Pigs\"],\n",
    "    \"Polar Bear\": [\"Polar Bear\", \"Polar Bears\"],\n",
    "    \"Rabbit\": [\"Rabbit\", \"Rabbits\"],\n",
    "    \"Raccoon\": [\"Raccoon\", \"Raccoons\"],\n",
    "    \"Raven\": [\"Raven\", \"Ravens\"],\n",
    "    \"Red panda\": [\"Red panda\", \"Red pandas\"],\n",
    "    \"Rhinoceros\": [\"Rhinoceros\", \"Rhinoceroses\"],\n",
    "    \"Scorpion\": [\"Scorpion\", \"Scorpions\"],\n",
    "    \"Seahorse\": [\"Seahorse\", \"Seahorses\"],\n",
    "    \"Sea Lion\": [\"Sea Lion\", \"Sea Lions\"],\n",
    "    \"Sea Turtle\": [\"Sea Turtle\", \"Sea Turtles\"],\n",
    "    \"Shark\": [\"Shark\", \"Sharks\"],\n",
    "    \"Sheep\": [\"Sheep\", \"Sheep\"],\n",
    "    \"Shrimp\": [\"Shrimp\", \"Shrimp\"],\n",
    "    \"Snail\": [\"Snail\", \"Snails\"],\n",
    "    \"Snake\": [\"Snake\", \"Snakes\"],\n",
    "    \"Sparrow\": [\"Sparrow\", \"Sparrows\"],\n",
    "    \"Spider\": [\"Spider\", \"Spiders\"],\n",
    "    \"Squid\": [\"Squid\", \"Squids\"],\n",
    "    \"Squirrel\": [\"Squirrel\", \"Squirrels\"],\n",
    "    \"Starfish\": [\"Starfish\", \"Starfish\"],\n",
    "    \"Swan\": [\"Swan\", \"Swans\"],\n",
    "    \"Tick\": [\"Tick\", \"Ticks\"],\n",
    "    \"Tiger\": [\"Tiger\", \"Tigers\"],\n",
    "    \"Tortoise\": [\"Tortoise\", \"Tortoises\"],\n",
    "    \"Turkey\": [\"Turkey\", \"Turkeys\"],\n",
    "    \"Turtle\": [\"Turtle\", \"Turtles\"],\n",
    "    \"Whale\": [\"Whale\", \"Whales\"],\n",
    "    \"Woodpecker\": [\"Woodpecker\", \"Woodpeckers\"],\n",
    "    \"Worm\": [\"Worm\", \"Worms\"],\n",
    "    \"Zebra\": [\"Zebra\", \"Zebras\"]\n",
    "}\n",
    "\n",
    "# Bear, Bears, Brown Bear, Brown Bears, Bull, Bulls, Butterfly, Butterflies, Camel, Camels, Canary, Canaries, Caterpillar, Caterpillars, Cattle, Cattle, Centipede, Centipedes, Cheetah, Cheetahs, Chicken, Chickens, Crab, Crabs, Crocodile, Crocodiles, Deer, Deer, Duck, Ducks, Eagle, Eagles, Elephant, Elephants, Fish, Fish, Fox, Foxes, Frog, Frogs, Giraffe, Giraffes, Goat, Goats, Goldfish, Goldfish, Goose, Geese, Hamster, Hamsters, Harbor Seal, Harbor Seals, Hedgehog, Hedgehogs, Hippopotamus, Hippopotamuses, Horse, Horses, Jaguar, Jaguars, Jellyfish, Jellyfish, Kangaroo, Kangaroos, Koala, Koalas, Ladybug, Ladybugs, Leopard, Leopards, Lion, Lions, Lizard, Lizards, Lynx, Lynxes, Magpie, Magpies, Monkey, Monkeys, Moths and butterflies, Moths and butterflies, Mouse, Mice, Mule, Mules, Ostrich, Ostriches, Otter, Otters, Owl, Owls, Panda, Pandas, Parrot, Parrots, Penguin, Penguins, Pig, Pigs, Polar Bear, Polar Bears, Rabbit, Rabbits, Raccoon, Raccoons, Raven, Ravens, Red panda, Red pandas, Rhinoceros, Rhinoceroses, Scorpion, Scorpions, Seahorse, Seahorses, Sea Lion, Sea Lions, Sea Turtle, Sea Turtles, Shark, Sharks, Sheep, Sheep, Shrimp, Shrimp, Snail, Snails, Snake, Snakes, Sparrow, Sparrows, Spider, Spiders, Squid, Squids, Squirrel, Squirrels, Starfish, Starfish, Swan, Swans, Tick, Ticks, Tiger, Tigers, Tortoise, Tortoises, Turkey, Turkeys, Turtle, Turtles, Whale, Whales, Woodpecker, Woodpeckers, Worm, Worms, Zebra, Zebras\n",
    "\n",
    "# dict_size(a160)\n",
    "print(aOcheck_accuracy('animal80/a160.csv', a160))"
   ]
  },
  {
   "cell_type": "code",
   "execution_count": null,
   "metadata": {},
   "outputs": [
    {
     "name": "stdout",
     "output_type": "stream",
     "text": [
      "240\n",
      "2.95\n",
      "2.95\n"
     ]
    }
   ],
   "source": [
    "a240 = {\n",
    "    \"Bear\": [\"Bear\", \"Bears\", \"Large Bear\"],\n",
    "    \"Brown Bear\": [\"Brown Bear\", \"Brown Bears\", \"Large Brown Bear\"],\n",
    "    \"Bull\": [\"Bull\", \"Bulls\", \"Large Bull\"],\n",
    "    \"Butterfly\": [\"Butterfly\", \"Butterflies\", \"Large Butterfly\"],\n",
    "    \"Camel\": [\"Camel\", \"Camels\", \"Large Camel\"],\n",
    "    \"Canary\": [\"Canary\", \"Canaries\", \"Large Canary\"],\n",
    "    \"Caterpillar\": [\"Caterpillar\", \"Caterpillars\", \"Large Caterpillar\"],\n",
    "    \"Cattle\": [\"Cattle\", \"Cattle\", \"Large Cattle\"],\n",
    "    \"Centipede\": [\"Centipede\", \"Centipedes\", \"Large Centipede\"],\n",
    "    \"Cheetah\": [\"Cheetah\", \"Cheetahs\", \"Large Cheetah\"],\n",
    "    \"Chicken\": [\"Chicken\", \"Chickens\", \"Large Chicken\"],\n",
    "    \"Crab\": [\"Crab\", \"Crabs\", \"Large Crab\"],\n",
    "    \"Crocodile\": [\"Crocodile\", \"Crocodiles\", \"Large Crocodile\"],\n",
    "    \"Deer\": [\"Deer\", \"Deer\", \"Large Deer\"],\n",
    "    \"Duck\": [\"Duck\", \"Ducks\", \"Large Duck\"],\n",
    "    \"Eagle\": [\"Eagle\", \"Eagles\", \"Large Eagle\"],\n",
    "    \"Elephant\": [\"Elephant\", \"Elephants\", \"Large Elephant\"],\n",
    "    \"Fish\": [\"Fish\", \"Fish\", \"Large Fish\"],\n",
    "    \"Fox\": [\"Fox\", \"Foxes\", \"Large Fox\"],\n",
    "    \"Frog\": [\"Frog\", \"Frogs\", \"Large Frog\"],\n",
    "    \"Giraffe\": [\"Giraffe\", \"Giraffes\", \"Large Giraffe\"],\n",
    "    \"Goat\": [\"Goat\", \"Goats\", \"Large Goat\"],\n",
    "    \"Goldfish\": [\"Goldfish\", \"Goldfish\", \"Large Goldfish\"],\n",
    "    \"Goose\": [\"Goose\", \"Geese\", \"Large Goose\"],\n",
    "    \"Hamster\": [\"Hamster\", \"Hamsters\", \"Large Hamster\"],\n",
    "    \"Harbor Seal\": [\"Harbor Seal\", \"Harbor Seals\", \"Large Harbor Seal\"],\n",
    "    \"Hedgehog\": [\"Hedgehog\", \"Hedgehogs\", \"Large Hedgehog\"],\n",
    "    \"Hippopotamus\": [\"Hippopotamus\", \"Hippopotamuses\", \"Large Hippopotamus\"],\n",
    "    \"Horse\": [\"Horse\", \"Horses\", \"Large Horse\"],\n",
    "    \"Jaguar\": [\"Jaguar\", \"Jaguars\", \"Large Jaguar\"],\n",
    "    \"Jellyfish\": [\"Jellyfish\", \"Jellyfish\", \"Large Jellyfish\"],\n",
    "    \"Kangaroo\": [\"Kangaroo\", \"Kangaroos\", \"Large Kangaroo\"],\n",
    "    \"Koala\": [\"Koala\", \"Koalas\", \"Large Koala\"],\n",
    "    \"Ladybug\": [\"Ladybug\", \"Ladybugs\", \"Large Ladybug\"],\n",
    "    \"Leopard\": [\"Leopard\", \"Leopards\", \"Large Leopard\"],\n",
    "    \"Lion\": [\"Lion\", \"Lions\", \"Large Lion\"],\n",
    "    \"Lizard\": [\"Lizard\", \"Lizards\", \"Large Lizard\"],\n",
    "    \"Lynx\": [\"Lynx\", \"Lynxes\", \"Large Lynx\"],\n",
    "    \"Magpie\": [\"Magpie\", \"Magpies\", \"Large Magpie\"],\n",
    "    \"Monkey\": [\"Monkey\", \"Monkeys\", \"Large Monkey\"],\n",
    "    \"Moths and butterflies\": [\"Moths and butterflies\", \"Moths and butterflies\", \"Large Moths and butterflies\"],\n",
    "    \"Mouse\": [\"Mouse\", \"Mice\", \"Large Mouse\"],\n",
    "    \"Mule\": [\"Mule\", \"Mules\", \"Large Mule\"],\n",
    "    \"Ostrich\": [\"Ostrich\", \"Ostriches\", \"Large Ostrich\"],\n",
    "    \"Otter\": [\"Otter\", \"Otters\", \"Large Otter\"],\n",
    "    \"Owl\": [\"Owl\", \"Owls\", \"Large Owl\"],\n",
    "    \"Panda\": [\"Panda\", \"Pandas\", \"Large Panda\"],\n",
    "    \"Parrot\": [\"Parrot\", \"Parrots\", \"Large Parrot\"],\n",
    "    \"Penguin\": [\"Penguin\", \"Penguins\", \"Large Penguin\"],\n",
    "    \"Pig\": [\"Pig\", \"Pigs\", \"Large Pig\"],\n",
    "    \"Polar Bear\": [\"Polar Bear\", \"Polar Bears\", \"Large Polar Bear\"],\n",
    "    \"Rabbit\": [\"Rabbit\", \"Rabbits\", \"Large Rabbit\"],\n",
    "    \"Raccoon\": [\"Raccoon\", \"Raccoons\", \"Large Raccoon\"],\n",
    "    \"Raven\": [\"Raven\", \"Ravens\", \"Large Raven\"],\n",
    "    \"Red panda\": [\"Red panda\", \"Red pandas\", \"Large Red panda\"],\n",
    "    \"Rhinoceros\": [\"Rhinoceros\", \"Rhinoceroses\", \"Large Rhinoceros\"],\n",
    "    \"Scorpion\": [\"Scorpion\", \"Scorpions\", \"Large Scorpion\"],\n",
    "    \"Seahorse\": [\"Seahorse\", \"Seahorses\", \"Large Seahorse\"],\n",
    "    \"Sea Lion\": [\"Sea Lion\", \"Sea Lions\", \"Large Sea Lion\"],\n",
    "    \"Sea Turtle\": [\"Sea Turtle\", \"Sea Turtles\", \"Large Sea Turtle\"],\n",
    "    \"Shark\": [\"Shark\", \"Sharks\", \"Large Shark\"],\n",
    "    \"Sheep\": [\"Sheep\", \"Sheep\", \"Large Sheep\"],\n",
    "    \"Shrimp\": [\"Shrimp\", \"Shrimp\", \"Large Shrimp\"],\n",
    "    \"Snail\": [\"Snail\", \"Snails\", \"Large Snail\"],\n",
    "    \"Snake\": [\"Snake\", \"Snakes\", \"Large Snake\"],\n",
    "    \"Sparrow\": [\"Sparrow\", \"Sparrows\", \"Large Sparrow\"],\n",
    "    \"Spider\": [\"Spider\", \"Spiders\", \"Large Spider\"],\n",
    "    \"Squid\": [\"Squid\", \"Squids\", \"Large Squid\"],\n",
    "    \"Squirrel\": [\"Squirrel\", \"Squirrels\", \"Large Squirrel\"],\n",
    "    \"Starfish\": [\"Starfish\", \"Starfish\", \"Large Starfish\"],\n",
    "    \"Swan\": [\"Swan\", \"Swans\", \"Large Swan\"],\n",
    "    \"Tick\": [\"Tick\", \"Ticks\", \"Large Tick\"],\n",
    "    \"Tiger\": [\"Tiger\", \"Tigers\", \"Large Tiger\"],\n",
    "    \"Tortoise\": [\"Tortoise\", \"Tortoises\", \"Large Tortoise\"],\n",
    "    \"Turkey\": [\"Turkey\", \"Turkeys\", \"Large Turkey\"],\n",
    "    \"Turtle\": [\"Turtle\", \"Turtles\", \"Large Turtle\"],\n",
    "    \"Whale\": [\"Whale\", \"Whales\", \"Large Whale\"],\n",
    "    \"Woodpecker\": [\"Woodpecker\", \"Woodpeckers\", \"Large Woodpecker\"],\n",
    "    \"Worm\": [\"Worm\", \"Worms\", \"Large Worm\"],\n",
    "    \"Zebra\": [\"Zebra\", \"Zebras\", \"Large Zebra\"]\n",
    "}\n",
    "\n",
    "# Bear, Bears, Large Bear, Brown Bear, Brown Bears, Large Brown Bear, Bull, Bulls, Large Bull, Butterfly, Butterflies, Large Butterfly, Camel, Camels, Large Camel, Canary, Canaries, Large Canary, Caterpillar, Caterpillars, Large Caterpillar, Cattle, Cattle, Large Cattle, Centipede, Centipedes, Large Centipede, Cheetah, Cheetahs, Large Cheetah, Chicken, Chickens, Large Chicken, Crab, Crabs, Large Crab, Crocodile, Crocodiles, Large Crocodile, Deer, Deer, Large Deer, Duck, Ducks, Large Duck, Eagle, Eagles, Large Eagle, Elephant, Elephants, Large Elephant, Fish, Fish, Large Fish, Fox, Foxes, Large Fox, Frog, Frogs, Large Frog, Giraffe, Giraffes, Large Giraffe, Goat, Goats, Large Goat, Goldfish, Goldfish, Large Goldfish, Goose, Geese, Large Goose, Hamster, Hamsters, Large Hamster, Harbor Seal, Harbor Seals, Large Harbor Seal, Hedgehog, Hedgehogs, Large Hedgehog, Hippopotamus, Hippopotamuses, Large Hippopotamus, Horse, Horses, Large Horse, Jaguar, Jaguars, Large Jaguar, Jellyfish, Jellyfish, Large Jellyfish, Kangaroo, Kangaroos, Large Kangaroo, Koala, Koalas, Large Koala, Ladybug, Ladybugs, Large Ladybug, Leopard, Leopards, Large Leopard, Lion, Lions, Large Lion, Lizard, Lizards, Large Lizard, Lynx, Lynxes, Large Lynx, Magpie, Magpies, Large Magpie, Monkey, Monkeys, Large Monkey, Moths and butterflies, Moths and butterflies, Large Moths and butterflies, Mouse, Mice, Large Mouse, Mule, Mules, Large Mule, Ostrich, Ostriches, Large Ostrich, Otter, Otters, Large Otter, Owl, Owls, Large Owl, Panda, Pandas, Large Panda, Parrot, Parrots, Large Parrot, Penguin, Penguins, Large Penguin, Pig, Pigs, Large Pig, Polar Bear, Polar Bears, Large Polar Bear, Rabbit, Rabbits, Large Rabbit, Raccoon, Raccoons, Large Raccoon, Raven, Ravens, Large Raven, Red panda, Red pandas, Large Red panda, Rhinoceros, Rhinoceroses, Large Rhinoceros, Scorpion, Scorpions, Large Scorpion, Seahorse, Seahorses, Large Seahorse, Sea Lion, Sea Lions, Large Sea Lion, Sea Turtle, Sea Turtles, Large Sea Turtle, Shark, Sharks, Large Shark, Sheep, Sheep, Large Sheep, Shrimp, Shrimp, Large Shrimp, Snail, Snails, Large Snail, Snake, Snakes, Large Snake, Sparrow, Sparrows, Large Sparrow, Spider, Spiders, Large Spider, Squid, Squids, Large Squid, Squirrel, Squirrels, Large Squirrel, Starfish, Starfish, Large Starfish, Swan, Swans, Large Swan, Tick, Ticks, Large Tick, Tiger, Tigers, Large Tiger, Tortoise, Tortoises, Large Tortoise, Turkey, Turkeys, Large Turkey, Turtle, Turtles, Large Turtle, Whale, Whales, Large Whale, Woodpecker, Woodpeckers, Large Woodpecker, Worm, Worms, Large Worm, Zebra, Zebras, Large Zebra\n",
    "\n",
    "dict_size(a240)\n",
    "print(aOcheck_accuracy('animal80/a240.csv', a240))\n"
   ]
  },
  {
   "cell_type": "code",
   "execution_count": null,
   "metadata": {},
   "outputs": [
    {
     "name": "stdout",
     "output_type": "stream",
     "text": [
      "320\n",
      "6.88\n",
      "6.88\n"
     ]
    }
   ],
   "source": [
    "a320 = {\n",
    "    \"Bear\": [\"Bear\", \"Bears\", \"Large Bear\", \"Small Bear\"],\n",
    "    \"Brown Bear\": [\"Brown Bear\", \"Brown Bears\", \"Large Brown Bear\", \"Small Brown Bear\"],\n",
    "    \"Bull\": [\"Bull\", \"Bulls\", \"Large Bull\", \"Small Bull\"],\n",
    "    \"Butterfly\": [\"Butterfly\", \"Butterflies\", \"Large Butterfly\", \"Small Butterfly\"],\n",
    "    \"Camel\": [\"Camel\", \"Camels\", \"Large Camel\", \"Small Camel\"],\n",
    "    \"Canary\": [\"Canary\", \"Canaries\", \"Large Canary\", \"Small Canary\"],\n",
    "    \"Caterpillar\": [\"Caterpillar\", \"Caterpillars\", \"Large Caterpillar\", \"Small Caterpillar\"],\n",
    "    \"Cattle\": [\"Cattle\", \"Cattle\", \"Large Cattle\", \"Small Cattle\"],\n",
    "    \"Centipede\": [\"Centipede\", \"Centipedes\", \"Large Centipede\", \"Small Centipede\"],\n",
    "    \"Cheetah\": [\"Cheetah\", \"Cheetahs\", \"Large Cheetah\", \"Small Cheetah\"],\n",
    "    \"Chicken\": [\"Chicken\", \"Chickens\", \"Large Chicken\", \"Small Chicken\"],\n",
    "    \"Crab\": [\"Crab\", \"Crabs\", \"Large Crab\", \"Small Crab\"],\n",
    "    \"Crocodile\": [\"Crocodile\", \"Crocodiles\", \"Large Crocodile\", \"Small Crocodile\"],\n",
    "    \"Deer\": [\"Deer\", \"Deer\", \"Large Deer\", \"Small Deer\"],\n",
    "    \"Duck\": [\"Duck\", \"Ducks\", \"Large Duck\", \"Small Duck\"],\n",
    "    \"Eagle\": [\"Eagle\", \"Eagles\", \"Large Eagle\", \"Small Eagle\"],\n",
    "    \"Elephant\": [\"Elephant\", \"Elephants\", \"Large Elephant\", \"Small Elephant\"],\n",
    "    \"Fish\": [\"Fish\", \"Fish\", \"Large Fish\", \"Small Fish\"],\n",
    "    \"Fox\": [\"Fox\", \"Foxes\", \"Large Fox\", \"Small Fox\"],\n",
    "    \"Frog\": [\"Frog\", \"Frogs\", \"Large Frog\", \"Small Frog\"],\n",
    "    \"Giraffe\": [\"Giraffe\", \"Giraffes\", \"Large Giraffe\", \"Small Giraffe\"],\n",
    "    \"Goat\": [\"Goat\", \"Goats\", \"Large Goat\", \"Small Goat\"],\n",
    "    \"Goldfish\": [\"Goldfish\", \"Goldfish\", \"Large Goldfish\", \"Small Goldfish\"],\n",
    "    \"Goose\": [\"Goose\", \"Geese\", \"Large Goose\", \"Small Goose\"],\n",
    "    \"Hamster\": [\"Hamster\", \"Hamsters\", \"Large Hamster\", \"Small Hamster\"],\n",
    "    \"Harbor Seal\": [\"Harbor Seal\", \"Harbor Seals\", \"Large Harbor Seal\", \"Small Harbor Seal\"],\n",
    "    \"Hedgehog\": [\"Hedgehog\", \"Hedgehogs\", \"Large Hedgehog\", \"Small Hedgehog\"],\n",
    "    \"Hippopotamus\": [\"Hippopotamus\", \"Hippopotamuses\", \"Large Hippopotamus\", \"Small Hippopotamus\"],\n",
    "    \"Horse\": [\"Horse\", \"Horses\", \"Large Horse\", \"Small Horse\"],\n",
    "    \"Jaguar\": [\"Jaguar\", \"Jaguars\", \"Large Jaguar\", \"Small Jaguar\"],\n",
    "    \"Jellyfish\": [\"Jellyfish\", \"Jellyfish\", \"Large Jellyfish\", \"Small Jellyfish\"],\n",
    "    \"Kangaroo\": [\"Kangaroo\", \"Kangaroos\", \"Large Kangaroo\", \"Small Kangaroo\"],\n",
    "    \"Koala\": [\"Koala\", \"Koalas\", \"Large Koala\", \"Small Koala\"],\n",
    "    \"Ladybug\": [\"Ladybug\", \"Ladybugs\", \"Large Ladybug\", \"Small Ladybug\"],\n",
    "    \"Leopard\": [\"Leopard\", \"Leopards\", \"Large Leopard\", \"Small Leopard\"],\n",
    "    \"Lion\": [\"Lion\", \"Lions\", \"Large Lion\", \"Small Lion\"],\n",
    "    \"Lizard\": [\"Lizard\", \"Lizards\", \"Large Lizard\", \"Small Lizard\"],\n",
    "    \"Lynx\": [\"Lynx\", \"Lynxes\", \"Large Lynx\", \"Small Lynx\"],\n",
    "    \"Magpie\": [\"Magpie\", \"Magpies\", \"Large Magpie\", \"Small Magpie\"],\n",
    "    \"Monkey\": [\"Monkey\", \"Monkeys\", \"Large Monkey\", \"Small Monkey\"],\n",
    "    \"Moths and butterflies\": [\"Moths and butterflies\", \"Moths and butterflies\", \"Large Moths and butterflies\", \"Small Moths and butterflies\"],\n",
    "    \"Mouse\": [\"Mouse\", \"Mice\", \"Large Mouse\", \"Small Mouse\"],\n",
    "    \"Mule\": [\"Mule\", \"Mules\", \"Large Mule\", \"Small Mule\"],\n",
    "    \"Ostrich\": [\"Ostrich\", \"Ostriches\", \"Large Ostrich\", \"Small Ostrich\"],\n",
    "    \"Otter\": [\"Otter\", \"Otters\", \"Large Otter\", \"Small Otter\"],\n",
    "    \"Owl\": [\"Owl\", \"Owls\", \"Large Owl\", \"Small Owl\"],\n",
    "    \"Panda\": [\"Panda\", \"Pandas\", \"Large Panda\", \"Small Panda\"],\n",
    "    \"Parrot\": [\"Parrot\", \"Parrots\", \"Large Parrot\", \"Small Parrot\"],\n",
    "    \"Penguin\": [\"Penguin\", \"Penguins\", \"Large Penguin\", \"Small Penguin\"],\n",
    "    \"Pig\": [\"Pig\", \"Pigs\", \"Large Pig\", \"Small Pig\"],\n",
    "    \"Polar Bear\": [\"Polar Bear\", \"Polar Bears\", \"Large Polar Bear\", \"Small Polar Bear\"],\n",
    "    \"Rabbit\": [\"Rabbit\", \"Rabbits\", \"Large Rabbit\", \"Small Rabbit\"],\n",
    "    \"Raccoon\": [\"Raccoon\", \"Raccoons\", \"Large Raccoon\", \"Small Raccoon\"],\n",
    "    \"Raven\": [\"Raven\", \"Ravens\", \"Large Raven\", \"Small Raven\"],\n",
    "    \"Red panda\": [\"Red panda\", \"Red pandas\", \"Large Red panda\", \"Small Red panda\"],\n",
    "    \"Rhinoceros\": [\"Rhinoceros\", \"Rhinoceroses\", \"Large Rhinoceros\", \"Small Rhinoceros\"],\n",
    "    \"Scorpion\": [\"Scorpion\", \"Scorpions\", \"Large Scorpion\", \"Small Scorpion\"],\n",
    "    \"Seahorse\": [\"Seahorse\", \"Seahorses\", \"Large Seahorse\", \"Small Seahorse\"],\n",
    "    \"Sea Lion\": [\"Sea Lion\", \"Sea Lions\", \"Large Sea Lion\", \"Small Sea Lion\"],\n",
    "    \"Sea Turtle\": [\"Sea Turtle\", \"Sea Turtles\", \"Large Sea Turtle\", \"Small Sea Turtle\"],\n",
    "    \"Shark\": [\"Shark\", \"Sharks\", \"Large Shark\", \"Small Shark\"],\n",
    "    \"Sheep\": [\"Sheep\", \"Sheep\", \"Large Sheep\", \"Small Sheep\"],\n",
    "    \"Shrimp\": [\"Shrimp\", \"Shrimp\", \"Large Shrimp\", \"Small Shrimp\"],\n",
    "    \"Snail\": [\"Snail\", \"Snails\", \"Large Snail\", \"Small Snail\"],\n",
    "    \"Snake\": [\"Snake\", \"Snakes\", \"Large Snake\", \"Small Snake\"],\n",
    "    \"Sparrow\": [\"Sparrow\", \"Sparrows\", \"Large Sparrow\", \"Small Sparrow\"],\n",
    "    \"Spider\": [\"Spider\", \"Spiders\", \"Large Spider\", \"Small Spider\"],\n",
    "    \"Squid\": [\"Squid\", \"Squids\", \"Large Squid\", \"Small Squid\"],\n",
    "    \"Squirrel\": [\"Squirrel\", \"Squirrels\", \"Large Squirrel\", \"Small Squirrel\"],\n",
    "    \"Starfish\": [\"Starfish\", \"Starfish\", \"Large Starfish\", \"Small Starfish\"],\n",
    "    \"Swan\": [\"Swan\", \"Swans\", \"Large Swan\", \"Small Swan\"],\n",
    "    \"Tick\": [\"Tick\", \"Ticks\", \"Large Tick\", \"Small Tick\"],\n",
    "    \"Tiger\": [\"Tiger\", \"Tigers\", \"Large Tiger\", \"Small Tiger\"],\n",
    "    \"Tortoise\": [\"Tortoise\", \"Tortoises\", \"Large Tortoise\", \"Small Tortoise\"],\n",
    "    \"Turkey\": [\"Turkey\", \"Turkeys\", \"Large Turkey\", \"Small Turkey\"],\n",
    "    \"Turtle\": [\"Turtle\", \"Turtles\", \"Large Turtle\", \"Small Turtle\"],\n",
    "    \"Whale\": [\"Whale\", \"Whales\", \"Large Whale\", \"Small Whale\"],\n",
    "    \"Woodpecker\": [\"Woodpecker\", \"Woodpeckers\", \"Large Woodpecker\", \"Small Woodpecker\"],\n",
    "    \"Worm\": [\"Worm\", \"Worms\", \"Large Worm\", \"Small Worm\"],\n",
    "    \"Zebra\": [\"Zebra\", \"Zebras\", \"Large Zebra\", \"Small Zebra\"]\n",
    "}\n",
    "\n",
    "# Bear, Bears, Large Bear, Small Bear, Brown Bear, Brown Bears, Large Brown Bear, Small Brown Bear, Bull, Bulls, Large Bull, Small Bull, Butterfly, Butterflies, Large Butterfly, Small Butterfly, Camel, Camels, Large Camel, Small Camel, Canary, Canaries, Large Canary, Small Canary, Caterpillar, Caterpillars, Large Caterpillar, Small Caterpillar, Cattle, Cattle, Large Cattle, Small Cattle, Centipede, Centipedes, Large Centipede, Small Centipede, Cheetah, Cheetahs, Large Cheetah, Small Cheetah, Chicken, Chickens, Large Chicken, Small Chicken, Crab, Crabs, Large Crab, Small Crab, Crocodile, Crocodiles, Large Crocodile, Small Crocodile, Deer, Deer, Large Deer, Small Deer, Duck, Ducks, Large Duck, Small Duck, Eagle, Eagles, Large Eagle, Small Eagle, Elephant, Elephants, Large Elephant, Small Elephant, Fish, Fish, Large Fish, Small Fish, Fox, Foxes, Large Fox, Small Fox, Frog, Frogs, Large Frog, Small Frog, Giraffe, Giraffes, Large Giraffe, Small Giraffe, Goat, Goats, Large Goat, Small Goat, Goldfish, Goldfish, Large Goldfish, Small Goldfish, Goose, Geese, Large Goose, Small Goose, Hamster, Hamsters, Large Hamster, Small Hamster, Harbor Seal, Harbor Seals, Large Harbor Seal, Small Harbor Seal, Hedgehog, Hedgehogs, Large Hedgehog, Small Hedgehog, Hippopotamus, Hippopotamuses, Large Hippopotamus, Small Hippopotamus, Horse, Horses, Large Horse, Small Horse, Jaguar, Jaguars, Large Jaguar, Small Jaguar, Jellyfish, Jellyfish, Large Jellyfish, Small Jellyfish, Kangaroo, Kangaroos, Large Kangaroo, Small Kangaroo, Koala, Koalas, Large Koala, Small Koala, Ladybug, Ladybugs, Large Ladybug, Small Ladybug, Leopard, Leopards, Large Leopard, Small Leopard, Lion, Lions, Large Lion, Small Lion, Lizard, Lizards, Large Lizard, Small Lizard, Lynx, Lynxes, Large Lynx, Small Lynx, Magpie, Magpies, Large Magpie, Small Magpie, Monkey, Monkeys, Large Monkey, Small Monkey, Moths and butterflies, Moths and butterflies, Large Moths and butterflies, Small Moths and butterflies, Mouse, Mice, Large Mouse, Small Mouse, Mule, Mules, Large Mule, Small Mule, Ostrich, Ostriches, Large Ostrich, Small Ostrich, Otter, Otters, Large Otter, Small Otter, Owl, Owls, Large Owl, Small Owl, Panda, Pandas, Large Panda, Small Panda, Parrot, Parrots, Large Parrot, Small Parrot, Penguin, Penguins, Large Penguin, Small Penguin, Pig, Pigs, Large Pig, Small Pig, Polar Bear, Polar Bears, Large Polar Bear, Small Polar Bear, Rabbit, Rabbits, Large Rabbit, Small Rabbit, Raccoon, Raccoons, Large Raccoon, Small Raccoon, Raven, Ravens, Large Raven, Small Raven, Red panda, Red pandas, Large Red panda, Small Red panda, Rhinoceros, Rhinoceroses, Large Rhinoceros, Small Rhinoceros, Scorpion, Scorpions, Large Scorpion, Small Scorpion, Seahorse, Seahorses, Large Seahorse, Small Seahorse, Sea Lion, Sea Lions, Large Sea Lion, Small Sea Lion, Sea Turtle, Sea Turtles, Large Sea Turtle, Small Sea Turtle, Shark, Sharks, Large Shark, Small Shark, Sheep, Sheep, Large Sheep, Small Sheep, Shrimp, Shrimp, Large Shrimp, Small Shrimp, Snail, Snails, Large Snail, Small Snail, Snake, Snakes, Large Snake, Small Snake, Sparrow, Sparrows, Large Sparrow, Small Sparrow, Spider, Spiders, Large Spider, Small Spider, Squid, Squids, Large Squid, Small Squid, Squirrel, Squirrels, Large Squirrel, Small Squirrel, Starfish, Starfish, Large Starfish, Small Starfish, Swan, Swans, Large Swan, Small Swan, Tick, Ticks, Large Tick, Small Tick, Tiger, Tigers, Large Tiger, Small Tiger, Tortoise, Tortoises, Large Tortoise, Small Tortoise, Turkey, Turkeys, Large Turkey, Small Turkey, Turtle, Turtles, Large Turtle, Small Turtle, Whale, Whales, Large Whale, Small Whale, Woodpecker, Woodpeckers, Large Woodpecker, Small Woodpecker, Worm, Worms, Large Worm, Small Worm, Zebra, Zebras, Large Zebra, Small Zebra\n",
    "\n",
    "dict_size(a320)\n",
    "print(aOcheck_accuracy('animal80/a320.csv', a320))\n"
   ]
  },
  {
   "cell_type": "code",
   "execution_count": 146,
   "metadata": {},
   "outputs": [
    {
     "name": "stdout",
     "output_type": "stream",
     "text": [
      "400\n",
      "5.66\n",
      "5.66\n"
     ]
    }
   ],
   "source": [
    "a400 = {\n",
    "    \"Bear\": [\"Bear\", \"Bears\", \"Large Bear\", \"Small Bear\", \"Wild Bear\"],\n",
    "    \"Brown Bear\": [\"Brown Bear\", \"Brown Bears\", \"Large Brown Bear\", \"Small Brown Bear\", \"Wild Brown Bear\"],\n",
    "    \"Bull\": [\"Bull\", \"Bulls\", \"Large Bull\", \"Small Bull\", \"Wild Bull\"],\n",
    "    \"Butterfly\": [\"Butterfly\", \"Butterflies\", \"Large Butterfly\", \"Small Butterfly\", \"Wild Butterfly\"],\n",
    "    \"Camel\": [\"Camel\", \"Camels\", \"Large Camel\", \"Small Camel\", \"Wild Camel\"],\n",
    "    \"Canary\": [\"Canary\", \"Canaries\", \"Large Canary\", \"Small Canary\", \"Wild Canary\"],\n",
    "    \"Caterpillar\": [\"Caterpillar\", \"Caterpillars\", \"Large Caterpillar\", \"Small Caterpillar\", \"Wild Caterpillar\"],\n",
    "    \"Cattle\": [\"Cattle\", \"Cattle\", \"Large Cattle\", \"Small Cattle\", \"Wild Cattle\"],\n",
    "    \"Centipede\": [\"Centipede\", \"Centipedes\", \"Large Centipede\", \"Small Centipede\", \"Wild Centipede\"],\n",
    "    \"Cheetah\": [\"Cheetah\", \"Cheetahs\", \"Large Cheetah\", \"Small Cheetah\", \"Wild Cheetah\"],\n",
    "    \"Chicken\": [\"Chicken\", \"Chickens\", \"Large Chicken\", \"Small Chicken\", \"Wild Chicken\"],\n",
    "    \"Crab\": [\"Crab\", \"Crabs\", \"Large Crab\", \"Small Crab\", \"Wild Crab\"],\n",
    "    \"Crocodile\": [\"Crocodile\", \"Crocodiles\", \"Large Crocodile\", \"Small Crocodile\", \"Wild Crocodile\"],\n",
    "    \"Deer\": [\"Deer\", \"Deer\", \"Large Deer\", \"Small Deer\", \"Wild Deer\"],\n",
    "    \"Duck\": [\"Duck\", \"Ducks\", \"Large Duck\", \"Small Duck\", \"Wild Duck\"],\n",
    "    \"Eagle\": [\"Eagle\", \"Eagles\", \"Large Eagle\", \"Small Eagle\", \"Wild Eagle\"],\n",
    "    \"Elephant\": [\"Elephant\", \"Elephants\", \"Large Elephant\", \"Small Elephant\", \"Wild Elephant\"],\n",
    "    \"Fish\": [\"Fish\", \"Fish\", \"Large Fish\", \"Small Fish\", \"Wild Fish\"],\n",
    "    \"Fox\": [\"Fox\", \"Foxes\", \"Large Fox\", \"Small Fox\", \"Wild Fox\"],\n",
    "    \"Frog\": [\"Frog\", \"Frogs\", \"Large Frog\", \"Small Frog\", \"Wild Frog\"],\n",
    "    \"Giraffe\": [\"Giraffe\", \"Giraffes\", \"Large Giraffe\", \"Small Giraffe\", \"Wild Giraffe\"],\n",
    "    \"Goat\": [\"Goat\", \"Goats\", \"Large Goat\", \"Small Goat\", \"Wild Goat\"],\n",
    "    \"Goldfish\": [\"Goldfish\", \"Goldfish\", \"Large Goldfish\", \"Small Goldfish\", \"Wild Goldfish\"],\n",
    "    \"Goose\": [\"Goose\", \"Geese\", \"Large Goose\", \"Small Goose\", \"Wild Goose\"],\n",
    "    \"Hamster\": [\"Hamster\", \"Hamsters\", \"Large Hamster\", \"Small Hamster\", \"Wild Hamster\"],\n",
    "    \"Harbor Seal\": [\"Harbor Seal\", \"Harbor Seals\", \"Large Harbor Seal\", \"Small Harbor Seal\", \"Wild Harbor Seal\"],\n",
    "    \"Hedgehog\": [\"Hedgehog\", \"Hedgehogs\", \"Large Hedgehog\", \"Small Hedgehog\", \"Wild Hedgehog\"],\n",
    "    \"Hippopotamus\": [\"Hippopotamus\", \"Hippopotamuses\", \"Large Hippopotamus\", \"Small Hippopotamus\", \"Wild Hippopotamus\"],\n",
    "    \"Horse\": [\"Horse\", \"Horses\", \"Large Horse\", \"Small Horse\", \"Wild Horse\"],\n",
    "    \"Jaguar\": [\"Jaguar\", \"Jaguars\", \"Large Jaguar\", \"Small Jaguar\", \"Wild Jaguar\"],\n",
    "    \"Jellyfish\": [\"Jellyfish\", \"Jellyfish\", \"Large Jellyfish\", \"Small Jellyfish\", \"Wild Jellyfish\"],\n",
    "    \"Kangaroo\": [\"Kangaroo\", \"Kangaroos\", \"Large Kangaroo\", \"Small Kangaroo\", \"Wild Kangaroo\"],\n",
    "    \"Koala\": [\"Koala\", \"Koalas\", \"Large Koala\", \"Small Koala\", \"Wild Koala\"],\n",
    "    \"Ladybug\": [\"Ladybug\", \"Ladybugs\", \"Large Ladybug\", \"Small Ladybug\", \"Wild Ladybug\"],\n",
    "    \"Leopard\": [\"Leopard\", \"Leopards\", \"Large Leopard\", \"Small Leopard\", \"Wild Leopard\"],\n",
    "    \"Lion\": [\"Lion\", \"Lions\", \"Large Lion\", \"Small Lion\", \"Wild Lion\"],\n",
    "    \"Lizard\": [\"Lizard\", \"Lizards\", \"Large Lizard\", \"Small Lizard\", \"Wild Lizard\"],\n",
    "    \"Lynx\": [\"Lynx\", \"Lynxes\", \"Large Lynx\", \"Small Lynx\", \"Wild Lynx\"],\n",
    "    \"Magpie\": [\"Magpie\", \"Magpies\", \"Large Magpie\", \"Small Magpie\", \"Wild Magpie\"],\n",
    "    \"Monkey\": [\"Monkey\", \"Monkeys\", \"Large Monkey\", \"Small Monkey\", \"Wild Monkey\"],\n",
    "    \"Moths and butterflies\": [\"Moths and butterflies\", \"Moths and butterflies\", \"Large Moths and butterflies\", \"Small Moths and butterflies\", \"Wild Moths and butterflies\"],\n",
    "    \"Mouse\": [\"Mouse\", \"Mice\", \"Large Mouse\", \"Small Mouse\", \"Wild Mouse\"],\n",
    "    \"Mule\": [\"Mule\", \"Mules\", \"Large Mule\", \"Small Mule\", \"Wild Mule\"],\n",
    "    \"Ostrich\": [\"Ostrich\", \"Ostriches\", \"Large Ostrich\", \"Small Ostrich\", \"Wild Ostrich\"],\n",
    "    \"Otter\": [\"Otter\", \"Otters\", \"Large Otter\", \"Small Otter\", \"Wild Otter\"],\n",
    "    \"Owl\": [\"Owl\", \"Owls\", \"Large Owl\", \"Small Owl\", \"Wild Owl\"],\n",
    "    \"Panda\": [\"Panda\", \"Pandas\", \"Large Panda\", \"Small Panda\", \"Wild Panda\"],\n",
    "    \"Parrot\": [\"Parrot\", \"Parrots\", \"Large Parrot\", \"Small Parrot\", \"Wild Parrot\"],\n",
    "    \"Penguin\": [\"Penguin\", \"Penguins\", \"Large Penguin\", \"Small Penguin\", \"Wild Penguin\"],\n",
    "    \"Pig\": [\"Pig\", \"Pigs\", \"Large Pig\", \"Small Pig\", \"Wild Pig\"],\n",
    "    \"Polar Bear\": [\"Polar Bear\", \"Polar Bears\", \"Large Polar Bear\", \"Small Polar Bear\", \"Wild Polar Bear\"],\n",
    "    \"Rabbit\": [\"Rabbit\", \"Rabbits\", \"Large Rabbit\", \"Small Rabbit\", \"Wild Rabbit\"],\n",
    "    \"Raccoon\": [\"Raccoon\", \"Raccoons\", \"Large Raccoon\", \"Small Raccoon\", \"Wild Raccoon\"],\n",
    "    \"Raven\": [\"Raven\", \"Ravens\", \"Large Raven\", \"Small Raven\", \"Wild Raven\"],\n",
    "    \"Red panda\": [\"Red panda\", \"Red pandas\", \"Large Red panda\", \"Small Red panda\", \"Wild Red panda\"],\n",
    "    \"Rhinoceros\": [\"Rhinoceros\", \"Rhinoceroses\", \"Large Rhinoceros\", \"Small Rhinoceros\", \"Wild Rhinoceros\"],\n",
    "    \"Scorpion\": [\"Scorpion\", \"Scorpions\", \"Large Scorpion\", \"Small Scorpion\", \"Wild Scorpion\"],\n",
    "    \"Seahorse\": [\"Seahorse\", \"Seahorses\", \"Large Seahorse\", \"Small Seahorse\", \"Wild Seahorse\"],\n",
    "    \"Sea Lion\": [\"Sea Lion\", \"Sea Lions\", \"Large Sea Lion\", \"Small Sea Lion\", \"Wild Sea Lion\"],\n",
    "    \"Sea Turtle\": [\"Sea Turtle\", \"Sea Turtles\", \"Large Sea Turtle\", \"Small Sea Turtle\", \"Wild Sea Turtle\"],\n",
    "    \"Shark\": [\"Shark\", \"Sharks\", \"Large Shark\", \"Small Shark\", \"Wild Shark\"],\n",
    "    \"Sheep\": [\"Sheep\", \"Sheep\", \"Large Sheep\", \"Small Sheep\", \"Wild Sheep\"],\n",
    "    \"Shrimp\": [\"Shrimp\", \"Shrimp\", \"Large Shrimp\", \"Small Shrimp\", \"Wild Shrimp\"],\n",
    "    \"Snail\": [\"Snail\", \"Snails\", \"Large Snail\", \"Small Snail\", \"Wild Snail\"],\n",
    "    \"Snake\": [\"Snake\", \"Snakes\", \"Large Snake\", \"Small Snake\", \"Wild Snake\"],\n",
    "    \"Sparrow\": [\"Sparrow\", \"Sparrows\", \"Large Sparrow\", \"Small Sparrow\", \"Wild Sparrow\"],\n",
    "    \"Spider\": [\"Spider\", \"Spiders\", \"Large Spider\", \"Small Spider\", \"Wild Spider\"],\n",
    "    \"Squid\": [\"Squid\", \"Squids\", \"Large Squid\", \"Small Squid\", \"Wild Squid\"],\n",
    "    \"Squirrel\": [\"Squirrel\", \"Squirrels\", \"Large Squirrel\", \"Small Squirrel\", \"Wild Squirrel\"],\n",
    "    \"Starfish\": [\"Starfish\", \"Starfish\", \"Large Starfish\", \"Small Starfish\", \"Wild Starfish\"],\n",
    "    \"Swan\": [\"Swan\", \"Swans\", \"Large Swan\", \"Small Swan\", \"Wild Swan\"],\n",
    "    \"Tick\": [\"Tick\", \"Ticks\", \"Large Tick\", \"Small Tick\", \"Wild Tick\"],\n",
    "    \"Tiger\": [\"Tiger\", \"Tigers\", \"Large Tiger\", \"Small Tiger\", \"Wild Tiger\"],\n",
    "    \"Tortoise\": [\"Tortoise\", \"Tortoises\", \"Large Tortoise\", \"Small Tortoise\", \"Wild Tortoise\"],\n",
    "    \"Turkey\": [\"Turkey\", \"Turkeys\", \"Large Turkey\", \"Small Turkey\", \"Wild Turkey\"],\n",
    "    \"Turtle\": [\"Turtle\", \"Turtles\", \"Large Turtle\", \"Small Turtle\", \"Wild Turtle\"],\n",
    "    \"Whale\": [\"Whale\", \"Whales\", \"Large Whale\", \"Small Whale\", \"Wild Whale\"],\n",
    "    \"Woodpecker\": [\"Woodpecker\", \"Woodpeckers\", \"Large Woodpecker\", \"Small Woodpecker\", \"Wild Woodpecker\"],\n",
    "    \"Worm\": [\"Worm\", \"Worms\", \"Large Worm\", \"Small Worm\", \"Wild Worm\"],\n",
    "    \"Zebra\": [\"Zebra\", \"Zebras\", \"Large Zebra\", \"Small Zebra\", \"Wild Zebra\"]\n",
    "}\n",
    "\n",
    "# Bear, Bears, Large Bear, Small Bear, Wild Bear, Brown Bear, Brown Bears, Large Brown Bear, Small Brown Bear, Wild Brown Bear, Bull, Bulls, Large Bull, Small Bull, Wild Bull, Butterfly, Butterflies, Large Butterfly, Small Butterfly, Wild Butterfly, Camel, Camels, Large Camel, Small Camel, Wild Camel, Canary, Canaries, Large Canary, Small Canary, Wild Canary, Caterpillar, Caterpillars, Large Caterpillar, Small Caterpillar, Wild Caterpillar, Cattle, Cattle, Large Cattle, Small Cattle, Wild Cattle, Centipede, Centipedes, Large Centipede, Small Centipede, Wild Centipede, Cheetah, Cheetahs, Large Cheetah, Small Cheetah, Wild Cheetah, Chicken, Chickens, Large Chicken, Small Chicken, Wild Chicken, Crab, Crabs, Large Crab, Small Crab, Wild Crab, Crocodile, Crocodiles, Large Crocodile, Small Crocodile, Wild Crocodile, Deer, Deer, Large Deer, Small Deer, Wild Deer, Duck, Ducks, Large Duck, Small Duck, Wild Duck, Eagle, Eagles, Large Eagle, Small Eagle, Wild Eagle, Elephant, Elephants, Large Elephant, Small Elephant, Wild Elephant, Fish, Fish, Large Fish, Small Fish, Wild Fish, Fox, Foxes, Large Fox, Small Fox, Wild Fox, Frog, Frogs, Large Frog, Small Frog, Wild Frog, Giraffe, Giraffes, Large Giraffe, Small Giraffe, Wild Giraffe, Goat, Goats, Large Goat, Small Goat, Wild Goat, Goldfish, Goldfish, Large Goldfish, Small Goldfish, Wild Goldfish, Goose, Geese, Large Goose, Small Goose, Wild Goose, Hamster, Hamsters, Large Hamster, Small Hamster, Wild Hamster, Harbor Seal, Harbor Seals, Large Harbor Seal, Small Harbor Seal, Wild Harbor Seal, Hedgehog, Hedgehogs, Large Hedgehog, Small Hedgehog, Wild Hedgehog, Hippopotamus, Hippopotamuses, Large Hippopotamus, Small Hippopotamus, Wild Hippopotamus, Horse, Horses, Large Horse, Small Horse, Wild Horse, Jaguar, Jaguars, Large Jaguar, Small Jaguar, Wild Jaguar, Jellyfish, Jellyfish, Large Jellyfish, Small Jellyfish, Wild Jellyfish, Kangaroo, Kangaroos, Large Kangaroo, Small Kangaroo, Wild Kangaroo, Koala, Koalas, Large Koala, Small Koala, Wild Koala, Ladybug, Ladybugs, Large Ladybug, Small Ladybug, Wild Ladybug, Leopard, Leopards, Large Leopard, Small Leopard, Wild Leopard, Lion, Lions, Large Lion, Small Lion, Wild Lion, Lizard, Lizards, Large Lizard, Small Lizard, Wild Lizard, Lynx, Lynxes, Large Lynx, Small Lynx, Wild Lynx, Magpie, Magpies, Large Magpie, Small Magpie, Wild Magpie, Monkey, Monkeys, Large Monkey, Small Monkey, Wild Monkey, Moths and butterflies, Moths and butterflies, Large Moths and butterflies, Small Moths and butterflies, Wild Moths and butterflies, Mouse, Mice, Large Mouse, Small Mouse, Wild Mouse, Mule, Mules, Large Mule, Small Mule, Wild Mule, Ostrich, Ostriches, Large Ostrich, Small Ostrich, Wild Ostrich, Otter, Otters, Large Otter, Small Otter, Wild Otter, Owl, Owls, Large Owl, Small Owl, Wild Owl, Panda, Pandas, Large Panda, Small Panda, Wild Panda, Parrot, Parrots, Large Parrot, Small Parrot, Wild Parrot, Penguin, Penguins, Large Penguin, Small Penguin, Wild Penguin, Pig, Pigs, Large Pig, Small Pig, Wild Pig, Polar Bear, Polar Bears, Large Polar Bear, Small Polar Bear, Wild Polar Bear, Rabbit, Rabbits, Large Rabbit, Small Rabbit, Wild Rabbit, Raccoon, Raccoons, Large Raccoon, Small Raccoon, Wild Raccoon, Raven, Ravens, Large Raven, Small Raven, Wild Raven, Red panda, Red pandas, Large Red panda, Small Red panda, Wild Red panda, Rhinoceros, Rhinoceroses, Large Rhinoceros, Small Rhinoceros, Wild Rhinoceros, Scorpion, Scorpions, Large Scorpion, Small Scorpion, Wild Scorpion, Seahorse, Seahorses, Large Seahorse, Small Seahorse, Wild Seahorse, Sea Lion, Sea Lions, Large Sea Lion, Small Sea Lion, Wild Sea Lion, Sea Turtle, Sea Turtles, Large Sea Turtle, Small Sea Turtle, Wild Sea Turtle, Shark, Sharks, Large Shark, Small Shark, Wild Shark, Sheep, Sheep, Large Sheep, Small Sheep, Wild Sheep, Shrimp, Shrimp, Large Shrimp, Small Shrimp, Wild Shrimp, Snail, Snails, Large Snail, Small Snail, Wild Snail, Snake, Snakes, Large Snake, Small Snake, Wild Snake, Sparrow, Sparrows, Large Sparrow, Small Sparrow, Wild Sparrow, Spider, Spiders, Large Spider, Small Spider, Wild Spider, Squid, Squids, Large Squid, Small Squid, Wild Squid, Squirrel, Squirrels, Large Squirrel, Small Squirrel, Wild Squirrel, Starfish, Starfish, Large Starfish, Small Starfish, Wild Starfish, Swan, Swans, Large Swan, Small Swan, Wild Swan, Tick, Ticks, Large Tick, Small Tick, Wild Tick, Tiger, Tigers, Large Tiger, Small Tiger, Wild Tiger, Tortoise, Tortoises, Large Tortoise, Small Tortoise, Wild Tortoise, Turkey, Turkeys, Large Turkey, Small Turkey, Wild Turkey, Turtle, Turtles, Large Turtle, Small Turtle, Wild Turtle, Whale, Whales, Large Whale, Small Whale, Wild Whale, Woodpecker, Woodpeckers, Large Woodpecker, Small Woodpecker, Wild Woodpecker, Worm, Worms, Large Worm, Small Worm, Wild Worm, Zebra, Zebras, Large Zebra, Small Zebra, Wild Zebra\n",
    "\n",
    "dict_size(a400)\n",
    "print(aOcheck_accuracy('animal80/a400.csv', a400))\n"
   ]
  },
  {
   "cell_type": "markdown",
   "metadata": {},
   "source": [
    "## Animal 4"
   ]
  },
  {
   "cell_type": "code",
   "execution_count": 15,
   "metadata": {},
   "outputs": [],
   "source": [
    "dict_8 = {\n",
    "    \"Buffalo\": [\"Buffalo\", \"Buffaloes\"],\n",
    "    \"Elephant\": [\"Elephant\", \"Elephants\"],\n",
    "    \"Rhino\": [\"Rhino\", \"Rhinoceros\"],\n",
    "    \"Zebra\": [\"Zebra\", \"Zebras\"],\n",
    "}\n",
    "\n",
    "#Buffalo,Buffaloes,Elephant,Elephants,Rhino,Rhinoceros,Zebra,Zebras\n",
    "\n",
    "# dict_size(dict_8)\n",
    "# print(aOcheck_accuracy(\"animal4/AO8.csv\", dict_8))"
   ]
  },
  {
   "cell_type": "code",
   "execution_count": 16,
   "metadata": {},
   "outputs": [],
   "source": [
    "dict_12 = {\n",
    "    \"Buffalo\": [\"Buffalo\", \"Buffaloes\", \"Picture of Buffalo\"],\n",
    "    \"Elephant\": [\"Elephant\", \"Elephants\", \"Picture of Elephant\"],\n",
    "    \"Rhino\": [\"Rhino\", \"Rhinoceros\", \"Picture of Rhino\"],\n",
    "    \"Zebra\": [\"Zebra\", \"Zebras\", \"Picture of Zebra\"],\n",
    "}\n",
    "\n",
    "# Buffalo, Buffaloes, Picture of Buffalo, Elephant, Elephants, Picture of Elephant, Rhino, Rhinoceros, Picture of Rhino, Zebra, Zebras, Picture of Zebra\n",
    "\n",
    "# dict_size(dict_12)\n",
    "# print(aOcheck_accuracy(\"animal4/AO12.csv\", dict_12))\n"
   ]
  },
  {
   "cell_type": "code",
   "execution_count": 17,
   "metadata": {},
   "outputs": [],
   "source": [
    "dict_16 = {\n",
    "    \"Buffalo\": [\"Buffalo\", \"Buffaloes\", \"Picture of Buffalo\", \"Image of Buffalo\"],\n",
    "    \"Elephant\": [\"Elephant\", \"Elephants\", \"Picture of Elephant\", \"Image of Elephant\"],\n",
    "    \"Rhino\": [\"Rhino\", \"Rhinoceros\", \"Picture of Rhino\", \"Image of Rhino\"],\n",
    "    \"Zebra\": [\"Zebra\", \"Zebras\", \"Picture of Zebra\", \"Image of Zebra\"],\n",
    "}\n",
    "\n",
    "# Buffalo, Buffaloes, Picture of Buffalo, Image of Buffalo, Elephant, Elephants, Picture of Elephant, Image of Elephant, Rhino, Rhinoceros, Picture of Rhino, Image of Rhino, Zebra, Zebras, Picture of Zebra, Image of Zebra\n",
    "\n",
    "# dict_size(dict_16)\n",
    "# print(aOcheck_accuracy(\"animal4/AO16.csv\", dict_16))\n"
   ]
  },
  {
   "cell_type": "code",
   "execution_count": 18,
   "metadata": {},
   "outputs": [],
   "source": [
    "dict_20 = {\n",
    "    \"Buffalo\": [\"Buffalo\", \"Buffaloes\", \"Picture of Buffalo\", \"Image of Buffalo\", \"Wild Buffalo\"],\n",
    "    \"Elephant\": [\"Elephant\", \"Elephants\", \"Picture of Elephant\", \"Image of Elephant\", \"Wild Elephant\"],\n",
    "    \"Rhino\": [\"Rhino\", \"Rhinoceros\", \"Picture of Rhino\", \"Image of Rhino\", \"Wild Rhino\"],\n",
    "    \"Zebra\": [\"Zebra\", \"Zebras\", \"Picture of Zebra\", \"Image of Zebra\", \"Wild Zebra\"],\n",
    "}\n",
    "\n",
    "# Buffalo, Buffaloes, Picture of Buffalo, Image of Buffalo, Wild Buffalo, Elephant, Elephants, Picture of Elephant, Image of Elephant, Wild Elephant, Rhino, Rhinoceros, Picture of Rhino, Image of Rhino, Wild Rhino, Zebra, Zebras, Picture of Zebra, Image of Zebra, Wild Zebra\n",
    "\n",
    "# dict_size(dict_20)\n",
    "# print(aOcheck_accuracy(\"animal4/AO20.csv\", dict_20))\n"
   ]
  },
  {
   "cell_type": "code",
   "execution_count": 19,
   "metadata": {},
   "outputs": [],
   "source": [
    "dict_24 = {\n",
    "    \"Buffalo\": [\"Buffalo\", \"Buffaloes\", \"Picture of Buffalo\", \"Image of Buffalo\", \"Wild Buffalo\", \"Buffalo Herd\"],\n",
    "    \"Elephant\": [\"Elephant\", \"Elephants\", \"Picture of Elephant\", \"Image of Elephant\", \"Wild Elephant\", \"Elephant Herd\"],\n",
    "    \"Rhino\": [\"Rhino\", \"Rhinoceros\", \"Picture of Rhino\", \"Image of Rhino\", \"Wild Rhino\", \"Rhino Herd\"],\n",
    "    \"Zebra\": [\"Zebra\", \"Zebras\", \"Picture of Zebra\", \"Image of Zebra\", \"Wild Zebra\", \"Zebra Herd\"],\n",
    "}\n",
    "\n",
    "# Buffalo, Buffaloes, Picture of Buffalo, Image of Buffalo, Wild Buffalo, Buffalo Herd, Elephant, Elephants, Picture of Elephant, Image of Elephant, Wild Elephant, Elephant Herd, Rhino, Rhinoceros, Picture of Rhino, Image of Rhino, Wild Rhino, Rhino Herd, Zebra, Zebras, Picture of Zebra, Image of Zebra, Wild Zebra, Zebra Herd\n",
    "\n",
    "# dict_size(dict_24)\n",
    "# print(aOcheck_accuracy(\"animal4/AO24.csv\", dict_24))\n"
   ]
  },
  {
   "cell_type": "code",
   "execution_count": 20,
   "metadata": {},
   "outputs": [],
   "source": [
    "dict_32 = {\n",
    "    \"Buffalo\": [\"Buffalo\", \"Buffaloes\", \"Picture of Buffalo\", \"Image of Buffalo\", \"Wild Buffalo\", \"Buffalo Herd\", \"African Buffalo\", \"Buffalo in the Wild\"],\n",
    "    \"Elephant\": [\"Elephant\", \"Elephants\", \"Picture of Elephant\", \"Image of Elephant\", \"Wild Elephant\", \"Elephant Herd\", \"African Elephant\", \"Elephant in the Wild\"],\n",
    "    \"Rhino\": [\"Rhino\", \"Rhinoceros\", \"Picture of Rhino\", \"Image of Rhino\", \"Wild Rhino\", \"Rhino Herd\", \"African Rhino\", \"Rhino in the Wild\"],\n",
    "    \"Zebra\": [\"Zebra\", \"Zebras\", \"Picture of Zebra\", \"Image of Zebra\", \"Wild Zebra\", \"Zebra Herd\", \"African Zebra\", \"Zebra in the Wild\"],\n",
    "}\n",
    "\n",
    "# Buffalo, Buffaloes, Picture of Buffalo, Image of Buffalo, Wild Buffalo, Buffalo Herd, African Buffalo, Buffalo in the Wild, Elephant, Elephants, Picture of Elephant, Image of Elephant, Wild Elephant, Elephant Herd, African Elephant, Elephant in the Wild, Rhino, Rhinoceros, Picture of Rhino, Image of Rhino, Wild Rhino, Rhino Herd, African Rhino, Rhino in the Wild, Zebra, Zebras, Picture of Zebra, Image of Zebra, Wild Zebra, Zebra Herd, African Zebra, Zebra in the Wild\n",
    "\n",
    "# dict_size(dict_32)\n",
    "# print(aOcheck_accuracy(\"animal4/AO32.csv\", dict_32))\n"
   ]
  },
  {
   "cell_type": "code",
   "execution_count": 21,
   "metadata": {},
   "outputs": [],
   "source": [
    "dict_36 = {\n",
    "    \"Buffalo\": [\"Buffalo\", \"Buffaloes\", \"Picture of Buffalo\", \"Image of Buffalo\", \"Wild Buffalo\", \"Buffalo Herd\", \"African Buffalo\", \"Buffalo in the Wild\", \"Large Buffalo\"],\n",
    "    \"Elephant\": [\"Elephant\", \"Elephants\", \"Picture of Elephant\", \"Image of Elephant\", \"Wild Elephant\", \"Elephant Herd\", \"African Elephant\", \"Elephant in the Wild\", \"Large Elephant\"],\n",
    "    \"Rhino\": [\"Rhino\", \"Rhinoceros\", \"Picture of Rhino\", \"Image of Rhino\", \"Wild Rhino\", \"Rhino Herd\", \"African Rhino\", \"Rhino in the Wild\", \"Large Rhino\"],\n",
    "    \"Zebra\": [\"Zebra\", \"Zebras\", \"Picture of Zebra\", \"Image of Zebra\", \"Wild Zebra\", \"Zebra Herd\", \"African Zebra\", \"Zebra in the Wild\", \"Large Zebra\"],\n",
    "}\n",
    "\n",
    "# Buffalo, Buffaloes, Picture of Buffalo, Image of Buffalo, Wild Buffalo, Buffalo Herd, African Buffalo, Buffalo in the Wild, Large Buffalo, Elephant, Elephants, Picture of Elephant, Image of Elephant, Wild Elephant, Elephant Herd, African Elephant, Elephant in the Wild, Large Elephant, Rhino, Rhinoceros, Picture of Rhino, Image of Rhino, Wild Rhino, Rhino Herd, African Rhino, Rhino in the Wild, Large Rhino, Zebra, Zebras, Picture of Zebra, Image of Zebra, Wild Zebra, Zebra Herd, African Zebra, Zebra in the Wild, Large Zebra\n",
    "\n",
    "# dict_size(dict_36)\n",
    "# print(aOcheck_accuracy(\"animal4/AO36.csv\", dict_36))\n"
   ]
  },
  {
   "cell_type": "code",
   "execution_count": 22,
   "metadata": {},
   "outputs": [],
   "source": [
    "dict_40 = {\n",
    "    \"Buffalo\": [\"Buffalo\", \"Buffaloes\", \"Picture of Buffalo\", \"Image of Buffalo\", \"Wild Buffalo\", \"Buffalo Herd\", \"African Buffalo\", \"Buffalo in the Wild\", \"Large Buffalo\", \"Buffalo Plains\"],\n",
    "    \"Elephant\": [\"Elephant\", \"Elephants\", \"Picture of Elephant\", \"Image of Elephant\", \"Wild Elephant\", \"Elephant Herd\", \"African Elephant\", \"Elephant in the Wild\", \"Large Elephant\", \"Elephant Plains\"],\n",
    "    \"Rhino\": [\"Rhino\", \"Rhinoceros\", \"Picture of Rhino\", \"Image of Rhino\", \"Wild Rhino\", \"Rhino Herd\", \"African Rhino\", \"Rhino in the Wild\", \"Large Rhino\", \"Rhino Plains\"],\n",
    "    \"Zebra\": [\"Zebra\", \"Zebras\", \"Picture of Zebra\", \"Image of Zebra\", \"Wild Zebra\", \"Zebra Herd\", \"African Zebra\", \"Zebra in the Wild\", \"Large Zebra\", \"Zebra Plains\"],\n",
    "}\n",
    "\n",
    "# Buffalo, Buffaloes, Picture of Buffalo, Image of Buffalo, Wild Buffalo, Buffalo Herd, African Buffalo, Buffalo in the Wild, Large Buffalo, Buffalo Plains, Elephant, Elephants, Picture of Elephant, Image of Elephant, Wild Elephant, Elephant Herd, African Elephant, Elephant in the Wild, Large Elephant, Elephant Plains, Rhino, Rhinoceros, Picture of Rhino, Image of Rhino, Wild Rhino, Rhino Herd, African Rhino, Rhino in the Wild, Large Rhino, Rhino Plains, Zebra, Zebras, Picture of Zebra, Image of Zebra, Wild Zebra, Zebra Herd, African Zebra, Zebra in the Wild, Large Zebra, Zebra Plains\n",
    "\n",
    "# dict_size(dict_40)\n",
    "# print(aOcheck_accuracy(\"animal4/AO40.csv\", dict_40))\n"
   ]
  },
  {
   "cell_type": "code",
   "execution_count": 23,
   "metadata": {},
   "outputs": [],
   "source": [
    "dict_44 = {#problem\n",
    "    \"Buffalo\": [\"Buffalo\", \"Buffaloes\", \"Picture of Buffalo\", \"Image of Buffalo\", \"Wild Buffalo\", \"Buffalo Herd\", \"African Buffalo\", \"Buffalo in the Wild\", \"Large Buffalo\", \"Buffalo Plains\", \"Moving Buffalo\"],\n",
    "    \"Elephant\": [\"Elephant\", \"Elephants\", \"Picture of Elephant\", \"Image of Elephant\", \"Wild Elephant\", \"Elephant Herd\", \"African Elephant\", \"Elephant in the Wild\", \"Large Elephant\", \"Elephant Plains\", \"Moving Elephant\"],\n",
    "    \"Rhino\": [\"Rhino\", \"Rhinoceros\", \"Picture of Rhino\", \"Image of Rhino\", \"Wild Rhino\", \"Rhino Herd\", \"African Rhino\", \"Rhino in the Wild\", \"Large Rhino\", \"Rhino Plains\", \"Moving Rhino\"],\n",
    "    \"Zebra\": [\"Zebra\", \"Zebras\", \"Picture of Zebra\", \"Image of Zebra\", \"Wild Zebra\", \"Zebra Herd\", \"African Zebra\", \"Zebra in the Wild\", \"Large Zebra\", \"Zebra Plains\", \"Moving Zebra\"],\n",
    "}\n",
    "\n",
    "# Buffalo, Buffaloes, Picture of Buffalo, Image of Buffalo, Wild Buffalo, Buffalo Herd, African Buffalo, Buffalo in the Wild, Large Buffalo, Buffalo Plains, Moving Buffalo, Elephant, Elephants, Picture of Elephant, Image of Elephant, Wild Elephant, Elephant Herd, African Elephant, Elephant in the Wild, Large Elephant, Elephant Plains, Moving Elephant, Rhino, Rhinoceros, Picture of Rhino, Image of Rhino, Wild Rhino, Rhino Herd, African Rhino, Rhino in the Wild, Large Rhino, Rhino Plains, Moving Rhino, Zebra, Zebras, Picture of Zebra, Image of Zebra, Wild Zebra, Zebra Herd, African Zebra, Zebra in the Wild, Large Zebra, Zebra Plains, Moving Zebra\n",
    "\n",
    "# dict_size(dict_44)\n",
    "# print(aOcheck_accuracy(\"animal4/AO44.csv\", dict_44))\n"
   ]
  },
  {
   "cell_type": "code",
   "execution_count": 24,
   "metadata": {},
   "outputs": [],
   "source": [
    "dict_48 = {\n",
    "    \"Buffalo\": [\"Buffalo\", \"Buffaloes\", \"Picture of Buffalo\", \"Image of Buffalo\", \"Wild Buffalo\", \"Buffalo Herd\", \"African Buffalo\", \"Buffalo in the Wild\", \"Large Buffalo\", \"Buffalo Plains\", \"Moving Buffalo\", \"American Buffalo\"],\n",
    "    \"Elephant\": [\"Elephant\", \"Elephants\", \"Picture of Elephant\", \"Image of Elephant\", \"Wild Elephant\", \"Elephant Herd\", \"African Elephant\", \"Elephant in the Wild\", \"Large Elephant\", \"Elephant Plains\", \"Moving Elephant\", \"Asian Elephant\"],\n",
    "    \"Rhino\": [\"Rhino\", \"Rhinoceros\", \"Picture of Rhino\", \"Image of Rhino\", \"Wild Rhino\", \"Rhino Herd\", \"African Rhino\", \"Rhino in the Wild\", \"Large Rhino\", \"Rhino Plains\", \"Moving Rhino\", \"Black Rhino\"],\n",
    "    \"Zebra\": [\"Zebra\", \"Zebras\", \"Picture of Zebra\", \"Image of Zebra\", \"Wild Zebra\", \"Zebra Herd\", \"African Zebra\", \"Zebra in the Wild\", \"Large Zebra\", \"Zebra Plains\", \"Moving Zebra\", \"Wild Plains Zebra\"],\n",
    "}\n",
    "\n",
    "# Buffalo, Buffaloes, Picture of Buffalo, Image of Buffalo, Wild Buffalo, Buffalo Herd, African Buffalo, Buffalo in the Wild, Large Buffalo, Buffalo Plains, Moving Buffalo, American Buffalo, Elephant, Elephants, Picture of Elephant, Image of Elephant, Wild Elephant, Elephant Herd, African Elephant, Elephant in the Wild, Large Elephant, Elephant Plains, Moving Elephant, Asian Elephant, Rhino, Rhinoceros, Picture of Rhino, Image of Rhino, Wild Rhino, Rhino Herd, African Rhino, Rhino in the Wild, Large Rhino, Rhino Plains, Moving Rhino, Black Rhino, Zebra, Zebras, Picture of Zebra, Image of Zebra, Wild Zebra, Zebra Herd, African Zebra, Zebra in the Wild, Large Zebra, Zebra Plains, Moving Zebra, Wild Plains Zebra\n",
    "\n",
    "# dict_size(dict_48)\n",
    "# print(aOcheck_accuracy(\"animal4/AO48.csv\", dict_48))\n"
   ]
  },
  {
   "cell_type": "code",
   "execution_count": 25,
   "metadata": {},
   "outputs": [],
   "source": [
    "dict_52 = {\n",
    "    \"Buffalo\": [\"Buffalo\", \"Buffaloes\", \"Picture of Buffalo\", \"Image of Buffalo\", \"Wild Buffalo\", \"Buffalo Herd\", \"African Buffalo\", \"Buffalo in the Wild\", \"Large Buffalo\", \"Buffalo Plains\", \"Moving Buffalo\", \"American Buffalo\", \"Buffalo in Herds\"],\n",
    "    \"Elephant\": [\"Elephant\", \"Elephants\", \"Picture of Elephant\", \"Image of Elephant\", \"Wild Elephant\", \"Elephant Herd\", \"African Elephant\", \"Elephant in the Wild\", \"Large Elephant\", \"Elephant Plains\", \"Moving Elephant\", \"Asian Elephant\", \"Elephant in Herds\"],\n",
    "    \"Rhino\": [\"Rhino\", \"Rhinoceros\", \"Picture of Rhino\", \"Image of Rhino\", \"Wild Rhino\", \"Rhino Herd\", \"African Rhino\", \"Rhino in the Wild\", \"Large Rhino\", \"Rhino Plains\", \"Moving Rhino\", \"Black Rhino\", \"Rhino in Herds\"],\n",
    "    \"Zebra\": [\"Zebra\", \"Zebras\", \"Picture of Zebra\", \"Image of Zebra\", \"Wild Zebra\", \"Zebra Herd\", \"African Zebra\", \"Zebra in the Wild\", \"Large Zebra\", \"Zebra Plains\", \"Moving Zebra\", \"Wild Plains Zebra\", \"Zebra in Herds\"],\n",
    "}\n",
    "\n",
    "# Buffalo, Buffaloes, Picture of Buffalo, Image of Buffalo, Wild Buffalo, Buffalo Herd, African Buffalo, Buffalo in the Wild, Large Buffalo, Buffalo Plains, Moving Buffalo, American Buffalo, Buffalo in Herds, Elephant, Elephants, Picture of Elephant, Image of Elephant, Wild Elephant, Elephant Herd, African Elephant, Elephant in the Wild, Large Elephant, Elephant Plains, Moving Elephant, Asian Elephant, Elephant in Herds, Rhino, Rhinoceros, Picture of Rhino, Image of Rhino, Wild Rhino, Rhino Herd, African Rhino, Rhino in the Wild, Large Rhino, Rhino Plains, Moving Rhino, Black Rhino, Rhino in Herds, Zebra, Zebras, Picture of Zebra, Image of Zebra, Wild Zebra, Zebra Herd, African Zebra, Zebra in the Wild, Large Zebra, Zebra Plains, Moving Zebra, Wild Plains Zebra, Zebra in Herds\n",
    "\n",
    "# dict_size(dict_52)\n",
    "# print(aOcheck_accuracy(\"animal4/AO52.csv\", dict_52))\n"
   ]
  },
  {
   "cell_type": "code",
   "execution_count": 26,
   "metadata": {},
   "outputs": [],
   "source": [
    "dict_56 = {\n",
    "    \"Buffalo\": [\n",
    "        \"Buffalo\", \"Buffaloes\", \"Picture of Buffalo\", \"Image of Buffalo\", \"Wild Buffalo\", \"Buffalo Herd\",\n",
    "        \"African Buffalo\", \"Buffalo in the Wild\", \"Large Buffalo\", \"Buffalo Plains\", \"Moving Buffalo\",\n",
    "        \"American Buffalo\", \"Buffalo in Herds\", \"Savannah Buffalo\"\n",
    "    ],\n",
    "    \"Elephant\": [\n",
    "        \"Elephant\", \"Elephants\", \"Picture of Elephant\", \"Image of Elephant\", \"Wild Elephant\", \"Elephant Herd\",\n",
    "        \"African Elephant\", \"Elephant in the Wild\", \"Large Elephant\", \"Elephant Plains\", \"Moving Elephant\",\n",
    "        \"Asian Elephant\", \"Elephant in Herds\", \"Savannah Elephant\"\n",
    "    ],\n",
    "    \"Rhino\": [\n",
    "        \"Rhino\", \"Rhinoceros\", \"Picture of Rhino\", \"Image of Rhino\", \"Wild Rhino\", \"Rhino Herd\",\n",
    "        \"African Rhino\", \"Rhino in the Wild\", \"Large Rhino\", \"Rhino Plains\", \"Moving Rhino\",\n",
    "        \"Black Rhino\", \"Rhino in Herds\", \"Savannah Rhino\"\n",
    "    ],\n",
    "    \"Zebra\": [\n",
    "        \"Zebra\", \"Zebras\", \"Picture of Zebra\", \"Image of Zebra\", \"Wild Zebra\", \"Zebra Herd\",\n",
    "        \"African Zebra\", \"Zebra in the Wild\", \"Large Zebra\", \"Zebra Plains\", \"Moving Zebra\",\n",
    "        \"Wild Plains Zebra\", \"Zebra in Herds\", \"Savannah Zebra\"\n",
    "    ],\n",
    "}\n",
    "\n",
    "# Buffalo, Buffaloes, Picture of Buffalo, Image of Buffalo, Wild Buffalo, Buffalo Herd, African Buffalo, Buffalo in the Wild, Large Buffalo, Buffalo Plains, Moving Buffalo, American Buffalo, Buffalo in Herds, Savannah Buffalo, Elephant, Elephants, Picture of Elephant, Image of Elephant, Wild Elephant, Elephant Herd, African Elephant, Elephant in the Wild, Large Elephant, Elephant Plains, Moving Elephant, Asian Elephant, Elephant in Herds, Savannah Elephant, Rhino, Rhinoceros, Picture of Rhino, Image of Rhino, Wild Rhino, Rhino Herd, African Rhino, Rhino in the Wild, Large Rhino, Rhino Plains, Moving Rhino, Black Rhino, Rhino in Herds, Savannah Rhino, Zebra, Zebras, Picture of Zebra, Image of Zebra, Wild Zebra, Zebra Herd, African Zebra, Zebra in the Wild, Large Zebra, Zebra Plains, Moving Zebra, Wild Plains Zebra, Zebra in Herds, Savannah Zebra\n",
    "\n",
    "# dict_size(dict_56)\n",
    "# print(aOcheck_accuracy(\"animal4/AO56.csv\", dict_56))\n"
   ]
  },
  {
   "cell_type": "code",
   "execution_count": 27,
   "metadata": {},
   "outputs": [],
   "source": [
    "dict_60 = {\n",
    "    \"Buffalo\": [\n",
    "        \"Buffalo\", \"Buffaloes\", \"Picture of Buffalo\", \"Image of Buffalo\", \"Wild Buffalo\", \"Buffalo Herd\",\n",
    "        \"African Buffalo\", \"Buffalo in the Wild\", \"Large Buffalo\", \"Buffalo Plains\", \"Moving Buffalo\",\n",
    "        \"American Buffalo\", \"Buffalo in Herds\", \"Savannah Buffalo\", \"Horned Buffalo\"\n",
    "    ],\n",
    "    \"Elephant\": [\n",
    "        \"Elephant\", \"Elephants\", \"Picture of Elephant\", \"Image of Elephant\", \"Wild Elephant\", \"Elephant Herd\",\n",
    "        \"African Elephant\", \"Elephant in the Wild\", \"Large Elephant\", \"Elephant Plains\", \"Moving Elephant\",\n",
    "        \"Asian Elephant\", \"Elephant in Herds\", \"Savannah Elephant\", \"Tusker Elephant\"\n",
    "    ],\n",
    "    \"Rhino\": [\n",
    "        \"Rhino\", \"Rhinoceros\", \"Picture of Rhino\", \"Image of Rhino\", \"Wild Rhino\", \"Rhino Herd\",\n",
    "        \"African Rhino\", \"Rhino in the Wild\", \"Large Rhino\", \"Rhino Plains\", \"Moving Rhino\",\n",
    "        \"Black Rhino\", \"Rhino in Herds\", \"Savannah Rhino\", \"Horned Rhino\"\n",
    "    ],\n",
    "    \"Zebra\": [\n",
    "        \"Zebra\", \"Zebras\", \"Picture of Zebra\", \"Image of Zebra\", \"Wild Zebra\", \"Zebra Herd\",\n",
    "        \"African Zebra\", \"Zebra in the Wild\", \"Large Zebra\", \"Zebra Plains\", \"Moving Zebra\",\n",
    "        \"Wild Plains Zebra\", \"Zebra in Herds\", \"Savannah Zebra\", \"Mountain Zebra\"\n",
    "    ],\n",
    "}\n",
    "\n",
    "# Buffalo, Buffaloes, Picture of Buffalo, Image of Buffalo, Wild Buffalo, Buffalo Herd, African Buffalo, Buffalo in the Wild, Large Buffalo, Buffalo Plains, Moving Buffalo, American Buffalo, Buffalo in Herds, Savannah Buffalo, Horned Buffalo, Elephant, Elephants, Picture of Elephant, Image of Elephant, Wild Elephant, Elephant Herd, African Elephant, Elephant in the Wild, Large Elephant, Elephant Plains, Moving Elephant, Asian Elephant, Elephant in Herds, Savannah Elephant, Tusker Elephant, Rhino, Rhinoceros, Picture of Rhino, Image of Rhino, Wild Rhino, Rhino Herd, African Rhino, Rhino in the Wild, Large Rhino, Rhino Plains, Moving Rhino, Black Rhino, Rhino in Herds, Savannah Rhino, Horned Rhino, Zebra, Zebras, Picture of Zebra, Image of Zebra, Wild Zebra, Zebra Herd, African Zebra, Zebra in the Wild, Large Zebra, Zebra Plains, Moving Zebra, Wild Plains Zebra, Zebra in Herds, Savannah Zebra, Mountain Zebra\n",
    "\n",
    "# dict_size(dict_60)\n",
    "# print(aOcheck_accuracy(\"animal4/AO60.csv\", dict_60))\n"
   ]
  },
  {
   "cell_type": "markdown",
   "metadata": {},
   "source": [
    "## CatDog"
   ]
  },
  {
   "cell_type": "code",
   "execution_count": 28,
   "metadata": {},
   "outputs": [],
   "source": [
    "CDdict2 = {\n",
    "        'cat': ['cat'],\n",
    "        'dog': ['dog']\n",
    "    }\n"
   ]
  },
  {
   "cell_type": "code",
   "execution_count": 29,
   "metadata": {},
   "outputs": [],
   "source": [
    "CDdict4 = { \n",
    "    'cat': ['cat', 'picture of cat'],\n",
    "    'dog': ['dog', 'picture of dog']\n",
    "}"
   ]
  },
  {
   "cell_type": "code",
   "execution_count": 30,
   "metadata": {},
   "outputs": [],
   "source": [
    "CDdict6 = { \n",
    "    'cat': ['cat', 'picture of cat', 'cats'],\n",
    "    'dog': ['dog', 'picture of dog', 'dogs']\n",
    "}\n"
   ]
  },
  {
   "cell_type": "code",
   "execution_count": 31,
   "metadata": {},
   "outputs": [],
   "source": [
    "CDdict8 = { \n",
    "    'cat': ['cat', 'picture of cat', 'cats', 'image of cats'],\n",
    "    'dog': ['dog', 'picture of dog', 'dogs', 'image of dogs']\n",
    "}\n"
   ]
  },
  {
   "cell_type": "code",
   "execution_count": 32,
   "metadata": {},
   "outputs": [],
   "source": [
    "CDdict10 = { \n",
    "    'cat': ['cat', 'picture of cat', 'cats', 'image of cats', 'moving cat'],\n",
    "    'dog': ['dog', 'picture of dog', 'dogs', 'image of dogs', 'moving dog']\n",
    "}"
   ]
  },
  {
   "cell_type": "code",
   "execution_count": 33,
   "metadata": {},
   "outputs": [],
   "source": [
    "CDdict12 = { \n",
    "    'cat': ['cat', 'picture of cat', 'cats', 'image of cats', 'moving cat', 'cat picture'],\n",
    "    'dog': ['dog', 'picture of dog', 'dogs', 'image of dogs', 'moving dog', 'dog picture']\n",
    "}"
   ]
  },
  {
   "cell_type": "code",
   "execution_count": 34,
   "metadata": {},
   "outputs": [],
   "source": [
    "CDdict14 = { \n",
    "    'cat': ['cat', 'picture of cat', 'cats', 'image of cats', 'moving cat', 'cat picture', 'cat image'],\n",
    "    'dog': ['dog', 'picture of dog', 'dogs', 'image of dogs', 'moving dog', 'dog picture', 'dog image']\n",
    "}\n"
   ]
  },
  {
   "cell_type": "code",
   "execution_count": 35,
   "metadata": {},
   "outputs": [],
   "source": [
    "CDdict16 = { \n",
    "    'cat': ['cat', 'picture of cat', 'cats', 'image of cats', 'moving cat', 'cat picture', 'cat image', 'cool cat'],\n",
    "    'dog': ['dog', 'picture of dog', 'dogs', 'image of dogs', 'moving dog', 'dog picture', 'dog image', 'cool dog']\n",
    "}\n"
   ]
  },
  {
   "cell_type": "code",
   "execution_count": 36,
   "metadata": {},
   "outputs": [],
   "source": [
    "CDdict18 = { \n",
    "    'cat': ['cat', 'picture of cat', 'cats', 'image of cats', 'moving cat', 'cat picture', 'cat image', 'cool cat', 'sitting cat'],\n",
    "    'dog': ['dog', 'picture of dog', 'dogs', 'image of dogs', 'moving dog', 'dog picture', 'dog image', 'cool dog', 'sitting dog']\n",
    "}\n"
   ]
  },
  {
   "cell_type": "code",
   "execution_count": 37,
   "metadata": {},
   "outputs": [],
   "source": [
    "CDdict20 = { \n",
    "    'cat': ['cat', 'picture of cat', 'cats', 'image of cats', 'moving cat', 'cat picture', 'cat image', 'cool cat', 'sitting cat', 'nice cat'],\n",
    "    'dog': ['dog', 'picture of dog', 'dogs', 'image of dogs', 'moving dog', 'dog picture', 'dog image', 'cool dog', 'sitting dog', 'nice dog']\n",
    "}"
   ]
  },
  {
   "cell_type": "code",
   "execution_count": 38,
   "metadata": {},
   "outputs": [],
   "source": [
    "CDdict22 = { \n",
    "    'cat': ['cat', 'picture of cat', 'cats', 'image of cats', 'moving cat', 'cat picture', 'cat image', 'cool cat', 'sitting cat', 'nice cat', 'image of nice cat'],\n",
    "    'dog': ['dog', 'picture of dog', 'dogs', 'image of dogs', 'moving dog', 'dog picture', 'dog image', 'cool dog', 'sitting dog', 'nice dog', 'image of nice dog']\n",
    "}"
   ]
  },
  {
   "cell_type": "code",
   "execution_count": 39,
   "metadata": {},
   "outputs": [],
   "source": [
    "CDdict24 = { \n",
    "    'cat': ['cat', 'picture of cat', 'cats', 'image of cats', 'moving cat', 'cat picture', 'cat image', 'cool cat', 'sitting cat', 'nice cat', 'image of nice cat', 'image of cool cat'],\n",
    "    'dog': ['dog', 'picture of dog', 'dogs', 'image of dogs', 'moving dog', 'dog picture', 'dog image', 'cool dog', 'sitting dog', 'nice dog', 'image of nice dog', 'image of cool dog']\n",
    "}\n"
   ]
  },
  {
   "cell_type": "code",
   "execution_count": 40,
   "metadata": {},
   "outputs": [],
   "source": [
    "CDdict26 = { \n",
    "    'cat': [\n",
    "        'cat', 'picture of cat', 'cats', 'image of cats', 'moving cat', 'cat picture', 'cat image',\n",
    "        'cool cat', 'sitting cat', 'nice cat', 'image of nice cat', 'image of cool cat', 'image of cat'\n",
    "    ],\n",
    "    'dog': [\n",
    "        'dog', 'picture of dog', 'dogs', 'image of dogs', 'moving dog', 'dog picture', 'dog image',\n",
    "        'cool dog', 'sitting dog', 'nice dog', 'image of nice dog', 'image of cool dog', 'image of dog'\n",
    "    ]\n",
    "}"
   ]
  },
  {
   "cell_type": "code",
   "execution_count": 41,
   "metadata": {},
   "outputs": [],
   "source": [
    "CDdict28 = { \n",
    "    'cat': [\n",
    "        'cat', 'picture of cat', 'cats', 'image of cats', 'moving cat', 'cat picture', 'cat image',\n",
    "        'cool cat', 'sitting cat', 'nice cat', 'image of nice cat', 'image of cool cat', 'image of cat', 'picture of cats'\n",
    "    ],\n",
    "    'dog': [\n",
    "        'dog', 'picture of dog', 'dogs', 'image of dogs', 'moving dog', 'dog picture', 'dog image',\n",
    "        'cool dog', 'sitting dog', 'nice dog', 'image of nice dog', 'image of cool dog', 'image of dog', 'picture of dogs'\n",
    "    ]\n",
    "}"
   ]
  },
  {
   "cell_type": "code",
   "execution_count": 42,
   "metadata": {},
   "outputs": [],
   "source": [
    "CDdict30 = { \n",
    "    'cat': [\n",
    "        'cat', 'picture of cat', 'cats', 'image of cats', 'moving cat', 'cat picture', 'cat image',\n",
    "        'cool cat', 'sitting cat', 'nice cat', 'image of nice cat', 'image of cool cat', 'image of cat',\n",
    "        'picture of cats', 'moving picture of cat'\n",
    "    ],\n",
    "    'dog': [\n",
    "        'dog', 'picture of dog', 'dogs', 'image of dogs', 'moving dog', 'dog picture', 'dog image',\n",
    "        'cool dog', 'sitting dog', 'nice dog', 'image of nice dog', 'image of cool dog', 'image of dog',\n",
    "        'picture of dogs', 'moving picture of dog'\n",
    "    ]\n",
    "}\n"
   ]
  },
  {
   "cell_type": "code",
   "execution_count": 43,
   "metadata": {},
   "outputs": [],
   "source": [
    "CDdict32 = { \n",
    "    'cat': [\n",
    "        'cat', 'picture of cat', 'cats', 'image of cats', 'moving cat', 'cat picture', 'cat image',\n",
    "        'cool cat', 'sitting cat', 'nice cat', 'image of nice cat', 'image of cool cat', 'image of cat',\n",
    "        'picture of cats', 'moving picture of cat', 'cool picture of cat'\n",
    "    ],\n",
    "    'dog': [\n",
    "        'dog', 'picture of dog', 'dogs', 'image of dogs', 'moving dog', 'dog picture', 'dog image',\n",
    "        'cool dog', 'sitting dog', 'nice dog', 'image of nice dog', 'image of cool dog', 'image of dog',\n",
    "        'picture of dogs', 'moving picture of dog', 'cool picture of dog'\n",
    "    ]\n",
    "}\n"
   ]
  },
  {
   "cell_type": "code",
   "execution_count": 44,
   "metadata": {},
   "outputs": [],
   "source": [
    "CDdict36 = { \n",
    "    'cat': [\n",
    "        'cat', 'picture of cat', 'cats', 'image of cats', 'moving cat', 'cat picture', 'cat image',\n",
    "        'cool cat', 'sitting cat', 'nice cat', 'image of nice cat', 'image of cool cat', 'image of cat',\n",
    "        'picture of cats', 'moving picture of cat', 'cool picture of cat',\n",
    "        'funny cat', 'funny image of cat'\n",
    "    ],\n",
    "    'dog': [\n",
    "        'dog', 'picture of dog', 'dogs', 'image of dogs', 'moving dog', 'dog picture', 'dog image',\n",
    "        'cool dog', 'sitting dog', 'nice dog', 'image of nice dog', 'image of cool dog', 'image of dog',\n",
    "        'picture of dogs', 'moving picture of dog', 'cool picture of dog',\n",
    "        'funny dog', 'funny image of dog'\n",
    "    ]\n",
    "}"
   ]
  },
  {
   "cell_type": "code",
   "execution_count": 45,
   "metadata": {},
   "outputs": [],
   "source": [
    "CDdict38 = { \n",
    "    'cat': [\n",
    "        'cat', 'picture of cat', 'cats', 'image of cats', 'moving cat', 'cat picture', 'cat image',\n",
    "        'cool cat', 'sitting cat', 'nice cat', 'image of nice cat', 'image of cool cat', 'image of cat',\n",
    "        'picture of cats', 'moving picture of cat', 'cool picture of cat',\n",
    "        'funny cat', 'funny image of cat', 'funny picture of cat'\n",
    "    ],\n",
    "    'dog': [\n",
    "        'dog', 'picture of dog', 'dogs', 'image of dogs', 'moving dog', 'dog picture', 'dog image',\n",
    "        'cool dog', 'sitting dog', 'nice dog', 'image of nice dog', 'image of cool dog', 'image of dog',\n",
    "        'picture of dogs', 'moving picture of dog', 'cool picture of dog',\n",
    "        'funny dog', 'funny image of dog', 'funny picture of dog'\n",
    "    ]\n",
    "}"
   ]
  },
  {
   "cell_type": "code",
   "execution_count": 46,
   "metadata": {},
   "outputs": [],
   "source": [
    "CDdict42 = { \n",
    "    'cat': [\n",
    "        'cat', 'picture of cat', 'cats', 'image of cats', 'moving cat', 'cat picture', 'cat image',\n",
    "        'cool cat', 'sitting cat', 'nice cat', 'image of nice cat', 'image of cool cat', 'image of cat',\n",
    "        'picture of cats', 'moving picture of cat', 'cool picture of cat',\n",
    "        'funny cat', 'funny image of cat', 'funny picture of cat',\n",
    "        'cute cat', 'cute image of cat'\n",
    "    ],\n",
    "    'dog': [\n",
    "        'dog', 'picture of dog', 'dogs', 'image of dogs', 'moving dog', 'dog picture', 'dog image',\n",
    "        'cool dog', 'sitting dog', 'nice dog', 'image of nice dog', 'image of cool dog', 'image of dog',\n",
    "        'picture of dogs', 'moving picture of dog', 'cool picture of dog',\n",
    "        'funny dog', 'funny image of dog', 'funny picture of dog',\n",
    "        'cute dog', 'cute image of dog'\n",
    "    ]\n",
    "}\n"
   ]
  },
  {
   "cell_type": "code",
   "execution_count": 47,
   "metadata": {},
   "outputs": [],
   "source": [
    "CDdict44 = { \n",
    "    'cat': [\n",
    "        'cat', 'picture of cat', 'cats', 'image of cats', 'moving cat', 'cat picture', 'cat image',\n",
    "        'cool cat', 'sitting cat', 'nice cat', 'image of nice cat', 'image of cool cat', 'image of cat',\n",
    "        'picture of cats', 'moving picture of cat', 'cool picture of cat',\n",
    "        'funny cat', 'funny image of cat', 'funny picture of cat',\n",
    "        'cute cat', 'cute image of cat', 'cute picture of cat'\n",
    "    ],\n",
    "    'dog': [\n",
    "        'dog', 'picture of dog', 'dogs', 'image of dogs', 'moving dog', 'dog picture', 'dog image',\n",
    "        'cool dog', 'sitting dog', 'nice dog', 'image of nice dog', 'image of cool dog', 'image of dog',\n",
    "        'picture of dogs', 'moving picture of dog', 'cool picture of dog',\n",
    "        'funny dog', 'funny image of dog', 'funny picture of dog',\n",
    "        'cute dog', 'cute image of dog', 'cute picture of dog'\n",
    "    ]\n",
    "}"
   ]
  },
  {
   "cell_type": "code",
   "execution_count": 48,
   "metadata": {},
   "outputs": [],
   "source": [
    "CDdict48 = { \n",
    "    'cat': [\n",
    "        'cat', 'picture of cat', 'cats', 'image of cats', 'moving cat', 'cat picture', 'cat image',\n",
    "        'cool cat', 'sitting cat', 'nice cat', 'image of nice cat', 'image of cool cat', 'image of cat',\n",
    "        'picture of cats', 'moving picture of cat', 'cool picture of cat',\n",
    "        'funny cat', 'funny image of cat', 'funny picture of cat',\n",
    "        'cute cat', 'cute image of cat', 'cute picture of cat',\n",
    "        'amazing cat', 'amazing image of cat'\n",
    "    ],\n",
    "    'dog': [\n",
    "        'dog', 'picture of dog', 'dogs', 'image of dogs', 'moving dog', 'dog picture', 'dog image',\n",
    "        'cool dog', 'sitting dog', 'nice dog', 'image of nice dog', 'image of cool dog', 'image of dog',\n",
    "        'picture of dogs', 'moving picture of dog', 'cool picture of dog',\n",
    "        'funny dog', 'funny image of dog', 'funny picture of dog',\n",
    "        'cute dog', 'cute image of dog', 'cute picture of dog',\n",
    "        'amazing dog', 'amazing image of dog'\n",
    "    ]\n",
    "}"
   ]
  },
  {
   "cell_type": "code",
   "execution_count": 49,
   "metadata": {},
   "outputs": [],
   "source": [
    "CDdict50 = { \n",
    "    'cat': [\n",
    "        'cat', 'picture of cat', 'cats', 'image of cats', 'moving cat', 'cat picture', 'cat image',\n",
    "        'cool cat', 'sitting cat', 'nice cat', 'image of nice cat', 'image of cool cat', 'image of cat',\n",
    "        'picture of cats', 'moving picture of cat', 'cool picture of cat',\n",
    "        'funny cat', 'funny image of cat', 'funny picture of cat',\n",
    "        'cute cat', 'cute image of cat', 'cute picture of cat',\n",
    "        'amazing cat', 'amazing image of cat', 'amazing picture of cat'\n",
    "    ],\n",
    "    'dog': [\n",
    "        'dog', 'picture of dog', 'dogs', 'image of dogs', 'moving dog', 'dog picture', 'dog image',\n",
    "        'cool dog', 'sitting dog', 'nice dog', 'image of nice dog', 'image of cool dog', 'image of dog',\n",
    "        'picture of dogs', 'moving picture of dog', 'cool picture of dog',\n",
    "        'funny dog', 'funny image of dog', 'funny picture of dog',\n",
    "        'cute dog', 'cute image of dog', 'cute picture of dog',\n",
    "        'amazing dog', 'amazing image of dog', 'amazing picture of dog'\n",
    "    ]\n",
    "}"
   ]
  },
  {
   "cell_type": "code",
   "execution_count": 50,
   "metadata": {},
   "outputs": [],
   "source": [
    "CDdict52 = { \n",
    "    'cat': [\n",
    "        'cat', 'picture of cat', 'cats', 'image of cats', 'moving cat', 'cat picture', 'cat image',\n",
    "        'cool cat', 'sitting cat', 'nice cat', 'image of nice cat', 'image of cool cat', 'image of cat',\n",
    "        'picture of cats', 'moving picture of cat', 'cool picture of cat',\n",
    "        'funny cat', 'funny image of cat', 'funny picture of cat',\n",
    "        'cute cat', 'cute image of cat', 'cute picture of cat',\n",
    "        'amazing cat', 'amazing image of cat', 'amazing picture of cat',\n",
    "        'adorable cat'\n",
    "    ],\n",
    "    'dog': [\n",
    "        'dog', 'picture of dog', 'dogs', 'image of dogs', 'moving dog', 'dog picture', 'dog image',\n",
    "        'cool dog', 'sitting dog', 'nice dog', 'image of nice dog', 'image of cool dog', 'image of dog',\n",
    "        'picture of dogs', 'moving picture of dog', 'cool picture of dog',\n",
    "        'funny dog', 'funny image of dog', 'funny picture of dog',\n",
    "        'cute dog', 'cute image of dog', 'cute picture of dog',\n",
    "        'amazing dog', 'amazing image of dog', 'amazing picture of dog',\n",
    "        'adorable dog'\n",
    "    ]\n",
    "}"
   ]
  },
  {
   "cell_type": "code",
   "execution_count": 51,
   "metadata": {},
   "outputs": [],
   "source": [
    "CDdict54 = { \n",
    "    'cat': [\n",
    "        'cat', 'picture of cat', 'cats', 'image of cats', 'moving cat', 'cat picture', 'cat image',\n",
    "        'cool cat', 'sitting cat', 'nice cat', 'image of nice cat', 'image of cool cat', 'image of cat',\n",
    "        'picture of cats', 'moving picture of cat', 'cool picture of cat',\n",
    "        'funny cat', 'funny image of cat', 'funny picture of cat',\n",
    "        'cute cat', 'cute image of cat', 'cute picture of cat',\n",
    "        'amazing cat', 'amazing image of cat', 'amazing picture of cat',\n",
    "        'adorable cat', 'adorable image of cat'\n",
    "    ],\n",
    "    'dog': [\n",
    "        'dog', 'picture of dog', 'dogs', 'image of dogs', 'moving dog', 'dog picture', 'dog image',\n",
    "        'cool dog', 'sitting dog', 'nice dog', 'image of nice dog', 'image of cool dog', 'image of dog',\n",
    "        'picture of dogs', 'moving picture of dog', 'cool picture of dog',\n",
    "        'funny dog', 'funny image of dog', 'funny picture of dog',\n",
    "        'cute dog', 'cute image of dog', 'cute picture of dog',\n",
    "        'amazing dog', 'amazing image of dog', 'amazing picture of dog',\n",
    "        'adorable dog', 'adorable image of dog'\n",
    "    ]\n",
    "}\n"
   ]
  },
  {
   "cell_type": "code",
   "execution_count": 52,
   "metadata": {},
   "outputs": [],
   "source": [
    "CDdict56 = { \n",
    "    'cat': [\n",
    "        'cat', 'picture of cat', 'cats', 'image of cats', 'moving cat', 'cat picture', 'cat image',\n",
    "        'cool cat', 'sitting cat', 'nice cat', 'image of nice cat', 'image of cool cat', 'image of cat',\n",
    "        'picture of cats', 'moving picture of cat', 'cool picture of cat',\n",
    "        'funny cat', 'funny image of cat', 'funny picture of cat',\n",
    "        'cute cat', 'cute image of cat', 'cute picture of cat',\n",
    "        'amazing cat', 'amazing image of cat', 'amazing picture of cat',\n",
    "        'adorable cat', 'adorable image of cat', 'adorable picture of cat'\n",
    "    ],\n",
    "    'dog': [\n",
    "        'dog', 'picture of dog', 'dogs', 'image of dogs', 'moving dog', 'dog picture', 'dog image',\n",
    "        'cool dog', 'sitting dog', 'nice dog', 'image of nice dog', 'image of cool dog', 'image of dog',\n",
    "        'picture of dogs', 'moving picture of dog', 'cool picture of dog',\n",
    "        'funny dog', 'funny image of dog', 'funny picture of dog',\n",
    "        'cute dog', 'cute image of dog', 'cute picture of dog',\n",
    "        'amazing dog', 'amazing image of dog', 'amazing picture of dog',\n",
    "        'adorable dog', 'adorable image of dog', 'adorable picture of dog'\n",
    "    ]\n",
    "}"
   ]
  },
  {
   "cell_type": "markdown",
   "metadata": {},
   "source": []
  },
  {
   "cell_type": "markdown",
   "metadata": {},
   "source": [
    "## Vegetables"
   ]
  },
  {
   "cell_type": "code",
   "execution_count": 53,
   "metadata": {},
   "outputs": [],
   "source": [
    "veg15 = {\"Bean\" : [\"Bean\"],\n",
    "         \"Bitter Gourd\" : [\"Bitter Gourd\"],\n",
    "         \"Bottle Gourd\" : [\"Bottle Gourd\"],\n",
    "         \"Brinjal\" : [\"Brinjal\"],\n",
    "         \"Cabbage\" : [\"Cabbage\"],\n",
    "         \"Broccoli\" : [\"Broccoli\"],\n",
    "         \"Capsicum\" : [\"Capsicum\"],\n",
    "         \"Carrot\" : [\"Carrot\"],\n",
    "         \"Cauliflower\" : [\"Cauliflower\"],\n",
    "         \"Cucumber\" : [\"Cucumber\"],\n",
    "         \"Papaya\" : [\"Papaya\"],\n",
    "         \"Potato\" : [\"Potato\"],\n",
    "         \"Pumpkin\" : [\"Pumpkin\"],\n",
    "         \"Radish\" : [\"Radish\"],\n",
    "         \"Tomato\" : [\"Tomato\"]}\n",
    "\n",
    "# Bean, Bitter Gourd, Bottle Gourd, Brinjal, Cabbage, Broccoli, Capsicum, Carrot, Cauliflower, Cucumber, Papaya, Potato, Pumpkin, Radish, Tomato\n",
    "\n",
    "# dict_size(veg15)\n",
    "# print(aOcheck_accuracy(\"Vegetable15/veg15.csv\", veg15))"
   ]
  },
  {
   "cell_type": "code",
   "execution_count": 54,
   "metadata": {},
   "outputs": [],
   "source": [
    "veg30 = {\n",
    "    \"Bean\": [\"Bean\", \"Image of Bean\"],\n",
    "    \"Bitter Gourd\": [\"Bitter Gourd\", \"Image of Bitter Gourd\"],\n",
    "    \"Bottle Gourd\": [\"Bottle Gourd\", \"Image of Bottle Gourd\"],\n",
    "    \"Brinjal\": [\"Brinjal\", \"Image of Brinjal\"],\n",
    "    \"Cabbage\": [\"Cabbage\", \"Image of Cabbage\"],\n",
    "    \"Broccoli\": [\"Broccoli\", \"Image of Broccoli\"],\n",
    "    \"Capsicum\": [\"Capsicum\", \"Image of Capsicum\"],\n",
    "    \"Carrot\": [\"Carrot\", \"Image of Carrot\"],\n",
    "    \"Cauliflower\": [\"Cauliflower\", \"Image of Cauliflower\"],\n",
    "    \"Cucumber\": [\"Cucumber\", \"Image of Cucumber\"],\n",
    "    \"Papaya\": [\"Papaya\", \"Image of Papaya\"],\n",
    "    \"Potato\": [\"Potato\", \"Image of Potato\"],\n",
    "    \"Pumpkin\": [\"Pumpkin\", \"Image of Pumpkin\"],\n",
    "    \"Radish\": [\"Radish\", \"Image of Radish\"],\n",
    "    \"Tomato\": [\"Tomato\", \"Image of Tomato\"]\n",
    "}\n",
    "\n",
    "# Bean, Image of Bean, Bitter Gourd, Image of Bitter Gourd, Bottle Gourd, Image of Bottle Gourd, Brinjal, Image of Brinjal, Cabbage, Image of Cabbage, Broccoli, Image of Broccoli, Capsicum, Image of Capsicum, Carrot, Image of Carrot, Cauliflower, Image of Cauliflower, Cucumber, Image of Cucumber, Papaya, Image of Papaya, Potato, Image of Potato, Pumpkin, Image of Pumpkin, Radish, Image of Radish, Tomato, Image of Tomato\n",
    "\n",
    "# dict_size(veg30)  # Assuming dict_size is defined elsewhere\n",
    "# print(aOcheck_accuracy(\"Vegetable15/veg15.csv\", veg30))\n"
   ]
  },
  {
   "cell_type": "code",
   "execution_count": 55,
   "metadata": {},
   "outputs": [],
   "source": [
    "veg45 = {\n",
    "    \"Bean\": [\"Bean\", \"Image of Bean\", \"Picture of Bean\"],\n",
    "    \"Bitter Gourd\": [\"Bitter Gourd\", \"Image of Bitter Gourd\", \"Picture of Bitter Gourd\"],\n",
    "    \"Bottle Gourd\": [\"Bottle Gourd\", \"Image of Bottle Gourd\", \"Picture of Bottle Gourd\"],\n",
    "    \"Brinjal\": [\"Brinjal\", \"Image of Brinjal\", \"Picture of Brinjal\"],\n",
    "    \"Cabbage\": [\"Cabbage\", \"Image of Cabbage\", \"Picture of Cabbage\"],\n",
    "    \"Broccoli\": [\"Broccoli\", \"Image of Broccoli\", \"Picture of Broccoli\"],\n",
    "    \"Capsicum\": [\"Capsicum\", \"Image of Capsicum\", \"Picture of Capsicum\"],\n",
    "    \"Carrot\": [\"Carrot\", \"Image of Carrot\", \"Picture of Carrot\"],\n",
    "    \"Cauliflower\": [\"Cauliflower\", \"Image of Cauliflower\", \"Picture of Cauliflower\"],\n",
    "    \"Cucumber\": [\"Cucumber\", \"Image of Cucumber\", \"Picture of Cucumber\"],\n",
    "    \"Papaya\": [\"Papaya\", \"Image of Papaya\", \"Picture of Papaya\"],\n",
    "    \"Potato\": [\"Potato\", \"Image of Potato\", \"Picture of Potato\"],\n",
    "    \"Pumpkin\": [\"Pumpkin\", \"Image of Pumpkin\", \"Picture of Pumpkin\"],\n",
    "    \"Radish\": [\"Radish\", \"Image of Radish\", \"Picture of Radish\"],\n",
    "    \"Tomato\": [\"Tomato\", \"Image of Tomato\", \"Picture of Tomato\"]\n",
    "}\n",
    "\n",
    "# Bean, Image of Bean, Picture of Bean, Bitter Gourd, Image of Bitter Gourd, Picture of Bitter Gourd, Bottle Gourd, Image of Bottle Gourd, Picture of Bottle Gourd, Brinjal, Image of Brinjal, Picture of Brinjal, Cabbage, Image of Cabbage, Picture of Cabbage, Broccoli, Image of Broccoli, Picture of Broccoli, Capsicum, Image of Capsicum, Picture of Capsicum, Carrot, Image of Carrot, Picture of Carrot, Cauliflower, Image of Cauliflower, Picture of Cauliflower, Cucumber, Image of Cucumber, Picture of Cucumber, Papaya, Image of Papaya, Picture of Papaya, Potato, Image of Potato, Picture of Potato, Pumpkin, Image of Pumpkin, Picture of Pumpkin, Radish, Image of Radish, Picture of Radish, Tomato, Image of Tomato, Picture of Tomato\n",
    "\n",
    "# dict_size(veg45)  # Assuming dict_size is defined elsewhere\n",
    "# print(aOcheck_accuracy(\"Vegetable15/veg45.csv\", veg45))\n",
    "\n"
   ]
  },
  {
   "cell_type": "code",
   "execution_count": 56,
   "metadata": {},
   "outputs": [],
   "source": [
    "veg60 = {\n",
    "    \"Bean\": [\"Bean\", \"Image of Bean\", \"Picture of Bean\", \"Beans\"],\n",
    "    \"Bitter Gourd\": [\"Bitter Gourd\", \"Image of Bitter Gourd\", \"Picture of Bitter Gourd\", \"Bitter Gourds\"],\n",
    "    \"Bottle Gourd\": [\"Bottle Gourd\", \"Image of Bottle Gourd\", \"Picture of Bottle Gourd\", \"Bottle Gourds\"],\n",
    "    \"Brinjal\": [\"Brinjal\", \"Image of Brinjal\", \"Picture of Brinjal\", \"Brinjals\"],\n",
    "    \"Cabbage\": [\"Cabbage\", \"Image of Cabbage\", \"Picture of Cabbage\", \"Cabbages\"],\n",
    "    \"Broccoli\": [\"Broccoli\", \"Image of Broccoli\", \"Picture of Broccoli\", \"Broccolis\"],\n",
    "    \"Capsicum\": [\"Capsicum\", \"Image of Capsicum\", \"Picture of Capsicum\", \"Capsicums\"],\n",
    "    \"Carrot\": [\"Carrot\", \"Image of Carrot\", \"Picture of Carrot\", \"Carrots\"],\n",
    "    \"Cauliflower\": [\"Cauliflower\", \"Image of Cauliflower\", \"Picture of Cauliflower\", \"Cauliflowers\"],\n",
    "    \"Cucumber\": [\"Cucumber\", \"Image of Cucumber\", \"Picture of Cucumber\", \"Cucumbers\"],\n",
    "    \"Papaya\": [\"Papaya\", \"Image of Papaya\", \"Picture of Papaya\", \"Papayas\"],\n",
    "    \"Potato\": [\"Potato\", \"Image of Potato\", \"Picture of Potato\", \"Potatoes\"],\n",
    "    \"Pumpkin\": [\"Pumpkin\", \"Image of Pumpkin\", \"Picture of Pumpkin\", \"Pumpkins\"],\n",
    "    \"Radish\": [\"Radish\", \"Image of Radish\", \"Picture of Radish\", \"Radishes\"],\n",
    "    \"Tomato\": [\"Tomato\", \"Image of Tomato\", \"Picture of Tomato\", \"Tomatoes\"]\n",
    "}\n",
    "\n",
    "# Bean, Image of Bean, Picture of Bean, Beans, Bitter Gourd, Image of Bitter Gourd, Picture of Bitter Gourd, Bitter Gourds, Bottle Gourd, Image of Bottle Gourd, Picture of Bottle Gourd, Bottle Gourds, Brinjal, Image of Brinjal, Picture of Brinjal, Brinjals, Cabbage, Image of Cabbage, Picture of Cabbage, Cabbages, Broccoli, Image of Broccoli, Picture of Broccoli, Broccolis, Capsicum, Image of Capsicum, Picture of Capsicum, Capsicums, Carrot, Image of Carrot, Picture of Carrot, Carrots, Cauliflower, Image of Cauliflower, Picture of Cauliflower, Cauliflowers, Cucumber, Image of Cucumber, Picture of Cucumber, Cucumbers, Papaya, Image of Papaya, Picture of Papaya, Papayas, Potato, Image of Potato, Picture of Potato, Potatoes, Pumpkin, Image of Pumpkin, Picture of Pumpkin, Pumpkins, Radish, Image of Radish, Picture of Radish, Radishes, Tomato, Image of Tomato, Picture of Tomato, Tomatoes\n",
    "\n",
    "# dict_size(veg60)  # Assuming dict_size is defined elsewhere\n",
    "# print(aOcheck_accuracy(\"Vegetable15/veg60.csv\", veg60))"
   ]
  },
  {
   "cell_type": "code",
   "execution_count": 57,
   "metadata": {},
   "outputs": [],
   "source": [
    "veg75 = {\n",
    "    \"Bean\": [\"Bean\", \"Image of Bean\", \"Picture of Bean\", \"Beans\", \"Vegetable Bean\"],\n",
    "    \"Bitter Gourd\": [\"Bitter Gourd\", \"Image of Bitter Gourd\", \"Picture of Bitter Gourd\", \"Bitter Gourds\", \"Vegetable Bitter Gourd\"],\n",
    "    \"Bottle Gourd\": [\"Bottle Gourd\", \"Image of Bottle Gourd\", \"Picture of Bottle Gourd\", \"Bottle Gourds\", \"Vegetable Bottle Gourd\"],\n",
    "    \"Brinjal\": [\"Brinjal\", \"Image of Brinjal\", \"Picture of Brinjal\", \"Brinjals\", \"Vegetable Brinjal\"],\n",
    "    \"Cabbage\": [\"Cabbage\", \"Image of Cabbage\", \"Picture of Cabbage\", \"Cabbages\", \"Vegetable Cabbage\"],\n",
    "    \"Broccoli\": [\"Broccoli\", \"Image of Broccoli\", \"Picture of Broccoli\", \"Broccolis\", \"Vegetable Broccoli\"],\n",
    "    \"Capsicum\": [\"Capsicum\", \"Image of Capsicum\", \"Picture of Capsicum\", \"Capsicums\", \"Vegetable Capsicum\"],\n",
    "    \"Carrot\": [\"Carrot\", \"Image of Carrot\", \"Picture of Carrot\", \"Carrots\", \"Vegetable Carrot\"],\n",
    "    \"Cauliflower\": [\"Cauliflower\", \"Image of Cauliflower\", \"Picture of Cauliflower\", \"Cauliflowers\", \"Vegetable Cauliflower\"],\n",
    "    \"Cucumber\": [\"Cucumber\", \"Image of Cucumber\", \"Picture of Cucumber\", \"Cucumbers\", \"Vegetable Cucumber\"],\n",
    "    \"Papaya\": [\"Papaya\", \"Image of Papaya\", \"Picture of Papaya\", \"Papayas\", \"Vegetable Papaya\"],\n",
    "    \"Potato\": [\"Potato\", \"Image of Potato\", \"Picture of Potato\", \"Potatoes\", \"Vegetable Potato\"],\n",
    "    \"Pumpkin\": [\"Pumpkin\", \"Image of Pumpkin\", \"Picture of Pumpkin\", \"Pumpkins\", \"Vegetable Pumpkin\"],\n",
    "    \"Radish\": [\"Radish\", \"Image of Radish\", \"Picture of Radish\", \"Radishes\", \"Vegetable Radish\"],\n",
    "    \"Tomato\": [\"Tomato\", \"Image of Tomato\", \"Picture of Tomato\", \"Tomatoes\", \"Vegetable Tomato\"]\n",
    "}\n",
    "\n",
    "# Bean, Image of Bean, Picture of Bean, Beans, Vegetable Bean, Bitter Gourd, Image of Bitter Gourd, Picture of Bitter Gourd, Bitter Gourds, Vegetable Bitter Gourd, Bottle Gourd, Image of Bottle Gourd, Picture of Bottle Gourd, Bottle Gourds, Vegetable Bottle Gourd, Brinjal, Image of Brinjal, Picture of Brinjal, Brinjals, Vegetable Brinjal, Cabbage, Image of Cabbage, Picture of Cabbage, Cabbages, Vegetable Cabbage, Broccoli, Image of Broccoli, Picture of Broccoli, Broccolis, Vegetable Broccoli, Capsicum, Image of Capsicum, Picture of Capsicum, Capsicums, Vegetable Capsicum, Carrot, Image of Carrot, Picture of Carrot, Carrots, Vegetable Carrot, Cauliflower, Image of Cauliflower, Picture of Cauliflower, Cauliflowers, Vegetable Cauliflower, Cucumber, Image of Cucumber, Picture of Cucumber, Cucumbers, Vegetable Cucumber, Papaya, Image of Papaya, Picture of Papaya, Papayas, Vegetable Papaya, Potato, Image of Potato, Picture of Potato, Potatoes, Vegetable Potato, Pumpkin, Image of Pumpkin, Picture of Pumpkin, Pumpkins, Vegetable Pumpkin, Radish, Image of Radish, Picture of Radish, Radishes, Vegetable Radish, Tomato, Image of Tomato, Picture of Tomato, Tomatoes, Vegetable Tomato\n",
    "\n",
    "# dict_size(veg75)  # Assuming dict\n",
    "# print(aOcheck_accuracy(\"Vegetable15/veg75.csv\", veg75))"
   ]
  },
  {
   "cell_type": "code",
   "execution_count": 58,
   "metadata": {},
   "outputs": [],
   "source": [
    "veg90 = {\n",
    "    \"Bean\": [\"Bean\", \"Image of Bean\", \"Picture of Bean\", \"Beans\", \"Vegetable Bean\", \"Fresh Bean\"],\n",
    "    \"Bitter Gourd\": [\"Bitter Gourd\", \"Image of Bitter Gourd\", \"Picture of Bitter Gourd\", \"Bitter Gourds\", \"Vegetable Bitter Gourd\", \"Fresh Bitter Gourd\"],\n",
    "    \"Bottle Gourd\": [\"Bottle Gourd\", \"Image of Bottle Gourd\", \"Picture of Bottle Gourd\", \"Bottle Gourds\", \"Vegetable Bottle Gourd\", \"Fresh Bottle Gourd\"],\n",
    "    \"Brinjal\": [\"Brinjal\", \"Image of Brinjal\", \"Picture of Brinjal\", \"Brinjals\", \"Vegetable Brinjal\", \"Fresh Brinjal\"],\n",
    "    \"Cabbage\": [\"Cabbage\", \"Image of Cabbage\", \"Picture of Cabbage\", \"Cabbages\", \"Vegetable Cabbage\", \"Fresh Cabbage\"],\n",
    "    \"Broccoli\": [\"Broccoli\", \"Image of Broccoli\", \"Picture of Broccoli\", \"Broccolis\", \"Vegetable Broccoli\", \"Fresh Broccoli\"],\n",
    "    \"Capsicum\": [\"Capsicum\", \"Image of Capsicum\", \"Picture of Capsicum\", \"Capsicums\", \"Vegetable Capsicum\", \"Fresh Capsicum\"],\n",
    "    \"Carrot\": [\"Carrot\", \"Image of Carrot\", \"Picture of Carrot\", \"Carrots\", \"Vegetable Carrot\", \"Fresh Carrot\"],\n",
    "    \"Cauliflower\": [\"Cauliflower\", \"Image of Cauliflower\", \"Picture of Cauliflower\", \"Cauliflowers\", \"Vegetable Cauliflower\", \"Fresh Cauliflower\"],\n",
    "    \"Cucumber\": [\"Cucumber\", \"Image of Cucumber\", \"Picture of Cucumber\", \"Cucumbers\", \"Vegetable Cucumber\", \"Fresh Cucumber\"],\n",
    "    \"Papaya\": [\"Papaya\", \"Image of Papaya\", \"Picture of Papaya\", \"Papayas\", \"Vegetable Papaya\", \"Fresh Papaya\"],\n",
    "    \"Potato\": [\"Potato\", \"Image of Potato\", \"Picture of Potato\", \"Potatoes\", \"Vegetable Potato\", \"Fresh Potato\"],\n",
    "    \"Pumpkin\": [\"Pumpkin\", \"Image of Pumpkin\", \"Picture of Pumpkin\", \"Pumpkins\", \"Vegetable Pumpkin\", \"Fresh Pumpkin\"],\n",
    "    \"Radish\": [\"Radish\", \"Image of Radish\", \"Picture of Radish\", \"Radishes\", \"Vegetable Radish\", \"Fresh Radish\"],\n",
    "    \"Tomato\": [\"Tomato\", \"Image of Tomato\", \"Picture of Tomato\", \"Tomatoes\", \"Vegetable Tomato\", \"Fresh Tomato\"]\n",
    "}\n",
    "\n",
    "# Bean, Image of Bean, Picture of Bean, Beans, Vegetable Bean, Fresh Bean, Bitter Gourd, Image of Bitter Gourd, Picture of Bitter Gourd, Bitter Gourds, Vegetable Bitter Gourd, Fresh Bitter Gourd, Bottle Gourd, Image of Bottle Gourd, Picture of Bottle Gourd, Bottle Gourds, Vegetable Bottle Gourd, Fresh Bottle Gourd, Brinjal, Image of Brinjal, Picture of Brinjal, Brinjals, Vegetable Brinjal, Fresh Brinjal, Cabbage, Image of Cabbage, Picture of Cabbage, Cabbages, Vegetable Cabbage, Fresh Cabbage, Broccoli, Image of Broccoli, Picture of Broccoli, Broccolis, Vegetable Broccoli, Fresh Broccoli, Capsicum, Image of Capsicum, Picture of Capsicum, Capsicums, Vegetable Capsicum, Fresh Capsicum, Carrot, Image of Carrot, Picture of Carrot, Carrots, Vegetable Carrot, Fresh Carrot, Cauliflower, Image of Cauliflower, Picture of Cauliflower, Cauliflowers, Vegetable Cauliflower, Fresh Cauliflower, Cucumber, Image of Cucumber, Picture of Cucumber, Cucumbers, Vegetable Cucumber, Fresh Cucumber, Papaya, Image of Papaya, Picture of Papaya, Papayas, Vegetable Papaya, Fresh Papaya, Potato, Image of Potato, Picture of Potato, Potatoes, Vegetable Potato, Fresh Potato, Pumpkin, Image of Pumpkin, Picture of Pumpkin, Pumpkins, Vegetable Pumpkin, Fresh Pumpkin, Radish, Image of Radish, Picture of Radish, Radishes, Vegetable Radish, Fresh Radish, Tomato, Image of Tomato, Picture of Tomato, Tomatoes, Vegetable Tomato, Fresh Tomato\n",
    "\n",
    "# dict_size(veg90)\n",
    "# print(aOcheck_accuracy(\"Vegetable15/veg90.csv\", veg90))\n"
   ]
  },
  {
   "cell_type": "code",
   "execution_count": 59,
   "metadata": {},
   "outputs": [],
   "source": [
    "veg105 = {\n",
    "    \"Bean\": [\"Bean\", \"Image of Bean\", \"Picture of Bean\", \"Beans\", \"Vegetable Bean\", \"Fresh Bean\", \"Organic Bean\"],\n",
    "    \"Bitter Gourd\": [\"Bitter Gourd\", \"Image of Bitter Gourd\", \"Picture of Bitter Gourd\", \"Bitter Gourds\", \"Vegetable Bitter Gourd\", \"Fresh Bitter Gourd\", \"Organic Bitter Gourd\"],\n",
    "    \"Bottle Gourd\": [\"Bottle Gourd\", \"Image of Bottle Gourd\", \"Picture of Bottle Gourd\", \"Bottle Gourds\", \"Vegetable Bottle Gourd\", \"Fresh Bottle Gourd\", \"Organic Bottle Gourd\"],\n",
    "    \"Brinjal\": [\"Brinjal\", \"Image of Brinjal\", \"Picture of Brinjal\", \"Brinjals\", \"Vegetable Brinjal\", \"Fresh Brinjal\", \"Organic Brinjal\"],\n",
    "    \"Cabbage\": [\"Cabbage\", \"Image of Cabbage\", \"Picture of Cabbage\", \"Cabbages\", \"Vegetable Cabbage\", \"Fresh Cabbage\", \"Organic Cabbage\"],\n",
    "    \"Broccoli\": [\"Broccoli\", \"Image of Broccoli\", \"Picture of Broccoli\", \"Broccolis\", \"Vegetable Broccoli\", \"Fresh Broccoli\", \"Organic Broccoli\"],\n",
    "    \"Capsicum\": [\"Capsicum\", \"Image of Capsicum\", \"Picture of Capsicum\", \"Capsicums\", \"Vegetable Capsicum\", \"Fresh Capsicum\", \"Organic Capsicum\"],\n",
    "    \"Carrot\": [\"Carrot\", \"Image of Carrot\", \"Picture of Carrot\", \"Carrots\", \"Vegetable Carrot\", \"Fresh Carrot\", \"Organic Carrot\"],\n",
    "    \"Cauliflower\": [\"Cauliflower\", \"Image of Cauliflower\", \"Picture of Cauliflower\", \"Cauliflowers\", \"Vegetable Cauliflower\", \"Fresh Cauliflower\", \"Organic Cauliflower\"],\n",
    "    \"Cucumber\": [\"Cucumber\", \"Image of Cucumber\", \"Picture of Cucumber\", \"Cucumbers\", \"Vegetable Cucumber\", \"Fresh Cucumber\", \"Organic Cucumber\"],\n",
    "    \"Papaya\": [\"Papaya\", \"Image of Papaya\", \"Picture of Papaya\", \"Papayas\", \"Vegetable Papaya\", \"Fresh Papaya\", \"Organic Papaya\"],\n",
    "    \"Potato\": [\"Potato\", \"Image of Potato\", \"Picture of Potato\", \"Potatoes\", \"Vegetable Potato\", \"Fresh Potato\", \"Organic Potato\"],\n",
    "    \"Pumpkin\": [\"Pumpkin\", \"Image of Pumpkin\", \"Picture of Pumpkin\", \"Pumpkins\", \"Vegetable Pumpkin\", \"Fresh Pumpkin\", \"Organic Pumpkin\"],\n",
    "    \"Radish\": [\"Radish\", \"Image of Radish\", \"Picture of Radish\", \"Radishes\", \"Vegetable Radish\", \"Fresh Radish\", \"Organic Radish\"],\n",
    "    \"Tomato\": [\"Tomato\", \"Image of Tomato\", \"Picture of Tomato\", \"Tomatoes\", \"Vegetable Tomato\", \"Fresh Tomato\", \"Organic Tomato\"]\n",
    "}\n",
    "\n",
    "# Bean, Image of Bean, Picture of Bean, Beans, Vegetable Bean, Fresh Bean, Organic Bean, Bitter Gourd, Image of Bitter Gourd, Picture of Bitter Gourd, Bitter Gourds, Vegetable Bitter Gourd, Fresh Bitter Gourd, Organic Bitter Gourd, Bottle Gourd, Image of Bottle Gourd, Picture of Bottle Gourd, Bottle Gourds, Vegetable Bottle Gourd, Fresh Bottle Gourd, Organic Bottle Gourd, Brinjal, Image of Brinjal, Picture of Brinjal, Brinjals, Vegetable Brinjal, Fresh Brinjal, Organic Brinjal, Cabbage, Image of Cabbage, Picture of Cabbage, Cabbages, Vegetable Cabbage, Fresh Cabbage, Organic Cabbage, Broccoli, Image of Broccoli, Picture of Broccoli, Broccolis, Vegetable Broccoli, Fresh Broccoli, Organic Broccoli, Capsicum, Image of Capsicum, Picture of Capsicum, Capsicums, Vegetable Capsicum, Fresh Capsicum, Organic Capsicum, Carrot, Image of Carrot, Picture of Carrot, Carrots, Vegetable Carrot, Fresh Carrot, Organic Carrot, Cauliflower, Image of Cauliflower, Picture of Cauliflower, Cauliflowers, Vegetable Cauliflower, Fresh Cauliflower, Organic Cauliflower, Cucumber, Image of Cucumber, Picture of Cucumber, Cucumbers, Vegetable Cucumber, Fresh Cucumber, Organic Cucumber, Papaya, Image of Papaya, Picture of Papaya, Papayas, Vegetable Papaya, Fresh Papaya, Organic Papaya, Potato, Image of Potato, Picture of Potato, Potatoes, Vegetable Potato, Fresh Potato, Organic Potato, Pumpkin, Image of Pumpkin, Picture of Pumpkin, Pumpkins, Vegetable Pumpkin, Fresh Pumpkin, Organic Pumpkin, Radish, Image of Radish, Picture of Radish, Radishes, Vegetable Radish, Fresh Radish, Organic Radish, Tomato, Image of Tomato, Picture of Tomato, Tomatoes, Vegetable Tomato, Fresh Tomato, Organic Tomato\n",
    "\n",
    "# dict_size(veg105)\n",
    "# print(aOcheck_accuracy(\"Vegetable15/veg105.csv\", veg105))"
   ]
  },
  {
   "cell_type": "markdown",
   "metadata": {},
   "source": [
    "## Deck of Cards"
   ]
  },
  {
   "cell_type": "code",
   "execution_count": 60,
   "metadata": {},
   "outputs": [],
   "source": [
    "cards4 = {\n",
    "    \"Clubs\" : [\"Card of Clubs\"],\n",
    "    \"Diamonds\" : [\"Card of Diamonds\"],\n",
    "    \"Hearts\" : [\"Card of Hearts\"],\n",
    "    \"Spades\" : [\"Card of Spades\"]\n",
    "}\n",
    "\n",
    "# Card of Clubs, Card of Diamonds, Card of Hearts, Card of Spades\n",
    "\n",
    "# dict_size(cards4) \n",
    "# print(card_accuracy(\"Card15/cards4.csv\", cards4))"
   ]
  },
  {
   "cell_type": "code",
   "execution_count": 61,
   "metadata": {},
   "outputs": [],
   "source": [
    "cards8 = {\n",
    "    \"Clubs\": [\"Card of Clubs\", \"Image of Card of Clubs\"],\n",
    "    \"Diamonds\": [\"Card of Diamonds\", \"Image of Card of Diamonds\"],\n",
    "    \"Hearts\": [\"Card of Hearts\", \"Image of Card of Hearts\"],\n",
    "    \"Spades\": [\"Card of Spades\", \"Image of Card of Spades\"]\n",
    "}\n",
    "\n",
    "# # Card of Clubs, Image of Card of Clubs, Card of Diamonds, Image of Card of Diamonds, Card of Hearts, Image of Card of Hearts, Card of Spades, Image of Card of Spades\n",
    "\n",
    "# dict_size(cards8)\n",
    "# print(card_accuracy(\"Card15/cards8.csv\", cards8))\n"
   ]
  },
  {
   "cell_type": "code",
   "execution_count": 62,
   "metadata": {},
   "outputs": [],
   "source": [
    "cards12 = {\n",
    "    \"Clubs\": [\"Card of Clubs\", \"Image of Card of Clubs\", \"Picture of Card of Clubs\"],\n",
    "    \"Diamonds\": [\"Card of Diamonds\", \"Image of Card of Diamonds\", \"Picture of Card of Diamonds\"],\n",
    "    \"Hearts\": [\"Card of Hearts\", \"Image of Card of Hearts\", \"Picture of Card of Hearts\"],\n",
    "    \"Spades\": [\"Card of Spades\", \"Image of Card of Spades\", \"Picture of Card of Spades\"]\n",
    "}\n",
    "\n",
    "# Card of Clubs, Image of Card of Clubs, Picture of Card of Clubs, Card of Diamonds, Image of Card of Diamonds, Picture of Card of Diamonds, Card of Hearts, Image of Card of Hearts, Picture of Card of Hearts, Card of Spades, Image of Card of Spades, Picture of Card of Spades\n",
    "\n",
    "# dict_size(cards12)\n",
    "# print(card_accuracy(\"Card15/cards12.csv\", cards12))\n"
   ]
  },
  {
   "cell_type": "code",
   "execution_count": 63,
   "metadata": {},
   "outputs": [],
   "source": [
    "cards16 = {\n",
    "    \"Clubs\": [\"Card of Clubs\", \"Image of Card of Clubs\", \"Picture of Card of Clubs\", \"Poker Card of Clubs\"],\n",
    "    \"Diamonds\": [\"Card of Diamonds\", \"Image of Card of Diamonds\", \"Picture of Card of Diamonds\", \"Poker Card of Diamonds\"],\n",
    "    \"Hearts\": [\"Card of Hearts\", \"Image of Card of Hearts\", \"Picture of Card of Hearts\", \"Poker Card of Hearts\"],\n",
    "    \"Spades\": [\"Card of Spades\", \"Image of Card of Spades\", \"Picture of Card of Spades\", \"Poker Card of Spades\"]\n",
    "}\n",
    "\n",
    "# Card of Clubs, Image of Card of Clubs, Picture of Card of Clubs, Poker Card of Clubs, Card of Diamonds, Image of Card of Diamonds, Picture of Card of Diamonds, Poker Card of Diamonds, Card of Hearts, Image of Card of Hearts, Picture of Card of Hearts, Poker Card of Hearts, Card of Spades, Image of Card of Spades, Picture of Card of Spades, Poker Card of Spades\n",
    "\n",
    "# dict_size(cards16)\n",
    "# print(card_accuracy(\"Card15/cards16.csv\", cards16))\n"
   ]
  },
  {
   "cell_type": "code",
   "execution_count": 64,
   "metadata": {},
   "outputs": [],
   "source": [
    "cards20 = {\n",
    "    \"Clubs\": [\"Card of Clubs\", \"Image of Card of Clubs\", \"Picture of Card of Clubs\", \"Poker Card of Clubs\", \"Classic Card of Clubs\"],\n",
    "    \"Diamonds\": [\"Card of Diamonds\", \"Image of Card of Diamonds\", \"Picture of Card of Diamonds\", \"Poker Card of Diamonds\", \"Classic Card of Diamonds\"],\n",
    "    \"Hearts\": [\"Card of Hearts\", \"Image of Card of Hearts\", \"Picture of Card of Hearts\", \"Poker Card of Hearts\", \"Classic Card of Hearts\"],\n",
    "    \"Spades\": [\"Card of Spades\", \"Image of Card of Spades\", \"Picture of Card of Spades\", \"Poker Card of Spades\", \"Classic Card of Spades\"]\n",
    "}\n",
    "\n",
    "# Card of Clubs, Image of Card of Clubs, Picture of Card of Clubs, Poker Card of Clubs, Classic Card of Clubs, Card of Diamonds, Image of Card of Diamonds, Picture of Card of Diamonds, Poker Card of Diamonds, Classic Card of Diamonds, Card of Hearts, Image of Card of Hearts, Picture of Card of Hearts, Poker Card of Hearts, Classic Card of Hearts, Card of Spades, Image of Card of Spades, Picture of Card of Spades, Poker Card of Spades, Classic Card of Spades\n",
    "\n",
    "# dict_size(cards20)\n",
    "# print(card_accuracy(\"Card15/cards20.csv\", cards20))\n"
   ]
  },
  {
   "cell_type": "code",
   "execution_count": 65,
   "metadata": {},
   "outputs": [],
   "source": [
    "cards24 = {\n",
    "    \"Clubs\": [\"Card of Clubs\", \"Image of Card of Clubs\", \"Picture of Card of Clubs\", \"Poker Card of Clubs\", \"Classic Card of Clubs\", \"Vintage Card of Clubs\"],\n",
    "    \"Diamonds\": [\"Card of Diamonds\", \"Image of Card of Diamonds\", \"Picture of Card of Diamonds\", \"Poker Card of Diamonds\", \"Classic Card of Diamonds\", \"Vintage Card of Diamonds\"],\n",
    "    \"Hearts\": [\"Card of Hearts\", \"Image of Card of Hearts\", \"Picture of Card of Hearts\", \"Poker Card of Hearts\", \"Classic Card of Hearts\", \"Vintage Card of Hearts\"],\n",
    "    \"Spades\": [\"Card of Spades\", \"Image of Card of Spades\", \"Picture of Card of Spades\", \"Poker Card of Spades\", \"Classic Card of Spades\", \"Vintage Card of Spades\"]\n",
    "}\n",
    "\n",
    "# Card of Clubs, Image of Card of Clubs, Picture of Card of Clubs, Poker Card of Clubs, Classic Card of Clubs, Vintage Card of Clubs, Card of Diamonds, Image of Card of Diamonds, Picture of Card of Diamonds, Poker Card of Diamonds, Classic Card of Diamonds, Vintage Card of Diamonds, Card of Hearts, Image of Card of Hearts, Picture of Card of Hearts, Poker Card of Hearts, Classic Card of Hearts, Vintage Card of Hearts, Card of Spades, Image of Card of Spades, Picture of Card of Spades, Poker Card of Spades, Classic Card of Spades, Vintage Card of Spades\n",
    "\n",
    "# dict_size(cards24)\n",
    "# print(card_accuracy(\"Card15/cards24.csv\", cards24))\n"
   ]
  },
  {
   "cell_type": "code",
   "execution_count": 66,
   "metadata": {},
   "outputs": [],
   "source": [
    "cards28 = {\n",
    "    \"Clubs\": [\"Card of Clubs\", \"Image of Card of Clubs\", \"Picture of Card of Clubs\", \"Poker Card of Clubs\", \"Classic Card of Clubs\", \"Vintage Card of Clubs\", \"Royal Card of Clubs\"],\n",
    "    \"Diamonds\": [\"Card of Diamonds\", \"Image of Card of Diamonds\", \"Picture of Card of Diamonds\", \"Poker Card of Diamonds\", \"Classic Card of Diamonds\", \"Vintage Card of Diamonds\", \"Royal Card of Diamonds\"],\n",
    "    \"Hearts\": [\"Card of Hearts\", \"Image of Card of Hearts\", \"Picture of Card of Hearts\", \"Poker Card of Hearts\", \"Classic Card of Hearts\", \"Vintage Card of Hearts\", \"Royal Card of Hearts\"],\n",
    "    \"Spades\": [\"Card of Spades\", \"Image of Card of Spades\", \"Picture of Card of Spades\", \"Poker Card of Spades\", \"Classic Card of Spades\", \"Vintage Card of Spades\", \"Royal Card of Spades\"]\n",
    "}\n",
    "\n",
    "# Card of Clubs, Image of Card of Clubs, Picture of Card of Clubs, Poker Card of Clubs, Classic Card of Clubs, Vintage Card of Clubs, Royal Card of Clubs, Card of Diamonds, Image of Card of Diamonds, Picture of Card of Diamonds, Poker Card of Diamonds, Classic Card of Diamonds, Vintage Card of Diamonds, Royal Card of Diamonds, Card of Hearts, Image of Card of Hearts, Picture of Card of Hearts, Poker Card of Hearts, Classic Card of Hearts, Vintage Card of Hearts, Royal Card of Hearts, Card of Spades, Image of Card of Spades, Picture of Card of Spades, Poker Card of Spades, Classic Card of Spades, Vintage Card of Spades, Royal Card of Spades\n",
    "\n",
    "# dict_size(cards28)\n",
    "# print(card_accuracy(\"Card15/cards28.csv\", cards28))\n"
   ]
  },
  {
   "cell_type": "code",
   "execution_count": 67,
   "metadata": {},
   "outputs": [],
   "source": [
    "cards32 = {\n",
    "    \"Clubs\": [\"Card of Clubs\", \"Image of Card of Clubs\", \"Picture of Card of Clubs\", \"Poker Card of Clubs\", \"Classic Card of Clubs\", \"Vintage Card of Clubs\", \"Royal Card of Clubs\", \"Deluxe Card of Clubs\"],\n",
    "    \"Diamonds\": [\"Card of Diamonds\", \"Image of Card of Diamonds\", \"Picture of Card of Diamonds\", \"Poker Card of Diamonds\", \"Classic Card of Diamonds\", \"Vintage Card of Diamonds\", \"Royal Card of Diamonds\", \"Deluxe Card of Diamonds\"],\n",
    "    \"Hearts\": [\"Card of Hearts\", \"Image of Card of Hearts\", \"Picture of Card of Hearts\", \"Poker Card of Hearts\", \"Classic Card of Hearts\", \"Vintage Card of Hearts\", \"Royal Card of Hearts\", \"Deluxe Card of Hearts\"],\n",
    "    \"Spades\": [\"Card of Spades\", \"Image of Card of Spades\", \"Picture of Card of Spades\", \"Poker Card of Spades\", \"Classic Card of Spades\", \"Vintage Card of Spades\", \"Royal Card of Spades\", \"Deluxe Card of Spades\"]\n",
    "}\n",
    "\n",
    "# Card of Clubs, Image of Card of Clubs, Picture of Card of Clubs, Poker Card of Clubs, Classic Card of Clubs, Vintage Card of Clubs, Royal Card of Clubs, Deluxe Card of Clubs, Card of Diamonds, Image of Card of Diamonds, Picture of Card of Diamonds, Poker Card of Diamonds, Classic Card of Diamonds, Vintage Card of Diamonds, Royal Card of Diamonds, Deluxe Card of Diamonds, Card of Hearts, Image of Card of Hearts, Picture of Card of Hearts, Poker Card of Hearts, Classic Card of Hearts, Vintage Card of Hearts, Royal Card of Hearts, Deluxe Card of Hearts, Card of Spades, Image of Card of Spades, Picture of Card of Spades, Poker Card of Spades, Classic Card of Spades, Vintage Card of Spades, Royal Card of Spades, Deluxe Card of Spades\n",
    "\n",
    "# dict_size(cards32)\n",
    "# print(card_accuracy(\"Card15/cards32.csv\", cards32))\n"
   ]
  },
  {
   "cell_type": "code",
   "execution_count": 68,
   "metadata": {},
   "outputs": [],
   "source": [
    "cards36 = {\n",
    "    \"Clubs\": [\"Card of Clubs\", \"Image of Card of Clubs\", \"Picture of Card of Clubs\", \"Poker Card of Clubs\", \"Classic Card of Clubs\", \"Vintage Card of Clubs\", \"Royal Card of Clubs\", \"Deluxe Card of Clubs\", \"Exclusive Card of Clubs\"],\n",
    "    \"Diamonds\": [\"Card of Diamonds\", \"Image of Card of Diamonds\", \"Picture of Card of Diamonds\", \"Poker Card of Diamonds\", \"Classic Card of Diamonds\", \"Vintage Card of Diamonds\", \"Royal Card of Diamonds\", \"Deluxe Card of Diamonds\", \"Exclusive Card of Diamonds\"],\n",
    "    \"Hearts\": [\"Card of Hearts\", \"Image of Card of Hearts\", \"Picture of Card of Hearts\", \"Poker Card of Hearts\", \"Classic Card of Hearts\", \"Vintage Card of Hearts\", \"Royal Card of Hearts\", \"Deluxe Card of Hearts\", \"Exclusive Card of Hearts\"],\n",
    "    \"Spades\": [\"Card of Spades\", \"Image of Card of Spades\", \"Picture of Card of Spades\", \"Poker Card of Spades\", \"Classic Card of Spades\", \"Vintage Card of Spades\", \"Royal Card of Spades\", \"Deluxe Card of Spades\", \"Exclusive Card of Spades\"]\n",
    "}\n",
    "\n",
    "# Card of Clubs, Image of Card of Clubs, Picture of Card of Clubs, Poker Card of Clubs, Classic Card of Clubs, Vintage Card of Clubs, Royal Card of Clubs, Deluxe Card of Clubs, Exclusive Card of Clubs, Card of Diamonds, Image of Card of Diamonds, Picture of Card of Diamonds, Poker Card of Diamonds, Classic Card of Diamonds, Vintage Card of Diamonds, Royal Card of Diamonds, Deluxe Card of Diamonds, Exclusive Card of Diamonds, Card of Hearts, Image of Card of Hearts, Picture of Card of Hearts, Poker Card of Hearts, Classic Card of Hearts, Vintage Card of Hearts, Royal Card of Hearts, Deluxe Card of Hearts, Exclusive Card of Hearts, Card of Spades, Image of Card of Spades, Picture of Card of Spades, Poker Card of Spades, Classic Card of Spades, Vintage Card of Spades, Royal Card of Spades, Deluxe Card of Spades, Exclusive Card of Spades\n",
    "\n",
    "# dict_size(cards36)\n",
    "# print(card_accuracy(\"Card15/cards36.csv\", cards36))\n"
   ]
  },
  {
   "cell_type": "code",
   "execution_count": 69,
   "metadata": {},
   "outputs": [],
   "source": [
    "cards40 = {\n",
    "    \"Clubs\": [\"Card of Clubs\", \"Image of Card of Clubs\", \"Picture of Card of Clubs\", \"Poker Card of Clubs\", \"Classic Card of Clubs\", \"Vintage Card of Clubs\", \"Royal Card of Clubs\", \"Deluxe Card of Clubs\", \"Exclusive Card of Clubs\", \"Premium Card of Clubs\"],\n",
    "    \"Diamonds\": [\"Card of Diamonds\", \"Image of Card of Diamonds\", \"Picture of Card of Diamonds\", \"Poker Card of Diamonds\", \"Classic Card of Diamonds\", \"Vintage Card of Diamonds\", \"Royal Card of Diamonds\", \"Deluxe Card of Diamonds\", \"Exclusive Card of Diamonds\", \"Premium Card of Diamonds\"],\n",
    "    \"Hearts\": [\"Card of Hearts\", \"Image of Card of Hearts\", \"Picture of Card of Hearts\", \"Poker Card of Hearts\", \"Classic Card of Hearts\", \"Vintage Card of Hearts\", \"Royal Card of Hearts\", \"Deluxe Card of Hearts\", \"Exclusive Card of Hearts\", \"Premium Card of Hearts\"],\n",
    "    \"Spades\": [\"Card of Spades\", \"Image of Card of Spades\", \"Picture of Card of Spades\", \"Poker Card of Spades\", \"Classic Card of Spades\", \"Vintage Card of Spades\", \"Royal Card of Spades\", \"Deluxe Card of Spades\", \"Exclusive Card of Spades\", \"Premium Card of Spades\"]\n",
    "}\n",
    "\n",
    "# Card of Clubs, Image of Card of Clubs, Picture of Card of Clubs, Poker Card of Clubs, Classic Card of Clubs, Vintage Card of Clubs, Royal Card of Clubs, Deluxe Card of Clubs, Exclusive Card of Clubs, Premium Card of Clubs, Card of Diamonds, Image of Card of Diamonds, Picture of Card of Diamonds, Poker Card of Diamonds, Classic Card of Diamonds, Vintage Card of Diamonds, Royal Card of Diamonds, Deluxe Card of Diamonds, Exclusive Card of Diamonds, Premium Card of Diamonds, Card of Hearts, Image of Card of Hearts, Picture of Card of Hearts, Poker Card of Hearts, Classic Card of Hearts, Vintage Card of Hearts, Royal Card of Hearts, Deluxe Card of Hearts, Exclusive Card of Hearts, Premium Card of Hearts, Card of Spades, Image of Card of Spades, Picture of Card of Spades, Poker Card of Spades, Classic Card of Spades, Vintage Card of Spades, Royal Card of Spades, Deluxe Card of Spades, Exclusive Card of Spades, Premium Card of Spades\n",
    "\n",
    "# dict_size(cards40)\n",
    "# print(card_accuracy(\"Card15/cards40.csv\", cards40))\n"
   ]
  },
  {
   "cell_type": "code",
   "execution_count": 70,
   "metadata": {},
   "outputs": [],
   "source": [
    "cards44 = {\n",
    "    \"Clubs\": [\"Card of Clubs\", \"Image of Card of Clubs\", \"Picture of Card of Clubs\", \"Poker Card of Clubs\", \"Classic Card of Clubs\", \"Vintage Card of Clubs\", \"Royal Card of Clubs\", \"Deluxe Card of Clubs\", \"Exclusive Card of Clubs\", \"Premium Card of Clubs\", \"Elegant Card of Clubs\"],\n",
    "    \"Diamonds\": [\"Card of Diamonds\", \"Image of Card of Diamonds\", \"Picture of Card of Diamonds\", \"Poker Card of Diamonds\", \"Classic Card of Diamonds\", \"Vintage Card of Diamonds\", \"Royal Card of Diamonds\", \"Deluxe Card of Diamonds\", \"Exclusive Card of Diamonds\", \"Premium Card of Diamonds\", \"Elegant Card of Diamonds\"],\n",
    "    \"Hearts\": [\"Card of Hearts\", \"Image of Card of Hearts\", \"Picture of Card of Hearts\", \"Poker Card of Hearts\", \"Classic Card of Hearts\", \"Vintage Card of Hearts\", \"Royal Card of Hearts\", \"Deluxe Card of Hearts\", \"Exclusive Card of Hearts\", \"Premium Card of Hearts\", \"Elegant Card of Hearts\"],\n",
    "    \"Spades\": [\"Card of Spades\", \"Image of Card of Spades\", \"Picture of Card of Spades\", \"Poker Card of Spades\", \"Classic Card of Spades\", \"Vintage Card of Spades\", \"Royal Card of Spades\", \"Deluxe Card of Spades\", \"Exclusive Card of Spades\", \"Premium Card of Spades\", \"Elegant Card of Spades\"]\n",
    "}\n",
    "\n",
    "# Card of Clubs, Image of Card of Clubs, Picture of Card of Clubs, Poker Card of Clubs, Classic Card of Clubs, Vintage Card of Clubs, Royal Card of Clubs, Deluxe Card of Clubs, Exclusive Card of Clubs, Premium Card of Clubs, Elegant Card of Clubs, Card of Diamonds, Image of Card of Diamonds, Picture of Card of Diamonds, Poker Card of Diamonds, Classic Card of Diamonds, Vintage Card of Diamonds, Royal Card of Diamonds, Deluxe Card of Diamonds, Exclusive Card of Diamonds, Premium Card of Diamonds, Elegant Card of Diamonds, Card of Hearts, Image of Card of Hearts, Picture of Card of Hearts, Poker Card of Hearts, Classic Card of Hearts, Vintage Card of Hearts, Royal Card of Hearts, Deluxe Card of Hearts, Exclusive Card of Hearts, Premium Card of Hearts, Elegant Card of Hearts, Card of Spades, Image of Card of Spades, Picture of Card of Spades, Poker Card of Spades, Classic Card of Spades, Vintage Card of Spades, Royal Card of Spades, Deluxe Card of Spades, Exclusive Card of Spades, Premium Card of Spades, Elegant Card of Spades\n",
    "\n",
    "# dict_size(cards44)\n",
    "# print(card_accuracy(\"Card15/cards44.csv\", cards44))\n"
   ]
  },
  {
   "cell_type": "code",
   "execution_count": 71,
   "metadata": {},
   "outputs": [],
   "source": [
    "cards48 = {\n",
    "    \"Clubs\": [\"Card of Clubs\", \"Image of Card of Clubs\", \"Picture of Card of Clubs\", \"Poker Card of Clubs\", \"Classic Card of Clubs\", \"Vintage Card of Clubs\", \"Royal Card of Clubs\", \"Deluxe Card of Clubs\", \"Exclusive Card of Clubs\", \"Premium Card of Clubs\", \"Elegant Card of Clubs\", \"Prestige Card of Clubs\"],\n",
    "    \"Diamonds\": [\"Card of Diamonds\", \"Image of Card of Diamonds\", \"Picture of Card of Diamonds\", \"Poker Card of Diamonds\", \"Classic Card of Diamonds\", \"Vintage Card of Diamonds\", \"Royal Card of Diamonds\", \"Deluxe Card of Diamonds\", \"Exclusive Card of Diamonds\", \"Premium Card of Diamonds\", \"Elegant Card of Diamonds\", \"Prestige Card of Diamonds\"],\n",
    "    \"Hearts\": [\"Card of Hearts\", \"Image of Card of Hearts\", \"Picture of Card of Hearts\", \"Poker Card of Hearts\", \"Classic Card of Hearts\", \"Vintage Card of Hearts\", \"Royal Card of Hearts\", \"Deluxe Card of Hearts\", \"Exclusive Card of Hearts\", \"Premium Card of Hearts\", \"Elegant Card of Hearts\", \"Prestige Card of Hearts\"],\n",
    "    \"Spades\": [\"Card of Spades\", \"Image of Card of Spades\", \"Picture of Card of Spades\", \"Poker Card of Spades\", \"Classic Card of Spades\", \"Vintage Card of Spades\", \"Royal Card of Spades\", \"Deluxe Card of Spades\", \"Exclusive Card of Spades\", \"Premium Card of Spades\", \"Elegant Card of Spades\", \"Prestige Card of Spades\"]\n",
    "}\n",
    "\n",
    "# Card of Clubs, Image of Card of Clubs, Picture of Card of Clubs, Poker Card of Clubs, Classic Card of Clubs, Vintage Card of Clubs, Royal Card of Clubs, Deluxe Card of Clubs, Exclusive Card of Clubs, Premium Card of Clubs, Elegant Card of Clubs, Prestige Card of Clubs, Card of Diamonds, Image of Card of Diamonds, Picture of Card of Diamonds, Poker Card of Diamonds, Classic Card of Diamonds, Vintage Card of Diamonds, Royal Card of Diamonds, Deluxe Card of Diamonds, Exclusive Card of Diamonds, Premium Card of Diamonds, Elegant Card of Diamonds, Prestige Card of Diamonds, Card of Hearts, Image of Card of Hearts, Picture of Card of Hearts, Poker Card of Hearts, Classic Card of Hearts, Vintage Card of Hearts, Royal Card of Hearts, Deluxe Card of Hearts, Exclusive Card of Hearts, Premium Card of Hearts, Elegant Card of Hearts, Prestige Card of Hearts, Card of Spades, Image of Card of Spades, Picture of Card of Spades, Poker Card of Spades, Classic Card of Spades, Vintage Card of Spades, Royal Card of Spades, Deluxe Card of Spades, Exclusive Card of Spades, Premium Card of Spades, Elegant Card of Spades, Prestige Card of Spades\n",
    "\n",
    "# dict_size(cards48)\n",
    "# print(card_accuracy(\"Card15/cards48.csv\", cards48))\n"
   ]
  },
  {
   "cell_type": "markdown",
   "metadata": {},
   "source": [
    "## Food 10"
   ]
  },
  {
   "cell_type": "code",
   "execution_count": 72,
   "metadata": {},
   "outputs": [],
   "source": [
    "f10 = { \"Baked Potato\" : [\"Baked Potato\"],\n",
    "       \"Burger\" : [\"Burger\"],\n",
    "       \"Crispy Chicken\" : [\"Crispy Chicken\"],\n",
    "       \"Donut\" : [\"Donut\"],\n",
    "       \"Fries\" : [\"Fries\"],\n",
    "       \"Hot Dog\" : [\"Hot Dog\"],\n",
    "       \"Pizza\" : [\"Pizza\"],\n",
    "       \"Sandwich\" : [\"Sandwich\"],\n",
    "       \"Taco\" : [\"Taco\"],\n",
    "       \"Taquito\" : [\"Taquito\"]}\n",
    "\n",
    "# Baked Potato, Burger, Crispy Chicken, Donut, Fries, Hot Dog, Pizza, Sandwich, Taco, Taquito\n",
    "\n",
    "# dict_size(f10)\n",
    "# print(aOcheck_accuracy(\"food10/f10.csv\", f10))"
   ]
  },
  {
   "cell_type": "code",
   "execution_count": 73,
   "metadata": {},
   "outputs": [],
   "source": [
    "f20 = {\n",
    "    \"Baked Potato\": [\"Baked Potato\", \"Image of Baked Potato\"],\n",
    "    \"Burger\": [\"Burger\", \"Image of Burger\"],\n",
    "    \"Crispy Chicken\": [\"Crispy Chicken\", \"Image of Crispy Chicken\"],\n",
    "    \"Donut\": [\"Donut\", \"Image of Donut\"],\n",
    "    \"Fries\": [\"Fries\", \"Image of Fries\"],\n",
    "    \"Hot Dog\": [\"Hot Dog\", \"Image of Hot Dog\"],\n",
    "    \"Pizza\": [\"Pizza\", \"Image of Pizza\"],\n",
    "    \"Sandwich\": [\"Sandwich\", \"Image of Sandwich\"],\n",
    "    \"Taco\": [\"Taco\", \"Image of Taco\"],\n",
    "    \"Taquito\": [\"Taquito\", \"Image of Taquito\"]\n",
    "}\n",
    "\n",
    "# Baked Potato, Image of Baked Potato, Burger, Image of Burger, Crispy Chicken, Image of Crispy Chicken, Donut, Image of Donut, Fries, Image of Fries, Hot Dog, Image of Hot Dog, Pizza, Image of Pizza, Sandwich, Image of Sandwich, Taco, Image of Taco, Taquito, Image of Taquito\n",
    "\n",
    "# dict_size(f20)\n",
    "# print(aOcheck_accuracy(\"food10/f20.csv\", f20))\n",
    "\n"
   ]
  },
  {
   "cell_type": "code",
   "execution_count": 74,
   "metadata": {},
   "outputs": [
    {
     "name": "stdout",
     "output_type": "stream",
     "text": [
      "90.4\n",
      "90.4\n"
     ]
    }
   ],
   "source": [
    "f30 = {\n",
    "    \"Baked Potato\": [\"Baked Potato\", \"Image of Baked Potato\", \"Picture of Baked Potato\"],\n",
    "    \"Burger\": [\"Burger\", \"Image of Burger\", \"Picture of Burger\"],\n",
    "    \"Crispy Chicken\": [\"Crispy Chicken\", \"Image of Crispy Chicken\", \"Picture of Crispy Chicken\"],\n",
    "    \"Donut\": [\"Donut\", \"Image of Donut\", \"Picture of Donut\"],\n",
    "    \"Fries\": [\"Fries\", \"Image of Fries\", \"Picture of Fries\"],\n",
    "    \"Hot Dog\": [\"Hot Dog\", \"Image of Hot Dog\", \"Picture of Hot Dog\"],\n",
    "    \"Pizza\": [\"Pizza\", \"Image of Pizza\", \"Picture of Pizza\"],\n",
    "    \"Sandwich\": [\"Sandwich\", \"Image of Sandwich\", \"Picture of Sandwich\"],\n",
    "    \"Taco\": [\"Taco\", \"Image of Taco\", \"Picture of Taco\"],\n",
    "    \"Taquito\": [\"Taquito\", \"Image of Taquito\", \"Picture of Taquito\"]\n",
    "}\n",
    "\n",
    "# Baked Potato, Image of Baked Potato, Picture of Baked Potato, Burger, Image of Burger, Picture of Burger, Crispy Chicken, Image of Crispy Chicken, Picture of Crispy Chicken, Donut, Image of Donut, Picture of Donut, Fries, Image of Fries, Picture of Fries, Hot Dog, Image of Hot Dog, Picture of Hot Dog, Pizza, Image of Pizza, Picture of Pizza, Sandwich, Image of Sandwich, Picture of Sandwich, Taco, Image of Taco, Picture of Taco, Taquito, Image of Taquito, Picture of Taquito\n",
    "\n",
    "# dict_size(f30)\n",
    "print(aOcheck_accuracy(\"food10/f30.csv\", f30))\n"
   ]
  },
  {
   "cell_type": "code",
   "execution_count": 75,
   "metadata": {},
   "outputs": [
    {
     "name": "stdout",
     "output_type": "stream",
     "text": [
      "90.99\n",
      "90.99\n"
     ]
    }
   ],
   "source": [
    "f40 = {\n",
    "    \"Baked Potato\": [\"Baked Potato\", \"Image of Baked Potato\", \"Picture of Baked Potato\", \"Baked Potatoes\"],\n",
    "    \"Burger\": [\"Burger\", \"Image of Burger\", \"Picture of Burger\", \"Burgers\"],\n",
    "    \"Crispy Chicken\": [\"Crispy Chicken\", \"Image of Crispy Chicken\", \"Picture of Crispy Chicken\", \"Crispy Chickens\"],\n",
    "    \"Donut\": [\"Donut\", \"Image of Donut\", \"Picture of Donut\", \"Donuts\"],\n",
    "    \"Fries\": [\"Fries\", \"Image of Fries\", \"Picture of Fries\", \"French Fries\"],\n",
    "    \"Hot Dog\": [\"Hot Dog\", \"Image of Hot Dog\", \"Picture of Hot Dog\", \"Hot Dogs\"],\n",
    "    \"Pizza\": [\"Pizza\", \"Image of Pizza\", \"Picture of Pizza\", \"Pizzas\"],\n",
    "    \"Sandwich\": [\"Sandwich\", \"Image of Sandwich\", \"Picture of Sandwich\", \"Sandwiches\"],\n",
    "    \"Taco\": [\"Taco\", \"Image of Taco\", \"Picture of Taco\", \"Tacos\"],\n",
    "    \"Taquito\": [\"Taquito\", \"Image of Taquito\", \"Picture of Taquito\", \"Taquitos\"]\n",
    "}\n",
    "\n",
    "# Baked Potato, Image of Baked Potato, Picture of Baked Potato, Baked Potatoes, Burger, Image of Burger, Picture of Burger, Burgers, Crispy Chicken, Image of Crispy Chicken, Picture of Crispy Chicken, Crispy Chickens, Donut, Image of Donut, Picture of Donut, Donuts, Fries, Image of Fries, Picture of Fries, French Fries, Hot Dog, Image of Hot Dog, Picture of Hot Dog, Hot Dogs, Pizza, Image of Pizza, Picture of Pizza, Pizzas, Sandwich, Image of Sandwich, Picture of Sandwich, Sandwiches, Taco, Image of Taco, Picture of Taco, Tacos, Taquito, Image of Taquito, Picture of Taquito, Taquitos\n",
    "\n",
    "# dict_size(f40)\n",
    "print(aOcheck_accuracy(\"food10/f40.csv\", f40))\n"
   ]
  },
  {
   "cell_type": "code",
   "execution_count": 76,
   "metadata": {},
   "outputs": [
    {
     "name": "stdout",
     "output_type": "stream",
     "text": [
      "91.28\n",
      "91.28\n"
     ]
    }
   ],
   "source": [
    "f50 = {\n",
    "    \"Baked Potato\": [\"Baked Potato\", \"Image of Baked Potato\", \"Picture of Baked Potato\", \"Baked Potatoes\", \"Appetizing Baked Potato\"],\n",
    "    \"Burger\": [\"Burger\", \"Image of Burger\", \"Picture of Burger\", \"Burgers\", \"Appetizing Burger\"],\n",
    "    \"Crispy Chicken\": [\"Crispy Chicken\", \"Image of Crispy Chicken\", \"Picture of Crispy Chicken\", \"Crispy Chickens\", \"Appetizing Crispy Chicken\"],\n",
    "    \"Donut\": [\"Donut\", \"Image of Donut\", \"Picture of Donut\", \"Donuts\", \"Appetizing Donut\"],\n",
    "    \"Fries\": [\"Fries\", \"Image of Fries\", \"Picture of Fries\", \"French Fries\", \"Appetizing Fries\"],\n",
    "    \"Hot Dog\": [\"Hot Dog\", \"Image of Hot Dog\", \"Picture of Hot Dog\", \"Hot Dogs\", \"Appetizing Hot Dog\"],\n",
    "    \"Pizza\": [\"Pizza\", \"Image of Pizza\", \"Picture of Pizza\", \"Pizzas\", \"Appetizing Pizza\"],\n",
    "    \"Sandwich\": [\"Sandwich\", \"Image of Sandwich\", \"Picture of Sandwich\", \"Sandwiches\", \"Appetizing Sandwich\"],\n",
    "    \"Taco\": [\"Taco\", \"Image of Taco\", \"Picture of Taco\", \"Tacos\", \"Appetizing Taco\"],\n",
    "    \"Taquito\": [\"Taquito\", \"Image of Taquito\", \"Picture of Taquito\", \"Taquitos\", \"Appetizing Taquito\"]\n",
    "}\n",
    "\n",
    "# Baked Potato, Image of Baked Potato, Picture of Baked Potato, Baked Potatoes, Appetizing Baked Potato, Burger, Image of Burger, Picture of Burger, Burgers, Appetizing Burger, Crispy Chicken, Image of Crispy Chicken, Picture of Crispy Chicken, Crispy Chickens, Appetizing Crispy Chicken, Donut, Image of Donut, Picture of Donut, Donuts, Appetizing Donut, Fries, Image of Fries, Picture of Fries, French Fries, Appetizing Fries, Hot Dog, Image of Hot Dog, Picture of Hot Dog, Hot Dogs, Appetizing Hot Dog, Pizza, Image of Pizza, Picture of Pizza, Pizzas, Appetizing Pizza, Sandwich, Image of Sandwich, Picture of Sandwich, Sandwiches, Appetizing Sandwich, Taco, Image of Taco, Picture of Taco, Tacos, Appetizing Taco, Taquito, Image of Taquito, Picture of Taquito, Taquitos, Appetizing Taquito\n",
    "\n",
    "# dict_size(f50)\n",
    "print(aOcheck_accuracy(\"food10/f50.csv\", f50))\n"
   ]
  },
  {
   "cell_type": "code",
   "execution_count": 77,
   "metadata": {},
   "outputs": [
    {
     "name": "stdout",
     "output_type": "stream",
     "text": [
      "91.28\n",
      "91.28\n"
     ]
    }
   ],
   "source": [
    "f60 = {\n",
    "    \"Baked Potato\": [\"Baked Potato\", \"Image of Baked Potato\", \"Picture of Baked Potato\", \"Baked Potatoes\", \"Appetizing Baked Potato\", \"Cool Baked Potato\"],\n",
    "    \"Burger\": [\"Burger\", \"Image of Burger\", \"Picture of Burger\", \"Burgers\", \"Appetizing Burger\", \"Cool Burger\"],\n",
    "    \"Crispy Chicken\": [\"Crispy Chicken\", \"Image of Crispy Chicken\", \"Picture of Crispy Chicken\", \"Crispy Chickens\", \"Appetizing Crispy Chicken\", \"Cool Crispy Chicken\"],\n",
    "    \"Donut\": [\"Donut\", \"Image of Donut\", \"Picture of Donut\", \"Donuts\", \"Appetizing Donut\", \"Cool Donut\"],\n",
    "    \"Fries\": [\"Fries\", \"Image of Fries\", \"Picture of Fries\", \"French Fries\", \"Appetizing Fries\", \"Cool Fries\"],\n",
    "    \"Hot Dog\": [\"Hot Dog\", \"Image of Hot Dog\", \"Picture of Hot Dog\", \"Hot Dogs\", \"Appetizing Hot Dog\", \"Cool Hot Dog\"],\n",
    "    \"Pizza\": [\"Pizza\", \"Image of Pizza\", \"Picture of Pizza\", \"Pizzas\", \"Appetizing Pizza\", \"Cool Pizza\"],\n",
    "    \"Sandwich\": [\"Sandwich\", \"Image of Sandwich\", \"Picture of Sandwich\", \"Sandwiches\", \"Appetizing Sandwich\", \"Cool Sandwich\"],\n",
    "    \"Taco\": [\"Taco\", \"Image of Taco\", \"Picture of Taco\", \"Tacos\", \"Appetizing Taco\", \"Cool Taco\"],\n",
    "    \"Taquito\": [\"Taquito\", \"Image of Taquito\", \"Picture of Taquito\", \"Taquitos\", \"Appetizing Taquito\", \"Cool Taquito\"]\n",
    "}\n",
    "\n",
    "# Baked Potato, Image of Baked Potato, Picture of Baked Potato, Baked Potatoes, Appetizing Baked Potato, Cool Baked Potato, Burger, Image of Burger, Picture of Burger, Burgers, Appetizing Burger, Cool Burger, Crispy Chicken, Image of Crispy Chicken, Picture of Crispy Chicken, Crispy Chickens, Appetizing Crispy Chicken, Cool Crispy Chicken, Donut, Image of Donut, Picture of Donut, Donuts, Appetizing Donut, Cool Donut, Fries, Image of Fries, Picture of Fries, French Fries, Appetizing Fries, Cool Fries, Hot Dog, Image of Hot Dog, Picture of Hot Dog, Hot Dogs, Appetizing Hot Dog, Cool Hot Dog, Pizza, Image of Pizza, Picture of Pizza, Pizzas, Appetizing Pizza, Cool Pizza, Sandwich, Image of Sandwich, Picture of Sandwich, Sandwiches, Appetizing Sandwich, Cool Sandwich, Taco, Image of Taco, Picture of Taco, Tacos, Appetizing Taco, Cool Taco, Taquito, Image of Taquito, Picture of Taquito, Taquitos, Appetizing Taquito, Cool Taquito\n",
    "\n",
    "# dict_size(f60)\n",
    "print(aOcheck_accuracy(\"food10/f60.csv\", f60))"
   ]
  },
  {
   "cell_type": "code",
   "execution_count": 78,
   "metadata": {},
   "outputs": [
    {
     "name": "stdout",
     "output_type": "stream",
     "text": [
      "91.69\n",
      "91.69\n"
     ]
    }
   ],
   "source": [
    "f70 = {\n",
    "    \"Baked Potato\": [\"Baked Potato\", \"Image of Baked Potato\", \"Picture of Baked Potato\", \"Baked Potatoes\", \"Appetizing Baked Potato\", \"Cool Baked Potato\", \"Food Baked Potato\"],\n",
    "    \"Burger\": [\"Burger\", \"Image of Burger\", \"Picture of Burger\", \"Burgers\", \"Appetizing Burger\", \"Cool Burger\", \"Food Burger\"],\n",
    "    \"Crispy Chicken\": [\"Crispy Chicken\", \"Image of Crispy Chicken\", \"Picture of Crispy Chicken\", \"Crispy Chickens\", \"Appetizing Crispy Chicken\", \"Cool Crispy Chicken\", \"Food Crispy Chicken\"],\n",
    "    \"Donut\": [\"Donut\", \"Image of Donut\", \"Picture of Donut\", \"Donuts\", \"Appetizing Donut\", \"Cool Donut\", \"Food Donut\"],\n",
    "    \"Fries\": [\"Fries\", \"Image of Fries\", \"Picture of Fries\", \"French Fries\", \"Appetizing Fries\", \"Cool Fries\", \"Food Fries\"],\n",
    "    \"Hot Dog\": [\"Hot Dog\", \"Image of Hot Dog\", \"Picture of Hot Dog\", \"Hot Dogs\", \"Appetizing Hot Dog\", \"Cool Hot Dog\", \"Food Hot Dog\"],\n",
    "    \"Pizza\": [\"Pizza\", \"Image of Pizza\", \"Picture of Pizza\", \"Pizzas\", \"Appetizing Pizza\", \"Cool Pizza\", \"Food Pizza\"],\n",
    "    \"Sandwich\": [\"Sandwich\", \"Image of Sandwich\", \"Picture of Sandwich\", \"Sandwiches\", \"Appetizing Sandwich\", \"Cool Sandwich\", \"Food Sandwich\"],\n",
    "    \"Taco\": [\"Taco\", \"Image of Taco\", \"Picture of Taco\", \"Tacos\", \"Appetizing Taco\", \"Cool Taco\", \"Food Taco\"],\n",
    "    \"Taquito\": [\"Taquito\", \"Image of Taquito\", \"Picture of Taquito\", \"Taquitos\", \"Appetizing Taquito\", \"Cool Taquito\", \"Food Taquito\"]\n",
    "}\n",
    "\n",
    "# Baked Potato, Image of Baked Potato, Picture of Baked Potato, Baked Potatoes, Appetizing Baked Potato, Cool Baked Potato, Food Baked Potato, Burger, Image of Burger, Picture of Burger, Burgers, Appetizing Burger, Cool Burger, Food Burger, Crispy Chicken, Image of Crispy Chicken, Picture of Crispy Chicken, Crispy Chickens, Appetizing Crispy Chicken, Cool Crispy Chicken, Food Crispy Chicken, Donut, Image of Donut, Picture of Donut, Donuts, Appetizing Donut, Cool Donut, Food Donut, Fries, Image of Fries, Picture of Fries, French Fries, Appetizing Fries, Cool Fries, Food Fries, Hot Dog, Image of Hot Dog, Picture of Hot Dog, Hot Dogs, Appetizing Hot Dog, Cool Hot Dog, Food Hot Dog, Pizza, Image of Pizza, Picture of Pizza, Pizzas, Appetizing Pizza, Cool Pizza, Food Pizza, Sandwich, Image of Sandwich, Picture of Sandwich, Sandwiches, Appetizing Sandwich, Cool Sandwich, Food Sandwich, Taco, Image of Taco, Picture of Taco, Tacos, Appetizing Taco, Cool Taco, Food Taco, Taquito, Image of Taquito, Picture of Taquito, Taquitos, Appetizing Taquito, Cool Taquito, Food Taquito\n",
    "\n",
    "# dict_size(f70)\n",
    "print(aOcheck_accuracy(\"food10/f70.csv\", f70))\n"
   ]
  },
  {
   "cell_type": "code",
   "execution_count": 79,
   "metadata": {},
   "outputs": [
    {
     "name": "stdout",
     "output_type": "stream",
     "text": [
      "91.69\n",
      "91.69\n"
     ]
    }
   ],
   "source": [
    "f80 = {\n",
    "    \"Baked Potato\": [\"Baked Potato\", \"Image of Baked Potato\", \"Picture of Baked Potato\", \"Baked Potatoes\", \"Appetizing Baked Potato\", \"Cool Baked Potato\", \"Food Baked Potato\", \"Fresh Baked Potato\"],\n",
    "    \"Burger\": [\"Burger\", \"Image of Burger\", \"Picture of Burger\", \"Burgers\", \"Appetizing Burger\", \"Cool Burger\", \"Food Burger\", \"Fresh Burger\"],\n",
    "    \"Crispy Chicken\": [\"Crispy Chicken\", \"Image of Crispy Chicken\", \"Picture of Crispy Chicken\", \"Crispy Chickens\", \"Appetizing Crispy Chicken\", \"Cool Crispy Chicken\", \"Food Crispy Chicken\", \"Fresh Crispy Chicken\"],\n",
    "    \"Donut\": [\"Donut\", \"Image of Donut\", \"Picture of Donut\", \"Donuts\", \"Appetizing Donut\", \"Cool Donut\", \"Food Donut\", \"Fresh Donut\"],\n",
    "    \"Fries\": [\"Fries\", \"Image of Fries\", \"Picture of Fries\", \"French Fries\", \"Appetizing Fries\", \"Cool Fries\", \"Food Fries\", \"Fresh Fries\"],\n",
    "    \"Hot Dog\": [\"Hot Dog\", \"Image of Hot Dog\", \"Picture of Hot Dog\", \"Hot Dogs\", \"Appetizing Hot Dog\", \"Cool Hot Dog\", \"Food Hot Dog\", \"Fresh Hot Dog\"],\n",
    "    \"Pizza\": [\"Pizza\", \"Image of Pizza\", \"Picture of Pizza\", \"Pizzas\", \"Appetizing Pizza\", \"Cool Pizza\", \"Food Pizza\", \"Fresh Pizza\"],\n",
    "    \"Sandwich\": [\"Sandwich\", \"Image of Sandwich\", \"Picture of Sandwich\", \"Sandwiches\", \"Appetizing Sandwich\", \"Cool Sandwich\", \"Food Sandwich\", \"Fresh Sandwich\"],\n",
    "    \"Taco\": [\"Taco\", \"Image of Taco\", \"Picture of Taco\", \"Tacos\", \"Appetizing Taco\", \"Cool Taco\", \"Food Taco\", \"Fresh Taco\"],\n",
    "    \"Taquito\": [\"Taquito\", \"Image of Taquito\", \"Picture of Taquito\", \"Taquitos\", \"Appetizing Taquito\", \"Cool Taquito\", \"Food Taquito\", \"Fresh Taquito\"]\n",
    "}\n",
    "\n",
    "# Baked Potato, Image of Baked Potato, Picture of Baked Potato, Baked Potatoes, Appetizing Baked Potato, Cool Baked Potato, Food Baked Potato, Fresh Baked Potato, Burger, Image of Burger, Picture of Burger, Burgers, Appetizing Burger, Cool Burger, Food Burger, Fresh Burger, Crispy Chicken, Image of Crispy Chicken, Picture of Crispy Chicken, Crispy Chickens, Appetizing Crispy Chicken, Cool Crispy Chicken, Food Crispy Chicken, Fresh Crispy Chicken, Donut, Image of Donut, Picture of Donut, Donuts, Appetizing Donut, Cool Donut, Food Donut, Fresh Donut, Fries, Image of Fries, Picture of Fries, French Fries, Appetizing Fries, Cool Fries, Food Fries, Fresh Fries, Hot Dog, Image of Hot Dog, Picture of Hot Dog, Hot Dogs, Appetizing Hot Dog, Cool Hot Dog, Food Hot Dog, Fresh Hot Dog, Pizza, Image of Pizza, Picture of Pizza, Pizzas, Appetizing Pizza, Cool Pizza, Food Pizza, Fresh Pizza, Sandwich, Image of Sandwich, Picture of Sandwich, Sandwiches, Appetizing Sandwich, Cool Sandwich, Food Sandwich, Fresh Sandwich, Taco, Image of Taco, Picture of Taco, Tacos, Appetizing Taco, Cool Taco, Food Taco, Fresh Taco, Taquito, Image of Taquito, Picture of Taquito, Taquitos, Appetizing Taquito, Cool Taquito, Food Taquito, Fresh Taquito\n",
    "\n",
    "# dict_size(f80)\n",
    "print(aOcheck_accuracy(\"food10/f80.csv\", f80))\n"
   ]
  },
  {
   "cell_type": "code",
   "execution_count": 80,
   "metadata": {},
   "outputs": [],
   "source": [
    "f90 = {\n",
    "    \"Baked Potato\": [\"Baked Potato\", \"Image of Baked Potato\", \"Picture of Baked Potato\", \"Baked Potatoes\", \"Appetizing Baked Potato\", \"Cool Baked Potato\", \"Food Baked Potato\", \"Fresh Baked Potato\", \"Picture of Baked Potatoes\"],\n",
    "    \"Burger\": [\"Burger\", \"Image of Burger\", \"Picture of Burger\", \"Burgers\", \"Appetizing Burger\", \"Cool Burger\", \"Food Burger\", \"Fresh Burger\", \"Picture of Burgers\"],\n",
    "    \"Crispy Chicken\": [\"Crispy Chicken\", \"Image of Crispy Chicken\", \"Picture of Crispy Chicken\", \"Crispy Chickens\", \"Appetizing Crispy Chicken\", \"Cool Crispy Chicken\", \"Food Crispy Chicken\", \"Fresh Crispy Chicken\", \"Picture of Crispy Chickens\"],\n",
    "    \"Donut\": [\"Donut\", \"Image of Donut\", \"Picture of Donut\", \"Donuts\", \"Appetizing Donut\", \"Cool Donut\", \"Food Donut\", \"Fresh Donut\", \"Picture of Donuts\"],\n",
    "    \"Fries\": [\"Fries\", \"Image of Fries\", \"Picture of Fries\", \"French Fries\", \"Appetizing Fries\", \"Cool Fries\", \"Food Fries\", \"Fresh Fries\", \"Picture of Fries\"],\n",
    "    \"Hot Dog\": [\"Hot Dog\", \"Image of Hot Dog\", \"Picture of Hot Dog\", \"Hot Dogs\", \"Appetizing Hot Dog\", \"Cool Hot Dog\", \"Food Hot Dog\", \"Fresh Hot Dog\", \"Picture of Hot Dogs\"],\n",
    "    \"Pizza\": [\"Pizza\", \"Image of Pizza\", \"Picture of Pizza\", \"Pizzas\", \"Appetizing Pizza\", \"Cool Pizza\", \"Food Pizza\", \"Fresh Pizza\", \"Picture of Pizzas\"],\n",
    "    \"Sandwich\": [\"Sandwich\", \"Image of Sandwich\", \"Picture of Sandwich\", \"Sandwiches\", \"Appetizing Sandwich\", \"Cool Sandwich\", \"Food Sandwich\", \"Fresh Sandwich\", \"Picture of Sandwiches\"],\n",
    "    \"Taco\": [\"Taco\", \"Image of Taco\", \"Picture of Taco\", \"Tacos\", \"Appetizing Taco\", \"Cool Taco\", \"Food Taco\", \"Fresh Taco\", \"Picture of Tacos\"],\n",
    "    \"Taquito\": [\"Taquito\", \"Image of Taquito\", \"Picture of Taquito\", \"Taquitos\", \"Appetizing Taquito\", \"Cool Taquito\", \"Food Taquito\", \"Fresh Taquito\", \"Picture of Taquitos\"]\n",
    "}\n",
    "\n",
    "# Baked Potato, Image of Baked Potato, Picture of Baked Potato, Baked Potatoes, Appetizing Baked Potato, Cool Baked Potato, Food Baked Potato, Fresh Baked Potato, Picture of Baked Potatoes, Burger, Image of Burger, Picture of Burger, Burgers, Appetizing Burger, Cool Burger, Food Burger, Fresh Burger, Picture of Burgers, Crispy Chicken, Image of Crispy Chicken, Picture of Crispy Chicken, Crispy Chickens, Appetizing Crispy Chicken, Cool Crispy Chicken, Food Crispy Chicken, Fresh Crispy Chicken, Picture of Crispy Chickens, Donut, Image of Donut, Picture of Donut, Donuts, Appetizing Donut, Cool Donut, Food Donut, Fresh Donut, Picture of Donuts, Fries, Image of Fries, Picture of Fries, French Fries, Appetizing Fries, Cool Fries, Food Fries, Fresh Fries, Picture of Fries, Hot Dog, Image of Hot Dog, Picture of Hot Dog, Hot Dogs, Appetizing Hot Dog, Cool Hot Dog, Food Hot Dog, Fresh Hot Dog, Picture of Hot Dogs, Pizza, Image of Pizza, Picture of Pizza, Pizzas, Appetizing Pizza, Cool Pizza, Food Pizza, Fresh Pizza, Picture of Pizzas, Sandwich, Image of Sandwich, Picture of Sandwich, Sandwiches, Appetizing Sandwich, Cool Sandwich, Food Sandwich, Fresh Sandwich, Picture of Sandwiches, Taco, Image of Taco, Picture of Taco, Tacos, Appetizing Taco, Cool Taco, Food Taco, Fresh Taco, Picture of Tacos, Taquito, Image of Taquito, Picture of Taquito, Taquitos, Appetizing Taquito, Cool Taquito, Food Taquito, Fresh Taquito, Picture of Taquitos\n",
    "\n",
    "# dict_size(f90)\n",
    "# print(aOcheck_accuracy(\"food10/f90.csv\", f90))"
   ]
  },
  {
   "cell_type": "code",
   "execution_count": 81,
   "metadata": {},
   "outputs": [],
   "source": [
    "f100 = {\n",
    "    \"Baked Potato\": [\"Baked Potato\", \"Image of Baked Potato\", \"Picture of Baked Potato\", \"Baked Potatoes\", \"Appetizing Baked Potato\", \"Cool Baked Potato\", \"Food Baked Potato\", \"Fresh Baked Potato\", \"Picture of Baked Potatoes\", \"Delicious Baked Potato\"],\n",
    "    \"Burger\": [\"Burger\", \"Image of Burger\", \"Picture of Burger\", \"Burgers\", \"Appetizing Burger\", \"Cool Burger\", \"Food Burger\", \"Fresh Burger\", \"Picture of Burgers\", \"Delicious Burger\"],\n",
    "    \"Crispy Chicken\": [\"Crispy Chicken\", \"Image of Crispy Chicken\", \"Picture of Crispy Chicken\", \"Crispy Chickens\", \"Appetizing Crispy Chicken\", \"Cool Crispy Chicken\", \"Food Crispy Chicken\", \"Fresh Crispy Chicken\", \"Picture of Crispy Chickens\", \"Delicious Crispy Chicken\"],\n",
    "    \"Donut\": [\"Donut\", \"Image of Donut\", \"Picture of Donut\", \"Donuts\", \"Appetizing Donut\", \"Cool Donut\", \"Food Donut\", \"Fresh Donut\", \"Picture of Donuts\", \"Delicious Donut\"],\n",
    "    \"Fries\": [\"Fries\", \"Image of Fries\", \"Picture of Fries\", \"French Fries\", \"Appetizing Fries\", \"Cool Fries\", \"Food Fries\", \"Fresh Fries\", \"Picture of Fries\", \"Delicious Fries\"],\n",
    "    \"Hot Dog\": [\"Hot Dog\", \"Image of Hot Dog\", \"Picture of Hot Dog\", \"Hot Dogs\", \"Appetizing Hot Dog\", \"Cool Hot Dog\", \"Food Hot Dog\", \"Fresh Hot Dog\", \"Picture of Hot Dogs\", \"Delicious Hot Dog\"],\n",
    "    \"Pizza\": [\"Pizza\", \"Image of Pizza\", \"Picture of Pizza\", \"Pizzas\", \"Appetizing Pizza\", \"Cool Pizza\", \"Food Pizza\", \"Fresh Pizza\", \"Picture of Pizzas\", \"Delicious Pizza\"],\n",
    "    \"Sandwich\": [\"Sandwich\", \"Image of Sandwich\", \"Picture of Sandwich\", \"Sandwiches\", \"Appetizing Sandwich\", \"Cool Sandwich\", \"Food Sandwich\", \"Fresh Sandwich\", \"Picture of Sandwiches\", \"Delicious Sandwich\"],\n",
    "    \"Taco\": [\"Taco\", \"Image of Taco\", \"Picture of Taco\", \"Tacos\", \"Appetizing Taco\", \"Cool Taco\", \"Food Taco\", \"Fresh Taco\", \"Picture of Tacos\", \"Delicious Taco\"],\n",
    "    \"Taquito\": [\"Taquito\", \"Image of Taquito\", \"Picture of Taquito\", \"Taquitos\", \"Appetizing Taquito\", \"Cool Taquito\", \"Food Taquito\", \"Fresh Taquito\", \"Picture of Taquitos\", \"Delicious Taquito\"]\n",
    "}\n",
    "\n",
    "# Baked Potato, Image of Baked Potato, Picture of Baked Potato, Baked Potatoes, Appetizing Baked Potato, Cool Baked Potato, Food Baked Potato, Fresh Baked Potato, Picture of Baked Potatoes, Delicious Baked Potato, Burger, Image of Burger, Picture of Burger, Burgers, Appetizing Burger, Cool Burger, Food Burger, Fresh Burger, Picture of Burgers, Delicious Burger, Crispy Chicken, Image of Crispy Chicken, Picture of Crispy Chicken, Crispy Chickens, Appetizing Crispy Chicken, Cool Crispy Chicken, Food Crispy Chicken, Fresh Crispy Chicken, Picture of Crispy Chickens, Delicious Crispy Chicken, Donut, Image of Donut, Picture of Donut, Donuts, Appetizing Donut, Cool Donut, Food Donut, Fresh Donut, Picture of Donuts, Delicious Donut, Fries, Image of Fries, Picture of Fries, French Fries, Appetizing Fries, Cool Fries, Food Fries, Fresh Fries, Picture of Fries, Delicious Fries, Hot Dog, Image of Hot Dog, Picture of Hot Dog, Hot Dogs, Appetizing Hot Dog, Cool Hot Dog, Food Hot Dog, Fresh Hot Dog, Picture of Hot Dogs, Delicious Hot Dog, Pizza, Image of Pizza, Picture of Pizza, Pizzas, Appetizing Pizza, Cool Pizza, Food Pizza, Fresh Pizza, Picture of Pizzas, Delicious Pizza, Sandwich, Image of Sandwich, Picture of Sandwich, Sandwiches, Appetizing Sandwich, Cool Sandwich, Food Sandwich, Fresh Sandwich, Picture of Sandwiches, Delicious Sandwich, Taco, Image of Taco, Picture of Taco, Tacos, Appetizing Taco, Cool Taco, Food Taco, Fresh Taco, Picture of Tacos, Delicious Taco, Taquito, Image of Taquito, Picture of Taquito, Taquitos, Appetizing Taquito, Cool Taquito, Food Taquito, Fresh Taquito, Picture of Taquitos, Delicious Taquito\n",
    "\n",
    "# dict_size(f100)\n",
    "# print(aOcheck_accuracy(\"food10/f100.csv\", f100))"
   ]
  },
  {
   "cell_type": "markdown",
   "metadata": {},
   "source": [
    "## Vehicles 20"
   ]
  },
  {
   "cell_type": "code",
   "execution_count": 82,
   "metadata": {},
   "outputs": [],
   "source": [
    "v20 = {\n",
    "    \"car\": [\"car\"],\n",
    "    \"motorcycle\": [\"motorcycle\"],\n",
    "    \"bicycle\": [\"bicycle\"],\n",
    "    \"truck\": [\"truck\"],\n",
    "    \"bus\": [\"bus\"],\n",
    "    \"van\": [\"van\"],\n",
    "    \"rickshaw\": [\"rickshaw\"],\n",
    "    \"scooter\": [\"scooter\"],\n",
    "    \"skateboard\": [\"skateboard\"],\n",
    "    \"ambulance\": [\"ambulance\"],\n",
    "    \"fire truck\": [\"fire truck\"],\n",
    "    \"tractor\": [\"tractor\"],\n",
    "    \"segway\": [\"segway\"],\n",
    "    \"unicycle\": [\"unicycle\"],\n",
    "    \"jet ski\": [\"jet ski\"],\n",
    "    \"helicopter\": [\"helicopter\"],\n",
    "    \"airplane\": [\"airplane\"],\n",
    "    \"boat\": [\"boat\"],\n",
    "    \"kayak\": [\"kayak\"],\n",
    "    \"hovercraft\" : [\"hovercraft\"]\n",
    "}\n",
    "\n",
    "# car,motorcycle, bicycle,truck,bus,van,rickshaw,scooter,skateboard,ambulance,fire truck,tractor,segway,unicycle,jet ski,helicopter,airplane,boat,kayak, hovercraft\n",
    "\n",
    "# dict_size(v20)\n",
    "# print(aOcheck_accuracy(\"vehicle20/v20.csv\", v20))"
   ]
  },
  {
   "cell_type": "code",
   "execution_count": 83,
   "metadata": {},
   "outputs": [],
   "source": [
    "v40 = {\n",
    "    \"car\": [\"car\", \"image of car\"],\n",
    "    \"motorcycle\": [\"motorcycle\", \"image of motorcycle\"],\n",
    "    \"bicycle\": [\"bicycle\", \"image of bicycle\"],\n",
    "    \"truck\": [\"truck\", \"image of truck\"],\n",
    "    \"bus\": [\"bus\", \"image of bus\"],\n",
    "    \"van\": [\"van\", \"image of van\"],\n",
    "    \"rickshaw\": [\"rickshaw\", \"image of rickshaw\"],\n",
    "    \"scooter\": [\"scooter\", \"image of scooter\"],\n",
    "    \"skateboard\": [\"skateboard\", \"image of skateboard\"],\n",
    "    \"ambulance\": [\"ambulance\", \"image of ambulance\"],\n",
    "    \"fire truck\": [\"fire truck\", \"image of fire truck\"],\n",
    "    \"tractor\": [\"tractor\", \"image of tractor\"],\n",
    "    \"segway\": [\"segway\", \"image of segway\"],\n",
    "    \"unicycle\": [\"unicycle\", \"image of unicycle\"],\n",
    "    \"jet ski\": [\"jet ski\", \"image of jet ski\"],\n",
    "    \"helicopter\": [\"helicopter\", \"image of helicopter\"],\n",
    "    \"airplane\": [\"airplane\", \"image of airplane\"],\n",
    "    \"boat\": [\"boat\", \"image of boat\"],\n",
    "    \"kayak\": [\"kayak\", \"image of kayak\"],\n",
    "    \"hovercraft\": [\"hovercraft\", \"image of hovercraft\"]\n",
    "}\n",
    "\n",
    "# car, image of car, motorcycle, image of motorcycle, bicycle, image of bicycle, truck, image of truck, bus, image of bus, van, image of van, rickshaw, image of rickshaw, scooter, image of scooter, skateboard, image of skateboard, ambulance, image of ambulance, fire truck, image of fire truck, tractor, image of tractor, segway, image of segway, unicycle, image of unicycle, jet ski, image of jet ski, helicopter, image of helicopter, airplane, image of airplane, boat, image of boat, kayak, image of kayak, hovercraft, image of hovercraft\n",
    "\n",
    "# dict_size(v40)\n",
    "# print(aOcheck_accuracy(\"vehicle20/v40.csv\", v40))\n"
   ]
  },
  {
   "cell_type": "code",
   "execution_count": 84,
   "metadata": {},
   "outputs": [],
   "source": [
    "v60 = {\n",
    "    \"car\": [\"car\", \"image of car\", \"picture of car\"],\n",
    "    \"motorcycle\": [\"motorcycle\", \"image of motorcycle\", \"picture of motorcycle\"],\n",
    "    \"bicycle\": [\"bicycle\", \"image of bicycle\", \"picture of bicycle\"],\n",
    "    \"truck\": [\"truck\", \"image of truck\", \"picture of truck\"],\n",
    "    \"bus\": [\"bus\", \"image of bus\", \"picture of bus\"],\n",
    "    \"van\": [\"van\", \"image of van\", \"picture of van\"],\n",
    "    \"rickshaw\": [\"rickshaw\", \"image of rickshaw\", \"picture of rickshaw\"],\n",
    "    \"scooter\": [\"scooter\", \"image of scooter\", \"picture of scooter\"],\n",
    "    \"skateboard\": [\"skateboard\", \"image of skateboard\", \"picture of skateboard\"],\n",
    "    \"ambulance\": [\"ambulance\", \"image of ambulance\", \"picture of ambulance\"],\n",
    "    \"fire truck\": [\"fire truck\", \"image of fire truck\", \"picture of fire truck\"],\n",
    "    \"tractor\": [\"tractor\", \"image of tractor\", \"picture of tractor\"],\n",
    "    \"segway\": [\"segway\", \"image of segway\", \"picture of segway\"],\n",
    "    \"unicycle\": [\"unicycle\", \"image of unicycle\", \"picture of unicycle\"],\n",
    "    \"jet ski\": [\"jet ski\", \"image of jet ski\", \"picture of jet ski\"],\n",
    "    \"helicopter\": [\"helicopter\", \"image of helicopter\", \"picture of helicopter\"],\n",
    "    \"airplane\": [\"airplane\", \"image of airplane\", \"picture of airplane\"],\n",
    "    \"boat\": [\"boat\", \"image of boat\", \"picture of boat\"],\n",
    "    \"kayak\": [\"kayak\", \"image of kayak\", \"picture of kayak\"],\n",
    "    \"hovercraft\": [\"hovercraft\", \"image of hovercraft\", \"picture of hovercraft\"]\n",
    "}\n",
    "\n",
    "# car, image of car, picture of car, motorcycle, image of motorcycle, picture of motorcycle, bicycle, image of bicycle, picture of bicycle, truck, image of truck, picture of truck, bus, image of bus, picture of bus, van, image of van, picture of van, rickshaw, image of rickshaw, picture of rickshaw, scooter, image of scooter, picture of scooter, skateboard, image of skateboard, picture of skateboard, ambulance, image of ambulance, picture of ambulance, fire truck, image of fire truck, picture of fire truck, tractor, image of tractor, picture of tractor, segway, image of segway, picture of segway, unicycle, image of unicycle, picture of unicycle, jet ski, image of jet ski, picture of jet ski, helicopter, image of helicopter, picture of helicopter, airplane, image of airplane, picture of airplane, boat, image of boat, picture of boat, kayak, image of kayak, picture of kayak, hovercraft, image of hovercraft, picture of hovercraft\n",
    "\n",
    "# dict_size(v60)\n",
    "# print(aOcheck_accuracy(\"vehicle20/v60.csv\", v60))\n"
   ]
  },
  {
   "cell_type": "code",
   "execution_count": 85,
   "metadata": {},
   "outputs": [
    {
     "name": "stdout",
     "output_type": "stream",
     "text": [
      "80\n",
      "77.23\n",
      "77.23\n"
     ]
    }
   ],
   "source": [
    "v80 = {\n",
    "    \"car\": [\"car\", \"image of car\", \"picture of car\", \"cars\"],\n",
    "    \"motorcycle\": [\"motorcycle\", \"image of motorcycle\", \"picture of motorcycle\", \"motorcycles\"],\n",
    "    \"bicycle\": [\"bicycle\", \"image of bicycle\", \"picture of bicycle\", \"bicycles\"],\n",
    "    \"truck\": [\"truck\", \"image of truck\", \"picture of truck\", \"trucks\"],\n",
    "    \"bus\": [\"bus\", \"image of bus\", \"picture of bus\", \"buses\"],\n",
    "    \"van\": [\"van\", \"image of van\", \"picture of van\", \"vans\"],\n",
    "    \"rickshaw\": [\"rickshaw\", \"image of rickshaw\", \"picture of rickshaw\", \"rickshaws\"],\n",
    "    \"scooter\": [\"scooter\", \"image of scooter\", \"picture of scooter\", \"scooters\"],\n",
    "    \"skateboard\": [\"skateboard\", \"image of skateboard\", \"picture of skateboard\", \"skateboards\"],\n",
    "    \"ambulance\": [\"ambulance\", \"image of ambulance\", \"picture of ambulance\", \"ambulances\"],\n",
    "    \"fire truck\": [\"fire truck\", \"image of fire truck\", \"picture of fire truck\", \"fire trucks\"],\n",
    "    \"tractor\": [\"tractor\", \"image of tractor\", \"picture of tractor\", \"tractors\"],\n",
    "    \"segway\": [\"segway\", \"image of segway\", \"picture of segway\", \"segways\"],\n",
    "    \"unicycle\": [\"unicycle\", \"image of unicycle\", \"picture of unicycle\", \"unicycles\"],\n",
    "    \"jet ski\": [\"jet ski\", \"image of jet ski\", \"picture of jet ski\", \"jet skis\"],\n",
    "    \"helicopter\": [\"helicopter\", \"image of helicopter\", \"picture of helicopter\", \"helicopters\"],\n",
    "    \"airplane\": [\"airplane\", \"image of airplane\", \"picture of airplane\", \"airplanes\"],\n",
    "    \"boat\": [\"boat\", \"image of boat\", \"picture of boat\", \"boats\"],\n",
    "    \"kayak\": [\"kayak\", \"image of kayak\", \"picture of kayak\", \"kayaks\"],\n",
    "    \"hovercraft\": [\"hovercraft\", \"image of hovercraft\", \"picture of hovercraft\", \"hovercrafts\"]\n",
    "}\n",
    "\n",
    "# car, image of car, picture of car, cars, motorcycle, image of motorcycle, picture of motorcycle, motorcycles, bicycle, image of bicycle, picture of bicycle, bicycles, truck, image of truck, picture of truck, trucks, bus, image of bus, picture of bus, buses, van, image of van, picture of van, vans, rickshaw, image of rickshaw, picture of rickshaw, rickshaws, scooter, image of scooter, picture of scooter, scooters, skateboard, image of skateboard, picture of skateboard, skateboards, ambulance, image of ambulance, picture of ambulance, ambulances, fire truck, image of fire truck, picture of fire truck, fire trucks, tractor, image of tractor, picture of tractor, tractors, segway, image of segway, picture of segway, segways, unicycle, image of unicycle, picture of unicycle, unicycles, jet ski, image of jet ski, picture of jet ski, jet skis, helicopter, image of helicopter, picture of helicopter, helicopters, airplane, image of airplane, picture of airplane, airplanes, boat, image of boat, picture of boat, boats, kayak, image of kayak, picture of kayak, kayaks, hovercraft, image of hovercraft, picture of hovercraft, hovercrafts\n",
    "\n",
    "dict_size(v80)\n",
    "print(aOcheck_accuracy(\"vehicle20/v80.csv\", v80))"
   ]
  },
  {
   "cell_type": "code",
   "execution_count": 86,
   "metadata": {},
   "outputs": [],
   "source": [
    "v100 = {\n",
    "    \"car\": [\"car\", \"image of car\", \"picture of car\", \"cars\", \"cool car\"],\n",
    "    \"motorcycle\": [\"motorcycle\", \"image of motorcycle\", \"picture of motorcycle\", \"motorcycles\", \"cool motorcycle\"],\n",
    "    \"bicycle\": [\"bicycle\", \"image of bicycle\", \"picture of bicycle\", \"bicycles\", \"cool bicycle\"],\n",
    "    \"truck\": [\"truck\", \"image of truck\", \"picture of truck\", \"trucks\", \"cool truck\"],\n",
    "    \"bus\": [\"bus\", \"image of bus\", \"picture of bus\", \"buses\", \"cool bus\"],\n",
    "    \"van\": [\"van\", \"image of van\", \"picture of van\", \"vans\", \"cool van\"],\n",
    "    \"rickshaw\": [\"rickshaw\", \"image of rickshaw\", \"picture of rickshaw\", \"rickshaws\", \"cool rickshaw\"],\n",
    "    \"scooter\": [\"scooter\", \"image of scooter\", \"picture of scooter\", \"scooters\", \"cool scooter\"],\n",
    "    \"skateboard\": [\"skateboard\", \"image of skateboard\", \"picture of skateboard\", \"skateboards\", \"cool skateboard\"],\n",
    "    \"ambulance\": [\"ambulance\", \"image of ambulance\", \"picture of ambulance\", \"ambulances\", \"cool ambulance\"],\n",
    "    \"fire truck\": [\"fire truck\", \"image of fire truck\", \"picture of fire truck\", \"fire trucks\", \"cool fire truck\"],\n",
    "    \"tractor\": [\"tractor\", \"image of tractor\", \"picture of tractor\", \"tractors\", \"cool tractor\"],\n",
    "    \"segway\": [\"segway\", \"image of segway\", \"picture of segway\", \"segways\", \"cool segway\"],\n",
    "    \"unicycle\": [\"unicycle\", \"image of unicycle\", \"picture of unicycle\", \"unicycles\", \"cool unicycle\"],\n",
    "    \"jet ski\": [\"jet ski\", \"image of jet ski\", \"picture of jet ski\", \"jet skis\", \"cool jet ski\"],\n",
    "    \"helicopter\": [\"helicopter\", \"image of helicopter\", \"picture of helicopter\", \"helicopters\", \"cool helicopter\"],\n",
    "    \"airplane\": [\"airplane\", \"image of airplane\", \"picture of airplane\", \"airplanes\", \"cool airplane\"],\n",
    "    \"boat\": [\"boat\", \"image of boat\", \"picture of boat\", \"boats\", \"cool boat\"],\n",
    "    \"kayak\": [\"kayak\", \"image of kayak\", \"picture of kayak\", \"kayaks\", \"cool kayak\"],\n",
    "    \"hovercraft\": [\"hovercraft\", \"image of hovercraft\", \"picture of hovercraft\", \"hovercrafts\", \"cool hovercraft\"]\n",
    "}\n",
    "\n",
    "# car, image of car, picture of car, cars, cool car, motorcycle, image of motorcycle, picture of motorcycle, motorcycles, cool motorcycle, bicycle, image of bicycle, picture of bicycle, bicycles, cool bicycle, truck, image of truck, picture of truck, trucks, cool truck, bus, image of bus, picture of bus, buses, cool bus, van, image of van, picture of van, vans, cool van, rickshaw, image of rickshaw, picture of rickshaw, rickshaws, cool rickshaw, scooter, image of scooter, picture of scooter, scooters, cool scooter, skateboard, image of skateboard, picture of skateboard, skateboards, cool skateboard, ambulance, image of ambulance, picture of ambulance, ambulances, cool ambulance, fire truck, image of fire truck, picture of fire truck, fire trucks, cool fire truck, tractor, image of tractor, picture of tractor, tractors, cool tractor, segway, image of segway, picture of segway, segways, cool segway, unicycle, image of unicycle, picture of unicycle, unicycles, cool unicycle, jet ski, image of jet ski, picture of jet ski, jet skis, cool jet ski, helicopter, image of helicopter, picture of helicopter, helicopters, cool helicopter, airplane, image of airplane, picture of airplane, airplanes, cool airplane, boat, image of boat, picture of boat, boats, cool boat, kayak, image of kayak, picture of kayak, kayaks, cool kayak, hovercraft, image of hovercraft, picture of hovercraft, hovercrafts, cool hovercraft\n",
    "\n",
    "# dict_size(v100)\n",
    "# print(aOcheck_accuracy(\"vehicle20/v100.csv\", v100))\n"
   ]
  },
  {
   "cell_type": "code",
   "execution_count": 87,
   "metadata": {},
   "outputs": [],
   "source": [
    "v120 = {\n",
    "    \"car\": [\"car\", \"image of car\", \"picture of car\", \"cars\", \"cool car\", \"classic car\"],\n",
    "    \"motorcycle\": [\"motorcycle\", \"image of motorcycle\", \"picture of motorcycle\", \"motorcycles\", \"cool motorcycle\", \"classic motorcycle\"],\n",
    "    \"bicycle\": [\"bicycle\", \"image of bicycle\", \"picture of bicycle\", \"bicycles\", \"cool bicycle\", \"classic bicycle\"],\n",
    "    \"truck\": [\"truck\", \"image of truck\", \"picture of truck\", \"trucks\", \"cool truck\", \"classic truck\"],\n",
    "    \"bus\": [\"bus\", \"image of bus\", \"picture of bus\", \"buses\", \"cool bus\", \"classic bus\"],\n",
    "    \"van\": [\"van\", \"image of van\", \"picture of van\", \"vans\", \"cool van\", \"classic van\"],\n",
    "    \"rickshaw\": [\"rickshaw\", \"image of rickshaw\", \"picture of rickshaw\", \"rickshaws\", \"cool rickshaw\", \"classic rickshaw\"],\n",
    "    \"scooter\": [\"scooter\", \"image of scooter\", \"picture of scooter\", \"scooters\", \"cool scooter\", \"classic scooter\"],\n",
    "    \"skateboard\": [\"skateboard\", \"image of skateboard\", \"picture of skateboard\", \"skateboards\", \"cool skateboard\", \"classic skateboard\"],\n",
    "    \"ambulance\": [\"ambulance\", \"image of ambulance\", \"picture of ambulance\", \"ambulances\", \"cool ambulance\", \"classic ambulance\"],\n",
    "    \"fire truck\": [\"fire truck\", \"image of fire truck\", \"picture of fire truck\", \"fire trucks\", \"cool fire truck\", \"classic fire truck\"],\n",
    "    \"tractor\": [\"tractor\", \"image of tractor\", \"picture of tractor\", \"tractors\", \"cool tractor\", \"classic tractor\"],\n",
    "    \"segway\": [\"segway\", \"image of segway\", \"picture of segway\", \"segways\", \"cool segway\", \"classic segway\"],\n",
    "    \"unicycle\": [\"unicycle\", \"image of unicycle\", \"picture of unicycle\", \"unicycles\", \"cool unicycle\", \"classic unicycle\"],\n",
    "    \"jet ski\": [\"jet ski\", \"image of jet ski\", \"picture of jet ski\", \"jet skis\", \"cool jet ski\", \"classic jet ski\"],\n",
    "    \"helicopter\": [\"helicopter\", \"image of helicopter\", \"picture of helicopter\", \"helicopters\", \"cool helicopter\", \"classic helicopter\"],\n",
    "    \"airplane\": [\"airplane\", \"image of airplane\", \"picture of airplane\", \"airplanes\", \"cool airplane\", \"classic airplane\"],\n",
    "    \"boat\": [\"boat\", \"image of boat\", \"picture of boat\", \"boats\", \"cool boat\", \"classic boat\"],\n",
    "    \"kayak\": [\"kayak\", \"image of kayak\", \"picture of kayak\", \"kayaks\", \"cool kayak\", \"classic kayak\"],\n",
    "    \"hovercraft\": [\"hovercraft\", \"image of hovercraft\", \"picture of hovercraft\", \"hovercrafts\", \"cool hovercraft\", \"classic hovercraft\"]\n",
    "}\n",
    "\n",
    "# car, image of car, picture of car, cars, cool car, classic car, motorcycle, image of motorcycle, picture of motorcycle, motorcycles, cool motorcycle, classic motorcycle, bicycle, image of bicycle, picture of bicycle, bicycles, cool bicycle, classic bicycle, truck, image of truck, picture of truck, trucks, cool truck, classic truck, bus, image of bus, picture of bus, buses, cool bus, classic bus, van, image of van, picture of van, vans, cool van, classic van, rickshaw, image of rickshaw, picture of rickshaw, rickshaws, cool rickshaw, classic rickshaw, scooter, image of scooter, picture of scooter, scooters, cool scooter, classic scooter, skateboard, image of skateboard, picture of skateboard, skateboards, cool skateboard, classic skateboard, ambulance, image of ambulance, picture of ambulance, ambulances, cool ambulance, classic ambulance, fire truck, image of fire truck, picture of fire truck, fire trucks, cool fire truck, classic fire truck, tractor, image of tractor, picture of tractor, tractors, cool tractor, classic tractor, segway, image of segway, picture of segway, segways, cool segway, classic segway, unicycle, image of unicycle, picture of unicycle, unicycles, cool unicycle, classic unicycle, jet ski, image of jet ski, picture of jet ski, jet skis, cool jet ski, classic jet ski, helicopter, image of helicopter, picture of helicopter, helicopters, cool helicopter, classic helicopter, airplane, image of airplane, picture of airplane, airplanes, cool airplane, classic airplane, boat, image of boat, picture of boat, boats, cool boat, classic boat, kayak, image of kayak, picture of kayak, kayaks, cool kayak, classic kayak, hovercraft, image of hovercraft, picture of hovercraft, hovercrafts, cool hovercraft, classic hovercraft\n",
    "\n",
    "# dict_size(v120)\n",
    "# print(aOcheck_accuracy(\"vehicle20/v120.csv\", v120))\n"
   ]
  },
  {
   "cell_type": "code",
   "execution_count": 88,
   "metadata": {},
   "outputs": [],
   "source": [
    "v140 = {\n",
    "    \"car\": [\"car\", \"image of car\", \"picture of car\", \"cars\", \"cool car\", \"classic car\", \"detailed car\"],\n",
    "    \"motorcycle\": [\"motorcycle\", \"image of motorcycle\", \"picture of motorcycle\", \"motorcycles\", \"cool motorcycle\", \"classic motorcycle\", \"detailed motorcycle\"],\n",
    "    \"bicycle\": [\"bicycle\", \"image of bicycle\", \"picture of bicycle\", \"bicycles\", \"cool bicycle\", \"classic bicycle\", \"detailed bicycle\"],\n",
    "    \"truck\": [\"truck\", \"image of truck\", \"picture of truck\", \"trucks\", \"cool truck\", \"classic truck\", \"detailed truck\"],\n",
    "    \"bus\": [\"bus\", \"image of bus\", \"picture of bus\", \"buses\", \"cool bus\", \"classic bus\", \"detailed bus\"],\n",
    "    \"van\": [\"van\", \"image of van\", \"picture of van\", \"vans\", \"cool van\", \"classic van\", \"detailed van\"],\n",
    "    \"rickshaw\": [\"rickshaw\", \"image of rickshaw\", \"picture of rickshaw\", \"rickshaws\", \"cool rickshaw\", \"classic rickshaw\", \"detailed rickshaw\"],\n",
    "    \"scooter\": [\"scooter\", \"image of scooter\", \"picture of scooter\", \"scooters\", \"cool scooter\", \"classic scooter\", \"detailed scooter\"],\n",
    "    \"skateboard\": [\"skateboard\", \"image of skateboard\", \"picture of skateboard\", \"skateboards\", \"cool skateboard\", \"classic skateboard\", \"detailed skateboard\"],\n",
    "    \"ambulance\": [\"ambulance\", \"image of ambulance\", \"picture of ambulance\", \"ambulances\", \"cool ambulance\", \"classic ambulance\", \"detailed ambulance\"],\n",
    "    \"fire truck\": [\"fire truck\", \"image of fire truck\", \"picture of fire truck\", \"fire trucks\", \"cool fire truck\", \"classic fire truck\", \"detailed fire truck\"],\n",
    "    \"tractor\": [\"tractor\", \"image of tractor\", \"picture of tractor\", \"tractors\", \"cool tractor\", \"classic tractor\", \"detailed tractor\"],\n",
    "    \"segway\": [\"segway\", \"image of segway\", \"picture of segway\", \"segways\", \"cool segway\", \"classic segway\", \"detailed segway\"],\n",
    "    \"unicycle\": [\"unicycle\", \"image of unicycle\", \"picture of unicycle\", \"unicycles\", \"cool unicycle\", \"classic unicycle\", \"detailed unicycle\"],\n",
    "    \"jet ski\": [\"jet ski\", \"image of jet ski\", \"picture of jet ski\", \"jet skis\", \"cool jet ski\", \"classic jet ski\", \"detailed jet ski\"],\n",
    "    \"helicopter\": [\"helicopter\", \"image of helicopter\", \"picture of helicopter\", \"helicopters\", \"cool helicopter\", \"classic helicopter\", \"detailed helicopter\"],\n",
    "    \"airplane\": [\"airplane\", \"image of airplane\", \"picture of airplane\", \"airplanes\", \"cool airplane\", \"classic airplane\", \"detailed airplane\"],\n",
    "    \"boat\": [\"boat\", \"image of boat\", \"picture of boat\", \"boats\", \"cool boat\", \"classic boat\", \"detailed boat\"],\n",
    "    \"kayak\": [\"kayak\", \"image of kayak\", \"picture of kayak\", \"kayaks\", \"cool kayak\", \"classic kayak\", \"detailed kayak\"],\n",
    "    \"hovercraft\": [\"hovercraft\", \"image of hovercraft\", \"picture of hovercraft\", \"hovercrafts\", \"cool hovercraft\", \"classic hovercraft\", \"detailed hovercraft\"]\n",
    "}\n",
    "\n",
    "# car, image of car, picture of car, cars, cool car, classic car, detailed car, motorcycle, image of motorcycle, picture of motorcycle, motorcycles, cool motorcycle, classic motorcycle, detailed motorcycle, bicycle, image of bicycle, picture of bicycle, bicycles, cool bicycle, classic bicycle, detailed bicycle, truck, image of truck, picture of truck, trucks, cool truck, classic truck, detailed truck, bus, image of bus, picture of bus, buses, cool bus, classic bus, detailed bus, van, image of van, picture of van, vans, cool van, classic van, detailed van, rickshaw, image of rickshaw, picture of rickshaw, rickshaws, cool rickshaw, classic rickshaw, detailed rickshaw, scooter, image of scooter, picture of scooter, scooters, cool scooter, classic scooter, detailed scooter, skateboard, image of skateboard, picture of skateboard, skateboards, cool skateboard, classic skateboard, detailed skateboard, ambulance, image of ambulance, picture of ambulance, ambulances, cool ambulance, classic ambulance, detailed ambulance, fire truck, image of fire truck, picture of fire truck, fire trucks, cool fire truck, classic fire truck, detailed fire truck, tractor, image of tractor, picture of tractor, tractors, cool tractor, classic tractor, detailed tractor, segway, image of segway, picture of segway, segways, cool segway, classic segway, detailed segway, unicycle, image of unicycle, picture of unicycle, unicycles, cool unicycle, classic unicycle, detailed unicycle, jet ski, image of jet ski, picture of jet ski, jet skis, cool jet ski, classic jet ski, detailed jet ski, helicopter, image of helicopter, picture of helicopter, helicopters, cool helicopter, classic helicopter, detailed helicopter, airplane, image of airplane, picture of airplane, airplanes, cool airplane, classic airplane, detailed airplane, boat, image of boat, picture of boat, boats, cool boat, classic boat, detailed boat, kayak, image of kayak, picture of kayak, kayaks, cool kayak, classic kayak, detailed kayak, hovercraft, image of hovercraft, picture of hovercraft, hovercrafts, cool hovercraft, classic hovercraft, detailed hovercraft\n",
    "\n",
    "# dict_size(v140)\n",
    "# print(aOcheck_accuracy(\"vehicle20/v140.csv\", v140))\n"
   ]
  },
  {
   "cell_type": "code",
   "execution_count": 89,
   "metadata": {},
   "outputs": [],
   "source": [
    "v160 = {\n",
    "    \"car\": [\"car\", \"image of car\", \"picture of car\", \"cars\", \"cool car\", \"classic car\", \"detailed car\", \"reliable car\"],\n",
    "    \"motorcycle\": [\"motorcycle\", \"image of motorcycle\", \"picture of motorcycle\", \"motorcycles\", \"cool motorcycle\", \"classic motorcycle\", \"detailed motorcycle\", \"reliable motorcycle\"],\n",
    "    \"bicycle\": [\"bicycle\", \"image of bicycle\", \"picture of bicycle\", \"bicycles\", \"cool bicycle\", \"classic bicycle\", \"detailed bicycle\", \"reliable bicycle\"],\n",
    "    \"truck\": [\"truck\", \"image of truck\", \"picture of truck\", \"trucks\", \"cool truck\", \"classic truck\", \"detailed truck\", \"reliable truck\"],\n",
    "    \"bus\": [\"bus\", \"image of bus\", \"picture of bus\", \"buses\", \"cool bus\", \"classic bus\", \"detailed bus\", \"reliable bus\"],\n",
    "    \"van\": [\"van\", \"image of van\", \"picture of van\", \"vans\", \"cool van\", \"classic van\", \"detailed van\", \"reliable van\"],\n",
    "    \"rickshaw\": [\"rickshaw\", \"image of rickshaw\", \"picture of rickshaw\", \"rickshaws\", \"cool rickshaw\", \"classic rickshaw\", \"detailed rickshaw\", \"reliable rickshaw\"],\n",
    "    \"scooter\": [\"scooter\", \"image of scooter\", \"picture of scooter\", \"scooters\", \"cool scooter\", \"classic scooter\", \"detailed scooter\", \"reliable scooter\"],\n",
    "    \"skateboard\": [\"skateboard\", \"image of skateboard\", \"picture of skateboard\", \"skateboards\", \"cool skateboard\", \"classic skateboard\", \"detailed skateboard\", \"reliable skateboard\"],\n",
    "    \"ambulance\": [\"ambulance\", \"image of ambulance\", \"picture of ambulance\", \"ambulances\", \"cool ambulance\", \"classic ambulance\", \"detailed ambulance\", \"reliable ambulance\"],\n",
    "    \"fire truck\": [\"fire truck\", \"image of fire truck\", \"picture of fire truck\", \"fire trucks\", \"cool fire truck\", \"classic fire truck\", \"detailed fire truck\", \"reliable fire truck\"],\n",
    "    \"tractor\": [\"tractor\", \"image of tractor\", \"picture of tractor\", \"tractors\", \"cool tractor\", \"classic tractor\", \"detailed tractor\", \"reliable tractor\"],\n",
    "    \"segway\": [\"segway\", \"image of segway\", \"picture of segway\", \"segways\", \"cool segway\", \"classic segway\", \"detailed segway\", \"reliable segway\"],\n",
    "    \"unicycle\": [\"unicycle\", \"image of unicycle\", \"picture of unicycle\", \"unicycles\", \"cool unicycle\", \"classic unicycle\", \"detailed unicycle\", \"reliable unicycle\"],\n",
    "    \"jet ski\": [\"jet ski\", \"image of jet ski\", \"picture of jet ski\", \"jet skis\", \"cool jet ski\", \"classic jet ski\", \"detailed jet ski\", \"reliable jet ski\"],\n",
    "    \"helicopter\": [\"helicopter\", \"image of helicopter\", \"picture of helicopter\", \"helicopters\", \"cool helicopter\", \"classic helicopter\", \"detailed helicopter\", \"reliable helicopter\"],\n",
    "    \"airplane\": [\"airplane\", \"image of airplane\", \"picture of airplane\", \"airplanes\", \"cool airplane\", \"classic airplane\", \"detailed airplane\", \"reliable airplane\"],\n",
    "    \"boat\": [\"boat\", \"image of boat\", \"picture of boat\", \"boats\", \"cool boat\", \"classic boat\", \"detailed boat\", \"reliable boat\"],\n",
    "    \"kayak\": [\"kayak\", \"image of kayak\", \"picture of kayak\", \"kayaks\", \"cool kayak\", \"classic kayak\", \"detailed kayak\", \"reliable kayak\"],\n",
    "    \"hovercraft\": [\"hovercraft\", \"image of hovercraft\", \"picture of hovercraft\", \"hovercrafts\", \"cool hovercraft\", \"classic hovercraft\", \"detailed hovercraft\", \"reliable hovercraft\"]\n",
    "}\n",
    "\n",
    "# car, image of car, picture of car, cars, cool car, classic car, detailed car, reliable car, motorcycle, image of motorcycle, picture of motorcycle, motorcycles, cool motorcycle, classic motorcycle, detailed motorcycle, reliable motorcycle, bicycle, image of bicycle, picture of bicycle, bicycles, cool bicycle, classic bicycle, detailed bicycle, reliable bicycle, truck, image of truck, picture of truck, trucks, cool truck, classic truck, detailed truck, reliable truck, bus, image of bus, picture of bus, buses, cool bus, classic bus, detailed bus, reliable bus, van, image of van, picture of van, vans, cool van, classic van, detailed van, reliable van, rickshaw, image of rickshaw, picture of rickshaw, rickshaws, cool rickshaw, classic rickshaw, detailed rickshaw, reliable rickshaw, scooter, image of scooter, picture of scooter, scooters, cool scooter, classic scooter, detailed scooter, reliable scooter, skateboard, image of skateboard, picture of skateboard, skateboards, cool skateboard, classic skateboard, detailed skateboard, reliable skateboard, ambulance, image of ambulance, picture of ambulance, ambulances, cool ambulance, classic ambulance, detailed ambulance, reliable ambulance, fire truck, image of fire truck, picture of fire truck, fire trucks, cool fire truck, classic fire truck, detailed fire truck, reliable fire truck, tractor, image of tractor, picture of tractor, tractors, cool tractor, classic tractor, detailed tractor, reliable tractor, segway, image of segway, picture of segway, segways, cool segway, classic segway, detailed segway, reliable segway, unicycle, image of unicycle, picture of unicycle, unicycles, cool unicycle, classic unicycle, detailed unicycle, reliable unicycle, jet ski, image of jet ski, picture of jet ski, jet skis, cool jet ski, classic jet ski, detailed jet ski, reliable jet ski, helicopter, image of helicopter, picture of helicopter, helicopters, cool helicopter, classic helicopter, detailed helicopter, reliable helicopter, airplane, image of airplane, picture of airplane, airplanes, cool airplane, classic airplane, detailed airplane, reliable airplane, boat, image of boat, picture of boat, boats, cool boat, classic boat, detailed boat, reliable boat, kayak, image of kayak, picture of kayak, kayaks, cool kayak, classic kayak, detailed kayak, reliable kayak, hovercraft, image of hovercraft, picture of hovercraft, hovercrafts, cool hovercraft, classic hovercraft, detailed hovercraft, reliable hovercraft\n",
    "\n",
    "# dict_size(v160)\n",
    "# print(aOcheck_accuracy(\"vehicle20/v160.csv\", v160))\n"
   ]
  },
  {
   "cell_type": "code",
   "execution_count": 90,
   "metadata": {},
   "outputs": [],
   "source": [
    "v180 = {\n",
    "    \"car\": [\"car\", \"image of car\", \"picture of car\", \"cars\", \"cool car\", \"classic car\", \"detailed car\", \"reliable car\", \"moving car\"],\n",
    "    \"motorcycle\": [\"motorcycle\", \"image of motorcycle\", \"picture of motorcycle\", \"motorcycles\", \"cool motorcycle\", \"classic motorcycle\", \"detailed motorcycle\", \"reliable motorcycle\", \"moving motorcycle\"],\n",
    "    \"bicycle\": [\"bicycle\", \"image of bicycle\", \"picture of bicycle\", \"bicycles\", \"cool bicycle\", \"classic bicycle\", \"detailed bicycle\", \"reliable bicycle\", \"moving bicycle\"],\n",
    "    \"truck\": [\"truck\", \"image of truck\", \"picture of truck\", \"trucks\", \"cool truck\", \"classic truck\", \"detailed truck\", \"reliable truck\", \"moving truck\"],\n",
    "    \"bus\": [\"bus\", \"image of bus\", \"picture of bus\", \"buses\", \"cool bus\", \"classic bus\", \"detailed bus\", \"reliable bus\", \"moving bus\"],\n",
    "    \"van\": [\"van\", \"image of van\", \"picture of van\", \"vans\", \"cool van\", \"classic van\", \"detailed van\", \"reliable van\", \"moving van\"],\n",
    "    \"rickshaw\": [\"rickshaw\", \"image of rickshaw\", \"picture of rickshaw\", \"rickshaws\", \"cool rickshaw\", \"classic rickshaw\", \"detailed rickshaw\", \"reliable rickshaw\", \"moving rickshaw\"],\n",
    "    \"scooter\": [\"scooter\", \"image of scooter\", \"picture of scooter\", \"scooters\", \"cool scooter\", \"classic scooter\", \"detailed scooter\", \"reliable scooter\", \"moving scooter\"],\n",
    "    \"skateboard\": [\"skateboard\", \"image of skateboard\", \"picture of skateboard\", \"skateboards\", \"cool skateboard\", \"classic skateboard\", \"detailed skateboard\", \"reliable skateboard\", \"moving skateboard\"],\n",
    "    \"ambulance\": [\"ambulance\", \"image of ambulance\", \"picture of ambulance\", \"ambulances\", \"cool ambulance\", \"classic ambulance\", \"detailed ambulance\", \"reliable ambulance\", \"moving ambulance\"],\n",
    "    \"fire truck\": [\"fire truck\", \"image of fire truck\", \"picture of fire truck\", \"fire trucks\", \"cool fire truck\", \"classic fire truck\", \"detailed fire truck\", \"reliable fire truck\", \"moving fire truck\"],\n",
    "    \"tractor\": [\"tractor\", \"image of tractor\", \"picture of tractor\", \"tractors\", \"cool tractor\", \"classic tractor\", \"detailed tractor\", \"reliable tractor\", \"moving tractor\"],\n",
    "    \"segway\": [\"segway\", \"image of segway\", \"picture of segway\", \"segways\", \"cool segway\", \"classic segway\", \"detailed segway\", \"reliable segway\", \"moving segway\"],\n",
    "    \"unicycle\": [\"unicycle\", \"image of unicycle\", \"picture of unicycle\", \"unicycles\", \"cool unicycle\", \"classic unicycle\", \"detailed unicycle\", \"reliable unicycle\", \"moving unicycle\"],\n",
    "    \"jet ski\": [\"jet ski\", \"image of jet ski\", \"picture of jet ski\", \"jet skis\", \"cool jet ski\", \"classic jet ski\", \"detailed jet ski\", \"reliable jet ski\", \"moving jet ski\"],\n",
    "    \"helicopter\": [\"helicopter\", \"image of helicopter\", \"picture of helicopter\", \"helicopters\", \"cool helicopter\", \"classic helicopter\", \"detailed helicopter\", \"reliable helicopter\", \"moving helicopter\"],\n",
    "    \"airplane\": [\"airplane\", \"image of airplane\", \"picture of airplane\", \"airplanes\", \"cool airplane\", \"classic airplane\", \"detailed airplane\", \"reliable airplane\", \"moving airplane\"],\n",
    "    \"boat\": [\"boat\", \"image of boat\", \"picture of boat\", \"boats\", \"cool boat\", \"classic boat\", \"detailed boat\", \"reliable boat\", \"moving boat\"],\n",
    "    \"kayak\": [\"kayak\", \"image of kayak\", \"picture of kayak\", \"kayaks\", \"cool kayak\", \"classic kayak\", \"detailed kayak\", \"reliable kayak\", \"moving kayak\"],\n",
    "    \"hovercraft\": [\"hovercraft\", \"image of hovercraft\", \"picture of hovercraft\", \"hovercrafts\", \"cool hovercraft\", \"classic hovercraft\", \"detailed hovercraft\", \"reliable hovercraft\", \"moving hovercraft\"]\n",
    "}\n",
    "\n",
    "# car, image of car, picture of car, cars, cool car, classic car, detailed car, reliable car, moving car, motorcycle, image of motorcycle, picture of motorcycle, motorcycles, cool motorcycle, classic motorcycle, detailed motorcycle, reliable motorcycle, moving motorcycle, bicycle, image of bicycle, picture of bicycle, bicycles, cool bicycle, classic bicycle, detailed bicycle, reliable bicycle, moving bicycle, truck, image of truck, picture of truck, trucks, cool truck, classic truck, detailed truck, reliable truck, moving truck, bus, image of bus, picture of bus, buses, cool bus, classic bus, detailed bus, reliable bus, moving bus, van, image of van, picture of van, vans, cool van, classic van, detailed van, reliable van, moving van, rickshaw, image of rickshaw, picture of rickshaw, rickshaws, cool rickshaw, classic rickshaw, detailed rickshaw, reliable rickshaw, moving rickshaw, scooter, image of scooter, picture of scooter, scooters, cool scooter, classic scooter, detailed scooter, reliable scooter, moving scooter, skateboard, image of skateboard, picture of skateboard, skateboards, cool skateboard, classic skateboard, detailed skateboard, reliable skateboard, moving skateboard, ambulance, image of ambulance, picture of ambulance, ambulances, cool ambulance, classic ambulance, detailed ambulance, reliable ambulance, moving ambulance, fire truck, image of fire truck, picture of fire truck, fire trucks, cool fire truck, classic fire truck, detailed fire truck, reliable fire truck, moving fire truck, tractor, image of tractor, picture of tractor, tractors, cool tractor, classic tractor, detailed tractor, reliable tractor, moving tractor, segway, image of segway, picture of segway, segways, cool segway, classic segway, detailed segway, reliable segway, moving segway, unicycle, image of unicycle, picture of unicycle, unicycles, cool unicycle, classic unicycle, detailed unicycle, reliable unicycle, moving unicycle, jet ski, image of jet ski, picture of jet ski, jet skis, cool jet ski, classic jet ski, detailed jet ski, reliable jet ski, moving jet ski, helicopter, image of helicopter, picture of helicopter, helicopters, cool helicopter, classic helicopter, detailed helicopter, reliable helicopter, moving helicopter, airplane, image of airplane, picture of airplane, airplanes, cool airplane, classic airplane, detailed airplane, reliable airplane, moving airplane, boat, image of boat, picture of boat, boats, cool boat, classic boat, detailed boat, reliable boat, moving boat, kayak, image of kayak, picture of kayak, kayaks, cool kayak, classic kayak, detailed kayak, reliable kayak, moving kayak, hovercraft, image of hovercraft, picture of hovercraft, hovercrafts, cool hovercraft, classic hovercraft, detailed hovercraft, reliable hovercraft, moving hovercraft\n",
    "\n",
    "# dict_size(v180)\n",
    "# print(aOcheck_accuracy(\"vehicle20/v180.csv\", v180))\n"
   ]
  },
  {
   "cell_type": "code",
   "execution_count": 91,
   "metadata": {},
   "outputs": [],
   "source": [
    "v200 = {\n",
    "    \"car\": [\"car\", \"image of car\", \"picture of car\", \"cars\", \"cool car\", \"classic car\", \"detailed car\", \"reliable car\", \"moving car\", \"functional car\"],\n",
    "    \"motorcycle\": [\"motorcycle\", \"image of motorcycle\", \"picture of motorcycle\", \"motorcycles\", \"cool motorcycle\", \"classic motorcycle\", \"detailed motorcycle\", \"reliable motorcycle\", \"moving motorcycle\", \"functional motorcycle\"],\n",
    "    \"bicycle\": [\"bicycle\", \"image of bicycle\", \"picture of bicycle\", \"bicycles\", \"cool bicycle\", \"classic bicycle\", \"detailed bicycle\", \"reliable bicycle\", \"moving bicycle\", \"functional bicycle\"],\n",
    "    \"truck\": [\"truck\", \"image of truck\", \"picture of truck\", \"trucks\", \"cool truck\", \"classic truck\", \"detailed truck\", \"reliable truck\", \"moving truck\", \"functional truck\"],\n",
    "    \"bus\": [\"bus\", \"image of bus\", \"picture of bus\", \"buses\", \"cool bus\", \"classic bus\", \"detailed bus\", \"reliable bus\", \"moving bus\", \"functional bus\"],\n",
    "    \"van\": [\"van\", \"image of van\", \"picture of van\", \"vans\", \"cool van\", \"classic van\", \"detailed van\", \"reliable van\", \"moving van\", \"functional van\"],\n",
    "    \"rickshaw\": [\"rickshaw\", \"image of rickshaw\", \"picture of rickshaw\", \"rickshaws\", \"cool rickshaw\", \"classic rickshaw\", \"detailed rickshaw\", \"reliable rickshaw\", \"moving rickshaw\", \"functional rickshaw\"],\n",
    "    \"scooter\": [\"scooter\", \"image of scooter\", \"picture of scooter\", \"scooters\", \"cool scooter\", \"classic scooter\", \"detailed scooter\", \"reliable scooter\", \"moving scooter\", \"functional scooter\"],\n",
    "    \"skateboard\": [\"skateboard\", \"image of skateboard\", \"picture of skateboard\", \"skateboards\", \"cool skateboard\", \"classic skateboard\", \"detailed skateboard\", \"reliable skateboard\", \"moving skateboard\", \"functional skateboard\"],\n",
    "    \"ambulance\": [\"ambulance\", \"image of ambulance\", \"picture of ambulance\", \"ambulances\", \"cool ambulance\", \"classic ambulance\", \"detailed ambulance\", \"reliable ambulance\", \"moving ambulance\", \"functional ambulance\"],\n",
    "    \"fire truck\": [\"fire truck\", \"image of fire truck\", \"picture of fire truck\", \"fire trucks\", \"cool fire truck\", \"classic fire truck\", \"detailed fire truck\", \"reliable fire truck\", \"moving fire truck\", \"functional fire truck\"],\n",
    "    \"tractor\": [\"tractor\", \"image of tractor\", \"picture of tractor\", \"tractors\", \"cool tractor\", \"classic tractor\", \"detailed tractor\", \"reliable tractor\", \"moving tractor\", \"functional tractor\"],\n",
    "    \"segway\": [\"segway\", \"image of segway\", \"picture of segway\", \"segways\", \"cool segway\", \"classic segway\", \"detailed segway\", \"reliable segway\", \"moving segway\", \"functional segway\"],\n",
    "    \"unicycle\": [\"unicycle\", \"image of unicycle\", \"picture of unicycle\", \"unicycles\", \"cool unicycle\", \"classic unicycle\", \"detailed unicycle\", \"reliable unicycle\", \"moving unicycle\", \"functional unicycle\"],\n",
    "    \"jet ski\": [\"jet ski\", \"image of jet ski\", \"picture of jet ski\", \"jet skis\", \"cool jet ski\", \"classic jet ski\", \"detailed jet ski\", \"reliable jet ski\", \"moving jet ski\", \"functional jet ski\"],\n",
    "    \"helicopter\": [\"helicopter\", \"image of helicopter\", \"picture of helicopter\", \"helicopters\", \"cool helicopter\", \"classic helicopter\", \"detailed helicopter\", \"reliable helicopter\", \"moving helicopter\", \"functional helicopter\"],\n",
    "    \"airplane\": [\"airplane\", \"image of airplane\", \"picture of airplane\", \"airplanes\", \"cool airplane\", \"classic airplane\", \"detailed airplane\", \"reliable airplane\", \"moving airplane\", \"functional airplane\"],\n",
    "    \"boat\": [\"boat\", \"image of boat\", \"picture of boat\", \"boats\", \"cool boat\", \"classic boat\", \"detailed boat\", \"reliable boat\", \"moving boat\", \"functional boat\"],\n",
    "    \"kayak\": [\"kayak\", \"image of kayak\", \"picture of kayak\", \"kayaks\", \"cool kayak\", \"classic kayak\", \"detailed kayak\", \"reliable kayak\", \"moving kayak\", \"functional kayak\"],\n",
    "    \"hovercraft\": [\"hovercraft\", \"image of hovercraft\", \"picture of hovercraft\", \"hovercrafts\", \"cool hovercraft\", \"classic hovercraft\", \"detailed hovercraft\", \"reliable hovercraft\", \"moving hovercraft\", \"functional hovercraft\"]\n",
    "}\n",
    "\n",
    "# car, image of car, picture of car, cars, cool car, classic car, detailed car, reliable car, moving car, functional car, motorcycle, image of motorcycle, picture of motorcycle, motorcycles, cool motorcycle, classic motorcycle, detailed motorcycle, reliable motorcycle, moving motorcycle, functional motorcycle, bicycle, image of bicycle, picture of bicycle, bicycles, cool bicycle, classic bicycle, detailed bicycle, reliable bicycle, moving bicycle, functional bicycle, truck, image of truck, picture of truck, trucks, cool truck, classic truck, detailed truck, reliable truck, moving truck, functional truck, bus, image of bus, picture of bus, buses, cool bus, classic bus, detailed bus, reliable bus, moving bus, functional bus, van, image of van, picture of van, vans, cool van, classic van, detailed van, reliable van, moving van, functional van, rickshaw, image of rickshaw, picture of rickshaw, rickshaws, cool rickshaw, classic rickshaw, detailed rickshaw, reliable rickshaw, moving rickshaw, functional rickshaw, scooter, image of scooter, picture of scooter, scooters, cool scooter, classic scooter, detailed scooter, reliable scooter, moving scooter, functional scooter, skateboard, image of skateboard, picture of skateboard, skateboards, cool skateboard, classic skateboard, detailed skateboard, reliable skateboard, moving skateboard, functional skateboard, ambulance, image of ambulance, picture of ambulance, ambulances, cool ambulance, classic ambulance, detailed ambulance, reliable ambulance, moving ambulance, functional ambulance, fire truck, image of fire truck, picture of fire truck, fire trucks, cool fire truck, classic fire truck, detailed fire truck, reliable fire truck, moving fire truck, functional fire truck, tractor, image of tractor, picture of tractor, tractors, cool tractor, classic tractor, detailed tractor, reliable tractor, moving tractor, functional tractor, segway, image of segway, picture of segway, segways, cool segway, classic segway, detailed segway, reliable segway, moving segway, functional segway, unicycle, image of unicycle, picture of unicycle, unicycles, cool unicycle, classic unicycle, detailed unicycle, reliable unicycle, moving unicycle, functional unicycle, jet ski, image of jet ski, picture of jet ski, jet skis, cool jet ski, classic jet ski, detailed jet ski, reliable jet ski, moving jet ski, functional jet ski, helicopter, image of helicopter, picture of helicopter, helicopters, cool helicopter, classic helicopter, detailed helicopter, reliable helicopter, moving helicopter, functional helicopter, airplane, image of airplane, picture of airplane, airplanes, cool airplane, classic airplane, detailed airplane, reliable airplane, moving airplane, functional airplane, boat, image of boat, picture of boat, boats, cool boat, classic boat, detailed boat, reliable boat, moving boat, functional boat, kayak, image of kayak, picture of kayak, kayaks, cool kayak, classic kayak, detailed kayak, reliable kayak, moving kayak, functional kayak, hovercraft, image of hovercraft, picture of hovercraft, hovercrafts, cool hovercraft, classic hovercraft, detailed hovercraft, reliable hovercraft, moving hovercraft, functional hovercraft\n",
    "\n",
    "# dict_size(v200)\n",
    "# print(aOcheck_accuracy(\"vehicle20/v200.csv\", v200))\n"
   ]
  },
  {
   "cell_type": "markdown",
   "metadata": {},
   "source": [
    "## Flowers 10"
   ]
  },
  {
   "cell_type": "code",
   "execution_count": 92,
   "metadata": {},
   "outputs": [
    {
     "name": "stdout",
     "output_type": "stream",
     "text": [
      "10\n",
      "87.19\n",
      "87.19\n"
     ]
    }
   ],
   "source": [
    "f10 = { \"bougainvillea\" : [\"bougainvillea\"],\n",
    "       \"daisies\" : [\"daisies\"],\n",
    "       \"garden_roses\" : [\"garden roses\"],\n",
    "       \"gardenias\" : [\"gardenias\"],\n",
    "       \"hibiscus\" : [\"hibiscus\"],\n",
    "         \"hydrangeas\" : [\"hydrangeas\"],\n",
    "            \"lilies\" : [\"lilies\"],\n",
    "            \"orchids\" : [\"orchids\"],\n",
    "            \"peonies\" : [\"peonies\"],\n",
    "            \"tulip\" : [\"tulip\"]\n",
    "       }\n",
    "\n",
    "# bougainvillea, daisies, garden_roses, gardenias, hibiscus, hydrangeas, lilies, orchids, peonies, tulip\n",
    "\n",
    "dict_size(f10)\n",
    "print(flowers_accuracy(\"flowers10/f10.csv\", f10))"
   ]
  },
  {
   "cell_type": "code",
   "execution_count": 93,
   "metadata": {},
   "outputs": [
    {
     "name": "stdout",
     "output_type": "stream",
     "text": [
      "20\n",
      "88.28\n",
      "88.28\n"
     ]
    }
   ],
   "source": [
    "f20 = {\n",
    "    \"bougainvillea\": [\"bougainvillea\", \"Image of bougainvillea\"],\n",
    "    \"daisies\": [\"daisies\", \"Image of daisies\"],\n",
    "    \"garden_roses\": [\"garden roses\", \"Image of garden roses\"],\n",
    "    \"gardenias\": [\"gardenias\", \"Image of gardenias\"],\n",
    "    \"hibiscus\": [\"hibiscus\", \"Image of hibiscus\"],\n",
    "    \"hydrangeas\": [\"hydrangeas\", \"Image of hydrangeas\"],\n",
    "    \"lilies\": [\"lilies\", \"Image of lilies\"],\n",
    "    \"orchids\": [\"orchids\", \"Image of orchids\"],\n",
    "    \"peonies\": [\"peonies\", \"Image of peonies\"],\n",
    "    \"tulip\": [\"tulip\", \"Image of tulip\"]\n",
    "}\n",
    "\n",
    "# bougainvillea, Image of bougainvillea, daisies, Image of daisies, garden_roses, Image of garden_roses, gardenias, Image of gardenias, hibiscus, Image of hibiscus, hydrangeas, Image of hydrangeas, lilies, Image of lilies, orchids, Image of orchids, peonies, Image of peonies, tulip, Image of tulip\n",
    "\n",
    "dict_size(f20)\n",
    "print(flowers_accuracy(\"flowers10/f20.csv\", f20))\n"
   ]
  },
  {
   "cell_type": "code",
   "execution_count": 94,
   "metadata": {},
   "outputs": [
    {
     "name": "stdout",
     "output_type": "stream",
     "text": [
      "30\n",
      "88.15\n",
      "88.15\n"
     ]
    }
   ],
   "source": [
    "f30 = {\n",
    "    \"bougainvillea\": [\"bougainvillea\", \"Image of bougainvillea\", \"Picture of bougainvillea\"],\n",
    "    \"daisies\": [\"daisies\", \"Image of daisies\", \"Picture of daisies\"],\n",
    "    \"garden_roses\": [\"garden roses\", \"Image of garden roses\", \"Picture of garden roses\"],\n",
    "    \"gardenias\": [\"gardenias\", \"Image of gardenias\", \"Picture of gardenias\"],\n",
    "    \"hibiscus\": [\"hibiscus\", \"Image of hibiscus\", \"Picture of hibiscus\"],\n",
    "    \"hydrangeas\": [\"hydrangeas\", \"Image of hydrangeas\", \"Picture of hydrangeas\"],\n",
    "    \"lilies\": [\"lilies\", \"Image of lilies\", \"Picture of lilies\"],\n",
    "    \"orchids\": [\"orchids\", \"Image of orchids\", \"Picture of orchids\"],\n",
    "    \"peonies\": [\"peonies\", \"Image of peonies\", \"Picture of peonies\"],\n",
    "    \"tulip\": [\"tulip\", \"Image of tulip\", \"Picture of tulip\"]\n",
    "}\n",
    "\n",
    "# bougainvillea, Image of bougainvillea, Picture of bougainvillea, daisies, Image of daisies, Picture of daisies, garden_roses, Image of garden_roses, Picture of garden_roses, gardenias, Image of gardenias, Picture of gardenias, hibiscus, Image of hibiscus, Picture of hibiscus, hydrangeas, Image of hydrangeas, Picture of hydrangeas, lilies, Image of lilies, Picture of lilies, orchids, Image of orchids, Picture of orchids, peonies, Image of peonies, Picture of peonies, tulip, Image of tulip, Picture of tulip\n",
    "\n",
    "dict_size(f30)\n",
    "print(flowers_accuracy(\"flowers10/f30.csv\", f30))\n"
   ]
  },
  {
   "cell_type": "code",
   "execution_count": 95,
   "metadata": {},
   "outputs": [
    {
     "name": "stdout",
     "output_type": "stream",
     "text": [
      "40\n",
      "88.28\n",
      "88.28\n"
     ]
    }
   ],
   "source": [
    "f40 = {\n",
    "    \"bougainvillea\": [\"bougainvillea\", \"Image of bougainvillea\", \"Picture of bougainvillea\", \"bougainvilleas\"],\n",
    "    \"daisies\": [\"daisies\", \"Image of daisies\", \"Picture of daisies\", \"daisies\"],\n",
    "    \"garden_roses\": [\"garden roses\", \"Image of garden roses\", \"Picture of garden roses\", \"garden roses\"],\n",
    "    \"gardenias\": [\"gardenias\", \"Image of gardenias\", \"Picture of gardenias\", \"gardenias\"],\n",
    "    \"hibiscus\": [\"hibiscus\", \"Image of hibiscus\", \"Picture of hibiscus\", \"hibiscuses\"],\n",
    "    \"hydrangeas\": [\"hydrangeas\", \"Image of hydrangeas\", \"Picture of hydrangeas\", \"hydrangeas\"],\n",
    "    \"lilies\": [\"lilies\", \"Image of lilies\", \"Picture of lilies\", \"lilies\"],\n",
    "    \"orchids\": [\"orchids\", \"Image of orchids\", \"Picture of orchids\", \"orchids\"],\n",
    "    \"peonies\": [\"peonies\", \"Image of peonies\", \"Picture of peonies\", \"peonies\"],\n",
    "    \"tulip\": [\"tulip\", \"Image of tulip\", \"Picture of tulip\", \"tulips\"]\n",
    "}\n",
    "\n",
    "# bougainvillea, Image of bougainvillea, Picture of bougainvillea, bougainvilleas, daisies, Image of daisies, Picture of daisies, daisies, garden_roses, Image of garden_roses, Picture of garden_roses, garden_roses, gardenias, Image of gardenias, Picture of gardenias, gardenias, hibiscus, Image of hibiscus, Picture of hibiscus, hibiscuses, hydrangeas, Image of hydrangeas, Picture of hydrangeas, hydrangeas, lilies, Image of lilies, Picture of lilies, lilies, orchids, Image of orchids, Picture of orchids, orchids, peonies, Image of peonies, Picture of peonies, peonies, tulip, Image of tulip, Picture of tulip, tulips\n",
    "\n",
    "dict_size(f40)\n",
    "print(flowers_accuracy(\"flowers10/f40.csv\", f40))\n"
   ]
  },
  {
   "cell_type": "code",
   "execution_count": 96,
   "metadata": {},
   "outputs": [
    {
     "name": "stdout",
     "output_type": "stream",
     "text": [
      "50\n",
      "88.28\n",
      "88.28\n"
     ]
    }
   ],
   "source": [
    "f50 = {\n",
    "    \"bougainvillea\": [\"bougainvillea\", \"Image of bougainvillea\", \"Picture of bougainvillea\", \"bougainvilleas\", \"Cool bougainvillea\"],\n",
    "    \"daisies\": [\"daisies\", \"Image of daisies\", \"Picture of daisies\", \"daisies\", \"Cool daisies\"],\n",
    "    \"garden_roses\": [\"garden roses\", \"Image of garden roses\", \"Picture of garden roses\", \"garden roses\", \"Cool garden roses\"],\n",
    "    \"gardenias\": [\"gardenias\", \"Image of gardenias\", \"Picture of gardenias\", \"gardenias\", \"Cool gardenias\"],\n",
    "    \"hibiscus\": [\"hibiscus\", \"Image of hibiscus\", \"Picture of hibiscus\", \"hibiscuses\", \"Cool hibiscus\"],\n",
    "    \"hydrangeas\": [\"hydrangeas\", \"Image of hydrangeas\", \"Picture of hydrangeas\", \"hydrangeas\", \"Cool hydrangeas\"],\n",
    "    \"lilies\": [\"lilies\", \"Image of lilies\", \"Picture of lilies\", \"lilies\", \"Cool lilies\"],\n",
    "    \"orchids\": [\"orchids\", \"Image of orchids\", \"Picture of orchids\", \"orchids\", \"Cool orchids\"],\n",
    "    \"peonies\": [\"peonies\", \"Image of peonies\", \"Picture of peonies\", \"peonies\", \"Cool peonies\"],\n",
    "    \"tulip\": [\"tulip\", \"Image of tulip\", \"Picture of tulip\", \"tulips\", \"Cool tulip\"]\n",
    "}\n",
    "\n",
    "# bougainvillea, Image of bougainvillea, Picture of bougainvillea, bougainvilleas, Cool bougainvillea, daisies, Image of daisies, Picture of daisies, daisies, Cool daisies, garden_roses, Image of garden_roses, Picture of garden_roses, garden_roses, Cool garden_roses, gardenias, Image of gardenias, Picture of gardenias, gardenias, Cool gardenias, hibiscus, Image of hibiscus, Picture of hibiscus, hibiscuses, Cool hibiscus, hydrangeas, Image of hydrangeas, Picture of hydrangeas, hydrangeas, Cool hydrangeas, lilies, Image of lilies, Picture of lilies, lilies, Cool lilies, orchids, Image of orchids, Picture of orchids, orchids, Cool orchids, peonies, Image of peonies, Picture of peonies, peonies, Cool peonies, tulip, Image of tulip, Picture of tulip, tulips, Cool tulip\n",
    "\n",
    "dict_size(f50)\n",
    "print(flowers_accuracy(\"flowers10/f50.csv\", f50))\n"
   ]
  },
  {
   "cell_type": "code",
   "execution_count": 97,
   "metadata": {},
   "outputs": [
    {
     "name": "stdout",
     "output_type": "stream",
     "text": [
      "60\n",
      "88.15\n",
      "88.15\n"
     ]
    }
   ],
   "source": [
    "f60 = {\n",
    "    \"bougainvillea\": [\"bougainvillea\", \"Image of bougainvillea\", \"Picture of bougainvillea\", \"bougainvilleas\", \"Cool bougainvillea\", \"Pretty bougainvillea\"],\n",
    "    \"daisies\": [\"daisies\", \"Image of daisies\", \"Picture of daisies\", \"daisies\", \"Cool daisies\", \"Pretty daisies\"],\n",
    "    \"garden_roses\": [\"garden roses\", \"Image of garden roses\", \"Picture of garden roses\", \"garden roses\", \"Cool garden roses\", \"Pretty garden roses\"],\n",
    "    \"gardenias\": [\"gardenias\", \"Image of gardenias\", \"Picture of gardenias\", \"gardenias\", \"Cool gardenias\", \"Pretty gardenias\"],\n",
    "    \"hibiscus\": [\"hibiscus\", \"Image of hibiscus\", \"Picture of hibiscus\", \"hibiscuses\", \"Cool hibiscus\", \"Pretty hibiscus\"],\n",
    "    \"hydrangeas\": [\"hydrangeas\", \"Image of hydrangeas\", \"Picture of hydrangeas\", \"hydrangeas\", \"Cool hydrangeas\", \"Pretty hydrangeas\"],\n",
    "    \"lilies\": [\"lilies\", \"Image of lilies\", \"Picture of lilies\", \"lilies\", \"Cool lilies\", \"Pretty lilies\"],\n",
    "    \"orchids\": [\"orchids\", \"Image of orchids\", \"Picture of orchids\", \"orchids\", \"Cool orchids\", \"Pretty orchids\"],\n",
    "    \"peonies\": [\"peonies\", \"Image of peonies\", \"Picture of peonies\", \"peonies\", \"Cool peonies\", \"Pretty peonies\"],\n",
    "    \"tulip\": [\"tulip\", \"Image of tulip\", \"Picture of tulip\", \"tulips\", \"Cool tulip\", \"Pretty tulip\"]\n",
    "}\n",
    "\n",
    "# bougainvillea, Image of bougainvillea, Picture of bougainvillea, bougainvilleas, Cool bougainvillea, Pretty bougainvillea, daisies, Image of daisies, Picture of daisies, daisies, Cool daisies, Pretty daisies, garden_roses, Image of garden_roses, Picture of garden_roses, garden_roses, Cool garden_roses, Pretty garden_roses, gardenias, Image of gardenias, Picture of gardenias, gardenias, Cool gardenias, Pretty gardenias, hibiscus, Image of hibiscus, Picture of hibiscus, hibiscuses, Cool hibiscus, Pretty hibiscus, hydrangeas, Image of hydrangeas, Picture of hydrangeas, hydrangeas, Cool hydrangeas, Pretty hydrangeas, lilies, Image of lilies, Picture of lilies, lilies, Cool lilies, Pretty lilies, orchids, Image of orchids, Picture of orchids, orchids, Cool orchids, Pretty orchids, peonies, Image of peonies, Picture of peonies, peonies, Cool peonies, Pretty peonies, tulip, Image of tulip, Picture of tulip, tulips, Cool tulip, Pretty tulip\n",
    "\n",
    "dict_size(f60)\n",
    "print(flowers_accuracy(\"flowers10/f60.csv\", f60))\n"
   ]
  },
  {
   "cell_type": "code",
   "execution_count": 98,
   "metadata": {},
   "outputs": [
    {
     "name": "stdout",
     "output_type": "stream",
     "text": [
      "70\n",
      "88.01\n",
      "88.01\n"
     ]
    }
   ],
   "source": [
    "f70 = {\n",
    "    \"bougainvillea\": [\"bougainvillea\", \"Image of bougainvillea\", \"Picture of bougainvillea\", \"bougainvilleas\", \"Cool bougainvillea\", \"Pretty bougainvillea\", \"Detailed bougainvillea\"],\n",
    "    \"daisies\": [\"daisies\", \"Image of daisies\", \"Picture of daisies\", \"daisies\", \"Cool daisies\", \"Pretty daisies\", \"Detailed daisies\"],\n",
    "    \"garden_roses\": [\"garden roses\", \"Image of garden roses\", \"Picture of garden roses\", \"garden roses\", \"Cool garden roses\", \"Pretty garden roses\", \"Detailed garden roses\"],\n",
    "    \"gardenias\": [\"gardenias\", \"Image of gardenias\", \"Picture of gardenias\", \"gardenias\", \"Cool gardenias\", \"Pretty gardenias\", \"Detailed gardenias\"],\n",
    "    \"hibiscus\": [\"hibiscus\", \"Image of hibiscus\", \"Picture of hibiscus\", \"hibiscuses\", \"Cool hibiscus\", \"Pretty hibiscus\", \"Detailed hibiscus\"],\n",
    "    \"hydrangeas\": [\"hydrangeas\", \"Image of hydrangeas\", \"Picture of hydrangeas\", \"hydrangeas\", \"Cool hydrangeas\", \"Pretty hydrangeas\", \"Detailed hydrangeas\"],\n",
    "    \"lilies\": [\"lilies\", \"Image of lilies\", \"Picture of lilies\", \"lilies\", \"Cool lilies\", \"Pretty lilies\", \"Detailed lilies\"],\n",
    "    \"orchids\": [\"orchids\", \"Image of orchids\", \"Picture of orchids\", \"orchids\", \"Cool orchids\", \"Pretty orchids\", \"Detailed orchids\"],\n",
    "    \"peonies\": [\"peonies\", \"Image of peonies\", \"Picture of peonies\", \"peonies\", \"Cool peonies\", \"Pretty peonies\", \"Detailed peonies\"],\n",
    "    \"tulip\": [\"tulip\", \"Image of tulip\", \"Picture of tulip\", \"tulips\", \"Cool tulip\", \"Pretty tulip\", \"Detailed tulip\"]\n",
    "}\n",
    "\n",
    "# bougainvillea, Image of bougainvillea, Picture of bougainvillea, bougainvilleas, Cool bougainvillea, Pretty bougainvillea, Detailed bougainvillea, daisies, Image of daisies, Picture of daisies, daisies, Cool daisies, Pretty daisies, Detailed daisies, garden_roses, Image of garden_roses, Picture of garden_roses, garden_roses, Cool garden_roses, Pretty garden_roses, Detailed garden_roses, gardenias, Image of gardenias, Picture of gardenias, gardenias, Cool gardenias, Pretty gardenias, Detailed gardenias, hibiscus, Image of hibiscus, Picture of hibiscus, hibiscuses, Cool hibiscus, Pretty hibiscus, Detailed hibiscus, hydrangeas, Image of hydrangeas, Picture of hydrangeas, hydrangeas, Cool hydrangeas, Pretty hydrangeas, Detailed hydrangeas, lilies, Image of lilies, Picture of lilies, lilies, Cool lilies, Pretty lilies, Detailed lilies, orchids, Image of orchids, Picture of orchids, orchids, Cool orchids, Pretty orchids, Detailed orchids, peonies, Image of peonies, Picture of peonies, peonies, Cool peonies, Pretty peonies, Detailed peonies, tulip, Image of tulip, Picture of tulip, tulips, Cool tulip, Pretty tulip, Detailed tulip\n",
    "\n",
    "dict_size(f70)\n",
    "print(flowers_accuracy(\"flowers10/f70.csv\", f70))\n"
   ]
  },
  {
   "cell_type": "code",
   "execution_count": 99,
   "metadata": {},
   "outputs": [
    {
     "name": "stdout",
     "output_type": "stream",
     "text": [
      "80\n",
      "88.28\n",
      "88.28\n"
     ]
    }
   ],
   "source": [
    "f80 = {\n",
    "    \"bougainvillea\": [\"bougainvillea\", \"Image of bougainvillea\", \"Picture of bougainvillea\", \"bougainvilleas\", \"Cool bougainvillea\", \"Pretty bougainvillea\", \"Detailed bougainvillea\", \"Image of pretty bougainvillea\"],\n",
    "    \"daisies\": [\"daisies\", \"Image of daisies\", \"Picture of daisies\", \"daisies\", \"Cool daisies\", \"Pretty daisies\", \"Detailed daisies\", \"Image of pretty daisies\"],\n",
    "    \"garden_roses\": [\"garden roses\", \"Image of garden roses\", \"Picture of garden roses\", \"garden roses\", \"Cool garden roses\", \"Pretty garden roses\", \"Detailed garden roses\", \"Image of pretty garden roses\"],\n",
    "    \"gardenias\": [\"gardenias\", \"Image of gardenias\", \"Picture of gardenias\", \"gardenias\", \"Cool gardenias\", \"Pretty gardenias\", \"Detailed gardenias\", \"Image of pretty gardenias\"],\n",
    "    \"hibiscus\": [\"hibiscus\", \"Image of hibiscus\", \"Picture of hibiscus\", \"hibiscuses\", \"Cool hibiscus\", \"Pretty hibiscus\", \"Detailed hibiscus\", \"Image of pretty hibiscus\"],\n",
    "    \"hydrangeas\": [\"hydrangeas\", \"Image of hydrangeas\", \"Picture of hydrangeas\", \"hydrangeas\", \"Cool hydrangeas\", \"Pretty hydrangeas\", \"Detailed hydrangeas\", \"Image of pretty hydrangeas\"],\n",
    "    \"lilies\": [\"lilies\", \"Image of lilies\", \"Picture of lilies\", \"lilies\", \"Cool lilies\", \"Pretty lilies\", \"Detailed lilies\", \"Image of pretty lilies\"],\n",
    "    \"orchids\": [\"orchids\", \"Image of orchids\", \"Picture of orchids\", \"orchids\", \"Cool orchids\", \"Pretty orchids\", \"Detailed orchids\", \"Image of pretty orchids\"],\n",
    "    \"peonies\": [\"peonies\", \"Image of peonies\", \"Picture of peonies\", \"peonies\", \"Cool peonies\", \"Pretty peonies\", \"Detailed peonies\", \"Image of pretty peonies\"],\n",
    "    \"tulip\": [\"tulip\", \"Image of tulip\", \"Picture of tulip\", \"tulips\", \"Cool tulip\", \"Pretty tulip\", \"Detailed tulip\", \"Image of pretty tulip\"]\n",
    "}\n",
    "\n",
    "# bougainvillea, Image of bougainvillea, Picture of bougainvillea, bougainvilleas, Cool bougainvillea, Pretty bougainvillea, Detailed bougainvillea, Image of pretty bougainvillea, daisies, Image of daisies, Picture of daisies, daisies, Cool daisies, Pretty daisies, Detailed daisies, Image of pretty daisies, garden_roses, Image of garden_roses, Picture of garden_roses, garden_roses, Cool garden_roses, Pretty garden_roses, Detailed garden_roses, Image of pretty garden_roses, gardenias, Image of gardenias, Picture of gardenias, gardenias, Cool gardenias, Pretty gardenias, Detailed gardenias, Image of pretty gardenias, hibiscus, Image of hibiscus, Picture of hibiscus, hibiscuses, Cool hibiscus, Pretty hibiscus, Detailed hibiscus, Image of pretty hibiscus, hydrangeas, Image of hydrangeas, Picture of hydrangeas, hydrangeas, Cool hydrangeas, Pretty hydrangeas, Detailed hydrangeas, Image of pretty hydrangeas, lilies, Image of lilies, Picture of lilies, lilies, Cool lilies, Pretty lilies, Detailed lilies, Image of pretty lilies, orchids, Image of orchids, Picture of orchids, orchids, Cool orchids, Pretty orchids, Detailed orchids, Image of pretty orchids, peonies, Image of peonies, Picture of peonies, peonies, Cool peonies, Pretty peonies, Detailed peonies, Image of pretty peonies, tulip, Image of tulip, Picture of tulip, tulips, Cool tulip, Pretty tulip, Detailed tulip, Image of pretty tulip\n",
    "\n",
    "dict_size(f80)\n",
    "print(flowers_accuracy(\"flowers10/f80.csv\", f80))\n"
   ]
  },
  {
   "cell_type": "code",
   "execution_count": 100,
   "metadata": {},
   "outputs": [
    {
     "name": "stdout",
     "output_type": "stream",
     "text": [
      "90\n",
      "88.28\n",
      "88.28\n"
     ]
    }
   ],
   "source": [
    "f90 = {\n",
    "    \"bougainvillea\": [\"bougainvillea\", \"Image of bougainvillea\", \"Picture of bougainvillea\", \"bougainvilleas\", \"Cool bougainvillea\", \"Pretty bougainvillea\", \"Detailed bougainvillea\", \"Image of pretty bougainvillea\", \"Picture of pretty bougainvilleas\"],\n",
    "    \"daisies\": [\"daisies\", \"Image of daisies\", \"Picture of daisies\", \"daisies\", \"Cool daisies\", \"Pretty daisies\", \"Detailed daisies\", \"Image of pretty daisies\", \"Picture of pretty daisies\"],\n",
    "    \"garden_roses\": [\"garden roses\", \"Image of garden roses\", \"Picture of garden roses\", \"garden roses\", \"Cool garden roses\", \"Pretty garden roses\", \"Detailed garden roses\", \"Image of pretty garden roses\", \"Picture of pretty garden roses\"],\n",
    "    \"gardenias\": [\"gardenias\", \"Image of gardenias\", \"Picture of gardenias\", \"gardenias\", \"Cool gardenias\", \"Pretty gardenias\", \"Detailed gardenias\", \"Image of pretty gardenias\", \"Picture of pretty gardenias\"],\n",
    "    \"hibiscus\": [\"hibiscus\", \"Image of hibiscus\", \"Picture of hibiscus\", \"hibiscuses\", \"Cool hibiscus\", \"Pretty hibiscus\", \"Detailed hibiscus\", \"Image of pretty hibiscus\", \"Picture of pretty hibiscuses\"],\n",
    "    \"hydrangeas\": [\"hydrangeas\", \"Image of hydrangeas\", \"Picture of hydrangeas\", \"hydrangeas\", \"Cool hydrangeas\", \"Pretty hydrangeas\", \"Detailed hydrangeas\", \"Image of pretty hydrangeas\", \"Picture of pretty hydrangeas\"],\n",
    "    \"lilies\": [\"lilies\", \"Image of lilies\", \"Picture of lilies\", \"lilies\", \"Cool lilies\", \"Pretty lilies\", \"Detailed lilies\", \"Image of pretty lilies\", \"Picture of pretty lilies\"],\n",
    "    \"orchids\": [\"orchids\", \"Image of orchids\", \"Picture of orchids\", \"orchids\", \"Cool orchids\", \"Pretty orchids\", \"Detailed orchids\", \"Image of pretty orchids\", \"Picture of pretty orchids\"],\n",
    "    \"peonies\": [\"peonies\", \"Image of peonies\", \"Picture of peonies\", \"peonies\", \"Cool peonies\", \"Pretty peonies\", \"Detailed peonies\", \"Image of pretty peonies\", \"Picture of pretty peonies\"],\n",
    "    \"tulip\": [\"tulip\", \"Image of tulip\", \"Picture of tulip\", \"tulips\", \"Cool tulip\", \"Pretty tulip\", \"Detailed tulip\", \"Image of pretty tulip\", \"Picture of pretty tulips\"]\n",
    "}\n",
    "\n",
    "# bougainvillea, Image of bougainvillea, Picture of bougainvillea, bougainvilleas, Cool bougainvillea, Pretty bougainvillea, Detailed bougainvillea, Image of pretty bougainvillea, Picture of pretty bougainvilleas, daisies, Image of daisies, Picture of daisies, daisies, Cool daisies, Pretty daisies, Detailed daisies, Image of pretty daisies, Picture of pretty daisies, garden_roses, Image of garden_roses, Picture of garden_roses, garden_roses, Cool garden_roses, Pretty garden_roses, Detailed garden_roses, Image of pretty garden_roses, Picture of pretty garden_roses, gardenias, Image of gardenias, Picture of gardenias, gardenias, Cool gardenias, Pretty gardenias, Detailed gardenias, Image of pretty gardenias, Picture of pretty gardenias, hibiscus, Image of hibiscus, Picture of hibiscus, hibiscuses, Cool hibiscus, Pretty hibiscus, Detailed hibiscus, Image of pretty hibiscus, Picture of pretty hibiscuses, hydrangeas, Image of hydrangeas, Picture of hydrangeas, hydrangeas, Cool hydrangeas, Pretty hydrangeas, Detailed hydrangeas, Image of pretty hydrangeas, Picture of pretty hydrangeas, lilies, Image of lilies, Picture of lilies, lilies, Cool lilies, Pretty lilies, Detailed lilies, Image of pretty lilies, Picture of pretty lilies, orchids, Image of orchids, Picture of orchids, orchids, Cool orchids, Pretty orchids, Detailed orchids, Image of pretty orchids, Picture of pretty orchids, peonies, Image of peonies, Picture of peonies, peonies, Cool peonies, Pretty peonies, Detailed peonies, Image of pretty peonies, Picture of pretty peonies, tulip, Image of tulip, Picture of tulip, tulips, Cool tulip, Pretty tulip, Detailed tulip, Image of pretty tulip, Picture of pretty tulips\n",
    "\n",
    "dict_size(f90)\n",
    "print(flowers_accuracy(\"flowers10/f90.csv\", f90))"
   ]
  },
  {
   "cell_type": "code",
   "execution_count": 101,
   "metadata": {},
   "outputs": [
    {
     "name": "stdout",
     "output_type": "stream",
     "text": [
      "100\n",
      "88.28\n",
      "88.28\n"
     ]
    }
   ],
   "source": [
    "f100 = {\n",
    "    \"bougainvillea\": [\"bougainvillea\", \"Image of bougainvillea\", \"Picture of bougainvillea\", \"bougainvilleas\", \"Cool bougainvillea\", \"Pretty bougainvillea\", \"Detailed bougainvillea\", \"Image of pretty bougainvillea\", \"Picture of pretty bougainvilleas\", \"Image of bougainvilleas\"],\n",
    "    \"daisies\": [\"daisies\", \"Image of daisies\", \"Picture of daisies\", \"daisies\", \"Cool daisies\", \"Pretty daisies\", \"Detailed daisies\", \"Image of pretty daisies\", \"Picture of pretty daisies\", \"Image of daisies\"],\n",
    "    \"garden_roses\": [\"garden roses\", \"Image of garden roses\", \"Picture of garden roses\", \"garden roses\", \"Cool garden roses\", \"Pretty garden roses\", \"Detailed garden roses\", \"Image of pretty garden roses\", \"Picture of pretty garden roses\", \"Image of garden roses\"],\n",
    "    \"gardenias\": [\"gardenias\", \"Image of gardenias\", \"Picture of gardenias\", \"gardenias\", \"Cool gardenias\", \"Pretty gardenias\", \"Detailed gardenias\", \"Image of pretty gardenias\", \"Picture of pretty gardenias\", \"Image of gardenias\"],\n",
    "    \"hibiscus\": [\"hibiscus\", \"Image of hibiscus\", \"Picture of hibiscus\", \"hibiscuses\", \"Cool hibiscus\", \"Pretty hibiscus\", \"Detailed hibiscus\", \"Image of pretty hibiscus\", \"Picture of pretty hibiscuses\", \"Image of hibiscuses\"],\n",
    "    \"hydrangeas\": [\"hydrangeas\", \"Image of hydrangeas\", \"Picture of hydrangeas\", \"hydrangeas\", \"Cool hydrangeas\", \"Pretty hydrangeas\", \"Detailed hydrangeas\", \"Image of pretty hydrangeas\", \"Picture of pretty hydrangeas\", \"Image of hydrangeas\"],\n",
    "    \"lilies\": [\"lilies\", \"Image of lilies\", \"Picture of lilies\", \"lilies\", \"Cool lilies\", \"Pretty lilies\", \"Detailed lilies\", \"Image of pretty lilies\", \"Picture of pretty lilies\", \"Image of lilies\"],\n",
    "    \"orchids\": [\"orchids\", \"Image of orchids\", \"Picture of orchids\", \"orchids\", \"Cool orchids\", \"Pretty orchids\", \"Detailed orchids\", \"Image of pretty orchids\", \"Picture of pretty orchids\", \"Image of orchids\"],\n",
    "    \"peonies\": [\"peonies\", \"Image of peonies\", \"Picture of peonies\", \"peonies\", \"Cool peonies\", \"Pretty peonies\", \"Detailed peonies\", \"Image of pretty peonies\", \"Picture of pretty peonies\", \"Image of peonies\"],\n",
    "    \"tulip\": [\"tulip\", \"Image of tulip\", \"Picture of tulip\", \"tulips\", \"Cool tulip\", \"Pretty tulip\", \"Detailed tulip\", \"Image of pretty tulip\", \"Picture of pretty tulips\", \"Image of tulips\"]\n",
    "}\n",
    "\n",
    "# bougainvillea, Image of bougainvillea, Picture of bougainvillea, bougainvilleas, Cool bougainvillea, Pretty bougainvillea, Detailed bougainvillea, Image of pretty bougainvillea, Picture of pretty bougainvilleas, Image of bougainvilleas, daisies, Image of daisies, Picture of daisies, daisies, Cool daisies, Pretty daisies, Detailed daisies, Image of pretty daisies, Picture of pretty daisies, Image of daisies, garden_roses, Image of garden_roses, Picture of garden_roses, garden_roses, Cool garden_roses, Pretty garden_roses, Detailed garden_roses, Image of pretty garden_roses, Picture of pretty garden_roses, Image of garden_roses, gardenias, Image of gardenias, Picture of gardenias, gardenias, Cool gardenias, Pretty gardenias, Detailed gardenias, Image of pretty gardenias, Picture of pretty gardenias, Image of gardenias, hibiscus, Image of hibiscus, Picture of hibiscus, hibiscuses, Cool hibiscus, Pretty hibiscus, Detailed hibiscus, Image of pretty hibiscus, Picture of pretty hibiscuses, Image of hibiscuses, hydrangeas, Image of hydrangeas, Picture of hydrangeas, hydrangeas, Cool hydrangeas, Pretty hydrangeas, Detailed hydrangeas, Image of pretty hydrangeas, Picture of pretty hydrangeas, Image of hydrangeas, lilies, Image of lilies, Picture of lilies, lilies, Cool lilies, Pretty lilies, Detailed lilies, Image of pretty lilies, Picture of pretty lilies, Image of lilies, orchids, Image of orchids, Picture of orchids, orchids, Cool orchids, Pretty orchids, Detailed orchids, Image of pretty orchids, Picture of pretty orchids, Image of orchids, peonies, Image of peonies, Picture of peonies, peonies, Cool peonies, Pretty peonies, Detailed peonies, Image of pretty peonies, Picture of pretty peonies, Image of peonies, tulip, Image of tulip, Picture of tulip, tulips, Cool tulip, Pretty tulip, Detailed tulip, Image of pretty tulip, Picture of pretty tulips, Image of tulips\n",
    "\n",
    "dict_size(f100)\n",
    "print(flowers_accuracy(\"flowers10/f100.csv\", f100))"
   ]
  },
  {
   "cell_type": "markdown",
   "metadata": {},
   "source": [
    "## Fruits 10"
   ]
  },
  {
   "cell_type": "code",
   "execution_count": 102,
   "metadata": {},
   "outputs": [
    {
     "name": "stdout",
     "output_type": "stream",
     "text": [
      "10\n",
      "82.9\n",
      "82.9\n"
     ]
    }
   ],
   "source": [
    "fr10 = {\n",
    "    \"Apple\" : [\"Apple\"],\n",
    "    \"Orange\" : [\"Orange\"],\n",
    "    \"Avocado\" : [\"Avocado\"],\n",
    "    \"Kiwi\" : [\"Kiwi\"],\n",
    "    \"Mango\" : [\"Mango\"],\n",
    "    \"Pineapple\" : [\"Pineapple\"],\n",
    "    \"strawberries\" : [\"strawberries\"],\n",
    "    \"Banana\" : [\"Banana\"],\n",
    "    \"Cherry\" : [\"Cherry\"],\n",
    "    \"Watermelon\" : [\"Watermelon\"]\n",
    "}\n",
    "\n",
    "# Apple, Orange, Avocado, Kiwi, Mango, Pineapple, strawberries, Banana, Cherry, Watermelon\n",
    "\n",
    "dict_size(fr10)\n",
    "print(aOcheck_accuracy(\"fruits10/f10.csv\", fr10))"
   ]
  },
  {
   "cell_type": "code",
   "execution_count": 103,
   "metadata": {},
   "outputs": [
    {
     "name": "stdout",
     "output_type": "stream",
     "text": [
      "20\n",
      "82.66\n",
      "82.66\n"
     ]
    }
   ],
   "source": [
    "fr20 = {\n",
    "    \"Apple\": [\"Apple\", \"Image of Apple\"],\n",
    "    \"Orange\": [\"Orange\", \"Image of Orange\"],\n",
    "    \"Avocado\": [\"Avocado\", \"Image of Avocado\"],\n",
    "    \"Kiwi\": [\"Kiwi\", \"Image of Kiwi\"],\n",
    "    \"Mango\": [\"Mango\", \"Image of Mango\"],\n",
    "    \"Pineapple\": [\"Pineapple\", \"Image of Pineapple\"],\n",
    "    \"strawberries\": [\"strawberries\", \"Image of strawberries\"],\n",
    "    \"Banana\": [\"Banana\", \"Image of Banana\"],\n",
    "    \"Cherry\": [\"Cherry\", \"Image of Cherry\"],\n",
    "    \"Watermelon\": [\"Watermelon\", \"Image of Watermelon\"]\n",
    "}\n",
    "\n",
    "# Apple, Image of Apple, Orange, Image of Orange, Avocado, Image of Avocado, Kiwi, Image of Kiwi, Mango, Image of Mango, Pineapple, Image of Pineapple, strawberries, Image of strawberries, Banana, Image of Banana, Cherry, Image of Cherry, Watermelon, Image of Watermelon\n",
    "\n",
    "dict_size(fr20)\n",
    "print(aOcheck_accuracy(\"fruits10/f20.csv\", fr20))\n"
   ]
  },
  {
   "cell_type": "code",
   "execution_count": 104,
   "metadata": {},
   "outputs": [
    {
     "name": "stdout",
     "output_type": "stream",
     "text": [
      "30\n",
      "82.75\n",
      "82.75\n"
     ]
    }
   ],
   "source": [
    "fr30 = {\n",
    "    \"Apple\": [\"Apple\", \"Image of Apple\", \"Picture of Apple\"],\n",
    "    \"Orange\": [\"Orange\", \"Image of Orange\", \"Picture of Orange\"],\n",
    "    \"Avocado\": [\"Avocado\", \"Image of Avocado\", \"Picture of Avocado\"],\n",
    "    \"Kiwi\": [\"Kiwi\", \"Image of Kiwi\", \"Picture of Kiwi\"],\n",
    "    \"Mango\": [\"Mango\", \"Image of Mango\", \"Picture of Mango\"],\n",
    "    \"Pineapple\": [\"Pineapple\", \"Image of Pineapple\", \"Picture of Pineapple\"],\n",
    "    \"strawberries\": [\"strawberries\", \"Image of strawberries\", \"Picture of strawberries\"],\n",
    "    \"Banana\": [\"Banana\", \"Image of Banana\", \"Picture of Banana\"],\n",
    "    \"Cherry\": [\"Cherry\", \"Image of Cherry\", \"Picture of Cherry\"],\n",
    "    \"Watermelon\": [\"Watermelon\", \"Image of Watermelon\", \"Picture of Watermelon\"]\n",
    "}\n",
    "\n",
    "# Apple, Image of Apple, Picture of Apple, Orange, Image of Orange, Picture of Orange, Avocado, Image of Avocado, Picture of Avocado, Kiwi, Image of Kiwi, Picture of Kiwi, Mango, Image of Mango, Picture of Mango, Pineapple, Image of Pineapple, Picture of Pineapple, strawberries, Image of strawberries, Picture of strawberries, Banana, Image of Banana, Picture of Banana, Cherry, Image of Cherry, Picture of Cherry, Watermelon, Image of Watermelon, Picture of Watermelon\n",
    "\n",
    "dict_size(fr30)\n",
    "print(aOcheck_accuracy(\"fruits10/f30.csv\", fr30))\n"
   ]
  },
  {
   "cell_type": "code",
   "execution_count": 105,
   "metadata": {},
   "outputs": [
    {
     "name": "stdout",
     "output_type": "stream",
     "text": [
      "40\n",
      "83.32\n",
      "83.32\n"
     ]
    }
   ],
   "source": [
    "fr40 = {\n",
    "    \"Apple\": [\"Apple\", \"Image of Apple\", \"Picture of Apple\", \"Apples\"],\n",
    "    \"Orange\": [\"Orange\", \"Image of Orange\", \"Picture of Orange\", \"Oranges\"],\n",
    "    \"Avocado\": [\"Avocado\", \"Image of Avocado\", \"Picture of Avocado\", \"Avocados\"],\n",
    "    \"Kiwi\": [\"Kiwi\", \"Image of Kiwi\", \"Picture of Kiwi\", \"Kiwis\"],\n",
    "    \"Mango\": [\"Mango\", \"Image of Mango\", \"Picture of Mango\", \"Mangoes\"],\n",
    "    \"Pineapple\": [\"Pineapple\", \"Image of Pineapple\", \"Picture of Pineapple\", \"Pineapples\"],\n",
    "    \"strawberries\": [\"strawberries\", \"Image of strawberries\", \"Picture of strawberries\", \"strawberries\"],\n",
    "    \"Banana\": [\"Banana\", \"Image of Banana\", \"Picture of Banana\", \"Bananas\"],\n",
    "    \"Cherry\": [\"Cherry\", \"Image of Cherry\", \"Picture of Cherry\", \"Cherries\"],\n",
    "    \"Watermelon\": [\"Watermelon\", \"Image of Watermelon\", \"Picture of Watermelon\", \"Watermelons\"]\n",
    "}\n",
    "\n",
    "# Apple, Image of Apple, Picture of Apple, Apples, Orange, Image of Orange, Picture of Orange, Oranges, Avocado, Image of Avocado, Picture of Avocado, Avocados, Kiwi, Image of Kiwi, Picture of Kiwi, Kiwis, Mango, Image of Mango, Picture of Mango, Mangoes, Pineapple, Image of Pineapple, Picture of Pineapple, Pineapples, strawberries, Image of strawberries, Picture of strawberries, strawberries, Banana, Image of Banana, Picture of Banana, Bananas, Cherry, Image of Cherry, Picture of Cherry, Cherries, Watermelon, Image of Watermelon, Picture of Watermelon, Watermelons\n",
    "\n",
    "dict_size(fr40)\n",
    "print(aOcheck_accuracy(\"fruits10/f40.csv\", fr40))\n"
   ]
  },
  {
   "cell_type": "code",
   "execution_count": 106,
   "metadata": {},
   "outputs": [
    {
     "name": "stdout",
     "output_type": "stream",
     "text": [
      "50\n",
      "83.47\n",
      "83.47\n"
     ]
    }
   ],
   "source": [
    "fr50 = {\n",
    "    \"Apple\": [\"Apple\", \"Image of Apple\", \"Picture of Apple\", \"Apples\", \"Cool Apple\"],\n",
    "    \"Orange\": [\"Orange\", \"Image of Orange\", \"Picture of Orange\", \"Oranges\", \"Cool Orange\"],\n",
    "    \"Avocado\": [\"Avocado\", \"Image of Avocado\", \"Picture of Avocado\", \"Avocados\", \"Cool Avocado\"],\n",
    "    \"Kiwi\": [\"Kiwi\", \"Image of Kiwi\", \"Picture of Kiwi\", \"Kiwis\", \"Cool Kiwi\"],\n",
    "    \"Mango\": [\"Mango\", \"Image of Mango\", \"Picture of Mango\", \"Mangoes\", \"Cool Mango\"],\n",
    "    \"Pineapple\": [\"Pineapple\", \"Image of Pineapple\", \"Picture of Pineapple\", \"Pineapples\", \"Cool Pineapple\"],\n",
    "    \"strawberries\": [\"strawberries\", \"Image of strawberries\", \"Picture of strawberries\", \"strawberries\", \"Cool strawberries\"],\n",
    "    \"Banana\": [\"Banana\", \"Image of Banana\", \"Picture of Banana\", \"Bananas\", \"Cool Banana\"],\n",
    "    \"Cherry\": [\"Cherry\", \"Image of Cherry\", \"Picture of Cherry\", \"Cherries\", \"Cool Cherry\"],\n",
    "    \"Watermelon\": [\"Watermelon\", \"Image of Watermelon\", \"Picture of Watermelon\", \"Watermelons\", \"Cool Watermelon\"]\n",
    "}\n",
    "\n",
    "# Apple, Image of Apple, Picture of Apple, Apples, Cool Apple, Orange, Image of Orange, Picture of Orange, Oranges, Cool Orange, Avocado, Image of Avocado, Picture of Avocado, Avocados, Cool Avocado, Kiwi, Image of Kiwi, Picture of Kiwi, Kiwis, Cool Kiwi, Mango, Image of Mango, Picture of Mango, Mangoes, Cool Mango, Pineapple, Image of Pineapple, Picture of Pineapple, Pineapples, Cool Pineapple, strawberries, Image of strawberries, Picture of strawberries, strawberries, Cool strawberries, Banana, Image of Banana, Picture of Banana, Bananas, Cool Banana, Cherry, Image of Cherry, Picture of Cherry, Cherries, Cool Cherry, Watermelon, Image of Watermelon, Picture of Watermelon, Watermelons, Cool Watermelon\n",
    "\n",
    "dict_size(fr50)\n",
    "print(aOcheck_accuracy(\"fruits10/f50.csv\", fr50))\n"
   ]
  },
  {
   "cell_type": "code",
   "execution_count": 107,
   "metadata": {},
   "outputs": [
    {
     "name": "stdout",
     "output_type": "stream",
     "text": [
      "60\n",
      "83.56\n",
      "83.56\n"
     ]
    }
   ],
   "source": [
    "fr60 = {\n",
    "    \"Apple\": [\"Apple\", \"Image of Apple\", \"Picture of Apple\", \"Apples\", \"Cool Apple\", \"Pretty Apple\"],\n",
    "    \"Orange\": [\"Orange\", \"Image of Orange\", \"Picture of Orange\", \"Oranges\", \"Cool Orange\", \"Pretty Orange\"],\n",
    "    \"Avocado\": [\"Avocado\", \"Image of Avocado\", \"Picture of Avocado\", \"Avocados\", \"Cool Avocado\", \"Pretty Avocado\"],\n",
    "    \"Kiwi\": [\"Kiwi\", \"Image of Kiwi\", \"Picture of Kiwi\", \"Kiwis\", \"Cool Kiwi\", \"Pretty Kiwi\"],\n",
    "    \"Mango\": [\"Mango\", \"Image of Mango\", \"Picture of Mango\", \"Mangoes\", \"Cool Mango\", \"Pretty Mango\"],\n",
    "    \"Pineapple\": [\"Pineapple\", \"Image of Pineapple\", \"Picture of Pineapple\", \"Pineapples\", \"Cool Pineapple\", \"Pretty Pineapple\"],\n",
    "    \"strawberries\": [\"strawberries\", \"Image of strawberries\", \"Picture of strawberries\", \"strawberries\", \"Cool strawberries\", \"Pretty strawberries\"],\n",
    "    \"Banana\": [\"Banana\", \"Image of Banana\", \"Picture of Banana\", \"Bananas\", \"Cool Banana\", \"Pretty Banana\"],\n",
    "    \"Cherry\": [\"Cherry\", \"Image of Cherry\", \"Picture of Cherry\", \"Cherries\", \"Cool Cherry\", \"Pretty Cherry\"],\n",
    "    \"Watermelon\": [\"Watermelon\", \"Image of Watermelon\", \"Picture of Watermelon\", \"Watermelons\", \"Cool Watermelon\", \"Pretty Watermelon\"]\n",
    "}\n",
    "\n",
    "# Apple, Image of Apple, Picture of Apple, Apples, Cool Apple, Pretty Apple, Orange, Image of Orange, Picture of Orange, Oranges, Cool Orange, Pretty Orange, Avocado, Image of Avocado, Picture of Avocado, Avocados, Cool Avocado, Pretty Avocado, Kiwi, Image of Kiwi, Picture of Kiwi, Kiwis, Cool Kiwi, Pretty Kiwi, Mango, Image of Mango, Picture of Mango, Mangoes, Cool Mango, Pretty Mango, Pineapple, Image of Pineapple, Picture of Pineapple, Pineapples, Cool Pineapple, Pretty Pineapple, strawberries, Image of strawberries, Picture of strawberries, strawberries, Cool strawberries, Pretty strawberries, Banana, Image of Banana, Picture of Banana, Bananas, Cool Banana, Pretty Banana, Cherry, Image of Cherry, Picture of Cherry, Cherries, Cool Cherry, Pretty Cherry, Watermelon, Image of Watermelon, Picture of Watermelon, Watermelons, Cool Watermelon, Pretty Watermelon\n",
    "\n",
    "dict_size(fr60)\n",
    "print(aOcheck_accuracy(\"fruits10/f60.csv\", fr60))\n"
   ]
  },
  {
   "cell_type": "code",
   "execution_count": 108,
   "metadata": {},
   "outputs": [
    {
     "name": "stdout",
     "output_type": "stream",
     "text": [
      "70\n",
      "83.56\n",
      "83.56\n"
     ]
    }
   ],
   "source": [
    "fr70 = {\n",
    "    \"Apple\": [\"Apple\", \"Image of Apple\", \"Picture of Apple\", \"Apples\", \"Cool Apple\", \"Pretty Apple\", \"Detailed Apple\"],\n",
    "    \"Orange\": [\"Orange\", \"Image of Orange\", \"Picture of Orange\", \"Oranges\", \"Cool Orange\", \"Pretty Orange\", \"Detailed Orange\"],\n",
    "    \"Avocado\": [\"Avocado\", \"Image of Avocado\", \"Picture of Avocado\", \"Avocados\", \"Cool Avocado\", \"Pretty Avocado\", \"Detailed Avocado\"],\n",
    "    \"Kiwi\": [\"Kiwi\", \"Image of Kiwi\", \"Picture of Kiwi\", \"Kiwis\", \"Cool Kiwi\", \"Pretty Kiwi\", \"Detailed Kiwi\"],\n",
    "    \"Mango\": [\"Mango\", \"Image of Mango\", \"Picture of Mango\", \"Mangoes\", \"Cool Mango\", \"Pretty Mango\", \"Detailed Mango\"],\n",
    "    \"Pineapple\": [\"Pineapple\", \"Image of Pineapple\", \"Picture of Pineapple\", \"Pineapples\", \"Cool Pineapple\", \"Pretty Pineapple\", \"Detailed Pineapple\"],\n",
    "    \"strawberries\": [\"strawberries\", \"Image of strawberries\", \"Picture of strawberries\", \"strawberries\", \"Cool strawberries\", \"Pretty strawberries\", \"Detailed strawberries\"],\n",
    "    \"Banana\": [\"Banana\", \"Image of Banana\", \"Picture of Banana\", \"Bananas\", \"Cool Banana\", \"Pretty Banana\", \"Detailed Banana\"],\n",
    "    \"Cherry\": [\"Cherry\", \"Image of Cherry\", \"Picture of Cherry\", \"Cherries\", \"Cool Cherry\", \"Pretty Cherry\", \"Detailed Cherry\"],\n",
    "    \"Watermelon\": [\"Watermelon\", \"Image of Watermelon\", \"Picture of Watermelon\", \"Watermelons\", \"Cool Watermelon\", \"Pretty Watermelon\", \"Detailed Watermelon\"]\n",
    "}\n",
    "\n",
    "# Apple, Image of Apple, Picture of Apple, Apples, Cool Apple, Pretty Apple, Detailed Apple, Orange, Image of Orange, Picture of Orange, Oranges, Cool Orange, Pretty Orange, Detailed Orange, Avocado, Image of Avocado, Picture of Avocado, Avocados, Cool Avocado, Pretty Avocado, Detailed Avocado, Kiwi, Image of Kiwi, Picture of Kiwi, Kiwis, Cool Kiwi, Pretty Kiwi, Detailed Kiwi, Mango, Image of Mango, Picture of Mango, Mangoes, Cool Mango, Pretty Mango, Detailed Mango, Pineapple, Image of Pineapple, Picture of Pineapple, Pineapples, Cool Pineapple, Pretty Pineapple, Detailed Pineapple, strawberries, Image of strawberries, Picture of strawberries, strawberries, Cool strawberries, Pretty strawberries, Detailed strawberries, Banana, Image of Banana, Picture of Banana, Bananas, Cool Banana, Pretty Banana, Detailed Banana, Cherry, Image of Cherry, Picture of Cherry, Cherries, Cool Cherry, Pretty Cherry, Detailed Cherry, Watermelon, Image of Watermelon, Picture of Watermelon, Watermelons, Cool Watermelon, Pretty Watermelon, Detailed Watermelon\n",
    "\n",
    "dict_size(fr70)\n",
    "print(aOcheck_accuracy(\"fruits10/f70.csv\", fr70))\n"
   ]
  },
  {
   "cell_type": "code",
   "execution_count": 109,
   "metadata": {},
   "outputs": [
    {
     "name": "stdout",
     "output_type": "stream",
     "text": [
      "80\n",
      "83.65\n",
      "83.65\n"
     ]
    }
   ],
   "source": [
    "fr80 = {\n",
    "    \"Apple\": [\"Apple\", \"Image of Apple\", \"Picture of Apple\", \"Apples\", \"Cool Apple\", \"Pretty Apple\", \"Detailed Apple\", \"Image of pretty Apple\"],\n",
    "    \"Orange\": [\"Orange\", \"Image of Orange\", \"Picture of Orange\", \"Oranges\", \"Cool Orange\", \"Pretty Orange\", \"Detailed Orange\", \"Image of pretty Orange\"],\n",
    "    \"Avocado\": [\"Avocado\", \"Image of Avocado\", \"Picture of Avocado\", \"Avocados\", \"Cool Avocado\", \"Pretty Avocado\", \"Detailed Avocado\", \"Image of pretty Avocado\"],\n",
    "    \"Kiwi\": [\"Kiwi\", \"Image of Kiwi\", \"Picture of Kiwi\", \"Kiwis\", \"Cool Kiwi\", \"Pretty Kiwi\", \"Detailed Kiwi\", \"Image of pretty Kiwi\"],\n",
    "    \"Mango\": [\"Mango\", \"Image of Mango\", \"Picture of Mango\", \"Mangoes\", \"Cool Mango\", \"Pretty Mango\", \"Detailed Mango\", \"Image of pretty Mango\"],\n",
    "    \"Pineapple\": [\"Pineapple\", \"Image of Pineapple\", \"Picture of Pineapple\", \"Pineapples\", \"Cool Pineapple\", \"Pretty Pineapple\", \"Detailed Pineapple\", \"Image of pretty Pineapple\"],\n",
    "    \"strawberries\": [\"strawberries\", \"Image of strawberries\", \"Picture of strawberries\", \"strawberries\", \"Cool strawberries\", \"Pretty strawberries\", \"Detailed strawberries\", \"Image of pretty strawberries\"],\n",
    "    \"Banana\": [\"Banana\", \"Image of Banana\", \"Picture of Banana\", \"Bananas\", \"Cool Banana\", \"Pretty Banana\", \"Detailed Banana\", \"Image of pretty Banana\"],\n",
    "    \"Cherry\": [\"Cherry\", \"Image of Cherry\", \"Picture of Cherry\", \"Cherries\", \"Cool Cherry\", \"Pretty Cherry\", \"Detailed Cherry\", \"Image of pretty Cherry\"],\n",
    "    \"Watermelon\": [\"Watermelon\", \"Image of Watermelon\", \"Picture of Watermelon\", \"Watermelons\", \"Cool Watermelon\", \"Pretty Watermelon\", \"Detailed Watermelon\", \"Image of pretty Watermelon\"]\n",
    "}\n",
    "\n",
    "# Apple, Image of Apple, Picture of Apple, Apples, Cool Apple, Pretty Apple, Detailed Apple, Image of pretty Apple, Orange, Image of Orange, Picture of Orange, Oranges, Cool Orange, Pretty Orange, Detailed Orange, Image of pretty Orange, Avocado, Image of Avocado, Picture of Avocado, Avocados, Cool Avocado, Pretty Avocado, Detailed Avocado, Image of pretty Avocado, Kiwi, Image of Kiwi, Picture of Kiwi, Kiwis, Cool Kiwi, Pretty Kiwi, Detailed Kiwi, Image of pretty Kiwi, Mango, Image of Mango, Picture of Mango, Mangoes, Cool Mango, Pretty Mango, Detailed Mango, Image of pretty Mango, Pineapple, Image of Pineapple, Picture of Pineapple, Pineapples, Cool Pineapple, Pretty Pineapple, Detailed Pineapple, Image of pretty Pineapple, strawberries, Image of strawberries, Picture of strawberries, strawberries, Cool strawberries, Pretty strawberries, Detailed strawberries, Image of pretty strawberries, Banana, Image of Banana, Picture of Banana, Bananas, Cool Banana, Pretty Banana, Detailed Banana, Image of pretty Banana, Cherry, Image of Cherry, Picture of Cherry, Cherries, Cool Cherry, Pretty Cherry, Detailed Cherry, Image of pretty Cherry, Watermelon, Image of Watermelon, Picture of Watermelon, Watermelons, Cool Watermelon, Pretty Watermelon, Detailed Watermelon, Image of pretty Watermelon\n",
    "\n",
    "dict_size(fr80)\n",
    "print(aOcheck_accuracy(\"fruits10/f80.csv\", fr80))\n"
   ]
  },
  {
   "cell_type": "code",
   "execution_count": 110,
   "metadata": {},
   "outputs": [],
   "source": [
    "fr90 = {\n",
    "    \"Apple\": [\"Apple\", \"Image of Apple\", \"Picture of Apple\", \"Apples\", \"Cool Apple\", \"Pretty Apple\", \"Detailed Apple\", \"Image of pretty Apple\", \"Picture of pretty Apples\"],\n",
    "    \"Orange\": [\"Orange\", \"Image of Orange\", \"Picture of Orange\", \"Oranges\", \"Cool Orange\", \"Pretty Orange\", \"Detailed Orange\", \"Image of pretty Orange\", \"Picture of pretty Oranges\"],\n",
    "    \"Avocado\": [\"Avocado\", \"Image of Avocado\", \"Picture of Avocado\", \"Avocados\", \"Cool Avocado\", \"Pretty Avocado\", \"Detailed Avocado\", \"Image of pretty Avocado\", \"Picture of pretty Avocados\"],\n",
    "    \"Kiwi\": [\"Kiwi\", \"Image of Kiwi\", \"Picture of Kiwi\", \"Kiwis\", \"Cool Kiwi\", \"Pretty Kiwi\", \"Detailed Kiwi\", \"Image of pretty Kiwi\", \"Picture of pretty Kiwis\"],\n",
    "    \"Mango\": [\"Mango\", \"Image of Mango\", \"Picture of Mango\", \"Mangoes\", \"Cool Mango\", \"Pretty Mango\", \"Detailed Mango\", \"Image of pretty Mango\", \"Picture of pretty Mangoes\"],\n",
    "    \"Pineapple\": [\"Pineapple\", \"Image of Pineapple\", \"Picture of Pineapple\", \"Pineapples\", \"Cool Pineapple\", \"Pretty Pineapple\", \"Detailed Pineapple\", \"Image of pretty Pineapple\", \"Picture of pretty Pineapples\"],\n",
    "    \"strawberries\": [\"strawberries\", \"Image of strawberries\", \"Picture of strawberries\", \"strawberries\", \"Cool strawberries\", \"Pretty strawberries\", \"Detailed strawberries\", \"Image of pretty strawberries\", \"Picture of pretty strawberries\"],\n",
    "    \"Banana\": [\"Banana\", \"Image of Banana\", \"Picture of Banana\", \"Bananas\", \"Cool Banana\", \"Pretty Banana\", \"Detailed Banana\", \"Image of pretty Banana\", \"Picture of pretty Bananas\"],\n",
    "    \"Cherry\": [\"Cherry\", \"Image of Cherry\", \"Picture of Cherry\", \"Cherries\", \"Cool Cherry\", \"Pretty Cherry\", \"Detailed Cherry\", \"Image of pretty Cherry\", \"Picture of pretty Cherries\"],\n",
    "    \"Watermelon\": [\"Watermelon\", \"Image of Watermelon\", \"Picture of Watermelon\", \"Watermelons\", \"Cool Watermelon\", \"Pretty Watermelon\", \"Detailed Watermelon\", \"Image of pretty Watermelon\", \"Picture of pretty Watermelons\"]\n",
    "}\n",
    "\n",
    "# Apple, Image of Apple, Picture of Apple, Apples, Cool Apple, Pretty Apple, Detailed Apple, Image of pretty Apple, Picture of pretty Apples, Orange, Image of Orange, Picture of Orange, Oranges, Cool Orange, Pretty Orange, Detailed Orange, Image of pretty Orange, Picture of pretty Oranges, Avocado, Image of Avocado, Picture of Avocado, Avocados, Cool Avocado, Pretty Avocado, Detailed Avocado, Image of pretty Avocado, Picture of pretty Avocados, Kiwi, Image of Kiwi, Picture of Kiwi, Kiwis, Cool Kiwi, Pretty Kiwi, Detailed Kiwi, Image of pretty Kiwi, Picture of pretty Kiwis, Mango, Image of Mango, Picture of Mango, Mangoes, Cool Mango, Pretty Mango, Detailed Mango, Image of pretty Mango, Picture of pretty Mangoes, Pineapple, Image of Pineapple, Picture of Pineapple, Pineapples, Cool Pineapple, Pretty Pineapple, Detailed Pineapple, Image of pretty Pineapple, Picture of pretty Pineapples, strawberries, Image of strawberries, Picture of strawberries, strawberries, Cool strawberries, Pretty strawberries, Detailed strawberries, Image of pretty strawberries, Picture of pretty strawberries, Banana, Image of Banana, Picture of Banana, Bananas, Cool Banana, Pretty Banana, Detailed Banana, Image of pretty Banana, Picture of pretty Bananas, Cherry, Image of Cherry, Picture of Cherry, Cherries, Cool Cherry, Pretty Cherry, Detailed Cherry, Image of pretty Cherry, Picture of pretty Cherries, Watermelon, Image of Watermelon, Picture of Watermelon, Watermelons, Cool Watermelon, Pretty Watermelon, Detailed Watermelon, Image of pretty Watermelon, Picture of pretty Watermelons\n",
    "\n",
    "# dict_size(fr90)\n",
    "# print(aOcheck_accuracy(\"fruits10/f90.csv\", fr90))\n"
   ]
  },
  {
   "cell_type": "code",
   "execution_count": 111,
   "metadata": {},
   "outputs": [],
   "source": [
    "fr100 = {\n",
    "    \"Apple\": [\"Apple\", \"Image of Apple\", \"Picture of Apple\", \"Apples\", \"Cool Apple\", \"Pretty Apple\", \"Detailed Apple\", \"Image of pretty Apple\", \"Picture of pretty Apples\", \"Image of Apples\"],\n",
    "    \"Orange\": [\"Orange\", \"Image of Orange\", \"Picture of Orange\", \"Oranges\", \"Cool Orange\", \"Pretty Orange\", \"Detailed Orange\", \"Image of pretty Orange\", \"Picture of pretty Oranges\", \"Image of Oranges\"],\n",
    "    \"Avocado\": [\"Avocado\", \"Image of Avocado\", \"Picture of Avocado\", \"Avocados\", \"Cool Avocado\", \"Pretty Avocado\", \"Detailed Avocado\", \"Image of pretty Avocado\", \"Picture of pretty Avocados\", \"Image of Avocados\"],\n",
    "    \"Kiwi\": [\"Kiwi\", \"Image of Kiwi\", \"Picture of Kiwi\", \"Kiwis\", \"Cool Kiwi\", \"Pretty Kiwi\", \"Detailed Kiwi\", \"Image of pretty Kiwi\", \"Picture of pretty Kiwis\", \"Image of Kiwis\"],\n",
    "    \"Mango\": [\"Mango\", \"Image of Mango\", \"Picture of Mango\", \"Mangoes\", \"Cool Mango\", \"Pretty Mango\", \"Detailed Mango\", \"Image of pretty Mango\", \"Picture of pretty Mangoes\", \"Image of Mangoes\"],\n",
    "    \"Pineapple\": [\"Pineapple\", \"Image of Pineapple\", \"Picture of Pineapple\", \"Pineapples\", \"Cool Pineapple\", \"Pretty Pineapple\", \"Detailed Pineapple\", \"Image of pretty Pineapple\", \"Picture of pretty Pineapples\", \"Image of Pineapples\"],\n",
    "    \"strawberries\": [\"strawberries\", \"Image of strawberries\", \"Picture of strawberries\", \"strawberries\", \"Cool strawberries\", \"Pretty strawberries\", \"Detailed strawberries\", \"Image of pretty strawberries\", \"Picture of pretty strawberries\", \"Image of strawberries\"],\n",
    "    \"Banana\": [\"Banana\", \"Image of Banana\", \"Picture of Banana\", \"Bananas\", \"Cool Banana\", \"Pretty Banana\", \"Detailed Banana\", \"Image of pretty Banana\", \"Picture of pretty Bananas\", \"Image of Bananas\"],\n",
    "    \"Cherry\": [\"Cherry\", \"Image of Cherry\", \"Picture of Cherry\", \"Cherries\", \"Cool Cherry\", \"Pretty Cherry\", \"Detailed Cherry\", \"Image of pretty Cherry\", \"Picture of pretty Cherries\", \"Image of Cherries\"],\n",
    "    \"Watermelon\": [\"Watermelon\", \"Image of Watermelon\", \"Picture of Watermelon\", \"Watermelons\", \"Cool Watermelon\", \"Pretty Watermelon\", \"Detailed Watermelon\", \"Image of pretty Watermelon\", \"Picture of pretty Watermelons\", \"Image of Watermelons\"]\n",
    "}\n",
    "\n",
    "# Apple, Image of Apple, Picture of Apple, Apples, Cool Apple, Pretty Apple, Detailed Apple, Image of pretty Apple, Picture of pretty Apples, Image of Apples, Orange, Image of Orange, Picture of Orange, Oranges, Cool Orange, Pretty Orange, Detailed Orange, Image of pretty Orange, Picture of pretty Oranges, Image of Oranges, Avocado, Image of Avocado, Picture of Avocado, Avocados, Cool Avocado, Pretty Avocado, Detailed Avocado, Image of pretty Avocado, Picture of pretty Avocados, Image of Avocados, Kiwi, Image of Kiwi, Picture of Kiwi, Kiwis, Cool Kiwi, Pretty Kiwi, Detailed Kiwi, Image of pretty Kiwi, Picture of pretty Kiwis, Image of Kiwis, Mango, Image of Mango, Picture of Mango, Mangoes, Cool Mango, Pretty Mango, Detailed Mango, Image of pretty Mango, Picture of pretty Mangoes, Image of Mangoes, Pineapple, Image of Pineapple, Picture of Pineapple, Pineapples, Cool Pineapple, Pretty Pineapple, Detailed Pineapple, Image of pretty Pineapple, Picture of pretty Pineapples, Image of Pineapples, strawberries, Image of strawberries, Picture of strawberries, strawberries, Cool strawberries, Pretty strawberries, Detailed strawberries, Image of pretty strawberries, Picture of pretty strawberries, Image of strawberries, Banana, Image of Banana, Picture of Banana, Bananas, Cool Banana, Pretty Banana, Detailed Banana, Image of pretty Banana, Picture of pretty Bananas, Image of Bananas, Cherry, Image of Cherry, Picture of Cherry, Cherries, Cool Cherry, Pretty Cherry, Detailed Cherry, Image of pretty Cherry, Picture of pretty Cherries, Image of Cherries, Watermelon, Image of Watermelon, Picture of Watermelon, Watermelons, Cool Watermelon, Pretty Watermelon, Detailed Watermelon, Image of pretty Watermelon, Picture of pretty Watermelons, Image of Watermelons\n",
    "\n",
    "# dict_size(fr100)\n",
    "# print(aOcheck_accuracy(\"fruits10/f100.csv\", fr100))"
   ]
  },
  {
   "cell_type": "markdown",
   "metadata": {},
   "source": [
    "## Food 34"
   ]
  },
  {
   "cell_type": "code",
   "execution_count": 112,
   "metadata": {},
   "outputs": [
    {
     "name": "stdout",
     "output_type": "stream",
     "text": [
      "34\n",
      "80.2\n",
      "80.2\n"
     ]
    }
   ],
   "source": [
    "f34 = {\n",
    "    \"Baked Potato\": [\"Baked Potato\"],\n",
    "    \"Crispy Chicken\": [\"Crispy Chicken\"],\n",
    "    \"Donut\": [\"Donut\"],\n",
    "    \"Fries\": [\"Fries\"],\n",
    "    \"Hot Dog\": [\"Hot Dog\"],\n",
    "    \"Sandwich\": [\"Sandwich\"],\n",
    "    \"Taco\": [\"Taco\"],\n",
    "    \"Taquito\": [\"Taquito\"],\n",
    "    \"apple_pie\": [\"apple_pie\"],\n",
    "    \"burger\": [\"burger\"],\n",
    "    \"butter_naan\": [\"butter_naan\"],\n",
    "    \"chai\": [\"chai\"],\n",
    "    \"chapati\": [\"chapati\"],\n",
    "    \"cheesecake\": [\"cheesecake\"],\n",
    "    \"chicken_curry\": [\"chicken_curry\"],\n",
    "    \"chole_bhature\": [\"chole_bhature\"],\n",
    "    \"dal_makhani\": [\"dal_makhani\"],\n",
    "    \"dhokla\": [\"dhokla\"],\n",
    "    \"fried_rice\": [\"fried_rice\"],\n",
    "    \"ice_cream\": [\"ice_cream\"],\n",
    "    \"idli\": [\"idli\"],\n",
    "    \"jalebi\": [\"jalebi\"],\n",
    "    \"kaathi_rolls\": [\"kaathi_rolls\"],\n",
    "    \"kadai_paneer\": [\"kadai_paneer\"],\n",
    "    \"kulfi\": [\"kulfi\"],\n",
    "    \"masala_dosa\": [\"masala_dosa\"],\n",
    "    \"momos\": [\"momos\"],\n",
    "    \"omelette\": [\"omelette\"],\n",
    "    \"paani_puri\": [\"paani_puri\"],\n",
    "    \"pakode\": [\"pakode\"],\n",
    "    \"pav_bhaji\": [\"pav_bhaji\"],\n",
    "    \"pizza\": [\"pizza\"],\n",
    "    \"samosa\": [\"samosa\"],\n",
    "    \"sushi\": [\"sushi\"],\n",
    "}\n",
    "\n",
    "# Baked Potato, Crispy Chicken, Donut, Fries, Hot Dog, Sandwich, Taco, Taquito, apple_pie, burger, butter_naan, chai, chapati, cheesecake, chicken_curry, chole_bhature, dal_makhani, dhokla, fried_rice, ice_cream, idli, jalebi, kaathi_rolls, kadai_paneer, kulfi, masala_dosa, momos, omelette, paani_puri, pakode, pav_bhaji, pizza, samosa, sushi\n",
    "\n",
    "dict_size(f34)\n",
    "print(aOcheck_accuracy(\"food34/f34.csv\", f34))"
   ]
  },
  {
   "cell_type": "code",
   "execution_count": 113,
   "metadata": {},
   "outputs": [
    {
     "name": "stdout",
     "output_type": "stream",
     "text": [
      "68\n",
      "81.5\n",
      "81.5\n"
     ]
    }
   ],
   "source": [
    "f68 = {\n",
    "    \"Baked Potato\": [\"Baked Potato\", \"Image of Baked Potato\"],\n",
    "    \"Crispy Chicken\": [\"Crispy Chicken\", \"Image of Crispy Chicken\"],\n",
    "    \"Donut\": [\"Donut\", \"Image of Donut\"],\n",
    "    \"Fries\": [\"Fries\", \"Image of Fries\"],\n",
    "    \"Hot Dog\": [\"Hot Dog\", \"Image of Hot Dog\"],\n",
    "    \"Sandwich\": [\"Sandwich\", \"Image of Sandwich\"],\n",
    "    \"Taco\": [\"Taco\", \"Image of Taco\"],\n",
    "    \"Taquito\": [\"Taquito\", \"Image of Taquito\"],\n",
    "    \"apple_pie\": [\"apple_pie\", \"Image of apple_pie\"],\n",
    "    \"burger\": [\"burger\", \"Image of burger\"],\n",
    "    \"butter_naan\": [\"butter_naan\", \"Image of butter_naan\"],\n",
    "    \"chai\": [\"chai\", \"Image of chai\"],\n",
    "    \"chapati\": [\"chapati\", \"Image of chapati\"],\n",
    "    \"cheesecake\": [\"cheesecake\", \"Image of cheesecake\"],\n",
    "    \"chicken_curry\": [\"chicken_curry\", \"Image of chicken_curry\"],\n",
    "    \"chole_bhature\": [\"chole_bhature\", \"Image of chole_bhature\"],\n",
    "    \"dal_makhani\": [\"dal_makhani\", \"Image of dal_makhani\"],\n",
    "    \"dhokla\": [\"dhokla\", \"Image of dhokla\"],\n",
    "    \"fried_rice\": [\"fried_rice\", \"Image of fried_rice\"],\n",
    "    \"ice_cream\": [\"ice_cream\", \"Image of ice_cream\"],\n",
    "    \"idli\": [\"idli\", \"Image of idli\"],\n",
    "    \"jalebi\": [\"jalebi\", \"Image of jalebi\"],\n",
    "    \"kaathi_rolls\": [\"kaathi_rolls\", \"Image of kaathi_rolls\"],\n",
    "    \"kadai_paneer\": [\"kadai_paneer\", \"Image of kadai_paneer\"],\n",
    "    \"kulfi\": [\"kulfi\", \"Image of kulfi\"],\n",
    "    \"masala_dosa\": [\"masala_dosa\", \"Image of masala_dosa\"],\n",
    "    \"momos\": [\"momos\", \"Image of momos\"],\n",
    "    \"omelette\": [\"omelette\", \"Image of omelette\"],\n",
    "    \"paani_puri\": [\"paani_puri\", \"Image of paani_puri\"],\n",
    "    \"pakode\": [\"pakode\", \"Image of pakode\"],\n",
    "    \"pav_bhaji\": [\"pav_bhaji\", \"Image of pav_bhaji\"],\n",
    "    \"pizza\": [\"pizza\", \"Image of pizza\"],\n",
    "    \"samosa\": [\"samosa\", \"Image of samosa\"],\n",
    "    \"sushi\": [\"sushi\", \"Image of sushi\"]\n",
    "}\n",
    "\n",
    "# Baked Potato, Image of Baked Potato, Crispy Chicken, Image of Crispy Chicken, Donut, Image of Donut, Fries, Image of Fries, Hot Dog, Image of Hot Dog, Sandwich, Image of Sandwich, Taco, Image of Taco, Taquito, Image of Taquito, apple_pie, Image of apple_pie, burger, Image of burger, butter_naan, Image of butter_naan, chai, Image of chai, chapati, Image of chapati, cheesecake, Image of cheesecake, chicken_curry, Image of chicken_curry, chole_bhature, Image of chole_bhature, dal_makhani, Image of dal_makhani, dhokla, Image of dhokla, fried_rice, Image of fried_rice, ice_cream, Image of ice_cream, idli, Image of idli, jalebi, Image of jalebi, kaathi_rolls, Image of kaathi_rolls, kadai_paneer, Image of kadai_paneer, kulfi, Image of kulfi, masala_dosa, Image of masala_dosa, momos, Image of momos, omelette, Image of omelette, paani_puri, Image of paani_puri, pakode, Image of pakode, pav_bhaji, Image of pav_bhaji, pizza, Image of pizza, samosa, Image of samosa, sushi, Image of sushi\n",
    "\n",
    "dict_size(f68)\n",
    "print(aOcheck_accuracy(\"food34/f68.csv\", f68))\n"
   ]
  },
  {
   "cell_type": "code",
   "execution_count": 114,
   "metadata": {},
   "outputs": [
    {
     "name": "stdout",
     "output_type": "stream",
     "text": [
      "102\n",
      "79.81\n",
      "79.81\n"
     ]
    }
   ],
   "source": [
    "f102 = {\n",
    "    \"Baked Potato\": [\"Baked Potato\", \"Image of Baked Potato\", \"Picture of Baked Potato\"],\n",
    "    \"Crispy Chicken\": [\"Crispy Chicken\", \"Image of Crispy Chicken\", \"Picture of Crispy Chicken\"],\n",
    "    \"Donut\": [\"Donut\", \"Image of Donut\", \"Picture of Donut\"],\n",
    "    \"Fries\": [\"Fries\", \"Image of Fries\", \"Picture of Fries\"],\n",
    "    \"Hot Dog\": [\"Hot Dog\", \"Image of Hot Dog\", \"Picture of Hot Dog\"],\n",
    "    \"Sandwich\": [\"Sandwich\", \"Image of Sandwich\", \"Picture of Sandwich\"],\n",
    "    \"Taco\": [\"Taco\", \"Image of Taco\", \"Picture of Taco\"],\n",
    "    \"Taquito\": [\"Taquito\", \"Image of Taquito\", \"Picture of Taquito\"],\n",
    "    \"apple_pie\": [\"apple_pie\", \"Image of apple_pie\", \"Picture of apple_pie\"],\n",
    "    \"burger\": [\"burger\", \"Image of burger\", \"Picture of burger\"],\n",
    "    \"butter_naan\": [\"butter_naan\", \"Image of butter_naan\", \"Picture of butter_naan\"],\n",
    "    \"chai\": [\"chai\", \"Image of chai\", \"Picture of chai\"],\n",
    "    \"chapati\": [\"chapati\", \"Image of chapati\", \"Picture of chapati\"],\n",
    "    \"cheesecake\": [\"cheesecake\", \"Image of cheesecake\", \"Picture of cheesecake\"],\n",
    "    \"chicken_curry\": [\"chicken_curry\", \"Image of chicken_curry\", \"Picture of chicken_curry\"],\n",
    "    \"chole_bhature\": [\"chole_bhature\", \"Image of chole_bhature\", \"Picture of chole_bhature\"],\n",
    "    \"dal_makhani\": [\"dal_makhani\", \"Image of dal_makhani\", \"Picture of dal_makhani\"],\n",
    "    \"dhokla\": [\"dhokla\", \"Image of dhokla\", \"Picture of dhokla\"],\n",
    "    \"fried_rice\": [\"fried_rice\", \"Image of fried_rice\", \"Picture of fried_rice\"],\n",
    "    \"ice_cream\": [\"ice_cream\", \"Image of ice_cream\", \"Picture of ice_cream\"],\n",
    "    \"idli\": [\"idli\", \"Image of idli\", \"Picture of idli\"],\n",
    "    \"jalebi\": [\"jalebi\", \"Image of jalebi\", \"Picture of jalebi\"],\n",
    "    \"kaathi_rolls\": [\"kaathi_rolls\", \"Image of kaathi_rolls\", \"Picture of kaathi_rolls\"],\n",
    "    \"kadai_paneer\": [\"kadai_paneer\", \"Image of kadai_paneer\", \"Picture of kadai_paneer\"],\n",
    "    \"kulfi\": [\"kulfi\", \"Image of kulfi\", \"Picture of kulfi\"],\n",
    "    \"masala_dosa\": [\"masala_dosa\", \"Image of masala_dosa\", \"Picture of masala_dosa\"],\n",
    "    \"momos\": [\"momos\", \"Image of momos\", \"Picture of momos\"],\n",
    "    \"omelette\": [\"omelette\", \"Image of omelette\", \"Picture of omelette\"],\n",
    "    \"paani_puri\": [\"paani_puri\", \"Image of paani_puri\", \"Picture of paani_puri\"],\n",
    "    \"pakode\": [\"pakode\", \"Image of pakode\", \"Picture of pakode\"],\n",
    "    \"pav_bhaji\": [\"pav_bhaji\", \"Image of pav_bhaji\", \"Picture of pav_bhaji\"],\n",
    "    \"pizza\": [\"pizza\", \"Image of pizza\", \"Picture of pizza\"],\n",
    "    \"samosa\": [\"samosa\", \"Image of samosa\", \"Picture of samosa\"],\n",
    "    \"sushi\": [\"sushi\", \"Image of sushi\", \"Picture of sushi\"]\n",
    "}\n",
    "\n",
    "# Baked Potato, Image of Baked Potato, Picture of Baked Potato, Crispy Chicken, Image of Crispy Chicken, Picture of Crispy Chicken, Donut, Image of Donut, Picture of Donut, Fries, Image of Fries, Picture of Fries, Hot Dog, Image of Hot Dog, Picture of Hot Dog, Sandwich, Image of Sandwich, Picture of Sandwich, Taco, Image of Taco, Picture of Taco, Taquito, Image of Taquito, Picture of Taquito, apple_pie, Image of apple_pie, Picture of apple_pie, burger, Image of burger, Picture of burger, butter_naan, Image of butter_naan, Picture of butter_naan, chai, Image of chai, Picture of chai, chapati, Image of chapati, Picture of chapati, cheesecake, Image of cheesecake, Picture of cheesecake, chicken_curry, Image of chicken_curry, Picture of chicken_curry, chole_bhature, Image of chole_bhature, Picture of chole_bhature, dal_makhani, Image of dal_makhani, Picture of dal_makhani, dhokla, Image of dhokla, Picture of dhokla, fried_rice, Image of fried_rice, Picture of fried_rice, ice_cream, Image of ice_cream, Picture of ice_cream, idli, Image of idli, Picture of idli, jalebi, Image of jalebi, Picture of jalebi, kaathi_rolls, Image of kaathi_rolls, Picture of kaathi_rolls, kadai_paneer, Image of kadai_paneer, Picture of kadai_paneer, kulfi, Image of kulfi, Picture of kulfi, masala_dosa, Image of masala_dosa, Picture of masala_dosa, momos, Image of momos, Picture of momos, omelette, Image of omelette, Picture of omelette, paani_puri, Image of paani_puri, Picture of paani_puri, pakode, Image of pakode, Picture of pakode, pav_bhaji, Image of pav_bhaji, Picture of pav_bhaji, pizza, Image of pizza, Picture of pizza, samosa, Image of samosa, Picture of samosa, sushi, Image of sushi, Picture of sushi\n",
    "\n",
    "dict_size(f102)\n",
    "print(aOcheck_accuracy(\"food34/f102.csv\", f102))\n"
   ]
  },
  {
   "cell_type": "code",
   "execution_count": 115,
   "metadata": {},
   "outputs": [
    {
     "name": "stdout",
     "output_type": "stream",
     "text": [
      "136\n",
      "82.29\n",
      "82.29\n"
     ]
    }
   ],
   "source": [
    "f136 = {\n",
    "    \"Baked Potato\": [\"Baked Potato\", \"Image of Baked Potato\", \"Picture of Baked Potato\", \"Baked Potatoes\"],\n",
    "    \"Crispy Chicken\": [\"Crispy Chicken\", \"Image of Crispy Chicken\", \"Picture of Crispy Chicken\", \"Crispy Chickens\"],\n",
    "    \"Donut\": [\"Donut\", \"Image of Donut\", \"Picture of Donut\", \"Donuts\"],\n",
    "    \"Fries\": [\"Fries\", \"Image of Fries\", \"Picture of Fries\", \"Fries\"],\n",
    "    \"Hot Dog\": [\"Hot Dog\", \"Image of Hot Dog\", \"Picture of Hot Dog\", \"Hot Dogs\"],\n",
    "    \"Sandwich\": [\"Sandwich\", \"Image of Sandwich\", \"Picture of Sandwich\", \"Sandwiches\"],\n",
    "    \"Taco\": [\"Taco\", \"Image of Taco\", \"Picture of Taco\", \"Tacos\"],\n",
    "    \"Taquito\": [\"Taquito\", \"Image of Taquito\", \"Picture of Taquito\", \"Taquitos\"],\n",
    "    \"apple_pie\": [\"apple_pie\", \"Image of apple_pie\", \"Picture of apple_pie\", \"apple_pies\"],\n",
    "    \"burger\": [\"burger\", \"Image of burger\", \"Picture of burger\", \"burgers\"],\n",
    "    \"butter_naan\": [\"butter_naan\", \"Image of butter_naan\", \"Picture of butter_naan\", \"butter_naans\"],\n",
    "    \"chai\": [\"chai\", \"Image of chai\", \"Picture of chai\", \"chai\"],\n",
    "    \"chapati\": [\"chapati\", \"Image of chapati\", \"Picture of chapati\", \"chapatis\"],\n",
    "    \"cheesecake\": [\"cheesecake\", \"Image of cheesecake\", \"Picture of cheesecake\", \"cheesecakes\"],\n",
    "    \"chicken_curry\": [\"chicken_curry\", \"Image of chicken_curry\", \"Picture of chicken_curry\", \"chicken_curries\"],\n",
    "    \"chole_bhature\": [\"chole_bhature\", \"Image of chole_bhature\", \"Picture of chole_bhature\", \"chole_bhatures\"],\n",
    "    \"dal_makhani\": [\"dal_makhani\", \"Image of dal_makhani\", \"Picture of dal_makhani\", \"dal_makhanis\"],\n",
    "    \"dhokla\": [\"dhokla\", \"Image of dhokla\", \"Picture of dhokla\", \"dhoklas\"],\n",
    "    \"fried_rice\": [\"fried_rice\", \"Image of fried_rice\", \"Picture of fried_rice\", \"fried_rices\"],\n",
    "    \"ice_cream\": [\"ice_cream\", \"Image of ice_cream\", \"Picture of ice_cream\", \"ice_creams\"],\n",
    "    \"idli\": [\"idli\", \"Image of idli\", \"Picture of idli\", \"idlis\"],\n",
    "    \"jalebi\": [\"jalebi\", \"Image of jalebi\", \"Picture of jalebi\", \"jalebis\"],\n",
    "    \"kaathi_rolls\": [\"kaathi_rolls\", \"Image of kaathi_rolls\", \"Picture of kaathi_rolls\", \"kaathi_rolls\"],\n",
    "    \"kadai_paneer\": [\"kadai_paneer\", \"Image of kadai_paneer\", \"Picture of kadai_paneer\", \"kadai_paneers\"],\n",
    "    \"kulfi\": [\"kulfi\", \"Image of kulfi\", \"Picture of kulfi\", \"kulfis\"],\n",
    "    \"masala_dosa\": [\"masala_dosa\", \"Image of masala_dosa\", \"Picture of masala_dosa\", \"masala_dosas\"],\n",
    "    \"momos\": [\"momos\", \"Image of momos\", \"Picture of momos\", \"momos\"],\n",
    "    \"omelette\": [\"omelette\", \"Image of omelette\", \"Picture of omelette\", \"omelettes\"],\n",
    "    \"paani_puri\": [\"paani_puri\", \"Image of paani_puri\", \"Picture of paani_puri\", \"paani_puris\"],\n",
    "    \"pakode\": [\"pakode\", \"Image of pakode\", \"Picture of pakode\", \"pakodes\"],\n",
    "    \"pav_bhaji\": [\"pav_bhaji\", \"Image of pav_bhaji\", \"Picture of pav_bhaji\", \"pav_bhajis\"],\n",
    "    \"pizza\": [\"pizza\", \"Image of pizza\", \"Picture of pizza\", \"pizzas\"],\n",
    "    \"samosa\": [\"samosa\", \"Image of samosa\", \"Picture of samosa\", \"samosas\"],\n",
    "    \"sushi\": [\"sushi\", \"Image of sushi\", \"Picture of sushi\", \"sushis\"]\n",
    "}\n",
    "\n",
    "# Baked Potato, Image of Baked Potato, Picture of Baked Potato, Baked Potatoes, Crispy Chicken, Image of Crispy Chicken, Picture of Crispy Chicken, Crispy Chickens, Donut, Image of Donut, Picture of Donut, Donuts, Fries, Image of Fries, Picture of Fries, Fries, Hot Dog, Image of Hot Dog, Picture of Hot Dog, Hot Dogs, Sandwich, Image of Sandwich, Picture of Sandwich, Sandwiches, Taco, Image of Taco, Picture of Taco, Tacos, Taquito, Image of Taquito, Picture of Taquito, Taquitos, apple_pie, Image of apple_pie, Picture of apple_pie, apple_pies, burger, Image of burger, Picture of burger, burgers, butter_naan, Image of butter_naan, Picture of butter_naan, butter_naans, chai, Image of chai, Picture of chai, chai, chapati, Image of chapati, Picture of chapati, chapatis, cheesecake, Image of cheesecake, Picture of cheesecake, cheesecakes, chicken_curry, Image of chicken_curry, Picture of chicken_curry, chicken_curries, chole_bhature, Image of chole_bhature, Picture of chole_bhature, chole_bhatures, dal_makhani, Image of dal_makhani, Picture of dal_makhani, dal_makhanis, dhokla, Image of dhokla, Picture of dhokla, dhoklas, fried_rice, Image of fried_rice, Picture of fried_rice, fried_rices, ice_cream, Image of ice_cream, Picture of ice_cream, ice_creams, idli, Image of idli, Picture of idli, idlis, jalebi, Image of jalebi, Picture of jalebi, jalebis, kaathi_rolls, Image of kaathi_rolls, Picture of kaathi_rolls, kaathi_rolls, kadai_paneer, Image of kadai_paneer, Picture of kadai_paneer, kadai_paneers, kulfi, Image of kulfi, Picture of kulfi, kulfis, masala_dosa, Image of masala_dosa, Picture of masala_dosa, masala_dosas, momos, Image of momos, Picture of momos, momos, omelette, Image of omelette, Picture of omelette, omelettes, paani_puri, Image of paani_puri, Picture of paani_puri, paani_puris, pakode, Image of pakode, Picture of pakode, pakodes, pav_bhaji, Image of pav_bhaji, Picture of pav_bhaji, pav_bhajis, pizza, Image of pizza, Picture of pizza, pizzas, samosa, Image of samosa, Picture of samosa, samosas, sushi, Image of sushi, Picture of sushi, sushis\n",
    "\n",
    "dict_size(f136)\n",
    "print(aOcheck_accuracy(\"food34/f136.csv\", f136))\n"
   ]
  },
  {
   "cell_type": "code",
   "execution_count": 116,
   "metadata": {},
   "outputs": [
    {
     "name": "stdout",
     "output_type": "stream",
     "text": [
      "170\n",
      "82.47\n",
      "82.47\n"
     ]
    }
   ],
   "source": [
    "f170 = {\n",
    "    \"Baked Potato\": [\"Baked Potato\", \"Image of Baked Potato\", \"Picture of Baked Potato\", \"Baked Potatoes\", \"Image of Baked Potatoes\"],\n",
    "    \"Crispy Chicken\": [\"Crispy Chicken\", \"Image of Crispy Chicken\", \"Picture of Crispy Chicken\", \"Crispy Chickens\", \"Image of Crispy Chickens\"],\n",
    "    \"Donut\": [\"Donut\", \"Image of Donut\", \"Picture of Donut\", \"Donuts\", \"Image of Donuts\"],\n",
    "    \"Fries\": [\"Fries\", \"Image of Fries\", \"Picture of Fries\", \"Fries\", \"Image of Fries\"],\n",
    "    \"Hot Dog\": [\"Hot Dog\", \"Image of Hot Dog\", \"Picture of Hot Dog\", \"Hot Dogs\", \"Image of Hot Dogs\"],\n",
    "    \"Sandwich\": [\"Sandwich\", \"Image of Sandwich\", \"Picture of Sandwich\", \"Sandwiches\", \"Image of Sandwiches\"],\n",
    "    \"Taco\": [\"Taco\", \"Image of Taco\", \"Picture of Taco\", \"Tacos\", \"Image of Tacos\"],\n",
    "    \"Taquito\": [\"Taquito\", \"Image of Taquito\", \"Picture of Taquito\", \"Taquitos\", \"Image of Taquitos\"],\n",
    "    \"apple_pie\": [\"apple_pie\", \"Image of apple_pie\", \"Picture of apple_pie\", \"apple_pies\", \"Image of apple_pies\"],\n",
    "    \"burger\": [\"burger\", \"Image of burger\", \"Picture of burger\", \"burgers\", \"Image of burgers\"],\n",
    "    \"butter_naan\": [\"butter_naan\", \"Image of butter_naan\", \"Picture of butter_naan\", \"butter_naans\", \"Image of butter_naans\"],\n",
    "    \"chai\": [\"chai\", \"Image of chai\", \"Picture of chai\", \"chai\", \"Image of chai\"],\n",
    "    \"chapati\": [\"chapati\", \"Image of chapati\", \"Picture of chapati\", \"chapatis\", \"Image of chapatis\"],\n",
    "    \"cheesecake\": [\"cheesecake\", \"Image of cheesecake\", \"Picture of cheesecake\", \"cheesecakes\", \"Image of cheesecakes\"],\n",
    "    \"chicken_curry\": [\"chicken_curry\", \"Image of chicken_curry\", \"Picture of chicken_curry\", \"chicken_curries\", \"Image of chicken_curries\"],\n",
    "    \"chole_bhature\": [\"chole_bhature\", \"Image of chole_bhature\", \"Picture of chole_bhature\", \"chole_bhatures\", \"Image of chole_bhatures\"],\n",
    "    \"dal_makhani\": [\"dal_makhani\", \"Image of dal_makhani\", \"Picture of dal_makhani\", \"dal_makhanis\", \"Image of dal_makhanis\"],\n",
    "    \"dhokla\": [\"dhokla\", \"Image of dhokla\", \"Picture of dhokla\", \"dhoklas\", \"Image of dhoklas\"],\n",
    "    \"fried_rice\": [\"fried_rice\", \"Image of fried_rice\", \"Picture of fried_rice\", \"fried_rices\", \"Image of fried_rices\"],\n",
    "    \"ice_cream\": [\"ice_cream\", \"Image of ice_cream\", \"Picture of ice_cream\", \"ice_creams\", \"Image of ice_creams\"],\n",
    "    \"idli\": [\"idli\", \"Image of idli\", \"Picture of idli\", \"idlis\", \"Image of idlis\"],\n",
    "    \"jalebi\": [\"jalebi\", \"Image of jalebi\", \"Picture of jalebi\", \"jalebis\", \"Image of jalebis\"],\n",
    "    \"kaathi_rolls\": [\"kaathi_rolls\", \"Image of kaathi_rolls\", \"Picture of kaathi_rolls\", \"kaathi_rolls\", \"Image of kaathi_rolls\"],\n",
    "    \"kadai_paneer\": [\"kadai_paneer\", \"Image of kadai_paneer\", \"Picture of kadai_paneer\", \"kadai_paneers\", \"Image of kadai_paneers\"],\n",
    "    \"kulfi\": [\"kulfi\", \"Image of kulfi\", \"Picture of kulfi\", \"kulfis\", \"Image of kulfis\"],\n",
    "    \"masala_dosa\": [\"masala_dosa\", \"Image of masala_dosa\", \"Picture of masala_dosa\", \"masala_dosas\", \"Image of masala_dosas\"],\n",
    "    \"momos\": [\"momos\", \"Image of momos\", \"Picture of momos\", \"momos\", \"Image of momos\"],\n",
    "    \"omelette\": [\"omelette\", \"Image of omelette\", \"Picture of omelette\", \"omelettes\", \"Image of omelettes\"],\n",
    "    \"paani_puri\": [\"paani_puri\", \"Image of paani_puri\", \"Picture of paani_puri\", \"paani_puris\", \"Image of paani_puris\"],\n",
    "    \"pakode\": [\"pakode\", \"Image of pakode\", \"Picture of pakode\", \"pakodes\", \"Image of pakodes\"],\n",
    "    \"pav_bhaji\": [\"pav_bhaji\", \"Image of pav_bhaji\", \"Picture of pav_bhaji\", \"pav_bhajis\", \"Image of pav_bhajis\"],\n",
    "    \"pizza\": [\"pizza\", \"Image of pizza\", \"Picture of pizza\", \"pizzas\", \"Image of pizzas\"],\n",
    "    \"samosa\": [\"samosa\", \"Image of samosa\", \"Picture of samosa\", \"samosas\", \"Image of samosas\"],\n",
    "    \"sushi\": [\"sushi\", \"Image of sushi\", \"Picture of sushi\", \"sushis\", \"Image of sushis\"]\n",
    "}\n",
    "\n",
    "# Baked Potato, Image of Baked Potato, Picture of Baked Potato, Baked Potatoes, Image of Baked Potatoes, Crispy Chicken, Image of Crispy Chicken, Picture of Crispy Chicken, Crispy Chickens, Image of Crispy Chickens, Donut, Image of Donut, Picture of Donut, Donuts, Image of Donuts, Fries, Image of Fries, Picture of Fries, Fries, Image of Fries, Hot Dog, Image of Hot Dog, Picture of Hot Dog, Hot Dogs, Image of Hot Dogs, Sandwich, Image of Sandwich, Picture of Sandwich, Sandwiches, Image of Sandwiches, Taco, Image of Taco, Picture of Taco, Tacos, Image of Tacos, Taquito, Image of Taquito, Picture of Taquito, Taquitos, Image of Taquitos, apple_pie, Image of apple_pie, Picture of apple_pie, apple_pies, Image of apple_pies, burger, Image of burger, Picture of burger, burgers, Image of burgers, butter_naan, Image of butter_naan, Picture of butter_naan, butter_naans, Image of butter_naans, chai, Image of chai, Picture of chai, chai, Image of chai, chapati, Image of chapati, Picture of chapati, chapatis, Image of chapatis, cheesecake, Image of cheesecake, Picture of cheesecake, cheesecakes, Image of cheesecakes, chicken_curry, Image of chicken_curry, Picture of chicken_curry, chicken_curries, Image of chicken_curries, chole_bhature, Image of chole_bhature, Picture of chole_bhature, chole_bhatures, Image of chole_bhatures, dal_makhani, Image of dal_makhani, Picture of dal_makhani, dal_makhanis, Image of dal_makhanis, dhokla, Image of dhokla, Picture of dhokla, dhoklas, Image of dhoklas, fried_rice, Image of fried_rice, Picture of fried_rice, fried_rices, Image of fried_rices, ice_cream, Image of ice_cream, Picture of ice_cream, ice_creams, Image of ice_creams, idli, Image of idli, Picture of idli, idlis, Image of idlis, jalebi, Image of jalebi, Picture of jalebi, jalebis, Image of jalebis, kaathi_rolls, Image of kaathi_rolls, Picture of kaathi_rolls, kaathi_rolls, Image of kaathi_rolls, kadai_paneer, Image of kadai_paneer, Picture of kadai_paneer, kadai_paneers, Image of kadai_paneers, kulfi, Image of kulfi, Picture of kulfi, kulfis, Image of kulfis, masala_dosa, Image of masala_dosa, Picture of masala_dosa, masala_dosas, Image of masala_dosas, momos, Image of momos, Picture of momos, momos, Image of momos, omelette, Image of omelette, Picture of omelette, omelettes, Image of omelettes, paani_puri, Image of paani_puri, Picture of paani_puri, paani_puris, Image of paani_puris, pakode, Image of pakode, Picture of pakode, pakodes, Image of pakodes, pav_bhaji, Image of pav_bhaji, Picture of pav_bhaji, pav_bhajis, Image of pav_bhajis, pizza, Image of pizza, Picture of pizza, pizzas, Image of pizzas, samosa, Image of samosa, Picture of samosa, samosas, Image of samosas, sushi, Image of sushi, Picture of sushi, sushis, Image of sushis\n",
    "dict_size(f170)\n",
    "print(aOcheck_accuracy(\"food34/f170.csv\", f170))\n"
   ]
  },
  {
   "cell_type": "code",
   "execution_count": 117,
   "metadata": {},
   "outputs": [
    {
     "name": "stdout",
     "output_type": "stream",
     "text": [
      "204\n",
      "82.06\n",
      "82.06\n"
     ]
    }
   ],
   "source": [
    "f204 = {\n",
    "    \"Baked Potato\": [\"Baked Potato\", \"Image of Baked Potato\", \"Picture of Baked Potato\", \"Baked Potatoes\", \"Image of Baked Potatoes\", \"Picture of Baked Potatoes\"],\n",
    "    \"Crispy Chicken\": [\"Crispy Chicken\", \"Image of Crispy Chicken\", \"Picture of Crispy Chicken\", \"Crispy Chickens\", \"Image of Crispy Chickens\", \"Picture of Crispy Chickens\"],\n",
    "    \"Donut\": [\"Donut\", \"Image of Donut\", \"Picture of Donut\", \"Donuts\", \"Image of Donuts\", \"Picture of Donuts\"],\n",
    "    \"Fries\": [\"Fries\", \"Image of Fries\", \"Picture of Fries\", \"Fries\", \"Image of Fries\", \"Picture of Fries\"],\n",
    "    \"Hot Dog\": [\"Hot Dog\", \"Image of Hot Dog\", \"Picture of Hot Dog\", \"Hot Dogs\", \"Image of Hot Dogs\", \"Picture of Hot Dogs\"],\n",
    "    \"Sandwich\": [\"Sandwich\", \"Image of Sandwich\", \"Picture of Sandwich\", \"Sandwiches\", \"Image of Sandwiches\", \"Picture of Sandwiches\"],\n",
    "    \"Taco\": [\"Taco\", \"Image of Taco\", \"Picture of Taco\", \"Tacos\", \"Image of Tacos\", \"Picture of Tacos\"],\n",
    "    \"Taquito\": [\"Taquito\", \"Image of Taquito\", \"Picture of Taquito\", \"Taquitos\", \"Image of Taquitos\", \"Picture of Taquitos\"],\n",
    "    \"apple_pie\": [\"apple_pie\", \"Image of apple_pie\", \"Picture of apple_pie\", \"apple_pies\", \"Image of apple_pies\", \"Picture of apple_pies\"],\n",
    "    \"burger\": [\"burger\", \"Image of burger\", \"Picture of burger\", \"burgers\", \"Image of burgers\", \"Picture of burgers\"],\n",
    "    \"butter_naan\": [\"butter_naan\", \"Image of butter_naan\", \"Picture of butter_naan\", \"butter_naans\", \"Image of butter_naans\", \"Picture of butter_naans\"],\n",
    "    \"chai\": [\"chai\", \"Image of chai\", \"Picture of chai\", \"chai\", \"Image of chai\", \"Picture of chai\"],\n",
    "    \"chapati\": [\"chapati\", \"Image of chapati\", \"Picture of chapati\", \"chapatis\", \"Image of chapatis\", \"Picture of chapatis\"],\n",
    "    \"cheesecake\": [\"cheesecake\", \"Image of cheesecake\", \"Picture of cheesecake\", \"cheesecakes\", \"Image of cheesecakes\", \"Picture of cheesecakes\"],\n",
    "    \"chicken_curry\": [\"chicken_curry\", \"Image of chicken_curry\", \"Picture of chicken_curry\", \"chicken_curries\", \"Image of chicken_curries\", \"Picture of chicken_curries\"],\n",
    "    \"chole_bhature\": [\"chole_bhature\", \"Image of chole_bhature\", \"Picture of chole_bhature\", \"chole_bhatures\", \"Image of chole_bhatures\", \"Picture of chole_bhatures\"],\n",
    "    \"dal_makhani\": [\"dal_makhani\", \"Image of dal_makhani\", \"Picture of dal_makhani\", \"dal_makhanis\", \"Image of dal_makhanis\", \"Picture of dal_makhanis\"],\n",
    "    \"dhokla\": [\"dhokla\", \"Image of dhokla\", \"Picture of dhokla\", \"dhoklas\", \"Image of dhoklas\", \"Picture of dhoklas\"],\n",
    "    \"fried_rice\": [\"fried_rice\", \"Image of fried_rice\", \"Picture of fried_rice\", \"fried_rices\", \"Image of fried_rices\", \"Picture of fried_rices\"],\n",
    "    \"ice_cream\": [\"ice_cream\", \"Image of ice_cream\", \"Picture of ice_cream\", \"ice_creams\", \"Image of ice_creams\", \"Picture of ice_creams\"],\n",
    "    \"idli\": [\"idli\", \"Image of idli\", \"Picture of idli\", \"idlis\", \"Image of idlis\", \"Picture of idlis\"],\n",
    "    \"jalebi\": [\"jalebi\", \"Image of jalebi\", \"Picture of jalebi\", \"jalebis\", \"Image of jalebis\", \"Picture of jalebis\"],\n",
    "    \"kaathi_rolls\": [\"kaathi_rolls\", \"Image of kaathi_rolls\", \"Picture of kaathi_rolls\", \"kaathi_rolls\", \"Image of kaathi_rolls\", \"Picture of kaathi_rolls\"],\n",
    "    \"kadai_paneer\": [\"kadai_paneer\", \"Image of kadai_paneer\", \"Picture of kadai_paneer\", \"kadai_paneers\", \"Image of kadai_paneers\", \"Picture of kadai_paneers\"],\n",
    "    \"kulfi\": [\"kulfi\", \"Image of kulfi\", \"Picture of kulfi\", \"kulfis\", \"Image of kulfis\", \"Picture of kulfis\"],\n",
    "    \"masala_dosa\": [\"masala_dosa\", \"Image of masala_dosa\", \"Picture of masala_dosa\", \"masala_dosas\", \"Image of masala_dosas\", \"Picture of masala_dosas\"],\n",
    "    \"momos\": [\"momos\", \"Image of momos\", \"Picture of momos\", \"momos\", \"Image of momos\", \"Picture of momos\"],\n",
    "    \"omelette\": [\"omelette\", \"Image of omelette\", \"Picture of omelette\", \"omelettes\", \"Image of omelettes\", \"Picture of omelettes\"],\n",
    "    \"paani_puri\": [\"paani_puri\", \"Image of paani_puri\", \"Picture of paani_puri\", \"paani_puris\", \"Image of paani_puris\", \"Picture of paani_puris\"],\n",
    "    \"pakode\": [\"pakode\", \"Image of pakode\", \"Picture of pakode\", \"pakodes\", \"Image of pakodes\", \"Picture of pakodes\"],\n",
    "    \"pav_bhaji\": [\"pav_bhaji\", \"Image of pav_bhaji\", \"Picture of pav_bhaji\", \"pav_bhajis\", \"Image of pav_bhajis\", \"Picture of pav_bhajis\"],\n",
    "    \"pizza\": [\"pizza\", \"Image of pizza\", \"Picture of pizza\", \"pizzas\", \"Image of pizzas\", \"Picture of pizzas\"],\n",
    "    \"samosa\": [\"samosa\", \"Image of samosa\", \"Picture of samosa\", \"samosas\", \"Image of samosas\", \"Picture of samosas\"],\n",
    "    \"sushi\": [\"sushi\", \"Image of sushi\", \"Picture of sushi\", \"sushis\", \"Image of sushis\", \"Picture of sushis\"]\n",
    "}\n",
    "\n",
    "# Baked Potato, Image of Baked Potato, Picture of Baked Potato, Baked Potatoes, Image of Baked Potatoes, Picture of Baked Potatoes, Crispy Chicken, Image of Crispy Chicken, Picture of Crispy Chicken, Crispy Chickens, Image of Crispy Chickens, Picture of Crispy Chickens, Donut, Image of Donut, Picture of Donut, Donuts, Image of Donuts, Picture of Donuts, Fries, Image of Fries, Picture of Fries, Fries, Image of Fries, Picture of Fries, Hot Dog, Image of Hot Dog, Picture of Hot Dog, Hot Dogs, Image of Hot Dogs, Picture of Hot Dogs, Sandwich, Image of Sandwich, Picture of Sandwich, Sandwiches, Image of Sandwiches, Picture of Sandwiches, Taco, Image of Taco, Picture of Taco, Tacos, Image of Tacos, Picture of Tacos, Taquito, Image of Taquito, Picture of Taquito, Taquitos, Image of Taquitos, Picture of Taquitos, apple_pie, Image of apple_pie, Picture of apple_pie, apple_pies, Image of apple_pies, Picture of apple_pies, burger, Image of burger, Picture of burger, burgers, Image of burgers, Picture of burgers, butter_naan, Image of butter_naan, Picture of butter_naan, butter_naans, Image of butter_naans, Picture of butter_naans, chai, Image of chai, Picture of chai, chai, Image of chai, Picture of chai, chapati, Image of chapati, Picture of chapati, chapatis, Image of chapatis, Picture of chapatis, cheesecake, Image of cheesecake, Picture of cheesecake, cheesecakes, Image of cheesecakes, Picture of cheesecakes, chicken_curry, Image of chicken_curry, Picture of chicken_curry, chicken_curries, Image of chicken_curries, Picture of chicken_curries, chole_bhature, Image of chole_bhature, Picture of chole_bhature, chole_bhatures, Image of chole_bhatures, Picture of chole_bhatures, dal_makhani, Image of dal_makhani, Picture of dal_makhani, dal_makhanis, Image of dal_makhanis, Picture of dal_makhanis, dhokla, Image of dhokla, Picture of dhokla, dhoklas, Image of dhoklas, Picture of dhoklas, fried_rice, Image of fried_rice, Picture of fried_rice, fried_rices, Image of fried_rices, Picture of fried_rices, ice_cream, Image of ice_cream, Picture of ice_cream, ice_creams, Image of ice_creams, Picture of ice_creams, idli, Image of idli, Picture of idli, idlis, Image of idlis, Picture of idlis, jalebi, Image of jalebi, Picture of jalebi, jalebis, Image of jalebis, Picture of jalebis, kaathi_rolls, Image of kaathi_rolls, Picture of kaathi_rolls, kaathi_rolls, Image of kaathi_rolls, Picture of kaathi_rolls, kadai_paneer, Image of kadai_paneer, Picture of kadai_paneer, kadai_paneers, Image of kadai_paneers, Picture of kadai_paneers, kulfi, Image of kulfi, Picture of kulfi, kulfis, Image of kulfis, Picture of kulfis, masala_dosa, Image of masala_dosa, Picture of masala_dosa, masala_dosas, Image of masala_dosas, Picture of masala_dosas, momos, Image of momos, Picture of momos, momos, Image of momos, Picture of momos, omelette, Image of omelette, Picture of omelette, omelettes, Image of omelettes, Picture of omelettes, paani_puri, Image of paani_puri, Picture of paani_puri, paani_puris, Image of paani_puris, Picture of paani_puris, pakode, Image of pakode, Picture of pakode, pakodes, Image of pakodes, Picture of pakodes, pav_bhaji, Image of pav_bhaji, Picture of pav_bhaji, pav_bhajis, Image of pav_bhajis, Picture of pav_bhajis, pizza, Image of pizza, Picture of pizza, pizzas, Image of pizzas, Picture of pizzas, samosa, Image of samosa, Picture of samosa, samosas, Image of samosas, Picture of samosas, sushi, Image of sushi, Picture of sushi, sushis, Image of sushis, Picture of sushis\n",
    "\n",
    "dict_size(f204)\n",
    "print(aOcheck_accuracy(\"food34/f204.csv\", f204))"
   ]
  },
  {
   "cell_type": "markdown",
   "metadata": {},
   "source": [
    "## Weather11"
   ]
  },
  {
   "cell_type": "code",
   "execution_count": 118,
   "metadata": {},
   "outputs": [
    {
     "name": "stdout",
     "output_type": "stream",
     "text": [
      "11\n",
      "66.71\n",
      "66.71\n"
     ]
    }
   ],
   "source": [
    "w11 = {\n",
    "    \"dew\" : [\"dew\"],\n",
    "    \"fogsmog\" : [\"fogsmog\"],\n",
    "    \"frost\": [\"frost\"],\n",
    "    \"glaze\" : [\"glaze\"],\n",
    "    \"hail\" : [\"hail\"],\n",
    "    \"lightning\" : [\"lightning\"],\n",
    "    \"rain\": [\"rain\"],\n",
    "    \"rainbow\" : [\"rainbow\"],\n",
    "    \"rime\": [\"rime\"],\n",
    "    \"sandstorm\" : [\"sandstorm\"],\n",
    "    \"snow\": [\"snow\"]\n",
    "}\n",
    "\n",
    "# dew, fogsmog, frost, glaze, hail, lightning, rain, rainbow, rime, sandstorm, snow\n",
    "\n",
    "dict_size(w11)\n",
    "print(aOcheck_accuracy(\"weather11/w11.csv\", w11))"
   ]
  },
  {
   "cell_type": "code",
   "execution_count": 119,
   "metadata": {},
   "outputs": [
    {
     "name": "stdout",
     "output_type": "stream",
     "text": [
      "22\n",
      "74.14\n",
      "74.14\n"
     ]
    }
   ],
   "source": [
    "w22 = {\n",
    "    \"dew\": [\"dew\", \"Image of dew\"],\n",
    "    \"fogsmog\": [\"fogsmog\", \"Image of fogsmog\"],\n",
    "    \"frost\": [\"frost\", \"Image of frost\"],\n",
    "    \"glaze\": [\"glaze\", \"Image of glaze\"],\n",
    "    \"hail\": [\"hail\", \"Image of hail\"],\n",
    "    \"lightning\": [\"lightning\", \"Image of lightning\"],\n",
    "    \"rain\": [\"rain\", \"Image of rain\"],\n",
    "    \"rainbow\": [\"rainbow\", \"Image of rainbow\"],\n",
    "    \"rime\": [\"rime\", \"Image of rime\"],\n",
    "    \"sandstorm\": [\"sandstorm\", \"Image of sandstorm\"],\n",
    "    \"snow\": [\"snow\", \"Image of snow\"]\n",
    "}\n",
    "\n",
    "# dew, Image of dew, fogsmog, Image of fogsmog, frost, Image of frost, glaze, Image of glaze, hail, Image of hail, lightning, Image of lightning, rain, Image of rain, rainbow, Image of rainbow, rime, Image of rime, sandstorm, Image of sandstorm, snow, Image of snow\n",
    "\n",
    "dict_size(w22)\n",
    "print(aOcheck_accuracy(\"weather11/w22.csv\", w22))"
   ]
  },
  {
   "cell_type": "code",
   "execution_count": 120,
   "metadata": {},
   "outputs": [
    {
     "name": "stdout",
     "output_type": "stream",
     "text": [
      "33\n",
      "74.11\n",
      "74.11\n"
     ]
    }
   ],
   "source": [
    "w33 = {\n",
    "    \"dew\": [\"dew\", \"Image of dew\", \"Picture of dew\"],\n",
    "    \"fogsmog\": [\"fogsmog\", \"Image of fogsmog\", \"Picture of fogsmog\"],\n",
    "    \"frost\": [\"frost\", \"Image of frost\", \"Picture of frost\"],\n",
    "    \"glaze\": [\"glaze\", \"Image of glaze\", \"Picture of glaze\"],\n",
    "    \"hail\": [\"hail\", \"Image of hail\", \"Picture of hail\"],\n",
    "    \"lightning\": [\"lightning\", \"Image of lightning\", \"Picture of lightning\"],\n",
    "    \"rain\": [\"rain\", \"Image of rain\", \"Picture of rain\"],\n",
    "    \"rainbow\": [\"rainbow\", \"Image of rainbow\", \"Picture of rainbow\"],\n",
    "    \"rime\": [\"rime\", \"Image of rime\", \"Picture of rime\"],\n",
    "    \"sandstorm\": [\"sandstorm\", \"Image of sandstorm\", \"Picture of sandstorm\"],\n",
    "    \"snow\": [\"snow\", \"Image of snow\", \"Picture of snow\"]\n",
    "}\n",
    "\n",
    "# dew, Image of dew, Picture of dew, fogsmog, Image of fogsmog, Picture of fogsmog, frost, Image of frost, Picture of frost, glaze, Image of glaze, Picture of glaze, hail, Image of hail, Picture of hail, lightning, Image of lightning, Picture of lightning, rain, Image of rain, Picture of rain, rainbow, Image of rainbow, Picture of rainbow, rime, Image of rime, Picture of rime, sandstorm, Image of sandstorm, Picture of sandstorm, snow, Image of snow, Picture of snow\n",
    "\n",
    "dict_size(w33)\n",
    "print(aOcheck_accuracy(\"weather11/w33.csv\", w33))"
   ]
  },
  {
   "cell_type": "code",
   "execution_count": 121,
   "metadata": {},
   "outputs": [
    {
     "name": "stdout",
     "output_type": "stream",
     "text": [
      "44\n",
      "74.11\n",
      "74.11\n"
     ]
    }
   ],
   "source": [
    "w44 = {\n",
    "    \"dew\": [\"dew\", \"Image of dew\", \"Picture of dew\", \"Weather dew\"],\n",
    "    \"fogsmog\": [\"fogsmog\", \"Image of fogsmog\", \"Picture of fogsmog\", \"Weather fogsmog\"],\n",
    "    \"frost\": [\"frost\", \"Image of frost\", \"Picture of frost\", \"Weather frost\"],\n",
    "    \"glaze\": [\"glaze\", \"Image of glaze\", \"Picture of glaze\", \"Weather glaze\"],\n",
    "    \"hail\": [\"hail\", \"Image of hail\", \"Picture of hail\", \"Weather hail\"],\n",
    "    \"lightning\": [\"lightning\", \"Image of lightning\", \"Picture of lightning\", \"Weather lightning\"],\n",
    "    \"rain\": [\"rain\", \"Image of rain\", \"Picture of rain\", \"Weather rain\"],\n",
    "    \"rainbow\": [\"rainbow\", \"Image of rainbow\", \"Picture of rainbow\", \"Weather rainbow\"],\n",
    "    \"rime\": [\"rime\", \"Image of rime\", \"Picture of rime\", \"Weather rime\"],\n",
    "    \"sandstorm\": [\"sandstorm\", \"Image of sandstorm\", \"Picture of sandstorm\", \"Weather sandstorm\"],\n",
    "    \"snow\": [\"snow\", \"Image of snow\", \"Picture of snow\", \"Weather snow\"]\n",
    "}\n",
    "\n",
    "# dew, Image of dew, Picture of dew, Weather dew, fogsmog, Image of fogsmog, Picture of fogsmog, Weather fogsmog, frost, Image of frost, Picture of frost, Weather frost, glaze, Image of glaze, Picture of glaze, Weather glaze, hail, Image of hail, Picture of hail, Weather hail, lightning, Image of lightning, Picture of lightning, Weather lightning, rain, Image of rain, Picture of rain, Weather rain, rainbow, Image of rainbow, Picture of rainbow, Weather rainbow, rime, Image of rime, Picture of rime, Weather rime, sandstorm, Image of sandstorm, Picture of sandstorm, Weather sandstorm, snow, Image of snow, Picture of snow, Weather snow\n",
    "\n",
    "dict_size(w44)\n",
    "print(aOcheck_accuracy(\"weather11/w44.csv\", w44))\n"
   ]
  },
  {
   "cell_type": "code",
   "execution_count": 122,
   "metadata": {},
   "outputs": [
    {
     "name": "stdout",
     "output_type": "stream",
     "text": [
      "55\n",
      "74.21\n",
      "74.21\n"
     ]
    }
   ],
   "source": [
    "w55 = {\n",
    "    \"dew\": [\"dew\", \"Image of dew\", \"Picture of dew\", \"Weather dew\", \"Cool dew\"],\n",
    "    \"fogsmog\": [\"fogsmog\", \"Image of fogsmog\", \"Picture of fogsmog\", \"Weather fogsmog\", \"Cool fogsmog\"],\n",
    "    \"frost\": [\"frost\", \"Image of frost\", \"Picture of frost\", \"Weather frost\", \"Cool frost\"],\n",
    "    \"glaze\": [\"glaze\", \"Image of glaze\", \"Picture of glaze\", \"Weather glaze\", \"Cool glaze\"],\n",
    "    \"hail\": [\"hail\", \"Image of hail\", \"Picture of hail\", \"Weather hail\", \"Cool hail\"],\n",
    "    \"lightning\": [\"lightning\", \"Image of lightning\", \"Picture of lightning\", \"Weather lightning\", \"Cool lightning\"],\n",
    "    \"rain\": [\"rain\", \"Image of rain\", \"Picture of rain\", \"Weather rain\", \"Cool rain\"],\n",
    "    \"rainbow\": [\"rainbow\", \"Image of rainbow\", \"Picture of rainbow\", \"Weather rainbow\", \"Cool rainbow\"],\n",
    "    \"rime\": [\"rime\", \"Image of rime\", \"Picture of rime\", \"Weather rime\", \"Cool rime\"],\n",
    "    \"sandstorm\": [\"sandstorm\", \"Image of sandstorm\", \"Picture of sandstorm\", \"Weather sandstorm\", \"Cool sandstorm\"],\n",
    "    \"snow\": [\"snow\", \"Image of snow\", \"Picture of snow\", \"Weather snow\", \"Cool snow\"]\n",
    "}\n",
    "\n",
    "# dew, Image of dew, Picture of dew, Weather dew, Cool dew, fogsmog, Image of fogsmog, Picture of fogsmog, Weather fogsmog, Cool fogsmog, frost, Image of frost, Picture of frost, Weather frost, Cool frost, glaze, Image of glaze, Picture of glaze, Weather glaze, Cool glaze, hail, Image of hail, Picture of hail, Weather hail, Cool hail, lightning, Image of lightning, Picture of lightning, Weather lightning, Cool lightning, rain, Image of rain, Picture of rain, Weather rain, Cool rain, rainbow, Image of rainbow, Picture of rainbow, Weather rainbow, Cool rainbow, rime, Image of rime, Picture of rime, Weather rime, Cool rime, sandstorm, Image of sandstorm, Picture of sandstorm, Weather sandstorm, Cool sandstorm, snow, Image of snow, Picture of snow, Weather snow, Cool snow\n",
    "\n",
    "dict_size(w55)\n",
    "print(aOcheck_accuracy(\"weather11/w55.csv\", w55))"
   ]
  },
  {
   "cell_type": "code",
   "execution_count": 123,
   "metadata": {},
   "outputs": [
    {
     "name": "stdout",
     "output_type": "stream",
     "text": [
      "66\n",
      "74.21\n",
      "74.21\n"
     ]
    }
   ],
   "source": [
    "w66 = {\n",
    "    \"dew\": [\"dew\", \"Image of dew\", \"Picture of dew\", \"Weather dew\", \"Cool dew\", \"Detailed dew\"],\n",
    "    \"fogsmog\": [\"fogsmog\", \"Image of fogsmog\", \"Picture of fogsmog\", \"Weather fogsmog\", \"Cool fogsmog\", \"Detailed fogsmog\"],\n",
    "    \"frost\": [\"frost\", \"Image of frost\", \"Picture of frost\", \"Weather frost\", \"Cool frost\", \"Detailed frost\"],\n",
    "    \"glaze\": [\"glaze\", \"Image of glaze\", \"Picture of glaze\", \"Weather glaze\", \"Cool glaze\", \"Detailed glaze\"],\n",
    "    \"hail\": [\"hail\", \"Image of hail\", \"Picture of hail\", \"Weather hail\", \"Cool hail\", \"Detailed hail\"],\n",
    "    \"lightning\": [\"lightning\", \"Image of lightning\", \"Picture of lightning\", \"Weather lightning\", \"Cool lightning\", \"Detailed lightning\"],\n",
    "    \"rain\": [\"rain\", \"Image of rain\", \"Picture of rain\", \"Weather rain\", \"Cool rain\", \"Detailed rain\"],\n",
    "    \"rainbow\": [\"rainbow\", \"Image of rainbow\", \"Picture of rainbow\", \"Weather rainbow\", \"Cool rainbow\", \"Detailed rainbow\"],\n",
    "    \"rime\": [\"rime\", \"Image of rime\", \"Picture of rime\", \"Weather rime\", \"Cool rime\", \"Detailed rime\"],\n",
    "    \"sandstorm\": [\"sandstorm\", \"Image of sandstorm\", \"Picture of sandstorm\", \"Weather sandstorm\", \"Cool sandstorm\", \"Detailed sandstorm\"],\n",
    "    \"snow\": [\"snow\", \"Image of snow\", \"Picture of snow\", \"Weather snow\", \"Cool snow\", \"Detailed snow\"]\n",
    "}\n",
    "\n",
    "# dew, Image of dew, Picture of dew, Weather dew, Cool dew, Detailed dew, fogsmog, Image of fogsmog, Picture of fogsmog, Weather fogsmog, Cool fogsmog, Detailed fogsmog, frost, Image of frost, Picture of frost, Weather frost, Cool frost, Detailed frost, glaze, Image of glaze, Picture of glaze, Weather glaze, Cool glaze, Detailed glaze, hail, Image of hail, Picture of hail, Weather hail, Cool hail, Detailed hail, lightning, Image of lightning, Picture of lightning, Weather lightning, Cool lightning, Detailed lightning, rain, Image of rain, Picture of rain, Weather rain, Cool rain, Detailed rain, rainbow, Image of rainbow, Picture of rainbow, Weather rainbow, Cool rainbow, Detailed rainbow, rime, Image of rime, Picture of rime, Weather rime, Cool rime, Detailed rime, sandstorm, Image of sandstorm, Picture of sandstorm, Weather sandstorm, Cool sandstorm, Detailed sandstorm, snow, Image of snow, Picture of snow, Weather snow, Cool snow, Detailed snow\n",
    "\n",
    "dict_size(w66)\n",
    "print(aOcheck_accuracy(\"weather11/w66.csv\", w66))"
   ]
  },
  {
   "cell_type": "code",
   "execution_count": 124,
   "metadata": {},
   "outputs": [
    {
     "name": "stdout",
     "output_type": "stream",
     "text": [
      "77\n",
      "74.17\n",
      "74.17\n"
     ]
    }
   ],
   "source": [
    "w77 = {\n",
    "    \"dew\": [\"dew\", \"Image of dew\", \"Picture of dew\", \"Weather dew\", \"Cool dew\", \"Detailed dew\", \"Pretty dew\"],\n",
    "    \"fogsmog\": [\"fogsmog\", \"Image of fogsmog\", \"Picture of fogsmog\", \"Weather fogsmog\", \"Cool fogsmog\", \"Detailed fogsmog\", \"Pretty fogsmog\"],\n",
    "    \"frost\": [\"frost\", \"Image of frost\", \"Picture of frost\", \"Weather frost\", \"Cool frost\", \"Detailed frost\", \"Pretty frost\"],\n",
    "    \"glaze\": [\"glaze\", \"Image of glaze\", \"Picture of glaze\", \"Weather glaze\", \"Cool glaze\", \"Detailed glaze\", \"Pretty glaze\"],\n",
    "    \"hail\": [\"hail\", \"Image of hail\", \"Picture of hail\", \"Weather hail\", \"Cool hail\", \"Detailed hail\", \"Pretty hail\"],\n",
    "    \"lightning\": [\"lightning\", \"Image of lightning\", \"Picture of lightning\", \"Weather lightning\", \"Cool lightning\", \"Detailed lightning\", \"Pretty lightning\"],\n",
    "    \"rain\": [\"rain\", \"Image of rain\", \"Picture of rain\", \"Weather rain\", \"Cool rain\", \"Detailed rain\", \"Pretty rain\"],\n",
    "    \"rainbow\": [\"rainbow\", \"Image of rainbow\", \"Picture of rainbow\", \"Weather rainbow\", \"Cool rainbow\", \"Detailed rainbow\", \"Pretty rainbow\"],\n",
    "    \"rime\": [\"rime\", \"Image of rime\", \"Picture of rime\", \"Weather rime\", \"Cool rime\", \"Detailed rime\", \"Pretty rime\"],\n",
    "    \"sandstorm\": [\"sandstorm\", \"Image of sandstorm\", \"Picture of sandstorm\", \"Weather sandstorm\", \"Cool sandstorm\", \"Detailed sandstorm\", \"Pretty sandstorm\"],\n",
    "    \"snow\": [\"snow\", \"Image of snow\", \"Picture of snow\", \"Weather snow\", \"Cool snow\", \"Detailed snow\", \"Pretty snow\"]\n",
    "}\n",
    "\n",
    "# dew, Image of dew, Picture of dew, Weather dew, Cool dew, Detailed dew, Pretty dew, fogsmog, Image of fogsmog, Picture of fogsmog, Weather fogsmog, Cool fogsmog, Detailed fogsmog, Pretty fogsmog, frost, Image of frost, Picture of frost, Weather frost, Cool frost, Detailed frost, Pretty frost, glaze, Image of glaze, Picture of glaze, Weather glaze, Cool glaze, Detailed glaze, Pretty glaze, hail, Image of hail, Picture of hail, Weather hail, Cool hail, Detailed hail, Pretty hail, lightning, Image of lightning, Picture of lightning, Weather lightning, Cool lightning, Detailed lightning, Pretty lightning, rain, Image of rain, Picture of rain, Weather rain, Cool rain, Detailed rain, Pretty rain, rainbow, Image of rainbow, Picture of rainbow, Weather rainbow, Cool rainbow, Detailed rainbow, Pretty rainbow, rime, Image of rime, Picture of rime, Weather rime, Cool rime, Detailed rime, Pretty rime, sandstorm, Image of sandstorm, Picture of sandstorm, Weather sandstorm, Cool sandstorm, Detailed sandstorm, Pretty sandstorm, snow, Image of snow, Picture of snow, Weather snow, Cool snow, Detailed snow, Pretty snow\n",
    "\n",
    "dict_size(w77)\n",
    "print(aOcheck_accuracy(\"weather11/w77.csv\", w77))"
   ]
  },
  {
   "cell_type": "markdown",
   "metadata": {},
   "source": [
    "## Sports 15"
   ]
  },
  {
   "cell_type": "code",
   "execution_count": 125,
   "metadata": {},
   "outputs": [
    {
     "name": "stdout",
     "output_type": "stream",
     "text": [
      "15\n",
      "2.19\n",
      "2.19\n"
     ]
    }
   ],
   "source": [
    "s15 = {\"american_football\" : [\"american_football\"],\n",
    "       \"baseball\" : [\"baseball\"],\n",
    "       \"basketball\" : [\"basketball\"],\n",
    "       \"billiard_ball\" : [\"billiard_ball\"],\n",
    "       \"bowling_ball\" : [\"bowling_ball\"],\n",
    "       \"cricket_ball\" : [\"cricket_ball\"],\n",
    "       \"football\" : [\"football\"],\n",
    "       \"golf_ball\" : [\"golf_ball\"],\n",
    "       \"hockey_ball\" : [\"hockey_ball\"],\n",
    "       \"hockey_puck\" : [\"hockey_puck\"],\n",
    "       \"rugby_ball\" : [\"rugby_ball\"],\n",
    "       \"shuttlecock\" : [\"shuttlecock\"],\n",
    "       \"table_tennis_ball\" : [\"table_tennis_ball\"],\n",
    "       \"tennis_ball\" : [\"tennis_ball\"],\n",
    "       \"volleyball\" : [\"volleyball\"]}\n",
    "\n",
    "# american_football, baseball, basketball, billiard_ball, bowling_ball, cricket_ball, football, golf_ball, hockey_ball, hockey_puck, rugby_ball, shuttlecock, table_tennis_ball, tennis_ball, volleyball\n",
    "\n",
    "dict_size(s15)\n",
    "print(aOcheck_accuracy(\"sports15/s15.csv\", s15))"
   ]
  },
  {
   "cell_type": "code",
   "execution_count": 126,
   "metadata": {},
   "outputs": [
    {
     "name": "stdout",
     "output_type": "stream",
     "text": [
      "30\n",
      "70.85\n",
      "70.85\n"
     ]
    }
   ],
   "source": [
    "s30 = {\n",
    "    \"american_football\": [\"american_football\", \"Image of american_football\"],\n",
    "    \"baseball\": [\"baseball\", \"Image of baseball\"],\n",
    "    \"basketball\": [\"basketball\", \"Image of basketball\"],\n",
    "    \"billiard_ball\": [\"billiard_ball\", \"Image of billiard_ball\"],\n",
    "    \"bowling_ball\": [\"bowling_ball\", \"Image of bowling_ball\"],\n",
    "    \"cricket_ball\": [\"cricket_ball\", \"Image of cricket_ball\"],\n",
    "    \"football\": [\"football\", \"Image of football\"],\n",
    "    \"golf_ball\": [\"golf_ball\", \"Image of golf_ball\"],\n",
    "    \"hockey_ball\": [\"hockey_ball\", \"Image of hockey_ball\"],\n",
    "    \"hockey_puck\": [\"hockey_puck\", \"Image of hockey_puck\"],\n",
    "    \"rugby_ball\": [\"rugby_ball\", \"Image of rugby_ball\"],\n",
    "    \"shuttlecock\": [\"shuttlecock\", \"Image of shuttlecock\"],\n",
    "    \"table_tennis_ball\": [\"table_tennis_ball\", \"Image of table_tennis_ball\"],\n",
    "    \"tennis_ball\": [\"tennis_ball\", \"Image of tennis_ball\"],\n",
    "    \"volleyball\": [\"volleyball\", \"Image of volleyball\"]\n",
    "}\n",
    "\n",
    "# american_football, Image of american_football, baseball, Image of baseball, basketball, Image of basketball, billiard_ball, Image of billiard_ball, bowling_ball, Image of bowling_ball, cricket_ball, Image of cricket_ball, football, Image of football, golf_ball, Image of golf_ball, hockey_ball, Image of hockey_ball, hockey_puck, Image of hockey_puck, rugby_ball, Image of rugby_ball, shuttlecock, Image of shuttlecock, table_tennis_ball, Image of table_tennis_ball, tennis_ball, Image of tennis_ball, volleyball, Image of volleyball\n",
    "\n",
    "dict_size(s30)\n",
    "print(aOcheck_accuracy(\"sports15/s30.csv\", s30))"
   ]
  },
  {
   "cell_type": "code",
   "execution_count": 127,
   "metadata": {},
   "outputs": [
    {
     "name": "stdout",
     "output_type": "stream",
     "text": [
      "45\n",
      "70.61\n",
      "70.61\n"
     ]
    }
   ],
   "source": [
    "s45 = {\n",
    "    \"american_football\": [\"american_football\", \"Image of american_football\", \"Picture of american_football\"],\n",
    "    \"baseball\": [\"baseball\", \"Image of baseball\", \"Picture of baseball\"],\n",
    "    \"basketball\": [\"basketball\", \"Image of basketball\", \"Picture of basketball\"],\n",
    "    \"billiard_ball\": [\"billiard_ball\", \"Image of billiard_ball\", \"Picture of billiard_ball\"],\n",
    "    \"bowling_ball\": [\"bowling_ball\", \"Image of bowling_ball\", \"Picture of bowling_ball\"],\n",
    "    \"cricket_ball\": [\"cricket_ball\", \"Image of cricket_ball\", \"Picture of cricket_ball\"],\n",
    "    \"football\": [\"football\", \"Image of football\", \"Picture of football\"],\n",
    "    \"golf_ball\": [\"golf_ball\", \"Image of golf_ball\", \"Picture of golf_ball\"],\n",
    "    \"hockey_ball\": [\"hockey_ball\", \"Image of hockey_ball\", \"Picture of hockey_ball\"],\n",
    "    \"hockey_puck\": [\"hockey_puck\", \"Image of hockey_puck\", \"Picture of hockey_puck\"],\n",
    "    \"rugby_ball\": [\"rugby_ball\", \"Image of rugby_ball\", \"Picture of rugby_ball\"],\n",
    "    \"shuttlecock\": [\"shuttlecock\", \"Image of shuttlecock\", \"Picture of shuttlecock\"],\n",
    "    \"table_tennis_ball\": [\"table_tennis_ball\", \"Image of table_tennis_ball\", \"Picture of table_tennis_ball\"],\n",
    "    \"tennis_ball\": [\"tennis_ball\", \"Image of tennis_ball\", \"Picture of tennis_ball\"],\n",
    "    \"volleyball\": [\"volleyball\", \"Image of volleyball\", \"Picture of volleyball\"]\n",
    "}\n",
    "\n",
    "# american_football, Image of american_football, Picture of american_football, baseball, Image of baseball, Picture of baseball, basketball, Image of basketball, Picture of basketball, billiard_ball, Image of billiard_ball, Picture of billiard_ball, bowling_ball, Image of bowling_ball, Picture of bowling_ball, cricket_ball, Image of cricket_ball, Picture of cricket_ball, football, Image of football, Picture of football, golf_ball, Image of golf_ball, Picture of golf_ball, hockey_ball, Image of hockey_ball, Picture of hockey_ball, hockey_puck, Image of hockey_puck, Picture of hockey_puck, rugby_ball, Image of rugby_ball, Picture of rugby_ball, shuttlecock, Image of shuttlecock, Picture of shuttlecock, table_tennis_ball, Image of table_tennis_ball, Picture of table_tennis_ball, tennis_ball, Image of tennis_ball, Picture of tennis_ball, volleyball, Image of volleyball, Picture of volleyball\n",
    "\n",
    "dict_size(s45)\n",
    "print(aOcheck_accuracy(\"sports15/s45.csv\", s45))\n"
   ]
  },
  {
   "cell_type": "code",
   "execution_count": 128,
   "metadata": {},
   "outputs": [
    {
     "name": "stdout",
     "output_type": "stream",
     "text": [
      "60\n",
      "70.91\n",
      "70.91\n"
     ]
    }
   ],
   "source": [
    "s60 = {\n",
    "    \"american_football\": [\"american_football\", \"Image of american_football\", \"Picture of american_football\", \"american_footballs\"],\n",
    "    \"baseball\": [\"baseball\", \"Image of baseball\", \"Picture of baseball\", \"baseballs\"],\n",
    "    \"basketball\": [\"basketball\", \"Image of basketball\", \"Picture of basketball\", \"basketballs\"],\n",
    "    \"billiard_ball\": [\"billiard_ball\", \"Image of billiard_ball\", \"Picture of billiard_ball\", \"billiard_balls\"],\n",
    "    \"bowling_ball\": [\"bowling_ball\", \"Image of bowling_ball\", \"Picture of bowling_ball\", \"bowling_balls\"],\n",
    "    \"cricket_ball\": [\"cricket_ball\", \"Image of cricket_ball\", \"Picture of cricket_ball\", \"cricket_balls\"],\n",
    "    \"football\": [\"football\", \"Image of football\", \"Picture of football\", \"footballs\"],\n",
    "    \"golf_ball\": [\"golf_ball\", \"Image of golf_ball\", \"Picture of golf_ball\", \"golf_balls\"],\n",
    "    \"hockey_ball\": [\"hockey_ball\", \"Image of hockey_ball\", \"Picture of hockey_ball\", \"hockey_balls\"],\n",
    "    \"hockey_puck\": [\"hockey_puck\", \"Image of hockey_puck\", \"Picture of hockey_puck\", \"hockey_pucks\"],\n",
    "    \"rugby_ball\": [\"rugby_ball\", \"Image of rugby_ball\", \"Picture of rugby_ball\", \"rugby_balls\"],\n",
    "    \"shuttlecock\": [\"shuttlecock\", \"Image of shuttlecock\", \"Picture of shuttlecock\", \"shuttlecocks\"],\n",
    "    \"table_tennis_ball\": [\"table_tennis_ball\", \"Image of table_tennis_ball\", \"Picture of table_tennis_ball\", \"table_tennis_balls\"],\n",
    "    \"tennis_ball\": [\"tennis_ball\", \"Image of tennis_ball\", \"Picture of tennis_ball\", \"tennis_balls\"],\n",
    "    \"volleyball\": [\"volleyball\", \"Image of volleyball\", \"Picture of volleyball\", \"volleyballs\"]\n",
    "}\n",
    "\n",
    "# american_football, Image of american_football, Picture of american_football, american_footballs, baseball, Image of baseball, Picture of baseball, baseballs, basketball, Image of basketball, Picture of basketball, basketballs, billiard_ball, Image of billiard_ball, Picture of billiard_ball, billiard_balls, bowling_ball, Image of bowling_ball, Picture of bowling_ball, bowling_balls, cricket_ball, Image of cricket_ball, Picture of cricket_ball, cricket_balls, football, Image of football, Picture of football, footballs, golf_ball, Image of golf_ball, Picture of golf_ball, golf_balls, hockey_ball, Image of hockey_ball, Picture of hockey_ball, hockey_balls, hockey_puck, Image of hockey_puck, Picture of hockey_puck, hockey_pucks, rugby_ball, Image of rugby_ball, Picture of rugby_ball, rugby_balls, shuttlecock, Image of shuttlecock, Picture of shuttlecock, shuttlecocks, table_tennis_ball, Image of table_tennis_ball, Picture of table_tennis_ball, table_tennis_balls, tennis_ball, Image of tennis_ball, Picture of tennis_ball, tennis_balls, volleyball, Image of volleyball, Picture of volleyball, volleyballs\n",
    "\n",
    "dict_size(s60)\n",
    "print(aOcheck_accuracy(\"sports15/s60.csv\", s60))\n"
   ]
  },
  {
   "cell_type": "code",
   "execution_count": 129,
   "metadata": {},
   "outputs": [
    {
     "name": "stdout",
     "output_type": "stream",
     "text": [
      "75\n",
      "70.96\n",
      "70.96\n"
     ]
    }
   ],
   "source": [
    "s75 = {\n",
    "    \"american_football\": [\"american_football\", \"Image of american_football\", \"Picture of american_football\", \"american_footballs\", \"Picture of the american_footballs\"],\n",
    "    \"baseball\": [\"baseball\", \"Image of baseball\", \"Picture of baseball\", \"baseballs\", \"Picture of the baseballs\"],\n",
    "    \"basketball\": [\"basketball\", \"Image of basketball\", \"Picture of basketball\", \"basketballs\", \"Picture of the basketballs\"],\n",
    "    \"billiard_ball\": [\"billiard_ball\", \"Image of billiard_ball\", \"Picture of billiard_ball\", \"billiard_balls\", \"Picture of the billiard_balls\"],\n",
    "    \"bowling_ball\": [\"bowling_ball\", \"Image of bowling_ball\", \"Picture of bowling_ball\", \"bowling_balls\", \"Picture of the bowling_balls\"],\n",
    "    \"cricket_ball\": [\"cricket_ball\", \"Image of cricket_ball\", \"Picture of cricket_ball\", \"cricket_balls\", \"Picture of the cricket_balls\"],\n",
    "    \"football\": [\"football\", \"Image of football\", \"Picture of football\", \"footballs\", \"Picture of the footballs\"],\n",
    "    \"golf_ball\": [\"golf_ball\", \"Image of golf_ball\", \"Picture of golf_ball\", \"golf_balls\", \"Picture of the golf_balls\"],\n",
    "    \"hockey_ball\": [\"hockey_ball\", \"Image of hockey_ball\", \"Picture of hockey_ball\", \"hockey_balls\", \"Picture of the hockey_balls\"],\n",
    "    \"hockey_puck\": [\"hockey_puck\", \"Image of hockey_puck\", \"Picture of hockey_puck\", \"hockey_pucks\", \"Picture of the hockey_pucks\"],\n",
    "    \"rugby_ball\": [\"rugby_ball\", \"Image of rugby_ball\", \"Picture of rugby_ball\", \"rugby_balls\", \"Picture of the rugby_balls\"],\n",
    "    \"shuttlecock\": [\"shuttlecock\", \"Image of shuttlecock\", \"Picture of shuttlecock\", \"shuttlecocks\", \"Picture of the shuttlecocks\"],\n",
    "    \"table_tennis_ball\": [\"table_tennis_ball\", \"Image of table_tennis_ball\", \"Picture of table_tennis_ball\", \"table_tennis_balls\", \"Picture of the table_tennis_balls\"],\n",
    "    \"tennis_ball\": [\"tennis_ball\", \"Image of tennis_ball\", \"Picture of tennis_ball\", \"tennis_balls\", \"Picture of the tennis_balls\"],\n",
    "    \"volleyball\": [\"volleyball\", \"Image of volleyball\", \"Picture of volleyball\", \"volleyballs\", \"Picture of the volleyballs\"]\n",
    "}\n",
    "\n",
    "# american_football, Image of american_football, Picture of american_football, american_footballs, Picture of the american_footballs, baseball, Image of baseball, Picture of baseball, baseballs, Picture of the baseballs, basketball, Image of basketball, Picture of basketball, basketballs, Picture of the basketballs, billiard_ball, Image of billiard_ball, Picture of billiard_ball, billiard_balls, Picture of the billiard_balls, bowling_ball, Image of bowling_ball, Picture of bowling_ball, bowling_balls, Picture of the bowling_balls, cricket_ball, Image of cricket_ball, Picture of cricket_ball, cricket_balls, Picture of the cricket_balls, football, Image of football, Picture of football, footballs, Picture of the footballs, golf_ball, Image of golf_ball, Picture of golf_ball, golf_balls, Picture of the golf_balls, hockey_ball, Image of hockey_ball, Picture of hockey_ball, hockey_balls, Picture of the hockey_balls, hockey_puck, Image of hockey_puck, Picture of hockey_puck, hockey_pucks, Picture of the hockey_pucks, rugby_ball, Image of rugby_ball, Picture of rugby_ball, rugby_balls, Picture of the rugby_balls, shuttlecock, Image of shuttlecock, Picture of shuttlecock, shuttlecocks, Picture of the shuttlecocks, table_tennis_ball, Image of table_tennis_ball, Picture of table_tennis_ball, table_tennis_balls, Picture of the table_tennis_balls, tennis_ball, Image of tennis_ball, Picture of tennis_ball, tennis_balls, Picture of the tennis_balls, volleyball, Image of volleyball, Picture of volleyball, volleyballs, Picture of the volleyballs\n",
    "\n",
    "dict_size(s75)\n",
    "print(aOcheck_accuracy(\"sports15/s75.csv\", s75))\n"
   ]
  },
  {
   "cell_type": "code",
   "execution_count": 130,
   "metadata": {},
   "outputs": [
    {
     "name": "stdout",
     "output_type": "stream",
     "text": [
      "90\n",
      "71.45\n",
      "71.45\n"
     ]
    }
   ],
   "source": [
    "s90 = {\n",
    "    \"american_football\": [\"american_football\", \"Image of american_football\", \"Picture of american_football\", \"american_footballs\", \"Picture of the american_footballs\", \"Image of american_footballs\"],\n",
    "    \"baseball\": [\"baseball\", \"Image of baseball\", \"Picture of baseball\", \"baseballs\", \"Picture of the baseballs\", \"Image of baseballs\"],\n",
    "    \"basketball\": [\"basketball\", \"Image of basketball\", \"Picture of basketball\", \"basketballs\", \"Picture of the basketballs\", \"Image of basketballs\"],\n",
    "    \"billiard_ball\": [\"billiard_ball\", \"Image of billiard_ball\", \"Picture of billiard_ball\", \"billiard_balls\", \"Picture of the billiard_balls\", \"Image of billiard_balls\"],\n",
    "    \"bowling_ball\": [\"bowling_ball\", \"Image of bowling_ball\", \"Picture of bowling_ball\", \"bowling_balls\", \"Picture of the bowling_balls\", \"Image of bowling_balls\"],\n",
    "    \"cricket_ball\": [\"cricket_ball\", \"Image of cricket_ball\", \"Picture of cricket_ball\", \"cricket_balls\", \"Picture of the cricket_balls\", \"Image of cricket_balls\"],\n",
    "    \"football\": [\"football\", \"Image of football\", \"Picture of football\", \"footballs\", \"Picture of the footballs\", \"Image of footballs\"],\n",
    "    \"golf_ball\": [\"golf_ball\", \"Image of golf_ball\", \"Picture of golf_ball\", \"golf_balls\", \"Picture of the golf_balls\", \"Image of golf_balls\"],\n",
    "    \"hockey_ball\": [\"hockey_ball\", \"Image of hockey_ball\", \"Picture of hockey_ball\", \"hockey_balls\", \"Picture of the hockey_balls\", \"Image of hockey_balls\"],\n",
    "    \"hockey_puck\": [\"hockey_puck\", \"Image of hockey_puck\", \"Picture of hockey_puck\", \"hockey_pucks\", \"Picture of the hockey_pucks\", \"Image of hockey_pucks\"],\n",
    "    \"rugby_ball\": [\"rugby_ball\", \"Image of rugby_ball\", \"Picture of rugby_ball\", \"rugby_balls\", \"Picture of the rugby_balls\", \"Image of rugby_balls\"],\n",
    "    \"shuttlecock\": [\"shuttlecock\", \"Image of shuttlecock\", \"Picture of shuttlecock\", \"shuttlecocks\", \"Picture of the shuttlecocks\", \"Image of shuttlecocks\"],\n",
    "    \"table_tennis_ball\": [\"table_tennis_ball\", \"Image of table_tennis_ball\", \"Picture of table_tennis_ball\", \"table_tennis_balls\", \"Picture of the table_tennis_balls\", \"Image of table_tennis_balls\"],\n",
    "    \"tennis_ball\": [\"tennis_ball\", \"Image of tennis_ball\", \"Picture of tennis_ball\", \"tennis_balls\", \"Picture of the tennis_balls\", \"Image of tennis_balls\"],\n",
    "    \"volleyball\": [\"volleyball\", \"Image of volleyball\", \"Picture of volleyball\", \"volleyballs\", \"Picture of the volleyballs\", \"Image of volleyballs\"]\n",
    "}\n",
    "\n",
    "# american_football, Image of american_football, Picture of american_football, american_footballs, Picture of the american_footballs, Image of american_footballs, baseball, Image of baseball, Picture of baseball, baseballs, Picture of the baseballs, Image of baseballs, basketball, Image of basketball, Picture of basketball, basketballs, Picture of the basketballs, Image of basketballs, billiard_ball, Image of billiard_ball, Picture of billiard_ball, billiard_balls, Picture of the billiard_balls, Image of billiard_balls, bowling_ball, Image of bowling_ball, Picture of bowling_ball, bowling_balls, Picture of the bowling_balls, Image of bowling_balls, cricket_ball, Image of cricket_ball, Picture of cricket_ball, cricket_balls, Picture of the cricket_balls, Image of cricket_balls, football, Image of football, Picture of football, footballs, Picture of the footballs, Image of footballs, golf_ball, Image of golf_ball, Picture of golf_ball, golf_balls, Picture of the golf_balls, Image of golf_balls, hockey_ball, Image of hockey_ball, Picture of hockey_ball, hockey_balls, Picture of the hockey_balls, Image of hockey_balls, hockey_puck, Image of hockey_puck, Picture of hockey_puck, hockey_pucks, Picture of the hockey_pucks, Image of hockey_pucks, rugby_ball, Image of rugby_ball, Picture of rugby_ball, rugby_balls, Picture of the rugby_balls, Image of rugby_balls, shuttlecock, Image of shuttlecock, Picture of shuttlecock, shuttlecocks, Picture of the shuttlecocks, Image of shuttlecocks, table_tennis_ball, Image of table_tennis_ball, Picture of table_tennis_ball, table_tennis_balls, Picture of the table_tennis_balls, Image of table_tennis_balls, tennis_ball, Image of tennis_ball, Picture of tennis_ball, tennis_balls, Picture of the tennis_balls, Image of tennis_balls, volleyball, Image of volleyball, Picture of volleyball, volleyballs, Picture of the volleyballs, Image of volleyballs\n",
    "\n",
    "dict_size(s90)\n",
    "print(aOcheck_accuracy(\"sports15/s90.csv\", s90))\n"
   ]
  },
  {
   "cell_type": "code",
   "execution_count": 131,
   "metadata": {},
   "outputs": [
    {
     "name": "stdout",
     "output_type": "stream",
     "text": [
      "105\n",
      "71.57\n",
      "71.57\n"
     ]
    }
   ],
   "source": [
    "s105 = {\n",
    "    \"american_football\": [\"american_football\", \"Image of american_football\", \"Picture of american_football\", \"american_footballs\", \"Picture of the american_footballs\", \"Image of american_footballs\", \"Cool american_football\"],\n",
    "    \"baseball\": [\"baseball\", \"Image of baseball\", \"Picture of baseball\", \"baseballs\", \"Picture of the baseballs\", \"Image of baseballs\", \"Cool baseball\"],\n",
    "    \"basketball\": [\"basketball\", \"Image of basketball\", \"Picture of basketball\", \"basketballs\", \"Picture of the basketballs\", \"Image of basketballs\", \"Cool basketball\"],\n",
    "    \"billiard_ball\": [\"billiard_ball\", \"Image of billiard_ball\", \"Picture of billiard_ball\", \"billiard_balls\", \"Picture of the billiard_balls\", \"Image of billiard_balls\", \"Cool billiard_ball\"],\n",
    "    \"bowling_ball\": [\"bowling_ball\", \"Image of bowling_ball\", \"Picture of bowling_ball\", \"bowling_balls\", \"Picture of the bowling_balls\", \"Image of bowling_balls\", \"Cool bowling_ball\"],\n",
    "    \"cricket_ball\": [\"cricket_ball\", \"Image of cricket_ball\", \"Picture of cricket_ball\", \"cricket_balls\", \"Picture of the cricket_balls\", \"Image of cricket_balls\", \"Cool cricket_ball\"],\n",
    "    \"football\": [\"football\", \"Image of football\", \"Picture of football\", \"footballs\", \"Picture of the footballs\", \"Image of footballs\", \"Cool football\"],\n",
    "    \"golf_ball\": [\"golf_ball\", \"Image of golf_ball\", \"Picture of golf_ball\", \"golf_balls\", \"Picture of the golf_balls\", \"Image of golf_balls\", \"Cool golf_ball\"],\n",
    "    \"hockey_ball\": [\"hockey_ball\", \"Image of hockey_ball\", \"Picture of hockey_ball\", \"hockey_balls\", \"Picture of the hockey_balls\", \"Image of hockey_balls\", \"Cool hockey_ball\"],\n",
    "    \"hockey_puck\": [\"hockey_puck\", \"Image of hockey_puck\", \"Picture of hockey_puck\", \"hockey_pucks\", \"Picture of the hockey_pucks\", \"Image of hockey_pucks\", \"Cool hockey_puck\"],\n",
    "    \"rugby_ball\": [\"rugby_ball\", \"Image of rugby_ball\", \"Picture of rugby_ball\", \"rugby_balls\", \"Picture of the rugby_balls\", \"Image of rugby_balls\", \"Cool rugby_ball\"],\n",
    "    \"shuttlecock\": [\"shuttlecock\", \"Image of shuttlecock\", \"Picture of shuttlecock\", \"shuttlecocks\", \"Picture of the shuttlecocks\", \"Image of shuttlecocks\", \"Cool shuttlecock\"],\n",
    "    \"table_tennis_ball\": [\"table_tennis_ball\", \"Image of table_tennis_ball\", \"Picture of table_tennis_ball\", \"table_tennis_balls\", \"Picture of the table_tennis_balls\", \"Image of table_tennis_balls\", \"Cool table_tennis_ball\"],\n",
    "    \"tennis_ball\": [\"tennis_ball\", \"Image of tennis_ball\", \"Picture of tennis_ball\", \"tennis_balls\", \"Picture of the tennis_balls\", \"Image of tennis_balls\", \"Cool tennis_ball\"],\n",
    "    \"volleyball\": [\"volleyball\", \"Image of volleyball\", \"Picture of volleyball\", \"volleyballs\", \"Picture of the volleyballs\", \"Image of volleyballs\", \"Cool volleyball\"]\n",
    "}\n",
    "\n",
    "# american_football, Image of american_football, Picture of american_football, american_footballs, Picture of the american_footballs, Image of american_footballs, Cool american_football, baseball, Image of baseball, Picture of baseball, baseballs, Picture of the baseballs, Image of baseballs, Cool baseball, basketball, Image of basketball, Picture of basketball, basketballs, Picture of the basketballs, Image of basketballs, Cool basketball, billiard_ball, Image of billiard_ball, Picture of billiard_ball, billiard_balls, Picture of the billiard_balls, Image of billiard_balls, Cool billiard_ball, bowling_ball, Image of bowling_ball, Picture of bowling_ball, bowling_balls, Picture of the bowling_balls, Image of bowling_balls, Cool bowling_ball, cricket_ball, Image of cricket_ball, Picture of cricket_ball, cricket_balls, Picture of the cricket_balls, Image of cricket_balls, Cool cricket_ball, football, Image of football, Picture of football, footballs, Picture of the footballs, Image of footballs, Cool football, golf_ball, Image of golf_ball, Picture of golf_ball, golf_balls, Picture of the golf_balls, Image of golf_balls, Cool golf_ball, hockey_ball, Image of hockey_ball, Picture of hockey_ball, hockey_balls, Picture of the hockey_balls, Image of hockey_balls, Cool hockey_ball, hockey_puck, Image of hockey_puck, Picture of hockey_puck, hockey_pucks, Picture of the hockey_pucks, Image of hockey_pucks, Cool hockey_puck, rugby_ball, Image of rugby_ball, Picture of rugby_ball, rugby_balls, Picture of the rugby_balls, Image of rugby_balls, Cool rugby_ball, shuttlecock, Image of shuttlecock, Picture of shuttlecock, shuttlecocks, Picture of the shuttlecocks, Image of shuttlecocks, Cool shuttlecock, table_tennis_ball, Image of table_tennis_ball, Picture of table_tennis_ball, table_tennis_balls, Picture of the table_tennis_balls, Image of table_tennis_balls, Cool table_tennis_ball, tennis_ball, Image of tennis_ball, Picture of tennis_ball, tennis_balls, Picture of the tennis_balls, Image of tennis_balls, Cool tennis_ball, volleyball, Image of volleyball, Picture of volleyball, volleyballs, Picture of the volleyballs, Image of volleyballs, Cool volleyball\n",
    "\n",
    "dict_size(s105)\n",
    "print(aOcheck_accuracy(\"sports15/s105.csv\", s105))\n"
   ]
  },
  {
   "cell_type": "markdown",
   "metadata": {},
   "source": [
    "# Points to Plot"
   ]
  },
  {
   "cell_type": "code",
   "execution_count": 132,
   "metadata": {},
   "outputs": [],
   "source": [
    "# aO_counts = {\n",
    "#     4 : [aObase_accuracy(\"animal4/AO.csv\")],\n",
    "#     8 : [aOcheck_accuracy(\"animal4/AO8.csv\", dict_8)],\n",
    "#     12 : [aOcheck_accuracy(\"animal4/AO12.csv\", dict_12)],\n",
    "#     16 : [aOcheck_accuracy(\"animal4/AO16.csv\", dict_16)],\n",
    "#     20 : [aOcheck_accuracy(\"animal4/AO20.csv\", dict_20)],\n",
    "#     24 : [aOcheck_accuracy(\"animal4/AO24.csv\", dict_24)],\n",
    "#     32 : [aOcheck_accuracy(\"animal4/AO32.csv\", dict_32)],\n",
    "#     36 : [aOcheck_accuracy(\"animal4/AO36.csv\", dict_36)],\n",
    "#     40 : [aOcheck_accuracy(\"animal4/AO40.csv\", dict_40)],\n",
    "#     44 : [aOcheck_accuracy(\"animal4/AO44.csv\", dict_44)],\n",
    "#     48 : [aOcheck_accuracy(\"animal4/AO48.csv\", dict_48)],\n",
    "#     52 : [aOcheck_accuracy(\"animal4/AO52.csv\", dict_52)],\n",
    "#     56 : [aOcheck_accuracy(\"animal4/AO56.csv\", dict_56)],\n",
    "#     60 : [aOcheck_accuracy(\"animal4/AO60.csv\", dict_60)]\n",
    "# }\n",
    "\n",
    "# v7_counts = {\n",
    "#     7 : [96.73],\n",
    "#     14 : [84.45],\n",
    "#     21 : [88.35],  \n",
    "#     42 : [93.47],\n",
    "#     49 : [93.5],\n",
    "#     56 : [95.17],\n",
    "#     63 : [93.74],\n",
    "#     70 : [95.08]\n",
    "# }\n",
    "\n",
    "# cd_counts = {\n",
    "#     2: [CDcheck_accuracy('CatsvsDogs/cd2.csv', CDdict2 )],\n",
    "#     4: [CDcheck_accuracy('CatsvsDogs/cd4.csv', CDdict4)],\n",
    "#     6: [CDcheck_accuracy('CatsvsDogs/cd6.csv', CDdict6)],\n",
    "#     8: [CDcheck_accuracy('CatsvsDogs/cd8.csv', CDdict8)],\n",
    "#     10: [CDcheck_accuracy('CatsvsDogs/cd10.csv', CDdict10)],\n",
    "#     12: [CDcheck_accuracy('CatsvsDogs/cd12.csv', CDdict12)],\n",
    "#     14: [CDcheck_accuracy('CatsvsDogs/cd14.csv', CDdict14)],\n",
    "#     16: [CDcheck_accuracy('CatsvsDogs/cd16.csv', CDdict16)],\n",
    "#     18: [CDcheck_accuracy('CatsvsDogs/cd18.csv', CDdict18)],\n",
    "#     20: [CDcheck_accuracy('CatsvsDogs/cd20.csv', CDdict20)],\n",
    "#     22: [CDcheck_accuracy('CatsvsDogs/cd22.csv', CDdict22)],\n",
    "#     24: [CDcheck_accuracy('CatsvsDogs/cd24.csv', CDdict24)],\n",
    "#     26: [CDcheck_accuracy('CatsvsDogs/cd26.csv', CDdict26)],\n",
    "#     28: [CDcheck_accuracy('CatsvsDogs/cd28.csv', CDdict28)],\n",
    "#     30: [CDcheck_accuracy('CatsvsDogs/cd30.csv', CDdict30)],\n",
    "#     32: [CDcheck_accuracy('CatsvsDogs/cd32.csv', CDdict32)],\n",
    "#     36: [CDcheck_accuracy('CatsvsDogs/cd36.csv', CDdict36)],\n",
    "#     38: [CDcheck_accuracy('CatsvsDogs/cd38.csv', CDdict38)],\n",
    "#     42: [CDcheck_accuracy('CatsvsDogs/cd42.csv', CDdict42)],\n",
    "#     44: [CDcheck_accuracy('CatsvsDogs/cd44.csv', CDdict44)],\n",
    "#     48: [CDcheck_accuracy('CatsvsDogs/cd48.csv', CDdict48)],\n",
    "#     50: [CDcheck_accuracy('CatsvsDogs/cd50.csv', CDdict50)],\n",
    "#     52: [CDcheck_accuracy('CatsvsDogs/cd52.csv', CDdict52)],\n",
    "#     54: [CDcheck_accuracy('CatsvsDogs/cd54.csv', CDdict54)],\n",
    "#     56: [CDcheck_accuracy('CatsvsDogs/cd56.csv', CDdict56)]\n",
    "# }"
   ]
  },
  {
   "cell_type": "code",
   "execution_count": 133,
   "metadata": {},
   "outputs": [
    {
     "name": "stdout",
     "output_type": "stream",
     "text": [
      "\n",
      " Vegetable 15 \n",
      "\n",
      "53.6\n",
      "55.97\n",
      "55.81\n",
      "57.77\n",
      "61.59\n",
      "57.77\n",
      "61.59\n",
      "\n",
      " Animal 80 \n",
      "\n",
      "77.35\n",
      "78.24\n",
      "78.25\n",
      "78.35\n",
      "78.45\n",
      "\n",
      " Food 10 \n",
      "\n",
      "0.0\n",
      "0.0\n",
      "0.0\n",
      "0.0\n",
      "0.0\n",
      "0.0\n",
      "0.0\n",
      "0.0\n",
      "0.0\n",
      "0.0\n"
     ]
    }
   ],
   "source": [
    "print(\"\\n Vegetable 15 \\n\")\n",
    "\n",
    "veg_counts = {\n",
    "    15 : [aOcheck_accuracy(\"Vegetable15/veg15.csv\", veg15)],\n",
    "    30 : [aOcheck_accuracy(\"Vegetable15/veg30.csv\", veg30)],\n",
    "    45 : [aOcheck_accuracy(\"Vegetable15/veg45.csv\", veg45)],\n",
    "    60 : [aOcheck_accuracy(\"Vegetable15/veg60.csv\", veg60)],\n",
    "    75 : [aOcheck_accuracy(\"Vegetable15/veg75.csv\", veg75)],\n",
    "    90 : [aOcheck_accuracy(\"Vegetable15/veg90.csv\", veg90)],\n",
    "    105 : [aOcheck_accuracy(\"Vegetable15/veg105.csv\", veg105)]\n",
    "}\n",
    "\n",
    "# card_counts = {\n",
    "#     4 : card_accuracy(\"Card15/cards4.csv\", cards4),\n",
    "#     8 : card_accuracy(\"Card15/cards8.csv\", cards8),\n",
    "#     12 : card_accuracy(\"Card15/cards12.csv\", cards12),\n",
    "#     16 : card_accuracy(\"Card15/cards16.csv\", cards16),\n",
    "#     20 : card_accuracy(\"Card15/cards20.csv\", cards20),\n",
    "#     24 : card_accuracy(\"Card15/cards24.csv\", cards24),\n",
    "#     28 : card_accuracy(\"Card15/cards28.csv\", cards28),\n",
    "#     32 : card_accuracy(\"Card15/cards32.csv\", cards32),\n",
    "#     36 : card_accuracy(\"Card15/cards36.csv\", cards36),\n",
    "#     40 : card_accuracy(\"Card15/cards40.csv\", cards40),\n",
    "#     44 : card_accuracy(\"Card15/cards44.csv\", cards44),\n",
    "#     48 : card_accuracy(\"Card15/cards48.csv\", cards48)\n",
    "    \n",
    "# }\n",
    "\n",
    "print(\"\\n Animal 80 \\n\")\n",
    "animal80_counts = {\n",
    "    80 : aOcheck_accuracy(\"animal80/a80.csv\", a80),\n",
    "    160 : aOcheck_accuracy(\"animal80/a160.csv\", a160),\n",
    "    240 : aOcheck_accuracy(\"animal80/a240csv\", a240),\n",
    "    320 : aOcheck_accuracy(\"animal80/a320.csv\", a320),\n",
    "    400 : aOcheck_accuracy(\"animal80/a400.csv\", a400)\n",
    "}\n",
    "\n",
    "print(\"\\n Food 10 \\n\")\n",
    "food10_counts = {10 : [aOcheck_accuracy(\"food10/f10.csv\", f10)],\n",
    "                 20 : [aOcheck_accuracy(\"food10/f20.csv\", f20)],\n",
    "                 30 : [aOcheck_accuracy(\"food10/f30.csv\",f30)],\n",
    "                 40 : [aOcheck_accuracy(\"food10/f40.csv\",f40)],\n",
    "                 50 : [aOcheck_accuracy(\"food10/f50.csv\",f50)],\n",
    "                 60 : [aOcheck_accuracy(\"food10/f60.csv\",f60)],\n",
    "                 70 : [aOcheck_accuracy(\"food10/f70.csv\",f70)],\n",
    "                 80 : [aOcheck_accuracy(\"food10/f80.csv\",f80)],\n",
    "                 90 : [aOcheck_accuracy(\"food10/f90.csv\",f90)],\n",
    "                 100 : [aOcheck_accuracy(\"food10/f100.csv\",f100)]\n",
    "                 }\n",
    "\n",
    "# print(aOcheck_accuracy(\"food10/f20.csv\", f20))\n"
   ]
  },
  {
   "cell_type": "code",
   "execution_count": 134,
   "metadata": {},
   "outputs": [
    {
     "name": "stdout",
     "output_type": "stream",
     "text": [
      "\n",
      " Vehicle 20 \n",
      "\n",
      "76.56\n",
      "76.74\n",
      "77.02\n",
      "77.23\n",
      "77.64\n",
      "77.67\n",
      "77.02\n",
      "77.1\n",
      "77.1\n",
      "77.37\n",
      "\n",
      " Flowers 10 \n",
      "\n",
      "87.19\n",
      "88.28\n",
      "88.15\n",
      "88.28\n",
      "88.28\n",
      "88.15\n",
      "88.01\n",
      "88.28\n",
      "88.28\n",
      "88.28\n",
      "\n",
      " Fruits 10 \n",
      "\n",
      "82.9\n",
      "82.66\n",
      "82.75\n",
      "83.32\n",
      "83.47\n",
      "83.56\n",
      "83.56\n",
      "83.65\n",
      "83.53\n"
     ]
    }
   ],
   "source": [
    "print(\"\\n Vehicle 20 \\n\")\n",
    "\n",
    "v20_counts = {\n",
    "    20 : [aOcheck_accuracy(\"vehicle20/v20.csv\", v20)],\n",
    "    40 : [aOcheck_accuracy(\"vehicle20/v40.csv\", v40)],\n",
    "    60 : [aOcheck_accuracy(\"vehicle20/v60.csv\", v60)],\n",
    "    80 : [aOcheck_accuracy(\"vehicle20/v80.csv\", v80)],\n",
    "    100 : [aOcheck_accuracy(\"vehicle20/v100.csv\", v100)],\n",
    "    120 : [aOcheck_accuracy(\"vehicle20/v120.csv\", v120)],\n",
    "    140 : [aOcheck_accuracy(\"vehicle20/v140.csv\", v140)],\n",
    "    160 : [aOcheck_accuracy(\"vehicle20/v160.csv\", v160)],\n",
    "    180 : [aOcheck_accuracy(\"vehicle20/v180.csv\", v180)],\n",
    "    200 : [aOcheck_accuracy(\"vehicle20/v200.csv\", v200)]\n",
    "}\n",
    "\n",
    "print(\"\\n Flowers 10 \\n\")\n",
    "flowers10_counts = {\n",
    "    10 : [flowers_accuracy(\"flowers10/f10.csv\", f10)],\n",
    "    20 : [flowers_accuracy(\"flowers10/f20.csv\", f20)],\n",
    "    30 : [flowers_accuracy(\"flowers10/f30.csv\", f30)],\n",
    "    40 : [flowers_accuracy(\"flowers10/f40.csv\", f40)],\n",
    "    50 : [flowers_accuracy(\"flowers10/f50.csv\", f50)],\n",
    "    60 : [flowers_accuracy(\"flowers10/f60.csv\", f60)],\n",
    "    70 : [flowers_accuracy(\"flowers10/f70.csv\", f70)],\n",
    "    80 : [flowers_accuracy(\"flowers10/f80.csv\", f80)],\n",
    "    90 : [flowers_accuracy(\"flowers10/f90.csv\", f90)],\n",
    "    100 : [flowers_accuracy(\"flowers10/f100.csv\", f100)]\n",
    "}\n",
    "\n",
    "print(\"\\n Fruits 10 \\n\")\n",
    "fruits10_counts = {\n",
    "    10: [aOcheck_accuracy(\"fruits10/f10.csv\", fr10)],\n",
    "    20: [aOcheck_accuracy(\"fruits10/f20.csv\", fr20)],\n",
    "    30: [aOcheck_accuracy(\"fruits10/f30.csv\", fr30)],\n",
    "    40: [aOcheck_accuracy(\"fruits10/f40.csv\", fr40)],\n",
    "    50: [aOcheck_accuracy(\"fruits10/f50.csv\", fr50)],\n",
    "    60: [aOcheck_accuracy(\"fruits10/f60.csv\", fr60)],\n",
    "    70: [aOcheck_accuracy(\"fruits10/f70.csv\", fr70)],\n",
    "    80: [aOcheck_accuracy(\"fruits10/f80.csv\", fr80)],\n",
    "    # 90: [aOcheck_accuracy(\"fruits10/f90.csv\", fr90)],\n",
    "    100: [aOcheck_accuracy(\"fruits10/f100.csv\", fr100)]\n",
    "}"
   ]
  },
  {
   "cell_type": "code",
   "execution_count": 135,
   "metadata": {},
   "outputs": [
    {
     "name": "stdout",
     "output_type": "stream",
     "text": [
      "\n",
      " Food 34 \n",
      "\n",
      "80.2\n",
      "81.5\n",
      "79.81\n",
      "82.29\n",
      "82.47\n",
      "82.06\n",
      "\n",
      " Weather 11 \n",
      "\n",
      "66.71\n",
      "74.14\n",
      "74.11\n",
      "74.11\n",
      "74.21\n",
      "74.21\n",
      "74.17\n",
      "\n",
      " Sports 15 \n",
      "\n",
      "2.19\n",
      "70.85\n",
      "70.61\n",
      "70.91\n",
      "70.96\n",
      "71.45\n",
      "71.57\n"
     ]
    }
   ],
   "source": [
    "print(\"\\n Food 34 \\n\")\n",
    "food34_counts = {\n",
    "    34 : aOcheck_accuracy(\"food34/f34.csv\", f34),\n",
    "    68 : aOcheck_accuracy(\"food34/f68.csv\", f68),\n",
    "    102 : aOcheck_accuracy(\"food34/f102.csv\", f102),\n",
    "    136 : aOcheck_accuracy(\"food34/f136.csv\", f136),\n",
    "    170 : aOcheck_accuracy(\"food34/f170.csv\", f170),\n",
    "    204 : aOcheck_accuracy(\"food34/f204.csv\", f204)\n",
    "}\n",
    "\n",
    "print(\"\\n Weather 11 \\n\")\n",
    "weather11_counts = {\n",
    "    11 : aOcheck_accuracy(\"weather11/w11.csv\", w11),\n",
    "    22 : aOcheck_accuracy(\"weather11/w22.csv\", w22),\n",
    "    33 : aOcheck_accuracy(\"weather11/w33.csv\", w33),\n",
    "    44 : aOcheck_accuracy(\"weather11/w44.csv\", w44),\n",
    "    55 : aOcheck_accuracy(\"weather11/w55.csv\", w55),\n",
    "    66 : aOcheck_accuracy(\"weather11/w66.csv\", w66),\n",
    "    77 : aOcheck_accuracy(\"weather11/w77.csv\", w77)\n",
    "}\n",
    "\n",
    "print(\"\\n Sports 15 \\n\")\n",
    "sports15_counts = {\n",
    "    15 : aOcheck_accuracy(\"sports15/s15.csv\", s15),\n",
    "    30 : aOcheck_accuracy(\"sports15/s30.csv\", s30),\n",
    "    45 : aOcheck_accuracy(\"sports15/s45.csv\", s45),\n",
    "    60 : aOcheck_accuracy(\"sports15/s60.csv\", s60),\n",
    "    75 : aOcheck_accuracy(\"sports15/s75.csv\", s75),\n",
    "    90 : aOcheck_accuracy(\"sports15/s90.csv\", s90),\n",
    "    105 : aOcheck_accuracy(\"sports15/s105.csv\", s105)\n",
    "}"
   ]
  },
  {
   "cell_type": "markdown",
   "metadata": {},
   "source": [
    "# Graphing"
   ]
  },
  {
   "cell_type": "code",
   "execution_count": 136,
   "metadata": {},
   "outputs": [],
   "source": [
    "def append_accuracies(category_counts, label, color, marker):\n",
    "    amount_categories = []\n",
    "    accuracies = []\n",
    "\n",
    "    # Calculate accuracy for each category count\n",
    "    for count, accuracy in category_counts.items():\n",
    "        if isinstance(accuracy, list):\n",
    "            for each in accuracy:\n",
    "                amount_categories.append(count)\n",
    "                accuracies.append(each)\n",
    "        else:\n",
    "            amount_categories.append(count)\n",
    "            accuracies.append(accuracy)\n",
    "\n",
    "    # Debug print\n",
    "    print(len(amount_categories), len(accuracies))\n",
    "    \n",
    "    # Plot data with the specified label and color\n",
    "    plt.plot(amount_categories, accuracies, marker=marker, linestyle='None', color=color, label=label)\n"
   ]
  },
  {
   "cell_type": "markdown",
   "metadata": {},
   "source": [
    "## Graphs < 10"
   ]
  },
  {
   "cell_type": "code",
   "execution_count": 137,
   "metadata": {},
   "outputs": [],
   "source": [
    "# plt.figure(figsize=(10, 6))\n",
    "# plt.xlabel('Number of Categories')\n",
    "# plt.ylabel('Accuracy (%)')\n",
    "# plt.title('Accuracy vs. Number of Categories')\n",
    "# plt.grid()\n",
    "# plt.legend()\n",
    "\n",
    "# #Calling function\n",
    "# append_accuracies(aO_counts,\"Animals4\", \"blue\", \"o\")\n",
    "# append_accuracies(v7_counts,\"Vehicles7\", \"green\", \"^\")\n",
    "# append_accuracies(cd_counts,\"Cats vs Dogs\", \"red\", \"s\")\n",
    "# append_accuracies(card_counts,\"Cards4\", \"orange\", \"P\")\n",
    "\n",
    "\n",
    "# a4_patch = mpatches.Patch(color='blue', label='4 Animals')\n",
    "# v7_patch = mpatches.Patch(color='green', label='7 Vehicles')\n",
    "# cd_patch = mpatches.Patch(color='red', label='Cats vs Dogs')\n",
    "# card_patch = mpatches.Patch(color='orange', label='4 Suits of Cards')\n",
    "\n",
    "\n",
    "\n",
    "# plt.legend(handles=[a4_patch, v7_patch, cd_patch, card_patch])\n",
    "\n",
    "# #Axis ranges\n",
    "\n",
    "# # plt.xlim(0, 80)  \n",
    "# # plt.ylim(0, 100)\n",
    "\n",
    "# plt.show()"
   ]
  },
  {
   "cell_type": "markdown",
   "metadata": {},
   "source": [
    "## Initial Categories >= 10"
   ]
  },
  {
   "cell_type": "code",
   "execution_count": 138,
   "metadata": {},
   "outputs": [
    {
     "name": "stdout",
     "output_type": "stream",
     "text": [
      "7 7\n",
      "5 5\n",
      "10 10\n",
      "10 10\n",
      "10 10\n",
      "9 9\n",
      "6 6\n",
      "7 7\n",
      "7 7\n"
     ]
    },
    {
     "name": "stderr",
     "output_type": "stream",
     "text": [
      "/tmp/ipykernel_13524/1229026745.py:6: UserWarning: No artists with labels found to put in legend.  Note that artists whose label start with an underscore are ignored when legend() is called with no argument.\n",
      "  plt.legend()\n"
     ]
    },
    {
     "data": {
      "image/png": "[encoded data removed]",
      "text/plain": [
       "<Figure size 1000x600 with 1 Axes>"
      ]
     },
     "metadata": {},
     "output_type": "display_data"
    }
   ],
   "source": [
    "plt.figure(figsize=(10, 6))\n",
    "plt.xlabel('Number of Categories')\n",
    "plt.ylabel('Accuracy (%)')\n",
    "plt.title('Accuracy vs. Number of Categories')\n",
    "plt.grid()\n",
    "plt.legend()\n",
    "\n",
    "#Calling function\n",
    "append_accuracies(veg_counts,\"Vegetables15\", \"green\", \"D\")\n",
    "append_accuracies(animal80_counts,\"Animal80\", \"black\", \"X\")\n",
    "append_accuracies(food10_counts, \"food10\", \"blue\", \"*\" )\n",
    "append_accuracies(v20_counts,\"Vehicle20\", \"red\", \"^\")\n",
    "append_accuracies(flowers10_counts, \"flowers10\", \"purple\", \"P\")\n",
    "append_accuracies(fruits10_counts, \"fruits10\", \"orange\", \"o\")\n",
    "append_accuracies(food34_counts, \"food34\", \"yellow\", \"s\")\n",
    "append_accuracies(weather11_counts, \"weather11\", \"pink\", \"x\")\n",
    "append_accuracies(sports15_counts, \"sports15\", \"cyan\", \"D\")\n",
    "\n",
    "\n",
    "veg_patch = mpatches.Patch(color='green', label='15 Vegetables')\n",
    "a80_patch = mpatches.Patch(color='black', label='80 Animals')\n",
    "f10_patch = mpatches.Patch(color = 'blue', label='10 Foods')\n",
    "v20_patch = mpatches.Patch(color = 'red', label='20 Vehicles')\n",
    "fl10_patch = mpatches.Patch(color = 'purple', label='10 Flowers')\n",
    "fruits10_patch = mpatches.Patch(color = 'orange', label='10 Fruits')\n",
    "food34_patch = mpatches.Patch(color = 'yellow', label='34 Foods')\n",
    "weather11_patch = mpatches.Patch(color = 'pink', label='11 Weather')\n",
    "sports15_patch = mpatches.Patch(color = 'cyan', label='15 Sports')\n",
    "\n",
    "plt.legend(handles=[veg_patch, a80_patch, f10_patch, v20_patch, fl10_patch, \n",
    "                    fruits10_patch, food34_patch, weather11_patch, sports15_patch])\n",
    "\n",
    "#Axis ranges\n",
    "\n",
    "# plt.xlim(0, 80)  \n",
    "# plt.ylim(0, 100)\n",
    "\n",
    "plt.show()"
   ]
  }
 ],
 "metadata": {
  "kernelspec": {
   "display_name": ".venv",
   "language": "python",
   "name": "python3"
  },
  "language_info": {
   "codemirror_mode": {
    "name": "ipython",
    "version": 3
   },
   "file_extension": ".py",
   "mimetype": "text/x-python",
   "name": "python",
   "nbconvert_exporter": "python",
   "pygments_lexer": "ipython3",
   "version": "3.12.3"
  }
 },
 "nbformat": 4,
 "nbformat_minor": 2
}
